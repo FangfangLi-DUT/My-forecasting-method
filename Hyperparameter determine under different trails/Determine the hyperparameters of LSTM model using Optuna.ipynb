{
 "cells": [
  {
   "cell_type": "markdown",
   "metadata": {},
   "source": [
    "# Import package"
   ]
  },
  {
   "cell_type": "code",
   "execution_count": 1,
   "metadata": {},
   "outputs": [
    {
     "name": "stderr",
     "output_type": "stream",
     "text": [
      "\n",
      "Bad key \"nbagg.transparent\" on line 426 in\n",
      "D:\\anaconda\\lib\\site-packages\\matplotlib\\mpl-data\\stylelib\\_classic_test.mplstyle.\n",
      "You probably need to get an updated matplotlibrc file from\n",
      "https://github.com/matplotlib/matplotlib/blob/v3.2.2/matplotlibrc.template\n",
      "or from the matplotlib source distribution\n",
      "\n",
      "Bad key \"animation.mencoder_path\" on line 509 in\n",
      "D:\\anaconda\\lib\\site-packages\\matplotlib\\mpl-data\\stylelib\\_classic_test.mplstyle.\n",
      "You probably need to get an updated matplotlibrc file from\n",
      "https://github.com/matplotlib/matplotlib/blob/v3.2.2/matplotlibrc.template\n",
      "or from the matplotlib source distribution\n",
      "\n",
      "Bad key \"animation.mencoder_args\" on line 512 in\n",
      "D:\\anaconda\\lib\\site-packages\\matplotlib\\mpl-data\\stylelib\\_classic_test.mplstyle.\n",
      "You probably need to get an updated matplotlibrc file from\n",
      "https://github.com/matplotlib/matplotlib/blob/v3.2.2/matplotlibrc.template\n",
      "or from the matplotlib source distribution\n",
      "In D:\\anaconda\\lib\\site-packages\\matplotlib\\mpl-data\\stylelib\\_classic_test.mplstyle: \n",
      "The text.latex.unicode rcparam was deprecated in Matplotlib 3.0 and will be removed in 3.2.\n",
      "In D:\\anaconda\\lib\\site-packages\\matplotlib\\mpl-data\\stylelib\\_classic_test.mplstyle: \n",
      "The savefig.frameon rcparam was deprecated in Matplotlib 3.1 and will be removed in 3.3.\n",
      "In D:\\anaconda\\lib\\site-packages\\matplotlib\\mpl-data\\stylelib\\_classic_test.mplstyle: \n",
      "The pgf.debug rcparam was deprecated in Matplotlib 3.0 and will be removed in 3.2.\n",
      "In D:\\anaconda\\lib\\site-packages\\matplotlib\\mpl-data\\stylelib\\_classic_test.mplstyle: \n",
      "The verbose.level rcparam was deprecated in Matplotlib 3.1 and will be removed in 3.3.\n",
      "In D:\\anaconda\\lib\\site-packages\\matplotlib\\mpl-data\\stylelib\\_classic_test.mplstyle: \n",
      "The verbose.fileo rcparam was deprecated in Matplotlib 3.1 and will be removed in 3.3.\n",
      "Using TensorFlow backend.\n"
     ]
    }
   ],
   "source": [
    "import numpy as np\n",
    "from numpy import nan\n",
    "from numpy import isnan\n",
    "from numpy import split\n",
    "from numpy import array\n",
    "from numpy import concatenate\n",
    "\n",
    "import pandas as pd\n",
    "from pandas import read_csv\n",
    "from pandas import DataFrame\n",
    "from pandas import concat\n",
    "\n",
    "import matplotlib.pyplot as plt\n",
    "from matplotlib import pyplot\n",
    "from pylab import *\n",
    "plt.rcParams['font.sans-serif'] = ['SimHei']\n",
    "\n",
    "import math\n",
    "from math import sqrt\n",
    "\n",
    "import re\n",
    "import tqdm\n",
    "import random\n",
    "import os\n",
    "import itertools\n",
    "import argparse\n",
    "import joblib\n",
    "import xlrd\n",
    "from collections import defaultdict\n",
    "import copy\n",
    "\n",
    "from sklearn.metrics import mean_squared_log_error\n",
    "from sklearn.metrics import mean_squared_error\n",
    "from sklearn.preprocessing import LabelEncoder\n",
    "from sklearn.cluster import KMeans\n",
    "from sklearn import datasets\n",
    "\n",
    "import tensorflow as tf\n",
    "from tensorflow.keras.layers import *\n",
    "from tensorflow.keras.models import *\n",
    "import tensorflow.keras.backend as K\n",
    "from tensorflow.keras import optimizers\n",
    "\n",
    "import datetime\n",
    "import calendar\n",
    "import time\n",
    "from datetime import date,datetime\n",
    "\n",
    "import xgboost as xgb\n",
    "from xgboost import plot_importance, plot_tree\n",
    "\n",
    "import seaborn as sns\n",
    "import stats as sts#df2\n",
    "\n",
    "from scipy import stats\n",
    "from scipy.special import softmax\n",
    "\n",
    "from keras.models import load_model\n",
    "from keras.layers import RepeatVector\n",
    "from keras.layers import TimeDistributed\n",
    "\n",
    "import torch\n",
    "import torch.nn as nn"
   ]
  },
  {
   "cell_type": "markdown",
   "metadata": {},
   "source": [
    "# Load data"
   ]
  },
  {
   "cell_type": "code",
   "execution_count": 2,
   "metadata": {
    "scrolled": true
   },
   "outputs": [],
   "source": [
    "abc=30#表示30min为一段\n",
    "gdf0=pd.read_csv(r'F:\\博士科研资料\\博士开题及其素材\\加油站数据\\export11.csv',encoding='gb18030')\n",
    "gdf0['Time1'] = pd.to_datetime(gdf0['Time'],errors='coerce') \n",
    "gdf0['Hour'] = gdf0['Time1'].dt.hour.fillna(0).astype(\"int\")    #转化提取小时\n",
    "gdf0['Minute'] = gdf0['Time1'].dt.minute.fillna(0).astype(\"int\") #转化提取分钟\n",
    "gdf0['Hour']=gdf0['Hour'].astype(str)\n",
    "gdf0['Date'] = pd.to_datetime(gdf0['Date'])\n",
    "gdf0['T'] = gdf0['Hour'].apply(lambda x : int(x))+gdf0['Minute'].apply (lambda x :round(x/60,2))\n",
    "gdf0['volume'] = gdf0['volume']\n",
    "gdf0['MinuteLabel']=gdf0['Hour'].apply(lambda x : math.floor((int(x)*60)/abc))+gdf0['Minute'].apply (lambda x :math.floor(x/abc))#表示该时刻点属于哪个区间,因为有0，所以向下取整数\n",
    "day_name00=gdf0.groupby([\"NAME\"])         #\n",
    "for name,group in day_name00:#group是星期数一样的类目\n",
    "    if name=='92H':\n",
    "        df0=group\n",
    "df0=df0[df0['Date'] >= \"2020-06-01\"] \n",
    "df0= df0[~( df0['Date'].isin([\"2020-06-11\",\"2020-08-11\", \"2020-08-25\", \"2020-09-11\"]) )]###删除这些行，因为很多0"
   ]
  },
  {
   "cell_type": "markdown",
   "metadata": {},
   "source": [
    "# Data preprogressing"
   ]
  },
  {
   "cell_type": "code",
   "execution_count": 3,
   "metadata": {},
   "outputs": [
    {
     "name": "stderr",
     "output_type": "stream",
     "text": [
      "D:\\anaconda\\lib\\site-packages\\ipykernel_launcher.py:5: SettingWithCopyWarning: \n",
      "A value is trying to be set on a copy of a slice from a DataFrame.\n",
      "Try using .loc[row_indexer,col_indexer] = value instead\n",
      "\n",
      "See the caveats in the documentation: https://pandas.pydata.org/pandas-docs/stable/user_guide/indexing.html#returning-a-view-versus-a-copy\n",
      "  \"\"\"\n",
      "D:\\anaconda\\lib\\site-packages\\ipykernel_launcher.py:6: SettingWithCopyWarning: \n",
      "A value is trying to be set on a copy of a slice from a DataFrame.\n",
      "Try using .loc[row_indexer,col_indexer] = value instead\n",
      "\n",
      "See the caveats in the documentation: https://pandas.pydata.org/pandas-docs/stable/user_guide/indexing.html#returning-a-view-versus-a-copy\n",
      "  \n",
      "D:\\anaconda\\lib\\site-packages\\ipykernel_launcher.py:8: SettingWithCopyWarning: \n",
      "A value is trying to be set on a copy of a slice from a DataFrame.\n",
      "Try using .loc[row_indexer,col_indexer] = value instead\n",
      "\n",
      "See the caveats in the documentation: https://pandas.pydata.org/pandas-docs/stable/user_guide/indexing.html#returning-a-view-versus-a-copy\n",
      "  \n",
      "D:\\anaconda\\lib\\site-packages\\ipykernel_launcher.py:12: SettingWithCopyWarning: \n",
      "A value is trying to be set on a copy of a slice from a DataFrame.\n",
      "Try using .loc[row_indexer,col_indexer] = value instead\n",
      "\n",
      "See the caveats in the documentation: https://pandas.pydata.org/pandas-docs/stable/user_guide/indexing.html#returning-a-view-versus-a-copy\n",
      "  if sys.path[0] == '':\n",
      "D:\\anaconda\\lib\\site-packages\\pandas\\core\\indexing.py:1763: SettingWithCopyWarning: \n",
      "A value is trying to be set on a copy of a slice from a DataFrame.\n",
      "Try using .loc[row_indexer,col_indexer] = value instead\n",
      "\n",
      "See the caveats in the documentation: https://pandas.pydata.org/pandas-docs/stable/user_guide/indexing.html#returning-a-view-versus-a-copy\n",
      "  isetter(loc, value)\n"
     ]
    },
    {
     "name": "stdout",
     "output_type": "stream",
     "text": [
      "(207441, 10)\n"
     ]
    },
    {
     "name": "stderr",
     "output_type": "stream",
     "text": [
      "D:\\anaconda\\lib\\site-packages\\ipykernel_launcher.py:17: SettingWithCopyWarning: \n",
      "A value is trying to be set on a copy of a slice from a DataFrame.\n",
      "Try using .loc[row_indexer,col_indexer] = value instead\n",
      "\n",
      "See the caveats in the documentation: https://pandas.pydata.org/pandas-docs/stable/user_guide/indexing.html#returning-a-view-versus-a-copy\n",
      "D:\\anaconda\\lib\\site-packages\\ipykernel_launcher.py:18: SettingWithCopyWarning: \n",
      "A value is trying to be set on a copy of a slice from a DataFrame.\n",
      "Try using .loc[row_indexer,col_indexer] = value instead\n",
      "\n",
      "See the caveats in the documentation: https://pandas.pydata.org/pandas-docs/stable/user_guide/indexing.html#returning-a-view-versus-a-copy\n"
     ]
    }
   ],
   "source": [
    "DFStockOut=df0.iloc[:,[6,7,11,3,10,12]]\n",
    "c=3\n",
    "a=DFStockOut.shape[1]\n",
    "ReStartStock=13790#10000#该变量表示补货到达后的初始库存\n",
    "DFStockOut['OurLeaveStock']=DFStockOut['Date'].apply(lambda x : ReStartStock)#6\n",
    "DFStockOut['OurBuHuoStart']=DFStockOut['Date'].apply(lambda x : 0)#补货触发时刻7\n",
    "b=a+1\n",
    "DFStockOut['Date']=pd.to_datetime(DFStockOut['Date'])\n",
    "\n",
    "StockOutTime=[]\n",
    "DHCS1=0#表示订货次数\n",
    "DFStockOut['AllMinutes']=DFStockOut['MinuteLabel'].apply(lambda x: time.strftime(\"%H:%M:%S\", time.gmtime( float((x+1)*abc*60))))\n",
    "#将秒转换为时分秒的形式\n",
    "for i in range(DFStockOut.shape[0]):\n",
    "    if DFStockOut.iloc[i,-1]==\"00:00:00\":\n",
    "        DFStockOut.iloc[i,-1]=\"23:59:00\"  ###1月20日0:00:00表示的是1月20日24:00:00,而无法取24h，所以设为23.59   \n",
    "DFStockOut['timestamp']=DFStockOut['Date'].astype('str')+ ' ' + DFStockOut['AllMinutes'].astype('str')\n",
    "DFStockOut['timestamp'] = pd.to_datetime(DFStockOut['timestamp'])#pd.to_datetime它无法转换\n",
    "print(DFStockOut.shape)#(321121, 9)"
   ]
  },
  {
   "cell_type": "code",
   "execution_count": 4,
   "metadata": {},
   "outputs": [],
   "source": [
    "df2 = df0.groupby([\"Date\",\"MinuteLabel\"])['volume'].sum().reset_index(name ='UnitSales')#只留下小时销量数据\n",
    "df2['Date'] = pd.to_datetime(df2['Date']) \n",
    "df2['Month_id']=df2['Date'].dt.month\n",
    "df2['weekday'] = df2['Date'].apply(lambda time: time.dayofweek)\n",
    "df2['MinuteLabel']=df2['MinuteLabel'].astype(str)\n",
    "df2['weekday_hour'] = df2.weekday.astype(str) +' '+ df2.MinuteLabel.astype(str)\n",
    "df2['m_weekday'] = df2.weekday_hour.replace(df2[:].groupby('weekday_hour')['UnitSales'].mean().to_dict())\n",
    "init1 = df2.m_weekday[:].apply(np.log).values#均值取对数df5['UnitSales'\n",
    "df2['PreproccessUnitSales'] =df2.UnitSales[:].apply(np.log).values - init1#数取对数-均值的对数\n",
    "dfghu=df2.sort_values(by=['UnitSales'],ascending=[True]) \n",
    "df2['UnitSales']=df2['UnitSales'].apply(lambda x: (x-dfghu.iloc[0,2])/(dfghu.iloc[dfghu.shape[0]-1,2]-dfghu.iloc[0,2]))\n",
    "df2['MinuteLabel']=df2['MinuteLabel'].astype(int)#"
   ]
  },
  {
   "cell_type": "code",
   "execution_count": 5,
   "metadata": {},
   "outputs": [],
   "source": [
    "idx=list(range(0,int(24*60/abc)))                                                         \n",
    "i=0\n",
    "colorSet=['cyan','g','palegreen','c','lime','tomato','r']\n",
    "DayName=['Mony','Tues','Wednes', 'Thurs', 'Fri', 'Satur', 'Sun']\n",
    "days = [\"Monday\", \"Tuesday\", \"Wednesday\", \"Thursday\", \"Friday\", \"Saturday\", \"Sunday\"]\n",
    "day_name=df2.groupby([\"weekday\"])         #\n",
    "for name,group in day_name:#group是星期数一样的类目\n",
    "    group1=group.groupby([\"Date\"])\n",
    "    j=0\n",
    "    for name,group2 in group1:#group2是星期数、日期数一样的类目，即一天  \n",
    "         #display(group2.head(13))\n",
    "         group2=group2.sort_values(by=['MinuteLabel'],ascending=True,na_position='first')  # 按时间排序                  \n",
    "         group2 = group2.set_index('MinuteLabel')#group2设置索引为Hour         \n",
    "         group2 = group2.reindex(idx, fill_value=0)\n",
    "         group2['MinuteLabel'] = group2.index          \n",
    "         group2['Date']=name\n",
    "         group2['weekday'] = group2['Date'].apply(lambda time: time.dayofweek)\n",
    "         group2['day_name']=group2['weekday'].apply (lambda x : days[x])\n",
    "         if i==0 and j==0:\n",
    "            df3=group2\n",
    "         else:      \n",
    "            df3=pd.concat([df3,group2], axis=0, ignore_index=True)#axis:合并方式，默认0表示按列合并，1表示按行合并;ignore_index:是否忽略索引                           \n",
    "         j=j+1\n",
    "    i=i+1\n",
    "df3=df3.sort_values(by=['Date','MinuteLabel'],ascending=[True,True]) #df3是没有的，用0不足的dataframe\n",
    "df3['HourLabel']=df3['MinuteLabel'].apply(lambda x: math.floor(x*abc/60))"
   ]
  },
  {
   "cell_type": "code",
   "execution_count": 6,
   "metadata": {},
   "outputs": [],
   "source": [
    "df5=df3.iloc[:,:]\n",
    "df3['HourLabel']=df3['HourLabel'].astype(int)\n",
    "df5['weekday'] = df5.Date.dt.weekday\n",
    "df5['weekday_hour'] = df5.weekday.astype(str) +' '+ df5.HourLabel.astype(str)\n",
    "df5['m_weekday'] = df5.weekday_hour.replace(df5[:].groupby('weekday_hour')['UnitSales'].mean().to_dict())\n",
    "df5.to_csv('hour_Demand_consumption.csv')\n",
    "df5['AllMinutes']=df5['MinuteLabel'].apply(lambda x: time.strftime(\"%H:%M:%S\", time.gmtime( float((x+1)*abc*60))))\n",
    "for i in range(df5.shape[0]):\n",
    "    if df5.loc[i,'AllMinutes']==\"00:00:00\": \n",
    "        df5.loc[i,'AllMinutes']=\"23:59:00\"  ###1月20日0:00:00表示的是1月20日24:00:00,而无法取24h，所以设为23.59\n",
    "\n",
    "df = pd.DataFrame(columns=['timestamp', 'value'])###初始化\n",
    "df['timestamp']=df5['Date'].astype('str')+ ' ' + df5['AllMinutes'].astype('str')\n",
    "df['timestamp'] = pd.to_datetime(df['timestamp'])#为什么成了选取偶数\n",
    "df['value']=df5['UnitSales']\n",
    "df=df.sort_values(by=['timestamp'],ascending=[True]) \n",
    "df['Date']=df['timestamp'].apply(lambda x: x.strftime(\"%Y-%m-%d\"))#提取时间戳中的日期\n",
    "df['MinuteLabel']=df5['MinuteLabel']\n",
    "df['yr'] = df.timestamp.dt.year\n",
    "df['mt'] = df.timestamp.dt.month\n",
    "df['d'] = df.timestamp.dt.day\n",
    "df['H'] = df5['HourLabel']\n",
    "df['Mi'] = df5['MinuteLabel']#表示第几个单位时间\n",
    "df['weekday'] = df.timestamp.dt.weekday\n",
    "df['weekday_hour'] = df.weekday.astype(str) +' '+ df.Mi.astype(str)\n",
    "df['m_weekday'] = df.weekday_hour.replace(df[:].groupby('weekday_hour')['value'].mean().to_dict())\n",
    "df=df.sort_values(by=['timestamp','Mi'],ascending=[True,True]) #df3是没有的，用0不足的dataframe"
   ]
  },
  {
   "cell_type": "markdown",
   "metadata": {},
   "source": [
    "# Parameter sensitivity experiment"
   ]
  },
  {
   "cell_type": "markdown",
   "metadata": {},
   "source": [
    "## Define functions"
   ]
  },
  {
   "cell_type": "code",
   "execution_count": 7,
   "metadata": {},
   "outputs": [],
   "source": [
    "###00数据裂变划分,用于自定义函数DataPreprogress(df)\n",
    "def to_supervised2(data, n_input, n_out):#数据裂变划分\n",
    "    #将所有数据转换为输入(X[..,len(x_input),1])、y[..,len(data[in_end:out_end, 0])]\n",
    "    X, y = list(), list()\n",
    "    in_start = 0\n",
    "    for _ in range(len(data)):# 逐步遍历整个历史数据\n",
    "        in_end = in_start + n_input## 定义输入序列的结束点\n",
    "        out_end = in_end + n_out\n",
    "        if out_end < (len(data)+1):# 确保有足够的数据\n",
    "            x_input = data[in_start:in_end, 0]\n",
    "            x_input = x_input.reshape((len(x_input), 1))\n",
    "            X.append(x_input)\n",
    "            y.append(data[in_end:out_end, 0])\n",
    "        in_start += 1    # 依次推进时间\n",
    "    return array(X), array(y)\n",
    "###01前期数据准备\n",
    "def DataPreprogress(df):\n",
    "    init1 = df.m_weekday[:].apply(lambda x: 0).values#均值取对数\n",
    "    label1 = df.value[:].values - init1#没必要取对数吧\n",
    "    Date1=df.timestamp[:]#获得对应时间戳\n",
    "    label1=np.array(label1).reshape(len(label1),1)#1维变2维\n",
    "    init1=np.array(init1).reshape(len(init1),1)#1维变2维\n",
    "    Date1=np.array(Date1).reshape(len(Date1),1)\n",
    "    Xx, Yy = to_supervised2(label1, n_input, n_out)#准备数据#00\n",
    "    Date1Xx, Date1Yy = to_supervised2(Date1, n_input, n_out)#准备数据#00\n",
    "    initXx, initYy = to_supervised2(init1, n_input, n_out)#准备数据#00\n",
    "    return init1,label1,Date1,Xx, Yy,Date1Xx, Date1Yy,initXx,initYy\n",
    "###02将数据分为测试组和训练组\n",
    "def split_dataset2(x,y):# split a univariate dataset into train/test sets\n",
    "    train_x, test_x = x[:SplitNum], x[SplitNum:]\n",
    "    train_y, test_y = y[:SplitNum], y[SplitNum:]\n",
    "    return train_x, test_x,train_y, test_y"
   ]
  },
  {
   "cell_type": "code",
   "execution_count": 8,
   "metadata": {},
   "outputs": [],
   "source": [
    "###02 基于01模型进行预测\n",
    "def forecast2(model, test_x,inittest_y):#基于model，得到预测值y\n",
    "    input_x = array(test_x)\n",
    "    input_x = input_x.reshape((1, len(input_x), 1))# reshape into [1, n_input, 1]\n",
    "    pred_00=[]\n",
    "    predd = model.predict(input_x, verbose=0)    \n",
    "    predd = predd[0]# we only want the vector forecast\n",
    "    predd = predd.reshape((len(predd), 1))\n",
    "    pred_00.append(predd)\n",
    "    pred_00 = np.asarray(pred_00)[:,:,0] \n",
    "    pred_00_m = (pred_00[0]+ inittest_y[:])*(dfghu.iloc[dfghu.shape[0]-1,2]-dfghu.iloc[0,2])+dfghu.iloc[0,2]\n",
    "    return pred_00_m\n",
    "\n",
    "###03,测试部分,基于预测模型得到预测值\n",
    "def PredictValueTest(model,test_x,inittest_y):\n",
    "    ii=0#表示model1_list\n",
    "    predictionspredList=[]#得到多个分位数预测模型、不同重复次数下的预测值集合（predictionspredList）\n",
    "    for ij in range(len(test_x)):\n",
    "        pred = forecast2(model,test_x[ij,:], inittest_y[ij,:])#得到预测值\n",
    "        predictionspredList.append(pred)\n",
    "    predictionspredList = array(predictionspredList)#list转换为数组\n",
    "    return  predictionspredList"
   ]
  },
  {
   "cell_type": "code",
   "execution_count": 9,
   "metadata": {},
   "outputs": [],
   "source": [
    "#03评估预测误差\n",
    "def evaluate_forecasts1(actual, predicted):#返回预测值的总RMSE以及每天RMSE的列表\n",
    "    scores = list() \n",
    "    for i in range(actual.shape[1]):\n",
    "        mse = mean_squared_error(actual[:, i], predicted[:, i])#计算MSE\n",
    "        rmse = sqrt(mse)#计算RMSE\n",
    "        scores.append(rmse)#计算每个预测值的RMSE,存放在列表#这个现在来看没有多大意义，因为不是同一个时刻,表示向前1步、2步、几步的预测效果\n",
    "    s = 0\n",
    "    sMAE = 0\n",
    "    sMAPE = 0\n",
    "    RMSE1=list()\n",
    "    for row in range(actual.shape[0]):\n",
    "        ss=0\n",
    "        for col in range(actual.shape[1]):\n",
    "            s += (actual[row, col] - predicted[row, col]) ** 2\n",
    "            ss+= (actual[row, col] - predicted[row, col]) ** 2\n",
    "            sMAE+= np.abs(actual[row, col] - predicted[row, col])\n",
    "            sMAPE+= np.abs((actual[row, col] - predicted[row, col])/actual[row, col])\n",
    "        RMSE1.append(sqrt(ss/actual.shape[1]))##每一组的RMSE\n",
    "    AllNum=actual.shape[0] * actual.shape[1]\n",
    "    AllRMSE = sqrt(s / AllNum)#计算所有值的RMSE\n",
    "    AllMSE = s / AllNum#计算所有值的RMSE\n",
    "    AllMAE =sMAE/AllNum\n",
    "    AllMAPE =sMAPE/AllNum  \n",
    "    name='[Num]/RMSE/MSE/MAE/MAPE/q_loss'\n",
    "    SingPredictscores = list() \n",
    "    SingPredictscores.append(AllRMSE)\n",
    "    SingPredictscores.append(AllMSE)\n",
    "    SingPredictscores.append(AllMAE)\n",
    "    SingPredictscores.append(AllMAPE)\n",
    "    SingPredictscores = ', '.join(['%.1f' % s for s in SingPredictscores])\n",
    "    return AllRMSE,scores,AllMSE,AllMAE,AllMAPE,AllNum\n",
    "###06\n",
    "def summarize_scores(name, score, scores):#总结分数\n",
    "    s_scores = ', '.join(['%.1f' % s for s in scores])\n",
    "\n",
    "###04 测试部分，预测结果的传统评价\n",
    "def  ValueTest(test_y,inittest_y,predictionspredI):\n",
    "    test_y1=test_y.copy()## 对原始的array1的复制\n",
    "    for i in range(test_y.shape[0]):\n",
    "        test_y1[i, :]=(test_y[i, :] + inittest_y[i,:])*(dfghu.iloc[dfghu.shape[0]-1,2]-dfghu.iloc[0,2])+dfghu.iloc[0,2]#不用求exp啦\n",
    "    PredictScresSet=[]\n",
    "    AllRMSE,scores,AllMSE,AllMAE,AllMAPE,AllNum=evaluate_forecasts1(test_y1[:, :], predictionspredI)\n",
    "    PredictScresSet.append(AllRMSE)\n",
    "    PredictScresSet.append(AllMSE)\n",
    "    PredictScresSet.append(AllMAE)\n",
    "    PredictScresSet.append(AllMAPE)\n",
    "    PredictScresSet.append(AllNum)\n",
    "    days = range(n_out)\n",
    "    return PredictScresSet"
   ]
  },
  {
   "cell_type": "code",
   "execution_count": 10,
   "metadata": {},
   "outputs": [],
   "source": [
    "def run(trial):\n",
    "    space = {        \n",
    "        'optimizer':  trial.suggest_categorical('optimizer', [optimizers.Adam]),\n",
    "        'units': trial.suggest_int('units', 5, 500, 5),\n",
    "        'epochs': trial.suggest_int('epochs', 10, 100, 10),\n",
    "        'batch_size': trial.suggest_categorical('batch_size', [8,16, 32, 64, 128, 256, 512]),\n",
    "        'learning_rate': trial.suggest_loguniform('learning_rate', 1e-3, 8e-1) }\n",
    "    model_list = []\n",
    "    #for i in range(repeats):\n",
    "    tf.random.set_seed(33)\n",
    "    tf.random.set_seed(33)\n",
    "    os.environ['PYTHONHASHSEED'] = str(33)\n",
    "    np.random.seed(33)\n",
    "    session_conf = tf.compat.v1.ConfigProto(\n",
    "    intra_op_parallelism_threads=1, \n",
    "    inter_op_parallelism_threads=1)\n",
    "    sess = tf.compat.v1.Session(\n",
    "    graph=tf.compat.v1.get_default_graph(), \n",
    "    config=session_conf)\n",
    "    tf.compat.v1.keras.backend.set_session(sess)    \n",
    "    n_timesteps, n_features, n_outputs = train_x.shape[1], train_x.shape[2], train_y.shape[1]\n",
    "    model = Sequential()# define model\n",
    "    model.add(LSTM(units=space['units'], activation='relu', input_shape=(n_timesteps, n_features)))\n",
    "    ###200表示隐藏状态维度\n",
    "    model.add(Dense(n_outputs))\n",
    "    model.compile(optimizer=space['optimizer'](learning_rate=space['learning_rate']), loss='mse')  # 平均误差损失\n",
    "    history = model.fit(train_x, train_y, epochs=space['epochs'], batch_size=space['batch_size'], verbose=0, shuffle=False)   \n",
    "    predictionspredList=PredictValueTest(model,test_x,inittest_y)\n",
    "    PointredictScresSet0=ValueTest(test_y,inittest_y,predictionspredList)\n",
    "    model.summary()\n",
    "    p1 = pyplot.plot(history.history['loss'], color='blue', label='train')#画出学习过程\n",
    "    model_list.append(model)#保存model\n",
    "    print('PointredictScresSet0[0]',PointredictScresSet0[0])\n",
    "    return PointredictScresSet0[0]\n"
   ]
  },
  {
   "cell_type": "markdown",
   "metadata": {},
   "source": [
    "## Data split"
   ]
  },
  {
   "cell_type": "code",
   "execution_count": 23,
   "metadata": {},
   "outputs": [
    {
     "name": "stdout",
     "output_type": "stream",
     "text": [
      "len(train_x), len(test_x),len(train_y), len(test_y) 6956 3117 6956 3117\n",
      "10073 10073\n"
     ]
    }
   ],
   "source": [
    "###定义参数取值\n",
    "n_input =4\n",
    "n_out = 4\n",
    "global SplitNum\n",
    "SplitNum=int((df.shape[0]/int(24*60/abc))*0.7)*int(24*60/abc)-n_input-48*2\n",
    "###00前期数据准备\n",
    "init1,label1,Date1,Xx, Yy,Date1Xx, Date1Yy,initXx, initYy=DataPreprogress(df)\n",
    "##数据拆分\n",
    "train_x, test_x,train_y, test_y = split_dataset2(Xx, Yy)#01\n",
    "print('len(train_x), len(test_x),len(train_y), len(test_y)',len(train_x), len(test_x),len(train_y), len(test_y))\n",
    "print(len(Xx), len(Yy))\n",
    "inittrain_x, inittest_x,inittrain_y, inittest_y = split_dataset2(initXx, initYy)#01\n",
    "Datetrain_x, Datetest_x,Datetrain_y, Datetest_y = split_dataset2(Date1Xx, Date1Yy)#01"
   ]
  },
  {
   "cell_type": "code",
   "execution_count": 24,
   "metadata": {},
   "outputs": [
    {
     "name": "stdout",
     "output_type": "stream",
     "text": [
      " Datetest_y [0] ['2020-10-28T00:30:00.000000000' '2020-10-28T01:00:00.000000000'\n",
      " '2020-10-28T01:30:00.000000000' '2020-10-28T02:00:00.000000000']\n"
     ]
    }
   ],
   "source": [
    "print(' Datetest_y [0]',Datetest_y [0])"
   ]
  },
  {
   "cell_type": "markdown",
   "metadata": {},
   "source": [
    "## Concrete hyperparameters based on optuna "
   ]
  },
  {
   "cell_type": "code",
   "execution_count": 25,
   "metadata": {},
   "outputs": [],
   "source": [
    "import optuna\n",
    "from optuna.visualization.matplotlib import plot_optimization_history\n",
    "from optuna.visualization.matplotlib import plot_param_importances"
   ]
  },
  {
   "cell_type": "code",
   "execution_count": 26,
   "metadata": {
    "scrolled": true
   },
   "outputs": [
    {
     "name": "stderr",
     "output_type": "stream",
     "text": [
      "\u001b[32m[I 2022-11-09 09:33:16,057]\u001b[0m A new study created in memory with name: no-name-bb95589e-3fb4-4d9c-a9b4-5b5a606b20da\u001b[0m\n",
      "D:\\anaconda\\lib\\site-packages\\optuna\\distributions.py:427: UserWarning:\n",
      "\n",
      "Choices for a categorical distribution should be a tuple of None, bool, int, float and str for persistent storage but contains <class 'tensorflow.python.keras.optimizer_v2.adam.Adam'> which is of type ABCMeta.\n",
      "\n",
      "\u001b[32m[I 2022-11-09 09:34:11,331]\u001b[0m Trial 0 finished with value: 277.59127109914937 and parameters: {'optimizer': <class 'tensorflow.python.keras.optimizer_v2.adam.Adam'>, 'units': 105, 'epochs': 40, 'batch_size': 512, 'learning_rate': 0.005227708212485873}. Best is trial 0 with value: 277.59127109914937.\u001b[0m\n"
     ]
    },
    {
     "name": "stdout",
     "output_type": "stream",
     "text": [
      "Model: \"sequential\"\n",
      "_________________________________________________________________\n",
      "Layer (type)                 Output Shape              Param #   \n",
      "=================================================================\n",
      "lstm (LSTM)                  (None, 105)               44940     \n",
      "_________________________________________________________________\n",
      "dense (Dense)                (None, 4)                 424       \n",
      "=================================================================\n",
      "Total params: 45,364\n",
      "Trainable params: 45,364\n",
      "Non-trainable params: 0\n",
      "_________________________________________________________________\n",
      "PointredictScresSet0[0] 277.59127109914937\n"
     ]
    },
    {
     "name": "stderr",
     "output_type": "stream",
     "text": [
      "D:\\anaconda\\lib\\site-packages\\optuna\\distributions.py:427: UserWarning:\n",
      "\n",
      "Choices for a categorical distribution should be a tuple of None, bool, int, float and str for persistent storage but contains <class 'tensorflow.python.keras.optimizer_v2.adam.Adam'> which is of type ABCMeta.\n",
      "\n",
      "\u001b[32m[I 2022-11-09 09:35:45,036]\u001b[0m Trial 1 finished with value: 276.8594735749174 and parameters: {'optimizer': <class 'tensorflow.python.keras.optimizer_v2.adam.Adam'>, 'units': 420, 'epochs': 30, 'batch_size': 256, 'learning_rate': 0.01578737359558623}. Best is trial 1 with value: 276.8594735749174.\u001b[0m\n"
     ]
    },
    {
     "name": "stdout",
     "output_type": "stream",
     "text": [
      "Model: \"sequential_1\"\n",
      "_________________________________________________________________\n",
      "Layer (type)                 Output Shape              Param #   \n",
      "=================================================================\n",
      "lstm_1 (LSTM)                (None, 420)               708960    \n",
      "_________________________________________________________________\n",
      "dense_1 (Dense)              (None, 4)                 1684      \n",
      "=================================================================\n",
      "Total params: 710,644\n",
      "Trainable params: 710,644\n",
      "Non-trainable params: 0\n",
      "_________________________________________________________________\n",
      "PointredictScresSet0[0] 276.8594735749174\n"
     ]
    },
    {
     "name": "stderr",
     "output_type": "stream",
     "text": [
      "D:\\anaconda\\lib\\site-packages\\optuna\\distributions.py:427: UserWarning:\n",
      "\n",
      "Choices for a categorical distribution should be a tuple of None, bool, int, float and str for persistent storage but contains <class 'tensorflow.python.keras.optimizer_v2.adam.Adam'> which is of type ABCMeta.\n",
      "\n",
      "\u001b[32m[I 2022-11-09 09:40:19,851]\u001b[0m Trial 2 finished with value: 290.4351889952334 and parameters: {'optimizer': <class 'tensorflow.python.keras.optimizer_v2.adam.Adam'>, 'units': 230, 'epochs': 90, 'batch_size': 8, 'learning_rate': 0.03139601904256162}. Best is trial 1 with value: 276.8594735749174.\u001b[0m\n"
     ]
    },
    {
     "name": "stdout",
     "output_type": "stream",
     "text": [
      "Model: \"sequential_2\"\n",
      "_________________________________________________________________\n",
      "Layer (type)                 Output Shape              Param #   \n",
      "=================================================================\n",
      "lstm_2 (LSTM)                (None, 230)               213440    \n",
      "_________________________________________________________________\n",
      "dense_2 (Dense)              (None, 4)                 924       \n",
      "=================================================================\n",
      "Total params: 214,364\n",
      "Trainable params: 214,364\n",
      "Non-trainable params: 0\n",
      "_________________________________________________________________\n",
      "PointredictScresSet0[0] 290.4351889952334\n"
     ]
    },
    {
     "name": "stderr",
     "output_type": "stream",
     "text": [
      "D:\\anaconda\\lib\\site-packages\\optuna\\distributions.py:427: UserWarning:\n",
      "\n",
      "Choices for a categorical distribution should be a tuple of None, bool, int, float and str for persistent storage but contains <class 'tensorflow.python.keras.optimizer_v2.adam.Adam'> which is of type ABCMeta.\n",
      "\n",
      "\u001b[32m[I 2022-11-09 09:43:21,241]\u001b[0m Trial 3 finished with value: 273.51338439019923 and parameters: {'optimizer': <class 'tensorflow.python.keras.optimizer_v2.adam.Adam'>, 'units': 430, 'epochs': 90, 'batch_size': 128, 'learning_rate': 0.003015345364332576}. Best is trial 3 with value: 273.51338439019923.\u001b[0m\n"
     ]
    },
    {
     "name": "stdout",
     "output_type": "stream",
     "text": [
      "Model: \"sequential_3\"\n",
      "_________________________________________________________________\n",
      "Layer (type)                 Output Shape              Param #   \n",
      "=================================================================\n",
      "lstm_3 (LSTM)                (None, 430)               743040    \n",
      "_________________________________________________________________\n",
      "dense_3 (Dense)              (None, 4)                 1724      \n",
      "=================================================================\n",
      "Total params: 744,764\n",
      "Trainable params: 744,764\n",
      "Non-trainable params: 0\n",
      "_________________________________________________________________\n",
      "PointredictScresSet0[0] 273.51338439019923\n"
     ]
    },
    {
     "name": "stderr",
     "output_type": "stream",
     "text": [
      "D:\\anaconda\\lib\\site-packages\\optuna\\distributions.py:427: UserWarning:\n",
      "\n",
      "Choices for a categorical distribution should be a tuple of None, bool, int, float and str for persistent storage but contains <class 'tensorflow.python.keras.optimizer_v2.adam.Adam'> which is of type ABCMeta.\n",
      "\n",
      "\u001b[32m[I 2022-11-09 09:44:39,009]\u001b[0m Trial 4 finished with value: 271.88233844991595 and parameters: {'optimizer': <class 'tensorflow.python.keras.optimizer_v2.adam.Adam'>, 'units': 75, 'epochs': 80, 'batch_size': 32, 'learning_rate': 0.0013286349239447087}. Best is trial 4 with value: 271.88233844991595.\u001b[0m\n"
     ]
    },
    {
     "name": "stdout",
     "output_type": "stream",
     "text": [
      "Model: \"sequential_4\"\n",
      "_________________________________________________________________\n",
      "Layer (type)                 Output Shape              Param #   \n",
      "=================================================================\n",
      "lstm_4 (LSTM)                (None, 75)                23100     \n",
      "_________________________________________________________________\n",
      "dense_4 (Dense)              (None, 4)                 304       \n",
      "=================================================================\n",
      "Total params: 23,404\n",
      "Trainable params: 23,404\n",
      "Non-trainable params: 0\n",
      "_________________________________________________________________\n",
      "PointredictScresSet0[0] 271.88233844991595\n"
     ]
    },
    {
     "name": "stderr",
     "output_type": "stream",
     "text": [
      "D:\\anaconda\\lib\\site-packages\\optuna\\distributions.py:427: UserWarning:\n",
      "\n",
      "Choices for a categorical distribution should be a tuple of None, bool, int, float and str for persistent storage but contains <class 'tensorflow.python.keras.optimizer_v2.adam.Adam'> which is of type ABCMeta.\n",
      "\n",
      "\u001b[32m[I 2022-11-09 09:45:36,096]\u001b[0m Trial 5 finished with value: 277.1090096147014 and parameters: {'optimizer': <class 'tensorflow.python.keras.optimizer_v2.adam.Adam'>, 'units': 135, 'epochs': 40, 'batch_size': 256, 'learning_rate': 0.03811830742957212}. Best is trial 4 with value: 271.88233844991595.\u001b[0m\n"
     ]
    },
    {
     "name": "stdout",
     "output_type": "stream",
     "text": [
      "Model: \"sequential_5\"\n",
      "_________________________________________________________________\n",
      "Layer (type)                 Output Shape              Param #   \n",
      "=================================================================\n",
      "lstm_5 (LSTM)                (None, 135)               73980     \n",
      "_________________________________________________________________\n",
      "dense_5 (Dense)              (None, 4)                 544       \n",
      "=================================================================\n",
      "Total params: 74,524\n",
      "Trainable params: 74,524\n",
      "Non-trainable params: 0\n",
      "_________________________________________________________________\n",
      "PointredictScresSet0[0] 277.1090096147014\n"
     ]
    },
    {
     "name": "stderr",
     "output_type": "stream",
     "text": [
      "D:\\anaconda\\lib\\site-packages\\optuna\\distributions.py:427: UserWarning:\n",
      "\n",
      "Choices for a categorical distribution should be a tuple of None, bool, int, float and str for persistent storage but contains <class 'tensorflow.python.keras.optimizer_v2.adam.Adam'> which is of type ABCMeta.\n",
      "\n",
      "\u001b[32m[I 2022-11-09 09:47:05,195]\u001b[0m Trial 6 finished with value: 275.93887788622595 and parameters: {'optimizer': <class 'tensorflow.python.keras.optimizer_v2.adam.Adam'>, 'units': 275, 'epochs': 50, 'batch_size': 512, 'learning_rate': 0.031620483157598016}. Best is trial 4 with value: 271.88233844991595.\u001b[0m\n"
     ]
    },
    {
     "name": "stdout",
     "output_type": "stream",
     "text": [
      "Model: \"sequential_6\"\n",
      "_________________________________________________________________\n",
      "Layer (type)                 Output Shape              Param #   \n",
      "=================================================================\n",
      "lstm_6 (LSTM)                (None, 275)               304700    \n",
      "_________________________________________________________________\n",
      "dense_6 (Dense)              (None, 4)                 1104      \n",
      "=================================================================\n",
      "Total params: 305,804\n",
      "Trainable params: 305,804\n",
      "Non-trainable params: 0\n",
      "_________________________________________________________________\n",
      "PointredictScresSet0[0] 275.93887788622595\n"
     ]
    },
    {
     "name": "stderr",
     "output_type": "stream",
     "text": [
      "D:\\anaconda\\lib\\site-packages\\optuna\\distributions.py:427: UserWarning:\n",
      "\n",
      "Choices for a categorical distribution should be a tuple of None, bool, int, float and str for persistent storage but contains <class 'tensorflow.python.keras.optimizer_v2.adam.Adam'> which is of type ABCMeta.\n",
      "\n",
      "\u001b[32m[I 2022-11-09 09:57:54,553]\u001b[0m Trial 7 finished with value: 271.52210771717466 and parameters: {'optimizer': <class 'tensorflow.python.keras.optimizer_v2.adam.Adam'>, 'units': 480, 'epochs': 100, 'batch_size': 16, 'learning_rate': 0.010804856227396378}. Best is trial 7 with value: 271.52210771717466.\u001b[0m\n"
     ]
    },
    {
     "name": "stdout",
     "output_type": "stream",
     "text": [
      "Model: \"sequential_7\"\n",
      "_________________________________________________________________\n",
      "Layer (type)                 Output Shape              Param #   \n",
      "=================================================================\n",
      "lstm_7 (LSTM)                (None, 480)               925440    \n",
      "_________________________________________________________________\n",
      "dense_7 (Dense)              (None, 4)                 1924      \n",
      "=================================================================\n",
      "Total params: 927,364\n",
      "Trainable params: 927,364\n",
      "Non-trainable params: 0\n",
      "_________________________________________________________________\n",
      "PointredictScresSet0[0] 271.52210771717466\n"
     ]
    },
    {
     "name": "stderr",
     "output_type": "stream",
     "text": [
      "D:\\anaconda\\lib\\site-packages\\optuna\\distributions.py:427: UserWarning:\n",
      "\n",
      "Choices for a categorical distribution should be a tuple of None, bool, int, float and str for persistent storage but contains <class 'tensorflow.python.keras.optimizer_v2.adam.Adam'> which is of type ABCMeta.\n",
      "\n",
      "\u001b[32m[I 2022-11-09 10:00:06,878]\u001b[0m Trial 8 finished with value: 290.540351799299 and parameters: {'optimizer': <class 'tensorflow.python.keras.optimizer_v2.adam.Adam'>, 'units': 425, 'epochs': 50, 'batch_size': 256, 'learning_rate': 0.16552468508819235}. Best is trial 7 with value: 271.52210771717466.\u001b[0m\n"
     ]
    },
    {
     "name": "stdout",
     "output_type": "stream",
     "text": [
      "Model: \"sequential_8\"\n",
      "_________________________________________________________________\n",
      "Layer (type)                 Output Shape              Param #   \n",
      "=================================================================\n",
      "lstm_8 (LSTM)                (None, 425)               725900    \n",
      "_________________________________________________________________\n",
      "dense_8 (Dense)              (None, 4)                 1704      \n",
      "=================================================================\n",
      "Total params: 727,604\n",
      "Trainable params: 727,604\n",
      "Non-trainable params: 0\n",
      "_________________________________________________________________\n",
      "PointredictScresSet0[0] 290.540351799299\n"
     ]
    },
    {
     "name": "stderr",
     "output_type": "stream",
     "text": [
      "D:\\anaconda\\lib\\site-packages\\optuna\\distributions.py:427: UserWarning:\n",
      "\n",
      "Choices for a categorical distribution should be a tuple of None, bool, int, float and str for persistent storage but contains <class 'tensorflow.python.keras.optimizer_v2.adam.Adam'> which is of type ABCMeta.\n",
      "\n",
      "\u001b[32m[I 2022-11-09 10:01:03,819]\u001b[0m Trial 9 finished with value: 2126.789926243322 and parameters: {'optimizer': <class 'tensorflow.python.keras.optimizer_v2.adam.Adam'>, 'units': 215, 'epochs': 10, 'batch_size': 512, 'learning_rate': 0.439367424033297}. Best is trial 7 with value: 271.52210771717466.\u001b[0m\n"
     ]
    },
    {
     "name": "stdout",
     "output_type": "stream",
     "text": [
      "Model: \"sequential_9\"\n",
      "_________________________________________________________________\n",
      "Layer (type)                 Output Shape              Param #   \n",
      "=================================================================\n",
      "lstm_9 (LSTM)                (None, 215)               186620    \n",
      "_________________________________________________________________\n",
      "dense_9 (Dense)              (None, 4)                 864       \n",
      "=================================================================\n",
      "Total params: 187,484\n",
      "Trainable params: 187,484\n",
      "Non-trainable params: 0\n",
      "_________________________________________________________________\n",
      "PointredictScresSet0[0] 2126.789926243322\n"
     ]
    },
    {
     "name": "stderr",
     "output_type": "stream",
     "text": [
      "D:\\anaconda\\lib\\site-packages\\optuna\\distributions.py:427: UserWarning:\n",
      "\n",
      "Choices for a categorical distribution should be a tuple of None, bool, int, float and str for persistent storage but contains <class 'tensorflow.python.keras.optimizer_v2.adam.Adam'> which is of type ABCMeta.\n",
      "\n",
      "\u001b[32m[I 2022-11-09 10:08:48,930]\u001b[0m Trial 10 finished with value: 298.7179971127801 and parameters: {'optimizer': <class 'tensorflow.python.keras.optimizer_v2.adam.Adam'>, 'units': 495, 'epochs': 70, 'batch_size': 16, 'learning_rate': 0.12453013618059221}. Best is trial 7 with value: 271.52210771717466.\u001b[0m\n"
     ]
    },
    {
     "name": "stdout",
     "output_type": "stream",
     "text": [
      "Model: \"sequential_10\"\n",
      "_________________________________________________________________\n",
      "Layer (type)                 Output Shape              Param #   \n",
      "=================================================================\n",
      "lstm_10 (LSTM)               (None, 495)               984060    \n",
      "_________________________________________________________________\n",
      "dense_10 (Dense)             (None, 4)                 1984      \n",
      "=================================================================\n",
      "Total params: 986,044\n",
      "Trainable params: 986,044\n",
      "Non-trainable params: 0\n",
      "_________________________________________________________________\n",
      "PointredictScresSet0[0] 298.7179971127801\n"
     ]
    },
    {
     "name": "stderr",
     "output_type": "stream",
     "text": [
      "D:\\anaconda\\lib\\site-packages\\optuna\\distributions.py:427: UserWarning:\n",
      "\n",
      "Choices for a categorical distribution should be a tuple of None, bool, int, float and str for persistent storage but contains <class 'tensorflow.python.keras.optimizer_v2.adam.Adam'> which is of type ABCMeta.\n",
      "\n",
      "\u001b[32m[I 2022-11-09 10:09:58,466]\u001b[0m Trial 11 finished with value: 277.2470099304506 and parameters: {'optimizer': <class 'tensorflow.python.keras.optimizer_v2.adam.Adam'>, 'units': 15, 'epochs': 100, 'batch_size': 32, 'learning_rate': 0.0012835865468643192}. Best is trial 7 with value: 271.52210771717466.\u001b[0m\n"
     ]
    },
    {
     "name": "stdout",
     "output_type": "stream",
     "text": [
      "Model: \"sequential_11\"\n",
      "_________________________________________________________________\n",
      "Layer (type)                 Output Shape              Param #   \n",
      "=================================================================\n",
      "lstm_11 (LSTM)               (None, 15)                1020      \n",
      "_________________________________________________________________\n",
      "dense_11 (Dense)             (None, 4)                 64        \n",
      "=================================================================\n",
      "Total params: 1,084\n",
      "Trainable params: 1,084\n",
      "Non-trainable params: 0\n",
      "_________________________________________________________________\n",
      "PointredictScresSet0[0] 277.2470099304506\n"
     ]
    },
    {
     "name": "stderr",
     "output_type": "stream",
     "text": [
      "D:\\anaconda\\lib\\site-packages\\optuna\\distributions.py:427: UserWarning:\n",
      "\n",
      "Choices for a categorical distribution should be a tuple of None, bool, int, float and str for persistent storage but contains <class 'tensorflow.python.keras.optimizer_v2.adam.Adam'> which is of type ABCMeta.\n",
      "\n",
      "\u001b[32m[I 2022-11-09 10:12:16,374]\u001b[0m Trial 12 finished with value: 271.0804062457834 and parameters: {'optimizer': <class 'tensorflow.python.keras.optimizer_v2.adam.Adam'>, 'units': 295, 'epochs': 70, 'batch_size': 32, 'learning_rate': 0.0011061576364584252}. Best is trial 12 with value: 271.0804062457834.\u001b[0m\n"
     ]
    },
    {
     "name": "stdout",
     "output_type": "stream",
     "text": [
      "Model: \"sequential_12\"\n",
      "_________________________________________________________________\n",
      "Layer (type)                 Output Shape              Param #   \n",
      "=================================================================\n",
      "lstm_12 (LSTM)               (None, 295)               350460    \n",
      "_________________________________________________________________\n",
      "dense_12 (Dense)             (None, 4)                 1184      \n",
      "=================================================================\n",
      "Total params: 351,644\n",
      "Trainable params: 351,644\n",
      "Non-trainable params: 0\n",
      "_________________________________________________________________\n",
      "PointredictScresSet0[0] 271.0804062457834\n"
     ]
    },
    {
     "name": "stderr",
     "output_type": "stream",
     "text": [
      "D:\\anaconda\\lib\\site-packages\\optuna\\distributions.py:427: UserWarning:\n",
      "\n",
      "Choices for a categorical distribution should be a tuple of None, bool, int, float and str for persistent storage but contains <class 'tensorflow.python.keras.optimizer_v2.adam.Adam'> which is of type ABCMeta.\n",
      "\n",
      "\u001b[32m[I 2022-11-09 10:14:11,213]\u001b[0m Trial 13 finished with value: 270.816006599754 and parameters: {'optimizer': <class 'tensorflow.python.keras.optimizer_v2.adam.Adam'>, 'units': 305, 'epochs': 70, 'batch_size': 64, 'learning_rate': 0.008116887885133817}. Best is trial 13 with value: 270.816006599754.\u001b[0m\n"
     ]
    },
    {
     "name": "stdout",
     "output_type": "stream",
     "text": [
      "Model: \"sequential_13\"\n",
      "_________________________________________________________________\n",
      "Layer (type)                 Output Shape              Param #   \n",
      "=================================================================\n",
      "lstm_13 (LSTM)               (None, 305)               374540    \n",
      "_________________________________________________________________\n",
      "dense_13 (Dense)             (None, 4)                 1224      \n",
      "=================================================================\n",
      "Total params: 375,764\n",
      "Trainable params: 375,764\n",
      "Non-trainable params: 0\n",
      "_________________________________________________________________\n",
      "PointredictScresSet0[0] 270.816006599754\n"
     ]
    },
    {
     "name": "stderr",
     "output_type": "stream",
     "text": [
      "D:\\anaconda\\lib\\site-packages\\optuna\\distributions.py:427: UserWarning:\n",
      "\n",
      "Choices for a categorical distribution should be a tuple of None, bool, int, float and str for persistent storage but contains <class 'tensorflow.python.keras.optimizer_v2.adam.Adam'> which is of type ABCMeta.\n",
      "\n",
      "\u001b[32m[I 2022-11-09 10:16:06,846]\u001b[0m Trial 14 finished with value: 272.5902687281405 and parameters: {'optimizer': <class 'tensorflow.python.keras.optimizer_v2.adam.Adam'>, 'units': 315, 'epochs': 70, 'batch_size': 64, 'learning_rate': 0.0037006430400167334}. Best is trial 13 with value: 270.816006599754.\u001b[0m\n"
     ]
    },
    {
     "name": "stdout",
     "output_type": "stream",
     "text": [
      "Model: \"sequential_14\"\n",
      "_________________________________________________________________\n",
      "Layer (type)                 Output Shape              Param #   \n",
      "=================================================================\n",
      "lstm_14 (LSTM)               (None, 315)               399420    \n",
      "_________________________________________________________________\n",
      "dense_14 (Dense)             (None, 4)                 1264      \n",
      "=================================================================\n",
      "Total params: 400,684\n",
      "Trainable params: 400,684\n",
      "Non-trainable params: 0\n",
      "_________________________________________________________________\n",
      "PointredictScresSet0[0] 272.5902687281405\n"
     ]
    },
    {
     "name": "stderr",
     "output_type": "stream",
     "text": [
      "D:\\anaconda\\lib\\site-packages\\optuna\\distributions.py:427: UserWarning:\n",
      "\n",
      "Choices for a categorical distribution should be a tuple of None, bool, int, float and str for persistent storage but contains <class 'tensorflow.python.keras.optimizer_v2.adam.Adam'> which is of type ABCMeta.\n",
      "\n",
      "\u001b[32m[I 2022-11-09 10:18:16,222]\u001b[0m Trial 15 finished with value: 272.12909184771974 and parameters: {'optimizer': <class 'tensorflow.python.keras.optimizer_v2.adam.Adam'>, 'units': 345, 'epochs': 70, 'batch_size': 64, 'learning_rate': 0.008421977920882109}. Best is trial 13 with value: 270.816006599754.\u001b[0m\n"
     ]
    },
    {
     "name": "stdout",
     "output_type": "stream",
     "text": [
      "Model: \"sequential_15\"\n",
      "_________________________________________________________________\n",
      "Layer (type)                 Output Shape              Param #   \n",
      "=================================================================\n",
      "lstm_15 (LSTM)               (None, 345)               478860    \n",
      "_________________________________________________________________\n",
      "dense_15 (Dense)             (None, 4)                 1384      \n",
      "=================================================================\n",
      "Total params: 480,244\n",
      "Trainable params: 480,244\n",
      "Non-trainable params: 0\n",
      "_________________________________________________________________\n",
      "PointredictScresSet0[0] 272.12909184771974\n"
     ]
    },
    {
     "name": "stderr",
     "output_type": "stream",
     "text": [
      "D:\\anaconda\\lib\\site-packages\\optuna\\distributions.py:427: UserWarning:\n",
      "\n",
      "Choices for a categorical distribution should be a tuple of None, bool, int, float and str for persistent storage but contains <class 'tensorflow.python.keras.optimizer_v2.adam.Adam'> which is of type ABCMeta.\n",
      "\n",
      "\u001b[32m[I 2022-11-09 10:19:25,844]\u001b[0m Trial 16 finished with value: 274.7080660628813 and parameters: {'optimizer': <class 'tensorflow.python.keras.optimizer_v2.adam.Adam'>, 'units': 180, 'epochs': 60, 'batch_size': 64, 'learning_rate': 0.001171529502796272}. Best is trial 13 with value: 270.816006599754.\u001b[0m\n"
     ]
    },
    {
     "name": "stdout",
     "output_type": "stream",
     "text": [
      "Model: \"sequential_16\"\n",
      "_________________________________________________________________\n",
      "Layer (type)                 Output Shape              Param #   \n",
      "=================================================================\n",
      "lstm_16 (LSTM)               (None, 180)               131040    \n",
      "_________________________________________________________________\n",
      "dense_16 (Dense)             (None, 4)                 724       \n",
      "=================================================================\n",
      "Total params: 131,764\n",
      "Trainable params: 131,764\n",
      "Non-trainable params: 0\n",
      "_________________________________________________________________\n",
      "PointredictScresSet0[0] 274.7080660628813\n"
     ]
    },
    {
     "name": "stderr",
     "output_type": "stream",
     "text": [
      "D:\\anaconda\\lib\\site-packages\\optuna\\distributions.py:427: UserWarning:\n",
      "\n",
      "Choices for a categorical distribution should be a tuple of None, bool, int, float and str for persistent storage but contains <class 'tensorflow.python.keras.optimizer_v2.adam.Adam'> which is of type ABCMeta.\n",
      "\n",
      "\u001b[32m[I 2022-11-09 10:22:38,606]\u001b[0m Trial 17 finished with value: 270.72324752607005 and parameters: {'optimizer': <class 'tensorflow.python.keras.optimizer_v2.adam.Adam'>, 'units': 350, 'epochs': 80, 'batch_size': 32, 'learning_rate': 0.0032622816509268013}. Best is trial 17 with value: 270.72324752607005.\u001b[0m\n"
     ]
    },
    {
     "name": "stdout",
     "output_type": "stream",
     "text": [
      "Model: \"sequential_17\"\n",
      "_________________________________________________________________\n",
      "Layer (type)                 Output Shape              Param #   \n",
      "=================================================================\n",
      "lstm_17 (LSTM)               (None, 350)               492800    \n",
      "_________________________________________________________________\n",
      "dense_17 (Dense)             (None, 4)                 1404      \n",
      "=================================================================\n",
      "Total params: 494,204\n",
      "Trainable params: 494,204\n",
      "Non-trainable params: 0\n",
      "_________________________________________________________________\n",
      "PointredictScresSet0[0] 270.72324752607005\n"
     ]
    },
    {
     "name": "stderr",
     "output_type": "stream",
     "text": [
      "D:\\anaconda\\lib\\site-packages\\optuna\\distributions.py:427: UserWarning:\n",
      "\n",
      "Choices for a categorical distribution should be a tuple of None, bool, int, float and str for persistent storage but contains <class 'tensorflow.python.keras.optimizer_v2.adam.Adam'> which is of type ABCMeta.\n",
      "\n",
      "\u001b[32m[I 2022-11-09 10:31:27,676]\u001b[0m Trial 18 finished with value: 272.1407334035454 and parameters: {'optimizer': <class 'tensorflow.python.keras.optimizer_v2.adam.Adam'>, 'units': 365, 'epochs': 80, 'batch_size': 8, 'learning_rate': 0.002786890558012828}. Best is trial 17 with value: 270.72324752607005.\u001b[0m\n"
     ]
    },
    {
     "name": "stdout",
     "output_type": "stream",
     "text": [
      "Model: \"sequential_18\"\n",
      "_________________________________________________________________\n",
      "Layer (type)                 Output Shape              Param #   \n",
      "=================================================================\n",
      "lstm_18 (LSTM)               (None, 365)               535820    \n",
      "_________________________________________________________________\n",
      "dense_18 (Dense)             (None, 4)                 1464      \n",
      "=================================================================\n",
      "Total params: 537,284\n",
      "Trainable params: 537,284\n",
      "Non-trainable params: 0\n",
      "_________________________________________________________________\n",
      "PointredictScresSet0[0] 272.1407334035454\n"
     ]
    },
    {
     "name": "stderr",
     "output_type": "stream",
     "text": [
      "D:\\anaconda\\lib\\site-packages\\optuna\\distributions.py:427: UserWarning:\n",
      "\n",
      "Choices for a categorical distribution should be a tuple of None, bool, int, float and str for persistent storage but contains <class 'tensorflow.python.keras.optimizer_v2.adam.Adam'> which is of type ABCMeta.\n",
      "\n",
      "\u001b[32m[I 2022-11-09 10:33:27,909]\u001b[0m Trial 19 finished with value: 276.8466653683193 and parameters: {'optimizer': <class 'tensorflow.python.keras.optimizer_v2.adam.Adam'>, 'units': 370, 'epochs': 60, 'batch_size': 128, 'learning_rate': 0.07697270632390876}. Best is trial 17 with value: 270.72324752607005.\u001b[0m\n"
     ]
    },
    {
     "name": "stdout",
     "output_type": "stream",
     "text": [
      "Model: \"sequential_19\"\n",
      "_________________________________________________________________\n",
      "Layer (type)                 Output Shape              Param #   \n",
      "=================================================================\n",
      "lstm_19 (LSTM)               (None, 370)               550560    \n",
      "_________________________________________________________________\n",
      "dense_19 (Dense)             (None, 4)                 1484      \n",
      "=================================================================\n",
      "Total params: 552,044\n",
      "Trainable params: 552,044\n",
      "Non-trainable params: 0\n",
      "_________________________________________________________________\n",
      "PointredictScresSet0[0] 276.8466653683193\n"
     ]
    },
    {
     "name": "stderr",
     "output_type": "stream",
     "text": [
      "D:\\anaconda\\lib\\site-packages\\optuna\\distributions.py:427: UserWarning:\n",
      "\n",
      "Choices for a categorical distribution should be a tuple of None, bool, int, float and str for persistent storage but contains <class 'tensorflow.python.keras.optimizer_v2.adam.Adam'> which is of type ABCMeta.\n",
      "\n",
      "\u001b[32m[I 2022-11-09 10:35:46,735]\u001b[0m Trial 20 finished with value: 270.32783273950616 and parameters: {'optimizer': <class 'tensorflow.python.keras.optimizer_v2.adam.Adam'>, 'units': 250, 'epochs': 90, 'batch_size': 32, 'learning_rate': 0.014487674235815614}. Best is trial 20 with value: 270.32783273950616.\u001b[0m\n"
     ]
    },
    {
     "name": "stdout",
     "output_type": "stream",
     "text": [
      "Model: \"sequential_20\"\n",
      "_________________________________________________________________\n",
      "Layer (type)                 Output Shape              Param #   \n",
      "=================================================================\n",
      "lstm_20 (LSTM)               (None, 250)               252000    \n",
      "_________________________________________________________________\n",
      "dense_20 (Dense)             (None, 4)                 1004      \n",
      "=================================================================\n",
      "Total params: 253,004\n",
      "Trainable params: 253,004\n",
      "Non-trainable params: 0\n",
      "_________________________________________________________________\n",
      "PointredictScresSet0[0] 270.32783273950616\n"
     ]
    },
    {
     "name": "stderr",
     "output_type": "stream",
     "text": [
      "D:\\anaconda\\lib\\site-packages\\optuna\\distributions.py:427: UserWarning:\n",
      "\n",
      "Choices for a categorical distribution should be a tuple of None, bool, int, float and str for persistent storage but contains <class 'tensorflow.python.keras.optimizer_v2.adam.Adam'> which is of type ABCMeta.\n",
      "\n",
      "\u001b[32m[I 2022-11-09 10:38:08,790]\u001b[0m Trial 21 finished with value: 271.55140392822346 and parameters: {'optimizer': <class 'tensorflow.python.keras.optimizer_v2.adam.Adam'>, 'units': 255, 'epochs': 90, 'batch_size': 32, 'learning_rate': 0.016635753409037016}. Best is trial 20 with value: 270.32783273950616.\u001b[0m\n"
     ]
    },
    {
     "name": "stdout",
     "output_type": "stream",
     "text": [
      "Model: \"sequential_21\"\n",
      "_________________________________________________________________\n",
      "Layer (type)                 Output Shape              Param #   \n",
      "=================================================================\n",
      "lstm_21 (LSTM)               (None, 255)               262140    \n",
      "_________________________________________________________________\n",
      "dense_21 (Dense)             (None, 4)                 1024      \n",
      "=================================================================\n",
      "Total params: 263,164\n",
      "Trainable params: 263,164\n",
      "Non-trainable params: 0\n",
      "_________________________________________________________________\n",
      "PointredictScresSet0[0] 271.55140392822346\n"
     ]
    },
    {
     "name": "stderr",
     "output_type": "stream",
     "text": [
      "D:\\anaconda\\lib\\site-packages\\optuna\\distributions.py:427: UserWarning:\n",
      "\n",
      "Choices for a categorical distribution should be a tuple of None, bool, int, float and str for persistent storage but contains <class 'tensorflow.python.keras.optimizer_v2.adam.Adam'> which is of type ABCMeta.\n",
      "\n",
      "\u001b[32m[I 2022-11-09 10:39:46,749]\u001b[0m Trial 22 finished with value: 271.0128461079127 and parameters: {'optimizer': <class 'tensorflow.python.keras.optimizer_v2.adam.Adam'>, 'units': 185, 'epochs': 80, 'batch_size': 32, 'learning_rate': 0.006785885123854205}. Best is trial 20 with value: 270.32783273950616.\u001b[0m\n"
     ]
    },
    {
     "name": "stdout",
     "output_type": "stream",
     "text": [
      "Model: \"sequential_22\"\n",
      "_________________________________________________________________\n",
      "Layer (type)                 Output Shape              Param #   \n",
      "=================================================================\n",
      "lstm_22 (LSTM)               (None, 185)               138380    \n",
      "_________________________________________________________________\n",
      "dense_22 (Dense)             (None, 4)                 744       \n",
      "=================================================================\n",
      "Total params: 139,124\n",
      "Trainable params: 139,124\n",
      "Non-trainable params: 0\n",
      "_________________________________________________________________\n",
      "PointredictScresSet0[0] 271.0128461079127\n"
     ]
    },
    {
     "name": "stderr",
     "output_type": "stream",
     "text": [
      "D:\\anaconda\\lib\\site-packages\\optuna\\distributions.py:427: UserWarning:\n",
      "\n",
      "Choices for a categorical distribution should be a tuple of None, bool, int, float and str for persistent storage but contains <class 'tensorflow.python.keras.optimizer_v2.adam.Adam'> which is of type ABCMeta.\n",
      "\n",
      "\u001b[32m[I 2022-11-09 10:42:11,235]\u001b[0m Trial 23 finished with value: 271.9819041583589 and parameters: {'optimizer': <class 'tensorflow.python.keras.optimizer_v2.adam.Adam'>, 'units': 325, 'epochs': 90, 'batch_size': 64, 'learning_rate': 0.01544963136599711}. Best is trial 20 with value: 270.32783273950616.\u001b[0m\n"
     ]
    },
    {
     "name": "stdout",
     "output_type": "stream",
     "text": [
      "Model: \"sequential_23\"\n",
      "_________________________________________________________________\n",
      "Layer (type)                 Output Shape              Param #   \n",
      "=================================================================\n",
      "lstm_23 (LSTM)               (None, 325)               425100    \n",
      "_________________________________________________________________\n",
      "dense_23 (Dense)             (None, 4)                 1304      \n",
      "=================================================================\n",
      "Total params: 426,404\n",
      "Trainable params: 426,404\n",
      "Non-trainable params: 0\n",
      "_________________________________________________________________\n",
      "PointredictScresSet0[0] 271.9819041583589\n"
     ]
    },
    {
     "name": "stderr",
     "output_type": "stream",
     "text": [
      "D:\\anaconda\\lib\\site-packages\\optuna\\distributions.py:427: UserWarning:\n",
      "\n",
      "Choices for a categorical distribution should be a tuple of None, bool, int, float and str for persistent storage but contains <class 'tensorflow.python.keras.optimizer_v2.adam.Adam'> which is of type ABCMeta.\n",
      "\n",
      "\u001b[32m[I 2022-11-09 10:45:54,400]\u001b[0m Trial 24 finished with value: 272.16198478046715 and parameters: {'optimizer': <class 'tensorflow.python.keras.optimizer_v2.adam.Adam'>, 'units': 390, 'epochs': 80, 'batch_size': 32, 'learning_rate': 0.002152400588487433}. Best is trial 20 with value: 270.32783273950616.\u001b[0m\n"
     ]
    },
    {
     "name": "stdout",
     "output_type": "stream",
     "text": [
      "Model: \"sequential_24\"\n",
      "_________________________________________________________________\n",
      "Layer (type)                 Output Shape              Param #   \n",
      "=================================================================\n",
      "lstm_24 (LSTM)               (None, 390)               611520    \n",
      "_________________________________________________________________\n",
      "dense_24 (Dense)             (None, 4)                 1564      \n",
      "=================================================================\n",
      "Total params: 613,084\n",
      "Trainable params: 613,084\n",
      "Non-trainable params: 0\n",
      "_________________________________________________________________\n",
      "PointredictScresSet0[0] 272.16198478046715\n"
     ]
    },
    {
     "name": "stderr",
     "output_type": "stream",
     "text": [
      "D:\\anaconda\\lib\\site-packages\\optuna\\distributions.py:427: UserWarning:\n",
      "\n",
      "Choices for a categorical distribution should be a tuple of None, bool, int, float and str for persistent storage but contains <class 'tensorflow.python.keras.optimizer_v2.adam.Adam'> which is of type ABCMeta.\n",
      "\n",
      "\u001b[32m[I 2022-11-09 10:47:55,244]\u001b[0m Trial 25 finished with value: 271.08977414257413 and parameters: {'optimizer': <class 'tensorflow.python.keras.optimizer_v2.adam.Adam'>, 'units': 280, 'epochs': 60, 'batch_size': 32, 'learning_rate': 0.004570817584405362}. Best is trial 20 with value: 270.32783273950616.\u001b[0m\n"
     ]
    },
    {
     "name": "stdout",
     "output_type": "stream",
     "text": [
      "Model: \"sequential_25\"\n",
      "_________________________________________________________________\n",
      "Layer (type)                 Output Shape              Param #   \n",
      "=================================================================\n",
      "lstm_25 (LSTM)               (None, 280)               315840    \n",
      "_________________________________________________________________\n",
      "dense_25 (Dense)             (None, 4)                 1124      \n",
      "=================================================================\n",
      "Total params: 316,964\n",
      "Trainable params: 316,964\n",
      "Non-trainable params: 0\n",
      "_________________________________________________________________\n",
      "PointredictScresSet0[0] 271.08977414257413\n"
     ]
    },
    {
     "name": "stderr",
     "output_type": "stream",
     "text": [
      "D:\\anaconda\\lib\\site-packages\\optuna\\distributions.py:427: UserWarning:\n",
      "\n",
      "Choices for a categorical distribution should be a tuple of None, bool, int, float and str for persistent storage but contains <class 'tensorflow.python.keras.optimizer_v2.adam.Adam'> which is of type ABCMeta.\n",
      "\n",
      "\u001b[32m[I 2022-11-09 10:49:47,479]\u001b[0m Trial 26 finished with value: 273.13851424337867 and parameters: {'optimizer': <class 'tensorflow.python.keras.optimizer_v2.adam.Adam'>, 'units': 240, 'epochs': 100, 'batch_size': 64, 'learning_rate': 0.061341901883483846}. Best is trial 20 with value: 270.32783273950616.\u001b[0m\n"
     ]
    },
    {
     "name": "stdout",
     "output_type": "stream",
     "text": [
      "Model: \"sequential_26\"\n",
      "_________________________________________________________________\n",
      "Layer (type)                 Output Shape              Param #   \n",
      "=================================================================\n",
      "lstm_26 (LSTM)               (None, 240)               232320    \n",
      "_________________________________________________________________\n",
      "dense_26 (Dense)             (None, 4)                 964       \n",
      "=================================================================\n",
      "Total params: 233,284\n",
      "Trainable params: 233,284\n",
      "Non-trainable params: 0\n",
      "_________________________________________________________________\n",
      "PointredictScresSet0[0] 273.13851424337867\n"
     ]
    },
    {
     "name": "stderr",
     "output_type": "stream",
     "text": [
      "D:\\anaconda\\lib\\site-packages\\optuna\\distributions.py:427: UserWarning:\n",
      "\n",
      "Choices for a categorical distribution should be a tuple of None, bool, int, float and str for persistent storage but contains <class 'tensorflow.python.keras.optimizer_v2.adam.Adam'> which is of type ABCMeta.\n",
      "\n",
      "\u001b[32m[I 2022-11-09 10:51:30,380]\u001b[0m Trial 27 finished with value: 272.63994460736717 and parameters: {'optimizer': <class 'tensorflow.python.keras.optimizer_v2.adam.Adam'>, 'units': 190, 'epochs': 80, 'batch_size': 32, 'learning_rate': 0.010260625804990974}. Best is trial 20 with value: 270.32783273950616.\u001b[0m\n"
     ]
    },
    {
     "name": "stdout",
     "output_type": "stream",
     "text": [
      "Model: \"sequential_27\"\n",
      "_________________________________________________________________\n",
      "Layer (type)                 Output Shape              Param #   \n",
      "=================================================================\n",
      "lstm_27 (LSTM)               (None, 190)               145920    \n",
      "_________________________________________________________________\n",
      "dense_27 (Dense)             (None, 4)                 764       \n",
      "=================================================================\n",
      "Total params: 146,684\n",
      "Trainable params: 146,684\n",
      "Non-trainable params: 0\n",
      "_________________________________________________________________\n",
      "PointredictScresSet0[0] 272.63994460736717\n"
     ]
    },
    {
     "name": "stderr",
     "output_type": "stream",
     "text": [
      "D:\\anaconda\\lib\\site-packages\\optuna\\distributions.py:427: UserWarning:\n",
      "\n",
      "Choices for a categorical distribution should be a tuple of None, bool, int, float and str for persistent storage but contains <class 'tensorflow.python.keras.optimizer_v2.adam.Adam'> which is of type ABCMeta.\n",
      "\n",
      "\u001b[32m[I 2022-11-09 10:59:47,652]\u001b[0m Trial 28 finished with value: 275.1008926467776 and parameters: {'optimizer': <class 'tensorflow.python.keras.optimizer_v2.adam.Adam'>, 'units': 320, 'epochs': 90, 'batch_size': 8, 'learning_rate': 0.020629235354376232}. Best is trial 20 with value: 270.32783273950616.\u001b[0m\n"
     ]
    },
    {
     "name": "stdout",
     "output_type": "stream",
     "text": [
      "Model: \"sequential_28\"\n",
      "_________________________________________________________________\n",
      "Layer (type)                 Output Shape              Param #   \n",
      "=================================================================\n",
      "lstm_28 (LSTM)               (None, 320)               412160    \n",
      "_________________________________________________________________\n",
      "dense_28 (Dense)             (None, 4)                 1284      \n",
      "=================================================================\n",
      "Total params: 413,444\n",
      "Trainable params: 413,444\n",
      "Non-trainable params: 0\n",
      "_________________________________________________________________\n",
      "PointredictScresSet0[0] 275.1008926467776\n"
     ]
    },
    {
     "name": "stderr",
     "output_type": "stream",
     "text": [
      "D:\\anaconda\\lib\\site-packages\\optuna\\distributions.py:427: UserWarning:\n",
      "\n",
      "Choices for a categorical distribution should be a tuple of None, bool, int, float and str for persistent storage but contains <class 'tensorflow.python.keras.optimizer_v2.adam.Adam'> which is of type ABCMeta.\n",
      "\n",
      "\u001b[32m[I 2022-11-09 11:00:44,629]\u001b[0m Trial 29 finished with value: 279.86289086588664 and parameters: {'optimizer': <class 'tensorflow.python.keras.optimizer_v2.adam.Adam'>, 'units': 100, 'epochs': 10, 'batch_size': 16, 'learning_rate': 0.006397362313192616}. Best is trial 20 with value: 270.32783273950616.\u001b[0m\n"
     ]
    },
    {
     "name": "stdout",
     "output_type": "stream",
     "text": [
      "Model: \"sequential_29\"\n",
      "_________________________________________________________________\n",
      "Layer (type)                 Output Shape              Param #   \n",
      "=================================================================\n",
      "lstm_29 (LSTM)               (None, 100)               40800     \n",
      "_________________________________________________________________\n",
      "dense_29 (Dense)             (None, 4)                 404       \n",
      "=================================================================\n",
      "Total params: 41,204\n",
      "Trainable params: 41,204\n",
      "Non-trainable params: 0\n",
      "_________________________________________________________________\n",
      "PointredictScresSet0[0] 279.86289086588664\n"
     ]
    },
    {
     "name": "stderr",
     "output_type": "stream",
     "text": [
      "D:\\anaconda\\lib\\site-packages\\optuna\\distributions.py:427: UserWarning:\n",
      "\n",
      "Choices for a categorical distribution should be a tuple of None, bool, int, float and str for persistent storage but contains <class 'tensorflow.python.keras.optimizer_v2.adam.Adam'> which is of type ABCMeta.\n",
      "\n",
      "\u001b[32m[I 2022-11-09 11:01:43,259]\u001b[0m Trial 30 finished with value: 276.2159541069979 and parameters: {'optimizer': <class 'tensorflow.python.keras.optimizer_v2.adam.Adam'>, 'units': 150, 'epochs': 30, 'batch_size': 128, 'learning_rate': 0.005057971149571}. Best is trial 20 with value: 270.32783273950616.\u001b[0m\n"
     ]
    },
    {
     "name": "stdout",
     "output_type": "stream",
     "text": [
      "Model: \"sequential_30\"\n",
      "_________________________________________________________________\n",
      "Layer (type)                 Output Shape              Param #   \n",
      "=================================================================\n",
      "lstm_30 (LSTM)               (None, 150)               91200     \n",
      "_________________________________________________________________\n",
      "dense_30 (Dense)             (None, 4)                 604       \n",
      "=================================================================\n",
      "Total params: 91,804\n",
      "Trainable params: 91,804\n",
      "Non-trainable params: 0\n",
      "_________________________________________________________________\n",
      "PointredictScresSet0[0] 276.2159541069979\n"
     ]
    },
    {
     "name": "stderr",
     "output_type": "stream",
     "text": [
      "D:\\anaconda\\lib\\site-packages\\optuna\\distributions.py:427: UserWarning:\n",
      "\n",
      "Choices for a categorical distribution should be a tuple of None, bool, int, float and str for persistent storage but contains <class 'tensorflow.python.keras.optimizer_v2.adam.Adam'> which is of type ABCMeta.\n",
      "\n",
      "\u001b[32m[I 2022-11-09 11:03:34,394]\u001b[0m Trial 31 finished with value: 270.31621677131477 and parameters: {'optimizer': <class 'tensorflow.python.keras.optimizer_v2.adam.Adam'>, 'units': 200, 'epochs': 80, 'batch_size': 32, 'learning_rate': 0.007153903256987928}. Best is trial 31 with value: 270.31621677131477.\u001b[0m\n"
     ]
    },
    {
     "name": "stdout",
     "output_type": "stream",
     "text": [
      "Model: \"sequential_31\"\n",
      "_________________________________________________________________\n",
      "Layer (type)                 Output Shape              Param #   \n",
      "=================================================================\n",
      "lstm_31 (LSTM)               (None, 200)               161600    \n",
      "_________________________________________________________________\n",
      "dense_31 (Dense)             (None, 4)                 804       \n",
      "=================================================================\n",
      "Total params: 162,404\n",
      "Trainable params: 162,404\n",
      "Non-trainable params: 0\n",
      "_________________________________________________________________\n",
      "PointredictScresSet0[0] 270.31621677131477\n"
     ]
    },
    {
     "name": "stderr",
     "output_type": "stream",
     "text": [
      "D:\\anaconda\\lib\\site-packages\\optuna\\distributions.py:427: UserWarning:\n",
      "\n",
      "Choices for a categorical distribution should be a tuple of None, bool, int, float and str for persistent storage but contains <class 'tensorflow.python.keras.optimizer_v2.adam.Adam'> which is of type ABCMeta.\n",
      "\n",
      "\u001b[32m[I 2022-11-09 11:05:35,718]\u001b[0m Trial 32 finished with value: 270.9336378676605 and parameters: {'optimizer': <class 'tensorflow.python.keras.optimizer_v2.adam.Adam'>, 'units': 255, 'epochs': 70, 'batch_size': 32, 'learning_rate': 0.0024381132526994755}. Best is trial 31 with value: 270.31621677131477.\u001b[0m\n"
     ]
    },
    {
     "name": "stdout",
     "output_type": "stream",
     "text": [
      "Model: \"sequential_32\"\n",
      "_________________________________________________________________\n",
      "Layer (type)                 Output Shape              Param #   \n",
      "=================================================================\n",
      "lstm_32 (LSTM)               (None, 255)               262140    \n",
      "_________________________________________________________________\n",
      "dense_32 (Dense)             (None, 4)                 1024      \n",
      "=================================================================\n",
      "Total params: 263,164\n",
      "Trainable params: 263,164\n",
      "Non-trainable params: 0\n",
      "_________________________________________________________________\n",
      "PointredictScresSet0[0] 270.9336378676605\n"
     ]
    },
    {
     "name": "stderr",
     "output_type": "stream",
     "text": [
      "D:\\anaconda\\lib\\site-packages\\optuna\\distributions.py:427: UserWarning:\n",
      "\n",
      "Choices for a categorical distribution should be a tuple of None, bool, int, float and str for persistent storage but contains <class 'tensorflow.python.keras.optimizer_v2.adam.Adam'> which is of type ABCMeta.\n",
      "\n",
      "\u001b[32m[I 2022-11-09 11:07:34,849]\u001b[0m Trial 33 finished with value: 270.86288561186655 and parameters: {'optimizer': <class 'tensorflow.python.keras.optimizer_v2.adam.Adam'>, 'units': 215, 'epochs': 80, 'batch_size': 32, 'learning_rate': 0.011184107402379514}. Best is trial 31 with value: 270.31621677131477.\u001b[0m\n"
     ]
    },
    {
     "name": "stdout",
     "output_type": "stream",
     "text": [
      "Model: \"sequential_33\"\n",
      "_________________________________________________________________\n",
      "Layer (type)                 Output Shape              Param #   \n",
      "=================================================================\n",
      "lstm_33 (LSTM)               (None, 215)               186620    \n",
      "_________________________________________________________________\n",
      "dense_33 (Dense)             (None, 4)                 864       \n",
      "=================================================================\n",
      "Total params: 187,484\n",
      "Trainable params: 187,484\n",
      "Non-trainable params: 0\n",
      "_________________________________________________________________\n",
      "PointredictScresSet0[0] 270.86288561186655\n"
     ]
    },
    {
     "name": "stderr",
     "output_type": "stream",
     "text": [
      "D:\\anaconda\\lib\\site-packages\\optuna\\distributions.py:427: UserWarning:\n",
      "\n",
      "Choices for a categorical distribution should be a tuple of None, bool, int, float and str for persistent storage but contains <class 'tensorflow.python.keras.optimizer_v2.adam.Adam'> which is of type ABCMeta.\n",
      "\n",
      "\u001b[32m[I 2022-11-09 11:10:26,005]\u001b[0m Trial 34 finished with value: 270.5479572952253 and parameters: {'optimizer': <class 'tensorflow.python.keras.optimizer_v2.adam.Adam'>, 'units': 290, 'epochs': 90, 'batch_size': 32, 'learning_rate': 0.0019105189915318054}. Best is trial 31 with value: 270.31621677131477.\u001b[0m\n"
     ]
    },
    {
     "name": "stdout",
     "output_type": "stream",
     "text": [
      "Model: \"sequential_34\"\n",
      "_________________________________________________________________\n",
      "Layer (type)                 Output Shape              Param #   \n",
      "=================================================================\n",
      "lstm_34 (LSTM)               (None, 290)               338720    \n",
      "_________________________________________________________________\n",
      "dense_34 (Dense)             (None, 4)                 1164      \n",
      "=================================================================\n",
      "Total params: 339,884\n",
      "Trainable params: 339,884\n",
      "Non-trainable params: 0\n",
      "_________________________________________________________________\n",
      "PointredictScresSet0[0] 270.5479572952253\n"
     ]
    },
    {
     "name": "stderr",
     "output_type": "stream",
     "text": [
      "D:\\anaconda\\lib\\site-packages\\optuna\\distributions.py:427: UserWarning:\n",
      "\n",
      "Choices for a categorical distribution should be a tuple of None, bool, int, float and str for persistent storage but contains <class 'tensorflow.python.keras.optimizer_v2.adam.Adam'> which is of type ABCMeta.\n",
      "\n",
      "\u001b[32m[I 2022-11-09 11:12:05,498]\u001b[0m Trial 35 finished with value: 271.0505181906493 and parameters: {'optimizer': <class 'tensorflow.python.keras.optimizer_v2.adam.Adam'>, 'units': 145, 'epochs': 100, 'batch_size': 32, 'learning_rate': 0.0018866981956658436}. Best is trial 31 with value: 270.31621677131477.\u001b[0m\n"
     ]
    },
    {
     "name": "stdout",
     "output_type": "stream",
     "text": [
      "Model: \"sequential_35\"\n",
      "_________________________________________________________________\n",
      "Layer (type)                 Output Shape              Param #   \n",
      "=================================================================\n",
      "lstm_35 (LSTM)               (None, 145)               85260     \n",
      "_________________________________________________________________\n",
      "dense_35 (Dense)             (None, 4)                 584       \n",
      "=================================================================\n",
      "Total params: 85,844\n",
      "Trainable params: 85,844\n",
      "Non-trainable params: 0\n",
      "_________________________________________________________________\n",
      "PointredictScresSet0[0] 271.0505181906493\n"
     ]
    },
    {
     "name": "stderr",
     "output_type": "stream",
     "text": [
      "D:\\anaconda\\lib\\site-packages\\optuna\\distributions.py:427: UserWarning:\n",
      "\n",
      "Choices for a categorical distribution should be a tuple of None, bool, int, float and str for persistent storage but contains <class 'tensorflow.python.keras.optimizer_v2.adam.Adam'> which is of type ABCMeta.\n",
      "\n",
      "\u001b[32m[I 2022-11-09 11:16:29,188]\u001b[0m Trial 36 finished with value: 272.5653373644845 and parameters: {'optimizer': <class 'tensorflow.python.keras.optimizer_v2.adam.Adam'>, 'units': 400, 'epochs': 90, 'batch_size': 32, 'learning_rate': 0.0038494540488001514}. Best is trial 31 with value: 270.31621677131477.\u001b[0m\n"
     ]
    },
    {
     "name": "stdout",
     "output_type": "stream",
     "text": [
      "Model: \"sequential_36\"\n",
      "_________________________________________________________________\n",
      "Layer (type)                 Output Shape              Param #   \n",
      "=================================================================\n",
      "lstm_36 (LSTM)               (None, 400)               643200    \n",
      "_________________________________________________________________\n",
      "dense_36 (Dense)             (None, 4)                 1604      \n",
      "=================================================================\n",
      "Total params: 644,804\n",
      "Trainable params: 644,804\n",
      "Non-trainable params: 0\n",
      "_________________________________________________________________\n",
      "PointredictScresSet0[0] 272.5653373644845\n"
     ]
    },
    {
     "name": "stderr",
     "output_type": "stream",
     "text": [
      "D:\\anaconda\\lib\\site-packages\\optuna\\distributions.py:427: UserWarning:\n",
      "\n",
      "Choices for a categorical distribution should be a tuple of None, bool, int, float and str for persistent storage but contains <class 'tensorflow.python.keras.optimizer_v2.adam.Adam'> which is of type ABCMeta.\n",
      "\n",
      "\u001b[32m[I 2022-11-09 11:23:02,429]\u001b[0m Trial 37 finished with value: 271.3865361530652 and parameters: {'optimizer': <class 'tensorflow.python.keras.optimizer_v2.adam.Adam'>, 'units': 455, 'epochs': 90, 'batch_size': 32, 'learning_rate': 0.0016079981833952855}. Best is trial 31 with value: 270.31621677131477.\u001b[0m\n"
     ]
    },
    {
     "name": "stdout",
     "output_type": "stream",
     "text": [
      "Model: \"sequential_37\"\n",
      "_________________________________________________________________\n",
      "Layer (type)                 Output Shape              Param #   \n",
      "=================================================================\n",
      "lstm_37 (LSTM)               (None, 455)               831740    \n",
      "_________________________________________________________________\n",
      "dense_37 (Dense)             (None, 4)                 1824      \n",
      "=================================================================\n",
      "Total params: 833,564\n",
      "Trainable params: 833,564\n",
      "Non-trainable params: 0\n",
      "_________________________________________________________________\n",
      "PointredictScresSet0[0] 271.3865361530652\n"
     ]
    },
    {
     "name": "stderr",
     "output_type": "stream",
     "text": [
      "D:\\anaconda\\lib\\site-packages\\optuna\\distributions.py:427: UserWarning:\n",
      "\n",
      "Choices for a categorical distribution should be a tuple of None, bool, int, float and str for persistent storage but contains <class 'tensorflow.python.keras.optimizer_v2.adam.Adam'> which is of type ABCMeta.\n",
      "\n",
      "\u001b[32m[I 2022-11-09 11:25:08,835]\u001b[0m Trial 38 finished with value: 274.2260986440297 and parameters: {'optimizer': <class 'tensorflow.python.keras.optimizer_v2.adam.Adam'>, 'units': 270, 'epochs': 100, 'batch_size': 512, 'learning_rate': 0.0034119525516709917}. Best is trial 31 with value: 270.31621677131477.\u001b[0m\n"
     ]
    },
    {
     "name": "stdout",
     "output_type": "stream",
     "text": [
      "Model: \"sequential_38\"\n",
      "_________________________________________________________________\n",
      "Layer (type)                 Output Shape              Param #   \n",
      "=================================================================\n",
      "lstm_38 (LSTM)               (None, 270)               293760    \n",
      "_________________________________________________________________\n",
      "dense_38 (Dense)             (None, 4)                 1084      \n",
      "=================================================================\n",
      "Total params: 294,844\n",
      "Trainable params: 294,844\n",
      "Non-trainable params: 0\n",
      "_________________________________________________________________\n",
      "PointredictScresSet0[0] 274.2260986440297\n"
     ]
    },
    {
     "name": "stderr",
     "output_type": "stream",
     "text": [
      "D:\\anaconda\\lib\\site-packages\\optuna\\distributions.py:427: UserWarning:\n",
      "\n",
      "Choices for a categorical distribution should be a tuple of None, bool, int, float and str for persistent storage but contains <class 'tensorflow.python.keras.optimizer_v2.adam.Adam'> which is of type ABCMeta.\n",
      "\n",
      "\u001b[32m[I 2022-11-09 11:27:51,465]\u001b[0m Trial 39 finished with value: 272.10663612176984 and parameters: {'optimizer': <class 'tensorflow.python.keras.optimizer_v2.adam.Adam'>, 'units': 340, 'epochs': 90, 'batch_size': 256, 'learning_rate': 0.024475635552460333}. Best is trial 31 with value: 270.31621677131477.\u001b[0m\n"
     ]
    },
    {
     "name": "stdout",
     "output_type": "stream",
     "text": [
      "Model: \"sequential_39\"\n",
      "_________________________________________________________________\n",
      "Layer (type)                 Output Shape              Param #   \n",
      "=================================================================\n",
      "lstm_39 (LSTM)               (None, 340)               465120    \n",
      "_________________________________________________________________\n",
      "dense_39 (Dense)             (None, 4)                 1364      \n",
      "=================================================================\n",
      "Total params: 466,484\n",
      "Trainable params: 466,484\n",
      "Non-trainable params: 0\n",
      "_________________________________________________________________\n",
      "PointredictScresSet0[0] 272.10663612176984\n"
     ]
    },
    {
     "name": "stderr",
     "output_type": "stream",
     "text": [
      "D:\\anaconda\\lib\\site-packages\\optuna\\distributions.py:427: UserWarning:\n",
      "\n",
      "Choices for a categorical distribution should be a tuple of None, bool, int, float and str for persistent storage but contains <class 'tensorflow.python.keras.optimizer_v2.adam.Adam'> which is of type ABCMeta.\n",
      "\n",
      "\u001b[32m[I 2022-11-09 11:30:19,827]\u001b[0m Trial 40 finished with value: 270.35442587675533 and parameters: {'optimizer': <class 'tensorflow.python.keras.optimizer_v2.adam.Adam'>, 'units': 225, 'epochs': 80, 'batch_size': 32, 'learning_rate': 0.0060801865122234585}. Best is trial 31 with value: 270.31621677131477.\u001b[0m\n"
     ]
    },
    {
     "name": "stdout",
     "output_type": "stream",
     "text": [
      "Model: \"sequential_40\"\n",
      "_________________________________________________________________\n",
      "Layer (type)                 Output Shape              Param #   \n",
      "=================================================================\n",
      "lstm_40 (LSTM)               (None, 225)               204300    \n",
      "_________________________________________________________________\n",
      "dense_40 (Dense)             (None, 4)                 904       \n",
      "=================================================================\n",
      "Total params: 205,204\n",
      "Trainable params: 205,204\n",
      "Non-trainable params: 0\n",
      "_________________________________________________________________\n",
      "PointredictScresSet0[0] 270.35442587675533\n"
     ]
    },
    {
     "name": "stderr",
     "output_type": "stream",
     "text": [
      "D:\\anaconda\\lib\\site-packages\\optuna\\distributions.py:427: UserWarning:\n",
      "\n",
      "Choices for a categorical distribution should be a tuple of None, bool, int, float and str for persistent storage but contains <class 'tensorflow.python.keras.optimizer_v2.adam.Adam'> which is of type ABCMeta.\n",
      "\n",
      "\u001b[32m[I 2022-11-09 11:32:28,394]\u001b[0m Trial 41 finished with value: 270.66348537417247 and parameters: {'optimizer': <class 'tensorflow.python.keras.optimizer_v2.adam.Adam'>, 'units': 220, 'epochs': 80, 'batch_size': 32, 'learning_rate': 0.013957994702768544}. Best is trial 31 with value: 270.31621677131477.\u001b[0m\n"
     ]
    },
    {
     "name": "stdout",
     "output_type": "stream",
     "text": [
      "Model: \"sequential_41\"\n",
      "_________________________________________________________________\n",
      "Layer (type)                 Output Shape              Param #   \n",
      "=================================================================\n",
      "lstm_41 (LSTM)               (None, 220)               195360    \n",
      "_________________________________________________________________\n",
      "dense_41 (Dense)             (None, 4)                 884       \n",
      "=================================================================\n",
      "Total params: 196,244\n",
      "Trainable params: 196,244\n",
      "Non-trainable params: 0\n",
      "_________________________________________________________________\n",
      "PointredictScresSet0[0] 270.66348537417247\n"
     ]
    },
    {
     "name": "stderr",
     "output_type": "stream",
     "text": [
      "D:\\anaconda\\lib\\site-packages\\optuna\\distributions.py:427: UserWarning:\n",
      "\n",
      "Choices for a categorical distribution should be a tuple of None, bool, int, float and str for persistent storage but contains <class 'tensorflow.python.keras.optimizer_v2.adam.Adam'> which is of type ABCMeta.\n",
      "\n",
      "\u001b[32m[I 2022-11-09 11:34:53,122]\u001b[0m Trial 42 finished with value: 276.5031830720915 and parameters: {'optimizer': <class 'tensorflow.python.keras.optimizer_v2.adam.Adam'>, 'units': 220, 'epochs': 90, 'batch_size': 32, 'learning_rate': 0.04764790408193072}. Best is trial 31 with value: 270.31621677131477.\u001b[0m\n"
     ]
    },
    {
     "name": "stdout",
     "output_type": "stream",
     "text": [
      "Model: \"sequential_42\"\n",
      "_________________________________________________________________\n",
      "Layer (type)                 Output Shape              Param #   \n",
      "=================================================================\n",
      "lstm_42 (LSTM)               (None, 220)               195360    \n",
      "_________________________________________________________________\n",
      "dense_42 (Dense)             (None, 4)                 884       \n",
      "=================================================================\n",
      "Total params: 196,244\n",
      "Trainable params: 196,244\n",
      "Non-trainable params: 0\n",
      "_________________________________________________________________\n",
      "PointredictScresSet0[0] 276.5031830720915\n"
     ]
    },
    {
     "name": "stderr",
     "output_type": "stream",
     "text": [
      "D:\\anaconda\\lib\\site-packages\\optuna\\distributions.py:427: UserWarning:\n",
      "\n",
      "Choices for a categorical distribution should be a tuple of None, bool, int, float and str for persistent storage but contains <class 'tensorflow.python.keras.optimizer_v2.adam.Adam'> which is of type ABCMeta.\n",
      "\n",
      "\u001b[32m[I 2022-11-09 11:36:58,973]\u001b[0m Trial 43 finished with value: 272.3951825495207 and parameters: {'optimizer': <class 'tensorflow.python.keras.optimizer_v2.adam.Adam'>, 'units': 165, 'epochs': 80, 'batch_size': 32, 'learning_rate': 0.0160954453428329}. Best is trial 31 with value: 270.31621677131477.\u001b[0m\n"
     ]
    },
    {
     "name": "stdout",
     "output_type": "stream",
     "text": [
      "Model: \"sequential_43\"\n",
      "_________________________________________________________________\n",
      "Layer (type)                 Output Shape              Param #   \n",
      "=================================================================\n",
      "lstm_43 (LSTM)               (None, 165)               110220    \n",
      "_________________________________________________________________\n",
      "dense_43 (Dense)             (None, 4)                 664       \n",
      "=================================================================\n",
      "Total params: 110,884\n",
      "Trainable params: 110,884\n",
      "Non-trainable params: 0\n",
      "_________________________________________________________________\n",
      "PointredictScresSet0[0] 272.3951825495207\n"
     ]
    },
    {
     "name": "stderr",
     "output_type": "stream",
     "text": [
      "D:\\anaconda\\lib\\site-packages\\optuna\\distributions.py:427: UserWarning:\n",
      "\n",
      "Choices for a categorical distribution should be a tuple of None, bool, int, float and str for persistent storage but contains <class 'tensorflow.python.keras.optimizer_v2.adam.Adam'> which is of type ABCMeta.\n",
      "\n",
      "\u001b[32m[I 2022-11-09 11:38:49,818]\u001b[0m Trial 44 finished with value: 271.3791756357638 and parameters: {'optimizer': <class 'tensorflow.python.keras.optimizer_v2.adam.Adam'>, 'units': 115, 'epochs': 100, 'batch_size': 32, 'learning_rate': 0.012700141923184785}. Best is trial 31 with value: 270.31621677131477.\u001b[0m\n"
     ]
    },
    {
     "name": "stdout",
     "output_type": "stream",
     "text": [
      "Model: \"sequential_44\"\n",
      "_________________________________________________________________\n",
      "Layer (type)                 Output Shape              Param #   \n",
      "=================================================================\n",
      "lstm_44 (LSTM)               (None, 115)               53820     \n",
      "_________________________________________________________________\n",
      "dense_44 (Dense)             (None, 4)                 464       \n",
      "=================================================================\n",
      "Total params: 54,284\n",
      "Trainable params: 54,284\n",
      "Non-trainable params: 0\n",
      "_________________________________________________________________\n",
      "PointredictScresSet0[0] 271.3791756357638\n"
     ]
    },
    {
     "name": "stderr",
     "output_type": "stream",
     "text": [
      "D:\\anaconda\\lib\\site-packages\\optuna\\distributions.py:427: UserWarning:\n",
      "\n",
      "Choices for a categorical distribution should be a tuple of None, bool, int, float and str for persistent storage but contains <class 'tensorflow.python.keras.optimizer_v2.adam.Adam'> which is of type ABCMeta.\n",
      "\n",
      "\u001b[32m[I 2022-11-09 11:40:07,789]\u001b[0m Trial 45 finished with value: 274.491913388958 and parameters: {'optimizer': <class 'tensorflow.python.keras.optimizer_v2.adam.Adam'>, 'units': 200, 'epochs': 50, 'batch_size': 256, 'learning_rate': 0.032307737763066516}. Best is trial 31 with value: 270.31621677131477.\u001b[0m\n"
     ]
    },
    {
     "name": "stdout",
     "output_type": "stream",
     "text": [
      "Model: \"sequential_45\"\n",
      "_________________________________________________________________\n",
      "Layer (type)                 Output Shape              Param #   \n",
      "=================================================================\n",
      "lstm_45 (LSTM)               (None, 200)               161600    \n",
      "_________________________________________________________________\n",
      "dense_45 (Dense)             (None, 4)                 804       \n",
      "=================================================================\n",
      "Total params: 162,404\n",
      "Trainable params: 162,404\n",
      "Non-trainable params: 0\n",
      "_________________________________________________________________\n",
      "PointredictScresSet0[0] 274.491913388958\n"
     ]
    },
    {
     "name": "stderr",
     "output_type": "stream",
     "text": [
      "D:\\anaconda\\lib\\site-packages\\optuna\\distributions.py:427: UserWarning:\n",
      "\n",
      "Choices for a categorical distribution should be a tuple of None, bool, int, float and str for persistent storage but contains <class 'tensorflow.python.keras.optimizer_v2.adam.Adam'> which is of type ABCMeta.\n",
      "\n",
      "\u001b[32m[I 2022-11-09 11:41:46,327]\u001b[0m Trial 46 finished with value: 274.9348239219348 and parameters: {'optimizer': <class 'tensorflow.python.keras.optimizer_v2.adam.Adam'>, 'units': 245, 'epochs': 70, 'batch_size': 512, 'learning_rate': 0.006368285725756377}. Best is trial 31 with value: 270.31621677131477.\u001b[0m\n"
     ]
    },
    {
     "name": "stdout",
     "output_type": "stream",
     "text": [
      "Model: \"sequential_46\"\n",
      "_________________________________________________________________\n",
      "Layer (type)                 Output Shape              Param #   \n",
      "=================================================================\n",
      "lstm_46 (LSTM)               (None, 245)               242060    \n",
      "_________________________________________________________________\n",
      "dense_46 (Dense)             (None, 4)                 984       \n",
      "=================================================================\n",
      "Total params: 243,044\n",
      "Trainable params: 243,044\n",
      "Non-trainable params: 0\n",
      "_________________________________________________________________\n",
      "PointredictScresSet0[0] 274.9348239219348\n"
     ]
    },
    {
     "name": "stderr",
     "output_type": "stream",
     "text": [
      "D:\\anaconda\\lib\\site-packages\\optuna\\distributions.py:427: UserWarning:\n",
      "\n",
      "Choices for a categorical distribution should be a tuple of None, bool, int, float and str for persistent storage but contains <class 'tensorflow.python.keras.optimizer_v2.adam.Adam'> which is of type ABCMeta.\n",
      "\n",
      "\u001b[32m[I 2022-11-09 11:46:13,562]\u001b[0m Trial 47 finished with value: 274.3995972226629 and parameters: {'optimizer': <class 'tensorflow.python.keras.optimizer_v2.adam.Adam'>, 'units': 285, 'epochs': 80, 'batch_size': 16, 'learning_rate': 0.021605463391941703}. Best is trial 31 with value: 270.31621677131477.\u001b[0m\n"
     ]
    },
    {
     "name": "stdout",
     "output_type": "stream",
     "text": [
      "Model: \"sequential_47\"\n",
      "_________________________________________________________________\n",
      "Layer (type)                 Output Shape              Param #   \n",
      "=================================================================\n",
      "lstm_47 (LSTM)               (None, 285)               327180    \n",
      "_________________________________________________________________\n",
      "dense_47 (Dense)             (None, 4)                 1144      \n",
      "=================================================================\n",
      "Total params: 328,324\n",
      "Trainable params: 328,324\n",
      "Non-trainable params: 0\n",
      "_________________________________________________________________\n",
      "PointredictScresSet0[0] 274.3995972226629\n"
     ]
    },
    {
     "name": "stderr",
     "output_type": "stream",
     "text": [
      "D:\\anaconda\\lib\\site-packages\\optuna\\distributions.py:427: UserWarning:\n",
      "\n",
      "Choices for a categorical distribution should be a tuple of None, bool, int, float and str for persistent storage but contains <class 'tensorflow.python.keras.optimizer_v2.adam.Adam'> which is of type ABCMeta.\n",
      "\n",
      "\u001b[32m[I 2022-11-09 11:48:04,119]\u001b[0m Trial 48 finished with value: 274.3898405946849 and parameters: {'optimizer': <class 'tensorflow.python.keras.optimizer_v2.adam.Adam'>, 'units': 230, 'epochs': 20, 'batch_size': 8, 'learning_rate': 0.00830746107655828}. Best is trial 31 with value: 270.31621677131477.\u001b[0m\n"
     ]
    },
    {
     "name": "stdout",
     "output_type": "stream",
     "text": [
      "Model: \"sequential_48\"\n",
      "_________________________________________________________________\n",
      "Layer (type)                 Output Shape              Param #   \n",
      "=================================================================\n",
      "lstm_48 (LSTM)               (None, 230)               213440    \n",
      "_________________________________________________________________\n",
      "dense_48 (Dense)             (None, 4)                 924       \n",
      "=================================================================\n",
      "Total params: 214,364\n",
      "Trainable params: 214,364\n",
      "Non-trainable params: 0\n",
      "_________________________________________________________________\n",
      "PointredictScresSet0[0] 274.3898405946849\n"
     ]
    },
    {
     "name": "stderr",
     "output_type": "stream",
     "text": [
      "D:\\anaconda\\lib\\site-packages\\optuna\\distributions.py:427: UserWarning:\n",
      "\n",
      "Choices for a categorical distribution should be a tuple of None, bool, int, float and str for persistent storage but contains <class 'tensorflow.python.keras.optimizer_v2.adam.Adam'> which is of type ABCMeta.\n",
      "\n",
      "\u001b[32m[I 2022-11-09 11:49:34,733]\u001b[0m Trial 49 finished with value: 644.1439718141427 and parameters: {'optimizer': <class 'tensorflow.python.keras.optimizer_v2.adam.Adam'>, 'units': 30, 'epochs': 90, 'batch_size': 32, 'learning_rate': 0.3539850896370184}. Best is trial 31 with value: 270.31621677131477.\u001b[0m\n"
     ]
    },
    {
     "name": "stdout",
     "output_type": "stream",
     "text": [
      "Model: \"sequential_49\"\n",
      "_________________________________________________________________\n",
      "Layer (type)                 Output Shape              Param #   \n",
      "=================================================================\n",
      "lstm_49 (LSTM)               (None, 30)                3840      \n",
      "_________________________________________________________________\n",
      "dense_49 (Dense)             (None, 4)                 124       \n",
      "=================================================================\n",
      "Total params: 3,964\n",
      "Trainable params: 3,964\n",
      "Non-trainable params: 0\n",
      "_________________________________________________________________\n",
      "PointredictScresSet0[0] 644.1439718141427\n"
     ]
    },
    {
     "name": "stderr",
     "output_type": "stream",
     "text": [
      "D:\\anaconda\\lib\\site-packages\\optuna\\distributions.py:427: UserWarning:\n",
      "\n",
      "Choices for a categorical distribution should be a tuple of None, bool, int, float and str for persistent storage but contains <class 'tensorflow.python.keras.optimizer_v2.adam.Adam'> which is of type ABCMeta.\n",
      "\n",
      "\u001b[32m[I 2022-11-09 11:51:08,266]\u001b[0m Trial 50 finished with value: 272.96369993202626 and parameters: {'optimizer': <class 'tensorflow.python.keras.optimizer_v2.adam.Adam'>, 'units': 200, 'epochs': 70, 'batch_size': 128, 'learning_rate': 0.004836064048752388}. Best is trial 31 with value: 270.31621677131477.\u001b[0m\n"
     ]
    },
    {
     "name": "stdout",
     "output_type": "stream",
     "text": [
      "Model: \"sequential_50\"\n",
      "_________________________________________________________________\n",
      "Layer (type)                 Output Shape              Param #   \n",
      "=================================================================\n",
      "lstm_50 (LSTM)               (None, 200)               161600    \n",
      "_________________________________________________________________\n",
      "dense_50 (Dense)             (None, 4)                 804       \n",
      "=================================================================\n",
      "Total params: 162,404\n",
      "Trainable params: 162,404\n",
      "Non-trainable params: 0\n",
      "_________________________________________________________________\n",
      "PointredictScresSet0[0] 272.96369993202626\n"
     ]
    },
    {
     "name": "stderr",
     "output_type": "stream",
     "text": [
      "D:\\anaconda\\lib\\site-packages\\optuna\\distributions.py:427: UserWarning:\n",
      "\n",
      "Choices for a categorical distribution should be a tuple of None, bool, int, float and str for persistent storage but contains <class 'tensorflow.python.keras.optimizer_v2.adam.Adam'> which is of type ABCMeta.\n",
      "\n",
      "\u001b[32m[I 2022-11-09 11:53:43,331]\u001b[0m Trial 51 finished with value: 270.60314266323644 and parameters: {'optimizer': <class 'tensorflow.python.keras.optimizer_v2.adam.Adam'>, 'units': 260, 'epochs': 80, 'batch_size': 32, 'learning_rate': 0.00270549907973615}. Best is trial 31 with value: 270.31621677131477.\u001b[0m\n"
     ]
    },
    {
     "name": "stdout",
     "output_type": "stream",
     "text": [
      "Model: \"sequential_51\"\n",
      "_________________________________________________________________\n",
      "Layer (type)                 Output Shape              Param #   \n",
      "=================================================================\n",
      "lstm_51 (LSTM)               (None, 260)               272480    \n",
      "_________________________________________________________________\n",
      "dense_51 (Dense)             (None, 4)                 1044      \n",
      "=================================================================\n",
      "Total params: 273,524\n",
      "Trainable params: 273,524\n",
      "Non-trainable params: 0\n",
      "_________________________________________________________________\n",
      "PointredictScresSet0[0] 270.60314266323644\n"
     ]
    },
    {
     "name": "stderr",
     "output_type": "stream",
     "text": [
      "D:\\anaconda\\lib\\site-packages\\optuna\\distributions.py:427: UserWarning:\n",
      "\n",
      "Choices for a categorical distribution should be a tuple of None, bool, int, float and str for persistent storage but contains <class 'tensorflow.python.keras.optimizer_v2.adam.Adam'> which is of type ABCMeta.\n",
      "\n",
      "\u001b[32m[I 2022-11-09 11:56:45,173]\u001b[0m Trial 52 finished with value: 270.81041351497885 and parameters: {'optimizer': <class 'tensorflow.python.keras.optimizer_v2.adam.Adam'>, 'units': 265, 'epochs': 80, 'batch_size': 32, 'learning_rate': 0.0016512872179380502}. Best is trial 31 with value: 270.31621677131477.\u001b[0m\n"
     ]
    },
    {
     "name": "stdout",
     "output_type": "stream",
     "text": [
      "Model: \"sequential_52\"\n",
      "_________________________________________________________________\n",
      "Layer (type)                 Output Shape              Param #   \n",
      "=================================================================\n",
      "lstm_52 (LSTM)               (None, 265)               283020    \n",
      "_________________________________________________________________\n",
      "dense_52 (Dense)             (None, 4)                 1064      \n",
      "=================================================================\n",
      "Total params: 284,084\n",
      "Trainable params: 284,084\n",
      "Non-trainable params: 0\n",
      "_________________________________________________________________\n",
      "PointredictScresSet0[0] 270.81041351497885\n"
     ]
    },
    {
     "name": "stderr",
     "output_type": "stream",
     "text": [
      "D:\\anaconda\\lib\\site-packages\\optuna\\distributions.py:427: UserWarning:\n",
      "\n",
      "Choices for a categorical distribution should be a tuple of None, bool, int, float and str for persistent storage but contains <class 'tensorflow.python.keras.optimizer_v2.adam.Adam'> which is of type ABCMeta.\n",
      "\n",
      "\u001b[32m[I 2022-11-09 11:59:19,340]\u001b[0m Trial 53 finished with value: 271.6977715855327 and parameters: {'optimizer': <class 'tensorflow.python.keras.optimizer_v2.adam.Adam'>, 'units': 300, 'epochs': 60, 'batch_size': 32, 'learning_rate': 0.009129963464125904}. Best is trial 31 with value: 270.31621677131477.\u001b[0m\n"
     ]
    },
    {
     "name": "stdout",
     "output_type": "stream",
     "text": [
      "Model: \"sequential_53\"\n",
      "_________________________________________________________________\n",
      "Layer (type)                 Output Shape              Param #   \n",
      "=================================================================\n",
      "lstm_53 (LSTM)               (None, 300)               362400    \n",
      "_________________________________________________________________\n",
      "dense_53 (Dense)             (None, 4)                 1204      \n",
      "=================================================================\n",
      "Total params: 363,604\n",
      "Trainable params: 363,604\n",
      "Non-trainable params: 0\n",
      "_________________________________________________________________\n",
      "PointredictScresSet0[0] 271.6977715855327\n"
     ]
    },
    {
     "name": "stderr",
     "output_type": "stream",
     "text": [
      "D:\\anaconda\\lib\\site-packages\\optuna\\distributions.py:427: UserWarning:\n",
      "\n",
      "Choices for a categorical distribution should be a tuple of None, bool, int, float and str for persistent storage but contains <class 'tensorflow.python.keras.optimizer_v2.adam.Adam'> which is of type ABCMeta.\n",
      "\n",
      "\u001b[32m[I 2022-11-09 12:01:51,315]\u001b[0m Trial 54 finished with value: 271.621560158374 and parameters: {'optimizer': <class 'tensorflow.python.keras.optimizer_v2.adam.Adam'>, 'units': 225, 'epochs': 90, 'batch_size': 32, 'learning_rate': 0.0024297687895726114}. Best is trial 31 with value: 270.31621677131477.\u001b[0m\n"
     ]
    },
    {
     "name": "stdout",
     "output_type": "stream",
     "text": [
      "Model: \"sequential_54\"\n",
      "_________________________________________________________________\n",
      "Layer (type)                 Output Shape              Param #   \n",
      "=================================================================\n",
      "lstm_54 (LSTM)               (None, 225)               204300    \n",
      "_________________________________________________________________\n",
      "dense_54 (Dense)             (None, 4)                 904       \n",
      "=================================================================\n",
      "Total params: 205,204\n",
      "Trainable params: 205,204\n",
      "Non-trainable params: 0\n",
      "_________________________________________________________________\n",
      "PointredictScresSet0[0] 271.621560158374\n"
     ]
    },
    {
     "name": "stderr",
     "output_type": "stream",
     "text": [
      "D:\\anaconda\\lib\\site-packages\\optuna\\distributions.py:427: UserWarning:\n",
      "\n",
      "Choices for a categorical distribution should be a tuple of None, bool, int, float and str for persistent storage but contains <class 'tensorflow.python.keras.optimizer_v2.adam.Adam'> which is of type ABCMeta.\n",
      "\n",
      "\u001b[32m[I 2022-11-09 12:03:59,686]\u001b[0m Trial 55 finished with value: 270.75338202630644 and parameters: {'optimizer': <class 'tensorflow.python.keras.optimizer_v2.adam.Adam'>, 'units': 165, 'epochs': 100, 'batch_size': 32, 'learning_rate': 0.006509697215063885}. Best is trial 31 with value: 270.31621677131477.\u001b[0m\n"
     ]
    },
    {
     "name": "stdout",
     "output_type": "stream",
     "text": [
      "Model: \"sequential_55\"\n",
      "_________________________________________________________________\n",
      "Layer (type)                 Output Shape              Param #   \n",
      "=================================================================\n",
      "lstm_55 (LSTM)               (None, 165)               110220    \n",
      "_________________________________________________________________\n",
      "dense_55 (Dense)             (None, 4)                 664       \n",
      "=================================================================\n",
      "Total params: 110,884\n",
      "Trainable params: 110,884\n",
      "Non-trainable params: 0\n",
      "_________________________________________________________________\n",
      "PointredictScresSet0[0] 270.75338202630644\n"
     ]
    },
    {
     "name": "stderr",
     "output_type": "stream",
     "text": [
      "D:\\anaconda\\lib\\site-packages\\optuna\\distributions.py:427: UserWarning:\n",
      "\n",
      "Choices for a categorical distribution should be a tuple of None, bool, int, float and str for persistent storage but contains <class 'tensorflow.python.keras.optimizer_v2.adam.Adam'> which is of type ABCMeta.\n",
      "\n",
      "\u001b[32m[I 2022-11-09 12:06:19,617]\u001b[0m Trial 56 finished with value: 271.45050094456127 and parameters: {'optimizer': <class 'tensorflow.python.keras.optimizer_v2.adam.Adam'>, 'units': 240, 'epochs': 80, 'batch_size': 32, 'learning_rate': 0.012637389308547665}. Best is trial 31 with value: 270.31621677131477.\u001b[0m\n"
     ]
    },
    {
     "name": "stdout",
     "output_type": "stream",
     "text": [
      "Model: \"sequential_56\"\n",
      "_________________________________________________________________\n",
      "Layer (type)                 Output Shape              Param #   \n",
      "=================================================================\n",
      "lstm_56 (LSTM)               (None, 240)               232320    \n",
      "_________________________________________________________________\n",
      "dense_56 (Dense)             (None, 4)                 964       \n",
      "=================================================================\n",
      "Total params: 233,284\n",
      "Trainable params: 233,284\n",
      "Non-trainable params: 0\n",
      "_________________________________________________________________\n",
      "PointredictScresSet0[0] 271.45050094456127\n"
     ]
    },
    {
     "name": "stderr",
     "output_type": "stream",
     "text": [
      "D:\\anaconda\\lib\\site-packages\\optuna\\distributions.py:427: UserWarning:\n",
      "\n",
      "Choices for a categorical distribution should be a tuple of None, bool, int, float and str for persistent storage but contains <class 'tensorflow.python.keras.optimizer_v2.adam.Adam'> which is of type ABCMeta.\n",
      "\n",
      "\u001b[32m[I 2022-11-09 12:08:13,168]\u001b[0m Trial 57 finished with value: 270.0976989005938 and parameters: {'optimizer': <class 'tensorflow.python.keras.optimizer_v2.adam.Adam'>, 'units': 205, 'epochs': 70, 'batch_size': 32, 'learning_rate': 0.003976844526474616}. Best is trial 57 with value: 270.0976989005938.\u001b[0m\n"
     ]
    },
    {
     "name": "stdout",
     "output_type": "stream",
     "text": [
      "Model: \"sequential_57\"\n",
      "_________________________________________________________________\n",
      "Layer (type)                 Output Shape              Param #   \n",
      "=================================================================\n",
      "lstm_57 (LSTM)               (None, 205)               169740    \n",
      "_________________________________________________________________\n",
      "dense_57 (Dense)             (None, 4)                 824       \n",
      "=================================================================\n",
      "Total params: 170,564\n",
      "Trainable params: 170,564\n",
      "Non-trainable params: 0\n",
      "_________________________________________________________________\n",
      "PointredictScresSet0[0] 270.0976989005938\n"
     ]
    },
    {
     "name": "stderr",
     "output_type": "stream",
     "text": [
      "D:\\anaconda\\lib\\site-packages\\optuna\\distributions.py:427: UserWarning:\n",
      "\n",
      "Choices for a categorical distribution should be a tuple of None, bool, int, float and str for persistent storage but contains <class 'tensorflow.python.keras.optimizer_v2.adam.Adam'> which is of type ABCMeta.\n",
      "\n",
      "\u001b[32m[I 2022-11-09 12:09:31,226]\u001b[0m Trial 58 finished with value: 275.1208582369378 and parameters: {'optimizer': <class 'tensorflow.python.keras.optimizer_v2.adam.Adam'>, 'units': 170, 'epochs': 70, 'batch_size': 256, 'learning_rate': 0.004394904857118203}. Best is trial 57 with value: 270.0976989005938.\u001b[0m\n"
     ]
    },
    {
     "name": "stdout",
     "output_type": "stream",
     "text": [
      "Model: \"sequential_58\"\n",
      "_________________________________________________________________\n",
      "Layer (type)                 Output Shape              Param #   \n",
      "=================================================================\n",
      "lstm_58 (LSTM)               (None, 170)               116960    \n",
      "_________________________________________________________________\n",
      "dense_58 (Dense)             (None, 4)                 684       \n",
      "=================================================================\n",
      "Total params: 117,644\n",
      "Trainable params: 117,644\n",
      "Non-trainable params: 0\n",
      "_________________________________________________________________\n",
      "PointredictScresSet0[0] 275.1208582369378\n"
     ]
    },
    {
     "name": "stderr",
     "output_type": "stream",
     "text": [
      "D:\\anaconda\\lib\\site-packages\\optuna\\distributions.py:427: UserWarning:\n",
      "\n",
      "Choices for a categorical distribution should be a tuple of None, bool, int, float and str for persistent storage but contains <class 'tensorflow.python.keras.optimizer_v2.adam.Adam'> which is of type ABCMeta.\n",
      "\n",
      "\u001b[32m[I 2022-11-09 12:11:10,334]\u001b[0m Trial 59 finished with value: 270.93577394713475 and parameters: {'optimizer': <class 'tensorflow.python.keras.optimizer_v2.adam.Adam'>, 'units': 125, 'epochs': 70, 'batch_size': 32, 'learning_rate': 0.0013360552342451114}. Best is trial 57 with value: 270.0976989005938.\u001b[0m\n"
     ]
    },
    {
     "name": "stdout",
     "output_type": "stream",
     "text": [
      "Model: \"sequential_59\"\n",
      "_________________________________________________________________\n",
      "Layer (type)                 Output Shape              Param #   \n",
      "=================================================================\n",
      "lstm_59 (LSTM)               (None, 125)               63500     \n",
      "_________________________________________________________________\n",
      "dense_59 (Dense)             (None, 4)                 504       \n",
      "=================================================================\n",
      "Total params: 64,004\n",
      "Trainable params: 64,004\n",
      "Non-trainable params: 0\n",
      "_________________________________________________________________\n",
      "PointredictScresSet0[0] 270.93577394713475\n"
     ]
    },
    {
     "name": "stderr",
     "output_type": "stream",
     "text": [
      "D:\\anaconda\\lib\\site-packages\\optuna\\distributions.py:427: UserWarning:\n",
      "\n",
      "Choices for a categorical distribution should be a tuple of None, bool, int, float and str for persistent storage but contains <class 'tensorflow.python.keras.optimizer_v2.adam.Adam'> which is of type ABCMeta.\n",
      "\n",
      "\u001b[32m[I 2022-11-09 12:12:34,572]\u001b[0m Trial 60 finished with value: 276.2432795488424 and parameters: {'optimizer': <class 'tensorflow.python.keras.optimizer_v2.adam.Adam'>, 'units': 205, 'epochs': 60, 'batch_size': 512, 'learning_rate': 0.0026996557743455994}. Best is trial 57 with value: 270.0976989005938.\u001b[0m\n"
     ]
    },
    {
     "name": "stdout",
     "output_type": "stream",
     "text": [
      "Model: \"sequential_60\"\n",
      "_________________________________________________________________\n",
      "Layer (type)                 Output Shape              Param #   \n",
      "=================================================================\n",
      "lstm_60 (LSTM)               (None, 205)               169740    \n",
      "_________________________________________________________________\n",
      "dense_60 (Dense)             (None, 4)                 824       \n",
      "=================================================================\n",
      "Total params: 170,564\n",
      "Trainable params: 170,564\n",
      "Non-trainable params: 0\n",
      "_________________________________________________________________\n",
      "PointredictScresSet0[0] 276.2432795488424\n"
     ]
    },
    {
     "name": "stderr",
     "output_type": "stream",
     "text": [
      "D:\\anaconda\\lib\\site-packages\\optuna\\distributions.py:427: UserWarning:\n",
      "\n",
      "Choices for a categorical distribution should be a tuple of None, bool, int, float and str for persistent storage but contains <class 'tensorflow.python.keras.optimizer_v2.adam.Adam'> which is of type ABCMeta.\n",
      "\n",
      "\u001b[32m[I 2022-11-09 12:15:59,916]\u001b[0m Trial 61 finished with value: 269.5370805346891 and parameters: {'optimizer': <class 'tensorflow.python.keras.optimizer_v2.adam.Adam'>, 'units': 285, 'epochs': 80, 'batch_size': 32, 'learning_rate': 0.0032715725806322527}. Best is trial 61 with value: 269.5370805346891.\u001b[0m\n"
     ]
    },
    {
     "name": "stdout",
     "output_type": "stream",
     "text": [
      "Model: \"sequential_61\"\n",
      "_________________________________________________________________\n",
      "Layer (type)                 Output Shape              Param #   \n",
      "=================================================================\n",
      "lstm_61 (LSTM)               (None, 285)               327180    \n",
      "_________________________________________________________________\n",
      "dense_61 (Dense)             (None, 4)                 1144      \n",
      "=================================================================\n",
      "Total params: 328,324\n",
      "Trainable params: 328,324\n",
      "Non-trainable params: 0\n",
      "_________________________________________________________________\n",
      "PointredictScresSet0[0] 269.5370805346891\n"
     ]
    },
    {
     "name": "stderr",
     "output_type": "stream",
     "text": [
      "D:\\anaconda\\lib\\site-packages\\optuna\\distributions.py:427: UserWarning:\n",
      "\n",
      "Choices for a categorical distribution should be a tuple of None, bool, int, float and str for persistent storage but contains <class 'tensorflow.python.keras.optimizer_v2.adam.Adam'> which is of type ABCMeta.\n",
      "\n",
      "\u001b[32m[I 2022-11-09 12:19:23,821]\u001b[0m Trial 62 finished with value: 271.7702482810649 and parameters: {'optimizer': <class 'tensorflow.python.keras.optimizer_v2.adam.Adam'>, 'units': 290, 'epochs': 80, 'batch_size': 32, 'learning_rate': 0.0034648197661042205}. Best is trial 61 with value: 269.5370805346891.\u001b[0m\n"
     ]
    },
    {
     "name": "stdout",
     "output_type": "stream",
     "text": [
      "Model: \"sequential_62\"\n",
      "_________________________________________________________________\n",
      "Layer (type)                 Output Shape              Param #   \n",
      "=================================================================\n",
      "lstm_62 (LSTM)               (None, 290)               338720    \n",
      "_________________________________________________________________\n",
      "dense_62 (Dense)             (None, 4)                 1164      \n",
      "=================================================================\n",
      "Total params: 339,884\n",
      "Trainable params: 339,884\n",
      "Non-trainable params: 0\n",
      "_________________________________________________________________\n",
      "PointredictScresSet0[0] 271.7702482810649\n"
     ]
    },
    {
     "name": "stderr",
     "output_type": "stream",
     "text": [
      "D:\\anaconda\\lib\\site-packages\\optuna\\distributions.py:427: UserWarning:\n",
      "\n",
      "Choices for a categorical distribution should be a tuple of None, bool, int, float and str for persistent storage but contains <class 'tensorflow.python.keras.optimizer_v2.adam.Adam'> which is of type ABCMeta.\n",
      "\n",
      "\u001b[32m[I 2022-11-09 12:22:31,635]\u001b[0m Trial 63 finished with value: 270.999280499672 and parameters: {'optimizer': <class 'tensorflow.python.keras.optimizer_v2.adam.Adam'>, 'units': 260, 'epochs': 90, 'batch_size': 32, 'learning_rate': 0.006166761413591992}. Best is trial 61 with value: 269.5370805346891.\u001b[0m\n"
     ]
    },
    {
     "name": "stdout",
     "output_type": "stream",
     "text": [
      "Model: \"sequential_63\"\n",
      "_________________________________________________________________\n",
      "Layer (type)                 Output Shape              Param #   \n",
      "=================================================================\n",
      "lstm_63 (LSTM)               (None, 260)               272480    \n",
      "_________________________________________________________________\n",
      "dense_63 (Dense)             (None, 4)                 1044      \n",
      "=================================================================\n",
      "Total params: 273,524\n",
      "Trainable params: 273,524\n",
      "Non-trainable params: 0\n",
      "_________________________________________________________________\n",
      "PointredictScresSet0[0] 270.999280499672\n"
     ]
    },
    {
     "name": "stderr",
     "output_type": "stream",
     "text": [
      "D:\\anaconda\\lib\\site-packages\\optuna\\distributions.py:427: UserWarning:\n",
      "\n",
      "Choices for a categorical distribution should be a tuple of None, bool, int, float and str for persistent storage but contains <class 'tensorflow.python.keras.optimizer_v2.adam.Adam'> which is of type ABCMeta.\n",
      "\n",
      "\u001b[32m[I 2022-11-09 12:26:38,642]\u001b[0m Trial 64 finished with value: 271.2217350959735 and parameters: {'optimizer': <class 'tensorflow.python.keras.optimizer_v2.adam.Adam'>, 'units': 275, 'epochs': 70, 'batch_size': 16, 'learning_rate': 0.0018475173372590765}. Best is trial 61 with value: 269.5370805346891.\u001b[0m\n"
     ]
    },
    {
     "name": "stdout",
     "output_type": "stream",
     "text": [
      "Model: \"sequential_64\"\n",
      "_________________________________________________________________\n",
      "Layer (type)                 Output Shape              Param #   \n",
      "=================================================================\n",
      "lstm_64 (LSTM)               (None, 275)               304700    \n",
      "_________________________________________________________________\n",
      "dense_64 (Dense)             (None, 4)                 1104      \n",
      "=================================================================\n",
      "Total params: 305,804\n",
      "Trainable params: 305,804\n",
      "Non-trainable params: 0\n",
      "_________________________________________________________________\n",
      "PointredictScresSet0[0] 271.2217350959735\n"
     ]
    },
    {
     "name": "stderr",
     "output_type": "stream",
     "text": [
      "D:\\anaconda\\lib\\site-packages\\optuna\\distributions.py:427: UserWarning:\n",
      "\n",
      "Choices for a categorical distribution should be a tuple of None, bool, int, float and str for persistent storage but contains <class 'tensorflow.python.keras.optimizer_v2.adam.Adam'> which is of type ABCMeta.\n",
      "\n",
      "\u001b[32m[I 2022-11-09 12:29:12,105]\u001b[0m Trial 65 finished with value: 271.11637777854065 and parameters: {'optimizer': <class 'tensorflow.python.keras.optimizer_v2.adam.Adam'>, 'units': 330, 'epochs': 40, 'batch_size': 32, 'learning_rate': 0.004330876389088277}. Best is trial 61 with value: 269.5370805346891.\u001b[0m\n"
     ]
    },
    {
     "name": "stdout",
     "output_type": "stream",
     "text": [
      "Model: \"sequential_65\"\n",
      "_________________________________________________________________\n",
      "Layer (type)                 Output Shape              Param #   \n",
      "=================================================================\n",
      "lstm_65 (LSTM)               (None, 330)               438240    \n",
      "_________________________________________________________________\n",
      "dense_65 (Dense)             (None, 4)                 1324      \n",
      "=================================================================\n",
      "Total params: 439,564\n",
      "Trainable params: 439,564\n",
      "Non-trainable params: 0\n",
      "_________________________________________________________________\n",
      "PointredictScresSet0[0] 271.11637777854065\n"
     ]
    },
    {
     "name": "stderr",
     "output_type": "stream",
     "text": [
      "D:\\anaconda\\lib\\site-packages\\optuna\\distributions.py:427: UserWarning:\n",
      "\n",
      "Choices for a categorical distribution should be a tuple of None, bool, int, float and str for persistent storage but contains <class 'tensorflow.python.keras.optimizer_v2.adam.Adam'> which is of type ABCMeta.\n",
      "\n",
      "\u001b[32m[I 2022-11-09 12:38:22,341]\u001b[0m Trial 66 finished with value: 272.5916069348069 and parameters: {'optimizer': <class 'tensorflow.python.keras.optimizer_v2.adam.Adam'>, 'units': 305, 'epochs': 80, 'batch_size': 8, 'learning_rate': 0.0010594577326640104}. Best is trial 61 with value: 269.5370805346891.\u001b[0m\n"
     ]
    },
    {
     "name": "stdout",
     "output_type": "stream",
     "text": [
      "Model: \"sequential_66\"\n",
      "_________________________________________________________________\n",
      "Layer (type)                 Output Shape              Param #   \n",
      "=================================================================\n",
      "lstm_66 (LSTM)               (None, 305)               374540    \n",
      "_________________________________________________________________\n",
      "dense_66 (Dense)             (None, 4)                 1224      \n",
      "=================================================================\n",
      "Total params: 375,764\n",
      "Trainable params: 375,764\n",
      "Non-trainable params: 0\n",
      "_________________________________________________________________\n",
      "PointredictScresSet0[0] 272.5916069348069\n"
     ]
    },
    {
     "name": "stderr",
     "output_type": "stream",
     "text": [
      "D:\\anaconda\\lib\\site-packages\\optuna\\distributions.py:427: UserWarning:\n",
      "\n",
      "Choices for a categorical distribution should be a tuple of None, bool, int, float and str for persistent storage but contains <class 'tensorflow.python.keras.optimizer_v2.adam.Adam'> which is of type ABCMeta.\n",
      "\n",
      "\u001b[32m[I 2022-11-09 12:40:17,250]\u001b[0m Trial 67 finished with value: 271.88397713338736 and parameters: {'optimizer': <class 'tensorflow.python.keras.optimizer_v2.adam.Adam'>, 'units': 240, 'epochs': 90, 'batch_size': 128, 'learning_rate': 0.0030143278672954453}. Best is trial 61 with value: 269.5370805346891.\u001b[0m\n"
     ]
    },
    {
     "name": "stdout",
     "output_type": "stream",
     "text": [
      "Model: \"sequential_67\"\n",
      "_________________________________________________________________\n",
      "Layer (type)                 Output Shape              Param #   \n",
      "=================================================================\n",
      "lstm_67 (LSTM)               (None, 240)               232320    \n",
      "_________________________________________________________________\n",
      "dense_67 (Dense)             (None, 4)                 964       \n",
      "=================================================================\n",
      "Total params: 233,284\n",
      "Trainable params: 233,284\n",
      "Non-trainable params: 0\n",
      "_________________________________________________________________\n",
      "PointredictScresSet0[0] 271.88397713338736\n"
     ]
    },
    {
     "name": "stderr",
     "output_type": "stream",
     "text": [
      "D:\\anaconda\\lib\\site-packages\\optuna\\distributions.py:427: UserWarning:\n",
      "\n",
      "Choices for a categorical distribution should be a tuple of None, bool, int, float and str for persistent storage but contains <class 'tensorflow.python.keras.optimizer_v2.adam.Adam'> which is of type ABCMeta.\n",
      "\n",
      "\u001b[32m[I 2022-11-09 12:42:14,509]\u001b[0m Trial 68 finished with value: 270.75527055343383 and parameters: {'optimizer': <class 'tensorflow.python.keras.optimizer_v2.adam.Adam'>, 'units': 190, 'epochs': 80, 'batch_size': 32, 'learning_rate': 0.0021670135159056487}. Best is trial 61 with value: 269.5370805346891.\u001b[0m\n"
     ]
    },
    {
     "name": "stdout",
     "output_type": "stream",
     "text": [
      "Model: \"sequential_68\"\n",
      "_________________________________________________________________\n",
      "Layer (type)                 Output Shape              Param #   \n",
      "=================================================================\n",
      "lstm_68 (LSTM)               (None, 190)               145920    \n",
      "_________________________________________________________________\n",
      "dense_68 (Dense)             (None, 4)                 764       \n",
      "=================================================================\n",
      "Total params: 146,684\n",
      "Trainable params: 146,684\n",
      "Non-trainable params: 0\n",
      "_________________________________________________________________\n",
      "PointredictScresSet0[0] 270.75527055343383\n"
     ]
    },
    {
     "name": "stderr",
     "output_type": "stream",
     "text": [
      "D:\\anaconda\\lib\\site-packages\\optuna\\distributions.py:427: UserWarning:\n",
      "\n",
      "Choices for a categorical distribution should be a tuple of None, bool, int, float and str for persistent storage but contains <class 'tensorflow.python.keras.optimizer_v2.adam.Adam'> which is of type ABCMeta.\n",
      "\n",
      "\u001b[32m[I 2022-11-09 12:44:58,506]\u001b[0m Trial 69 finished with value: 271.73124573881165 and parameters: {'optimizer': <class 'tensorflow.python.keras.optimizer_v2.adam.Adam'>, 'units': 255, 'epochs': 90, 'batch_size': 32, 'learning_rate': 0.007506753622319829}. Best is trial 61 with value: 269.5370805346891.\u001b[0m\n"
     ]
    },
    {
     "name": "stdout",
     "output_type": "stream",
     "text": [
      "Model: \"sequential_69\"\n",
      "_________________________________________________________________\n",
      "Layer (type)                 Output Shape              Param #   \n",
      "=================================================================\n",
      "lstm_69 (LSTM)               (None, 255)               262140    \n",
      "_________________________________________________________________\n",
      "dense_69 (Dense)             (None, 4)                 1024      \n",
      "=================================================================\n",
      "Total params: 263,164\n",
      "Trainable params: 263,164\n",
      "Non-trainable params: 0\n",
      "_________________________________________________________________\n",
      "PointredictScresSet0[0] 271.73124573881165\n"
     ]
    },
    {
     "name": "stderr",
     "output_type": "stream",
     "text": [
      "D:\\anaconda\\lib\\site-packages\\optuna\\distributions.py:427: UserWarning:\n",
      "\n",
      "Choices for a categorical distribution should be a tuple of None, bool, int, float and str for persistent storage but contains <class 'tensorflow.python.keras.optimizer_v2.adam.Adam'> which is of type ABCMeta.\n",
      "\n",
      "\u001b[32m[I 2022-11-09 12:47:24,386]\u001b[0m Trial 70 finished with value: 270.88879514328687 and parameters: {'optimizer': <class 'tensorflow.python.keras.optimizer_v2.adam.Adam'>, 'units': 285, 'epochs': 50, 'batch_size': 32, 'learning_rate': 0.005437298078074213}. Best is trial 61 with value: 269.5370805346891.\u001b[0m\n"
     ]
    },
    {
     "name": "stdout",
     "output_type": "stream",
     "text": [
      "Model: \"sequential_70\"\n",
      "_________________________________________________________________\n",
      "Layer (type)                 Output Shape              Param #   \n",
      "=================================================================\n",
      "lstm_70 (LSTM)               (None, 285)               327180    \n",
      "_________________________________________________________________\n",
      "dense_70 (Dense)             (None, 4)                 1144      \n",
      "=================================================================\n",
      "Total params: 328,324\n",
      "Trainable params: 328,324\n",
      "Non-trainable params: 0\n",
      "_________________________________________________________________\n",
      "PointredictScresSet0[0] 270.88879514328687\n"
     ]
    },
    {
     "name": "stderr",
     "output_type": "stream",
     "text": [
      "D:\\anaconda\\lib\\site-packages\\optuna\\distributions.py:427: UserWarning:\n",
      "\n",
      "Choices for a categorical distribution should be a tuple of None, bool, int, float and str for persistent storage but contains <class 'tensorflow.python.keras.optimizer_v2.adam.Adam'> which is of type ABCMeta.\n",
      "\n",
      "\u001b[32m[I 2022-11-09 12:49:34,936]\u001b[0m Trial 71 finished with value: 271.2742505590276 and parameters: {'optimizer': <class 'tensorflow.python.keras.optimizer_v2.adam.Adam'>, 'units': 215, 'epochs': 80, 'batch_size': 32, 'learning_rate': 0.009557990662113148}. Best is trial 61 with value: 269.5370805346891.\u001b[0m\n"
     ]
    },
    {
     "name": "stdout",
     "output_type": "stream",
     "text": [
      "Model: \"sequential_71\"\n",
      "_________________________________________________________________\n",
      "Layer (type)                 Output Shape              Param #   \n",
      "=================================================================\n",
      "lstm_71 (LSTM)               (None, 215)               186620    \n",
      "_________________________________________________________________\n",
      "dense_71 (Dense)             (None, 4)                 864       \n",
      "=================================================================\n",
      "Total params: 187,484\n",
      "Trainable params: 187,484\n",
      "Non-trainable params: 0\n",
      "_________________________________________________________________\n",
      "PointredictScresSet0[0] 271.2742505590276\n"
     ]
    },
    {
     "name": "stderr",
     "output_type": "stream",
     "text": [
      "D:\\anaconda\\lib\\site-packages\\optuna\\distributions.py:427: UserWarning:\n",
      "\n",
      "Choices for a categorical distribution should be a tuple of None, bool, int, float and str for persistent storage but contains <class 'tensorflow.python.keras.optimizer_v2.adam.Adam'> which is of type ABCMeta.\n",
      "\n",
      "\u001b[32m[I 2022-11-09 12:52:58,977]\u001b[0m Trial 72 finished with value: 270.8208134139062 and parameters: {'optimizer': <class 'tensorflow.python.keras.optimizer_v2.adam.Adam'>, 'units': 310, 'epochs': 80, 'batch_size': 32, 'learning_rate': 0.011778599904941572}. Best is trial 61 with value: 269.5370805346891.\u001b[0m\n"
     ]
    },
    {
     "name": "stdout",
     "output_type": "stream",
     "text": [
      "Model: \"sequential_72\"\n",
      "_________________________________________________________________\n",
      "Layer (type)                 Output Shape              Param #   \n",
      "=================================================================\n",
      "lstm_72 (LSTM)               (None, 310)               386880    \n",
      "_________________________________________________________________\n",
      "dense_72 (Dense)             (None, 4)                 1244      \n",
      "=================================================================\n",
      "Total params: 388,124\n",
      "Trainable params: 388,124\n",
      "Non-trainable params: 0\n",
      "_________________________________________________________________\n",
      "PointredictScresSet0[0] 270.8208134139062\n"
     ]
    },
    {
     "name": "stderr",
     "output_type": "stream",
     "text": [
      "D:\\anaconda\\lib\\site-packages\\optuna\\distributions.py:427: UserWarning:\n",
      "\n",
      "Choices for a categorical distribution should be a tuple of None, bool, int, float and str for persistent storage but contains <class 'tensorflow.python.keras.optimizer_v2.adam.Adam'> which is of type ABCMeta.\n",
      "\n",
      "\u001b[32m[I 2022-11-09 12:55:30,676]\u001b[0m Trial 73 finished with value: 270.84808024292636 and parameters: {'optimizer': <class 'tensorflow.python.keras.optimizer_v2.adam.Adam'>, 'units': 235, 'epochs': 70, 'batch_size': 32, 'learning_rate': 0.005503317305568821}. Best is trial 61 with value: 269.5370805346891.\u001b[0m\n"
     ]
    },
    {
     "name": "stdout",
     "output_type": "stream",
     "text": [
      "Model: \"sequential_73\"\n",
      "_________________________________________________________________\n",
      "Layer (type)                 Output Shape              Param #   \n",
      "=================================================================\n",
      "lstm_73 (LSTM)               (None, 235)               222780    \n",
      "_________________________________________________________________\n",
      "dense_73 (Dense)             (None, 4)                 944       \n",
      "=================================================================\n",
      "Total params: 223,724\n",
      "Trainable params: 223,724\n",
      "Non-trainable params: 0\n",
      "_________________________________________________________________\n",
      "PointredictScresSet0[0] 270.84808024292636\n"
     ]
    },
    {
     "name": "stderr",
     "output_type": "stream",
     "text": [
      "D:\\anaconda\\lib\\site-packages\\optuna\\distributions.py:427: UserWarning:\n",
      "\n",
      "Choices for a categorical distribution should be a tuple of None, bool, int, float and str for persistent storage but contains <class 'tensorflow.python.keras.optimizer_v2.adam.Adam'> which is of type ABCMeta.\n",
      "\n",
      "\u001b[32m[I 2022-11-09 12:57:29,108]\u001b[0m Trial 74 finished with value: 271.90221259130715 and parameters: {'optimizer': <class 'tensorflow.python.keras.optimizer_v2.adam.Adam'>, 'units': 180, 'epochs': 80, 'batch_size': 32, 'learning_rate': 0.018253848193462825}. Best is trial 61 with value: 269.5370805346891.\u001b[0m\n"
     ]
    },
    {
     "name": "stdout",
     "output_type": "stream",
     "text": [
      "Model: \"sequential_74\"\n",
      "_________________________________________________________________\n",
      "Layer (type)                 Output Shape              Param #   \n",
      "=================================================================\n",
      "lstm_74 (LSTM)               (None, 180)               131040    \n",
      "_________________________________________________________________\n",
      "dense_74 (Dense)             (None, 4)                 724       \n",
      "=================================================================\n",
      "Total params: 131,764\n",
      "Trainable params: 131,764\n",
      "Non-trainable params: 0\n",
      "_________________________________________________________________\n",
      "PointredictScresSet0[0] 271.90221259130715\n"
     ]
    },
    {
     "name": "stderr",
     "output_type": "stream",
     "text": [
      "D:\\anaconda\\lib\\site-packages\\optuna\\distributions.py:427: UserWarning:\n",
      "\n",
      "Choices for a categorical distribution should be a tuple of None, bool, int, float and str for persistent storage but contains <class 'tensorflow.python.keras.optimizer_v2.adam.Adam'> which is of type ABCMeta.\n",
      "\n",
      "\u001b[32m[I 2022-11-09 12:59:41,559]\u001b[0m Trial 75 finished with value: 272.6417328407163 and parameters: {'optimizer': <class 'tensorflow.python.keras.optimizer_v2.adam.Adam'>, 'units': 265, 'epochs': 80, 'batch_size': 64, 'learning_rate': 0.0014392580241157657}. Best is trial 61 with value: 269.5370805346891.\u001b[0m\n"
     ]
    },
    {
     "name": "stdout",
     "output_type": "stream",
     "text": [
      "Model: \"sequential_75\"\n",
      "_________________________________________________________________\n",
      "Layer (type)                 Output Shape              Param #   \n",
      "=================================================================\n",
      "lstm_75 (LSTM)               (None, 265)               283020    \n",
      "_________________________________________________________________\n",
      "dense_75 (Dense)             (None, 4)                 1064      \n",
      "=================================================================\n",
      "Total params: 284,084\n",
      "Trainable params: 284,084\n",
      "Non-trainable params: 0\n",
      "_________________________________________________________________\n",
      "PointredictScresSet0[0] 272.6417328407163\n"
     ]
    },
    {
     "name": "stderr",
     "output_type": "stream",
     "text": [
      "D:\\anaconda\\lib\\site-packages\\optuna\\distributions.py:427: UserWarning:\n",
      "\n",
      "Choices for a categorical distribution should be a tuple of None, bool, int, float and str for persistent storage but contains <class 'tensorflow.python.keras.optimizer_v2.adam.Adam'> which is of type ABCMeta.\n",
      "\n",
      "\u001b[32m[I 2022-11-09 13:01:45,697]\u001b[0m Trial 76 finished with value: 271.58416887737036 and parameters: {'optimizer': <class 'tensorflow.python.keras.optimizer_v2.adam.Adam'>, 'units': 150, 'epochs': 100, 'batch_size': 32, 'learning_rate': 0.013863699079970556}. Best is trial 61 with value: 269.5370805346891.\u001b[0m\n"
     ]
    },
    {
     "name": "stdout",
     "output_type": "stream",
     "text": [
      "Model: \"sequential_76\"\n",
      "_________________________________________________________________\n",
      "Layer (type)                 Output Shape              Param #   \n",
      "=================================================================\n",
      "lstm_76 (LSTM)               (None, 150)               91200     \n",
      "_________________________________________________________________\n",
      "dense_76 (Dense)             (None, 4)                 604       \n",
      "=================================================================\n",
      "Total params: 91,804\n",
      "Trainable params: 91,804\n",
      "Non-trainable params: 0\n",
      "_________________________________________________________________\n",
      "PointredictScresSet0[0] 271.58416887737036\n"
     ]
    },
    {
     "name": "stderr",
     "output_type": "stream",
     "text": [
      "D:\\anaconda\\lib\\site-packages\\optuna\\distributions.py:427: UserWarning:\n",
      "\n",
      "Choices for a categorical distribution should be a tuple of None, bool, int, float and str for persistent storage but contains <class 'tensorflow.python.keras.optimizer_v2.adam.Adam'> which is of type ABCMeta.\n",
      "\n",
      "\u001b[32m[I 2022-11-09 13:04:11,617]\u001b[0m Trial 77 finished with value: 270.21443635991346 and parameters: {'optimizer': <class 'tensorflow.python.keras.optimizer_v2.adam.Adam'>, 'units': 210, 'epochs': 90, 'batch_size': 32, 'learning_rate': 0.00295734714012063}. Best is trial 61 with value: 269.5370805346891.\u001b[0m\n"
     ]
    },
    {
     "name": "stdout",
     "output_type": "stream",
     "text": [
      "Model: \"sequential_77\"\n",
      "_________________________________________________________________\n",
      "Layer (type)                 Output Shape              Param #   \n",
      "=================================================================\n",
      "lstm_77 (LSTM)               (None, 210)               178080    \n",
      "_________________________________________________________________\n",
      "dense_77 (Dense)             (None, 4)                 844       \n",
      "=================================================================\n",
      "Total params: 178,924\n",
      "Trainable params: 178,924\n",
      "Non-trainable params: 0\n",
      "_________________________________________________________________\n",
      "PointredictScresSet0[0] 270.21443635991346\n"
     ]
    },
    {
     "name": "stderr",
     "output_type": "stream",
     "text": [
      "D:\\anaconda\\lib\\site-packages\\optuna\\distributions.py:427: UserWarning:\n",
      "\n",
      "Choices for a categorical distribution should be a tuple of None, bool, int, float and str for persistent storage but contains <class 'tensorflow.python.keras.optimizer_v2.adam.Adam'> which is of type ABCMeta.\n",
      "\n",
      "\u001b[32m[I 2022-11-09 13:06:43,315]\u001b[0m Trial 78 finished with value: 271.45012821332807 and parameters: {'optimizer': <class 'tensorflow.python.keras.optimizer_v2.adam.Adam'>, 'units': 205, 'epochs': 90, 'batch_size': 32, 'learning_rate': 0.0038312635911667632}. Best is trial 61 with value: 269.5370805346891.\u001b[0m\n"
     ]
    },
    {
     "name": "stdout",
     "output_type": "stream",
     "text": [
      "Model: \"sequential_78\"\n",
      "_________________________________________________________________\n",
      "Layer (type)                 Output Shape              Param #   \n",
      "=================================================================\n",
      "lstm_78 (LSTM)               (None, 205)               169740    \n",
      "_________________________________________________________________\n",
      "dense_78 (Dense)             (None, 4)                 824       \n",
      "=================================================================\n",
      "Total params: 170,564\n",
      "Trainable params: 170,564\n",
      "Non-trainable params: 0\n",
      "_________________________________________________________________\n",
      "PointredictScresSet0[0] 271.45012821332807\n"
     ]
    },
    {
     "name": "stderr",
     "output_type": "stream",
     "text": [
      "D:\\anaconda\\lib\\site-packages\\optuna\\distributions.py:427: UserWarning:\n",
      "\n",
      "Choices for a categorical distribution should be a tuple of None, bool, int, float and str for persistent storage but contains <class 'tensorflow.python.keras.optimizer_v2.adam.Adam'> which is of type ABCMeta.\n",
      "\n",
      "\u001b[32m[I 2022-11-09 13:09:32,829]\u001b[0m Trial 79 finished with value: 271.3367220666912 and parameters: {'optimizer': <class 'tensorflow.python.keras.optimizer_v2.adam.Adam'>, 'units': 250, 'epochs': 100, 'batch_size': 32, 'learning_rate': 0.0026431672845321818}. Best is trial 61 with value: 269.5370805346891.\u001b[0m\n"
     ]
    },
    {
     "name": "stdout",
     "output_type": "stream",
     "text": [
      "Model: \"sequential_79\"\n",
      "_________________________________________________________________\n",
      "Layer (type)                 Output Shape              Param #   \n",
      "=================================================================\n",
      "lstm_79 (LSTM)               (None, 250)               252000    \n",
      "_________________________________________________________________\n",
      "dense_79 (Dense)             (None, 4)                 1004      \n",
      "=================================================================\n",
      "Total params: 253,004\n",
      "Trainable params: 253,004\n",
      "Non-trainable params: 0\n",
      "_________________________________________________________________\n",
      "PointredictScresSet0[0] 271.3367220666912\n"
     ]
    },
    {
     "name": "stderr",
     "output_type": "stream",
     "text": [
      "D:\\anaconda\\lib\\site-packages\\optuna\\distributions.py:427: UserWarning:\n",
      "\n",
      "Choices for a categorical distribution should be a tuple of None, bool, int, float and str for persistent storage but contains <class 'tensorflow.python.keras.optimizer_v2.adam.Adam'> which is of type ABCMeta.\n",
      "\n",
      "\u001b[32m[I 2022-11-09 13:14:50,311]\u001b[0m Trial 80 finished with value: 270.8250149899449 and parameters: {'optimizer': <class 'tensorflow.python.keras.optimizer_v2.adam.Adam'>, 'units': 230, 'epochs': 90, 'batch_size': 8, 'learning_rate': 0.0020874210398454033}. Best is trial 61 with value: 269.5370805346891.\u001b[0m\n"
     ]
    },
    {
     "name": "stdout",
     "output_type": "stream",
     "text": [
      "Model: \"sequential_80\"\n",
      "_________________________________________________________________\n",
      "Layer (type)                 Output Shape              Param #   \n",
      "=================================================================\n",
      "lstm_80 (LSTM)               (None, 230)               213440    \n",
      "_________________________________________________________________\n",
      "dense_80 (Dense)             (None, 4)                 924       \n",
      "=================================================================\n",
      "Total params: 214,364\n",
      "Trainable params: 214,364\n",
      "Non-trainable params: 0\n",
      "_________________________________________________________________\n",
      "PointredictScresSet0[0] 270.8250149899449\n"
     ]
    },
    {
     "name": "stderr",
     "output_type": "stream",
     "text": [
      "D:\\anaconda\\lib\\site-packages\\optuna\\distributions.py:427: UserWarning:\n",
      "\n",
      "Choices for a categorical distribution should be a tuple of None, bool, int, float and str for persistent storage but contains <class 'tensorflow.python.keras.optimizer_v2.adam.Adam'> which is of type ABCMeta.\n",
      "\n",
      "\u001b[32m[I 2022-11-09 13:17:15,185]\u001b[0m Trial 81 finished with value: 271.14931143987667 and parameters: {'optimizer': <class 'tensorflow.python.keras.optimizer_v2.adam.Adam'>, 'units': 210, 'epochs': 90, 'batch_size': 32, 'learning_rate': 0.0032720304409201593}. Best is trial 61 with value: 269.5370805346891.\u001b[0m\n"
     ]
    },
    {
     "name": "stdout",
     "output_type": "stream",
     "text": [
      "Model: \"sequential_81\"\n",
      "_________________________________________________________________\n",
      "Layer (type)                 Output Shape              Param #   \n",
      "=================================================================\n",
      "lstm_81 (LSTM)               (None, 210)               178080    \n",
      "_________________________________________________________________\n",
      "dense_81 (Dense)             (None, 4)                 844       \n",
      "=================================================================\n",
      "Total params: 178,924\n",
      "Trainable params: 178,924\n",
      "Non-trainable params: 0\n",
      "_________________________________________________________________\n",
      "PointredictScresSet0[0] 271.14931143987667\n"
     ]
    },
    {
     "name": "stderr",
     "output_type": "stream",
     "text": [
      "D:\\anaconda\\lib\\site-packages\\optuna\\distributions.py:427: UserWarning:\n",
      "\n",
      "Choices for a categorical distribution should be a tuple of None, bool, int, float and str for persistent storage but contains <class 'tensorflow.python.keras.optimizer_v2.adam.Adam'> which is of type ABCMeta.\n",
      "\n",
      "\u001b[32m[I 2022-11-09 13:19:18,732]\u001b[0m Trial 82 finished with value: 270.3161035366606 and parameters: {'optimizer': <class 'tensorflow.python.keras.optimizer_v2.adam.Adam'>, 'units': 185, 'epochs': 80, 'batch_size': 32, 'learning_rate': 0.0039384076904983405}. Best is trial 61 with value: 269.5370805346891.\u001b[0m\n"
     ]
    },
    {
     "name": "stdout",
     "output_type": "stream",
     "text": [
      "Model: \"sequential_82\"\n",
      "_________________________________________________________________\n",
      "Layer (type)                 Output Shape              Param #   \n",
      "=================================================================\n",
      "lstm_82 (LSTM)               (None, 185)               138380    \n",
      "_________________________________________________________________\n",
      "dense_82 (Dense)             (None, 4)                 744       \n",
      "=================================================================\n",
      "Total params: 139,124\n",
      "Trainable params: 139,124\n",
      "Non-trainable params: 0\n",
      "_________________________________________________________________\n",
      "PointredictScresSet0[0] 270.3161035366606\n"
     ]
    },
    {
     "name": "stderr",
     "output_type": "stream",
     "text": [
      "D:\\anaconda\\lib\\site-packages\\optuna\\distributions.py:427: UserWarning:\n",
      "\n",
      "Choices for a categorical distribution should be a tuple of None, bool, int, float and str for persistent storage but contains <class 'tensorflow.python.keras.optimizer_v2.adam.Adam'> which is of type ABCMeta.\n",
      "\n",
      "\u001b[32m[I 2022-11-09 13:21:25,542]\u001b[0m Trial 83 finished with value: 271.0634162054251 and parameters: {'optimizer': <class 'tensorflow.python.keras.optimizer_v2.adam.Adam'>, 'units': 185, 'epochs': 90, 'batch_size': 32, 'learning_rate': 0.004014381623386879}. Best is trial 61 with value: 269.5370805346891.\u001b[0m\n"
     ]
    },
    {
     "name": "stdout",
     "output_type": "stream",
     "text": [
      "Model: \"sequential_83\"\n",
      "_________________________________________________________________\n",
      "Layer (type)                 Output Shape              Param #   \n",
      "=================================================================\n",
      "lstm_83 (LSTM)               (None, 185)               138380    \n",
      "_________________________________________________________________\n",
      "dense_83 (Dense)             (None, 4)                 744       \n",
      "=================================================================\n",
      "Total params: 139,124\n",
      "Trainable params: 139,124\n",
      "Non-trainable params: 0\n",
      "_________________________________________________________________\n",
      "PointredictScresSet0[0] 271.0634162054251\n"
     ]
    },
    {
     "name": "stderr",
     "output_type": "stream",
     "text": [
      "D:\\anaconda\\lib\\site-packages\\optuna\\distributions.py:427: UserWarning:\n",
      "\n",
      "Choices for a categorical distribution should be a tuple of None, bool, int, float and str for persistent storage but contains <class 'tensorflow.python.keras.optimizer_v2.adam.Adam'> which is of type ABCMeta.\n",
      "\n",
      "\u001b[32m[I 2022-11-09 13:25:28,862]\u001b[0m Trial 84 finished with value: 271.83311148814755 and parameters: {'optimizer': <class 'tensorflow.python.keras.optimizer_v2.adam.Adam'>, 'units': 275, 'epochs': 70, 'batch_size': 16, 'learning_rate': 0.002790432222140236}. Best is trial 61 with value: 269.5370805346891.\u001b[0m\n"
     ]
    },
    {
     "name": "stdout",
     "output_type": "stream",
     "text": [
      "Model: \"sequential_84\"\n",
      "_________________________________________________________________\n",
      "Layer (type)                 Output Shape              Param #   \n",
      "=================================================================\n",
      "lstm_84 (LSTM)               (None, 275)               304700    \n",
      "_________________________________________________________________\n",
      "dense_84 (Dense)             (None, 4)                 1104      \n",
      "=================================================================\n",
      "Total params: 305,804\n",
      "Trainable params: 305,804\n",
      "Non-trainable params: 0\n",
      "_________________________________________________________________\n",
      "PointredictScresSet0[0] 271.83311148814755\n"
     ]
    },
    {
     "name": "stderr",
     "output_type": "stream",
     "text": [
      "D:\\anaconda\\lib\\site-packages\\optuna\\distributions.py:427: UserWarning:\n",
      "\n",
      "Choices for a categorical distribution should be a tuple of None, bool, int, float and str for persistent storage but contains <class 'tensorflow.python.keras.optimizer_v2.adam.Adam'> which is of type ABCMeta.\n",
      "\n",
      "\u001b[32m[I 2022-11-09 13:27:20,285]\u001b[0m Trial 85 finished with value: 270.58106471293206 and parameters: {'optimizer': <class 'tensorflow.python.keras.optimizer_v2.adam.Adam'>, 'units': 175, 'epochs': 80, 'batch_size': 32, 'learning_rate': 0.005447963220561313}. Best is trial 61 with value: 269.5370805346891.\u001b[0m\n"
     ]
    },
    {
     "name": "stdout",
     "output_type": "stream",
     "text": [
      "Model: \"sequential_85\"\n",
      "_________________________________________________________________\n",
      "Layer (type)                 Output Shape              Param #   \n",
      "=================================================================\n",
      "lstm_85 (LSTM)               (None, 175)               123900    \n",
      "_________________________________________________________________\n",
      "dense_85 (Dense)             (None, 4)                 704       \n",
      "=================================================================\n",
      "Total params: 124,604\n",
      "Trainable params: 124,604\n",
      "Non-trainable params: 0\n",
      "_________________________________________________________________\n",
      "PointredictScresSet0[0] 270.58106471293206\n"
     ]
    },
    {
     "name": "stderr",
     "output_type": "stream",
     "text": [
      "D:\\anaconda\\lib\\site-packages\\optuna\\distributions.py:427: UserWarning:\n",
      "\n",
      "Choices for a categorical distribution should be a tuple of None, bool, int, float and str for persistent storage but contains <class 'tensorflow.python.keras.optimizer_v2.adam.Adam'> which is of type ABCMeta.\n",
      "\n",
      "\u001b[32m[I 2022-11-09 13:28:36,905]\u001b[0m Trial 86 finished with value: 274.2003289986282 and parameters: {'optimizer': <class 'tensorflow.python.keras.optimizer_v2.adam.Adam'>, 'units': 95, 'epochs': 90, 'batch_size': 256, 'learning_rate': 0.004999806035075479}. Best is trial 61 with value: 269.5370805346891.\u001b[0m\n"
     ]
    },
    {
     "name": "stdout",
     "output_type": "stream",
     "text": [
      "Model: \"sequential_86\"\n",
      "_________________________________________________________________\n",
      "Layer (type)                 Output Shape              Param #   \n",
      "=================================================================\n",
      "lstm_86 (LSTM)               (None, 95)                36860     \n",
      "_________________________________________________________________\n",
      "dense_86 (Dense)             (None, 4)                 384       \n",
      "=================================================================\n",
      "Total params: 37,244\n",
      "Trainable params: 37,244\n",
      "Non-trainable params: 0\n",
      "_________________________________________________________________\n",
      "PointredictScresSet0[0] 274.2003289986282\n"
     ]
    },
    {
     "name": "stderr",
     "output_type": "stream",
     "text": [
      "D:\\anaconda\\lib\\site-packages\\optuna\\distributions.py:427: UserWarning:\n",
      "\n",
      "Choices for a categorical distribution should be a tuple of None, bool, int, float and str for persistent storage but contains <class 'tensorflow.python.keras.optimizer_v2.adam.Adam'> which is of type ABCMeta.\n",
      "\n",
      "\u001b[32m[I 2022-11-09 13:29:52,875]\u001b[0m Trial 87 finished with value: 274.8478228869131 and parameters: {'optimizer': <class 'tensorflow.python.keras.optimizer_v2.adam.Adam'>, 'units': 170, 'epochs': 70, 'batch_size': 512, 'learning_rate': 0.0076194599091767515}. Best is trial 61 with value: 269.5370805346891.\u001b[0m\n"
     ]
    },
    {
     "name": "stdout",
     "output_type": "stream",
     "text": [
      "Model: \"sequential_87\"\n",
      "_________________________________________________________________\n",
      "Layer (type)                 Output Shape              Param #   \n",
      "=================================================================\n",
      "lstm_87 (LSTM)               (None, 170)               116960    \n",
      "_________________________________________________________________\n",
      "dense_87 (Dense)             (None, 4)                 684       \n",
      "=================================================================\n",
      "Total params: 117,644\n",
      "Trainable params: 117,644\n",
      "Non-trainable params: 0\n",
      "_________________________________________________________________\n",
      "PointredictScresSet0[0] 274.8478228869131\n"
     ]
    },
    {
     "name": "stderr",
     "output_type": "stream",
     "text": [
      "D:\\anaconda\\lib\\site-packages\\optuna\\distributions.py:427: UserWarning:\n",
      "\n",
      "Choices for a categorical distribution should be a tuple of None, bool, int, float and str for persistent storage but contains <class 'tensorflow.python.keras.optimizer_v2.adam.Adam'> which is of type ABCMeta.\n",
      "\n",
      "\u001b[32m[I 2022-11-09 13:32:01,468]\u001b[0m Trial 88 finished with value: 317.92499992696213 and parameters: {'optimizer': <class 'tensorflow.python.keras.optimizer_v2.adam.Adam'>, 'units': 195, 'epochs': 80, 'batch_size': 32, 'learning_rate': 0.6865648211230794}. Best is trial 61 with value: 269.5370805346891.\u001b[0m\n"
     ]
    },
    {
     "name": "stdout",
     "output_type": "stream",
     "text": [
      "Model: \"sequential_88\"\n",
      "_________________________________________________________________\n",
      "Layer (type)                 Output Shape              Param #   \n",
      "=================================================================\n",
      "lstm_88 (LSTM)               (None, 195)               153660    \n",
      "_________________________________________________________________\n",
      "dense_88 (Dense)             (None, 4)                 784       \n",
      "=================================================================\n",
      "Total params: 154,444\n",
      "Trainable params: 154,444\n",
      "Non-trainable params: 0\n",
      "_________________________________________________________________\n",
      "PointredictScresSet0[0] 317.92499992696213\n"
     ]
    },
    {
     "name": "stderr",
     "output_type": "stream",
     "text": [
      "D:\\anaconda\\lib\\site-packages\\optuna\\distributions.py:427: UserWarning:\n",
      "\n",
      "Choices for a categorical distribution should be a tuple of None, bool, int, float and str for persistent storage but contains <class 'tensorflow.python.keras.optimizer_v2.adam.Adam'> which is of type ABCMeta.\n",
      "\n",
      "\u001b[32m[I 2022-11-09 13:33:28,123]\u001b[0m Trial 89 finished with value: 272.1170489363339 and parameters: {'optimizer': <class 'tensorflow.python.keras.optimizer_v2.adam.Adam'>, 'units': 135, 'epochs': 90, 'batch_size': 128, 'learning_rate': 0.005729600226557349}. Best is trial 61 with value: 269.5370805346891.\u001b[0m\n"
     ]
    },
    {
     "name": "stdout",
     "output_type": "stream",
     "text": [
      "Model: \"sequential_89\"\n",
      "_________________________________________________________________\n",
      "Layer (type)                 Output Shape              Param #   \n",
      "=================================================================\n",
      "lstm_89 (LSTM)               (None, 135)               73980     \n",
      "_________________________________________________________________\n",
      "dense_89 (Dense)             (None, 4)                 544       \n",
      "=================================================================\n",
      "Total params: 74,524\n",
      "Trainable params: 74,524\n",
      "Non-trainable params: 0\n",
      "_________________________________________________________________\n",
      "PointredictScresSet0[0] 272.1170489363339\n"
     ]
    },
    {
     "name": "stderr",
     "output_type": "stream",
     "text": [
      "D:\\anaconda\\lib\\site-packages\\optuna\\distributions.py:427: UserWarning:\n",
      "\n",
      "Choices for a categorical distribution should be a tuple of None, bool, int, float and str for persistent storage but contains <class 'tensorflow.python.keras.optimizer_v2.adam.Adam'> which is of type ABCMeta.\n",
      "\n",
      "\u001b[32m[I 2022-11-09 13:35:21,927]\u001b[0m Trial 90 finished with value: 271.6103433556821 and parameters: {'optimizer': <class 'tensorflow.python.keras.optimizer_v2.adam.Adam'>, 'units': 160, 'epochs': 80, 'batch_size': 32, 'learning_rate': 0.00733933912836065}. Best is trial 61 with value: 269.5370805346891.\u001b[0m\n"
     ]
    },
    {
     "name": "stdout",
     "output_type": "stream",
     "text": [
      "Model: \"sequential_90\"\n",
      "_________________________________________________________________\n",
      "Layer (type)                 Output Shape              Param #   \n",
      "=================================================================\n",
      "lstm_90 (LSTM)               (None, 160)               103680    \n",
      "_________________________________________________________________\n",
      "dense_90 (Dense)             (None, 4)                 644       \n",
      "=================================================================\n",
      "Total params: 104,324\n",
      "Trainable params: 104,324\n",
      "Non-trainable params: 0\n",
      "_________________________________________________________________\n",
      "PointredictScresSet0[0] 271.6103433556821\n"
     ]
    },
    {
     "name": "stderr",
     "output_type": "stream",
     "text": [
      "D:\\anaconda\\lib\\site-packages\\optuna\\distributions.py:427: UserWarning:\n",
      "\n",
      "Choices for a categorical distribution should be a tuple of None, bool, int, float and str for persistent storage but contains <class 'tensorflow.python.keras.optimizer_v2.adam.Adam'> which is of type ABCMeta.\n",
      "\n",
      "\u001b[32m[I 2022-11-09 13:37:49,049]\u001b[0m Trial 91 finished with value: 271.37405815375826 and parameters: {'optimizer': <class 'tensorflow.python.keras.optimizer_v2.adam.Adam'>, 'units': 225, 'epochs': 80, 'batch_size': 32, 'learning_rate': 0.002271410165532097}. Best is trial 61 with value: 269.5370805346891.\u001b[0m\n"
     ]
    },
    {
     "name": "stdout",
     "output_type": "stream",
     "text": [
      "Model: \"sequential_91\"\n",
      "_________________________________________________________________\n",
      "Layer (type)                 Output Shape              Param #   \n",
      "=================================================================\n",
      "lstm_91 (LSTM)               (None, 225)               204300    \n",
      "_________________________________________________________________\n",
      "dense_91 (Dense)             (None, 4)                 904       \n",
      "=================================================================\n",
      "Total params: 205,204\n",
      "Trainable params: 205,204\n",
      "Non-trainable params: 0\n",
      "_________________________________________________________________\n",
      "PointredictScresSet0[0] 271.37405815375826\n"
     ]
    },
    {
     "name": "stderr",
     "output_type": "stream",
     "text": [
      "D:\\anaconda\\lib\\site-packages\\optuna\\distributions.py:427: UserWarning:\n",
      "\n",
      "Choices for a categorical distribution should be a tuple of None, bool, int, float and str for persistent storage but contains <class 'tensorflow.python.keras.optimizer_v2.adam.Adam'> which is of type ABCMeta.\n",
      "\n",
      "\u001b[32m[I 2022-11-09 13:39:47,787]\u001b[0m Trial 92 finished with value: 270.5159533105471 and parameters: {'optimizer': <class 'tensorflow.python.keras.optimizer_v2.adam.Adam'>, 'units': 175, 'epochs': 80, 'batch_size': 32, 'learning_rate': 0.0017190204355141544}. Best is trial 61 with value: 269.5370805346891.\u001b[0m\n"
     ]
    },
    {
     "name": "stdout",
     "output_type": "stream",
     "text": [
      "Model: \"sequential_92\"\n",
      "_________________________________________________________________\n",
      "Layer (type)                 Output Shape              Param #   \n",
      "=================================================================\n",
      "lstm_92 (LSTM)               (None, 175)               123900    \n",
      "_________________________________________________________________\n",
      "dense_92 (Dense)             (None, 4)                 704       \n",
      "=================================================================\n",
      "Total params: 124,604\n",
      "Trainable params: 124,604\n",
      "Non-trainable params: 0\n",
      "_________________________________________________________________\n",
      "PointredictScresSet0[0] 270.5159533105471\n"
     ]
    },
    {
     "name": "stderr",
     "output_type": "stream",
     "text": [
      "D:\\anaconda\\lib\\site-packages\\optuna\\distributions.py:427: UserWarning:\n",
      "\n",
      "Choices for a categorical distribution should be a tuple of None, bool, int, float and str for persistent storage but contains <class 'tensorflow.python.keras.optimizer_v2.adam.Adam'> which is of type ABCMeta.\n",
      "\n",
      "\u001b[32m[I 2022-11-09 13:41:41,629]\u001b[0m Trial 93 finished with value: 271.48628582192447 and parameters: {'optimizer': <class 'tensorflow.python.keras.optimizer_v2.adam.Adam'>, 'units': 155, 'epochs': 70, 'batch_size': 32, 'learning_rate': 0.0017902834620415206}. Best is trial 61 with value: 269.5370805346891.\u001b[0m\n"
     ]
    },
    {
     "name": "stdout",
     "output_type": "stream",
     "text": [
      "Model: \"sequential_93\"\n",
      "_________________________________________________________________\n",
      "Layer (type)                 Output Shape              Param #   \n",
      "=================================================================\n",
      "lstm_93 (LSTM)               (None, 155)               97340     \n",
      "_________________________________________________________________\n",
      "dense_93 (Dense)             (None, 4)                 624       \n",
      "=================================================================\n",
      "Total params: 97,964\n",
      "Trainable params: 97,964\n",
      "Non-trainable params: 0\n",
      "_________________________________________________________________\n",
      "PointredictScresSet0[0] 271.48628582192447\n"
     ]
    },
    {
     "name": "stderr",
     "output_type": "stream",
     "text": [
      "D:\\anaconda\\lib\\site-packages\\optuna\\distributions.py:427: UserWarning:\n",
      "\n",
      "Choices for a categorical distribution should be a tuple of None, bool, int, float and str for persistent storage but contains <class 'tensorflow.python.keras.optimizer_v2.adam.Adam'> which is of type ABCMeta.\n",
      "\n",
      "\u001b[32m[I 2022-11-09 13:43:59,294]\u001b[0m Trial 94 finished with value: 270.7878701725141 and parameters: {'optimizer': <class 'tensorflow.python.keras.optimizer_v2.adam.Adam'>, 'units': 190, 'epochs': 80, 'batch_size': 32, 'learning_rate': 0.0034425227086690427}. Best is trial 61 with value: 269.5370805346891.\u001b[0m\n"
     ]
    },
    {
     "name": "stdout",
     "output_type": "stream",
     "text": [
      "Model: \"sequential_94\"\n",
      "_________________________________________________________________\n",
      "Layer (type)                 Output Shape              Param #   \n",
      "=================================================================\n",
      "lstm_94 (LSTM)               (None, 190)               145920    \n",
      "_________________________________________________________________\n",
      "dense_94 (Dense)             (None, 4)                 764       \n",
      "=================================================================\n",
      "Total params: 146,684\n",
      "Trainable params: 146,684\n",
      "Non-trainable params: 0\n",
      "_________________________________________________________________\n",
      "PointredictScresSet0[0] 270.7878701725141\n"
     ]
    },
    {
     "name": "stderr",
     "output_type": "stream",
     "text": [
      "D:\\anaconda\\lib\\site-packages\\optuna\\distributions.py:427: UserWarning:\n",
      "\n",
      "Choices for a categorical distribution should be a tuple of None, bool, int, float and str for persistent storage but contains <class 'tensorflow.python.keras.optimizer_v2.adam.Adam'> which is of type ABCMeta.\n",
      "\n",
      "\u001b[32m[I 2022-11-09 13:45:46,641]\u001b[0m Trial 95 finished with value: 272.8386895045678 and parameters: {'optimizer': <class 'tensorflow.python.keras.optimizer_v2.adam.Adam'>, 'units': 180, 'epochs': 90, 'batch_size': 64, 'learning_rate': 0.0015693989296035609}. Best is trial 61 with value: 269.5370805346891.\u001b[0m\n"
     ]
    },
    {
     "name": "stdout",
     "output_type": "stream",
     "text": [
      "Model: \"sequential_95\"\n",
      "_________________________________________________________________\n",
      "Layer (type)                 Output Shape              Param #   \n",
      "=================================================================\n",
      "lstm_95 (LSTM)               (None, 180)               131040    \n",
      "_________________________________________________________________\n",
      "dense_95 (Dense)             (None, 4)                 724       \n",
      "=================================================================\n",
      "Total params: 131,764\n",
      "Trainable params: 131,764\n",
      "Non-trainable params: 0\n",
      "_________________________________________________________________\n",
      "PointredictScresSet0[0] 272.8386895045678\n"
     ]
    },
    {
     "name": "stderr",
     "output_type": "stream",
     "text": [
      "D:\\anaconda\\lib\\site-packages\\optuna\\distributions.py:427: UserWarning:\n",
      "\n",
      "Choices for a categorical distribution should be a tuple of None, bool, int, float and str for persistent storage but contains <class 'tensorflow.python.keras.optimizer_v2.adam.Adam'> which is of type ABCMeta.\n",
      "\n",
      "\u001b[32m[I 2022-11-09 13:47:55,851]\u001b[0m Trial 96 finished with value: 271.1351267379516 and parameters: {'optimizer': <class 'tensorflow.python.keras.optimizer_v2.adam.Adam'>, 'units': 145, 'epochs': 100, 'batch_size': 32, 'learning_rate': 0.004499580240756598}. Best is trial 61 with value: 269.5370805346891.\u001b[0m\n"
     ]
    },
    {
     "name": "stdout",
     "output_type": "stream",
     "text": [
      "Model: \"sequential_96\"\n",
      "_________________________________________________________________\n",
      "Layer (type)                 Output Shape              Param #   \n",
      "=================================================================\n",
      "lstm_96 (LSTM)               (None, 145)               85260     \n",
      "_________________________________________________________________\n",
      "dense_96 (Dense)             (None, 4)                 584       \n",
      "=================================================================\n",
      "Total params: 85,844\n",
      "Trainable params: 85,844\n",
      "Non-trainable params: 0\n",
      "_________________________________________________________________\n",
      "PointredictScresSet0[0] 271.1351267379516\n"
     ]
    },
    {
     "name": "stderr",
     "output_type": "stream",
     "text": [
      "D:\\anaconda\\lib\\site-packages\\optuna\\distributions.py:427: UserWarning:\n",
      "\n",
      "Choices for a categorical distribution should be a tuple of None, bool, int, float and str for persistent storage but contains <class 'tensorflow.python.keras.optimizer_v2.adam.Adam'> which is of type ABCMeta.\n",
      "\n",
      "\u001b[32m[I 2022-11-09 13:49:54,897]\u001b[0m Trial 97 finished with value: 270.86412630977077 and parameters: {'optimizer': <class 'tensorflow.python.keras.optimizer_v2.adam.Adam'>, 'units': 175, 'epochs': 80, 'batch_size': 32, 'learning_rate': 0.010126661236518257}. Best is trial 61 with value: 269.5370805346891.\u001b[0m\n"
     ]
    },
    {
     "name": "stdout",
     "output_type": "stream",
     "text": [
      "Model: \"sequential_97\"\n",
      "_________________________________________________________________\n",
      "Layer (type)                 Output Shape              Param #   \n",
      "=================================================================\n",
      "lstm_97 (LSTM)               (None, 175)               123900    \n",
      "_________________________________________________________________\n",
      "dense_97 (Dense)             (None, 4)                 704       \n",
      "=================================================================\n",
      "Total params: 124,604\n",
      "Trainable params: 124,604\n",
      "Non-trainable params: 0\n",
      "_________________________________________________________________\n",
      "PointredictScresSet0[0] 270.86412630977077\n"
     ]
    },
    {
     "name": "stderr",
     "output_type": "stream",
     "text": [
      "D:\\anaconda\\lib\\site-packages\\optuna\\distributions.py:427: UserWarning:\n",
      "\n",
      "Choices for a categorical distribution should be a tuple of None, bool, int, float and str for persistent storage but contains <class 'tensorflow.python.keras.optimizer_v2.adam.Adam'> which is of type ABCMeta.\n",
      "\n",
      "\u001b[32m[I 2022-11-09 13:51:51,699]\u001b[0m Trial 98 finished with value: 270.86531031077806 and parameters: {'optimizer': <class 'tensorflow.python.keras.optimizer_v2.adam.Adam'>, 'units': 215, 'epochs': 60, 'batch_size': 32, 'learning_rate': 0.003919097214381394}. Best is trial 61 with value: 269.5370805346891.\u001b[0m\n"
     ]
    },
    {
     "name": "stdout",
     "output_type": "stream",
     "text": [
      "Model: \"sequential_98\"\n",
      "_________________________________________________________________\n",
      "Layer (type)                 Output Shape              Param #   \n",
      "=================================================================\n",
      "lstm_98 (LSTM)               (None, 215)               186620    \n",
      "_________________________________________________________________\n",
      "dense_98 (Dense)             (None, 4)                 864       \n",
      "=================================================================\n",
      "Total params: 187,484\n",
      "Trainable params: 187,484\n",
      "Non-trainable params: 0\n",
      "_________________________________________________________________\n",
      "PointredictScresSet0[0] 270.86531031077806\n"
     ]
    },
    {
     "name": "stderr",
     "output_type": "stream",
     "text": [
      "D:\\anaconda\\lib\\site-packages\\optuna\\distributions.py:427: UserWarning:\n",
      "\n",
      "Choices for a categorical distribution should be a tuple of None, bool, int, float and str for persistent storage but contains <class 'tensorflow.python.keras.optimizer_v2.adam.Adam'> which is of type ABCMeta.\n",
      "\n",
      "\u001b[32m[I 2022-11-09 13:53:24,296]\u001b[0m Trial 99 finished with value: 272.2686183704997 and parameters: {'optimizer': <class 'tensorflow.python.keras.optimizer_v2.adam.Adam'>, 'units': 135, 'epochs': 70, 'batch_size': 32, 'learning_rate': 0.0011745889419518417}. Best is trial 61 with value: 269.5370805346891.\u001b[0m\n"
     ]
    },
    {
     "name": "stdout",
     "output_type": "stream",
     "text": [
      "Model: \"sequential_99\"\n",
      "_________________________________________________________________\n",
      "Layer (type)                 Output Shape              Param #   \n",
      "=================================================================\n",
      "lstm_99 (LSTM)               (None, 135)               73980     \n",
      "_________________________________________________________________\n",
      "dense_99 (Dense)             (None, 4)                 544       \n",
      "=================================================================\n",
      "Total params: 74,524\n",
      "Trainable params: 74,524\n",
      "Non-trainable params: 0\n",
      "_________________________________________________________________\n",
      "PointredictScresSet0[0] 272.2686183704997\n",
      "Wall time: 4h 20min 8s\n"
     ]
    },
    {
     "data": {
      "image/png": "[encoded data removed]",
      "text/plain": [
       "<Figure size 432x288 with 1 Axes>"
      ]
     },
     "metadata": {
      "needs_background": "light"
     },
     "output_type": "display_data"
    }
   ],
   "source": [
    "%%time\n",
    "study = optuna.create_study(direction='minimize')\n",
    "study.optimize(run, n_trials=100)"
   ]
  },
  {
   "cell_type": "code",
   "execution_count": 35,
   "metadata": {},
   "outputs": [
    {
     "data": {
      "text/plain": [
       "{'batch_size': 32,\n",
       " 'epochs': 80,\n",
       " 'learning_rate': 0.0032715725806322527,\n",
       " 'optimizer': tensorflow.python.keras.optimizer_v2.adam.Adam,\n",
       " 'units': 285}"
      ]
     },
     "execution_count": 35,
     "metadata": {},
     "output_type": "execute_result"
    }
   ],
   "source": [
    "best_params = study.best_params\n",
    "best_params"
   ]
  },
  {
   "cell_type": "code",
   "execution_count": 36,
   "metadata": {},
   "outputs": [
    {
     "data": {
      "text/plain": [
       "269.5370805346891"
      ]
     },
     "execution_count": 36,
     "metadata": {},
     "output_type": "execute_result"
    }
   ],
   "source": [
    "best_value=study.best_value\n",
    "best_value"
   ]
  },
  {
   "cell_type": "code",
   "execution_count": 37,
   "metadata": {},
   "outputs": [
    {
     "data": {
      "text/html": [
       "<div>\n",
       "<style scoped>\n",
       "    .dataframe tbody tr th:only-of-type {\n",
       "        vertical-align: middle;\n",
       "    }\n",
       "\n",
       "    .dataframe tbody tr th {\n",
       "        vertical-align: top;\n",
       "    }\n",
       "\n",
       "    .dataframe thead th {\n",
       "        text-align: right;\n",
       "    }\n",
       "</style>\n",
       "<table border=\"1\" class=\"dataframe\">\n",
       "  <thead>\n",
       "    <tr style=\"text-align: right;\">\n",
       "      <th></th>\n",
       "      <th>number</th>\n",
       "      <th>value</th>\n",
       "      <th>params_batch_size</th>\n",
       "      <th>params_epochs</th>\n",
       "      <th>params_learning_rate</th>\n",
       "      <th>params_optimizer</th>\n",
       "      <th>params_units</th>\n",
       "      <th>state</th>\n",
       "    </tr>\n",
       "  </thead>\n",
       "  <tbody>\n",
       "    <tr>\n",
       "      <th>0</th>\n",
       "      <td>0</td>\n",
       "      <td>277.591271</td>\n",
       "      <td>512</td>\n",
       "      <td>40</td>\n",
       "      <td>0.005228</td>\n",
       "      <td>&lt;class 'tensorflow.python.keras.optimizer_v2.a...</td>\n",
       "      <td>105</td>\n",
       "      <td>COMPLETE</td>\n",
       "    </tr>\n",
       "    <tr>\n",
       "      <th>1</th>\n",
       "      <td>1</td>\n",
       "      <td>276.859474</td>\n",
       "      <td>256</td>\n",
       "      <td>30</td>\n",
       "      <td>0.015787</td>\n",
       "      <td>&lt;class 'tensorflow.python.keras.optimizer_v2.a...</td>\n",
       "      <td>420</td>\n",
       "      <td>COMPLETE</td>\n",
       "    </tr>\n",
       "    <tr>\n",
       "      <th>2</th>\n",
       "      <td>2</td>\n",
       "      <td>290.435189</td>\n",
       "      <td>8</td>\n",
       "      <td>90</td>\n",
       "      <td>0.031396</td>\n",
       "      <td>&lt;class 'tensorflow.python.keras.optimizer_v2.a...</td>\n",
       "      <td>230</td>\n",
       "      <td>COMPLETE</td>\n",
       "    </tr>\n",
       "    <tr>\n",
       "      <th>3</th>\n",
       "      <td>3</td>\n",
       "      <td>273.513384</td>\n",
       "      <td>128</td>\n",
       "      <td>90</td>\n",
       "      <td>0.003015</td>\n",
       "      <td>&lt;class 'tensorflow.python.keras.optimizer_v2.a...</td>\n",
       "      <td>430</td>\n",
       "      <td>COMPLETE</td>\n",
       "    </tr>\n",
       "    <tr>\n",
       "      <th>4</th>\n",
       "      <td>4</td>\n",
       "      <td>271.882338</td>\n",
       "      <td>32</td>\n",
       "      <td>80</td>\n",
       "      <td>0.001329</td>\n",
       "      <td>&lt;class 'tensorflow.python.keras.optimizer_v2.a...</td>\n",
       "      <td>75</td>\n",
       "      <td>COMPLETE</td>\n",
       "    </tr>\n",
       "    <tr>\n",
       "      <th>...</th>\n",
       "      <td>...</td>\n",
       "      <td>...</td>\n",
       "      <td>...</td>\n",
       "      <td>...</td>\n",
       "      <td>...</td>\n",
       "      <td>...</td>\n",
       "      <td>...</td>\n",
       "      <td>...</td>\n",
       "    </tr>\n",
       "    <tr>\n",
       "      <th>95</th>\n",
       "      <td>95</td>\n",
       "      <td>272.838690</td>\n",
       "      <td>64</td>\n",
       "      <td>90</td>\n",
       "      <td>0.001569</td>\n",
       "      <td>&lt;class 'tensorflow.python.keras.optimizer_v2.a...</td>\n",
       "      <td>180</td>\n",
       "      <td>COMPLETE</td>\n",
       "    </tr>\n",
       "    <tr>\n",
       "      <th>96</th>\n",
       "      <td>96</td>\n",
       "      <td>271.135127</td>\n",
       "      <td>32</td>\n",
       "      <td>100</td>\n",
       "      <td>0.004500</td>\n",
       "      <td>&lt;class 'tensorflow.python.keras.optimizer_v2.a...</td>\n",
       "      <td>145</td>\n",
       "      <td>COMPLETE</td>\n",
       "    </tr>\n",
       "    <tr>\n",
       "      <th>97</th>\n",
       "      <td>97</td>\n",
       "      <td>270.864126</td>\n",
       "      <td>32</td>\n",
       "      <td>80</td>\n",
       "      <td>0.010127</td>\n",
       "      <td>&lt;class 'tensorflow.python.keras.optimizer_v2.a...</td>\n",
       "      <td>175</td>\n",
       "      <td>COMPLETE</td>\n",
       "    </tr>\n",
       "    <tr>\n",
       "      <th>98</th>\n",
       "      <td>98</td>\n",
       "      <td>270.865310</td>\n",
       "      <td>32</td>\n",
       "      <td>60</td>\n",
       "      <td>0.003919</td>\n",
       "      <td>&lt;class 'tensorflow.python.keras.optimizer_v2.a...</td>\n",
       "      <td>215</td>\n",
       "      <td>COMPLETE</td>\n",
       "    </tr>\n",
       "    <tr>\n",
       "      <th>99</th>\n",
       "      <td>99</td>\n",
       "      <td>272.268618</td>\n",
       "      <td>32</td>\n",
       "      <td>70</td>\n",
       "      <td>0.001175</td>\n",
       "      <td>&lt;class 'tensorflow.python.keras.optimizer_v2.a...</td>\n",
       "      <td>135</td>\n",
       "      <td>COMPLETE</td>\n",
       "    </tr>\n",
       "  </tbody>\n",
       "</table>\n",
       "<p>100 rows × 8 columns</p>\n",
       "</div>"
      ],
      "text/plain": [
       "    number       value  params_batch_size  params_epochs  \\\n",
       "0        0  277.591271                512             40   \n",
       "1        1  276.859474                256             30   \n",
       "2        2  290.435189                  8             90   \n",
       "3        3  273.513384                128             90   \n",
       "4        4  271.882338                 32             80   \n",
       "..     ...         ...                ...            ...   \n",
       "95      95  272.838690                 64             90   \n",
       "96      96  271.135127                 32            100   \n",
       "97      97  270.864126                 32             80   \n",
       "98      98  270.865310                 32             60   \n",
       "99      99  272.268618                 32             70   \n",
       "\n",
       "    params_learning_rate                                   params_optimizer  \\\n",
       "0               0.005228  <class 'tensorflow.python.keras.optimizer_v2.a...   \n",
       "1               0.015787  <class 'tensorflow.python.keras.optimizer_v2.a...   \n",
       "2               0.031396  <class 'tensorflow.python.keras.optimizer_v2.a...   \n",
       "3               0.003015  <class 'tensorflow.python.keras.optimizer_v2.a...   \n",
       "4               0.001329  <class 'tensorflow.python.keras.optimizer_v2.a...   \n",
       "..                   ...                                                ...   \n",
       "95              0.001569  <class 'tensorflow.python.keras.optimizer_v2.a...   \n",
       "96              0.004500  <class 'tensorflow.python.keras.optimizer_v2.a...   \n",
       "97              0.010127  <class 'tensorflow.python.keras.optimizer_v2.a...   \n",
       "98              0.003919  <class 'tensorflow.python.keras.optimizer_v2.a...   \n",
       "99              0.001175  <class 'tensorflow.python.keras.optimizer_v2.a...   \n",
       "\n",
       "    params_units     state  \n",
       "0            105  COMPLETE  \n",
       "1            420  COMPLETE  \n",
       "2            230  COMPLETE  \n",
       "3            430  COMPLETE  \n",
       "4             75  COMPLETE  \n",
       "..           ...       ...  \n",
       "95           180  COMPLETE  \n",
       "96           145  COMPLETE  \n",
       "97           175  COMPLETE  \n",
       "98           215  COMPLETE  \n",
       "99           135  COMPLETE  \n",
       "\n",
       "[100 rows x 8 columns]"
      ]
     },
     "metadata": {},
     "output_type": "display_data"
    }
   ],
   "source": [
    "df = study.trials_dataframe(attrs=('number', 'value', 'params', 'state'))\n",
    "display(df)\n",
    "df.to_csv('285_LSTM_q=点预测_100次tail_无Dropout层的超参数确定实验结果.csv')"
   ]
  },
  {
   "cell_type": "code",
   "execution_count": 38,
   "metadata": {},
   "outputs": [
    {
     "name": "stderr",
     "output_type": "stream",
     "text": [
      "D:\\anaconda\\lib\\site-packages\\ipykernel_launcher.py:1: ExperimentalWarning:\n",
      "\n",
      "plot_optimization_history is experimental (supported from v2.2.0). The interface can change in the future.\n",
      "\n"
     ]
    },
    {
     "data": {
      "image/png": "[encoded data removed]",
      "text/plain": [
       "<Figure size 432x288 with 1 Axes>"
      ]
     },
     "metadata": {},
     "output_type": "display_data"
    }
   ],
   "source": [
    "plot_optimization_history(study);"
   ]
  }
 ],
 "metadata": {
  "kernelspec": {
   "display_name": "Python 3",
   "language": "python",
   "name": "python3"
  },
  "language_info": {
   "codemirror_mode": {
    "name": "ipython",
    "version": 3
   },
   "file_extension": ".py",
   "mimetype": "text/x-python",
   "name": "python",
   "nbconvert_exporter": "python",
   "pygments_lexer": "ipython3",
   "version": "3.6.4"
  },
  "toc": {
   "base_numbering": 1,
   "nav_menu": {},
   "number_sections": true,
   "sideBar": true,
   "skip_h1_title": false,
   "title_cell": "Table of Contents",
   "title_sidebar": "Contents",
   "toc_cell": false,
   "toc_position": {
    "height": "399px",
    "left": "29px",
    "top": "110.363px",
    "width": "166px"
   },
   "toc_section_display": true,
   "toc_window_display": true
  }
 },
 "nbformat": 4,
 "nbformat_minor": 2
}
