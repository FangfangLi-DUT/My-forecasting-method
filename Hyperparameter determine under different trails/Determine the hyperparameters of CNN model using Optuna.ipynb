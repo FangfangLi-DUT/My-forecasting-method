{
 "cells": [
  {
   "cell_type": "markdown",
   "metadata": {},
   "source": [
    "# Import package"
   ]
  },
  {
   "cell_type": "code",
   "execution_count": 1,
   "metadata": {},
   "outputs": [
    {
     "name": "stderr",
     "output_type": "stream",
     "text": [
      "\n",
      "Bad key \"nbagg.transparent\" on line 426 in\n",
      "D:\\anaconda\\lib\\site-packages\\matplotlib\\mpl-data\\stylelib\\_classic_test.mplstyle.\n",
      "You probably need to get an updated matplotlibrc file from\n",
      "https://github.com/matplotlib/matplotlib/blob/v3.2.2/matplotlibrc.template\n",
      "or from the matplotlib source distribution\n",
      "\n",
      "Bad key \"animation.mencoder_path\" on line 509 in\n",
      "D:\\anaconda\\lib\\site-packages\\matplotlib\\mpl-data\\stylelib\\_classic_test.mplstyle.\n",
      "You probably need to get an updated matplotlibrc file from\n",
      "https://github.com/matplotlib/matplotlib/blob/v3.2.2/matplotlibrc.template\n",
      "or from the matplotlib source distribution\n",
      "\n",
      "Bad key \"animation.mencoder_args\" on line 512 in\n",
      "D:\\anaconda\\lib\\site-packages\\matplotlib\\mpl-data\\stylelib\\_classic_test.mplstyle.\n",
      "You probably need to get an updated matplotlibrc file from\n",
      "https://github.com/matplotlib/matplotlib/blob/v3.2.2/matplotlibrc.template\n",
      "or from the matplotlib source distribution\n",
      "In D:\\anaconda\\lib\\site-packages\\matplotlib\\mpl-data\\stylelib\\_classic_test.mplstyle: \n",
      "The text.latex.unicode rcparam was deprecated in Matplotlib 3.0 and will be removed in 3.2.\n",
      "In D:\\anaconda\\lib\\site-packages\\matplotlib\\mpl-data\\stylelib\\_classic_test.mplstyle: \n",
      "The savefig.frameon rcparam was deprecated in Matplotlib 3.1 and will be removed in 3.3.\n",
      "In D:\\anaconda\\lib\\site-packages\\matplotlib\\mpl-data\\stylelib\\_classic_test.mplstyle: \n",
      "The pgf.debug rcparam was deprecated in Matplotlib 3.0 and will be removed in 3.2.\n",
      "In D:\\anaconda\\lib\\site-packages\\matplotlib\\mpl-data\\stylelib\\_classic_test.mplstyle: \n",
      "The verbose.level rcparam was deprecated in Matplotlib 3.1 and will be removed in 3.3.\n",
      "In D:\\anaconda\\lib\\site-packages\\matplotlib\\mpl-data\\stylelib\\_classic_test.mplstyle: \n",
      "The verbose.fileo rcparam was deprecated in Matplotlib 3.1 and will be removed in 3.3.\n",
      "Using TensorFlow backend.\n"
     ]
    }
   ],
   "source": [
    "import numpy as np\n",
    "import pandas as pd\n",
    "import matplotlib.pyplot as plt\n",
    "import re\n",
    "import tqdm\n",
    "import random\n",
    "import datetime\n",
    "from sklearn.metrics import mean_squared_log_error\n",
    "import tensorflow as tf\n",
    "from tensorflow.keras.layers import *\n",
    "from tensorflow.keras.models import *\n",
    "import tensorflow.keras.backend as K\n",
    "from datetime import datetime\n",
    "import calendar\n",
    "import itertools\n",
    "import xgboost as xgb\n",
    "from xgboost import plot_importance, plot_tree\n",
    "from sklearn.metrics import mean_squared_error\n",
    "from math import sqrt\n",
    "import matplotlib.pyplot as plt\n",
    "import seaborn as sns\n",
    "\n",
    "from pandas import read_csv\n",
    "from numpy import nan\n",
    "from numpy import isnan\n",
    "from numpy import split\n",
    "from numpy import array\n",
    "from matplotlib import pyplot\n",
    "import xlrd\n",
    "from collections import defaultdict\n",
    "from datetime import date,datetime\n",
    "import math\n",
    "import matplotlib.pyplot as plt\n",
    "from sklearn.cluster import KMeans\n",
    "from sklearn import datasets\n",
    "import copy\n",
    "from scipy import stats\n",
    "import time\n",
    "from pylab import *\n",
    "plt.rcParams['font.sans-serif'] = ['SimHei']\n",
    "import argparse\n",
    "from scipy.special import softmax\n",
    "from keras.models import load_model\n",
    "from sklearn.preprocessing import LabelEncoder\n",
    "from keras.layers import RepeatVector\n",
    "from keras.layers import TimeDistributed\n",
    "import os\n",
    "from math import sqrt\n",
    "from numpy import concatenate\n",
    "from pandas import DataFrame\n",
    "from pandas import concat\n",
    "#导入scipy模块\n",
    "from scipy import stats\n",
    "import joblib\n",
    "import stats as sts#df2\n",
    "#%matplotlib inline\n",
    "from tensorflow.keras.models import Sequential\n",
    "from tensorflow.keras.layers import LSTM, Dense, Dropout\n",
    "from tensorflow.keras.utils import plot_model\n",
    "from sklearn.metrics import mean_squared_error\n",
    "from tensorflow.keras import optimizers\n",
    "import torch\n",
    "import torch.nn as nn"
   ]
  },
  {
   "cell_type": "markdown",
   "metadata": {},
   "source": [
    "# Load data"
   ]
  },
  {
   "cell_type": "code",
   "execution_count": 2,
   "metadata": {
    "scrolled": true
   },
   "outputs": [
    {
     "name": "stdout",
     "output_type": "stream",
     "text": [
      "00df0.shape[0] 209937\n",
      "11df0.shape[0] 207441\n"
     ]
    }
   ],
   "source": [
    "abc=30#表示30min为一段\n",
    "gdf0=pd.read_csv(r'F:\\博士科研资料\\博士开题及其素材\\加油站数据\\export11.csv',encoding='gb18030')\n",
    "gdf0['Time1'] = pd.to_datetime(gdf0['Time'],errors='coerce') \n",
    "gdf0['Hour'] = gdf0['Time1'].dt.hour.fillna(0).astype(\"int\")    #转化提取小时\n",
    "gdf0['Minute'] = gdf0['Time1'].dt.minute.fillna(0).astype(\"int\") #转化提取分钟\n",
    "gdf0['Hour']=gdf0['Hour'].astype(str)\n",
    "gdf0['Date'] = pd.to_datetime(gdf0['Date'])\n",
    "gdf0['T'] = gdf0['Hour'].apply(lambda x : int(x))+gdf0['Minute'].apply (lambda x :round(x/60,2))\n",
    "gdf0['volume'] = gdf0['volume']\n",
    "gdf0['MinuteLabel']=gdf0['Hour'].apply(lambda x : math.floor((int(x)*60)/abc))+gdf0['Minute'].apply (lambda x :math.floor(x/abc))#表示该时刻点属于哪个区间,因为有0，所以向下取整数\n",
    "day_name00=gdf0.groupby([\"NAME\"])         #\n",
    "for name,group in day_name00:#group是星期数一样的类目\n",
    "    if name=='92H':\n",
    "        df0=group\n",
    "df0=df0[df0['Date'] >= \"2020-06-01\"] \n",
    "#display(df0.head(25))\n",
    "print('00df0.shape[0]',df0.shape[0])\n",
    "df0= df0[~( df0['Date'].isin([\"2020-06-11\",\"2020-08-11\", \"2020-08-25\", \"2020-09-11\"]) )]###删除这些行，因为很多0\n",
    "print('11df0.shape[0]',df0.shape[0])"
   ]
  },
  {
   "cell_type": "markdown",
   "metadata": {},
   "source": [
    "# Data preprogressing"
   ]
  },
  {
   "cell_type": "code",
   "execution_count": 3,
   "metadata": {},
   "outputs": [
    {
     "name": "stderr",
     "output_type": "stream",
     "text": [
      "D:\\anaconda\\lib\\site-packages\\ipykernel_launcher.py:6: SettingWithCopyWarning: \n",
      "A value is trying to be set on a copy of a slice from a DataFrame.\n",
      "Try using .loc[row_indexer,col_indexer] = value instead\n",
      "\n",
      "See the caveats in the documentation: https://pandas.pydata.org/pandas-docs/stable/user_guide/indexing.html#returning-a-view-versus-a-copy\n",
      "  \n",
      "D:\\anaconda\\lib\\site-packages\\ipykernel_launcher.py:7: SettingWithCopyWarning: \n",
      "A value is trying to be set on a copy of a slice from a DataFrame.\n",
      "Try using .loc[row_indexer,col_indexer] = value instead\n",
      "\n",
      "See the caveats in the documentation: https://pandas.pydata.org/pandas-docs/stable/user_guide/indexing.html#returning-a-view-versus-a-copy\n",
      "  import sys\n",
      "D:\\anaconda\\lib\\site-packages\\ipykernel_launcher.py:9: SettingWithCopyWarning: \n",
      "A value is trying to be set on a copy of a slice from a DataFrame.\n",
      "Try using .loc[row_indexer,col_indexer] = value instead\n",
      "\n",
      "See the caveats in the documentation: https://pandas.pydata.org/pandas-docs/stable/user_guide/indexing.html#returning-a-view-versus-a-copy\n",
      "  if __name__ == '__main__':\n",
      "D:\\anaconda\\lib\\site-packages\\ipykernel_launcher.py:41: SettingWithCopyWarning: \n",
      "A value is trying to be set on a copy of a slice from a DataFrame.\n",
      "Try using .loc[row_indexer,col_indexer] = value instead\n",
      "\n",
      "See the caveats in the documentation: https://pandas.pydata.org/pandas-docs/stable/user_guide/indexing.html#returning-a-view-versus-a-copy\n",
      "D:\\anaconda\\lib\\site-packages\\pandas\\core\\indexing.py:1763: SettingWithCopyWarning: \n",
      "A value is trying to be set on a copy of a slice from a DataFrame.\n",
      "Try using .loc[row_indexer,col_indexer] = value instead\n",
      "\n",
      "See the caveats in the documentation: https://pandas.pydata.org/pandas-docs/stable/user_guide/indexing.html#returning-a-view-versus-a-copy\n",
      "  isetter(loc, value)\n"
     ]
    },
    {
     "name": "stdout",
     "output_type": "stream",
     "text": [
      "(207441, 10)\n"
     ]
    },
    {
     "name": "stderr",
     "output_type": "stream",
     "text": [
      "D:\\anaconda\\lib\\site-packages\\ipykernel_launcher.py:50: SettingWithCopyWarning: \n",
      "A value is trying to be set on a copy of a slice from a DataFrame.\n",
      "Try using .loc[row_indexer,col_indexer] = value instead\n",
      "\n",
      "See the caveats in the documentation: https://pandas.pydata.org/pandas-docs/stable/user_guide/indexing.html#returning-a-view-versus-a-copy\n",
      "D:\\anaconda\\lib\\site-packages\\ipykernel_launcher.py:52: SettingWithCopyWarning: \n",
      "A value is trying to be set on a copy of a slice from a DataFrame.\n",
      "Try using .loc[row_indexer,col_indexer] = value instead\n",
      "\n",
      "See the caveats in the documentation: https://pandas.pydata.org/pandas-docs/stable/user_guide/indexing.html#returning-a-view-versus-a-copy\n"
     ]
    }
   ],
   "source": [
    "DFStockOut=df0.iloc[:,[6,7,11,3,10,12]]\n",
    "c=3\n",
    "a=DFStockOut.shape[1]\n",
    "ReStartStock=13790#10000#该变量表示补货到达后的初始库存\n",
    "DFStockOut['OurLeaveStock']=DFStockOut['Date'].apply(lambda x : ReStartStock)#6\n",
    "DFStockOut['OurBuHuoStart']=DFStockOut['Date'].apply(lambda x : 0)#补货触发时刻7\n",
    "b=a+1\n",
    "DFStockOut['Date']=pd.to_datetime(DFStockOut['Date'])\n",
    "StockOutTime=[]\n",
    "DHCS1=0#表示订货次数\n",
    "DFStockOut['AllMinutes']=DFStockOut['MinuteLabel'].apply(lambda x: time.strftime(\"%H:%M:%S\", time.gmtime( float((x+1)*abc*60))))\n",
    "for i in range(DFStockOut.shape[0]):\n",
    "    if DFStockOut.iloc[i,-1]==\"00:00:00\":\n",
    "        DFStockOut.iloc[i,-1]=\"23:59:00\"  ###1月20日0:00:00表示的是1月20日24:00:00,而无法取24h，所以设为23.59    \n",
    "DFStockOut['timestamp']=DFStockOut['Date'].astype('str')+ ' ' + DFStockOut['AllMinutes'].astype('str')\n",
    "DFStockOut['timestamp'] = pd.to_datetime(DFStockOut['timestamp'])#pd.to_datetime它无法转换\n",
    "print(DFStockOut.shape)#(321121, 9)"
   ]
  },
  {
   "cell_type": "code",
   "execution_count": 4,
   "metadata": {},
   "outputs": [],
   "source": [
    "df2 = df0.groupby([\"Date\",\"MinuteLabel\"])['volume'].sum().reset_index(name ='UnitSales')#只留下小时销量数据\n",
    "df2['Date'] = pd.to_datetime(df2['Date']) \n",
    "df2['Month_id']=df2['Date'].dt.month\n",
    "df2['weekday'] = df2['Date'].apply(lambda time: time.dayofweek)\n",
    "df2['MinuteLabel']=df2['MinuteLabel'].astype(str)\n",
    "df2['weekday_hour'] = df2.weekday.astype(str) +' '+ df2.MinuteLabel.astype(str)\n",
    "df2['m_weekday'] = df2.weekday_hour.replace(df2[:].groupby('weekday_hour')['UnitSales'].mean().to_dict())\n",
    "init1 = df2.m_weekday[:].apply(np.log).values#均值取对数df5['UnitSales'\n",
    "df2['PreproccessUnitSales'] =df2.UnitSales[:].apply(np.log).values - init1#数取对数-均值的对数\n",
    "dfghu=df2.sort_values(by=['UnitSales'],ascending=[True]) \n",
    "df2['UnitSales']=df2['UnitSales'].apply(lambda x: (x-dfghu.iloc[0,2])/(dfghu.iloc[dfghu.shape[0]-1,2]-dfghu.iloc[0,2]))"
   ]
  },
  {
   "cell_type": "code",
   "execution_count": 8,
   "metadata": {},
   "outputs": [],
   "source": [
    "df2['MinuteLabel']=df2['MinuteLabel'].astype(int)#\n",
    "idx=list(range(0,int(24*60/abc)))                                                         \n",
    "i=0\n",
    "colorSet=['cyan','g','palegreen','c','lime','tomato','r']\n",
    "DayName=['Mony','Tues','Wednes', 'Thurs', 'Fri', 'Satur', 'Sun']\n",
    "days = [\"Monday\", \"Tuesday\", \"Wednesday\", \"Thursday\", \"Friday\", \"Saturday\", \"Sunday\"]\n",
    "day_name=df2.groupby([\"weekday\"])         #\n",
    "for name,group in day_name:#group是星期数一样的类目\n",
    "    group1=group.groupby([\"Date\"])\n",
    "    j=0\n",
    "    for name,group2 in group1:#group2是星期数、日期数一样的类目，即一天  \n",
    "         group2=group2.sort_values(by=['MinuteLabel'],ascending=True,na_position='first')  # 按时间排序                  \n",
    "         group2 = group2.set_index('MinuteLabel')#group2设置索引为Hour         \n",
    "         group2 = group2.reindex(idx, fill_value=0)\n",
    "         group2['MinuteLabel'] = group2.index          \n",
    "         group2['Date']=name    \n",
    "         group2['weekday'] = group2['Date'].apply(lambda time: time.dayofweek)\n",
    "         group2['day_name']=group2['weekday'].apply (lambda x : days[x])\n",
    "         if i==0 and j==0:\n",
    "            df3=group2\n",
    "         else:      \n",
    "            df3=pd.concat([df3,group2], axis=0, ignore_index=True)#axis:合并方式，默认0表示按列合并，1表示按行合并;ignore_index:是否忽略索引                   \n",
    "         j=j+1\n",
    "    i=i+1\n",
    "df3=df3.sort_values(by=['Date','MinuteLabel'],ascending=[True,True]) #df3是没有的，用0不足的dataframe\n",
    "df3['HourLabel']=df3['MinuteLabel'].apply(lambda x: math.floor(x*abc/60))"
   ]
  },
  {
   "cell_type": "code",
   "execution_count": 16,
   "metadata": {},
   "outputs": [],
   "source": [
    "df5=df3.iloc[:,:]\n",
    "df3['HourLabel']=df3['HourLabel'].astype(int)\n",
    "df5['weekday'] = df5.Date.dt.weekday\n",
    "df5['weekday_hour'] = df5.weekday.astype(str) +' '+ df5.HourLabel.astype(str)\n",
    "df5['m_weekday'] = df5.weekday_hour.replace(df5[:].groupby('weekday_hour')['UnitSales'].mean().to_dict())\n",
    "df5.to_csv('hour_Demand_consumption.csv')\n",
    "df5['AllMinutes']=df5['MinuteLabel'].apply(lambda x: time.strftime(\"%H:%M:%S\", time.gmtime( float((x+1)*abc*60))))\n",
    "for i in range(df5.shape[0]):\n",
    "    if df5.loc[i,'AllMinutes']==\"00:00:00\": \n",
    "        df5.loc[i,'AllMinutes']=\"23:59:00\"  ###1月20日0:00:00表示的是1月20日24:00:00,而无法取24h，所以设为23.59\n",
    "df = pd.DataFrame(columns=['timestamp', 'value'])###初始化\n",
    "#将秒转换为时分秒的形式\n",
    "df['timestamp']=df5['Date'].astype('str')+ ' ' + df5['AllMinutes'].astype('str')\n",
    "df['timestamp'] = pd.to_datetime(df['timestamp'])#为什么成了选取偶数\n",
    "df['value']=df5['UnitSales']\n",
    "df=df.sort_values(by=['timestamp'],ascending=[True]) \n",
    "df['Date']=df['timestamp'].apply(lambda x: x.strftime(\"%Y-%m-%d\"))#提取时间戳中的日期\n",
    "df['MinuteLabel']=df5['MinuteLabel']\n",
    "df['yr'] = df.timestamp.dt.year\n",
    "df['mt'] = df.timestamp.dt.month\n",
    "df['d'] = df.timestamp.dt.day\n",
    "df['H'] = df5['HourLabel']\n",
    "df['Mi'] = df5['MinuteLabel']#表示第几个单位时间\n",
    "df['weekday'] = df.timestamp.dt.weekday\n",
    "df['weekday_hour'] = df.weekday.astype(str) +' '+ df.Mi.astype(str)\n",
    "df['m_weekday'] = df.weekday_hour.replace(df[:].groupby('weekday_hour')['value'].mean().to_dict())\n",
    "df=df.sort_values(by=['timestamp','Mi'],ascending=[True,True]) #df3是没有的，用0不足的dataframe"
   ]
  },
  {
   "cell_type": "markdown",
   "metadata": {},
   "source": [
    "# Parameter sensitivity experiment"
   ]
  },
  {
   "cell_type": "markdown",
   "metadata": {},
   "source": [
    "## Define functions"
   ]
  },
  {
   "cell_type": "code",
   "execution_count": 18,
   "metadata": {},
   "outputs": [],
   "source": [
    "def to_supervised2(data, n_input, n_out):#数据裂变划分\n",
    "    #将所有数据转换为输入(X[..,len(x_input),1])、y[..,len(data[in_end:out_end, 0])]\n",
    "    #print('data[-1:-4]',data[-1:-4])\n",
    "    X, y = list(), list()\n",
    "    in_start = 0\n",
    "    for _ in range(len(data)):# 逐步遍历整个历史数据\n",
    "        in_end = in_start + n_input## 定义输入序列的结束点\n",
    "        out_end = in_end + n_out\n",
    "        if out_end < (len(data)+1):# 确保有足够的数据\n",
    "            x_input = data[in_start:in_end, 0]\n",
    "            x_input = x_input.reshape((len(x_input), 1))\n",
    "            X.append(x_input)\n",
    "            y.append(data[in_end:out_end, 0])\n",
    "        in_start += 1    # 依次推进时间\n",
    "    return array(X), array(y)\n",
    "###01前期数据准备\n",
    "def DataPreprogress(df):\n",
    "    init1 = df.m_weekday[:].apply(lambda x: 0).values#均值取对数\n",
    "    label1 = df.value[:].values - init1#没必要取对数吧\n",
    "    Date1=df.timestamp[:]#获得对应时间戳\n",
    "    label1=np.array(label1).reshape(len(label1),1)#1维变2维\n",
    "    init1=np.array(init1).reshape(len(init1),1)#1维变2维\n",
    "    Date1=np.array(Date1).reshape(len(Date1),1)\n",
    "    Xx, Yy = to_supervised2(label1, n_input, n_out)#准备数据#00\n",
    "    Date1Xx, Date1Yy = to_supervised2(Date1, n_input, n_out)#准备数据#00\n",
    "    initXx, initYy = to_supervised2(init1, n_input, n_out)#准备数据#00\n",
    "    return init1,label1,Date1,Xx, Yy,Date1Xx, Date1Yy,initXx,initYy\n",
    "###02将数据分为测试组和训练组\n",
    "def split_dataset2(x,y):# split a univariate dataset into train/test sets\n",
    "    train_x, test_x = x[:SplitNum], x[SplitNum:]\n",
    "    train_y, test_y = y[:SplitNum], y[SplitNum:]\n",
    "    return train_x, test_x,train_y, test_y"
   ]
  },
  {
   "cell_type": "code",
   "execution_count": 19,
   "metadata": {},
   "outputs": [],
   "source": [
    "###02 基于01模型进行预测\n",
    "def forecast2(model, test_x,inittest_y):#基于model，得到预测值y\n",
    "    input_x = array(test_x)\n",
    "    input_x = input_x.reshape((1, len(input_x), 1))# reshape into [1, n_input, 1]\n",
    "    pred_00=[]\n",
    "    predd = model.predict(input_x, verbose=0)    \n",
    "    predd = predd[0]# we only want the vector forecast\n",
    "    predd = predd.reshape((len(predd), 1))\n",
    "    pred_00.append(predd)\n",
    "    pred_00 = np.asarray(pred_00)[:,:,0] \n",
    "    pred_00_m = (pred_00[0]+ inittest_y[:])*(dfghu.iloc[dfghu.shape[0]-1,2]-dfghu.iloc[0,2])+dfghu.iloc[0,2]\n",
    "    return pred_00_m\n",
    "\n",
    "###03,测试部分,基于预测模型得到预测值\n",
    "def PredictValueTest(model,test_x,inittest_y):\n",
    "    ii=0#表示model1_list\n",
    "    predictionspredList=[]#得到多个分位数预测模型、不同重复次数下的预测值集合（predictionspredList）\n",
    "    for ij in range(len(test_x)):\n",
    "        pred = forecast2(model,test_x[ij,:], inittest_y[ij,:])#得到预测值\n",
    "        predictionspredList.append(pred)\n",
    "    predictionspredList = array(predictionspredList)#list转换为数组\n",
    "    return  predictionspredList"
   ]
  },
  {
   "cell_type": "code",
   "execution_count": 20,
   "metadata": {},
   "outputs": [],
   "source": [
    "#03评估预测误差\n",
    "def evaluate_forecasts1(actual, predicted):#返回预测值的总RMSE以及每天RMSE的列表\n",
    "    #print('len(actual)',len(actual))\n",
    "    #print('len(predicted)',len(predicted))\n",
    "    scores = list() \n",
    "    for i in range(actual.shape[1]):\n",
    "        #print('actual.shape',actual.shape)\n",
    "        #print('predicted.shape',predicted.shape)\n",
    "        mse = mean_squared_error(actual[:, i], predicted[:, i])#计算MSE\n",
    "        rmse = sqrt(mse)#计算RMSE\n",
    "        scores.append(rmse)#计算每个预测值的RMSE,存放在列表#这个现在来看没有多大意义，因为不是同一个时刻,表示向前1步、2步、几步的预测效果\n",
    "    s = 0\n",
    "    sMAE = 0\n",
    "    sMAPE = 0\n",
    "    RMSE1=list()\n",
    "    for row in range(actual.shape[0]):\n",
    "        ss=0\n",
    "        for col in range(actual.shape[1]):\n",
    "            s += (actual[row, col] - predicted[row, col]) ** 2\n",
    "            ss+= (actual[row, col] - predicted[row, col]) ** 2\n",
    "            sMAE+= np.abs(actual[row, col] - predicted[row, col])\n",
    "            sMAPE+= np.abs((actual[row, col] - predicted[row, col])/actual[row, col])\n",
    "        RMSE1.append(sqrt(ss/actual.shape[1]))##每一组的RMSE\n",
    "\n",
    "    #print('RMSE1',RMSE1)\n",
    "    AllNum=actual.shape[0] * actual.shape[1]\n",
    "    AllRMSE = sqrt(s / AllNum)#计算所有值的RMSE\n",
    "    AllMSE = s / AllNum#计算所有值的RMSE\n",
    "    AllMAE =sMAE/AllNum\n",
    "    AllMAPE =sMAPE/AllNum  \n",
    "    name='[Num]/RMSE/MSE/MAE/MAPE/q_loss'\n",
    "    SingPredictscores = list() \n",
    "    SingPredictscores.append(AllRMSE)\n",
    "    SingPredictscores.append(AllMSE)\n",
    "    SingPredictscores.append(AllMAE)\n",
    "    SingPredictscores.append(AllMAPE)\n",
    "    SingPredictscores = ', '.join(['%.1f' % s for s in SingPredictscores])\n",
    "    return AllRMSE,scores,AllMSE,AllMAE,AllMAPE,AllNum\n",
    "###06\n",
    "def summarize_scores(name, score, scores):#总结分数\n",
    "    s_scores = ', '.join(['%.1f' % s for s in scores])\n",
    "\n",
    "###04 测试部分，预测结果的传统评价\n",
    "def  ValueTest(test_y,inittest_y,predictionspredI):\n",
    "    ###得到测试y值的原始值\n",
    "    test_y1=test_y.copy()## 对原始的array1的复制\n",
    "    for i in range(test_y.shape[0]):\n",
    "        test_y1[i, :]=(test_y[i, :] + inittest_y[i,:])*(dfghu.iloc[dfghu.shape[0]-1,2]-dfghu.iloc[0,2])+dfghu.iloc[0,2]#不用求exp啦\n",
    "    PredictScresSet=[]\n",
    "    AllRMSE,scores,AllMSE,AllMAE,AllMAPE,AllNum=evaluate_forecasts1(test_y1[:, :], predictionspredI)\n",
    "    PredictScresSet.append(AllRMSE)\n",
    "    PredictScresSet.append(AllMSE)\n",
    "    PredictScresSet.append(AllMAE)\n",
    "    PredictScresSet.append(AllMAPE)\n",
    "    PredictScresSet.append(AllNum)\n",
    "    days = range(n_out)\n",
    "    return PredictScresSet"
   ]
  },
  {
   "cell_type": "code",
   "execution_count": 21,
   "metadata": {},
   "outputs": [],
   "source": [
    "def run(trial):\n",
    "    space = {        \n",
    "        'optimizer':  trial.suggest_categorical('optimizer', [optimizers.Adam]),\n",
    "        'units': trial.suggest_int('units', 5, 500, 5),\n",
    "        'epochs': trial.suggest_int('epochs', 10, 100, 10),\n",
    "        'batch_size': trial.suggest_categorical('batch_size', [8,16, 32, 64, 128, 256, 512]),\n",
    "        'learning_rate': trial.suggest_loguniform('learning_rate', 1e-3, 8e-1)\n",
    "    }\n",
    "    model_list = []\n",
    "    tf.random.set_seed(33)\n",
    "    tf.random.set_seed(33)\n",
    "    os.environ['PYTHONHASHSEED'] = str(33)\n",
    "    np.random.seed(33)\n",
    "    session_conf = tf.compat.v1.ConfigProto(\n",
    "    intra_op_parallelism_threads=1, \n",
    "    inter_op_parallelism_threads=1)\n",
    "    sess = tf.compat.v1.Session(\n",
    "    graph=tf.compat.v1.get_default_graph(), \n",
    "    config=session_conf)\n",
    "    tf.compat.v1.keras.backend.set_session(sess)    \n",
    "    \n",
    "    n_timesteps, n_features, n_outputs = train_x.shape[1], train_x.shape[2], train_y.shape[1]\n",
    "    model = Sequential()# define model\n",
    "    model.add(Conv1D(filters=space['units'],#建立16个滤镜\n",
    "                     kernel_size=3,#每一个滤镜的大小\n",
    "                     padding='same',#产生的卷积图形不变\n",
    "                     activation='relu',\n",
    "                   ))\n",
    "    # 建立一维池化层1\n",
    "    model.add(MaxPooling1D(pool_size=2))\n",
    "    #建立平坦层\n",
    "    model.add(Flatten())\n",
    "    ###200表示隐藏状态维度\n",
    "    model.add(Dense(n_outputs))\n",
    "    model.compile(optimizer=space['optimizer'](learning_rate=space['learning_rate']), loss='mse')  # 平均误差损失\n",
    "    history = model.fit(train_x, train_y, epochs=space['epochs'], batch_size=space['batch_size'], verbose=0, shuffle=False)   \n",
    "    predictionspredList=PredictValueTest(model,test_x,inittest_y)\n",
    "    PointredictScresSet0=ValueTest(test_y,inittest_y,predictionspredList)\n",
    "    model.summary()\n",
    "    p1 = pyplot.plot(history.history['loss'], color='blue', label='train')#画出学习过程\n",
    "    model_list.append(model)#保存model\n",
    "    print('PointredictScresSet0[0]',PointredictScresSet0[0])\n",
    "    return PointredictScresSet0[0]\n"
   ]
  },
  {
   "cell_type": "markdown",
   "metadata": {},
   "source": [
    "## Data solit"
   ]
  },
  {
   "cell_type": "code",
   "execution_count": 22,
   "metadata": {},
   "outputs": [
    {
     "name": "stdout",
     "output_type": "stream",
     "text": [
      "len(train_x), len(test_x),len(train_y), len(test_y) 6956 3117 6956 3117\n",
      "10073 10073\n"
     ]
    }
   ],
   "source": [
    "###定义参数取值\n",
    "n_input =4\n",
    "n_out = 4\n",
    "global SplitNum\n",
    "SplitNum=int((df.shape[0]/int(24*60/abc))*0.7)*int(24*60/abc)-n_input-48*2##天数的百分之0.7,再乘以48\n",
    "###00前期数据准备\n",
    "init1,label1,Date1,Xx, Yy,Date1Xx, Date1Yy,initXx, initYy=DataPreprogress(df)\n",
    "train_x, test_x,train_y, test_y = split_dataset2(Xx, Yy)#01\n",
    "print('len(train_x), len(test_x),len(train_y), len(test_y)',len(train_x), len(test_x),len(train_y), len(test_y))\n",
    "print(len(Xx), len(Yy))\n",
    "inittrain_x, inittest_x,inittrain_y, inittest_y = split_dataset2(initXx, initYy)#01\n",
    "Datetrain_x, Datetest_x,Datetrain_y, Datetest_y = split_dataset2(Date1Xx, Date1Yy)#01"
   ]
  },
  {
   "cell_type": "code",
   "execution_count": 23,
   "metadata": {},
   "outputs": [
    {
     "name": "stdout",
     "output_type": "stream",
     "text": [
      " Datetest_y[0] ['2020-10-28T00:30:00.000000000' '2020-10-28T01:00:00.000000000'\n",
      " '2020-10-28T01:30:00.000000000' '2020-10-28T02:00:00.000000000']\n"
     ]
    }
   ],
   "source": [
    "print(' Datetest_y[0]', Datetest_y[0])"
   ]
  },
  {
   "cell_type": "markdown",
   "metadata": {},
   "source": [
    "## Concrete hyperparameters based on optuna "
   ]
  },
  {
   "cell_type": "code",
   "execution_count": 24,
   "metadata": {},
   "outputs": [],
   "source": [
    "import optuna\n",
    "from optuna.visualization.matplotlib import plot_optimization_history\n",
    "from optuna.visualization.matplotlib import plot_param_importances"
   ]
  },
  {
   "cell_type": "code",
   "execution_count": 25,
   "metadata": {
    "scrolled": true
   },
   "outputs": [
    {
     "name": "stderr",
     "output_type": "stream",
     "text": [
      "\u001b[32m[I 2022-11-09 21:09:45,624]\u001b[0m A new study created in memory with name: no-name-c3b3fcdc-a917-450e-84e2-6aa93a6180ea\u001b[0m\n",
      "D:\\anaconda\\lib\\site-packages\\optuna\\distributions.py:427: UserWarning:\n",
      "\n",
      "Choices for a categorical distribution should be a tuple of None, bool, int, float and str for persistent storage but contains <class 'tensorflow.python.keras.optimizer_v2.adam.Adam'> which is of type ABCMeta.\n",
      "\n",
      "\u001b[32m[I 2022-11-09 21:11:16,612]\u001b[0m Trial 0 finished with value: 539.476772484504 and parameters: {'optimizer': <class 'tensorflow.python.keras.optimizer_v2.adam.Adam'>, 'units': 25, 'epochs': 100, 'batch_size': 256, 'learning_rate': 0.5296797489147815}. Best is trial 0 with value: 539.476772484504.\u001b[0m\n"
     ]
    },
    {
     "name": "stdout",
     "output_type": "stream",
     "text": [
      "Model: \"sequential\"\n",
      "_________________________________________________________________\n",
      "Layer (type)                 Output Shape              Param #   \n",
      "=================================================================\n",
      "conv1d (Conv1D)              multiple                  100       \n",
      "_________________________________________________________________\n",
      "max_pooling1d (MaxPooling1D) multiple                  0         \n",
      "_________________________________________________________________\n",
      "flatten (Flatten)            multiple                  0         \n",
      "_________________________________________________________________\n",
      "dense (Dense)                multiple                  204       \n",
      "=================================================================\n",
      "Total params: 304\n",
      "Trainable params: 304\n",
      "Non-trainable params: 0\n",
      "_________________________________________________________________\n",
      "PointredictScresSet0[0] 539.476772484504\n"
     ]
    },
    {
     "name": "stderr",
     "output_type": "stream",
     "text": [
      "D:\\anaconda\\lib\\site-packages\\optuna\\distributions.py:427: UserWarning:\n",
      "\n",
      "Choices for a categorical distribution should be a tuple of None, bool, int, float and str for persistent storage but contains <class 'tensorflow.python.keras.optimizer_v2.adam.Adam'> which is of type ABCMeta.\n",
      "\n",
      "\u001b[32m[I 2022-11-09 21:12:46,445]\u001b[0m Trial 1 finished with value: 276.1292416069639 and parameters: {'optimizer': <class 'tensorflow.python.keras.optimizer_v2.adam.Adam'>, 'units': 160, 'epochs': 100, 'batch_size': 512, 'learning_rate': 0.01738996203685607}. Best is trial 1 with value: 276.1292416069639.\u001b[0m\n"
     ]
    },
    {
     "name": "stdout",
     "output_type": "stream",
     "text": [
      "Model: \"sequential_1\"\n",
      "_________________________________________________________________\n",
      "Layer (type)                 Output Shape              Param #   \n",
      "=================================================================\n",
      "conv1d_1 (Conv1D)            multiple                  640       \n",
      "_________________________________________________________________\n",
      "max_pooling1d_1 (MaxPooling1 multiple                  0         \n",
      "_________________________________________________________________\n",
      "flatten_1 (Flatten)          multiple                  0         \n",
      "_________________________________________________________________\n",
      "dense_1 (Dense)              multiple                  1284      \n",
      "=================================================================\n",
      "Total params: 1,924\n",
      "Trainable params: 1,924\n",
      "Non-trainable params: 0\n",
      "_________________________________________________________________\n",
      "PointredictScresSet0[0] 276.1292416069639\n"
     ]
    },
    {
     "name": "stderr",
     "output_type": "stream",
     "text": [
      "D:\\anaconda\\lib\\site-packages\\optuna\\distributions.py:427: UserWarning:\n",
      "\n",
      "Choices for a categorical distribution should be a tuple of None, bool, int, float and str for persistent storage but contains <class 'tensorflow.python.keras.optimizer_v2.adam.Adam'> which is of type ABCMeta.\n",
      "\n",
      "\u001b[32m[I 2022-11-09 21:15:19,081]\u001b[0m Trial 2 finished with value: 310.1347708800992 and parameters: {'optimizer': <class 'tensorflow.python.keras.optimizer_v2.adam.Adam'>, 'units': 35, 'epochs': 70, 'batch_size': 8, 'learning_rate': 0.0347769960213951}. Best is trial 1 with value: 276.1292416069639.\u001b[0m\n"
     ]
    },
    {
     "name": "stdout",
     "output_type": "stream",
     "text": [
      "Model: \"sequential_2\"\n",
      "_________________________________________________________________\n",
      "Layer (type)                 Output Shape              Param #   \n",
      "=================================================================\n",
      "conv1d_2 (Conv1D)            multiple                  140       \n",
      "_________________________________________________________________\n",
      "max_pooling1d_2 (MaxPooling1 multiple                  0         \n",
      "_________________________________________________________________\n",
      "flatten_2 (Flatten)          multiple                  0         \n",
      "_________________________________________________________________\n",
      "dense_2 (Dense)              multiple                  284       \n",
      "=================================================================\n",
      "Total params: 424\n",
      "Trainable params: 424\n",
      "Non-trainable params: 0\n",
      "_________________________________________________________________\n",
      "PointredictScresSet0[0] 310.1347708800992\n"
     ]
    },
    {
     "name": "stderr",
     "output_type": "stream",
     "text": [
      "D:\\anaconda\\lib\\site-packages\\optuna\\distributions.py:427: UserWarning:\n",
      "\n",
      "Choices for a categorical distribution should be a tuple of None, bool, int, float and str for persistent storage but contains <class 'tensorflow.python.keras.optimizer_v2.adam.Adam'> which is of type ABCMeta.\n",
      "\n",
      "\u001b[32m[I 2022-11-09 21:16:38,611]\u001b[0m Trial 3 finished with value: 538.8889537631359 and parameters: {'optimizer': <class 'tensorflow.python.keras.optimizer_v2.adam.Adam'>, 'units': 240, 'epochs': 20, 'batch_size': 512, 'learning_rate': 0.35220848291379353}. Best is trial 1 with value: 276.1292416069639.\u001b[0m\n"
     ]
    },
    {
     "name": "stdout",
     "output_type": "stream",
     "text": [
      "Model: \"sequential_3\"\n",
      "_________________________________________________________________\n",
      "Layer (type)                 Output Shape              Param #   \n",
      "=================================================================\n",
      "conv1d_3 (Conv1D)            multiple                  960       \n",
      "_________________________________________________________________\n",
      "max_pooling1d_3 (MaxPooling1 multiple                  0         \n",
      "_________________________________________________________________\n",
      "flatten_3 (Flatten)          multiple                  0         \n",
      "_________________________________________________________________\n",
      "dense_3 (Dense)              multiple                  1924      \n",
      "=================================================================\n",
      "Total params: 2,884\n",
      "Trainable params: 2,884\n",
      "Non-trainable params: 0\n",
      "_________________________________________________________________\n",
      "PointredictScresSet0[0] 538.8889537631359\n"
     ]
    },
    {
     "name": "stderr",
     "output_type": "stream",
     "text": [
      "D:\\anaconda\\lib\\site-packages\\optuna\\distributions.py:427: UserWarning:\n",
      "\n",
      "Choices for a categorical distribution should be a tuple of None, bool, int, float and str for persistent storage but contains <class 'tensorflow.python.keras.optimizer_v2.adam.Adam'> which is of type ABCMeta.\n",
      "\n",
      "\u001b[32m[I 2022-11-09 21:18:15,498]\u001b[0m Trial 4 finished with value: 621.1758084057493 and parameters: {'optimizer': <class 'tensorflow.python.keras.optimizer_v2.adam.Adam'>, 'units': 65, 'epochs': 70, 'batch_size': 32, 'learning_rate': 0.3315974644224797}. Best is trial 1 with value: 276.1292416069639.\u001b[0m\n"
     ]
    },
    {
     "name": "stdout",
     "output_type": "stream",
     "text": [
      "Model: \"sequential_4\"\n",
      "_________________________________________________________________\n",
      "Layer (type)                 Output Shape              Param #   \n",
      "=================================================================\n",
      "conv1d_4 (Conv1D)            multiple                  260       \n",
      "_________________________________________________________________\n",
      "max_pooling1d_4 (MaxPooling1 multiple                  0         \n",
      "_________________________________________________________________\n",
      "flatten_4 (Flatten)          multiple                  0         \n",
      "_________________________________________________________________\n",
      "dense_4 (Dense)              multiple                  524       \n",
      "=================================================================\n",
      "Total params: 784\n",
      "Trainable params: 784\n",
      "Non-trainable params: 0\n",
      "_________________________________________________________________\n",
      "PointredictScresSet0[0] 621.1758084057493\n"
     ]
    },
    {
     "name": "stderr",
     "output_type": "stream",
     "text": [
      "D:\\anaconda\\lib\\site-packages\\optuna\\distributions.py:427: UserWarning:\n",
      "\n",
      "Choices for a categorical distribution should be a tuple of None, bool, int, float and str for persistent storage but contains <class 'tensorflow.python.keras.optimizer_v2.adam.Adam'> which is of type ABCMeta.\n",
      "\n",
      "\u001b[32m[I 2022-11-09 21:19:35,502]\u001b[0m Trial 5 finished with value: 277.022314379573 and parameters: {'optimizer': <class 'tensorflow.python.keras.optimizer_v2.adam.Adam'>, 'units': 195, 'epochs': 40, 'batch_size': 512, 'learning_rate': 0.00527595598314673}. Best is trial 1 with value: 276.1292416069639.\u001b[0m\n"
     ]
    },
    {
     "name": "stdout",
     "output_type": "stream",
     "text": [
      "Model: \"sequential_5\"\n",
      "_________________________________________________________________\n",
      "Layer (type)                 Output Shape              Param #   \n",
      "=================================================================\n",
      "conv1d_5 (Conv1D)            multiple                  780       \n",
      "_________________________________________________________________\n",
      "max_pooling1d_5 (MaxPooling1 multiple                  0         \n",
      "_________________________________________________________________\n",
      "flatten_5 (Flatten)          multiple                  0         \n",
      "_________________________________________________________________\n",
      "dense_5 (Dense)              multiple                  1564      \n",
      "=================================================================\n",
      "Total params: 2,344\n",
      "Trainable params: 2,344\n",
      "Non-trainable params: 0\n",
      "_________________________________________________________________\n",
      "PointredictScresSet0[0] 277.022314379573\n"
     ]
    },
    {
     "name": "stderr",
     "output_type": "stream",
     "text": [
      "D:\\anaconda\\lib\\site-packages\\optuna\\distributions.py:427: UserWarning:\n",
      "\n",
      "Choices for a categorical distribution should be a tuple of None, bool, int, float and str for persistent storage but contains <class 'tensorflow.python.keras.optimizer_v2.adam.Adam'> which is of type ABCMeta.\n",
      "\n",
      "\u001b[32m[I 2022-11-09 21:21:46,215]\u001b[0m Trial 6 finished with value: 273.6724543048935 and parameters: {'optimizer': <class 'tensorflow.python.keras.optimizer_v2.adam.Adam'>, 'units': 415, 'epochs': 80, 'batch_size': 16, 'learning_rate': 0.0022489756208942556}. Best is trial 6 with value: 273.6724543048935.\u001b[0m\n"
     ]
    },
    {
     "name": "stdout",
     "output_type": "stream",
     "text": [
      "Model: \"sequential_6\"\n",
      "_________________________________________________________________\n",
      "Layer (type)                 Output Shape              Param #   \n",
      "=================================================================\n",
      "conv1d_6 (Conv1D)            multiple                  1660      \n",
      "_________________________________________________________________\n",
      "max_pooling1d_6 (MaxPooling1 multiple                  0         \n",
      "_________________________________________________________________\n",
      "flatten_6 (Flatten)          multiple                  0         \n",
      "_________________________________________________________________\n",
      "dense_6 (Dense)              multiple                  3324      \n",
      "=================================================================\n",
      "Total params: 4,984\n",
      "Trainable params: 4,984\n",
      "Non-trainable params: 0\n",
      "_________________________________________________________________\n",
      "PointredictScresSet0[0] 273.6724543048935\n"
     ]
    },
    {
     "name": "stderr",
     "output_type": "stream",
     "text": [
      "D:\\anaconda\\lib\\site-packages\\optuna\\distributions.py:427: UserWarning:\n",
      "\n",
      "Choices for a categorical distribution should be a tuple of None, bool, int, float and str for persistent storage but contains <class 'tensorflow.python.keras.optimizer_v2.adam.Adam'> which is of type ABCMeta.\n",
      "\n",
      "\u001b[32m[I 2022-11-09 21:23:16,008]\u001b[0m Trial 7 finished with value: 281.6540618155549 and parameters: {'optimizer': <class 'tensorflow.python.keras.optimizer_v2.adam.Adam'>, 'units': 255, 'epochs': 90, 'batch_size': 128, 'learning_rate': 0.033804379357641606}. Best is trial 6 with value: 273.6724543048935.\u001b[0m\n"
     ]
    },
    {
     "name": "stdout",
     "output_type": "stream",
     "text": [
      "Model: \"sequential_7\"\n",
      "_________________________________________________________________\n",
      "Layer (type)                 Output Shape              Param #   \n",
      "=================================================================\n",
      "conv1d_7 (Conv1D)            multiple                  1020      \n",
      "_________________________________________________________________\n",
      "max_pooling1d_7 (MaxPooling1 multiple                  0         \n",
      "_________________________________________________________________\n",
      "flatten_7 (Flatten)          multiple                  0         \n",
      "_________________________________________________________________\n",
      "dense_7 (Dense)              multiple                  2044      \n",
      "=================================================================\n",
      "Total params: 3,064\n",
      "Trainable params: 3,064\n",
      "Non-trainable params: 0\n",
      "_________________________________________________________________\n",
      "PointredictScresSet0[0] 281.6540618155549\n"
     ]
    },
    {
     "name": "stderr",
     "output_type": "stream",
     "text": [
      "D:\\anaconda\\lib\\site-packages\\optuna\\distributions.py:427: UserWarning:\n",
      "\n",
      "Choices for a categorical distribution should be a tuple of None, bool, int, float and str for persistent storage but contains <class 'tensorflow.python.keras.optimizer_v2.adam.Adam'> which is of type ABCMeta.\n",
      "\n",
      "\u001b[32m[I 2022-11-09 21:24:45,549]\u001b[0m Trial 8 finished with value: 280.0344819321639 and parameters: {'optimizer': <class 'tensorflow.python.keras.optimizer_v2.adam.Adam'>, 'units': 245, 'epochs': 20, 'batch_size': 256, 'learning_rate': 0.010945184109915438}. Best is trial 6 with value: 273.6724543048935.\u001b[0m\n"
     ]
    },
    {
     "name": "stdout",
     "output_type": "stream",
     "text": [
      "Model: \"sequential_8\"\n",
      "_________________________________________________________________\n",
      "Layer (type)                 Output Shape              Param #   \n",
      "=================================================================\n",
      "conv1d_8 (Conv1D)            multiple                  980       \n",
      "_________________________________________________________________\n",
      "max_pooling1d_8 (MaxPooling1 multiple                  0         \n",
      "_________________________________________________________________\n",
      "flatten_8 (Flatten)          multiple                  0         \n",
      "_________________________________________________________________\n",
      "dense_8 (Dense)              multiple                  1964      \n",
      "=================================================================\n",
      "Total params: 2,944\n",
      "Trainable params: 2,944\n",
      "Non-trainable params: 0\n",
      "_________________________________________________________________\n",
      "PointredictScresSet0[0] 280.0344819321639\n"
     ]
    },
    {
     "name": "stderr",
     "output_type": "stream",
     "text": [
      "D:\\anaconda\\lib\\site-packages\\optuna\\distributions.py:427: UserWarning:\n",
      "\n",
      "Choices for a categorical distribution should be a tuple of None, bool, int, float and str for persistent storage but contains <class 'tensorflow.python.keras.optimizer_v2.adam.Adam'> which is of type ABCMeta.\n",
      "\n",
      "\u001b[32m[I 2022-11-09 21:27:23,879]\u001b[0m Trial 9 finished with value: 275.3514026622868 and parameters: {'optimizer': <class 'tensorflow.python.keras.optimizer_v2.adam.Adam'>, 'units': 355, 'epochs': 100, 'batch_size': 16, 'learning_rate': 0.005217399562438656}. Best is trial 6 with value: 273.6724543048935.\u001b[0m\n"
     ]
    },
    {
     "name": "stdout",
     "output_type": "stream",
     "text": [
      "Model: \"sequential_9\"\n",
      "_________________________________________________________________\n",
      "Layer (type)                 Output Shape              Param #   \n",
      "=================================================================\n",
      "conv1d_9 (Conv1D)            multiple                  1420      \n",
      "_________________________________________________________________\n",
      "max_pooling1d_9 (MaxPooling1 multiple                  0         \n",
      "_________________________________________________________________\n",
      "flatten_9 (Flatten)          multiple                  0         \n",
      "_________________________________________________________________\n",
      "dense_9 (Dense)              multiple                  2844      \n",
      "=================================================================\n",
      "Total params: 4,264\n",
      "Trainable params: 4,264\n",
      "Non-trainable params: 0\n",
      "_________________________________________________________________\n",
      "PointredictScresSet0[0] 275.3514026622868\n"
     ]
    },
    {
     "name": "stderr",
     "output_type": "stream",
     "text": [
      "D:\\anaconda\\lib\\site-packages\\optuna\\distributions.py:427: UserWarning:\n",
      "\n",
      "Choices for a categorical distribution should be a tuple of None, bool, int, float and str for persistent storage but contains <class 'tensorflow.python.keras.optimizer_v2.adam.Adam'> which is of type ABCMeta.\n",
      "\n",
      "\u001b[32m[I 2022-11-09 21:29:36,345]\u001b[0m Trial 10 finished with value: 273.20763509555417 and parameters: {'optimizer': <class 'tensorflow.python.keras.optimizer_v2.adam.Adam'>, 'units': 490, 'epochs': 60, 'batch_size': 16, 'learning_rate': 0.0016802052096593237}. Best is trial 10 with value: 273.20763509555417.\u001b[0m\n"
     ]
    },
    {
     "name": "stdout",
     "output_type": "stream",
     "text": [
      "Model: \"sequential_10\"\n",
      "_________________________________________________________________\n",
      "Layer (type)                 Output Shape              Param #   \n",
      "=================================================================\n",
      "conv1d_10 (Conv1D)           multiple                  1960      \n",
      "_________________________________________________________________\n",
      "max_pooling1d_10 (MaxPooling multiple                  0         \n",
      "_________________________________________________________________\n",
      "flatten_10 (Flatten)         multiple                  0         \n",
      "_________________________________________________________________\n",
      "dense_10 (Dense)             multiple                  3924      \n",
      "=================================================================\n",
      "Total params: 5,884\n",
      "Trainable params: 5,884\n",
      "Non-trainable params: 0\n",
      "_________________________________________________________________\n",
      "PointredictScresSet0[0] 273.20763509555417\n"
     ]
    },
    {
     "name": "stderr",
     "output_type": "stream",
     "text": [
      "D:\\anaconda\\lib\\site-packages\\optuna\\distributions.py:427: UserWarning:\n",
      "\n",
      "Choices for a categorical distribution should be a tuple of None, bool, int, float and str for persistent storage but contains <class 'tensorflow.python.keras.optimizer_v2.adam.Adam'> which is of type ABCMeta.\n",
      "\n",
      "\u001b[32m[I 2022-11-09 21:31:48,602]\u001b[0m Trial 11 finished with value: 272.86264316552155 and parameters: {'optimizer': <class 'tensorflow.python.keras.optimizer_v2.adam.Adam'>, 'units': 495, 'epochs': 60, 'batch_size': 16, 'learning_rate': 0.0012319505775569915}. Best is trial 11 with value: 272.86264316552155.\u001b[0m\n"
     ]
    },
    {
     "name": "stdout",
     "output_type": "stream",
     "text": [
      "Model: \"sequential_11\"\n",
      "_________________________________________________________________\n",
      "Layer (type)                 Output Shape              Param #   \n",
      "=================================================================\n",
      "conv1d_11 (Conv1D)           multiple                  1980      \n",
      "_________________________________________________________________\n",
      "max_pooling1d_11 (MaxPooling multiple                  0         \n",
      "_________________________________________________________________\n",
      "flatten_11 (Flatten)         multiple                  0         \n",
      "_________________________________________________________________\n",
      "dense_11 (Dense)             multiple                  3964      \n",
      "=================================================================\n",
      "Total params: 5,944\n",
      "Trainable params: 5,944\n",
      "Non-trainable params: 0\n",
      "_________________________________________________________________\n",
      "PointredictScresSet0[0] 272.86264316552155\n"
     ]
    },
    {
     "name": "stderr",
     "output_type": "stream",
     "text": [
      "D:\\anaconda\\lib\\site-packages\\optuna\\distributions.py:427: UserWarning:\n",
      "\n",
      "Choices for a categorical distribution should be a tuple of None, bool, int, float and str for persistent storage but contains <class 'tensorflow.python.keras.optimizer_v2.adam.Adam'> which is of type ABCMeta.\n",
      "\n",
      "\u001b[32m[I 2022-11-09 21:33:32,042]\u001b[0m Trial 12 finished with value: 273.36139315520046 and parameters: {'optimizer': <class 'tensorflow.python.keras.optimizer_v2.adam.Adam'>, 'units': 495, 'epochs': 50, 'batch_size': 64, 'learning_rate': 0.0012552067226283892}. Best is trial 11 with value: 272.86264316552155.\u001b[0m\n"
     ]
    },
    {
     "name": "stdout",
     "output_type": "stream",
     "text": [
      "Model: \"sequential_12\"\n",
      "_________________________________________________________________\n",
      "Layer (type)                 Output Shape              Param #   \n",
      "=================================================================\n",
      "conv1d_12 (Conv1D)           multiple                  1980      \n",
      "_________________________________________________________________\n",
      "max_pooling1d_12 (MaxPooling multiple                  0         \n",
      "_________________________________________________________________\n",
      "flatten_12 (Flatten)         multiple                  0         \n",
      "_________________________________________________________________\n",
      "dense_12 (Dense)             multiple                  3964      \n",
      "=================================================================\n",
      "Total params: 5,944\n",
      "Trainable params: 5,944\n",
      "Non-trainable params: 0\n",
      "_________________________________________________________________\n",
      "PointredictScresSet0[0] 273.36139315520046\n"
     ]
    },
    {
     "name": "stderr",
     "output_type": "stream",
     "text": [
      "D:\\anaconda\\lib\\site-packages\\optuna\\distributions.py:427: UserWarning:\n",
      "\n",
      "Choices for a categorical distribution should be a tuple of None, bool, int, float and str for persistent storage but contains <class 'tensorflow.python.keras.optimizer_v2.adam.Adam'> which is of type ABCMeta.\n",
      "\n",
      "\u001b[32m[I 2022-11-09 21:35:30,934]\u001b[0m Trial 13 finished with value: 273.1632263513749 and parameters: {'optimizer': <class 'tensorflow.python.keras.optimizer_v2.adam.Adam'>, 'units': 490, 'epochs': 50, 'batch_size': 16, 'learning_rate': 0.0010464173230909984}. Best is trial 11 with value: 272.86264316552155.\u001b[0m\n"
     ]
    },
    {
     "name": "stdout",
     "output_type": "stream",
     "text": [
      "Model: \"sequential_13\"\n",
      "_________________________________________________________________\n",
      "Layer (type)                 Output Shape              Param #   \n",
      "=================================================================\n",
      "conv1d_13 (Conv1D)           multiple                  1960      \n",
      "_________________________________________________________________\n",
      "max_pooling1d_13 (MaxPooling multiple                  0         \n",
      "_________________________________________________________________\n",
      "flatten_13 (Flatten)         multiple                  0         \n",
      "_________________________________________________________________\n",
      "dense_13 (Dense)             multiple                  3924      \n",
      "=================================================================\n",
      "Total params: 5,884\n",
      "Trainable params: 5,884\n",
      "Non-trainable params: 0\n",
      "_________________________________________________________________\n",
      "PointredictScresSet0[0] 273.1632263513749\n"
     ]
    },
    {
     "name": "stderr",
     "output_type": "stream",
     "text": [
      "D:\\anaconda\\lib\\site-packages\\optuna\\distributions.py:427: UserWarning:\n",
      "\n",
      "Choices for a categorical distribution should be a tuple of None, bool, int, float and str for persistent storage but contains <class 'tensorflow.python.keras.optimizer_v2.adam.Adam'> which is of type ABCMeta.\n",
      "\n",
      "\u001b[32m[I 2022-11-09 21:37:17,494]\u001b[0m Trial 14 finished with value: 316.53802996376453 and parameters: {'optimizer': <class 'tensorflow.python.keras.optimizer_v2.adam.Adam'>, 'units': 390, 'epochs': 40, 'batch_size': 16, 'learning_rate': 0.10975594398925594}. Best is trial 11 with value: 272.86264316552155.\u001b[0m\n"
     ]
    },
    {
     "name": "stdout",
     "output_type": "stream",
     "text": [
      "Model: \"sequential_14\"\n",
      "_________________________________________________________________\n",
      "Layer (type)                 Output Shape              Param #   \n",
      "=================================================================\n",
      "conv1d_14 (Conv1D)           multiple                  1560      \n",
      "_________________________________________________________________\n",
      "max_pooling1d_14 (MaxPooling multiple                  0         \n",
      "_________________________________________________________________\n",
      "flatten_14 (Flatten)         multiple                  0         \n",
      "_________________________________________________________________\n",
      "dense_14 (Dense)             multiple                  3124      \n",
      "=================================================================\n",
      "Total params: 4,684\n",
      "Trainable params: 4,684\n",
      "Non-trainable params: 0\n",
      "_________________________________________________________________\n",
      "PointredictScresSet0[0] 316.53802996376453\n"
     ]
    },
    {
     "name": "stderr",
     "output_type": "stream",
     "text": [
      "D:\\anaconda\\lib\\site-packages\\optuna\\distributions.py:427: UserWarning:\n",
      "\n",
      "Choices for a categorical distribution should be a tuple of None, bool, int, float and str for persistent storage but contains <class 'tensorflow.python.keras.optimizer_v2.adam.Adam'> which is of type ABCMeta.\n",
      "\n",
      "\u001b[32m[I 2022-11-09 21:39:03,624]\u001b[0m Trial 15 finished with value: 274.88423220926586 and parameters: {'optimizer': <class 'tensorflow.python.keras.optimizer_v2.adam.Adam'>, 'units': 470, 'epochs': 40, 'batch_size': 16, 'learning_rate': 0.0038924093725930644}. Best is trial 11 with value: 272.86264316552155.\u001b[0m\n"
     ]
    },
    {
     "name": "stdout",
     "output_type": "stream",
     "text": [
      "Model: \"sequential_15\"\n",
      "_________________________________________________________________\n",
      "Layer (type)                 Output Shape              Param #   \n",
      "=================================================================\n",
      "conv1d_15 (Conv1D)           multiple                  1880      \n",
      "_________________________________________________________________\n",
      "max_pooling1d_15 (MaxPooling multiple                  0         \n",
      "_________________________________________________________________\n",
      "flatten_15 (Flatten)         multiple                  0         \n",
      "_________________________________________________________________\n",
      "dense_15 (Dense)             multiple                  3764      \n",
      "=================================================================\n",
      "Total params: 5,644\n",
      "Trainable params: 5,644\n",
      "Non-trainable params: 0\n",
      "_________________________________________________________________\n",
      "PointredictScresSet0[0] 274.88423220926586\n"
     ]
    },
    {
     "name": "stderr",
     "output_type": "stream",
     "text": [
      "D:\\anaconda\\lib\\site-packages\\optuna\\distributions.py:427: UserWarning:\n",
      "\n",
      "Choices for a categorical distribution should be a tuple of None, bool, int, float and str for persistent storage but contains <class 'tensorflow.python.keras.optimizer_v2.adam.Adam'> which is of type ABCMeta.\n",
      "\n",
      "\u001b[32m[I 2022-11-09 21:40:44,960]\u001b[0m Trial 16 finished with value: 274.14513495400314 and parameters: {'optimizer': <class 'tensorflow.python.keras.optimizer_v2.adam.Adam'>, 'units': 345, 'epochs': 60, 'batch_size': 64, 'learning_rate': 0.0026603125244634685}. Best is trial 11 with value: 272.86264316552155.\u001b[0m\n"
     ]
    },
    {
     "name": "stdout",
     "output_type": "stream",
     "text": [
      "Model: \"sequential_16\"\n",
      "_________________________________________________________________\n",
      "Layer (type)                 Output Shape              Param #   \n",
      "=================================================================\n",
      "conv1d_16 (Conv1D)           multiple                  1380      \n",
      "_________________________________________________________________\n",
      "max_pooling1d_16 (MaxPooling multiple                  0         \n",
      "_________________________________________________________________\n",
      "flatten_16 (Flatten)         multiple                  0         \n",
      "_________________________________________________________________\n",
      "dense_16 (Dense)             multiple                  2764      \n",
      "=================================================================\n",
      "Total params: 4,144\n",
      "Trainable params: 4,144\n",
      "Non-trainable params: 0\n",
      "_________________________________________________________________\n",
      "PointredictScresSet0[0] 274.14513495400314\n"
     ]
    },
    {
     "name": "stderr",
     "output_type": "stream",
     "text": [
      "D:\\anaconda\\lib\\site-packages\\optuna\\distributions.py:427: UserWarning:\n",
      "\n",
      "Choices for a categorical distribution should be a tuple of None, bool, int, float and str for persistent storage but contains <class 'tensorflow.python.keras.optimizer_v2.adam.Adam'> which is of type ABCMeta.\n",
      "\n",
      "\u001b[32m[I 2022-11-09 21:42:16,150]\u001b[0m Trial 17 finished with value: 273.07846589813016 and parameters: {'optimizer': <class 'tensorflow.python.keras.optimizer_v2.adam.Adam'>, 'units': 425, 'epochs': 30, 'batch_size': 32, 'learning_rate': 0.0011442760384180733}. Best is trial 11 with value: 272.86264316552155.\u001b[0m\n"
     ]
    },
    {
     "name": "stdout",
     "output_type": "stream",
     "text": [
      "Model: \"sequential_17\"\n",
      "_________________________________________________________________\n",
      "Layer (type)                 Output Shape              Param #   \n",
      "=================================================================\n",
      "conv1d_17 (Conv1D)           multiple                  1700      \n",
      "_________________________________________________________________\n",
      "max_pooling1d_17 (MaxPooling multiple                  0         \n",
      "_________________________________________________________________\n",
      "flatten_17 (Flatten)         multiple                  0         \n",
      "_________________________________________________________________\n",
      "dense_17 (Dense)             multiple                  3404      \n",
      "=================================================================\n",
      "Total params: 5,104\n",
      "Trainable params: 5,104\n",
      "Non-trainable params: 0\n",
      "_________________________________________________________________\n",
      "PointredictScresSet0[0] 273.07846589813016\n"
     ]
    },
    {
     "name": "stderr",
     "output_type": "stream",
     "text": [
      "D:\\anaconda\\lib\\site-packages\\optuna\\distributions.py:427: UserWarning:\n",
      "\n",
      "Choices for a categorical distribution should be a tuple of None, bool, int, float and str for persistent storage but contains <class 'tensorflow.python.keras.optimizer_v2.adam.Adam'> which is of type ABCMeta.\n",
      "\n",
      "\u001b[32m[I 2022-11-09 21:43:48,796]\u001b[0m Trial 18 finished with value: 279.0484854264638 and parameters: {'optimizer': <class 'tensorflow.python.keras.optimizer_v2.adam.Adam'>, 'units': 420, 'epochs': 10, 'batch_size': 32, 'learning_rate': 0.009737315458352264}. Best is trial 11 with value: 272.86264316552155.\u001b[0m\n"
     ]
    },
    {
     "name": "stdout",
     "output_type": "stream",
     "text": [
      "Model: \"sequential_18\"\n",
      "_________________________________________________________________\n",
      "Layer (type)                 Output Shape              Param #   \n",
      "=================================================================\n",
      "conv1d_18 (Conv1D)           multiple                  1680      \n",
      "_________________________________________________________________\n",
      "max_pooling1d_18 (MaxPooling multiple                  0         \n",
      "_________________________________________________________________\n",
      "flatten_18 (Flatten)         multiple                  0         \n",
      "_________________________________________________________________\n",
      "dense_18 (Dense)             multiple                  3364      \n",
      "=================================================================\n",
      "Total params: 5,044\n",
      "Trainable params: 5,044\n",
      "Non-trainable params: 0\n",
      "_________________________________________________________________\n",
      "PointredictScresSet0[0] 279.0484854264638\n"
     ]
    },
    {
     "name": "stderr",
     "output_type": "stream",
     "text": [
      "D:\\anaconda\\lib\\site-packages\\optuna\\distributions.py:427: UserWarning:\n",
      "\n",
      "Choices for a categorical distribution should be a tuple of None, bool, int, float and str for persistent storage but contains <class 'tensorflow.python.keras.optimizer_v2.adam.Adam'> which is of type ABCMeta.\n",
      "\n",
      "\u001b[32m[I 2022-11-09 21:45:30,804]\u001b[0m Trial 19 finished with value: 335.0663968004154 and parameters: {'optimizer': <class 'tensorflow.python.keras.optimizer_v2.adam.Adam'>, 'units': 320, 'epochs': 30, 'batch_size': 32, 'learning_rate': 0.065763483984822}. Best is trial 11 with value: 272.86264316552155.\u001b[0m\n"
     ]
    },
    {
     "name": "stdout",
     "output_type": "stream",
     "text": [
      "Model: \"sequential_19\"\n",
      "_________________________________________________________________\n",
      "Layer (type)                 Output Shape              Param #   \n",
      "=================================================================\n",
      "conv1d_19 (Conv1D)           multiple                  1280      \n",
      "_________________________________________________________________\n",
      "max_pooling1d_19 (MaxPooling multiple                  0         \n",
      "_________________________________________________________________\n",
      "flatten_19 (Flatten)         multiple                  0         \n",
      "_________________________________________________________________\n",
      "dense_19 (Dense)             multiple                  2564      \n",
      "=================================================================\n",
      "Total params: 3,844\n",
      "Trainable params: 3,844\n",
      "Non-trainable params: 0\n",
      "_________________________________________________________________\n",
      "PointredictScresSet0[0] 335.0663968004154\n"
     ]
    },
    {
     "name": "stderr",
     "output_type": "stream",
     "text": [
      "D:\\anaconda\\lib\\site-packages\\optuna\\distributions.py:427: UserWarning:\n",
      "\n",
      "Choices for a categorical distribution should be a tuple of None, bool, int, float and str for persistent storage but contains <class 'tensorflow.python.keras.optimizer_v2.adam.Adam'> which is of type ABCMeta.\n",
      "\n",
      "\u001b[32m[I 2022-11-09 21:47:27,104]\u001b[0m Trial 20 finished with value: 274.77525026191137 and parameters: {'optimizer': <class 'tensorflow.python.keras.optimizer_v2.adam.Adam'>, 'units': 435, 'epochs': 30, 'batch_size': 8, 'learning_rate': 0.0029113318394963904}. Best is trial 11 with value: 272.86264316552155.\u001b[0m\n"
     ]
    },
    {
     "name": "stdout",
     "output_type": "stream",
     "text": [
      "Model: \"sequential_20\"\n",
      "_________________________________________________________________\n",
      "Layer (type)                 Output Shape              Param #   \n",
      "=================================================================\n",
      "conv1d_20 (Conv1D)           multiple                  1740      \n",
      "_________________________________________________________________\n",
      "max_pooling1d_20 (MaxPooling multiple                  0         \n",
      "_________________________________________________________________\n",
      "flatten_20 (Flatten)         multiple                  0         \n",
      "_________________________________________________________________\n",
      "dense_20 (Dense)             multiple                  3484      \n",
      "=================================================================\n",
      "Total params: 5,224\n",
      "Trainable params: 5,224\n",
      "Non-trainable params: 0\n",
      "_________________________________________________________________\n",
      "PointredictScresSet0[0] 274.77525026191137\n"
     ]
    },
    {
     "name": "stderr",
     "output_type": "stream",
     "text": [
      "D:\\anaconda\\lib\\site-packages\\optuna\\distributions.py:427: UserWarning:\n",
      "\n",
      "Choices for a categorical distribution should be a tuple of None, bool, int, float and str for persistent storage but contains <class 'tensorflow.python.keras.optimizer_v2.adam.Adam'> which is of type ABCMeta.\n",
      "\n",
      "\u001b[32m[I 2022-11-09 21:49:01,801]\u001b[0m Trial 21 finished with value: 274.7985670837045 and parameters: {'optimizer': <class 'tensorflow.python.keras.optimizer_v2.adam.Adam'>, 'units': 455, 'epochs': 50, 'batch_size': 128, 'learning_rate': 0.0012762191244382395}. Best is trial 11 with value: 272.86264316552155.\u001b[0m\n"
     ]
    },
    {
     "name": "stdout",
     "output_type": "stream",
     "text": [
      "Model: \"sequential_21\"\n",
      "_________________________________________________________________\n",
      "Layer (type)                 Output Shape              Param #   \n",
      "=================================================================\n",
      "conv1d_21 (Conv1D)           multiple                  1820      \n",
      "_________________________________________________________________\n",
      "max_pooling1d_21 (MaxPooling multiple                  0         \n",
      "_________________________________________________________________\n",
      "flatten_21 (Flatten)         multiple                  0         \n",
      "_________________________________________________________________\n",
      "dense_21 (Dense)             multiple                  3644      \n",
      "=================================================================\n",
      "Total params: 5,464\n",
      "Trainable params: 5,464\n",
      "Non-trainable params: 0\n",
      "_________________________________________________________________\n",
      "PointredictScresSet0[0] 274.7985670837045\n"
     ]
    },
    {
     "name": "stderr",
     "output_type": "stream",
     "text": [
      "D:\\anaconda\\lib\\site-packages\\optuna\\distributions.py:427: UserWarning:\n",
      "\n",
      "Choices for a categorical distribution should be a tuple of None, bool, int, float and str for persistent storage but contains <class 'tensorflow.python.keras.optimizer_v2.adam.Adam'> which is of type ABCMeta.\n",
      "\n",
      "\u001b[32m[I 2022-11-09 21:50:53,711]\u001b[0m Trial 22 finished with value: 272.9804940902472 and parameters: {'optimizer': <class 'tensorflow.python.keras.optimizer_v2.adam.Adam'>, 'units': 385, 'epochs': 70, 'batch_size': 32, 'learning_rate': 0.0012162780360094796}. Best is trial 11 with value: 272.86264316552155.\u001b[0m\n"
     ]
    },
    {
     "name": "stdout",
     "output_type": "stream",
     "text": [
      "Model: \"sequential_22\"\n",
      "_________________________________________________________________\n",
      "Layer (type)                 Output Shape              Param #   \n",
      "=================================================================\n",
      "conv1d_22 (Conv1D)           multiple                  1540      \n",
      "_________________________________________________________________\n",
      "max_pooling1d_22 (MaxPooling multiple                  0         \n",
      "_________________________________________________________________\n",
      "flatten_22 (Flatten)         multiple                  0         \n",
      "_________________________________________________________________\n",
      "dense_22 (Dense)             multiple                  3084      \n",
      "=================================================================\n",
      "Total params: 4,624\n",
      "Trainable params: 4,624\n",
      "Non-trainable params: 0\n",
      "_________________________________________________________________\n",
      "PointredictScresSet0[0] 272.9804940902472\n"
     ]
    },
    {
     "name": "stderr",
     "output_type": "stream",
     "text": [
      "D:\\anaconda\\lib\\site-packages\\optuna\\distributions.py:427: UserWarning:\n",
      "\n",
      "Choices for a categorical distribution should be a tuple of None, bool, int, float and str for persistent storage but contains <class 'tensorflow.python.keras.optimizer_v2.adam.Adam'> which is of type ABCMeta.\n",
      "\n",
      "\u001b[32m[I 2022-11-09 21:52:49,994]\u001b[0m Trial 23 finished with value: 274.72969104697603 and parameters: {'optimizer': <class 'tensorflow.python.keras.optimizer_v2.adam.Adam'>, 'units': 300, 'epochs': 70, 'batch_size': 32, 'learning_rate': 0.00898762516544224}. Best is trial 11 with value: 272.86264316552155.\u001b[0m\n"
     ]
    },
    {
     "name": "stdout",
     "output_type": "stream",
     "text": [
      "Model: \"sequential_23\"\n",
      "_________________________________________________________________\n",
      "Layer (type)                 Output Shape              Param #   \n",
      "=================================================================\n",
      "conv1d_23 (Conv1D)           multiple                  1200      \n",
      "_________________________________________________________________\n",
      "max_pooling1d_23 (MaxPooling multiple                  0         \n",
      "_________________________________________________________________\n",
      "flatten_23 (Flatten)         multiple                  0         \n",
      "_________________________________________________________________\n",
      "dense_23 (Dense)             multiple                  2404      \n",
      "=================================================================\n",
      "Total params: 3,604\n",
      "Trainable params: 3,604\n",
      "Non-trainable params: 0\n",
      "_________________________________________________________________\n",
      "PointredictScresSet0[0] 274.72969104697603\n"
     ]
    },
    {
     "name": "stderr",
     "output_type": "stream",
     "text": [
      "D:\\anaconda\\lib\\site-packages\\optuna\\distributions.py:427: UserWarning:\n",
      "\n",
      "Choices for a categorical distribution should be a tuple of None, bool, int, float and str for persistent storage but contains <class 'tensorflow.python.keras.optimizer_v2.adam.Adam'> which is of type ABCMeta.\n",
      "\n",
      "\u001b[32m[I 2022-11-09 21:54:40,775]\u001b[0m Trial 24 finished with value: 272.614102651772 and parameters: {'optimizer': <class 'tensorflow.python.keras.optimizer_v2.adam.Adam'>, 'units': 380, 'epochs': 80, 'batch_size': 32, 'learning_rate': 0.0010210819439897575}. Best is trial 24 with value: 272.614102651772.\u001b[0m\n"
     ]
    },
    {
     "name": "stdout",
     "output_type": "stream",
     "text": [
      "Model: \"sequential_24\"\n",
      "_________________________________________________________________\n",
      "Layer (type)                 Output Shape              Param #   \n",
      "=================================================================\n",
      "conv1d_24 (Conv1D)           multiple                  1520      \n",
      "_________________________________________________________________\n",
      "max_pooling1d_24 (MaxPooling multiple                  0         \n",
      "_________________________________________________________________\n",
      "flatten_24 (Flatten)         multiple                  0         \n",
      "_________________________________________________________________\n",
      "dense_24 (Dense)             multiple                  3044      \n",
      "=================================================================\n",
      "Total params: 4,564\n",
      "Trainable params: 4,564\n",
      "Non-trainable params: 0\n",
      "_________________________________________________________________\n",
      "PointredictScresSet0[0] 272.614102651772\n"
     ]
    },
    {
     "name": "stderr",
     "output_type": "stream",
     "text": [
      "D:\\anaconda\\lib\\site-packages\\optuna\\distributions.py:427: UserWarning:\n",
      "\n",
      "Choices for a categorical distribution should be a tuple of None, bool, int, float and str for persistent storage but contains <class 'tensorflow.python.keras.optimizer_v2.adam.Adam'> which is of type ABCMeta.\n",
      "\n",
      "\u001b[32m[I 2022-11-09 21:56:34,186]\u001b[0m Trial 25 finished with value: 273.18857223063117 and parameters: {'optimizer': <class 'tensorflow.python.keras.optimizer_v2.adam.Adam'>, 'units': 385, 'epochs': 80, 'batch_size': 32, 'learning_rate': 0.002065907513199142}. Best is trial 24 with value: 272.614102651772.\u001b[0m\n"
     ]
    },
    {
     "name": "stdout",
     "output_type": "stream",
     "text": [
      "Model: \"sequential_25\"\n",
      "_________________________________________________________________\n",
      "Layer (type)                 Output Shape              Param #   \n",
      "=================================================================\n",
      "conv1d_25 (Conv1D)           multiple                  1540      \n",
      "_________________________________________________________________\n",
      "max_pooling1d_25 (MaxPooling multiple                  0         \n",
      "_________________________________________________________________\n",
      "flatten_25 (Flatten)         multiple                  0         \n",
      "_________________________________________________________________\n",
      "dense_25 (Dense)             multiple                  3084      \n",
      "=================================================================\n",
      "Total params: 4,624\n",
      "Trainable params: 4,624\n",
      "Non-trainable params: 0\n",
      "_________________________________________________________________\n",
      "PointredictScresSet0[0] 273.18857223063117\n"
     ]
    },
    {
     "name": "stderr",
     "output_type": "stream",
     "text": [
      "D:\\anaconda\\lib\\site-packages\\optuna\\distributions.py:427: UserWarning:\n",
      "\n",
      "Choices for a categorical distribution should be a tuple of None, bool, int, float and str for persistent storage but contains <class 'tensorflow.python.keras.optimizer_v2.adam.Adam'> which is of type ABCMeta.\n",
      "\n",
      "\u001b[32m[I 2022-11-09 21:58:36,500]\u001b[0m Trial 26 finished with value: 273.1076222936386 and parameters: {'optimizer': <class 'tensorflow.python.keras.optimizer_v2.adam.Adam'>, 'units': 300, 'epochs': 80, 'batch_size': 32, 'learning_rate': 0.0048256850697767206}. Best is trial 24 with value: 272.614102651772.\u001b[0m\n"
     ]
    },
    {
     "name": "stdout",
     "output_type": "stream",
     "text": [
      "Model: \"sequential_26\"\n",
      "_________________________________________________________________\n",
      "Layer (type)                 Output Shape              Param #   \n",
      "=================================================================\n",
      "conv1d_26 (Conv1D)           multiple                  1200      \n",
      "_________________________________________________________________\n",
      "max_pooling1d_26 (MaxPooling multiple                  0         \n",
      "_________________________________________________________________\n",
      "flatten_26 (Flatten)         multiple                  0         \n",
      "_________________________________________________________________\n",
      "dense_26 (Dense)             multiple                  2404      \n",
      "=================================================================\n",
      "Total params: 3,604\n",
      "Trainable params: 3,604\n",
      "Non-trainable params: 0\n",
      "_________________________________________________________________\n",
      "PointredictScresSet0[0] 273.1076222936386\n"
     ]
    },
    {
     "name": "stderr",
     "output_type": "stream",
     "text": [
      "D:\\anaconda\\lib\\site-packages\\optuna\\distributions.py:427: UserWarning:\n",
      "\n",
      "Choices for a categorical distribution should be a tuple of None, bool, int, float and str for persistent storage but contains <class 'tensorflow.python.keras.optimizer_v2.adam.Adam'> which is of type ABCMeta.\n",
      "\n",
      "\u001b[32m[I 2022-11-09 22:00:44,296]\u001b[0m Trial 27 finished with value: 272.9510871546516 and parameters: {'optimizer': <class 'tensorflow.python.keras.optimizer_v2.adam.Adam'>, 'units': 355, 'epochs': 90, 'batch_size': 32, 'learning_rate': 0.0017932176846723834}. Best is trial 24 with value: 272.614102651772.\u001b[0m\n"
     ]
    },
    {
     "name": "stdout",
     "output_type": "stream",
     "text": [
      "Model: \"sequential_27\"\n",
      "_________________________________________________________________\n",
      "Layer (type)                 Output Shape              Param #   \n",
      "=================================================================\n",
      "conv1d_27 (Conv1D)           multiple                  1420      \n",
      "_________________________________________________________________\n",
      "max_pooling1d_27 (MaxPooling multiple                  0         \n",
      "_________________________________________________________________\n",
      "flatten_27 (Flatten)         multiple                  0         \n",
      "_________________________________________________________________\n",
      "dense_27 (Dense)             multiple                  2844      \n",
      "=================================================================\n",
      "Total params: 4,264\n",
      "Trainable params: 4,264\n",
      "Non-trainable params: 0\n",
      "_________________________________________________________________\n",
      "PointredictScresSet0[0] 272.9510871546516\n"
     ]
    },
    {
     "name": "stderr",
     "output_type": "stream",
     "text": [
      "D:\\anaconda\\lib\\site-packages\\optuna\\distributions.py:427: UserWarning:\n",
      "\n",
      "Choices for a categorical distribution should be a tuple of None, bool, int, float and str for persistent storage but contains <class 'tensorflow.python.keras.optimizer_v2.adam.Adam'> which is of type ABCMeta.\n",
      "\n",
      "\u001b[32m[I 2022-11-09 22:02:33,827]\u001b[0m Trial 28 finished with value: 274.1332028319044 and parameters: {'optimizer': <class 'tensorflow.python.keras.optimizer_v2.adam.Adam'>, 'units': 350, 'epochs': 90, 'batch_size': 64, 'learning_rate': 0.003254158171423447}. Best is trial 24 with value: 272.614102651772.\u001b[0m\n"
     ]
    },
    {
     "name": "stdout",
     "output_type": "stream",
     "text": [
      "Model: \"sequential_28\"\n",
      "_________________________________________________________________\n",
      "Layer (type)                 Output Shape              Param #   \n",
      "=================================================================\n",
      "conv1d_28 (Conv1D)           multiple                  1400      \n",
      "_________________________________________________________________\n",
      "max_pooling1d_28 (MaxPooling multiple                  0         \n",
      "_________________________________________________________________\n",
      "flatten_28 (Flatten)         multiple                  0         \n",
      "_________________________________________________________________\n",
      "dense_28 (Dense)             multiple                  2804      \n",
      "=================================================================\n",
      "Total params: 4,204\n",
      "Trainable params: 4,204\n",
      "Non-trainable params: 0\n",
      "_________________________________________________________________\n",
      "PointredictScresSet0[0] 274.1332028319044\n"
     ]
    },
    {
     "name": "stderr",
     "output_type": "stream",
     "text": [
      "D:\\anaconda\\lib\\site-packages\\optuna\\distributions.py:427: UserWarning:\n",
      "\n",
      "Choices for a categorical distribution should be a tuple of None, bool, int, float and str for persistent storage but contains <class 'tensorflow.python.keras.optimizer_v2.adam.Adam'> which is of type ABCMeta.\n",
      "\n",
      "\u001b[32m[I 2022-11-09 22:04:54,649]\u001b[0m Trial 29 finished with value: 547.0170946793958 and parameters: {'optimizer': <class 'tensorflow.python.keras.optimizer_v2.adam.Adam'>, 'units': 145, 'epochs': 90, 'batch_size': 256, 'learning_rate': 0.7813004919654365}. Best is trial 24 with value: 272.614102651772.\u001b[0m\n"
     ]
    },
    {
     "name": "stdout",
     "output_type": "stream",
     "text": [
      "Model: \"sequential_29\"\n",
      "_________________________________________________________________\n",
      "Layer (type)                 Output Shape              Param #   \n",
      "=================================================================\n",
      "conv1d_29 (Conv1D)           multiple                  580       \n",
      "_________________________________________________________________\n",
      "max_pooling1d_29 (MaxPooling multiple                  0         \n",
      "_________________________________________________________________\n",
      "flatten_29 (Flatten)         multiple                  0         \n",
      "_________________________________________________________________\n",
      "dense_29 (Dense)             multiple                  1164      \n",
      "=================================================================\n",
      "Total params: 1,744\n",
      "Trainable params: 1,744\n",
      "Non-trainable params: 0\n",
      "_________________________________________________________________\n",
      "PointredictScresSet0[0] 547.0170946793958\n"
     ]
    },
    {
     "name": "stderr",
     "output_type": "stream",
     "text": [
      "D:\\anaconda\\lib\\site-packages\\optuna\\distributions.py:427: UserWarning:\n",
      "\n",
      "Choices for a categorical distribution should be a tuple of None, bool, int, float and str for persistent storage but contains <class 'tensorflow.python.keras.optimizer_v2.adam.Adam'> which is of type ABCMeta.\n",
      "\n",
      "\u001b[32m[I 2022-11-09 22:09:43,316]\u001b[0m Trial 30 finished with value: 274.01476778237566 and parameters: {'optimizer': <class 'tensorflow.python.keras.optimizer_v2.adam.Adam'>, 'units': 280, 'epochs': 80, 'batch_size': 8, 'learning_rate': 0.001839277872217401}. Best is trial 24 with value: 272.614102651772.\u001b[0m\n"
     ]
    },
    {
     "name": "stdout",
     "output_type": "stream",
     "text": [
      "Model: \"sequential_30\"\n",
      "_________________________________________________________________\n",
      "Layer (type)                 Output Shape              Param #   \n",
      "=================================================================\n",
      "conv1d_30 (Conv1D)           multiple                  1120      \n",
      "_________________________________________________________________\n",
      "max_pooling1d_30 (MaxPooling multiple                  0         \n",
      "_________________________________________________________________\n",
      "flatten_30 (Flatten)         multiple                  0         \n",
      "_________________________________________________________________\n",
      "dense_30 (Dense)             multiple                  2244      \n",
      "=================================================================\n",
      "Total params: 3,364\n",
      "Trainable params: 3,364\n",
      "Non-trainable params: 0\n",
      "_________________________________________________________________\n",
      "PointredictScresSet0[0] 274.01476778237566\n"
     ]
    },
    {
     "name": "stderr",
     "output_type": "stream",
     "text": [
      "D:\\anaconda\\lib\\site-packages\\optuna\\distributions.py:427: UserWarning:\n",
      "\n",
      "Choices for a categorical distribution should be a tuple of None, bool, int, float and str for persistent storage but contains <class 'tensorflow.python.keras.optimizer_v2.adam.Adam'> which is of type ABCMeta.\n",
      "\n",
      "\u001b[32m[I 2022-11-09 22:12:53,615]\u001b[0m Trial 31 finished with value: 272.936020636646 and parameters: {'optimizer': <class 'tensorflow.python.keras.optimizer_v2.adam.Adam'>, 'units': 390, 'epochs': 70, 'batch_size': 32, 'learning_rate': 0.001484119831865255}. Best is trial 24 with value: 272.614102651772.\u001b[0m\n"
     ]
    },
    {
     "name": "stdout",
     "output_type": "stream",
     "text": [
      "Model: \"sequential_31\"\n",
      "_________________________________________________________________\n",
      "Layer (type)                 Output Shape              Param #   \n",
      "=================================================================\n",
      "conv1d_31 (Conv1D)           multiple                  1560      \n",
      "_________________________________________________________________\n",
      "max_pooling1d_31 (MaxPooling multiple                  0         \n",
      "_________________________________________________________________\n",
      "flatten_31 (Flatten)         multiple                  0         \n",
      "_________________________________________________________________\n",
      "dense_31 (Dense)             multiple                  3124      \n",
      "=================================================================\n",
      "Total params: 4,684\n",
      "Trainable params: 4,684\n",
      "Non-trainable params: 0\n",
      "_________________________________________________________________\n",
      "PointredictScresSet0[0] 272.936020636646\n"
     ]
    },
    {
     "name": "stderr",
     "output_type": "stream",
     "text": [
      "D:\\anaconda\\lib\\site-packages\\optuna\\distributions.py:427: UserWarning:\n",
      "\n",
      "Choices for a categorical distribution should be a tuple of None, bool, int, float and str for persistent storage but contains <class 'tensorflow.python.keras.optimizer_v2.adam.Adam'> which is of type ABCMeta.\n",
      "\n",
      "\u001b[32m[I 2022-11-09 22:14:56,877]\u001b[0m Trial 32 finished with value: 272.9506486007963 and parameters: {'optimizer': <class 'tensorflow.python.keras.optimizer_v2.adam.Adam'>, 'units': 455, 'epochs': 60, 'batch_size': 32, 'learning_rate': 0.0017374191080268661}. Best is trial 24 with value: 272.614102651772.\u001b[0m\n"
     ]
    },
    {
     "name": "stdout",
     "output_type": "stream",
     "text": [
      "Model: \"sequential_32\"\n",
      "_________________________________________________________________\n",
      "Layer (type)                 Output Shape              Param #   \n",
      "=================================================================\n",
      "conv1d_32 (Conv1D)           multiple                  1820      \n",
      "_________________________________________________________________\n",
      "max_pooling1d_32 (MaxPooling multiple                  0         \n",
      "_________________________________________________________________\n",
      "flatten_32 (Flatten)         multiple                  0         \n",
      "_________________________________________________________________\n",
      "dense_32 (Dense)             multiple                  3644      \n",
      "=================================================================\n",
      "Total params: 5,464\n",
      "Trainable params: 5,464\n",
      "Non-trainable params: 0\n",
      "_________________________________________________________________\n",
      "PointredictScresSet0[0] 272.9506486007963\n"
     ]
    },
    {
     "name": "stderr",
     "output_type": "stream",
     "text": [
      "D:\\anaconda\\lib\\site-packages\\optuna\\distributions.py:427: UserWarning:\n",
      "\n",
      "Choices for a categorical distribution should be a tuple of None, bool, int, float and str for persistent storage but contains <class 'tensorflow.python.keras.optimizer_v2.adam.Adam'> which is of type ABCMeta.\n",
      "\n",
      "\u001b[32m[I 2022-11-09 22:16:54,322]\u001b[0m Trial 33 finished with value: 274.2376163214249 and parameters: {'optimizer': <class 'tensorflow.python.keras.optimizer_v2.adam.Adam'>, 'units': 460, 'epochs': 60, 'batch_size': 32, 'learning_rate': 0.006595667879371}. Best is trial 24 with value: 272.614102651772.\u001b[0m\n"
     ]
    },
    {
     "name": "stdout",
     "output_type": "stream",
     "text": [
      "Model: \"sequential_33\"\n",
      "_________________________________________________________________\n",
      "Layer (type)                 Output Shape              Param #   \n",
      "=================================================================\n",
      "conv1d_33 (Conv1D)           multiple                  1840      \n",
      "_________________________________________________________________\n",
      "max_pooling1d_33 (MaxPooling multiple                  0         \n",
      "_________________________________________________________________\n",
      "flatten_33 (Flatten)         multiple                  0         \n",
      "_________________________________________________________________\n",
      "dense_33 (Dense)             multiple                  3684      \n",
      "=================================================================\n",
      "Total params: 5,524\n",
      "Trainable params: 5,524\n",
      "Non-trainable params: 0\n",
      "_________________________________________________________________\n",
      "PointredictScresSet0[0] 274.2376163214249\n"
     ]
    },
    {
     "name": "stderr",
     "output_type": "stream",
     "text": [
      "D:\\anaconda\\lib\\site-packages\\optuna\\distributions.py:427: UserWarning:\n",
      "\n",
      "Choices for a categorical distribution should be a tuple of None, bool, int, float and str for persistent storage but contains <class 'tensorflow.python.keras.optimizer_v2.adam.Adam'> which is of type ABCMeta.\n",
      "\n",
      "\u001b[32m[I 2022-11-09 22:18:53,230]\u001b[0m Trial 34 finished with value: 281.3047962802624 and parameters: {'optimizer': <class 'tensorflow.python.keras.optimizer_v2.adam.Adam'>, 'units': 450, 'epochs': 70, 'batch_size': 32, 'learning_rate': 0.020018916760679115}. Best is trial 24 with value: 272.614102651772.\u001b[0m\n"
     ]
    },
    {
     "name": "stdout",
     "output_type": "stream",
     "text": [
      "Model: \"sequential_34\"\n",
      "_________________________________________________________________\n",
      "Layer (type)                 Output Shape              Param #   \n",
      "=================================================================\n",
      "conv1d_34 (Conv1D)           multiple                  1800      \n",
      "_________________________________________________________________\n",
      "max_pooling1d_34 (MaxPooling multiple                  0         \n",
      "_________________________________________________________________\n",
      "flatten_34 (Flatten)         multiple                  0         \n",
      "_________________________________________________________________\n",
      "dense_34 (Dense)             multiple                  3604      \n",
      "=================================================================\n",
      "Total params: 5,404\n",
      "Trainable params: 5,404\n",
      "Non-trainable params: 0\n",
      "_________________________________________________________________\n",
      "PointredictScresSet0[0] 281.3047962802624\n"
     ]
    },
    {
     "name": "stderr",
     "output_type": "stream",
     "text": [
      "D:\\anaconda\\lib\\site-packages\\optuna\\distributions.py:427: UserWarning:\n",
      "\n",
      "Choices for a categorical distribution should be a tuple of None, bool, int, float and str for persistent storage but contains <class 'tensorflow.python.keras.optimizer_v2.adam.Adam'> which is of type ABCMeta.\n",
      "\n",
      "\u001b[32m[I 2022-11-09 22:20:30,566]\u001b[0m Trial 35 finished with value: 274.99527711093174 and parameters: {'optimizer': <class 'tensorflow.python.keras.optimizer_v2.adam.Adam'>, 'units': 405, 'epochs': 60, 'batch_size': 512, 'learning_rate': 0.00337110903902963}. Best is trial 24 with value: 272.614102651772.\u001b[0m\n"
     ]
    },
    {
     "name": "stdout",
     "output_type": "stream",
     "text": [
      "Model: \"sequential_35\"\n",
      "_________________________________________________________________\n",
      "Layer (type)                 Output Shape              Param #   \n",
      "=================================================================\n",
      "conv1d_35 (Conv1D)           multiple                  1620      \n",
      "_________________________________________________________________\n",
      "max_pooling1d_35 (MaxPooling multiple                  0         \n",
      "_________________________________________________________________\n",
      "flatten_35 (Flatten)         multiple                  0         \n",
      "_________________________________________________________________\n",
      "dense_35 (Dense)             multiple                  3244      \n",
      "=================================================================\n",
      "Total params: 4,864\n",
      "Trainable params: 4,864\n",
      "Non-trainable params: 0\n",
      "_________________________________________________________________\n",
      "PointredictScresSet0[0] 274.99527711093174\n"
     ]
    },
    {
     "name": "stderr",
     "output_type": "stream",
     "text": [
      "D:\\anaconda\\lib\\site-packages\\optuna\\distributions.py:427: UserWarning:\n",
      "\n",
      "Choices for a categorical distribution should be a tuple of None, bool, int, float and str for persistent storage but contains <class 'tensorflow.python.keras.optimizer_v2.adam.Adam'> which is of type ABCMeta.\n",
      "\n",
      "\u001b[32m[I 2022-11-09 22:22:12,906]\u001b[0m Trial 36 finished with value: 274.0877800164443 and parameters: {'optimizer': <class 'tensorflow.python.keras.optimizer_v2.adam.Adam'>, 'units': 465, 'epochs': 70, 'batch_size': 128, 'learning_rate': 0.0010028545784506405}. Best is trial 24 with value: 272.614102651772.\u001b[0m\n"
     ]
    },
    {
     "name": "stdout",
     "output_type": "stream",
     "text": [
      "Model: \"sequential_36\"\n",
      "_________________________________________________________________\n",
      "Layer (type)                 Output Shape              Param #   \n",
      "=================================================================\n",
      "conv1d_36 (Conv1D)           multiple                  1860      \n",
      "_________________________________________________________________\n",
      "max_pooling1d_36 (MaxPooling multiple                  0         \n",
      "_________________________________________________________________\n",
      "flatten_36 (Flatten)         multiple                  0         \n",
      "_________________________________________________________________\n",
      "dense_36 (Dense)             multiple                  3724      \n",
      "=================================================================\n",
      "Total params: 5,584\n",
      "Trainable params: 5,584\n",
      "Non-trainable params: 0\n",
      "_________________________________________________________________\n",
      "PointredictScresSet0[0] 274.0877800164443\n"
     ]
    },
    {
     "name": "stderr",
     "output_type": "stream",
     "text": [
      "D:\\anaconda\\lib\\site-packages\\optuna\\distributions.py:427: UserWarning:\n",
      "\n",
      "Choices for a categorical distribution should be a tuple of None, bool, int, float and str for persistent storage but contains <class 'tensorflow.python.keras.optimizer_v2.adam.Adam'> which is of type ABCMeta.\n",
      "\n",
      "\u001b[32m[I 2022-11-09 22:24:00,954]\u001b[0m Trial 37 finished with value: 273.0714194394908 and parameters: {'optimizer': <class 'tensorflow.python.keras.optimizer_v2.adam.Adam'>, 'units': 375, 'epochs': 60, 'batch_size': 32, 'learning_rate': 0.0016542466225584209}. Best is trial 24 with value: 272.614102651772.\u001b[0m\n"
     ]
    },
    {
     "name": "stdout",
     "output_type": "stream",
     "text": [
      "Model: \"sequential_37\"\n",
      "_________________________________________________________________\n",
      "Layer (type)                 Output Shape              Param #   \n",
      "=================================================================\n",
      "conv1d_37 (Conv1D)           multiple                  1500      \n",
      "_________________________________________________________________\n",
      "max_pooling1d_37 (MaxPooling multiple                  0         \n",
      "_________________________________________________________________\n",
      "flatten_37 (Flatten)         multiple                  0         \n",
      "_________________________________________________________________\n",
      "dense_37 (Dense)             multiple                  3004      \n",
      "=================================================================\n",
      "Total params: 4,504\n",
      "Trainable params: 4,504\n",
      "Non-trainable params: 0\n",
      "_________________________________________________________________\n",
      "PointredictScresSet0[0] 273.0714194394908\n"
     ]
    },
    {
     "name": "stderr",
     "output_type": "stream",
     "text": [
      "D:\\anaconda\\lib\\site-packages\\optuna\\distributions.py:427: UserWarning:\n",
      "\n",
      "Choices for a categorical distribution should be a tuple of None, bool, int, float and str for persistent storage but contains <class 'tensorflow.python.keras.optimizer_v2.adam.Adam'> which is of type ABCMeta.\n",
      "\n",
      "\u001b[32m[I 2022-11-09 22:25:40,548]\u001b[0m Trial 38 finished with value: 540.3042128284417 and parameters: {'optimizer': <class 'tensorflow.python.keras.optimizer_v2.adam.Adam'>, 'units': 90, 'epochs': 70, 'batch_size': 256, 'learning_rate': 0.10677726809891952}. Best is trial 24 with value: 272.614102651772.\u001b[0m\n"
     ]
    },
    {
     "name": "stdout",
     "output_type": "stream",
     "text": [
      "Model: \"sequential_38\"\n",
      "_________________________________________________________________\n",
      "Layer (type)                 Output Shape              Param #   \n",
      "=================================================================\n",
      "conv1d_38 (Conv1D)           multiple                  360       \n",
      "_________________________________________________________________\n",
      "max_pooling1d_38 (MaxPooling multiple                  0         \n",
      "_________________________________________________________________\n",
      "flatten_38 (Flatten)         multiple                  0         \n",
      "_________________________________________________________________\n",
      "dense_38 (Dense)             multiple                  724       \n",
      "=================================================================\n",
      "Total params: 1,084\n",
      "Trainable params: 1,084\n",
      "Non-trainable params: 0\n",
      "_________________________________________________________________\n",
      "PointredictScresSet0[0] 540.3042128284417\n"
     ]
    },
    {
     "name": "stderr",
     "output_type": "stream",
     "text": [
      "D:\\anaconda\\lib\\site-packages\\optuna\\distributions.py:427: UserWarning:\n",
      "\n",
      "Choices for a categorical distribution should be a tuple of None, bool, int, float and str for persistent storage but contains <class 'tensorflow.python.keras.optimizer_v2.adam.Adam'> which is of type ABCMeta.\n",
      "\n",
      "\u001b[32m[I 2022-11-09 22:27:22,255]\u001b[0m Trial 39 finished with value: 274.7835423443088 and parameters: {'optimizer': <class 'tensorflow.python.keras.optimizer_v2.adam.Adam'>, 'units': 500, 'epochs': 80, 'batch_size': 512, 'learning_rate': 0.01565683028938911}. Best is trial 24 with value: 272.614102651772.\u001b[0m\n"
     ]
    },
    {
     "name": "stdout",
     "output_type": "stream",
     "text": [
      "Model: \"sequential_39\"\n",
      "_________________________________________________________________\n",
      "Layer (type)                 Output Shape              Param #   \n",
      "=================================================================\n",
      "conv1d_39 (Conv1D)           multiple                  2000      \n",
      "_________________________________________________________________\n",
      "max_pooling1d_39 (MaxPooling multiple                  0         \n",
      "_________________________________________________________________\n",
      "flatten_39 (Flatten)         multiple                  0         \n",
      "_________________________________________________________________\n",
      "dense_39 (Dense)             multiple                  4004      \n",
      "=================================================================\n",
      "Total params: 6,004\n",
      "Trainable params: 6,004\n",
      "Non-trainable params: 0\n",
      "_________________________________________________________________\n",
      "PointredictScresSet0[0] 274.7835423443088\n"
     ]
    },
    {
     "name": "stderr",
     "output_type": "stream",
     "text": [
      "D:\\anaconda\\lib\\site-packages\\optuna\\distributions.py:427: UserWarning:\n",
      "\n",
      "Choices for a categorical distribution should be a tuple of None, bool, int, float and str for persistent storage but contains <class 'tensorflow.python.keras.optimizer_v2.adam.Adam'> which is of type ABCMeta.\n",
      "\n",
      "\u001b[32m[I 2022-11-09 22:29:46,068]\u001b[0m Trial 40 finished with value: 274.36225094758663 and parameters: {'optimizer': <class 'tensorflow.python.keras.optimizer_v2.adam.Adam'>, 'units': 195, 'epochs': 50, 'batch_size': 8, 'learning_rate': 0.0025216114326294683}. Best is trial 24 with value: 272.614102651772.\u001b[0m\n"
     ]
    },
    {
     "name": "stdout",
     "output_type": "stream",
     "text": [
      "Model: \"sequential_40\"\n",
      "_________________________________________________________________\n",
      "Layer (type)                 Output Shape              Param #   \n",
      "=================================================================\n",
      "conv1d_40 (Conv1D)           multiple                  780       \n",
      "_________________________________________________________________\n",
      "max_pooling1d_40 (MaxPooling multiple                  0         \n",
      "_________________________________________________________________\n",
      "flatten_40 (Flatten)         multiple                  0         \n",
      "_________________________________________________________________\n",
      "dense_40 (Dense)             multiple                  1564      \n",
      "=================================================================\n",
      "Total params: 2,344\n",
      "Trainable params: 2,344\n",
      "Non-trainable params: 0\n",
      "_________________________________________________________________\n",
      "PointredictScresSet0[0] 274.36225094758663\n"
     ]
    },
    {
     "name": "stderr",
     "output_type": "stream",
     "text": [
      "D:\\anaconda\\lib\\site-packages\\optuna\\distributions.py:427: UserWarning:\n",
      "\n",
      "Choices for a categorical distribution should be a tuple of None, bool, int, float and str for persistent storage but contains <class 'tensorflow.python.keras.optimizer_v2.adam.Adam'> which is of type ABCMeta.\n",
      "\n",
      "\u001b[32m[I 2022-11-09 22:31:44,697]\u001b[0m Trial 41 finished with value: 272.8673107299465 and parameters: {'optimizer': <class 'tensorflow.python.keras.optimizer_v2.adam.Adam'>, 'units': 335, 'epochs': 90, 'batch_size': 32, 'learning_rate': 0.0015983586471311091}. Best is trial 24 with value: 272.614102651772.\u001b[0m\n"
     ]
    },
    {
     "name": "stdout",
     "output_type": "stream",
     "text": [
      "Model: \"sequential_41\"\n",
      "_________________________________________________________________\n",
      "Layer (type)                 Output Shape              Param #   \n",
      "=================================================================\n",
      "conv1d_41 (Conv1D)           multiple                  1340      \n",
      "_________________________________________________________________\n",
      "max_pooling1d_41 (MaxPooling multiple                  0         \n",
      "_________________________________________________________________\n",
      "flatten_41 (Flatten)         multiple                  0         \n",
      "_________________________________________________________________\n",
      "dense_41 (Dense)             multiple                  2684      \n",
      "=================================================================\n",
      "Total params: 4,024\n",
      "Trainable params: 4,024\n",
      "Non-trainable params: 0\n",
      "_________________________________________________________________\n",
      "PointredictScresSet0[0] 272.8673107299465\n"
     ]
    },
    {
     "name": "stderr",
     "output_type": "stream",
     "text": [
      "D:\\anaconda\\lib\\site-packages\\optuna\\distributions.py:427: UserWarning:\n",
      "\n",
      "Choices for a categorical distribution should be a tuple of None, bool, int, float and str for persistent storage but contains <class 'tensorflow.python.keras.optimizer_v2.adam.Adam'> which is of type ABCMeta.\n",
      "\n",
      "\u001b[32m[I 2022-11-09 22:33:53,141]\u001b[0m Trial 42 finished with value: 273.0752193539287 and parameters: {'optimizer': <class 'tensorflow.python.keras.optimizer_v2.adam.Adam'>, 'units': 330, 'epochs': 100, 'batch_size': 32, 'learning_rate': 0.0015008811613188406}. Best is trial 24 with value: 272.614102651772.\u001b[0m\n"
     ]
    },
    {
     "name": "stdout",
     "output_type": "stream",
     "text": [
      "Model: \"sequential_42\"\n",
      "_________________________________________________________________\n",
      "Layer (type)                 Output Shape              Param #   \n",
      "=================================================================\n",
      "conv1d_42 (Conv1D)           multiple                  1320      \n",
      "_________________________________________________________________\n",
      "max_pooling1d_42 (MaxPooling multiple                  0         \n",
      "_________________________________________________________________\n",
      "flatten_42 (Flatten)         multiple                  0         \n",
      "_________________________________________________________________\n",
      "dense_42 (Dense)             multiple                  2644      \n",
      "=================================================================\n",
      "Total params: 3,964\n",
      "Trainable params: 3,964\n",
      "Non-trainable params: 0\n",
      "_________________________________________________________________\n",
      "PointredictScresSet0[0] 273.0752193539287\n"
     ]
    },
    {
     "name": "stderr",
     "output_type": "stream",
     "text": [
      "D:\\anaconda\\lib\\site-packages\\optuna\\distributions.py:427: UserWarning:\n",
      "\n",
      "Choices for a categorical distribution should be a tuple of None, bool, int, float and str for persistent storage but contains <class 'tensorflow.python.keras.optimizer_v2.adam.Adam'> which is of type ABCMeta.\n",
      "\n",
      "\u001b[32m[I 2022-11-09 22:35:56,773]\u001b[0m Trial 43 finished with value: 273.17030426836965 and parameters: {'optimizer': <class 'tensorflow.python.keras.optimizer_v2.adam.Adam'>, 'units': 400, 'epochs': 90, 'batch_size': 32, 'learning_rate': 0.002218580715932533}. Best is trial 24 with value: 272.614102651772.\u001b[0m\n"
     ]
    },
    {
     "name": "stdout",
     "output_type": "stream",
     "text": [
      "Model: \"sequential_43\"\n",
      "_________________________________________________________________\n",
      "Layer (type)                 Output Shape              Param #   \n",
      "=================================================================\n",
      "conv1d_43 (Conv1D)           multiple                  1600      \n",
      "_________________________________________________________________\n",
      "max_pooling1d_43 (MaxPooling multiple                  0         \n",
      "_________________________________________________________________\n",
      "flatten_43 (Flatten)         multiple                  0         \n",
      "_________________________________________________________________\n",
      "dense_43 (Dense)             multiple                  3204      \n",
      "=================================================================\n",
      "Total params: 4,804\n",
      "Trainable params: 4,804\n",
      "Non-trainable params: 0\n",
      "_________________________________________________________________\n",
      "PointredictScresSet0[0] 273.17030426836965\n"
     ]
    },
    {
     "name": "stderr",
     "output_type": "stream",
     "text": [
      "D:\\anaconda\\lib\\site-packages\\optuna\\distributions.py:427: UserWarning:\n",
      "\n",
      "Choices for a categorical distribution should be a tuple of None, bool, int, float and str for persistent storage but contains <class 'tensorflow.python.keras.optimizer_v2.adam.Adam'> which is of type ABCMeta.\n",
      "\n",
      "\u001b[32m[I 2022-11-09 22:38:19,654]\u001b[0m Trial 44 finished with value: 276.34909881259335 and parameters: {'optimizer': <class 'tensorflow.python.keras.optimizer_v2.adam.Adam'>, 'units': 430, 'epochs': 80, 'batch_size': 16, 'learning_rate': 0.006633107248428397}. Best is trial 24 with value: 272.614102651772.\u001b[0m\n"
     ]
    },
    {
     "name": "stdout",
     "output_type": "stream",
     "text": [
      "Model: \"sequential_44\"\n",
      "_________________________________________________________________\n",
      "Layer (type)                 Output Shape              Param #   \n",
      "=================================================================\n",
      "conv1d_44 (Conv1D)           multiple                  1720      \n",
      "_________________________________________________________________\n",
      "max_pooling1d_44 (MaxPooling multiple                  0         \n",
      "_________________________________________________________________\n",
      "flatten_44 (Flatten)         multiple                  0         \n",
      "_________________________________________________________________\n",
      "dense_44 (Dense)             multiple                  3444      \n",
      "=================================================================\n",
      "Total params: 5,164\n",
      "Trainable params: 5,164\n",
      "Non-trainable params: 0\n",
      "_________________________________________________________________\n",
      "PointredictScresSet0[0] 276.34909881259335\n"
     ]
    },
    {
     "name": "stderr",
     "output_type": "stream",
     "text": [
      "D:\\anaconda\\lib\\site-packages\\optuna\\distributions.py:427: UserWarning:\n",
      "\n",
      "Choices for a categorical distribution should be a tuple of None, bool, int, float and str for persistent storage but contains <class 'tensorflow.python.keras.optimizer_v2.adam.Adam'> which is of type ABCMeta.\n",
      "\n",
      "\u001b[32m[I 2022-11-09 22:40:16,937]\u001b[0m Trial 45 finished with value: 282.4291142189665 and parameters: {'optimizer': <class 'tensorflow.python.keras.optimizer_v2.adam.Adam'>, 'units': 5, 'epochs': 100, 'batch_size': 32, 'learning_rate': 0.0016407750744035208}. Best is trial 24 with value: 272.614102651772.\u001b[0m\n"
     ]
    },
    {
     "name": "stdout",
     "output_type": "stream",
     "text": [
      "Model: \"sequential_45\"\n",
      "_________________________________________________________________\n",
      "Layer (type)                 Output Shape              Param #   \n",
      "=================================================================\n",
      "conv1d_45 (Conv1D)           multiple                  20        \n",
      "_________________________________________________________________\n",
      "max_pooling1d_45 (MaxPooling multiple                  0         \n",
      "_________________________________________________________________\n",
      "flatten_45 (Flatten)         multiple                  0         \n",
      "_________________________________________________________________\n",
      "dense_45 (Dense)             multiple                  44        \n",
      "=================================================================\n",
      "Total params: 64\n",
      "Trainable params: 64\n",
      "Non-trainable params: 0\n",
      "_________________________________________________________________\n",
      "PointredictScresSet0[0] 282.4291142189665\n"
     ]
    },
    {
     "name": "stderr",
     "output_type": "stream",
     "text": [
      "D:\\anaconda\\lib\\site-packages\\optuna\\distributions.py:427: UserWarning:\n",
      "\n",
      "Choices for a categorical distribution should be a tuple of None, bool, int, float and str for persistent storage but contains <class 'tensorflow.python.keras.optimizer_v2.adam.Adam'> which is of type ABCMeta.\n",
      "\n",
      "\u001b[32m[I 2022-11-09 22:42:34,489]\u001b[0m Trial 46 finished with value: 274.2732020487047 and parameters: {'optimizer': <class 'tensorflow.python.keras.optimizer_v2.adam.Adam'>, 'units': 475, 'epochs': 70, 'batch_size': 16, 'learning_rate': 0.004418418562505766}. Best is trial 24 with value: 272.614102651772.\u001b[0m\n"
     ]
    },
    {
     "name": "stdout",
     "output_type": "stream",
     "text": [
      "Model: \"sequential_46\"\n",
      "_________________________________________________________________\n",
      "Layer (type)                 Output Shape              Param #   \n",
      "=================================================================\n",
      "conv1d_46 (Conv1D)           multiple                  1900      \n",
      "_________________________________________________________________\n",
      "max_pooling1d_46 (MaxPooling multiple                  0         \n",
      "_________________________________________________________________\n",
      "flatten_46 (Flatten)         multiple                  0         \n",
      "_________________________________________________________________\n",
      "dense_46 (Dense)             multiple                  3804      \n",
      "=================================================================\n",
      "Total params: 5,704\n",
      "Trainable params: 5,704\n",
      "Non-trainable params: 0\n",
      "_________________________________________________________________\n",
      "PointredictScresSet0[0] 274.2732020487047\n"
     ]
    },
    {
     "name": "stderr",
     "output_type": "stream",
     "text": [
      "D:\\anaconda\\lib\\site-packages\\optuna\\distributions.py:427: UserWarning:\n",
      "\n",
      "Choices for a categorical distribution should be a tuple of None, bool, int, float and str for persistent storage but contains <class 'tensorflow.python.keras.optimizer_v2.adam.Adam'> which is of type ABCMeta.\n",
      "\n",
      "\u001b[32m[I 2022-11-09 22:44:29,970]\u001b[0m Trial 47 finished with value: 272.8869550083414 and parameters: {'optimizer': <class 'tensorflow.python.keras.optimizer_v2.adam.Adam'>, 'units': 370, 'epochs': 60, 'batch_size': 32, 'learning_rate': 0.0024674333780690407}. Best is trial 24 with value: 272.614102651772.\u001b[0m\n"
     ]
    },
    {
     "name": "stdout",
     "output_type": "stream",
     "text": [
      "Model: \"sequential_47\"\n",
      "_________________________________________________________________\n",
      "Layer (type)                 Output Shape              Param #   \n",
      "=================================================================\n",
      "conv1d_47 (Conv1D)           multiple                  1480      \n",
      "_________________________________________________________________\n",
      "max_pooling1d_47 (MaxPooling multiple                  0         \n",
      "_________________________________________________________________\n",
      "flatten_47 (Flatten)         multiple                  0         \n",
      "_________________________________________________________________\n",
      "dense_47 (Dense)             multiple                  2964      \n",
      "=================================================================\n",
      "Total params: 4,444\n",
      "Trainable params: 4,444\n",
      "Non-trainable params: 0\n",
      "_________________________________________________________________\n",
      "PointredictScresSet0[0] 272.8869550083414\n"
     ]
    },
    {
     "name": "stderr",
     "output_type": "stream",
     "text": [
      "D:\\anaconda\\lib\\site-packages\\optuna\\distributions.py:427: UserWarning:\n",
      "\n",
      "Choices for a categorical distribution should be a tuple of None, bool, int, float and str for persistent storage but contains <class 'tensorflow.python.keras.optimizer_v2.adam.Adam'> which is of type ABCMeta.\n",
      "\n",
      "\u001b[32m[I 2022-11-09 22:46:08,305]\u001b[0m Trial 48 finished with value: 274.8662753530611 and parameters: {'optimizer': <class 'tensorflow.python.keras.optimizer_v2.adam.Adam'>, 'units': 260, 'epochs': 80, 'batch_size': 128, 'learning_rate': 0.0010168816206392035}. Best is trial 24 with value: 272.614102651772.\u001b[0m\n"
     ]
    },
    {
     "name": "stdout",
     "output_type": "stream",
     "text": [
      "Model: \"sequential_48\"\n",
      "_________________________________________________________________\n",
      "Layer (type)                 Output Shape              Param #   \n",
      "=================================================================\n",
      "conv1d_48 (Conv1D)           multiple                  1040      \n",
      "_________________________________________________________________\n",
      "max_pooling1d_48 (MaxPooling multiple                  0         \n",
      "_________________________________________________________________\n",
      "flatten_48 (Flatten)         multiple                  0         \n",
      "_________________________________________________________________\n",
      "dense_48 (Dense)             multiple                  2084      \n",
      "=================================================================\n",
      "Total params: 3,124\n",
      "Trainable params: 3,124\n",
      "Non-trainable params: 0\n",
      "_________________________________________________________________\n",
      "PointredictScresSet0[0] 274.8662753530611\n"
     ]
    },
    {
     "name": "stderr",
     "output_type": "stream",
     "text": [
      "D:\\anaconda\\lib\\site-packages\\optuna\\distributions.py:427: UserWarning:\n",
      "\n",
      "Choices for a categorical distribution should be a tuple of None, bool, int, float and str for persistent storage but contains <class 'tensorflow.python.keras.optimizer_v2.adam.Adam'> which is of type ABCMeta.\n",
      "\n",
      "\u001b[32m[I 2022-11-09 22:47:52,676]\u001b[0m Trial 49 finished with value: 273.5407298227011 and parameters: {'optimizer': <class 'tensorflow.python.keras.optimizer_v2.adam.Adam'>, 'units': 225, 'epochs': 50, 'batch_size': 64, 'learning_rate': 0.002339988192192805}. Best is trial 24 with value: 272.614102651772.\u001b[0m\n"
     ]
    },
    {
     "name": "stdout",
     "output_type": "stream",
     "text": [
      "Model: \"sequential_49\"\n",
      "_________________________________________________________________\n",
      "Layer (type)                 Output Shape              Param #   \n",
      "=================================================================\n",
      "conv1d_49 (Conv1D)           multiple                  900       \n",
      "_________________________________________________________________\n",
      "max_pooling1d_49 (MaxPooling multiple                  0         \n",
      "_________________________________________________________________\n",
      "flatten_49 (Flatten)         multiple                  0         \n",
      "_________________________________________________________________\n",
      "dense_49 (Dense)             multiple                  1804      \n",
      "=================================================================\n",
      "Total params: 2,704\n",
      "Trainable params: 2,704\n",
      "Non-trainable params: 0\n",
      "_________________________________________________________________\n",
      "PointredictScresSet0[0] 273.5407298227011\n"
     ]
    },
    {
     "name": "stderr",
     "output_type": "stream",
     "text": [
      "D:\\anaconda\\lib\\site-packages\\optuna\\distributions.py:427: UserWarning:\n",
      "\n",
      "Choices for a categorical distribution should be a tuple of None, bool, int, float and str for persistent storage but contains <class 'tensorflow.python.keras.optimizer_v2.adam.Adam'> which is of type ABCMeta.\n",
      "\n",
      "\u001b[32m[I 2022-11-09 22:49:37,339]\u001b[0m Trial 50 finished with value: 274.5593790943512 and parameters: {'optimizer': <class 'tensorflow.python.keras.optimizer_v2.adam.Adam'>, 'units': 370, 'epochs': 90, 'batch_size': 256, 'learning_rate': 0.003430714540032836}. Best is trial 24 with value: 272.614102651772.\u001b[0m\n"
     ]
    },
    {
     "name": "stdout",
     "output_type": "stream",
     "text": [
      "Model: \"sequential_50\"\n",
      "_________________________________________________________________\n",
      "Layer (type)                 Output Shape              Param #   \n",
      "=================================================================\n",
      "conv1d_50 (Conv1D)           multiple                  1480      \n",
      "_________________________________________________________________\n",
      "max_pooling1d_50 (MaxPooling multiple                  0         \n",
      "_________________________________________________________________\n",
      "flatten_50 (Flatten)         multiple                  0         \n",
      "_________________________________________________________________\n",
      "dense_50 (Dense)             multiple                  2964      \n",
      "=================================================================\n",
      "Total params: 4,444\n",
      "Trainable params: 4,444\n",
      "Non-trainable params: 0\n",
      "_________________________________________________________________\n",
      "PointredictScresSet0[0] 274.5593790943512\n"
     ]
    },
    {
     "name": "stderr",
     "output_type": "stream",
     "text": [
      "D:\\anaconda\\lib\\site-packages\\optuna\\distributions.py:427: UserWarning:\n",
      "\n",
      "Choices for a categorical distribution should be a tuple of None, bool, int, float and str for persistent storage but contains <class 'tensorflow.python.keras.optimizer_v2.adam.Adam'> which is of type ABCMeta.\n",
      "\n",
      "\u001b[32m[I 2022-11-09 22:51:29,296]\u001b[0m Trial 51 finished with value: 272.7763064253738 and parameters: {'optimizer': <class 'tensorflow.python.keras.optimizer_v2.adam.Adam'>, 'units': 440, 'epochs': 60, 'batch_size': 32, 'learning_rate': 0.0014548800494723145}. Best is trial 24 with value: 272.614102651772.\u001b[0m\n"
     ]
    },
    {
     "name": "stdout",
     "output_type": "stream",
     "text": [
      "Model: \"sequential_51\"\n",
      "_________________________________________________________________\n",
      "Layer (type)                 Output Shape              Param #   \n",
      "=================================================================\n",
      "conv1d_51 (Conv1D)           multiple                  1760      \n",
      "_________________________________________________________________\n",
      "max_pooling1d_51 (MaxPooling multiple                  0         \n",
      "_________________________________________________________________\n",
      "flatten_51 (Flatten)         multiple                  0         \n",
      "_________________________________________________________________\n",
      "dense_51 (Dense)             multiple                  3524      \n",
      "=================================================================\n",
      "Total params: 5,284\n",
      "Trainable params: 5,284\n",
      "Non-trainable params: 0\n",
      "_________________________________________________________________\n",
      "PointredictScresSet0[0] 272.7763064253738\n"
     ]
    },
    {
     "name": "stderr",
     "output_type": "stream",
     "text": [
      "D:\\anaconda\\lib\\site-packages\\optuna\\distributions.py:427: UserWarning:\n",
      "\n",
      "Choices for a categorical distribution should be a tuple of None, bool, int, float and str for persistent storage but contains <class 'tensorflow.python.keras.optimizer_v2.adam.Adam'> which is of type ABCMeta.\n",
      "\n",
      "\u001b[32m[I 2022-11-09 22:53:21,036]\u001b[0m Trial 52 finished with value: 592.5451832148307 and parameters: {'optimizer': <class 'tensorflow.python.keras.optimizer_v2.adam.Adam'>, 'units': 325, 'epochs': 60, 'batch_size': 32, 'learning_rate': 0.29476031481667464}. Best is trial 24 with value: 272.614102651772.\u001b[0m\n"
     ]
    },
    {
     "name": "stdout",
     "output_type": "stream",
     "text": [
      "Model: \"sequential_52\"\n",
      "_________________________________________________________________\n",
      "Layer (type)                 Output Shape              Param #   \n",
      "=================================================================\n",
      "conv1d_52 (Conv1D)           multiple                  1300      \n",
      "_________________________________________________________________\n",
      "max_pooling1d_52 (MaxPooling multiple                  0         \n",
      "_________________________________________________________________\n",
      "flatten_52 (Flatten)         multiple                  0         \n",
      "_________________________________________________________________\n",
      "dense_52 (Dense)             multiple                  2604      \n",
      "=================================================================\n",
      "Total params: 3,904\n",
      "Trainable params: 3,904\n",
      "Non-trainable params: 0\n",
      "_________________________________________________________________\n",
      "PointredictScresSet0[0] 592.5451832148307\n"
     ]
    },
    {
     "name": "stderr",
     "output_type": "stream",
     "text": [
      "D:\\anaconda\\lib\\site-packages\\optuna\\distributions.py:427: UserWarning:\n",
      "\n",
      "Choices for a categorical distribution should be a tuple of None, bool, int, float and str for persistent storage but contains <class 'tensorflow.python.keras.optimizer_v2.adam.Adam'> which is of type ABCMeta.\n",
      "\n",
      "\u001b[32m[I 2022-11-09 22:55:27,172]\u001b[0m Trial 53 finished with value: 272.93019118565826 and parameters: {'optimizer': <class 'tensorflow.python.keras.optimizer_v2.adam.Adam'>, 'units': 410, 'epochs': 60, 'batch_size': 32, 'learning_rate': 0.0014163779576964136}. Best is trial 24 with value: 272.614102651772.\u001b[0m\n"
     ]
    },
    {
     "name": "stdout",
     "output_type": "stream",
     "text": [
      "Model: \"sequential_53\"\n",
      "_________________________________________________________________\n",
      "Layer (type)                 Output Shape              Param #   \n",
      "=================================================================\n",
      "conv1d_53 (Conv1D)           multiple                  1640      \n",
      "_________________________________________________________________\n",
      "max_pooling1d_53 (MaxPooling multiple                  0         \n",
      "_________________________________________________________________\n",
      "flatten_53 (Flatten)         multiple                  0         \n",
      "_________________________________________________________________\n",
      "dense_53 (Dense)             multiple                  3284      \n",
      "=================================================================\n",
      "Total params: 4,924\n",
      "Trainable params: 4,924\n",
      "Non-trainable params: 0\n",
      "_________________________________________________________________\n",
      "PointredictScresSet0[0] 272.93019118565826\n"
     ]
    },
    {
     "name": "stderr",
     "output_type": "stream",
     "text": [
      "D:\\anaconda\\lib\\site-packages\\optuna\\distributions.py:427: UserWarning:\n",
      "\n",
      "Choices for a categorical distribution should be a tuple of None, bool, int, float and str for persistent storage but contains <class 'tensorflow.python.keras.optimizer_v2.adam.Adam'> which is of type ABCMeta.\n",
      "\n",
      "\u001b[32m[I 2022-11-09 22:57:39,136]\u001b[0m Trial 54 finished with value: 273.2498084077811 and parameters: {'optimizer': <class 'tensorflow.python.keras.optimizer_v2.adam.Adam'>, 'units': 440, 'epochs': 40, 'batch_size': 16, 'learning_rate': 0.0013347843661295667}. Best is trial 24 with value: 272.614102651772.\u001b[0m\n"
     ]
    },
    {
     "name": "stdout",
     "output_type": "stream",
     "text": [
      "Model: \"sequential_54\"\n",
      "_________________________________________________________________\n",
      "Layer (type)                 Output Shape              Param #   \n",
      "=================================================================\n",
      "conv1d_54 (Conv1D)           multiple                  1760      \n",
      "_________________________________________________________________\n",
      "max_pooling1d_54 (MaxPooling multiple                  0         \n",
      "_________________________________________________________________\n",
      "flatten_54 (Flatten)         multiple                  0         \n",
      "_________________________________________________________________\n",
      "dense_54 (Dense)             multiple                  3524      \n",
      "=================================================================\n",
      "Total params: 5,284\n",
      "Trainable params: 5,284\n",
      "Non-trainable params: 0\n",
      "_________________________________________________________________\n",
      "PointredictScresSet0[0] 273.2498084077811\n"
     ]
    },
    {
     "name": "stderr",
     "output_type": "stream",
     "text": [
      "D:\\anaconda\\lib\\site-packages\\optuna\\distributions.py:427: UserWarning:\n",
      "\n",
      "Choices for a categorical distribution should be a tuple of None, bool, int, float and str for persistent storage but contains <class 'tensorflow.python.keras.optimizer_v2.adam.Adam'> which is of type ABCMeta.\n",
      "\n",
      "\u001b[32m[I 2022-11-09 22:59:40,193]\u001b[0m Trial 55 finished with value: 273.0999738632901 and parameters: {'optimizer': <class 'tensorflow.python.keras.optimizer_v2.adam.Adam'>, 'units': 415, 'epochs': 50, 'batch_size': 32, 'learning_rate': 0.0022674943357564466}. Best is trial 24 with value: 272.614102651772.\u001b[0m\n"
     ]
    },
    {
     "name": "stdout",
     "output_type": "stream",
     "text": [
      "Model: \"sequential_55\"\n",
      "_________________________________________________________________\n",
      "Layer (type)                 Output Shape              Param #   \n",
      "=================================================================\n",
      "conv1d_55 (Conv1D)           multiple                  1660      \n",
      "_________________________________________________________________\n",
      "max_pooling1d_55 (MaxPooling multiple                  0         \n",
      "_________________________________________________________________\n",
      "flatten_55 (Flatten)         multiple                  0         \n",
      "_________________________________________________________________\n",
      "dense_55 (Dense)             multiple                  3324      \n",
      "=================================================================\n",
      "Total params: 4,984\n",
      "Trainable params: 4,984\n",
      "Non-trainable params: 0\n",
      "_________________________________________________________________\n",
      "PointredictScresSet0[0] 273.0999738632901\n"
     ]
    },
    {
     "name": "stderr",
     "output_type": "stream",
     "text": [
      "D:\\anaconda\\lib\\site-packages\\optuna\\distributions.py:427: UserWarning:\n",
      "\n",
      "Choices for a categorical distribution should be a tuple of None, bool, int, float and str for persistent storage but contains <class 'tensorflow.python.keras.optimizer_v2.adam.Adam'> which is of type ABCMeta.\n",
      "\n",
      "\u001b[32m[I 2022-11-09 23:01:29,219]\u001b[0m Trial 56 finished with value: 275.1170461428167 and parameters: {'optimizer': <class 'tensorflow.python.keras.optimizer_v2.adam.Adam'>, 'units': 370, 'epochs': 60, 'batch_size': 512, 'learning_rate': 0.0029687925859137065}. Best is trial 24 with value: 272.614102651772.\u001b[0m\n"
     ]
    },
    {
     "name": "stdout",
     "output_type": "stream",
     "text": [
      "Model: \"sequential_56\"\n",
      "_________________________________________________________________\n",
      "Layer (type)                 Output Shape              Param #   \n",
      "=================================================================\n",
      "conv1d_56 (Conv1D)           multiple                  1480      \n",
      "_________________________________________________________________\n",
      "max_pooling1d_56 (MaxPooling multiple                  0         \n",
      "_________________________________________________________________\n",
      "flatten_56 (Flatten)         multiple                  0         \n",
      "_________________________________________________________________\n",
      "dense_56 (Dense)             multiple                  2964      \n",
      "=================================================================\n",
      "Total params: 4,444\n",
      "Trainable params: 4,444\n",
      "Non-trainable params: 0\n",
      "_________________________________________________________________\n",
      "PointredictScresSet0[0] 275.1170461428167\n"
     ]
    },
    {
     "name": "stderr",
     "output_type": "stream",
     "text": [
      "D:\\anaconda\\lib\\site-packages\\optuna\\distributions.py:427: UserWarning:\n",
      "\n",
      "Choices for a categorical distribution should be a tuple of None, bool, int, float and str for persistent storage but contains <class 'tensorflow.python.keras.optimizer_v2.adam.Adam'> which is of type ABCMeta.\n",
      "\n",
      "\u001b[32m[I 2022-11-09 23:03:29,916]\u001b[0m Trial 57 finished with value: 273.000860588757 and parameters: {'optimizer': <class 'tensorflow.python.keras.optimizer_v2.adam.Adam'>, 'units': 415, 'epochs': 50, 'batch_size': 32, 'learning_rate': 0.0013044151199078078}. Best is trial 24 with value: 272.614102651772.\u001b[0m\n"
     ]
    },
    {
     "name": "stdout",
     "output_type": "stream",
     "text": [
      "Model: \"sequential_57\"\n",
      "_________________________________________________________________\n",
      "Layer (type)                 Output Shape              Param #   \n",
      "=================================================================\n",
      "conv1d_57 (Conv1D)           multiple                  1660      \n",
      "_________________________________________________________________\n",
      "max_pooling1d_57 (MaxPooling multiple                  0         \n",
      "_________________________________________________________________\n",
      "flatten_57 (Flatten)         multiple                  0         \n",
      "_________________________________________________________________\n",
      "dense_57 (Dense)             multiple                  3324      \n",
      "=================================================================\n",
      "Total params: 4,984\n",
      "Trainable params: 4,984\n",
      "Non-trainable params: 0\n",
      "_________________________________________________________________\n",
      "PointredictScresSet0[0] 273.000860588757\n"
     ]
    },
    {
     "name": "stderr",
     "output_type": "stream",
     "text": [
      "D:\\anaconda\\lib\\site-packages\\optuna\\distributions.py:427: UserWarning:\n",
      "\n",
      "Choices for a categorical distribution should be a tuple of None, bool, int, float and str for persistent storage but contains <class 'tensorflow.python.keras.optimizer_v2.adam.Adam'> which is of type ABCMeta.\n",
      "\n",
      "\u001b[32m[I 2022-11-09 23:05:36,242]\u001b[0m Trial 58 finished with value: 273.4355852879233 and parameters: {'optimizer': <class 'tensorflow.python.keras.optimizer_v2.adam.Adam'>, 'units': 305, 'epochs': 40, 'batch_size': 16, 'learning_rate': 0.0010250224763930793}. Best is trial 24 with value: 272.614102651772.\u001b[0m\n"
     ]
    },
    {
     "name": "stdout",
     "output_type": "stream",
     "text": [
      "Model: \"sequential_58\"\n",
      "_________________________________________________________________\n",
      "Layer (type)                 Output Shape              Param #   \n",
      "=================================================================\n",
      "conv1d_58 (Conv1D)           multiple                  1220      \n",
      "_________________________________________________________________\n",
      "max_pooling1d_58 (MaxPooling multiple                  0         \n",
      "_________________________________________________________________\n",
      "flatten_58 (Flatten)         multiple                  0         \n",
      "_________________________________________________________________\n",
      "dense_58 (Dense)             multiple                  2444      \n",
      "=================================================================\n",
      "Total params: 3,664\n",
      "Trainable params: 3,664\n",
      "Non-trainable params: 0\n",
      "_________________________________________________________________\n",
      "PointredictScresSet0[0] 273.4355852879233\n"
     ]
    },
    {
     "name": "stderr",
     "output_type": "stream",
     "text": [
      "D:\\anaconda\\lib\\site-packages\\optuna\\distributions.py:427: UserWarning:\n",
      "\n",
      "Choices for a categorical distribution should be a tuple of None, bool, int, float and str for persistent storage but contains <class 'tensorflow.python.keras.optimizer_v2.adam.Adam'> which is of type ABCMeta.\n",
      "\n",
      "\u001b[32m[I 2022-11-09 23:08:05,743]\u001b[0m Trial 59 finished with value: 273.77230880827517 and parameters: {'optimizer': <class 'tensorflow.python.keras.optimizer_v2.adam.Adam'>, 'units': 475, 'epochs': 100, 'batch_size': 32, 'learning_rate': 0.006505395952674038}. Best is trial 24 with value: 272.614102651772.\u001b[0m\n"
     ]
    },
    {
     "name": "stdout",
     "output_type": "stream",
     "text": [
      "Model: \"sequential_59\"\n",
      "_________________________________________________________________\n",
      "Layer (type)                 Output Shape              Param #   \n",
      "=================================================================\n",
      "conv1d_59 (Conv1D)           multiple                  1900      \n",
      "_________________________________________________________________\n",
      "max_pooling1d_59 (MaxPooling multiple                  0         \n",
      "_________________________________________________________________\n",
      "flatten_59 (Flatten)         multiple                  0         \n",
      "_________________________________________________________________\n",
      "dense_59 (Dense)             multiple                  3804      \n",
      "=================================================================\n",
      "Total params: 5,704\n",
      "Trainable params: 5,704\n",
      "Non-trainable params: 0\n",
      "_________________________________________________________________\n",
      "PointredictScresSet0[0] 273.77230880827517\n"
     ]
    },
    {
     "name": "stderr",
     "output_type": "stream",
     "text": [
      "D:\\anaconda\\lib\\site-packages\\optuna\\distributions.py:427: UserWarning:\n",
      "\n",
      "Choices for a categorical distribution should be a tuple of None, bool, int, float and str for persistent storage but contains <class 'tensorflow.python.keras.optimizer_v2.adam.Adam'> which is of type ABCMeta.\n",
      "\n",
      "\u001b[32m[I 2022-11-09 23:10:14,599]\u001b[0m Trial 60 finished with value: 273.45607180423065 and parameters: {'optimizer': <class 'tensorflow.python.keras.optimizer_v2.adam.Adam'>, 'units': 345, 'epochs': 60, 'batch_size': 32, 'learning_rate': 0.004113995009568382}. Best is trial 24 with value: 272.614102651772.\u001b[0m\n"
     ]
    },
    {
     "name": "stdout",
     "output_type": "stream",
     "text": [
      "Model: \"sequential_60\"\n",
      "_________________________________________________________________\n",
      "Layer (type)                 Output Shape              Param #   \n",
      "=================================================================\n",
      "conv1d_60 (Conv1D)           multiple                  1380      \n",
      "_________________________________________________________________\n",
      "max_pooling1d_60 (MaxPooling multiple                  0         \n",
      "_________________________________________________________________\n",
      "flatten_60 (Flatten)         multiple                  0         \n",
      "_________________________________________________________________\n",
      "dense_60 (Dense)             multiple                  2764      \n",
      "=================================================================\n",
      "Total params: 4,144\n",
      "Trainable params: 4,144\n",
      "Non-trainable params: 0\n",
      "_________________________________________________________________\n",
      "PointredictScresSet0[0] 273.45607180423065\n"
     ]
    },
    {
     "name": "stderr",
     "output_type": "stream",
     "text": [
      "D:\\anaconda\\lib\\site-packages\\optuna\\distributions.py:427: UserWarning:\n",
      "\n",
      "Choices for a categorical distribution should be a tuple of None, bool, int, float and str for persistent storage but contains <class 'tensorflow.python.keras.optimizer_v2.adam.Adam'> which is of type ABCMeta.\n",
      "\n",
      "\u001b[32m[I 2022-11-09 23:12:26,332]\u001b[0m Trial 61 finished with value: 273.0166054109794 and parameters: {'optimizer': <class 'tensorflow.python.keras.optimizer_v2.adam.Adam'>, 'units': 400, 'epochs': 70, 'batch_size': 32, 'learning_rate': 0.0014708719060274789}. Best is trial 24 with value: 272.614102651772.\u001b[0m\n"
     ]
    },
    {
     "name": "stdout",
     "output_type": "stream",
     "text": [
      "Model: \"sequential_61\"\n",
      "_________________________________________________________________\n",
      "Layer (type)                 Output Shape              Param #   \n",
      "=================================================================\n",
      "conv1d_61 (Conv1D)           multiple                  1600      \n",
      "_________________________________________________________________\n",
      "max_pooling1d_61 (MaxPooling multiple                  0         \n",
      "_________________________________________________________________\n",
      "flatten_61 (Flatten)         multiple                  0         \n",
      "_________________________________________________________________\n",
      "dense_61 (Dense)             multiple                  3204      \n",
      "=================================================================\n",
      "Total params: 4,804\n",
      "Trainable params: 4,804\n",
      "Non-trainable params: 0\n",
      "_________________________________________________________________\n",
      "PointredictScresSet0[0] 273.0166054109794\n"
     ]
    },
    {
     "name": "stderr",
     "output_type": "stream",
     "text": [
      "D:\\anaconda\\lib\\site-packages\\optuna\\distributions.py:427: UserWarning:\n",
      "\n",
      "Choices for a categorical distribution should be a tuple of None, bool, int, float and str for persistent storage but contains <class 'tensorflow.python.keras.optimizer_v2.adam.Adam'> which is of type ABCMeta.\n",
      "\n",
      "\u001b[32m[I 2022-11-09 23:14:36,188]\u001b[0m Trial 62 finished with value: 272.70659330446813 and parameters: {'optimizer': <class 'tensorflow.python.keras.optimizer_v2.adam.Adam'>, 'units': 440, 'epochs': 70, 'batch_size': 32, 'learning_rate': 0.0020271736521638778}. Best is trial 24 with value: 272.614102651772.\u001b[0m\n"
     ]
    },
    {
     "name": "stdout",
     "output_type": "stream",
     "text": [
      "Model: \"sequential_62\"\n",
      "_________________________________________________________________\n",
      "Layer (type)                 Output Shape              Param #   \n",
      "=================================================================\n",
      "conv1d_62 (Conv1D)           multiple                  1760      \n",
      "_________________________________________________________________\n",
      "max_pooling1d_62 (MaxPooling multiple                  0         \n",
      "_________________________________________________________________\n",
      "flatten_62 (Flatten)         multiple                  0         \n",
      "_________________________________________________________________\n",
      "dense_62 (Dense)             multiple                  3524      \n",
      "=================================================================\n",
      "Total params: 5,284\n",
      "Trainable params: 5,284\n",
      "Non-trainable params: 0\n",
      "_________________________________________________________________\n",
      "PointredictScresSet0[0] 272.70659330446813\n"
     ]
    },
    {
     "name": "stderr",
     "output_type": "stream",
     "text": [
      "D:\\anaconda\\lib\\site-packages\\optuna\\distributions.py:427: UserWarning:\n",
      "\n",
      "Choices for a categorical distribution should be a tuple of None, bool, int, float and str for persistent storage but contains <class 'tensorflow.python.keras.optimizer_v2.adam.Adam'> which is of type ABCMeta.\n",
      "\n",
      "\u001b[32m[I 2022-11-09 23:16:58,077]\u001b[0m Trial 63 finished with value: 272.96471949490984 and parameters: {'optimizer': <class 'tensorflow.python.keras.optimizer_v2.adam.Adam'>, 'units': 440, 'epochs': 70, 'batch_size': 32, 'learning_rate': 0.0019522591731969212}. Best is trial 24 with value: 272.614102651772.\u001b[0m\n"
     ]
    },
    {
     "name": "stdout",
     "output_type": "stream",
     "text": [
      "Model: \"sequential_63\"\n",
      "_________________________________________________________________\n",
      "Layer (type)                 Output Shape              Param #   \n",
      "=================================================================\n",
      "conv1d_63 (Conv1D)           multiple                  1760      \n",
      "_________________________________________________________________\n",
      "max_pooling1d_63 (MaxPooling multiple                  0         \n",
      "_________________________________________________________________\n",
      "flatten_63 (Flatten)         multiple                  0         \n",
      "_________________________________________________________________\n",
      "dense_63 (Dense)             multiple                  3524      \n",
      "=================================================================\n",
      "Total params: 5,284\n",
      "Trainable params: 5,284\n",
      "Non-trainable params: 0\n",
      "_________________________________________________________________\n",
      "PointredictScresSet0[0] 272.96471949490984\n"
     ]
    },
    {
     "name": "stderr",
     "output_type": "stream",
     "text": [
      "D:\\anaconda\\lib\\site-packages\\optuna\\distributions.py:427: UserWarning:\n",
      "\n",
      "Choices for a categorical distribution should be a tuple of None, bool, int, float and str for persistent storage but contains <class 'tensorflow.python.keras.optimizer_v2.adam.Adam'> which is of type ABCMeta.\n",
      "\n",
      "\u001b[32m[I 2022-11-09 23:19:13,980]\u001b[0m Trial 64 finished with value: 331.0019398290926 and parameters: {'optimizer': <class 'tensorflow.python.keras.optimizer_v2.adam.Adam'>, 'units': 490, 'epochs': 60, 'batch_size': 32, 'learning_rate': 0.04861926056440605}. Best is trial 24 with value: 272.614102651772.\u001b[0m\n"
     ]
    },
    {
     "name": "stdout",
     "output_type": "stream",
     "text": [
      "Model: \"sequential_64\"\n",
      "_________________________________________________________________\n",
      "Layer (type)                 Output Shape              Param #   \n",
      "=================================================================\n",
      "conv1d_64 (Conv1D)           multiple                  1960      \n",
      "_________________________________________________________________\n",
      "max_pooling1d_64 (MaxPooling multiple                  0         \n",
      "_________________________________________________________________\n",
      "flatten_64 (Flatten)         multiple                  0         \n",
      "_________________________________________________________________\n",
      "dense_64 (Dense)             multiple                  3924      \n",
      "=================================================================\n",
      "Total params: 5,884\n",
      "Trainable params: 5,884\n",
      "Non-trainable params: 0\n",
      "_________________________________________________________________\n",
      "PointredictScresSet0[0] 331.0019398290926\n"
     ]
    },
    {
     "name": "stderr",
     "output_type": "stream",
     "text": [
      "D:\\anaconda\\lib\\site-packages\\optuna\\distributions.py:427: UserWarning:\n",
      "\n",
      "Choices for a categorical distribution should be a tuple of None, bool, int, float and str for persistent storage but contains <class 'tensorflow.python.keras.optimizer_v2.adam.Adam'> which is of type ABCMeta.\n",
      "\n",
      "\u001b[32m[I 2022-11-09 23:22:41,628]\u001b[0m Trial 65 finished with value: 274.42506232557787 and parameters: {'optimizer': <class 'tensorflow.python.keras.optimizer_v2.adam.Adam'>, 'units': 480, 'epochs': 80, 'batch_size': 8, 'learning_rate': 0.0027540279014326994}. Best is trial 24 with value: 272.614102651772.\u001b[0m\n"
     ]
    },
    {
     "name": "stdout",
     "output_type": "stream",
     "text": [
      "Model: \"sequential_65\"\n",
      "_________________________________________________________________\n",
      "Layer (type)                 Output Shape              Param #   \n",
      "=================================================================\n",
      "conv1d_65 (Conv1D)           multiple                  1920      \n",
      "_________________________________________________________________\n",
      "max_pooling1d_65 (MaxPooling multiple                  0         \n",
      "_________________________________________________________________\n",
      "flatten_65 (Flatten)         multiple                  0         \n",
      "_________________________________________________________________\n",
      "dense_65 (Dense)             multiple                  3844      \n",
      "=================================================================\n",
      "Total params: 5,764\n",
      "Trainable params: 5,764\n",
      "Non-trainable params: 0\n",
      "_________________________________________________________________\n",
      "PointredictScresSet0[0] 274.42506232557787\n"
     ]
    },
    {
     "name": "stderr",
     "output_type": "stream",
     "text": [
      "D:\\anaconda\\lib\\site-packages\\optuna\\distributions.py:427: UserWarning:\n",
      "\n",
      "Choices for a categorical distribution should be a tuple of None, bool, int, float and str for persistent storage but contains <class 'tensorflow.python.keras.optimizer_v2.adam.Adam'> which is of type ABCMeta.\n",
      "\n",
      "\u001b[32m[I 2022-11-09 23:24:25,366]\u001b[0m Trial 66 finished with value: 273.7179045792721 and parameters: {'optimizer': <class 'tensorflow.python.keras.optimizer_v2.adam.Adam'>, 'units': 360, 'epochs': 50, 'batch_size': 64, 'learning_rate': 0.0012488093448031596}. Best is trial 24 with value: 272.614102651772.\u001b[0m\n"
     ]
    },
    {
     "name": "stdout",
     "output_type": "stream",
     "text": [
      "Model: \"sequential_66\"\n",
      "_________________________________________________________________\n",
      "Layer (type)                 Output Shape              Param #   \n",
      "=================================================================\n",
      "conv1d_66 (Conv1D)           multiple                  1440      \n",
      "_________________________________________________________________\n",
      "max_pooling1d_66 (MaxPooling multiple                  0         \n",
      "_________________________________________________________________\n",
      "flatten_66 (Flatten)         multiple                  0         \n",
      "_________________________________________________________________\n",
      "dense_66 (Dense)             multiple                  2884      \n",
      "=================================================================\n",
      "Total params: 4,324\n",
      "Trainable params: 4,324\n",
      "Non-trainable params: 0\n",
      "_________________________________________________________________\n",
      "PointredictScresSet0[0] 273.7179045792721\n"
     ]
    },
    {
     "name": "stderr",
     "output_type": "stream",
     "text": [
      "D:\\anaconda\\lib\\site-packages\\optuna\\distributions.py:427: UserWarning:\n",
      "\n",
      "Choices for a categorical distribution should be a tuple of None, bool, int, float and str for persistent storage but contains <class 'tensorflow.python.keras.optimizer_v2.adam.Adam'> which is of type ABCMeta.\n",
      "\n",
      "\u001b[32m[I 2022-11-09 23:26:33,833]\u001b[0m Trial 67 finished with value: 272.84813824760704 and parameters: {'optimizer': <class 'tensorflow.python.keras.optimizer_v2.adam.Adam'>, 'units': 425, 'epochs': 70, 'batch_size': 32, 'learning_rate': 0.0020056432219297364}. Best is trial 24 with value: 272.614102651772.\u001b[0m\n"
     ]
    },
    {
     "name": "stdout",
     "output_type": "stream",
     "text": [
      "Model: \"sequential_67\"\n",
      "_________________________________________________________________\n",
      "Layer (type)                 Output Shape              Param #   \n",
      "=================================================================\n",
      "conv1d_67 (Conv1D)           multiple                  1700      \n",
      "_________________________________________________________________\n",
      "max_pooling1d_67 (MaxPooling multiple                  0         \n",
      "_________________________________________________________________\n",
      "flatten_67 (Flatten)         multiple                  0         \n",
      "_________________________________________________________________\n",
      "dense_67 (Dense)             multiple                  3404      \n",
      "=================================================================\n",
      "Total params: 5,104\n",
      "Trainable params: 5,104\n",
      "Non-trainable params: 0\n",
      "_________________________________________________________________\n",
      "PointredictScresSet0[0] 272.84813824760704\n"
     ]
    },
    {
     "name": "stderr",
     "output_type": "stream",
     "text": [
      "D:\\anaconda\\lib\\site-packages\\optuna\\distributions.py:427: UserWarning:\n",
      "\n",
      "Choices for a categorical distribution should be a tuple of None, bool, int, float and str for persistent storage but contains <class 'tensorflow.python.keras.optimizer_v2.adam.Adam'> which is of type ABCMeta.\n",
      "\n",
      "\u001b[32m[I 2022-11-09 23:28:46,382]\u001b[0m Trial 68 finished with value: 272.9251713471776 and parameters: {'optimizer': <class 'tensorflow.python.keras.optimizer_v2.adam.Adam'>, 'units': 430, 'epochs': 70, 'batch_size': 32, 'learning_rate': 0.0019045518699950395}. Best is trial 24 with value: 272.614102651772.\u001b[0m\n"
     ]
    },
    {
     "name": "stdout",
     "output_type": "stream",
     "text": [
      "Model: \"sequential_68\"\n",
      "_________________________________________________________________\n",
      "Layer (type)                 Output Shape              Param #   \n",
      "=================================================================\n",
      "conv1d_68 (Conv1D)           multiple                  1720      \n",
      "_________________________________________________________________\n",
      "max_pooling1d_68 (MaxPooling multiple                  0         \n",
      "_________________________________________________________________\n",
      "flatten_68 (Flatten)         multiple                  0         \n",
      "_________________________________________________________________\n",
      "dense_68 (Dense)             multiple                  3444      \n",
      "=================================================================\n",
      "Total params: 5,164\n",
      "Trainable params: 5,164\n",
      "Non-trainable params: 0\n",
      "_________________________________________________________________\n",
      "PointredictScresSet0[0] 272.9251713471776\n"
     ]
    },
    {
     "name": "stderr",
     "output_type": "stream",
     "text": [
      "D:\\anaconda\\lib\\site-packages\\optuna\\distributions.py:427: UserWarning:\n",
      "\n",
      "Choices for a categorical distribution should be a tuple of None, bool, int, float and str for persistent storage but contains <class 'tensorflow.python.keras.optimizer_v2.adam.Adam'> which is of type ABCMeta.\n",
      "\n",
      "\u001b[32m[I 2022-11-09 23:30:34,188]\u001b[0m Trial 69 finished with value: 274.6289963450812 and parameters: {'optimizer': <class 'tensorflow.python.keras.optimizer_v2.adam.Adam'>, 'units': 450, 'epochs': 80, 'batch_size': 128, 'learning_rate': 0.005168717760002616}. Best is trial 24 with value: 272.614102651772.\u001b[0m\n"
     ]
    },
    {
     "name": "stdout",
     "output_type": "stream",
     "text": [
      "Model: \"sequential_69\"\n",
      "_________________________________________________________________\n",
      "Layer (type)                 Output Shape              Param #   \n",
      "=================================================================\n",
      "conv1d_69 (Conv1D)           multiple                  1800      \n",
      "_________________________________________________________________\n",
      "max_pooling1d_69 (MaxPooling multiple                  0         \n",
      "_________________________________________________________________\n",
      "flatten_69 (Flatten)         multiple                  0         \n",
      "_________________________________________________________________\n",
      "dense_69 (Dense)             multiple                  3604      \n",
      "=================================================================\n",
      "Total params: 5,404\n",
      "Trainable params: 5,404\n",
      "Non-trainable params: 0\n",
      "_________________________________________________________________\n",
      "PointredictScresSet0[0] 274.6289963450812\n"
     ]
    },
    {
     "name": "stderr",
     "output_type": "stream",
     "text": [
      "D:\\anaconda\\lib\\site-packages\\optuna\\distributions.py:427: UserWarning:\n",
      "\n",
      "Choices for a categorical distribution should be a tuple of None, bool, int, float and str for persistent storage but contains <class 'tensorflow.python.keras.optimizer_v2.adam.Adam'> which is of type ABCMeta.\n",
      "\n",
      "\u001b[32m[I 2022-11-09 23:33:10,070]\u001b[0m Trial 70 finished with value: 274.057359157795 and parameters: {'optimizer': <class 'tensorflow.python.keras.optimizer_v2.adam.Adam'>, 'units': 380, 'epochs': 90, 'batch_size': 16, 'learning_rate': 0.0037408077276264626}. Best is trial 24 with value: 272.614102651772.\u001b[0m\n"
     ]
    },
    {
     "name": "stdout",
     "output_type": "stream",
     "text": [
      "Model: \"sequential_70\"\n",
      "_________________________________________________________________\n",
      "Layer (type)                 Output Shape              Param #   \n",
      "=================================================================\n",
      "conv1d_70 (Conv1D)           multiple                  1520      \n",
      "_________________________________________________________________\n",
      "max_pooling1d_70 (MaxPooling multiple                  0         \n",
      "_________________________________________________________________\n",
      "flatten_70 (Flatten)         multiple                  0         \n",
      "_________________________________________________________________\n",
      "dense_70 (Dense)             multiple                  3044      \n",
      "=================================================================\n",
      "Total params: 4,564\n",
      "Trainable params: 4,564\n",
      "Non-trainable params: 0\n",
      "_________________________________________________________________\n",
      "PointredictScresSet0[0] 274.057359157795\n"
     ]
    },
    {
     "name": "stderr",
     "output_type": "stream",
     "text": [
      "D:\\anaconda\\lib\\site-packages\\optuna\\distributions.py:427: UserWarning:\n",
      "\n",
      "Choices for a categorical distribution should be a tuple of None, bool, int, float and str for persistent storage but contains <class 'tensorflow.python.keras.optimizer_v2.adam.Adam'> which is of type ABCMeta.\n",
      "\n",
      "\u001b[32m[I 2022-11-09 23:35:22,581]\u001b[0m Trial 71 finished with value: 272.83062757962296 and parameters: {'optimizer': <class 'tensorflow.python.keras.optimizer_v2.adam.Adam'>, 'units': 430, 'epochs': 70, 'batch_size': 32, 'learning_rate': 0.0019972404365780575}. Best is trial 24 with value: 272.614102651772.\u001b[0m\n"
     ]
    },
    {
     "name": "stdout",
     "output_type": "stream",
     "text": [
      "Model: \"sequential_71\"\n",
      "_________________________________________________________________\n",
      "Layer (type)                 Output Shape              Param #   \n",
      "=================================================================\n",
      "conv1d_71 (Conv1D)           multiple                  1720      \n",
      "_________________________________________________________________\n",
      "max_pooling1d_71 (MaxPooling multiple                  0         \n",
      "_________________________________________________________________\n",
      "flatten_71 (Flatten)         multiple                  0         \n",
      "_________________________________________________________________\n",
      "dense_71 (Dense)             multiple                  3444      \n",
      "=================================================================\n",
      "Total params: 5,164\n",
      "Trainable params: 5,164\n",
      "Non-trainable params: 0\n",
      "_________________________________________________________________\n",
      "PointredictScresSet0[0] 272.83062757962296\n"
     ]
    },
    {
     "name": "stderr",
     "output_type": "stream",
     "text": [
      "D:\\anaconda\\lib\\site-packages\\optuna\\distributions.py:427: UserWarning:\n",
      "\n",
      "Choices for a categorical distribution should be a tuple of None, bool, int, float and str for persistent storage but contains <class 'tensorflow.python.keras.optimizer_v2.adam.Adam'> which is of type ABCMeta.\n",
      "\n",
      "\u001b[32m[I 2022-11-09 23:37:28,487]\u001b[0m Trial 72 finished with value: 273.0742387762692 and parameters: {'optimizer': <class 'tensorflow.python.keras.optimizer_v2.adam.Adam'>, 'units': 395, 'epochs': 70, 'batch_size': 32, 'learning_rate': 0.0026823969762342827}. Best is trial 24 with value: 272.614102651772.\u001b[0m\n"
     ]
    },
    {
     "name": "stdout",
     "output_type": "stream",
     "text": [
      "Model: \"sequential_72\"\n",
      "_________________________________________________________________\n",
      "Layer (type)                 Output Shape              Param #   \n",
      "=================================================================\n",
      "conv1d_72 (Conv1D)           multiple                  1580      \n",
      "_________________________________________________________________\n",
      "max_pooling1d_72 (MaxPooling multiple                  0         \n",
      "_________________________________________________________________\n",
      "flatten_72 (Flatten)         multiple                  0         \n",
      "_________________________________________________________________\n",
      "dense_72 (Dense)             multiple                  3164      \n",
      "=================================================================\n",
      "Total params: 4,744\n",
      "Trainable params: 4,744\n",
      "Non-trainable params: 0\n",
      "_________________________________________________________________\n",
      "PointredictScresSet0[0] 273.0742387762692\n"
     ]
    },
    {
     "name": "stderr",
     "output_type": "stream",
     "text": [
      "D:\\anaconda\\lib\\site-packages\\optuna\\distributions.py:427: UserWarning:\n",
      "\n",
      "Choices for a categorical distribution should be a tuple of None, bool, int, float and str for persistent storage but contains <class 'tensorflow.python.keras.optimizer_v2.adam.Adam'> which is of type ABCMeta.\n",
      "\n",
      "\u001b[32m[I 2022-11-09 23:39:33,565]\u001b[0m Trial 73 finished with value: 272.946219147283 and parameters: {'optimizer': <class 'tensorflow.python.keras.optimizer_v2.adam.Adam'>, 'units': 425, 'epochs': 70, 'batch_size': 32, 'learning_rate': 0.0020803656307326326}. Best is trial 24 with value: 272.614102651772.\u001b[0m\n"
     ]
    },
    {
     "name": "stdout",
     "output_type": "stream",
     "text": [
      "Model: \"sequential_73\"\n",
      "_________________________________________________________________\n",
      "Layer (type)                 Output Shape              Param #   \n",
      "=================================================================\n",
      "conv1d_73 (Conv1D)           multiple                  1700      \n",
      "_________________________________________________________________\n",
      "max_pooling1d_73 (MaxPooling multiple                  0         \n",
      "_________________________________________________________________\n",
      "flatten_73 (Flatten)         multiple                  0         \n",
      "_________________________________________________________________\n",
      "dense_73 (Dense)             multiple                  3404      \n",
      "=================================================================\n",
      "Total params: 5,104\n",
      "Trainable params: 5,104\n",
      "Non-trainable params: 0\n",
      "_________________________________________________________________\n",
      "PointredictScresSet0[0] 272.946219147283\n"
     ]
    },
    {
     "name": "stderr",
     "output_type": "stream",
     "text": [
      "D:\\anaconda\\lib\\site-packages\\optuna\\distributions.py:427: UserWarning:\n",
      "\n",
      "Choices for a categorical distribution should be a tuple of None, bool, int, float and str for persistent storage but contains <class 'tensorflow.python.keras.optimizer_v2.adam.Adam'> which is of type ABCMeta.\n",
      "\n",
      "\u001b[32m[I 2022-11-09 23:41:52,304]\u001b[0m Trial 74 finished with value: 272.65071851045604 and parameters: {'optimizer': <class 'tensorflow.python.keras.optimizer_v2.adam.Adam'>, 'units': 440, 'epochs': 80, 'batch_size': 32, 'learning_rate': 0.0012312621931738256}. Best is trial 24 with value: 272.614102651772.\u001b[0m\n"
     ]
    },
    {
     "name": "stdout",
     "output_type": "stream",
     "text": [
      "Model: \"sequential_74\"\n",
      "_________________________________________________________________\n",
      "Layer (type)                 Output Shape              Param #   \n",
      "=================================================================\n",
      "conv1d_74 (Conv1D)           multiple                  1760      \n",
      "_________________________________________________________________\n",
      "max_pooling1d_74 (MaxPooling multiple                  0         \n",
      "_________________________________________________________________\n",
      "flatten_74 (Flatten)         multiple                  0         \n",
      "_________________________________________________________________\n",
      "dense_74 (Dense)             multiple                  3524      \n",
      "=================================================================\n",
      "Total params: 5,284\n",
      "Trainable params: 5,284\n",
      "Non-trainable params: 0\n",
      "_________________________________________________________________\n",
      "PointredictScresSet0[0] 272.65071851045604\n"
     ]
    },
    {
     "name": "stderr",
     "output_type": "stream",
     "text": [
      "D:\\anaconda\\lib\\site-packages\\optuna\\distributions.py:427: UserWarning:\n",
      "\n",
      "Choices for a categorical distribution should be a tuple of None, bool, int, float and str for persistent storage but contains <class 'tensorflow.python.keras.optimizer_v2.adam.Adam'> which is of type ABCMeta.\n",
      "\n",
      "\u001b[32m[I 2022-11-09 23:44:03,103]\u001b[0m Trial 75 finished with value: 272.7053385571673 and parameters: {'optimizer': <class 'tensorflow.python.keras.optimizer_v2.adam.Adam'>, 'units': 465, 'epochs': 80, 'batch_size': 32, 'learning_rate': 0.0011966467675751666}. Best is trial 24 with value: 272.614102651772.\u001b[0m\n"
     ]
    },
    {
     "name": "stdout",
     "output_type": "stream",
     "text": [
      "Model: \"sequential_75\"\n",
      "_________________________________________________________________\n",
      "Layer (type)                 Output Shape              Param #   \n",
      "=================================================================\n",
      "conv1d_75 (Conv1D)           multiple                  1860      \n",
      "_________________________________________________________________\n",
      "max_pooling1d_75 (MaxPooling multiple                  0         \n",
      "_________________________________________________________________\n",
      "flatten_75 (Flatten)         multiple                  0         \n",
      "_________________________________________________________________\n",
      "dense_75 (Dense)             multiple                  3724      \n",
      "=================================================================\n",
      "Total params: 5,584\n",
      "Trainable params: 5,584\n",
      "Non-trainable params: 0\n",
      "_________________________________________________________________\n",
      "PointredictScresSet0[0] 272.7053385571673\n"
     ]
    },
    {
     "name": "stderr",
     "output_type": "stream",
     "text": [
      "D:\\anaconda\\lib\\site-packages\\optuna\\distributions.py:427: UserWarning:\n",
      "\n",
      "Choices for a categorical distribution should be a tuple of None, bool, int, float and str for persistent storage but contains <class 'tensorflow.python.keras.optimizer_v2.adam.Adam'> which is of type ABCMeta.\n",
      "\n",
      "\u001b[32m[I 2022-11-09 23:46:20,288]\u001b[0m Trial 76 finished with value: 272.5938197362607 and parameters: {'optimizer': <class 'tensorflow.python.keras.optimizer_v2.adam.Adam'>, 'units': 490, 'epochs': 80, 'batch_size': 32, 'learning_rate': 0.0012798558717290274}. Best is trial 76 with value: 272.5938197362607.\u001b[0m\n"
     ]
    },
    {
     "name": "stdout",
     "output_type": "stream",
     "text": [
      "Model: \"sequential_76\"\n",
      "_________________________________________________________________\n",
      "Layer (type)                 Output Shape              Param #   \n",
      "=================================================================\n",
      "conv1d_76 (Conv1D)           multiple                  1960      \n",
      "_________________________________________________________________\n",
      "max_pooling1d_76 (MaxPooling multiple                  0         \n",
      "_________________________________________________________________\n",
      "flatten_76 (Flatten)         multiple                  0         \n",
      "_________________________________________________________________\n",
      "dense_76 (Dense)             multiple                  3924      \n",
      "=================================================================\n",
      "Total params: 5,884\n",
      "Trainable params: 5,884\n",
      "Non-trainable params: 0\n",
      "_________________________________________________________________\n",
      "PointredictScresSet0[0] 272.5938197362607\n"
     ]
    },
    {
     "name": "stderr",
     "output_type": "stream",
     "text": [
      "D:\\anaconda\\lib\\site-packages\\optuna\\distributions.py:427: UserWarning:\n",
      "\n",
      "Choices for a categorical distribution should be a tuple of None, bool, int, float and str for persistent storage but contains <class 'tensorflow.python.keras.optimizer_v2.adam.Adam'> which is of type ABCMeta.\n",
      "\n",
      "\u001b[32m[I 2022-11-09 23:48:41,503]\u001b[0m Trial 77 finished with value: 272.75176565594506 and parameters: {'optimizer': <class 'tensorflow.python.keras.optimizer_v2.adam.Adam'>, 'units': 445, 'epochs': 80, 'batch_size': 32, 'learning_rate': 0.0011667592149155017}. Best is trial 76 with value: 272.5938197362607.\u001b[0m\n"
     ]
    },
    {
     "name": "stdout",
     "output_type": "stream",
     "text": [
      "Model: \"sequential_77\"\n",
      "_________________________________________________________________\n",
      "Layer (type)                 Output Shape              Param #   \n",
      "=================================================================\n",
      "conv1d_77 (Conv1D)           multiple                  1780      \n",
      "_________________________________________________________________\n",
      "max_pooling1d_77 (MaxPooling multiple                  0         \n",
      "_________________________________________________________________\n",
      "flatten_77 (Flatten)         multiple                  0         \n",
      "_________________________________________________________________\n",
      "dense_77 (Dense)             multiple                  3564      \n",
      "=================================================================\n",
      "Total params: 5,344\n",
      "Trainable params: 5,344\n",
      "Non-trainable params: 0\n",
      "_________________________________________________________________\n",
      "PointredictScresSet0[0] 272.75176565594506\n"
     ]
    },
    {
     "name": "stderr",
     "output_type": "stream",
     "text": [
      "D:\\anaconda\\lib\\site-packages\\optuna\\distributions.py:427: UserWarning:\n",
      "\n",
      "Choices for a categorical distribution should be a tuple of None, bool, int, float and str for persistent storage but contains <class 'tensorflow.python.keras.optimizer_v2.adam.Adam'> which is of type ABCMeta.\n",
      "\n",
      "\u001b[32m[I 2022-11-09 23:50:51,093]\u001b[0m Trial 78 finished with value: 272.6093506312523 and parameters: {'optimizer': <class 'tensorflow.python.keras.optimizer_v2.adam.Adam'>, 'units': 465, 'epochs': 80, 'batch_size': 32, 'learning_rate': 0.0011425208318489245}. Best is trial 76 with value: 272.5938197362607.\u001b[0m\n"
     ]
    },
    {
     "name": "stdout",
     "output_type": "stream",
     "text": [
      "Model: \"sequential_78\"\n",
      "_________________________________________________________________\n",
      "Layer (type)                 Output Shape              Param #   \n",
      "=================================================================\n",
      "conv1d_78 (Conv1D)           multiple                  1860      \n",
      "_________________________________________________________________\n",
      "max_pooling1d_78 (MaxPooling multiple                  0         \n",
      "_________________________________________________________________\n",
      "flatten_78 (Flatten)         multiple                  0         \n",
      "_________________________________________________________________\n",
      "dense_78 (Dense)             multiple                  3724      \n",
      "=================================================================\n",
      "Total params: 5,584\n",
      "Trainable params: 5,584\n",
      "Non-trainable params: 0\n",
      "_________________________________________________________________\n",
      "PointredictScresSet0[0] 272.6093506312523\n"
     ]
    },
    {
     "name": "stderr",
     "output_type": "stream",
     "text": [
      "D:\\anaconda\\lib\\site-packages\\optuna\\distributions.py:427: UserWarning:\n",
      "\n",
      "Choices for a categorical distribution should be a tuple of None, bool, int, float and str for persistent storage but contains <class 'tensorflow.python.keras.optimizer_v2.adam.Adam'> which is of type ABCMeta.\n",
      "\n",
      "\u001b[32m[I 2022-11-09 23:53:06,246]\u001b[0m Trial 79 finished with value: 272.68081831972484 and parameters: {'optimizer': <class 'tensorflow.python.keras.optimizer_v2.adam.Adam'>, 'units': 465, 'epochs': 80, 'batch_size': 32, 'learning_rate': 0.0011613432639369032}. Best is trial 76 with value: 272.5938197362607.\u001b[0m\n"
     ]
    },
    {
     "name": "stdout",
     "output_type": "stream",
     "text": [
      "Model: \"sequential_79\"\n",
      "_________________________________________________________________\n",
      "Layer (type)                 Output Shape              Param #   \n",
      "=================================================================\n",
      "conv1d_79 (Conv1D)           multiple                  1860      \n",
      "_________________________________________________________________\n",
      "max_pooling1d_79 (MaxPooling multiple                  0         \n",
      "_________________________________________________________________\n",
      "flatten_79 (Flatten)         multiple                  0         \n",
      "_________________________________________________________________\n",
      "dense_79 (Dense)             multiple                  3724      \n",
      "=================================================================\n",
      "Total params: 5,584\n",
      "Trainable params: 5,584\n",
      "Non-trainable params: 0\n",
      "_________________________________________________________________\n",
      "PointredictScresSet0[0] 272.68081831972484\n"
     ]
    },
    {
     "name": "stderr",
     "output_type": "stream",
     "text": [
      "D:\\anaconda\\lib\\site-packages\\optuna\\distributions.py:427: UserWarning:\n",
      "\n",
      "Choices for a categorical distribution should be a tuple of None, bool, int, float and str for persistent storage but contains <class 'tensorflow.python.keras.optimizer_v2.adam.Adam'> which is of type ABCMeta.\n",
      "\n",
      "\u001b[32m[I 2022-11-09 23:55:18,780]\u001b[0m Trial 80 finished with value: 272.85740619553275 and parameters: {'optimizer': <class 'tensorflow.python.keras.optimizer_v2.adam.Adam'>, 'units': 465, 'epochs': 80, 'batch_size': 32, 'learning_rate': 0.0012261502845218207}. Best is trial 76 with value: 272.5938197362607.\u001b[0m\n"
     ]
    },
    {
     "name": "stdout",
     "output_type": "stream",
     "text": [
      "Model: \"sequential_80\"\n",
      "_________________________________________________________________\n",
      "Layer (type)                 Output Shape              Param #   \n",
      "=================================================================\n",
      "conv1d_80 (Conv1D)           multiple                  1860      \n",
      "_________________________________________________________________\n",
      "max_pooling1d_80 (MaxPooling multiple                  0         \n",
      "_________________________________________________________________\n",
      "flatten_80 (Flatten)         multiple                  0         \n",
      "_________________________________________________________________\n",
      "dense_80 (Dense)             multiple                  3724      \n",
      "=================================================================\n",
      "Total params: 5,584\n",
      "Trainable params: 5,584\n",
      "Non-trainable params: 0\n",
      "_________________________________________________________________\n",
      "PointredictScresSet0[0] 272.85740619553275\n"
     ]
    },
    {
     "name": "stderr",
     "output_type": "stream",
     "text": [
      "D:\\anaconda\\lib\\site-packages\\optuna\\distributions.py:427: UserWarning:\n",
      "\n",
      "Choices for a categorical distribution should be a tuple of None, bool, int, float and str for persistent storage but contains <class 'tensorflow.python.keras.optimizer_v2.adam.Adam'> which is of type ABCMeta.\n",
      "\n",
      "\u001b[32m[I 2022-11-09 23:57:31,802]\u001b[0m Trial 81 finished with value: 273.0395001322783 and parameters: {'optimizer': <class 'tensorflow.python.keras.optimizer_v2.adam.Adam'>, 'units': 500, 'epochs': 80, 'batch_size': 32, 'learning_rate': 0.0012680409258218348}. Best is trial 76 with value: 272.5938197362607.\u001b[0m\n"
     ]
    },
    {
     "name": "stdout",
     "output_type": "stream",
     "text": [
      "Model: \"sequential_81\"\n",
      "_________________________________________________________________\n",
      "Layer (type)                 Output Shape              Param #   \n",
      "=================================================================\n",
      "conv1d_81 (Conv1D)           multiple                  2000      \n",
      "_________________________________________________________________\n",
      "max_pooling1d_81 (MaxPooling multiple                  0         \n",
      "_________________________________________________________________\n",
      "flatten_81 (Flatten)         multiple                  0         \n",
      "_________________________________________________________________\n",
      "dense_81 (Dense)             multiple                  4004      \n",
      "=================================================================\n",
      "Total params: 6,004\n",
      "Trainable params: 6,004\n",
      "Non-trainable params: 0\n",
      "_________________________________________________________________\n",
      "PointredictScresSet0[0] 273.0395001322783\n"
     ]
    },
    {
     "name": "stderr",
     "output_type": "stream",
     "text": [
      "D:\\anaconda\\lib\\site-packages\\optuna\\distributions.py:427: UserWarning:\n",
      "\n",
      "Choices for a categorical distribution should be a tuple of None, bool, int, float and str for persistent storage but contains <class 'tensorflow.python.keras.optimizer_v2.adam.Adam'> which is of type ABCMeta.\n",
      "\n",
      "\u001b[32m[I 2022-11-09 23:59:23,875]\u001b[0m Trial 82 finished with value: 272.75012045099373 and parameters: {'optimizer': <class 'tensorflow.python.keras.optimizer_v2.adam.Adam'>, 'units': 485, 'epochs': 80, 'batch_size': 32, 'learning_rate': 0.0011361081712557392}. Best is trial 76 with value: 272.5938197362607.\u001b[0m\n"
     ]
    },
    {
     "name": "stdout",
     "output_type": "stream",
     "text": [
      "Model: \"sequential_82\"\n",
      "_________________________________________________________________\n",
      "Layer (type)                 Output Shape              Param #   \n",
      "=================================================================\n",
      "conv1d_82 (Conv1D)           multiple                  1940      \n",
      "_________________________________________________________________\n",
      "max_pooling1d_82 (MaxPooling multiple                  0         \n",
      "_________________________________________________________________\n",
      "flatten_82 (Flatten)         multiple                  0         \n",
      "_________________________________________________________________\n",
      "dense_82 (Dense)             multiple                  3884      \n",
      "=================================================================\n",
      "Total params: 5,824\n",
      "Trainable params: 5,824\n",
      "Non-trainable params: 0\n",
      "_________________________________________________________________\n",
      "PointredictScresSet0[0] 272.75012045099373\n"
     ]
    },
    {
     "name": "stderr",
     "output_type": "stream",
     "text": [
      "D:\\anaconda\\lib\\site-packages\\optuna\\distributions.py:427: UserWarning:\n",
      "\n",
      "Choices for a categorical distribution should be a tuple of None, bool, int, float and str for persistent storage but contains <class 'tensorflow.python.keras.optimizer_v2.adam.Adam'> which is of type ABCMeta.\n",
      "\n",
      "\u001b[32m[I 2022-11-10 00:01:13,116]\u001b[0m Trial 83 finished with value: 272.8036107662547 and parameters: {'optimizer': <class 'tensorflow.python.keras.optimizer_v2.adam.Adam'>, 'units': 485, 'epochs': 80, 'batch_size': 32, 'learning_rate': 0.0010709059629423962}. Best is trial 76 with value: 272.5938197362607.\u001b[0m\n"
     ]
    },
    {
     "name": "stdout",
     "output_type": "stream",
     "text": [
      "Model: \"sequential_83\"\n",
      "_________________________________________________________________\n",
      "Layer (type)                 Output Shape              Param #   \n",
      "=================================================================\n",
      "conv1d_83 (Conv1D)           multiple                  1940      \n",
      "_________________________________________________________________\n",
      "max_pooling1d_83 (MaxPooling multiple                  0         \n",
      "_________________________________________________________________\n",
      "flatten_83 (Flatten)         multiple                  0         \n",
      "_________________________________________________________________\n",
      "dense_83 (Dense)             multiple                  3884      \n",
      "=================================================================\n",
      "Total params: 5,824\n",
      "Trainable params: 5,824\n",
      "Non-trainable params: 0\n",
      "_________________________________________________________________\n",
      "PointredictScresSet0[0] 272.8036107662547\n"
     ]
    },
    {
     "name": "stderr",
     "output_type": "stream",
     "text": [
      "D:\\anaconda\\lib\\site-packages\\optuna\\distributions.py:427: UserWarning:\n",
      "\n",
      "Choices for a categorical distribution should be a tuple of None, bool, int, float and str for persistent storage but contains <class 'tensorflow.python.keras.optimizer_v2.adam.Adam'> which is of type ABCMeta.\n",
      "\n",
      "\u001b[32m[I 2022-11-10 00:02:49,071]\u001b[0m Trial 84 finished with value: 274.73935072598886 and parameters: {'optimizer': <class 'tensorflow.python.keras.optimizer_v2.adam.Adam'>, 'units': 460, 'epochs': 90, 'batch_size': 256, 'learning_rate': 0.0011211085345924745}. Best is trial 76 with value: 272.5938197362607.\u001b[0m\n"
     ]
    },
    {
     "name": "stdout",
     "output_type": "stream",
     "text": [
      "Model: \"sequential_84\"\n",
      "_________________________________________________________________\n",
      "Layer (type)                 Output Shape              Param #   \n",
      "=================================================================\n",
      "conv1d_84 (Conv1D)           multiple                  1840      \n",
      "_________________________________________________________________\n",
      "max_pooling1d_84 (MaxPooling multiple                  0         \n",
      "_________________________________________________________________\n",
      "flatten_84 (Flatten)         multiple                  0         \n",
      "_________________________________________________________________\n",
      "dense_84 (Dense)             multiple                  3684      \n",
      "=================================================================\n",
      "Total params: 5,524\n",
      "Trainable params: 5,524\n",
      "Non-trainable params: 0\n",
      "_________________________________________________________________\n",
      "PointredictScresSet0[0] 274.73935072598886\n"
     ]
    },
    {
     "name": "stderr",
     "output_type": "stream",
     "text": [
      "D:\\anaconda\\lib\\site-packages\\optuna\\distributions.py:427: UserWarning:\n",
      "\n",
      "Choices for a categorical distribution should be a tuple of None, bool, int, float and str for persistent storage but contains <class 'tensorflow.python.keras.optimizer_v2.adam.Adam'> which is of type ABCMeta.\n",
      "\n",
      "\u001b[32m[I 2022-11-10 00:04:32,594]\u001b[0m Trial 85 finished with value: 272.7834197935548 and parameters: {'optimizer': <class 'tensorflow.python.keras.optimizer_v2.adam.Adam'>, 'units': 450, 'epochs': 80, 'batch_size': 32, 'learning_rate': 0.0010071272732152714}. Best is trial 76 with value: 272.5938197362607.\u001b[0m\n"
     ]
    },
    {
     "name": "stdout",
     "output_type": "stream",
     "text": [
      "Model: \"sequential_85\"\n",
      "_________________________________________________________________\n",
      "Layer (type)                 Output Shape              Param #   \n",
      "=================================================================\n",
      "conv1d_85 (Conv1D)           multiple                  1800      \n",
      "_________________________________________________________________\n",
      "max_pooling1d_85 (MaxPooling multiple                  0         \n",
      "_________________________________________________________________\n",
      "flatten_85 (Flatten)         multiple                  0         \n",
      "_________________________________________________________________\n",
      "dense_85 (Dense)             multiple                  3604      \n",
      "=================================================================\n",
      "Total params: 5,404\n",
      "Trainable params: 5,404\n",
      "Non-trainable params: 0\n",
      "_________________________________________________________________\n",
      "PointredictScresSet0[0] 272.7834197935548\n"
     ]
    },
    {
     "name": "stderr",
     "output_type": "stream",
     "text": [
      "D:\\anaconda\\lib\\site-packages\\optuna\\distributions.py:427: UserWarning:\n",
      "\n",
      "Choices for a categorical distribution should be a tuple of None, bool, int, float and str for persistent storage but contains <class 'tensorflow.python.keras.optimizer_v2.adam.Adam'> which is of type ABCMeta.\n",
      "\n",
      "\u001b[32m[I 2022-11-10 00:06:03,119]\u001b[0m Trial 86 finished with value: 274.84930524860806 and parameters: {'optimizer': <class 'tensorflow.python.keras.optimizer_v2.adam.Adam'>, 'units': 475, 'epochs': 90, 'batch_size': 512, 'learning_rate': 0.0017139325503742634}. Best is trial 76 with value: 272.5938197362607.\u001b[0m\n"
     ]
    },
    {
     "name": "stdout",
     "output_type": "stream",
     "text": [
      "Model: \"sequential_86\"\n",
      "_________________________________________________________________\n",
      "Layer (type)                 Output Shape              Param #   \n",
      "=================================================================\n",
      "conv1d_86 (Conv1D)           multiple                  1900      \n",
      "_________________________________________________________________\n",
      "max_pooling1d_86 (MaxPooling multiple                  0         \n",
      "_________________________________________________________________\n",
      "flatten_86 (Flatten)         multiple                  0         \n",
      "_________________________________________________________________\n",
      "dense_86 (Dense)             multiple                  3804      \n",
      "=================================================================\n",
      "Total params: 5,704\n",
      "Trainable params: 5,704\n",
      "Non-trainable params: 0\n",
      "_________________________________________________________________\n",
      "PointredictScresSet0[0] 274.84930524860806\n"
     ]
    },
    {
     "name": "stderr",
     "output_type": "stream",
     "text": [
      "D:\\anaconda\\lib\\site-packages\\optuna\\distributions.py:427: UserWarning:\n",
      "\n",
      "Choices for a categorical distribution should be a tuple of None, bool, int, float and str for persistent storage but contains <class 'tensorflow.python.keras.optimizer_v2.adam.Adam'> which is of type ABCMeta.\n",
      "\n",
      "\u001b[32m[I 2022-11-10 00:07:44,485]\u001b[0m Trial 87 finished with value: 272.97360886867136 and parameters: {'optimizer': <class 'tensorflow.python.keras.optimizer_v2.adam.Adam'>, 'units': 485, 'epochs': 80, 'batch_size': 32, 'learning_rate': 0.001646249742030302}. Best is trial 76 with value: 272.5938197362607.\u001b[0m\n"
     ]
    },
    {
     "name": "stdout",
     "output_type": "stream",
     "text": [
      "Model: \"sequential_87\"\n",
      "_________________________________________________________________\n",
      "Layer (type)                 Output Shape              Param #   \n",
      "=================================================================\n",
      "conv1d_87 (Conv1D)           multiple                  1940      \n",
      "_________________________________________________________________\n",
      "max_pooling1d_87 (MaxPooling multiple                  0         \n",
      "_________________________________________________________________\n",
      "flatten_87 (Flatten)         multiple                  0         \n",
      "_________________________________________________________________\n",
      "dense_87 (Dense)             multiple                  3884      \n",
      "=================================================================\n",
      "Total params: 5,824\n",
      "Trainable params: 5,824\n",
      "Non-trainable params: 0\n",
      "_________________________________________________________________\n",
      "PointredictScresSet0[0] 272.97360886867136\n"
     ]
    },
    {
     "name": "stderr",
     "output_type": "stream",
     "text": [
      "D:\\anaconda\\lib\\site-packages\\optuna\\distributions.py:427: UserWarning:\n",
      "\n",
      "Choices for a categorical distribution should be a tuple of None, bool, int, float and str for persistent storage but contains <class 'tensorflow.python.keras.optimizer_v2.adam.Adam'> which is of type ABCMeta.\n",
      "\n",
      "\u001b[32m[I 2022-11-10 00:09:33,389]\u001b[0m Trial 88 finished with value: 272.67145182159754 and parameters: {'optimizer': <class 'tensorflow.python.keras.optimizer_v2.adam.Adam'>, 'units': 470, 'epochs': 80, 'batch_size': 32, 'learning_rate': 0.0012015132557240773}. Best is trial 76 with value: 272.5938197362607.\u001b[0m\n"
     ]
    },
    {
     "name": "stdout",
     "output_type": "stream",
     "text": [
      "Model: \"sequential_88\"\n",
      "_________________________________________________________________\n",
      "Layer (type)                 Output Shape              Param #   \n",
      "=================================================================\n",
      "conv1d_88 (Conv1D)           multiple                  1880      \n",
      "_________________________________________________________________\n",
      "max_pooling1d_88 (MaxPooling multiple                  0         \n",
      "_________________________________________________________________\n",
      "flatten_88 (Flatten)         multiple                  0         \n",
      "_________________________________________________________________\n",
      "dense_88 (Dense)             multiple                  3764      \n",
      "=================================================================\n",
      "Total params: 5,644\n",
      "Trainable params: 5,644\n",
      "Non-trainable params: 0\n",
      "_________________________________________________________________\n",
      "PointredictScresSet0[0] 272.67145182159754\n"
     ]
    },
    {
     "name": "stderr",
     "output_type": "stream",
     "text": [
      "D:\\anaconda\\lib\\site-packages\\optuna\\distributions.py:427: UserWarning:\n",
      "\n",
      "Choices for a categorical distribution should be a tuple of None, bool, int, float and str for persistent storage but contains <class 'tensorflow.python.keras.optimizer_v2.adam.Adam'> which is of type ABCMeta.\n",
      "\n",
      "\u001b[32m[I 2022-11-10 00:12:13,267]\u001b[0m Trial 89 finished with value: 273.9795775718801 and parameters: {'optimizer': <class 'tensorflow.python.keras.optimizer_v2.adam.Adam'>, 'units': 465, 'epochs': 80, 'batch_size': 8, 'learning_rate': 0.0015347985763869442}. Best is trial 76 with value: 272.5938197362607.\u001b[0m\n"
     ]
    },
    {
     "name": "stdout",
     "output_type": "stream",
     "text": [
      "Model: \"sequential_89\"\n",
      "_________________________________________________________________\n",
      "Layer (type)                 Output Shape              Param #   \n",
      "=================================================================\n",
      "conv1d_89 (Conv1D)           multiple                  1860      \n",
      "_________________________________________________________________\n",
      "max_pooling1d_89 (MaxPooling multiple                  0         \n",
      "_________________________________________________________________\n",
      "flatten_89 (Flatten)         multiple                  0         \n",
      "_________________________________________________________________\n",
      "dense_89 (Dense)             multiple                  3724      \n",
      "=================================================================\n",
      "Total params: 5,584\n",
      "Trainable params: 5,584\n",
      "Non-trainable params: 0\n",
      "_________________________________________________________________\n",
      "PointredictScresSet0[0] 273.9795775718801\n"
     ]
    },
    {
     "name": "stderr",
     "output_type": "stream",
     "text": [
      "D:\\anaconda\\lib\\site-packages\\optuna\\distributions.py:427: UserWarning:\n",
      "\n",
      "Choices for a categorical distribution should be a tuple of None, bool, int, float and str for persistent storage but contains <class 'tensorflow.python.keras.optimizer_v2.adam.Adam'> which is of type ABCMeta.\n",
      "\n",
      "\u001b[32m[I 2022-11-10 00:13:57,442]\u001b[0m Trial 90 finished with value: 272.841219122286 and parameters: {'optimizer': <class 'tensorflow.python.keras.optimizer_v2.adam.Adam'>, 'units': 500, 'epochs': 90, 'batch_size': 32, 'learning_rate': 0.0013198548174432104}. Best is trial 76 with value: 272.5938197362607.\u001b[0m\n"
     ]
    },
    {
     "name": "stdout",
     "output_type": "stream",
     "text": [
      "Model: \"sequential_90\"\n",
      "_________________________________________________________________\n",
      "Layer (type)                 Output Shape              Param #   \n",
      "=================================================================\n",
      "conv1d_90 (Conv1D)           multiple                  2000      \n",
      "_________________________________________________________________\n",
      "max_pooling1d_90 (MaxPooling multiple                  0         \n",
      "_________________________________________________________________\n",
      "flatten_90 (Flatten)         multiple                  0         \n",
      "_________________________________________________________________\n",
      "dense_90 (Dense)             multiple                  4004      \n",
      "=================================================================\n",
      "Total params: 6,004\n",
      "Trainable params: 6,004\n",
      "Non-trainable params: 0\n",
      "_________________________________________________________________\n",
      "PointredictScresSet0[0] 272.841219122286\n"
     ]
    },
    {
     "name": "stderr",
     "output_type": "stream",
     "text": [
      "D:\\anaconda\\lib\\site-packages\\optuna\\distributions.py:427: UserWarning:\n",
      "\n",
      "Choices for a categorical distribution should be a tuple of None, bool, int, float and str for persistent storage but contains <class 'tensorflow.python.keras.optimizer_v2.adam.Adam'> which is of type ABCMeta.\n",
      "\n",
      "\u001b[32m[I 2022-11-10 00:15:26,840]\u001b[0m Trial 91 finished with value: 272.68557493709494 and parameters: {'optimizer': <class 'tensorflow.python.keras.optimizer_v2.adam.Adam'>, 'units': 445, 'epochs': 80, 'batch_size': 32, 'learning_rate': 0.001122207632730093}. Best is trial 76 with value: 272.5938197362607.\u001b[0m\n"
     ]
    },
    {
     "name": "stdout",
     "output_type": "stream",
     "text": [
      "Model: \"sequential_91\"\n",
      "_________________________________________________________________\n",
      "Layer (type)                 Output Shape              Param #   \n",
      "=================================================================\n",
      "conv1d_91 (Conv1D)           multiple                  1780      \n",
      "_________________________________________________________________\n",
      "max_pooling1d_91 (MaxPooling multiple                  0         \n",
      "_________________________________________________________________\n",
      "flatten_91 (Flatten)         multiple                  0         \n",
      "_________________________________________________________________\n",
      "dense_91 (Dense)             multiple                  3564      \n",
      "=================================================================\n",
      "Total params: 5,344\n",
      "Trainable params: 5,344\n",
      "Non-trainable params: 0\n",
      "_________________________________________________________________\n",
      "PointredictScresSet0[0] 272.68557493709494\n"
     ]
    },
    {
     "name": "stderr",
     "output_type": "stream",
     "text": [
      "D:\\anaconda\\lib\\site-packages\\optuna\\distributions.py:427: UserWarning:\n",
      "\n",
      "Choices for a categorical distribution should be a tuple of None, bool, int, float and str for persistent storage but contains <class 'tensorflow.python.keras.optimizer_v2.adam.Adam'> which is of type ABCMeta.\n",
      "\n",
      "\u001b[32m[I 2022-11-10 00:16:59,433]\u001b[0m Trial 92 finished with value: 272.799093311439 and parameters: {'optimizer': <class 'tensorflow.python.keras.optimizer_v2.adam.Adam'>, 'units': 470, 'epochs': 80, 'batch_size': 32, 'learning_rate': 0.0011598764868114486}. Best is trial 76 with value: 272.5938197362607.\u001b[0m\n"
     ]
    },
    {
     "name": "stdout",
     "output_type": "stream",
     "text": [
      "Model: \"sequential_92\"\n",
      "_________________________________________________________________\n",
      "Layer (type)                 Output Shape              Param #   \n",
      "=================================================================\n",
      "conv1d_92 (Conv1D)           multiple                  1880      \n",
      "_________________________________________________________________\n",
      "max_pooling1d_92 (MaxPooling multiple                  0         \n",
      "_________________________________________________________________\n",
      "flatten_92 (Flatten)         multiple                  0         \n",
      "_________________________________________________________________\n",
      "dense_92 (Dense)             multiple                  3764      \n",
      "=================================================================\n",
      "Total params: 5,644\n",
      "Trainable params: 5,644\n",
      "Non-trainable params: 0\n",
      "_________________________________________________________________\n",
      "PointredictScresSet0[0] 272.799093311439\n"
     ]
    },
    {
     "name": "stderr",
     "output_type": "stream",
     "text": [
      "D:\\anaconda\\lib\\site-packages\\optuna\\distributions.py:427: UserWarning:\n",
      "\n",
      "Choices for a categorical distribution should be a tuple of None, bool, int, float and str for persistent storage but contains <class 'tensorflow.python.keras.optimizer_v2.adam.Adam'> which is of type ABCMeta.\n",
      "\n",
      "\u001b[32m[I 2022-11-10 00:18:25,158]\u001b[0m Trial 93 finished with value: 272.89181194089656 and parameters: {'optimizer': <class 'tensorflow.python.keras.optimizer_v2.adam.Adam'>, 'units': 455, 'epochs': 80, 'batch_size': 32, 'learning_rate': 0.0015109109995749173}. Best is trial 76 with value: 272.5938197362607.\u001b[0m\n"
     ]
    },
    {
     "name": "stdout",
     "output_type": "stream",
     "text": [
      "Model: \"sequential_93\"\n",
      "_________________________________________________________________\n",
      "Layer (type)                 Output Shape              Param #   \n",
      "=================================================================\n",
      "conv1d_93 (Conv1D)           multiple                  1820      \n",
      "_________________________________________________________________\n",
      "max_pooling1d_93 (MaxPooling multiple                  0         \n",
      "_________________________________________________________________\n",
      "flatten_93 (Flatten)         multiple                  0         \n",
      "_________________________________________________________________\n",
      "dense_93 (Dense)             multiple                  3644      \n",
      "=================================================================\n",
      "Total params: 5,464\n",
      "Trainable params: 5,464\n",
      "Non-trainable params: 0\n",
      "_________________________________________________________________\n",
      "PointredictScresSet0[0] 272.89181194089656\n"
     ]
    },
    {
     "name": "stderr",
     "output_type": "stream",
     "text": [
      "D:\\anaconda\\lib\\site-packages\\optuna\\distributions.py:427: UserWarning:\n",
      "\n",
      "Choices for a categorical distribution should be a tuple of None, bool, int, float and str for persistent storage but contains <class 'tensorflow.python.keras.optimizer_v2.adam.Adam'> which is of type ABCMeta.\n",
      "\n",
      "\u001b[32m[I 2022-11-10 00:19:56,146]\u001b[0m Trial 94 finished with value: 272.7775499431637 and parameters: {'optimizer': <class 'tensorflow.python.keras.optimizer_v2.adam.Adam'>, 'units': 490, 'epochs': 90, 'batch_size': 32, 'learning_rate': 0.0017611261729618911}. Best is trial 76 with value: 272.5938197362607.\u001b[0m\n"
     ]
    },
    {
     "name": "stdout",
     "output_type": "stream",
     "text": [
      "Model: \"sequential_94\"\n",
      "_________________________________________________________________\n",
      "Layer (type)                 Output Shape              Param #   \n",
      "=================================================================\n",
      "conv1d_94 (Conv1D)           multiple                  1960      \n",
      "_________________________________________________________________\n",
      "max_pooling1d_94 (MaxPooling multiple                  0         \n",
      "_________________________________________________________________\n",
      "flatten_94 (Flatten)         multiple                  0         \n",
      "_________________________________________________________________\n",
      "dense_94 (Dense)             multiple                  3924      \n",
      "=================================================================\n",
      "Total params: 5,884\n",
      "Trainable params: 5,884\n",
      "Non-trainable params: 0\n",
      "_________________________________________________________________\n",
      "PointredictScresSet0[0] 272.7775499431637\n"
     ]
    },
    {
     "name": "stderr",
     "output_type": "stream",
     "text": [
      "D:\\anaconda\\lib\\site-packages\\optuna\\distributions.py:427: UserWarning:\n",
      "\n",
      "Choices for a categorical distribution should be a tuple of None, bool, int, float and str for persistent storage but contains <class 'tensorflow.python.keras.optimizer_v2.adam.Adam'> which is of type ABCMeta.\n",
      "\n",
      "\u001b[32m[I 2022-11-10 00:21:25,951]\u001b[0m Trial 95 finished with value: 272.7608543110156 and parameters: {'optimizer': <class 'tensorflow.python.keras.optimizer_v2.adam.Adam'>, 'units': 480, 'epochs': 80, 'batch_size': 32, 'learning_rate': 0.0011362993052648719}. Best is trial 76 with value: 272.5938197362607.\u001b[0m\n"
     ]
    },
    {
     "name": "stdout",
     "output_type": "stream",
     "text": [
      "Model: \"sequential_95\"\n",
      "_________________________________________________________________\n",
      "Layer (type)                 Output Shape              Param #   \n",
      "=================================================================\n",
      "conv1d_95 (Conv1D)           multiple                  1920      \n",
      "_________________________________________________________________\n",
      "max_pooling1d_95 (MaxPooling multiple                  0         \n",
      "_________________________________________________________________\n",
      "flatten_95 (Flatten)         multiple                  0         \n",
      "_________________________________________________________________\n",
      "dense_95 (Dense)             multiple                  3844      \n",
      "=================================================================\n",
      "Total params: 5,764\n",
      "Trainable params: 5,764\n",
      "Non-trainable params: 0\n",
      "_________________________________________________________________\n",
      "PointredictScresSet0[0] 272.7608543110156\n"
     ]
    },
    {
     "name": "stderr",
     "output_type": "stream",
     "text": [
      "D:\\anaconda\\lib\\site-packages\\optuna\\distributions.py:427: UserWarning:\n",
      "\n",
      "Choices for a categorical distribution should be a tuple of None, bool, int, float and str for persistent storage but contains <class 'tensorflow.python.keras.optimizer_v2.adam.Adam'> which is of type ABCMeta.\n",
      "\n",
      "\u001b[32m[I 2022-11-10 00:22:55,718]\u001b[0m Trial 96 finished with value: 272.772467181345 and parameters: {'optimizer': <class 'tensorflow.python.keras.optimizer_v2.adam.Adam'>, 'units': 460, 'epochs': 90, 'batch_size': 32, 'learning_rate': 0.0013670413806030103}. Best is trial 76 with value: 272.5938197362607.\u001b[0m\n"
     ]
    },
    {
     "name": "stdout",
     "output_type": "stream",
     "text": [
      "Model: \"sequential_96\"\n",
      "_________________________________________________________________\n",
      "Layer (type)                 Output Shape              Param #   \n",
      "=================================================================\n",
      "conv1d_96 (Conv1D)           multiple                  1840      \n",
      "_________________________________________________________________\n",
      "max_pooling1d_96 (MaxPooling multiple                  0         \n",
      "_________________________________________________________________\n",
      "flatten_96 (Flatten)         multiple                  0         \n",
      "_________________________________________________________________\n",
      "dense_96 (Dense)             multiple                  3684      \n",
      "=================================================================\n",
      "Total params: 5,524\n",
      "Trainable params: 5,524\n",
      "Non-trainable params: 0\n",
      "_________________________________________________________________\n",
      "PointredictScresSet0[0] 272.772467181345\n"
     ]
    },
    {
     "name": "stderr",
     "output_type": "stream",
     "text": [
      "D:\\anaconda\\lib\\site-packages\\optuna\\distributions.py:427: UserWarning:\n",
      "\n",
      "Choices for a categorical distribution should be a tuple of None, bool, int, float and str for persistent storage but contains <class 'tensorflow.python.keras.optimizer_v2.adam.Adam'> which is of type ABCMeta.\n",
      "\n",
      "\u001b[32m[I 2022-11-10 00:24:20,609]\u001b[0m Trial 97 finished with value: 542.8228349752999 and parameters: {'optimizer': <class 'tensorflow.python.keras.optimizer_v2.adam.Adam'>, 'units': 445, 'epochs': 80, 'batch_size': 64, 'learning_rate': 0.2648469299359877}. Best is trial 76 with value: 272.5938197362607.\u001b[0m\n"
     ]
    },
    {
     "name": "stdout",
     "output_type": "stream",
     "text": [
      "Model: \"sequential_97\"\n",
      "_________________________________________________________________\n",
      "Layer (type)                 Output Shape              Param #   \n",
      "=================================================================\n",
      "conv1d_97 (Conv1D)           multiple                  1780      \n",
      "_________________________________________________________________\n",
      "max_pooling1d_97 (MaxPooling multiple                  0         \n",
      "_________________________________________________________________\n",
      "flatten_97 (Flatten)         multiple                  0         \n",
      "_________________________________________________________________\n",
      "dense_97 (Dense)             multiple                  3564      \n",
      "=================================================================\n",
      "Total params: 5,344\n",
      "Trainable params: 5,344\n",
      "Non-trainable params: 0\n",
      "_________________________________________________________________\n",
      "PointredictScresSet0[0] 542.8228349752999\n"
     ]
    },
    {
     "name": "stderr",
     "output_type": "stream",
     "text": [
      "D:\\anaconda\\lib\\site-packages\\optuna\\distributions.py:427: UserWarning:\n",
      "\n",
      "Choices for a categorical distribution should be a tuple of None, bool, int, float and str for persistent storage but contains <class 'tensorflow.python.keras.optimizer_v2.adam.Adam'> which is of type ABCMeta.\n",
      "\n",
      "\u001b[32m[I 2022-11-10 00:25:30,085]\u001b[0m Trial 98 finished with value: 274.5045205006472 and parameters: {'optimizer': <class 'tensorflow.python.keras.optimizer_v2.adam.Adam'>, 'units': 140, 'epochs': 90, 'batch_size': 128, 'learning_rate': 0.001010190167996662}. Best is trial 76 with value: 272.5938197362607.\u001b[0m\n"
     ]
    },
    {
     "name": "stdout",
     "output_type": "stream",
     "text": [
      "Model: \"sequential_98\"\n",
      "_________________________________________________________________\n",
      "Layer (type)                 Output Shape              Param #   \n",
      "=================================================================\n",
      "conv1d_98 (Conv1D)           multiple                  560       \n",
      "_________________________________________________________________\n",
      "max_pooling1d_98 (MaxPooling multiple                  0         \n",
      "_________________________________________________________________\n",
      "flatten_98 (Flatten)         multiple                  0         \n",
      "_________________________________________________________________\n",
      "dense_98 (Dense)             multiple                  1124      \n",
      "=================================================================\n",
      "Total params: 1,684\n",
      "Trainable params: 1,684\n",
      "Non-trainable params: 0\n",
      "_________________________________________________________________\n",
      "PointredictScresSet0[0] 274.5045205006472\n"
     ]
    },
    {
     "name": "stderr",
     "output_type": "stream",
     "text": [
      "D:\\anaconda\\lib\\site-packages\\optuna\\distributions.py:427: UserWarning:\n",
      "\n",
      "Choices for a categorical distribution should be a tuple of None, bool, int, float and str for persistent storage but contains <class 'tensorflow.python.keras.optimizer_v2.adam.Adam'> which is of type ABCMeta.\n",
      "\n",
      "\u001b[32m[I 2022-11-10 00:26:56,943]\u001b[0m Trial 99 finished with value: 273.05810799754664 and parameters: {'optimizer': <class 'tensorflow.python.keras.optimizer_v2.adam.Adam'>, 'units': 470, 'epochs': 80, 'batch_size': 32, 'learning_rate': 0.0024149281658197353}. Best is trial 76 with value: 272.5938197362607.\u001b[0m\n"
     ]
    },
    {
     "name": "stdout",
     "output_type": "stream",
     "text": [
      "Model: \"sequential_99\"\n",
      "_________________________________________________________________\n",
      "Layer (type)                 Output Shape              Param #   \n",
      "=================================================================\n",
      "conv1d_99 (Conv1D)           multiple                  1880      \n",
      "_________________________________________________________________\n",
      "max_pooling1d_99 (MaxPooling multiple                  0         \n",
      "_________________________________________________________________\n",
      "flatten_99 (Flatten)         multiple                  0         \n",
      "_________________________________________________________________\n",
      "dense_99 (Dense)             multiple                  3764      \n",
      "=================================================================\n",
      "Total params: 5,644\n",
      "Trainable params: 5,644\n",
      "Non-trainable params: 0\n",
      "_________________________________________________________________\n",
      "PointredictScresSet0[0] 273.05810799754664\n",
      "Wall time: 3h 17min 11s\n"
     ]
    },
    {
     "data": {
      "image/png": "[encoded data removed]",
      "text/plain": [
       "<Figure size 432x288 with 1 Axes>"
      ]
     },
     "metadata": {
      "needs_background": "light"
     },
     "output_type": "display_data"
    }
   ],
   "source": [
    "%%time\n",
    "study = optuna.create_study(direction='minimize')\n",
    "study.optimize(run, n_trials=100)"
   ]
  },
  {
   "cell_type": "code",
   "execution_count": 26,
   "metadata": {},
   "outputs": [
    {
     "data": {
      "text/plain": [
       "{'batch_size': 32,\n",
       " 'epochs': 80,\n",
       " 'learning_rate': 0.0012798558717290274,\n",
       " 'optimizer': tensorflow.python.keras.optimizer_v2.adam.Adam,\n",
       " 'units': 490}"
      ]
     },
     "execution_count": 26,
     "metadata": {},
     "output_type": "execute_result"
    }
   ],
   "source": [
    "best_params = study.best_params\n",
    "best_params"
   ]
  },
  {
   "cell_type": "code",
   "execution_count": 27,
   "metadata": {},
   "outputs": [
    {
     "data": {
      "text/plain": [
       "272.5938197362607"
      ]
     },
     "execution_count": 27,
     "metadata": {},
     "output_type": "execute_result"
    }
   ],
   "source": [
    "best_value=study.best_value\n",
    "best_value"
   ]
  },
  {
   "cell_type": "code",
   "execution_count": 28,
   "metadata": {},
   "outputs": [
    {
     "data": {
      "text/html": [
       "<div>\n",
       "<style scoped>\n",
       "    .dataframe tbody tr th:only-of-type {\n",
       "        vertical-align: middle;\n",
       "    }\n",
       "\n",
       "    .dataframe tbody tr th {\n",
       "        vertical-align: top;\n",
       "    }\n",
       "\n",
       "    .dataframe thead th {\n",
       "        text-align: right;\n",
       "    }\n",
       "</style>\n",
       "<table border=\"1\" class=\"dataframe\">\n",
       "  <thead>\n",
       "    <tr style=\"text-align: right;\">\n",
       "      <th></th>\n",
       "      <th>number</th>\n",
       "      <th>value</th>\n",
       "      <th>params_batch_size</th>\n",
       "      <th>params_epochs</th>\n",
       "      <th>params_learning_rate</th>\n",
       "      <th>params_optimizer</th>\n",
       "      <th>params_units</th>\n",
       "      <th>state</th>\n",
       "    </tr>\n",
       "  </thead>\n",
       "  <tbody>\n",
       "    <tr>\n",
       "      <th>0</th>\n",
       "      <td>0</td>\n",
       "      <td>539.476772</td>\n",
       "      <td>256</td>\n",
       "      <td>100</td>\n",
       "      <td>0.529680</td>\n",
       "      <td>&lt;class 'tensorflow.python.keras.optimizer_v2.a...</td>\n",
       "      <td>25</td>\n",
       "      <td>COMPLETE</td>\n",
       "    </tr>\n",
       "    <tr>\n",
       "      <th>1</th>\n",
       "      <td>1</td>\n",
       "      <td>276.129242</td>\n",
       "      <td>512</td>\n",
       "      <td>100</td>\n",
       "      <td>0.017390</td>\n",
       "      <td>&lt;class 'tensorflow.python.keras.optimizer_v2.a...</td>\n",
       "      <td>160</td>\n",
       "      <td>COMPLETE</td>\n",
       "    </tr>\n",
       "    <tr>\n",
       "      <th>2</th>\n",
       "      <td>2</td>\n",
       "      <td>310.134771</td>\n",
       "      <td>8</td>\n",
       "      <td>70</td>\n",
       "      <td>0.034777</td>\n",
       "      <td>&lt;class 'tensorflow.python.keras.optimizer_v2.a...</td>\n",
       "      <td>35</td>\n",
       "      <td>COMPLETE</td>\n",
       "    </tr>\n",
       "    <tr>\n",
       "      <th>3</th>\n",
       "      <td>3</td>\n",
       "      <td>538.888954</td>\n",
       "      <td>512</td>\n",
       "      <td>20</td>\n",
       "      <td>0.352208</td>\n",
       "      <td>&lt;class 'tensorflow.python.keras.optimizer_v2.a...</td>\n",
       "      <td>240</td>\n",
       "      <td>COMPLETE</td>\n",
       "    </tr>\n",
       "    <tr>\n",
       "      <th>4</th>\n",
       "      <td>4</td>\n",
       "      <td>621.175808</td>\n",
       "      <td>32</td>\n",
       "      <td>70</td>\n",
       "      <td>0.331597</td>\n",
       "      <td>&lt;class 'tensorflow.python.keras.optimizer_v2.a...</td>\n",
       "      <td>65</td>\n",
       "      <td>COMPLETE</td>\n",
       "    </tr>\n",
       "    <tr>\n",
       "      <th>...</th>\n",
       "      <td>...</td>\n",
       "      <td>...</td>\n",
       "      <td>...</td>\n",
       "      <td>...</td>\n",
       "      <td>...</td>\n",
       "      <td>...</td>\n",
       "      <td>...</td>\n",
       "      <td>...</td>\n",
       "    </tr>\n",
       "    <tr>\n",
       "      <th>95</th>\n",
       "      <td>95</td>\n",
       "      <td>272.760854</td>\n",
       "      <td>32</td>\n",
       "      <td>80</td>\n",
       "      <td>0.001136</td>\n",
       "      <td>&lt;class 'tensorflow.python.keras.optimizer_v2.a...</td>\n",
       "      <td>480</td>\n",
       "      <td>COMPLETE</td>\n",
       "    </tr>\n",
       "    <tr>\n",
       "      <th>96</th>\n",
       "      <td>96</td>\n",
       "      <td>272.772467</td>\n",
       "      <td>32</td>\n",
       "      <td>90</td>\n",
       "      <td>0.001367</td>\n",
       "      <td>&lt;class 'tensorflow.python.keras.optimizer_v2.a...</td>\n",
       "      <td>460</td>\n",
       "      <td>COMPLETE</td>\n",
       "    </tr>\n",
       "    <tr>\n",
       "      <th>97</th>\n",
       "      <td>97</td>\n",
       "      <td>542.822835</td>\n",
       "      <td>64</td>\n",
       "      <td>80</td>\n",
       "      <td>0.264847</td>\n",
       "      <td>&lt;class 'tensorflow.python.keras.optimizer_v2.a...</td>\n",
       "      <td>445</td>\n",
       "      <td>COMPLETE</td>\n",
       "    </tr>\n",
       "    <tr>\n",
       "      <th>98</th>\n",
       "      <td>98</td>\n",
       "      <td>274.504521</td>\n",
       "      <td>128</td>\n",
       "      <td>90</td>\n",
       "      <td>0.001010</td>\n",
       "      <td>&lt;class 'tensorflow.python.keras.optimizer_v2.a...</td>\n",
       "      <td>140</td>\n",
       "      <td>COMPLETE</td>\n",
       "    </tr>\n",
       "    <tr>\n",
       "      <th>99</th>\n",
       "      <td>99</td>\n",
       "      <td>273.058108</td>\n",
       "      <td>32</td>\n",
       "      <td>80</td>\n",
       "      <td>0.002415</td>\n",
       "      <td>&lt;class 'tensorflow.python.keras.optimizer_v2.a...</td>\n",
       "      <td>470</td>\n",
       "      <td>COMPLETE</td>\n",
       "    </tr>\n",
       "  </tbody>\n",
       "</table>\n",
       "<p>100 rows × 8 columns</p>\n",
       "</div>"
      ],
      "text/plain": [
       "    number       value  params_batch_size  params_epochs  \\\n",
       "0        0  539.476772                256            100   \n",
       "1        1  276.129242                512            100   \n",
       "2        2  310.134771                  8             70   \n",
       "3        3  538.888954                512             20   \n",
       "4        4  621.175808                 32             70   \n",
       "..     ...         ...                ...            ...   \n",
       "95      95  272.760854                 32             80   \n",
       "96      96  272.772467                 32             90   \n",
       "97      97  542.822835                 64             80   \n",
       "98      98  274.504521                128             90   \n",
       "99      99  273.058108                 32             80   \n",
       "\n",
       "    params_learning_rate                                   params_optimizer  \\\n",
       "0               0.529680  <class 'tensorflow.python.keras.optimizer_v2.a...   \n",
       "1               0.017390  <class 'tensorflow.python.keras.optimizer_v2.a...   \n",
       "2               0.034777  <class 'tensorflow.python.keras.optimizer_v2.a...   \n",
       "3               0.352208  <class 'tensorflow.python.keras.optimizer_v2.a...   \n",
       "4               0.331597  <class 'tensorflow.python.keras.optimizer_v2.a...   \n",
       "..                   ...                                                ...   \n",
       "95              0.001136  <class 'tensorflow.python.keras.optimizer_v2.a...   \n",
       "96              0.001367  <class 'tensorflow.python.keras.optimizer_v2.a...   \n",
       "97              0.264847  <class 'tensorflow.python.keras.optimizer_v2.a...   \n",
       "98              0.001010  <class 'tensorflow.python.keras.optimizer_v2.a...   \n",
       "99              0.002415  <class 'tensorflow.python.keras.optimizer_v2.a...   \n",
       "\n",
       "    params_units     state  \n",
       "0             25  COMPLETE  \n",
       "1            160  COMPLETE  \n",
       "2             35  COMPLETE  \n",
       "3            240  COMPLETE  \n",
       "4             65  COMPLETE  \n",
       "..           ...       ...  \n",
       "95           480  COMPLETE  \n",
       "96           460  COMPLETE  \n",
       "97           445  COMPLETE  \n",
       "98           140  COMPLETE  \n",
       "99           470  COMPLETE  \n",
       "\n",
       "[100 rows x 8 columns]"
      ]
     },
     "metadata": {},
     "output_type": "display_data"
    }
   ],
   "source": [
    "df = study.trials_dataframe(attrs=('number', 'value', 'params', 'state'))\n",
    "display(df)\n",
    "df.to_csv('490_CNN_q=点预测_100次tail_无Dropout层的超参数确定实验结果.csv')"
   ]
  },
  {
   "cell_type": "code",
   "execution_count": 29,
   "metadata": {},
   "outputs": [
    {
     "name": "stderr",
     "output_type": "stream",
     "text": [
      "D:\\anaconda\\lib\\site-packages\\ipykernel_launcher.py:1: ExperimentalWarning:\n",
      "\n",
      "plot_optimization_history is experimental (supported from v2.2.0). The interface can change in the future.\n",
      "\n"
     ]
    },
    {
     "data": {
      "image/png": "[encoded data removed]",
      "text/plain": [
       "<Figure size 432x288 with 1 Axes>"
      ]
     },
     "metadata": {},
     "output_type": "display_data"
    }
   ],
   "source": [
    "plot_optimization_history(study);"
   ]
  },
  {
   "cell_type": "code",
   "execution_count": 30,
   "metadata": {},
   "outputs": [
    {
     "name": "stderr",
     "output_type": "stream",
     "text": [
      "D:\\anaconda\\lib\\site-packages\\ipykernel_launcher.py:1: ExperimentalWarning:\n",
      "\n",
      "plot_param_importances is experimental (supported from v2.2.0). The interface can change in the future.\n",
      "\n"
     ]
    },
    {
     "data": {
      "image/png": "[encoded data removed]",
      "text/plain": [
       "<Figure size 432x288 with 1 Axes>"
      ]
     },
     "metadata": {},
     "output_type": "display_data"
    }
   ],
   "source": [
    "plot_param_importances(study);"
   ]
  }
 ],
 "metadata": {
  "kernelspec": {
   "display_name": "Python 3",
   "language": "python",
   "name": "python3"
  },
  "language_info": {
   "codemirror_mode": {
    "name": "ipython",
    "version": 3
   },
   "file_extension": ".py",
   "mimetype": "text/x-python",
   "name": "python",
   "nbconvert_exporter": "python",
   "pygments_lexer": "ipython3",
   "version": "3.6.4"
  },
  "toc": {
   "base_numbering": 1,
   "nav_menu": {},
   "number_sections": true,
   "sideBar": true,
   "skip_h1_title": false,
   "title_cell": "Table of Contents",
   "title_sidebar": "Contents",
   "toc_cell": false,
   "toc_position": {
    "height": "399px",
    "left": "29px",
    "top": "110.363px",
    "width": "166px"
   },
   "toc_section_display": true,
   "toc_window_display": true
  }
 },
 "nbformat": 4,
 "nbformat_minor": 2
}
