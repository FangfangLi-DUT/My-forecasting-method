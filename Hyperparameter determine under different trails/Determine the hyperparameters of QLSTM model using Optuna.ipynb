{
 "cells": [
  {
   "cell_type": "markdown",
   "metadata": {},
   "source": [
    "# Import Package"
   ]
  },
  {
   "cell_type": "code",
   "execution_count": 1,
   "metadata": {},
   "outputs": [
    {
     "name": "stderr",
     "output_type": "stream",
     "text": [
      "\n",
      "Bad key \"nbagg.transparent\" on line 426 in\n",
      "D:\\anaconda\\lib\\site-packages\\matplotlib\\mpl-data\\stylelib\\_classic_test.mplstyle.\n",
      "You probably need to get an updated matplotlibrc file from\n",
      "https://github.com/matplotlib/matplotlib/blob/v3.2.2/matplotlibrc.template\n",
      "or from the matplotlib source distribution\n",
      "\n",
      "Bad key \"animation.mencoder_path\" on line 509 in\n",
      "D:\\anaconda\\lib\\site-packages\\matplotlib\\mpl-data\\stylelib\\_classic_test.mplstyle.\n",
      "You probably need to get an updated matplotlibrc file from\n",
      "https://github.com/matplotlib/matplotlib/blob/v3.2.2/matplotlibrc.template\n",
      "or from the matplotlib source distribution\n",
      "\n",
      "Bad key \"animation.mencoder_args\" on line 512 in\n",
      "D:\\anaconda\\lib\\site-packages\\matplotlib\\mpl-data\\stylelib\\_classic_test.mplstyle.\n",
      "You probably need to get an updated matplotlibrc file from\n",
      "https://github.com/matplotlib/matplotlib/blob/v3.2.2/matplotlibrc.template\n",
      "or from the matplotlib source distribution\n",
      "In D:\\anaconda\\lib\\site-packages\\matplotlib\\mpl-data\\stylelib\\_classic_test.mplstyle: \n",
      "The text.latex.unicode rcparam was deprecated in Matplotlib 3.0 and will be removed in 3.2.\n",
      "In D:\\anaconda\\lib\\site-packages\\matplotlib\\mpl-data\\stylelib\\_classic_test.mplstyle: \n",
      "The savefig.frameon rcparam was deprecated in Matplotlib 3.1 and will be removed in 3.3.\n",
      "In D:\\anaconda\\lib\\site-packages\\matplotlib\\mpl-data\\stylelib\\_classic_test.mplstyle: \n",
      "The pgf.debug rcparam was deprecated in Matplotlib 3.0 and will be removed in 3.2.\n",
      "In D:\\anaconda\\lib\\site-packages\\matplotlib\\mpl-data\\stylelib\\_classic_test.mplstyle: \n",
      "The verbose.level rcparam was deprecated in Matplotlib 3.1 and will be removed in 3.3.\n",
      "In D:\\anaconda\\lib\\site-packages\\matplotlib\\mpl-data\\stylelib\\_classic_test.mplstyle: \n",
      "The verbose.fileo rcparam was deprecated in Matplotlib 3.1 and will be removed in 3.3.\n",
      "Using TensorFlow backend.\n"
     ]
    }
   ],
   "source": [
    "import numpy as np\n",
    "from numpy import nan\n",
    "from numpy import isnan\n",
    "from numpy import split\n",
    "from numpy import array\n",
    "from numpy import concatenate\n",
    "\n",
    "import pandas as pd\n",
    "from pandas import read_csv\n",
    "from pandas import DataFrame\n",
    "from pandas import concat\n",
    "\n",
    "import matplotlib.pyplot as plt\n",
    "from matplotlib import pyplot\n",
    "from pylab import *\n",
    "plt.rcParams['font.sans-serif'] = ['SimHei']\n",
    "\n",
    "import math\n",
    "from math import sqrt\n",
    "\n",
    "import re\n",
    "import tqdm\n",
    "import random\n",
    "import os\n",
    "import itertools\n",
    "import argparse\n",
    "import joblib\n",
    "import xlrd\n",
    "from collections import defaultdict\n",
    "import copy\n",
    "\n",
    "from sklearn.metrics import mean_squared_log_error\n",
    "from sklearn.metrics import mean_squared_error\n",
    "from sklearn.preprocessing import LabelEncoder\n",
    "from sklearn.cluster import KMeans\n",
    "from sklearn import datasets\n",
    "\n",
    "import tensorflow as tf\n",
    "from tensorflow.keras.layers import *\n",
    "from tensorflow.keras.models import *\n",
    "import tensorflow.keras.backend as K\n",
    "from tensorflow.keras import optimizers\n",
    "\n",
    "import datetime\n",
    "import calendar\n",
    "import time\n",
    "from datetime import date,datetime\n",
    "\n",
    "import xgboost as xgb\n",
    "from xgboost import plot_importance, plot_tree\n",
    "\n",
    "import seaborn as sns\n",
    "import stats as sts#df2\n",
    "\n",
    "from scipy import stats\n",
    "from scipy.special import softmax\n",
    "\n",
    "from keras.models import load_model\n",
    "from keras.layers import RepeatVector\n",
    "from keras.layers import TimeDistributed\n",
    "\n",
    "import torch\n",
    "import torch.nn as nn"
   ]
  },
  {
   "cell_type": "markdown",
   "metadata": {},
   "source": [
    "# Load data"
   ]
  },
  {
   "cell_type": "code",
   "execution_count": 2,
   "metadata": {
    "scrolled": true
   },
   "outputs": [],
   "source": [
    "abc=30#表示30min为一段\n",
    "gdf0=pd.read_csv(r'F:\\博士科研资料\\博士开题及其素材\\加油站数据\\export11.csv',encoding='gb18030')\n",
    "gdf0['Time1'] = pd.to_datetime(gdf0['Time'],errors='coerce') \n",
    "gdf0['Hour'] = gdf0['Time1'].dt.hour.fillna(0).astype(\"int\")    #转化提取小时\n",
    "gdf0['Minute'] = gdf0['Time1'].dt.minute.fillna(0).astype(\"int\") #转化提取分钟\n",
    "gdf0['Hour']=gdf0['Hour'].astype(str)\n",
    "gdf0['Date'] = pd.to_datetime(gdf0['Date'])\n",
    "gdf0['T'] = gdf0['Hour'].apply(lambda x : int(x))+gdf0['Minute'].apply (lambda x :round(x/60,2))\n",
    "gdf0['volume'] = gdf0['volume']\n",
    "gdf0['MinuteLabel']=gdf0['Hour'].apply(lambda x : math.floor((int(x)*60)/abc))+gdf0['Minute'].apply (lambda x :math.floor(x/abc))#表示该时刻点属于哪个区间,因为有0，所以向下取整数\n",
    "day_name00=gdf0.groupby([\"NAME\"])         #\n",
    "for name,group in day_name00:#group是星期数一样的类目\n",
    "    if name=='92H':\n",
    "        df0=group\n",
    "df0=df0[df0['Date'] >= \"2020-06-01\"] \n",
    "df0= df0[~( df0['Date'].isin([\"2020-06-11\",\"2020-08-11\", \"2020-08-25\", \"2020-09-11\"]) )]###删除这些行，因为很多0"
   ]
  },
  {
   "cell_type": "markdown",
   "metadata": {},
   "source": [
    "# Data preprogressing"
   ]
  },
  {
   "cell_type": "code",
   "execution_count": 3,
   "metadata": {},
   "outputs": [
    {
     "name": "stderr",
     "output_type": "stream",
     "text": [
      "D:\\anaconda\\lib\\site-packages\\ipykernel_launcher.py:5: SettingWithCopyWarning: \n",
      "A value is trying to be set on a copy of a slice from a DataFrame.\n",
      "Try using .loc[row_indexer,col_indexer] = value instead\n",
      "\n",
      "See the caveats in the documentation: https://pandas.pydata.org/pandas-docs/stable/user_guide/indexing.html#returning-a-view-versus-a-copy\n",
      "  \"\"\"\n",
      "D:\\anaconda\\lib\\site-packages\\ipykernel_launcher.py:6: SettingWithCopyWarning: \n",
      "A value is trying to be set on a copy of a slice from a DataFrame.\n",
      "Try using .loc[row_indexer,col_indexer] = value instead\n",
      "\n",
      "See the caveats in the documentation: https://pandas.pydata.org/pandas-docs/stable/user_guide/indexing.html#returning-a-view-versus-a-copy\n",
      "  \n",
      "D:\\anaconda\\lib\\site-packages\\ipykernel_launcher.py:8: SettingWithCopyWarning: \n",
      "A value is trying to be set on a copy of a slice from a DataFrame.\n",
      "Try using .loc[row_indexer,col_indexer] = value instead\n",
      "\n",
      "See the caveats in the documentation: https://pandas.pydata.org/pandas-docs/stable/user_guide/indexing.html#returning-a-view-versus-a-copy\n",
      "  \n",
      "D:\\anaconda\\lib\\site-packages\\ipykernel_launcher.py:11: SettingWithCopyWarning: \n",
      "A value is trying to be set on a copy of a slice from a DataFrame.\n",
      "Try using .loc[row_indexer,col_indexer] = value instead\n",
      "\n",
      "See the caveats in the documentation: https://pandas.pydata.org/pandas-docs/stable/user_guide/indexing.html#returning-a-view-versus-a-copy\n",
      "  # This is added back by InteractiveShellApp.init_path()\n",
      "D:\\anaconda\\lib\\site-packages\\pandas\\core\\indexing.py:1763: SettingWithCopyWarning: \n",
      "A value is trying to be set on a copy of a slice from a DataFrame.\n",
      "Try using .loc[row_indexer,col_indexer] = value instead\n",
      "\n",
      "See the caveats in the documentation: https://pandas.pydata.org/pandas-docs/stable/user_guide/indexing.html#returning-a-view-versus-a-copy\n",
      "  isetter(loc, value)\n"
     ]
    },
    {
     "name": "stdout",
     "output_type": "stream",
     "text": [
      "(207441, 10)\n"
     ]
    },
    {
     "name": "stderr",
     "output_type": "stream",
     "text": [
      "D:\\anaconda\\lib\\site-packages\\ipykernel_launcher.py:15: SettingWithCopyWarning: \n",
      "A value is trying to be set on a copy of a slice from a DataFrame.\n",
      "Try using .loc[row_indexer,col_indexer] = value instead\n",
      "\n",
      "See the caveats in the documentation: https://pandas.pydata.org/pandas-docs/stable/user_guide/indexing.html#returning-a-view-versus-a-copy\n",
      "  from ipykernel import kernelapp as app\n",
      "D:\\anaconda\\lib\\site-packages\\ipykernel_launcher.py:16: SettingWithCopyWarning: \n",
      "A value is trying to be set on a copy of a slice from a DataFrame.\n",
      "Try using .loc[row_indexer,col_indexer] = value instead\n",
      "\n",
      "See the caveats in the documentation: https://pandas.pydata.org/pandas-docs/stable/user_guide/indexing.html#returning-a-view-versus-a-copy\n",
      "  app.launch_new_instance()\n"
     ]
    }
   ],
   "source": [
    "DFStockOut=df0.iloc[:,[6,7,11,3,10,12]]\n",
    "c=3\n",
    "a=DFStockOut.shape[1]\n",
    "ReStartStock=13790#10000#该变量表示补货到达后的初始库存\n",
    "DFStockOut['OurLeaveStock']=DFStockOut['Date'].apply(lambda x : ReStartStock)#6\n",
    "DFStockOut['OurBuHuoStart']=DFStockOut['Date'].apply(lambda x : 0)#补货触发时刻7\n",
    "b=a+1\n",
    "DFStockOut['Date']=pd.to_datetime(DFStockOut['Date'])\n",
    "StockOutTime=[]\n",
    "DHCS1=0#表示订货次数\n",
    "DFStockOut['AllMinutes']=DFStockOut['MinuteLabel'].apply(lambda x: time.strftime(\"%H:%M:%S\", time.gmtime( float((x+1)*abc*60))))\n",
    "for i in range(DFStockOut.shape[0]):\n",
    "    if DFStockOut.iloc[i,-1]==\"00:00:00\":\n",
    "        DFStockOut.iloc[i,-1]=\"23:59:00\"  ###1月20日0:00:00表示的是1月20日24:00:00,而无法取24h，所以设为23.59    \n",
    "DFStockOut['timestamp']=DFStockOut['Date'].astype('str')+ ' ' + DFStockOut['AllMinutes'].astype('str')\n",
    "DFStockOut['timestamp'] = pd.to_datetime(DFStockOut['timestamp'])#pd.to_datetime它无法转换\n",
    "print(DFStockOut.shape)#(321121, 9)"
   ]
  },
  {
   "cell_type": "code",
   "execution_count": 4,
   "metadata": {},
   "outputs": [],
   "source": [
    "df2 = df0.groupby([\"Date\",\"MinuteLabel\"])['volume'].sum().reset_index(name ='UnitSales')#只留下小时销量数据\n",
    "df2['Date'] = pd.to_datetime(df2['Date']) \n",
    "df2['Month_id']=df2['Date'].dt.month\n",
    "df2['weekday'] = df2['Date'].apply(lambda time: time.dayofweek)\n",
    "df2['MinuteLabel']=df2['MinuteLabel'].astype(str)\n",
    "df2['weekday_hour'] = df2.weekday.astype(str) +' '+ df2.MinuteLabel.astype(str)\n",
    "df2['m_weekday'] = df2.weekday_hour.replace(df2[:].groupby('weekday_hour')['UnitSales'].mean().to_dict())\n",
    "init1 = df2.m_weekday[:].apply(np.log).values#\n",
    "df2['PreproccessUnitSales'] =df2.UnitSales[:].apply(np.log).values - init1#数取对数-均值的对数\n",
    "dfghu=df2.sort_values(by=['UnitSales'],ascending=[True]) \n",
    "df2['UnitSales']=df2['UnitSales'].apply(lambda x: (x-dfghu.iloc[0,2])/(dfghu.iloc[dfghu.shape[0]-1,2]-dfghu.iloc[0,2]))\n",
    "df2['MinuteLabel']=df2['MinuteLabel'].astype(int)"
   ]
  },
  {
   "cell_type": "code",
   "execution_count": 5,
   "metadata": {},
   "outputs": [],
   "source": [
    "idx=list(range(0,int(24*60/abc)))                                                         \n",
    "i=0\n",
    "colorSet=['cyan','g','palegreen','c','lime','tomato','r']\n",
    "DayName=['Mony','Tues','Wednes', 'Thurs', 'Fri', 'Satur', 'Sun']\n",
    "days = [\"Monday\", \"Tuesday\", \"Wednesday\", \"Thursday\", \"Friday\", \"Saturday\", \"Sunday\"]\n",
    "day_name=df2.groupby([\"weekday\"])         #\n",
    "for name,group in day_name:#group是星期数一样的类目\n",
    "    group1=group.groupby([\"Date\"])\n",
    "    j=0\n",
    "    for name,group2 in group1:#group2是星期数、日期数一样的类目，即一天  \n",
    "         group2=group2.sort_values(by=['MinuteLabel'],ascending=True,na_position='first')  # 按时间排序                  \n",
    "         group2 = group2.set_index('MinuteLabel')#group2设置索引为Hour         \n",
    "         group2 = group2.reindex(idx, fill_value=0)\n",
    "         group2['MinuteLabel'] = group2.index          \n",
    "         group2['Date']=name\n",
    "         group2['weekday'] = group2['Date'].apply(lambda time: time.dayofweek)\n",
    "         group2['day_name']=group2['weekday'].apply (lambda x : days[x])\n",
    "         if i==0 and j==0:\n",
    "            df3=group2\n",
    "         else:      \n",
    "            df3=pd.concat([df3,group2], axis=0, ignore_index=True)#axis:合并方式，默认0表示按列合并，1表示按行合并;ignore_index:是否忽略索引                   \n",
    "         j=j+1\n",
    "    i=i+1\n",
    "df3=df3.sort_values(by=['Date','MinuteLabel'],ascending=[True,True]) #df3是没有的，用0不足的dataframe\n",
    "df3['HourLabel']=df3['MinuteLabel'].apply(lambda x: math.floor(x*abc/60))"
   ]
  },
  {
   "cell_type": "code",
   "execution_count": 6,
   "metadata": {},
   "outputs": [],
   "source": [
    "df5=df3.iloc[:,:]\n",
    "df3['HourLabel']=df3['HourLabel'].astype(int)\n",
    "df5['weekday'] = df5.Date.dt.weekday\n",
    "df5['weekday_hour'] = df5.weekday.astype(str) +' '+ df5.HourLabel.astype(str)\n",
    "df5['m_weekday'] = df5.weekday_hour.replace(df5[:].groupby('weekday_hour')['UnitSales'].mean().to_dict())\n",
    "df5.to_csv('hour_Demand_consumption.csv')\n",
    "df5['AllMinutes']=df5['MinuteLabel'].apply(lambda x: time.strftime(\"%H:%M:%S\", time.gmtime( float((x+1)*abc*60))))\n",
    "for i in range(df5.shape[0]):\n",
    "    if df5.loc[i,'AllMinutes']==\"00:00:00\": \n",
    "        df5.loc[i,'AllMinutes']=\"23:59:00\"  ###1月20日0:00:00表示的是1月20日24:00:00,而无法取24h，所以设为23.59\n",
    "\n",
    "df = pd.DataFrame(columns=['timestamp', 'value'])###初始化\n",
    "df['timestamp']=df5['Date'].astype('str')+ ' ' + df5['AllMinutes'].astype('str')\n",
    "df['timestamp'] = pd.to_datetime(df['timestamp'])#为什么成了选取偶数\n",
    "#df['value']=df5['UnitSales']+100#将小时销量转换为value值，且为了0不可用，所有的值增加100.\n",
    "df['value']=df5['UnitSales']\n",
    "df=df.sort_values(by=['timestamp'],ascending=[True]) \n",
    "df['Date']=df['timestamp'].apply(lambda x: x.strftime(\"%Y-%m-%d\"))#提取时间戳中的日期\n",
    "df['MinuteLabel']=df5['MinuteLabel']\n",
    "df['yr'] = df.timestamp.dt.year\n",
    "df['mt'] = df.timestamp.dt.month\n",
    "df['d'] = df.timestamp.dt.day\n",
    "df['H'] = df5['HourLabel']\n",
    "df['Mi'] = df5['MinuteLabel']#表示第几个单位时间\n",
    "df['weekday'] = df.timestamp.dt.weekday\n",
    "df['weekday_hour'] = df.weekday.astype(str) +' '+ df.Mi.astype(str)\n",
    "df['m_weekday'] = df.weekday_hour.replace(df[:].groupby('weekday_hour')['value'].mean().to_dict())\n",
    "df=df.sort_values(by=['timestamp','Mi'],ascending=[True,True]) #df3是没有的，用0不足的dataframe"
   ]
  },
  {
   "cell_type": "markdown",
   "metadata": {},
   "source": [
    "# Parameter sensitivity experiment"
   ]
  },
  {
   "cell_type": "markdown",
   "metadata": {},
   "source": [
    "## Define functions"
   ]
  },
  {
   "cell_type": "code",
   "execution_count": 18,
   "metadata": {},
   "outputs": [],
   "source": [
    "###00数据裂变划分,用于自定义函数DataPreprogress(df)\n",
    "def to_supervised2(data, n_input, n_out):#数据裂变划分\n",
    "    #将所有数据转换为输入(X[..,len(x_input),1])、y[..,len(data[in_end:out_end, 0])]\n",
    "    X, y = list(), list()\n",
    "    in_start = 0\n",
    "    for _ in range(len(data)):# 逐步遍历整个历史数据\n",
    "        in_end = in_start + n_input## 定义输入序列的结束点\n",
    "        out_end = in_end + n_out\n",
    "        if out_end < (len(data)+1):# 确保有足够的数据\n",
    "            x_input = data[in_start:in_end, 0]\n",
    "            x_input = x_input.reshape((len(x_input), 1))\n",
    "            X.append(x_input)\n",
    "            y.append(data[in_end:out_end, 0])\n",
    "        in_start += 1    # 依次推进时间\n",
    "    return array(X), array(y)\n",
    "###01前期数据准备\n",
    "def DataPreprogress(df):\n",
    "    init1 = df.m_weekday[:].apply(lambda x: 0).values#均值取对数\n",
    "    label1 = df.value[:].values - init1#没必要取对数吧\n",
    "    Date1=df.timestamp[:]#获得对应时间戳\n",
    "    label1=np.array(label1).reshape(len(label1),1)#1维变2维\n",
    "    init1=np.array(init1).reshape(len(init1),1)#1维变2维\n",
    "    Date1=np.array(Date1).reshape(len(Date1),1)\n",
    "    ##数据列变为x、y，拆分##训练、测试数据转换形式\n",
    "    Xx, Yy = to_supervised2(label1, n_input, n_out)#准备数据#00\n",
    "    Date1Xx, Date1Yy = to_supervised2(Date1, n_input, n_out)#准备数据#00\n",
    "    initXx, initYy = to_supervised2(init1, n_input, n_out)#准备数据#00\n",
    "    return init1,label1,Date1,Xx, Yy,Date1Xx, Date1Yy,initXx,initYy\n",
    "###02将数据分为测试组和训练组\n",
    "def split_dataset2(x,y):# split a univariate dataset into train/test sets\n",
    "    train_x, test_x = x[:SplitNum], x[SplitNum:]\n",
    "    train_y, test_y = y[:SplitNum], y[SplitNum:]\n",
    "    return train_x, test_x,train_y, test_y"
   ]
  },
  {
   "cell_type": "code",
   "execution_count": 19,
   "metadata": {},
   "outputs": [],
   "source": [
    "###02 基于01模型进行预测\n",
    "def forecast2(model, test_x,inittest_y):#基于model，得到预测值y\n",
    "    input_x = array(test_x)\n",
    "    input_x = input_x.reshape((1, len(input_x), 1))# reshape into [1, n_input, 1]\n",
    "    pred_00=[]\n",
    "    predd = model.predict(input_x, verbose=0)    \n",
    "    predd = predd[0]# we only want the vector forecast\n",
    "    predd = predd.reshape((len(predd), 1))\n",
    "    pred_00.append(predd)\n",
    "    pred_00 = np.asarray(pred_00)[:,:,0] \n",
    "    pred_00_m = (pred_00[0]+ inittest_y[:])*(dfghu.iloc[dfghu.shape[0]-1,2]-dfghu.iloc[0,2])+dfghu.iloc[0,2]\n",
    "    return pred_00_m\n",
    "\n",
    "###03,测试部分,基于预测模型得到预测值\n",
    "def PredictValueTest(model,test_x,inittest_y,q):\n",
    "    ii=0#表示model1_list\n",
    "    predictionspredList=[]#得到多个分位数预测模型、不同重复次数下的预测值集合（predictionspredList）\n",
    "    for ij in range(len(test_x)):\n",
    "        pred = forecast2(model,test_x[ij,:], inittest_y[ij,:])#得到预测值\n",
    "        predictionspredList.append(pred)\n",
    "    predictionspredList = array(predictionspredList)#list转换为数组\n",
    "    return  predictionspredList"
   ]
  },
  {
   "cell_type": "code",
   "execution_count": 20,
   "metadata": {},
   "outputs": [],
   "source": [
    "def q_loss(q,y,f):### 定义分位数损失函数\n",
    "    e = (y-f)#真实值-预测值\n",
    "    return K.mean(K.maximum(q*e, (q-1)*e), axis=-1)#q表示分位数\n",
    "def q_loss0(qq,test_y1,predictionspred):### 定义分位数损失函数\n",
    "    SumSW=0\n",
    "    for i in range(len(test_y1)):\n",
    "        for j in range(len(test_y1[i])):\n",
    "            e=predictionspred[i][j]-test_y1[i][j]\n",
    "            if e>=0:\n",
    "               qLoss=(1-qq)*e\n",
    "            else:\n",
    "               qLoss=qq*(-e)\n",
    "            SumSW+=qLoss\n",
    "    return round(SumSW, 2)\n",
    "#03评估预测误差\n",
    "def evaluate_forecasts1(actual, predicted,qq):#返回预测值的总RMSE以及每天RMSE的列表\n",
    "    scores = list() \n",
    "    for i in range(actual.shape[1]):\n",
    "        mse = mean_squared_error(actual[:, i], predicted[:, i])#计算MSE\n",
    "        rmse = sqrt(mse)#计算RMSE\n",
    "        scores.append(rmse)#计算每个预测值的RMSE,存放在列表#这个现在来看没有多大意义，因为不是同一个时刻,表示向前1步、2步、几步的预测效果\n",
    "    s = 0\n",
    "    sMAE = 0\n",
    "    sMAPE = 0\n",
    "    RMSE1=list()\n",
    "    for row in range(actual.shape[0]):\n",
    "        ss=0\n",
    "        for col in range(actual.shape[1]):\n",
    "            s += (actual[row, col] - predicted[row, col]) ** 2\n",
    "            ss+= (actual[row, col] - predicted[row, col]) ** 2\n",
    "            sMAE+= np.abs(actual[row, col] - predicted[row, col])\n",
    "            sMAPE+= np.abs((actual[row, col] - predicted[row, col])/actual[row, col])\n",
    "        RMSE1.append(sqrt(ss/actual.shape[1]))##每一组的RMSE\n",
    "    Allq_loss=q_loss0(qq,actual,predicted)\n",
    "    AllNum=actual.shape[0] * actual.shape[1]\n",
    "    AllRMSE = sqrt(s / AllNum)#计算所有值的RMSE\n",
    "    AllMSE = s / AllNum#计算所有值的RMSE\n",
    "    AllMAE =sMAE/AllNum\n",
    "    AllMAPE =sMAPE/AllNum  \n",
    "    name='[Num]/RMSE/MSE/MAE/MAPE/q_loss'\n",
    "    SingPredictscores = list() \n",
    "    SingPredictscores.append(AllRMSE)\n",
    "    SingPredictscores.append(AllMSE)\n",
    "    SingPredictscores.append(AllMAE)\n",
    "    SingPredictscores.append(AllMAPE)\n",
    "    SingPredictscores.append(Allq_loss)\n",
    "    SingPredictscores = ', '.join(['%.1f' % s for s in SingPredictscores])\n",
    "    return AllRMSE,scores,AllMSE,AllMAE,AllMAPE,AllNum,Allq_loss\n",
    "###06\n",
    "def summarize_scores(name, score, scores):#总结分数\n",
    "    s_scores = ', '.join(['%.1f' % s for s in scores])\n",
    "\n",
    "###04 测试部分，预测结果的传统评价\n",
    "def  ValueTest(test_y,inittest_y,predictionspredI,qq):\n",
    "    ###得到测试y值的原始值\n",
    "    test_y1=test_y.copy()## 对原始的array1的复制\n",
    "    for i in range(test_y.shape[0]):\n",
    "        test_y1[i, :]=(test_y[i, :] + inittest_y[i,:])*(dfghu.iloc[dfghu.shape[0]-1,2]-dfghu.iloc[0,2])+dfghu.iloc[0,2]#不用求exp啦\n",
    "    PredictScresSet=[]\n",
    "    AllRMSE,scores,AllMSE,AllMAE,AllMAPE,AllNum,Allq_loss=evaluate_forecasts1(test_y1[:, :], predictionspredI,qq)\n",
    "    PredictScresSet.append(AllRMSE)\n",
    "    PredictScresSet.append(AllMSE)\n",
    "    PredictScresSet.append(AllMAE)\n",
    "    PredictScresSet.append(AllMAPE)\n",
    "    PredictScresSet.append(AllNum)\n",
    "    PredictScresSet.append(Allq_loss)\n",
    "    days = range(n_out)\n",
    "    return PredictScresSet"
   ]
  },
  {
   "cell_type": "code",
   "execution_count": 21,
   "metadata": {},
   "outputs": [],
   "source": [
    "def run(trial):\n",
    "    qq=0.999\n",
    "    space = {        \n",
    "        'optimizer':  trial.suggest_categorical('optimizer', [optimizers.Adam]),\n",
    "        'units': trial.suggest_int('units', 5, 500, 5),\n",
    "        'epochs': trial.suggest_int('epochs', 10, 100, 10),\n",
    "        'batch_size': trial.suggest_categorical('batch_size', [8,16, 32, 64, 128, 256,512]),\n",
    "        'learning_rate': trial.suggest_loguniform('learning_rate', 1e-3, 8e-1)\n",
    "    }\n",
    "    tf.random.set_seed(33)\n",
    "    tf.random.set_seed(33)\n",
    "    os.environ['PYTHONHASHSEED'] = str(33)\n",
    "    np.random.seed(33)\n",
    "    session_conf = tf.compat.v1.ConfigProto(\n",
    "    intra_op_parallelism_threads=1, \n",
    "    inter_op_parallelism_threads=1)\n",
    "    sess = tf.compat.v1.Session(\n",
    "    graph=tf.compat.v1.get_default_graph(), \n",
    "    config=session_conf)\n",
    "    tf.compat.v1.keras.backend.set_session(sess)    \n",
    "    def q_loss(q,y,f):### 定义分位数损失函数\n",
    "        e = (y-f)#真实值-预测值\n",
    "        return K.mean(K.maximum(q*e, (q-1)*e), axis=-1)#q表示分位数\n",
    "    losses = [lambda y,f: q_loss(qq,y,f)]#3个分位数的损失函数       \n",
    "    n_timesteps, n_features, n_outputs = train_x.shape[1], train_x.shape[2], train_y.shape[1]\n",
    "    model = Sequential()# define model\n",
    "    model.add(LSTM(units=space['units'], activation='relu', input_shape=(n_timesteps, n_features)))\n",
    "    ###200表示隐藏状态维度\n",
    "    model.add(Dense(n_outputs))\n",
    "    model.compile(optimizer=space['optimizer'](learning_rate=space['learning_rate']), loss=losses)  # 平均误差损失\n",
    "    history = model.fit(train_x, train_y, epochs=space['epochs'], batch_size=space['batch_size'], verbose=0, shuffle=False)   \n",
    "    predictionspredList=PredictValueTest(model,test_x,inittest_y,qq)\n",
    "    PointredictScresSet0=ValueTest(test_y,inittest_y,predictionspredList,qq)\n",
    "    model.summary()\n",
    "    p1 = pyplot.plot(history.history['loss'], color='blue', label='train')#画出学习过程\n",
    "    ####分位数返回的是分位数值\n",
    "    print('PointredictScresSet0[-1]',PointredictScresSet0[-1])\n",
    "    return PointredictScresSet0[-1]"
   ]
  },
  {
   "cell_type": "markdown",
   "metadata": {},
   "source": [
    "## Data split"
   ]
  },
  {
   "cell_type": "code",
   "execution_count": 22,
   "metadata": {},
   "outputs": [
    {
     "name": "stdout",
     "output_type": "stream",
     "text": [
      "len(train_x), len(test_x),len(train_y), len(test_y) 6956 3117 6956 3117\n",
      "10073 10073\n"
     ]
    }
   ],
   "source": [
    "###定义参数取值\n",
    "n_input =4\n",
    "n_out = 4\n",
    "n_vars = 4\n",
    "global SplitNum\n",
    "SplitNum=int((df.shape[0]/int(24*60/abc))*0.7)*int(24*60/abc)-n_input-48*2##天数的百分之0.7,再乘以48\n",
    "###00前期数据准备\n",
    "init1,label1,Date1,Xx, Yy,Date1Xx, Date1Yy,initXx, initYy=DataPreprogress(df)\n",
    "##数据拆分\n",
    "train_x, test_x,train_y, test_y = split_dataset2(Xx, Yy)#01\n",
    "print('len(train_x), len(test_x),len(train_y), len(test_y)',len(train_x), len(test_x),len(train_y), len(test_y))\n",
    "print(len(Xx), len(Yy))\n",
    "inittrain_x, inittest_x,inittrain_y, inittest_y = split_dataset2(initXx, initYy)#01\n",
    "Datetrain_x, Datetest_x,Datetrain_y, Datetest_y = split_dataset2(Date1Xx, Date1Yy)#01"
   ]
  },
  {
   "cell_type": "markdown",
   "metadata": {},
   "source": [
    "## Concrete hyperparameters based on optuna"
   ]
  },
  {
   "cell_type": "code",
   "execution_count": 24,
   "metadata": {},
   "outputs": [],
   "source": [
    "import optuna\n",
    "from optuna.visualization.matplotlib import plot_optimization_history\n",
    "from optuna.visualization.matplotlib import plot_param_importances"
   ]
  },
  {
   "cell_type": "code",
   "execution_count": 25,
   "metadata": {
    "scrolled": true
   },
   "outputs": [
    {
     "name": "stderr",
     "output_type": "stream",
     "text": [
      "\u001b[32m[I 2022-11-09 09:33:13,990]\u001b[0m A new study created in memory with name: no-name-56828130-8b03-4f0a-9001-4addd8f0fce0\u001b[0m\n",
      "D:\\anaconda\\lib\\site-packages\\optuna\\distributions.py:427: UserWarning:\n",
      "\n",
      "Choices for a categorical distribution should be a tuple of None, bool, int, float and str for persistent storage but contains <class 'tensorflow.python.keras.optimizer_v2.adam.Adam'> which is of type ABCMeta.\n",
      "\n",
      "\u001b[32m[I 2022-11-09 09:39:10,679]\u001b[0m Trial 0 finished with value: 34790.86 and parameters: {'optimizer': <class 'tensorflow.python.keras.optimizer_v2.adam.Adam'>, 'units': 335, 'epochs': 60, 'batch_size': 8, 'learning_rate': 0.17334973320020208}. Best is trial 0 with value: 34790.86.\u001b[0m\n"
     ]
    },
    {
     "name": "stdout",
     "output_type": "stream",
     "text": [
      "Model: \"sequential\"\n",
      "_________________________________________________________________\n",
      "Layer (type)                 Output Shape              Param #   \n",
      "=================================================================\n",
      "lstm (LSTM)                  (None, 335)               451580    \n",
      "_________________________________________________________________\n",
      "dense (Dense)                (None, 4)                 1344      \n",
      "=================================================================\n",
      "Total params: 452,924\n",
      "Trainable params: 452,924\n",
      "Non-trainable params: 0\n",
      "_________________________________________________________________\n",
      "PointredictScresSet0[-1] 34790.86\n"
     ]
    },
    {
     "name": "stderr",
     "output_type": "stream",
     "text": [
      "D:\\anaconda\\lib\\site-packages\\optuna\\distributions.py:427: UserWarning:\n",
      "\n",
      "Choices for a categorical distribution should be a tuple of None, bool, int, float and str for persistent storage but contains <class 'tensorflow.python.keras.optimizer_v2.adam.Adam'> which is of type ABCMeta.\n",
      "\n",
      "\u001b[32m[I 2022-11-09 09:41:47,258]\u001b[0m Trial 1 finished with value: 14692.84 and parameters: {'optimizer': <class 'tensorflow.python.keras.optimizer_v2.adam.Adam'>, 'units': 370, 'epochs': 80, 'batch_size': 64, 'learning_rate': 0.007489876475946666}. Best is trial 1 with value: 14692.84.\u001b[0m\n"
     ]
    },
    {
     "name": "stdout",
     "output_type": "stream",
     "text": [
      "Model: \"sequential_1\"\n",
      "_________________________________________________________________\n",
      "Layer (type)                 Output Shape              Param #   \n",
      "=================================================================\n",
      "lstm_1 (LSTM)                (None, 370)               550560    \n",
      "_________________________________________________________________\n",
      "dense_1 (Dense)              (None, 4)                 1484      \n",
      "=================================================================\n",
      "Total params: 552,044\n",
      "Trainable params: 552,044\n",
      "Non-trainable params: 0\n",
      "_________________________________________________________________\n",
      "PointredictScresSet0[-1] 14692.84\n"
     ]
    },
    {
     "name": "stderr",
     "output_type": "stream",
     "text": [
      "D:\\anaconda\\lib\\site-packages\\optuna\\distributions.py:427: UserWarning:\n",
      "\n",
      "Choices for a categorical distribution should be a tuple of None, bool, int, float and str for persistent storage but contains <class 'tensorflow.python.keras.optimizer_v2.adam.Adam'> which is of type ABCMeta.\n",
      "\n",
      "\u001b[32m[I 2022-11-09 09:43:39,247]\u001b[0m Trial 2 finished with value: 17243.68 and parameters: {'optimizer': <class 'tensorflow.python.keras.optimizer_v2.adam.Adam'>, 'units': 350, 'epochs': 50, 'batch_size': 64, 'learning_rate': 0.012424899041321777}. Best is trial 1 with value: 14692.84.\u001b[0m\n"
     ]
    },
    {
     "name": "stdout",
     "output_type": "stream",
     "text": [
      "Model: \"sequential_2\"\n",
      "_________________________________________________________________\n",
      "Layer (type)                 Output Shape              Param #   \n",
      "=================================================================\n",
      "lstm_2 (LSTM)                (None, 350)               492800    \n",
      "_________________________________________________________________\n",
      "dense_2 (Dense)              (None, 4)                 1404      \n",
      "=================================================================\n",
      "Total params: 494,204\n",
      "Trainable params: 494,204\n",
      "Non-trainable params: 0\n",
      "_________________________________________________________________\n",
      "PointredictScresSet0[-1] 17243.68\n"
     ]
    },
    {
     "name": "stderr",
     "output_type": "stream",
     "text": [
      "D:\\anaconda\\lib\\site-packages\\optuna\\distributions.py:427: UserWarning:\n",
      "\n",
      "Choices for a categorical distribution should be a tuple of None, bool, int, float and str for persistent storage but contains <class 'tensorflow.python.keras.optimizer_v2.adam.Adam'> which is of type ABCMeta.\n",
      "\n",
      "\u001b[32m[I 2022-11-09 09:45:00,344]\u001b[0m Trial 3 finished with value: 15203.82 and parameters: {'optimizer': <class 'tensorflow.python.keras.optimizer_v2.adam.Adam'>, 'units': 260, 'epochs': 60, 'batch_size': 128, 'learning_rate': 0.02250083538590025}. Best is trial 1 with value: 14692.84.\u001b[0m\n"
     ]
    },
    {
     "name": "stdout",
     "output_type": "stream",
     "text": [
      "Model: \"sequential_3\"\n",
      "_________________________________________________________________\n",
      "Layer (type)                 Output Shape              Param #   \n",
      "=================================================================\n",
      "lstm_3 (LSTM)                (None, 260)               272480    \n",
      "_________________________________________________________________\n",
      "dense_3 (Dense)              (None, 4)                 1044      \n",
      "=================================================================\n",
      "Total params: 273,524\n",
      "Trainable params: 273,524\n",
      "Non-trainable params: 0\n",
      "_________________________________________________________________\n",
      "PointredictScresSet0[-1] 15203.82\n"
     ]
    },
    {
     "name": "stderr",
     "output_type": "stream",
     "text": [
      "D:\\anaconda\\lib\\site-packages\\optuna\\distributions.py:427: UserWarning:\n",
      "\n",
      "Choices for a categorical distribution should be a tuple of None, bool, int, float and str for persistent storage but contains <class 'tensorflow.python.keras.optimizer_v2.adam.Adam'> which is of type ABCMeta.\n",
      "\n",
      "\u001b[32m[I 2022-11-09 09:50:45,584]\u001b[0m Trial 4 finished with value: 41131.56 and parameters: {'optimizer': <class 'tensorflow.python.keras.optimizer_v2.adam.Adam'>, 'units': 480, 'epochs': 50, 'batch_size': 16, 'learning_rate': 0.12836073543597176}. Best is trial 1 with value: 14692.84.\u001b[0m\n"
     ]
    },
    {
     "name": "stdout",
     "output_type": "stream",
     "text": [
      "Model: \"sequential_4\"\n",
      "_________________________________________________________________\n",
      "Layer (type)                 Output Shape              Param #   \n",
      "=================================================================\n",
      "lstm_4 (LSTM)                (None, 480)               925440    \n",
      "_________________________________________________________________\n",
      "dense_4 (Dense)              (None, 4)                 1924      \n",
      "=================================================================\n",
      "Total params: 927,364\n",
      "Trainable params: 927,364\n",
      "Non-trainable params: 0\n",
      "_________________________________________________________________\n",
      "PointredictScresSet0[-1] 41131.56\n"
     ]
    },
    {
     "name": "stderr",
     "output_type": "stream",
     "text": [
      "D:\\anaconda\\lib\\site-packages\\optuna\\distributions.py:427: UserWarning:\n",
      "\n",
      "Choices for a categorical distribution should be a tuple of None, bool, int, float and str for persistent storage but contains <class 'tensorflow.python.keras.optimizer_v2.adam.Adam'> which is of type ABCMeta.\n",
      "\n",
      "\u001b[32m[I 2022-11-09 09:52:22,330]\u001b[0m Trial 5 finished with value: 15627.04 and parameters: {'optimizer': <class 'tensorflow.python.keras.optimizer_v2.adam.Adam'>, 'units': 280, 'epochs': 60, 'batch_size': 512, 'learning_rate': 0.0027962240616553505}. Best is trial 1 with value: 14692.84.\u001b[0m\n"
     ]
    },
    {
     "name": "stdout",
     "output_type": "stream",
     "text": [
      "Model: \"sequential_5\"\n",
      "_________________________________________________________________\n",
      "Layer (type)                 Output Shape              Param #   \n",
      "=================================================================\n",
      "lstm_5 (LSTM)                (None, 280)               315840    \n",
      "_________________________________________________________________\n",
      "dense_5 (Dense)              (None, 4)                 1124      \n",
      "=================================================================\n",
      "Total params: 316,964\n",
      "Trainable params: 316,964\n",
      "Non-trainable params: 0\n",
      "_________________________________________________________________\n",
      "PointredictScresSet0[-1] 15627.04\n"
     ]
    },
    {
     "name": "stderr",
     "output_type": "stream",
     "text": [
      "D:\\anaconda\\lib\\site-packages\\optuna\\distributions.py:427: UserWarning:\n",
      "\n",
      "Choices for a categorical distribution should be a tuple of None, bool, int, float and str for persistent storage but contains <class 'tensorflow.python.keras.optimizer_v2.adam.Adam'> which is of type ABCMeta.\n",
      "\n",
      "\u001b[32m[I 2022-11-09 09:53:45,855]\u001b[0m Trial 6 finished with value: 15391.47 and parameters: {'optimizer': <class 'tensorflow.python.keras.optimizer_v2.adam.Adam'>, 'units': 295, 'epochs': 30, 'batch_size': 256, 'learning_rate': 0.12009640595847725}. Best is trial 1 with value: 14692.84.\u001b[0m\n"
     ]
    },
    {
     "name": "stdout",
     "output_type": "stream",
     "text": [
      "Model: \"sequential_6\"\n",
      "_________________________________________________________________\n",
      "Layer (type)                 Output Shape              Param #   \n",
      "=================================================================\n",
      "lstm_6 (LSTM)                (None, 295)               350460    \n",
      "_________________________________________________________________\n",
      "dense_6 (Dense)              (None, 4)                 1184      \n",
      "=================================================================\n",
      "Total params: 351,644\n",
      "Trainable params: 351,644\n",
      "Non-trainable params: 0\n",
      "_________________________________________________________________\n",
      "PointredictScresSet0[-1] 15391.47\n"
     ]
    },
    {
     "name": "stderr",
     "output_type": "stream",
     "text": [
      "D:\\anaconda\\lib\\site-packages\\optuna\\distributions.py:427: UserWarning:\n",
      "\n",
      "Choices for a categorical distribution should be a tuple of None, bool, int, float and str for persistent storage but contains <class 'tensorflow.python.keras.optimizer_v2.adam.Adam'> which is of type ABCMeta.\n",
      "\n",
      "\u001b[32m[I 2022-11-09 10:04:03,596]\u001b[0m Trial 7 finished with value: 15510.35 and parameters: {'optimizer': <class 'tensorflow.python.keras.optimizer_v2.adam.Adam'>, 'units': 500, 'epochs': 50, 'batch_size': 8, 'learning_rate': 0.00714871978927898}. Best is trial 1 with value: 14692.84.\u001b[0m\n"
     ]
    },
    {
     "name": "stdout",
     "output_type": "stream",
     "text": [
      "Model: \"sequential_7\"\n",
      "_________________________________________________________________\n",
      "Layer (type)                 Output Shape              Param #   \n",
      "=================================================================\n",
      "lstm_7 (LSTM)                (None, 500)               1004000   \n",
      "_________________________________________________________________\n",
      "dense_7 (Dense)              (None, 4)                 2004      \n",
      "=================================================================\n",
      "Total params: 1,006,004\n",
      "Trainable params: 1,006,004\n",
      "Non-trainable params: 0\n",
      "_________________________________________________________________\n",
      "PointredictScresSet0[-1] 15510.35\n"
     ]
    },
    {
     "name": "stderr",
     "output_type": "stream",
     "text": [
      "D:\\anaconda\\lib\\site-packages\\optuna\\distributions.py:427: UserWarning:\n",
      "\n",
      "Choices for a categorical distribution should be a tuple of None, bool, int, float and str for persistent storage but contains <class 'tensorflow.python.keras.optimizer_v2.adam.Adam'> which is of type ABCMeta.\n",
      "\n",
      "\u001b[32m[I 2022-11-09 10:05:03,794]\u001b[0m Trial 8 finished with value: 16908.89 and parameters: {'optimizer': <class 'tensorflow.python.keras.optimizer_v2.adam.Adam'>, 'units': 250, 'epochs': 20, 'batch_size': 256, 'learning_rate': 0.004261954144946295}. Best is trial 1 with value: 14692.84.\u001b[0m\n"
     ]
    },
    {
     "name": "stdout",
     "output_type": "stream",
     "text": [
      "Model: \"sequential_8\"\n",
      "_________________________________________________________________\n",
      "Layer (type)                 Output Shape              Param #   \n",
      "=================================================================\n",
      "lstm_8 (LSTM)                (None, 250)               252000    \n",
      "_________________________________________________________________\n",
      "dense_8 (Dense)              (None, 4)                 1004      \n",
      "=================================================================\n",
      "Total params: 253,004\n",
      "Trainable params: 253,004\n",
      "Non-trainable params: 0\n",
      "_________________________________________________________________\n",
      "PointredictScresSet0[-1] 16908.89\n"
     ]
    },
    {
     "name": "stderr",
     "output_type": "stream",
     "text": [
      "D:\\anaconda\\lib\\site-packages\\optuna\\distributions.py:427: UserWarning:\n",
      "\n",
      "Choices for a categorical distribution should be a tuple of None, bool, int, float and str for persistent storage but contains <class 'tensorflow.python.keras.optimizer_v2.adam.Adam'> which is of type ABCMeta.\n",
      "\n",
      "\u001b[32m[I 2022-11-09 10:06:41,476]\u001b[0m Trial 9 finished with value: 17504.83 and parameters: {'optimizer': <class 'tensorflow.python.keras.optimizer_v2.adam.Adam'>, 'units': 450, 'epochs': 30, 'batch_size': 256, 'learning_rate': 0.021858770292729715}. Best is trial 1 with value: 14692.84.\u001b[0m\n"
     ]
    },
    {
     "name": "stdout",
     "output_type": "stream",
     "text": [
      "Model: \"sequential_9\"\n",
      "_________________________________________________________________\n",
      "Layer (type)                 Output Shape              Param #   \n",
      "=================================================================\n",
      "lstm_9 (LSTM)                (None, 450)               813600    \n",
      "_________________________________________________________________\n",
      "dense_9 (Dense)              (None, 4)                 1804      \n",
      "=================================================================\n",
      "Total params: 815,404\n",
      "Trainable params: 815,404\n",
      "Non-trainable params: 0\n",
      "_________________________________________________________________\n",
      "PointredictScresSet0[-1] 17504.83\n"
     ]
    },
    {
     "name": "stderr",
     "output_type": "stream",
     "text": [
      "D:\\anaconda\\lib\\site-packages\\optuna\\distributions.py:427: UserWarning:\n",
      "\n",
      "Choices for a categorical distribution should be a tuple of None, bool, int, float and str for persistent storage but contains <class 'tensorflow.python.keras.optimizer_v2.adam.Adam'> which is of type ABCMeta.\n",
      "\n",
      "\u001b[32m[I 2022-11-09 10:08:08,246]\u001b[0m Trial 10 finished with value: 14914.69 and parameters: {'optimizer': <class 'tensorflow.python.keras.optimizer_v2.adam.Adam'>, 'units': 80, 'epochs': 100, 'batch_size': 32, 'learning_rate': 0.001743784520646454}. Best is trial 1 with value: 14692.84.\u001b[0m\n"
     ]
    },
    {
     "name": "stdout",
     "output_type": "stream",
     "text": [
      "Model: \"sequential_10\"\n",
      "_________________________________________________________________\n",
      "Layer (type)                 Output Shape              Param #   \n",
      "=================================================================\n",
      "lstm_10 (LSTM)               (None, 80)                26240     \n",
      "_________________________________________________________________\n",
      "dense_10 (Dense)             (None, 4)                 324       \n",
      "=================================================================\n",
      "Total params: 26,564\n",
      "Trainable params: 26,564\n",
      "Non-trainable params: 0\n",
      "_________________________________________________________________\n",
      "PointredictScresSet0[-1] 14914.69\n"
     ]
    },
    {
     "name": "stderr",
     "output_type": "stream",
     "text": [
      "D:\\anaconda\\lib\\site-packages\\optuna\\distributions.py:427: UserWarning:\n",
      "\n",
      "Choices for a categorical distribution should be a tuple of None, bool, int, float and str for persistent storage but contains <class 'tensorflow.python.keras.optimizer_v2.adam.Adam'> which is of type ABCMeta.\n",
      "\n",
      "\u001b[32m[I 2022-11-09 10:09:19,517]\u001b[0m Trial 11 finished with value: 15277.84 and parameters: {'optimizer': <class 'tensorflow.python.keras.optimizer_v2.adam.Adam'>, 'units': 40, 'epochs': 100, 'batch_size': 32, 'learning_rate': 0.0013143126334182434}. Best is trial 1 with value: 14692.84.\u001b[0m\n"
     ]
    },
    {
     "name": "stdout",
     "output_type": "stream",
     "text": [
      "Model: \"sequential_11\"\n",
      "_________________________________________________________________\n",
      "Layer (type)                 Output Shape              Param #   \n",
      "=================================================================\n",
      "lstm_11 (LSTM)               (None, 40)                6720      \n",
      "_________________________________________________________________\n",
      "dense_11 (Dense)             (None, 4)                 164       \n",
      "=================================================================\n",
      "Total params: 6,884\n",
      "Trainable params: 6,884\n",
      "Non-trainable params: 0\n",
      "_________________________________________________________________\n",
      "PointredictScresSet0[-1] 15277.84\n"
     ]
    },
    {
     "name": "stderr",
     "output_type": "stream",
     "text": [
      "D:\\anaconda\\lib\\site-packages\\optuna\\distributions.py:427: UserWarning:\n",
      "\n",
      "Choices for a categorical distribution should be a tuple of None, bool, int, float and str for persistent storage but contains <class 'tensorflow.python.keras.optimizer_v2.adam.Adam'> which is of type ABCMeta.\n",
      "\n",
      "\u001b[32m[I 2022-11-09 10:10:39,283]\u001b[0m Trial 12 finished with value: 14272.51 and parameters: {'optimizer': <class 'tensorflow.python.keras.optimizer_v2.adam.Adam'>, 'units': 80, 'epochs': 100, 'batch_size': 32, 'learning_rate': 0.0011199070633804355}. Best is trial 12 with value: 14272.51.\u001b[0m\n"
     ]
    },
    {
     "name": "stdout",
     "output_type": "stream",
     "text": [
      "Model: \"sequential_12\"\n",
      "_________________________________________________________________\n",
      "Layer (type)                 Output Shape              Param #   \n",
      "=================================================================\n",
      "lstm_12 (LSTM)               (None, 80)                26240     \n",
      "_________________________________________________________________\n",
      "dense_12 (Dense)             (None, 4)                 324       \n",
      "=================================================================\n",
      "Total params: 26,564\n",
      "Trainable params: 26,564\n",
      "Non-trainable params: 0\n",
      "_________________________________________________________________\n",
      "PointredictScresSet0[-1] 14272.51\n"
     ]
    },
    {
     "name": "stderr",
     "output_type": "stream",
     "text": [
      "D:\\anaconda\\lib\\site-packages\\optuna\\distributions.py:427: UserWarning:\n",
      "\n",
      "Choices for a categorical distribution should be a tuple of None, bool, int, float and str for persistent storage but contains <class 'tensorflow.python.keras.optimizer_v2.adam.Adam'> which is of type ABCMeta.\n",
      "\n",
      "\u001b[32m[I 2022-11-09 10:11:54,588]\u001b[0m Trial 13 finished with value: 148820.28 and parameters: {'optimizer': <class 'tensorflow.python.keras.optimizer_v2.adam.Adam'>, 'units': 135, 'epochs': 80, 'batch_size': 64, 'learning_rate': 0.6675271788839503}. Best is trial 12 with value: 14272.51.\u001b[0m\n"
     ]
    },
    {
     "name": "stdout",
     "output_type": "stream",
     "text": [
      "Model: \"sequential_13\"\n",
      "_________________________________________________________________\n",
      "Layer (type)                 Output Shape              Param #   \n",
      "=================================================================\n",
      "lstm_13 (LSTM)               (None, 135)               73980     \n",
      "_________________________________________________________________\n",
      "dense_13 (Dense)             (None, 4)                 544       \n",
      "=================================================================\n",
      "Total params: 74,524\n",
      "Trainable params: 74,524\n",
      "Non-trainable params: 0\n",
      "_________________________________________________________________\n",
      "PointredictScresSet0[-1] 148820.28\n"
     ]
    },
    {
     "name": "stderr",
     "output_type": "stream",
     "text": [
      "D:\\anaconda\\lib\\site-packages\\optuna\\distributions.py:427: UserWarning:\n",
      "\n",
      "Choices for a categorical distribution should be a tuple of None, bool, int, float and str for persistent storage but contains <class 'tensorflow.python.keras.optimizer_v2.adam.Adam'> which is of type ABCMeta.\n",
      "\n",
      "\u001b[32m[I 2022-11-09 10:13:11,937]\u001b[0m Trial 14 finished with value: 14680.83 and parameters: {'optimizer': <class 'tensorflow.python.keras.optimizer_v2.adam.Adam'>, 'units': 155, 'epochs': 80, 'batch_size': 64, 'learning_rate': 0.0010455781112441737}. Best is trial 12 with value: 14272.51.\u001b[0m\n"
     ]
    },
    {
     "name": "stdout",
     "output_type": "stream",
     "text": [
      "Model: \"sequential_14\"\n",
      "_________________________________________________________________\n",
      "Layer (type)                 Output Shape              Param #   \n",
      "=================================================================\n",
      "lstm_14 (LSTM)               (None, 155)               97340     \n",
      "_________________________________________________________________\n",
      "dense_14 (Dense)             (None, 4)                 624       \n",
      "=================================================================\n",
      "Total params: 97,964\n",
      "Trainable params: 97,964\n",
      "Non-trainable params: 0\n",
      "_________________________________________________________________\n",
      "PointredictScresSet0[-1] 14680.83\n"
     ]
    },
    {
     "name": "stderr",
     "output_type": "stream",
     "text": [
      "D:\\anaconda\\lib\\site-packages\\optuna\\distributions.py:427: UserWarning:\n",
      "\n",
      "Choices for a categorical distribution should be a tuple of None, bool, int, float and str for persistent storage but contains <class 'tensorflow.python.keras.optimizer_v2.adam.Adam'> which is of type ABCMeta.\n",
      "\n",
      "\u001b[32m[I 2022-11-09 10:14:49,837]\u001b[0m Trial 15 finished with value: 14729.48 and parameters: {'optimizer': <class 'tensorflow.python.keras.optimizer_v2.adam.Adam'>, 'units': 175, 'epochs': 80, 'batch_size': 32, 'learning_rate': 0.0011036589217986311}. Best is trial 12 with value: 14272.51.\u001b[0m\n"
     ]
    },
    {
     "name": "stdout",
     "output_type": "stream",
     "text": [
      "Model: \"sequential_15\"\n",
      "_________________________________________________________________\n",
      "Layer (type)                 Output Shape              Param #   \n",
      "=================================================================\n",
      "lstm_15 (LSTM)               (None, 175)               123900    \n",
      "_________________________________________________________________\n",
      "dense_15 (Dense)             (None, 4)                 704       \n",
      "=================================================================\n",
      "Total params: 124,604\n",
      "Trainable params: 124,604\n",
      "Non-trainable params: 0\n",
      "_________________________________________________________________\n",
      "PointredictScresSet0[-1] 14729.48\n"
     ]
    },
    {
     "name": "stderr",
     "output_type": "stream",
     "text": [
      "D:\\anaconda\\lib\\site-packages\\optuna\\distributions.py:427: UserWarning:\n",
      "\n",
      "Choices for a categorical distribution should be a tuple of None, bool, int, float and str for persistent storage but contains <class 'tensorflow.python.keras.optimizer_v2.adam.Adam'> which is of type ABCMeta.\n",
      "\n",
      "\u001b[32m[I 2022-11-09 10:15:37,913]\u001b[0m Trial 16 finished with value: 16331.13 and parameters: {'optimizer': <class 'tensorflow.python.keras.optimizer_v2.adam.Adam'>, 'units': 5, 'epochs': 90, 'batch_size': 512, 'learning_rate': 0.0030478832996571202}. Best is trial 12 with value: 14272.51.\u001b[0m\n"
     ]
    },
    {
     "name": "stdout",
     "output_type": "stream",
     "text": [
      "Model: \"sequential_16\"\n",
      "_________________________________________________________________\n",
      "Layer (type)                 Output Shape              Param #   \n",
      "=================================================================\n",
      "lstm_16 (LSTM)               (None, 5)                 140       \n",
      "_________________________________________________________________\n",
      "dense_16 (Dense)             (None, 4)                 24        \n",
      "=================================================================\n",
      "Total params: 164\n",
      "Trainable params: 164\n",
      "Non-trainable params: 0\n",
      "_________________________________________________________________\n",
      "PointredictScresSet0[-1] 16331.13\n"
     ]
    },
    {
     "name": "stderr",
     "output_type": "stream",
     "text": [
      "D:\\anaconda\\lib\\site-packages\\optuna\\distributions.py:427: UserWarning:\n",
      "\n",
      "Choices for a categorical distribution should be a tuple of None, bool, int, float and str for persistent storage but contains <class 'tensorflow.python.keras.optimizer_v2.adam.Adam'> which is of type ABCMeta.\n",
      "\n",
      "\u001b[32m[I 2022-11-09 10:17:45,779]\u001b[0m Trial 17 finished with value: 29115.71 and parameters: {'optimizer': <class 'tensorflow.python.keras.optimizer_v2.adam.Adam'>, 'units': 155, 'epochs': 90, 'batch_size': 16, 'learning_rate': 0.05415386455101785}. Best is trial 12 with value: 14272.51.\u001b[0m\n"
     ]
    },
    {
     "name": "stdout",
     "output_type": "stream",
     "text": [
      "Model: \"sequential_17\"\n",
      "_________________________________________________________________\n",
      "Layer (type)                 Output Shape              Param #   \n",
      "=================================================================\n",
      "lstm_17 (LSTM)               (None, 155)               97340     \n",
      "_________________________________________________________________\n",
      "dense_17 (Dense)             (None, 4)                 624       \n",
      "=================================================================\n",
      "Total params: 97,964\n",
      "Trainable params: 97,964\n",
      "Non-trainable params: 0\n",
      "_________________________________________________________________\n",
      "PointredictScresSet0[-1] 29115.71\n"
     ]
    },
    {
     "name": "stderr",
     "output_type": "stream",
     "text": [
      "D:\\anaconda\\lib\\site-packages\\optuna\\distributions.py:427: UserWarning:\n",
      "\n",
      "Choices for a categorical distribution should be a tuple of None, bool, int, float and str for persistent storage but contains <class 'tensorflow.python.keras.optimizer_v2.adam.Adam'> which is of type ABCMeta.\n",
      "\n",
      "\u001b[32m[I 2022-11-09 10:18:42,970]\u001b[0m Trial 18 finished with value: 15643.7 and parameters: {'optimizer': <class 'tensorflow.python.keras.optimizer_v2.adam.Adam'>, 'units': 100, 'epochs': 70, 'batch_size': 128, 'learning_rate': 0.002239034440812714}. Best is trial 12 with value: 14272.51.\u001b[0m\n"
     ]
    },
    {
     "name": "stdout",
     "output_type": "stream",
     "text": [
      "Model: \"sequential_18\"\n",
      "_________________________________________________________________\n",
      "Layer (type)                 Output Shape              Param #   \n",
      "=================================================================\n",
      "lstm_18 (LSTM)               (None, 100)               40800     \n",
      "_________________________________________________________________\n",
      "dense_18 (Dense)             (None, 4)                 404       \n",
      "=================================================================\n",
      "Total params: 41,204\n",
      "Trainable params: 41,204\n",
      "Non-trainable params: 0\n",
      "_________________________________________________________________\n",
      "PointredictScresSet0[-1] 15643.7\n"
     ]
    },
    {
     "name": "stderr",
     "output_type": "stream",
     "text": [
      "D:\\anaconda\\lib\\site-packages\\optuna\\distributions.py:427: UserWarning:\n",
      "\n",
      "Choices for a categorical distribution should be a tuple of None, bool, int, float and str for persistent storage but contains <class 'tensorflow.python.keras.optimizer_v2.adam.Adam'> which is of type ABCMeta.\n",
      "\n",
      "\u001b[32m[I 2022-11-09 10:20:58,203]\u001b[0m Trial 19 finished with value: 14557.92 and parameters: {'optimizer': <class 'tensorflow.python.keras.optimizer_v2.adam.Adam'>, 'units': 220, 'epochs': 100, 'batch_size': 32, 'learning_rate': 0.0058855809201634485}. Best is trial 12 with value: 14272.51.\u001b[0m\n"
     ]
    },
    {
     "name": "stdout",
     "output_type": "stream",
     "text": [
      "Model: \"sequential_19\"\n",
      "_________________________________________________________________\n",
      "Layer (type)                 Output Shape              Param #   \n",
      "=================================================================\n",
      "lstm_19 (LSTM)               (None, 220)               195360    \n",
      "_________________________________________________________________\n",
      "dense_19 (Dense)             (None, 4)                 884       \n",
      "=================================================================\n",
      "Total params: 196,244\n",
      "Trainable params: 196,244\n",
      "Non-trainable params: 0\n",
      "_________________________________________________________________\n",
      "PointredictScresSet0[-1] 14557.92\n"
     ]
    },
    {
     "name": "stderr",
     "output_type": "stream",
     "text": [
      "D:\\anaconda\\lib\\site-packages\\optuna\\distributions.py:427: UserWarning:\n",
      "\n",
      "Choices for a categorical distribution should be a tuple of None, bool, int, float and str for persistent storage but contains <class 'tensorflow.python.keras.optimizer_v2.adam.Adam'> which is of type ABCMeta.\n",
      "\n",
      "\u001b[32m[I 2022-11-09 10:23:22,215]\u001b[0m Trial 20 finished with value: 14394.57 and parameters: {'optimizer': <class 'tensorflow.python.keras.optimizer_v2.adam.Adam'>, 'units': 240, 'epochs': 100, 'batch_size': 32, 'learning_rate': 0.005750993859132203}. Best is trial 12 with value: 14272.51.\u001b[0m\n"
     ]
    },
    {
     "name": "stdout",
     "output_type": "stream",
     "text": [
      "Model: \"sequential_20\"\n",
      "_________________________________________________________________\n",
      "Layer (type)                 Output Shape              Param #   \n",
      "=================================================================\n",
      "lstm_20 (LSTM)               (None, 240)               232320    \n",
      "_________________________________________________________________\n",
      "dense_20 (Dense)             (None, 4)                 964       \n",
      "=================================================================\n",
      "Total params: 233,284\n",
      "Trainable params: 233,284\n",
      "Non-trainable params: 0\n",
      "_________________________________________________________________\n",
      "PointredictScresSet0[-1] 14394.57\n"
     ]
    },
    {
     "name": "stderr",
     "output_type": "stream",
     "text": [
      "D:\\anaconda\\lib\\site-packages\\optuna\\distributions.py:427: UserWarning:\n",
      "\n",
      "Choices for a categorical distribution should be a tuple of None, bool, int, float and str for persistent storage but contains <class 'tensorflow.python.keras.optimizer_v2.adam.Adam'> which is of type ABCMeta.\n",
      "\n",
      "\u001b[32m[I 2022-11-09 10:25:45,521]\u001b[0m Trial 21 finished with value: 15977.44 and parameters: {'optimizer': <class 'tensorflow.python.keras.optimizer_v2.adam.Adam'>, 'units': 215, 'epochs': 100, 'batch_size': 32, 'learning_rate': 0.007598755493735847}. Best is trial 12 with value: 14272.51.\u001b[0m\n"
     ]
    },
    {
     "name": "stdout",
     "output_type": "stream",
     "text": [
      "Model: \"sequential_21\"\n",
      "_________________________________________________________________\n",
      "Layer (type)                 Output Shape              Param #   \n",
      "=================================================================\n",
      "lstm_21 (LSTM)               (None, 215)               186620    \n",
      "_________________________________________________________________\n",
      "dense_21 (Dense)             (None, 4)                 864       \n",
      "=================================================================\n",
      "Total params: 187,484\n",
      "Trainable params: 187,484\n",
      "Non-trainable params: 0\n",
      "_________________________________________________________________\n",
      "PointredictScresSet0[-1] 15977.44\n"
     ]
    },
    {
     "name": "stderr",
     "output_type": "stream",
     "text": [
      "D:\\anaconda\\lib\\site-packages\\optuna\\distributions.py:427: UserWarning:\n",
      "\n",
      "Choices for a categorical distribution should be a tuple of None, bool, int, float and str for persistent storage but contains <class 'tensorflow.python.keras.optimizer_v2.adam.Adam'> which is of type ABCMeta.\n",
      "\n",
      "\u001b[32m[I 2022-11-09 10:27:50,437]\u001b[0m Trial 22 finished with value: 15762.36 and parameters: {'optimizer': <class 'tensorflow.python.keras.optimizer_v2.adam.Adam'>, 'units': 205, 'epochs': 90, 'batch_size': 32, 'learning_rate': 0.005197121972462611}. Best is trial 12 with value: 14272.51.\u001b[0m\n"
     ]
    },
    {
     "name": "stdout",
     "output_type": "stream",
     "text": [
      "Model: \"sequential_22\"\n",
      "_________________________________________________________________\n",
      "Layer (type)                 Output Shape              Param #   \n",
      "=================================================================\n",
      "lstm_22 (LSTM)               (None, 205)               169740    \n",
      "_________________________________________________________________\n",
      "dense_22 (Dense)             (None, 4)                 824       \n",
      "=================================================================\n",
      "Total params: 170,564\n",
      "Trainable params: 170,564\n",
      "Non-trainable params: 0\n",
      "_________________________________________________________________\n",
      "PointredictScresSet0[-1] 15762.36\n"
     ]
    },
    {
     "name": "stderr",
     "output_type": "stream",
     "text": [
      "D:\\anaconda\\lib\\site-packages\\optuna\\distributions.py:427: UserWarning:\n",
      "\n",
      "Choices for a categorical distribution should be a tuple of None, bool, int, float and str for persistent storage but contains <class 'tensorflow.python.keras.optimizer_v2.adam.Adam'> which is of type ABCMeta.\n",
      "\n",
      "\u001b[32m[I 2022-11-09 10:29:25,160]\u001b[0m Trial 23 finished with value: 15527.83 and parameters: {'optimizer': <class 'tensorflow.python.keras.optimizer_v2.adam.Adam'>, 'units': 95, 'epochs': 100, 'batch_size': 32, 'learning_rate': 0.013332892768880151}. Best is trial 12 with value: 14272.51.\u001b[0m\n"
     ]
    },
    {
     "name": "stdout",
     "output_type": "stream",
     "text": [
      "Model: \"sequential_23\"\n",
      "_________________________________________________________________\n",
      "Layer (type)                 Output Shape              Param #   \n",
      "=================================================================\n",
      "lstm_23 (LSTM)               (None, 95)                36860     \n",
      "_________________________________________________________________\n",
      "dense_23 (Dense)             (None, 4)                 384       \n",
      "=================================================================\n",
      "Total params: 37,244\n",
      "Trainable params: 37,244\n",
      "Non-trainable params: 0\n",
      "_________________________________________________________________\n",
      "PointredictScresSet0[-1] 15527.83\n"
     ]
    },
    {
     "name": "stderr",
     "output_type": "stream",
     "text": [
      "D:\\anaconda\\lib\\site-packages\\optuna\\distributions.py:427: UserWarning:\n",
      "\n",
      "Choices for a categorical distribution should be a tuple of None, bool, int, float and str for persistent storage but contains <class 'tensorflow.python.keras.optimizer_v2.adam.Adam'> which is of type ABCMeta.\n",
      "\n",
      "\u001b[32m[I 2022-11-09 10:31:31,024]\u001b[0m Trial 24 finished with value: 15397.18 and parameters: {'optimizer': <class 'tensorflow.python.keras.optimizer_v2.adam.Adam'>, 'units': 215, 'epochs': 90, 'batch_size': 32, 'learning_rate': 0.03470797554576505}. Best is trial 12 with value: 14272.51.\u001b[0m\n"
     ]
    },
    {
     "name": "stdout",
     "output_type": "stream",
     "text": [
      "Model: \"sequential_24\"\n",
      "_________________________________________________________________\n",
      "Layer (type)                 Output Shape              Param #   \n",
      "=================================================================\n",
      "lstm_24 (LSTM)               (None, 215)               186620    \n",
      "_________________________________________________________________\n",
      "dense_24 (Dense)             (None, 4)                 864       \n",
      "=================================================================\n",
      "Total params: 187,484\n",
      "Trainable params: 187,484\n",
      "Non-trainable params: 0\n",
      "_________________________________________________________________\n",
      "PointredictScresSet0[-1] 15397.18\n"
     ]
    },
    {
     "name": "stderr",
     "output_type": "stream",
     "text": [
      "D:\\anaconda\\lib\\site-packages\\optuna\\distributions.py:427: UserWarning:\n",
      "\n",
      "Choices for a categorical distribution should be a tuple of None, bool, int, float and str for persistent storage but contains <class 'tensorflow.python.keras.optimizer_v2.adam.Adam'> which is of type ABCMeta.\n",
      "\n",
      "\u001b[32m[I 2022-11-09 10:35:10,534]\u001b[0m Trial 25 finished with value: 15448.95 and parameters: {'optimizer': <class 'tensorflow.python.keras.optimizer_v2.adam.Adam'>, 'units': 410, 'epochs': 70, 'batch_size': 32, 'learning_rate': 0.013342286004081013}. Best is trial 12 with value: 14272.51.\u001b[0m\n"
     ]
    },
    {
     "name": "stdout",
     "output_type": "stream",
     "text": [
      "Model: \"sequential_25\"\n",
      "_________________________________________________________________\n",
      "Layer (type)                 Output Shape              Param #   \n",
      "=================================================================\n",
      "lstm_25 (LSTM)               (None, 410)               675680    \n",
      "_________________________________________________________________\n",
      "dense_25 (Dense)             (None, 4)                 1644      \n",
      "=================================================================\n",
      "Total params: 677,324\n",
      "Trainable params: 677,324\n",
      "Non-trainable params: 0\n",
      "_________________________________________________________________\n",
      "PointredictScresSet0[-1] 15448.95\n"
     ]
    },
    {
     "name": "stderr",
     "output_type": "stream",
     "text": [
      "D:\\anaconda\\lib\\site-packages\\optuna\\distributions.py:427: UserWarning:\n",
      "\n",
      "Choices for a categorical distribution should be a tuple of None, bool, int, float and str for persistent storage but contains <class 'tensorflow.python.keras.optimizer_v2.adam.Adam'> which is of type ABCMeta.\n",
      "\n",
      "\u001b[32m[I 2022-11-09 10:38:33,211]\u001b[0m Trial 26 finished with value: 14657.45 and parameters: {'optimizer': <class 'tensorflow.python.keras.optimizer_v2.adam.Adam'>, 'units': 315, 'epochs': 100, 'batch_size': 32, 'learning_rate': 0.0034613696376714844}. Best is trial 12 with value: 14272.51.\u001b[0m\n"
     ]
    },
    {
     "name": "stdout",
     "output_type": "stream",
     "text": [
      "Model: \"sequential_26\"\n",
      "_________________________________________________________________\n",
      "Layer (type)                 Output Shape              Param #   \n",
      "=================================================================\n",
      "lstm_26 (LSTM)               (None, 315)               399420    \n",
      "_________________________________________________________________\n",
      "dense_26 (Dense)             (None, 4)                 1264      \n",
      "=================================================================\n",
      "Total params: 400,684\n",
      "Trainable params: 400,684\n",
      "Non-trainable params: 0\n",
      "_________________________________________________________________\n",
      "PointredictScresSet0[-1] 14657.45\n"
     ]
    },
    {
     "name": "stderr",
     "output_type": "stream",
     "text": [
      "D:\\anaconda\\lib\\site-packages\\optuna\\distributions.py:427: UserWarning:\n",
      "\n",
      "Choices for a categorical distribution should be a tuple of None, bool, int, float and str for persistent storage but contains <class 'tensorflow.python.keras.optimizer_v2.adam.Adam'> which is of type ABCMeta.\n",
      "\n",
      "\u001b[32m[I 2022-11-09 10:39:45,508]\u001b[0m Trial 27 finished with value: 15747.24 and parameters: {'optimizer': <class 'tensorflow.python.keras.optimizer_v2.adam.Adam'>, 'units': 45, 'epochs': 90, 'batch_size': 32, 'learning_rate': 0.002051693652926556}. Best is trial 12 with value: 14272.51.\u001b[0m\n"
     ]
    },
    {
     "name": "stdout",
     "output_type": "stream",
     "text": [
      "Model: \"sequential_27\"\n",
      "_________________________________________________________________\n",
      "Layer (type)                 Output Shape              Param #   \n",
      "=================================================================\n",
      "lstm_27 (LSTM)               (None, 45)                8460      \n",
      "_________________________________________________________________\n",
      "dense_27 (Dense)             (None, 4)                 184       \n",
      "=================================================================\n",
      "Total params: 8,644\n",
      "Trainable params: 8,644\n",
      "Non-trainable params: 0\n",
      "_________________________________________________________________\n",
      "PointredictScresSet0[-1] 15747.24\n"
     ]
    },
    {
     "name": "stderr",
     "output_type": "stream",
     "text": [
      "D:\\anaconda\\lib\\site-packages\\optuna\\distributions.py:427: UserWarning:\n",
      "\n",
      "Choices for a categorical distribution should be a tuple of None, bool, int, float and str for persistent storage but contains <class 'tensorflow.python.keras.optimizer_v2.adam.Adam'> which is of type ABCMeta.\n",
      "\n",
      "\u001b[32m[I 2022-11-09 10:41:42,003]\u001b[0m Trial 28 finished with value: 15045.54 and parameters: {'optimizer': <class 'tensorflow.python.keras.optimizer_v2.adam.Adam'>, 'units': 235, 'epochs': 70, 'batch_size': 32, 'learning_rate': 0.006075403204739322}. Best is trial 12 with value: 14272.51.\u001b[0m\n"
     ]
    },
    {
     "name": "stdout",
     "output_type": "stream",
     "text": [
      "Model: \"sequential_28\"\n",
      "_________________________________________________________________\n",
      "Layer (type)                 Output Shape              Param #   \n",
      "=================================================================\n",
      "lstm_28 (LSTM)               (None, 235)               222780    \n",
      "_________________________________________________________________\n",
      "dense_28 (Dense)             (None, 4)                 944       \n",
      "=================================================================\n",
      "Total params: 223,724\n",
      "Trainable params: 223,724\n",
      "Non-trainable params: 0\n",
      "_________________________________________________________________\n",
      "PointredictScresSet0[-1] 15045.54\n"
     ]
    },
    {
     "name": "stderr",
     "output_type": "stream",
     "text": [
      "D:\\anaconda\\lib\\site-packages\\optuna\\distributions.py:427: UserWarning:\n",
      "\n",
      "Choices for a categorical distribution should be a tuple of None, bool, int, float and str for persistent storage but contains <class 'tensorflow.python.keras.optimizer_v2.adam.Adam'> which is of type ABCMeta.\n",
      "\n",
      "\u001b[32m[I 2022-11-09 10:42:47,821]\u001b[0m Trial 29 finished with value: 23603.05 and parameters: {'optimizer': <class 'tensorflow.python.keras.optimizer_v2.adam.Adam'>, 'units': 180, 'epochs': 10, 'batch_size': 8, 'learning_rate': 0.05515139550667411}. Best is trial 12 with value: 14272.51.\u001b[0m\n"
     ]
    },
    {
     "name": "stdout",
     "output_type": "stream",
     "text": [
      "Model: \"sequential_29\"\n",
      "_________________________________________________________________\n",
      "Layer (type)                 Output Shape              Param #   \n",
      "=================================================================\n",
      "lstm_29 (LSTM)               (None, 180)               131040    \n",
      "_________________________________________________________________\n",
      "dense_29 (Dense)             (None, 4)                 724       \n",
      "=================================================================\n",
      "Total params: 131,764\n",
      "Trainable params: 131,764\n",
      "Non-trainable params: 0\n",
      "_________________________________________________________________\n",
      "PointredictScresSet0[-1] 23603.05\n"
     ]
    },
    {
     "name": "stderr",
     "output_type": "stream",
     "text": [
      "D:\\anaconda\\lib\\site-packages\\optuna\\distributions.py:427: UserWarning:\n",
      "\n",
      "Choices for a categorical distribution should be a tuple of None, bool, int, float and str for persistent storage but contains <class 'tensorflow.python.keras.optimizer_v2.adam.Adam'> which is of type ABCMeta.\n",
      "\n",
      "\u001b[32m[I 2022-11-09 10:43:51,473]\u001b[0m Trial 30 finished with value: 21216.6 and parameters: {'optimizer': <class 'tensorflow.python.keras.optimizer_v2.adam.Adam'>, 'units': 120, 'epochs': 100, 'batch_size': 512, 'learning_rate': 0.5117631817448529}. Best is trial 12 with value: 14272.51.\u001b[0m\n"
     ]
    },
    {
     "name": "stdout",
     "output_type": "stream",
     "text": [
      "Model: \"sequential_30\"\n",
      "_________________________________________________________________\n",
      "Layer (type)                 Output Shape              Param #   \n",
      "=================================================================\n",
      "lstm_30 (LSTM)               (None, 120)               58560     \n",
      "_________________________________________________________________\n",
      "dense_30 (Dense)             (None, 4)                 484       \n",
      "=================================================================\n",
      "Total params: 59,044\n",
      "Trainable params: 59,044\n",
      "Non-trainable params: 0\n",
      "_________________________________________________________________\n",
      "PointredictScresSet0[-1] 21216.6\n"
     ]
    },
    {
     "name": "stderr",
     "output_type": "stream",
     "text": [
      "D:\\anaconda\\lib\\site-packages\\optuna\\distributions.py:427: UserWarning:\n",
      "\n",
      "Choices for a categorical distribution should be a tuple of None, bool, int, float and str for persistent storage but contains <class 'tensorflow.python.keras.optimizer_v2.adam.Adam'> which is of type ABCMeta.\n",
      "\n",
      "\u001b[32m[I 2022-11-09 10:47:29,166]\u001b[0m Trial 31 finished with value: 14918.13 and parameters: {'optimizer': <class 'tensorflow.python.keras.optimizer_v2.adam.Adam'>, 'units': 330, 'epochs': 100, 'batch_size': 32, 'learning_rate': 0.0037213544126671553}. Best is trial 12 with value: 14272.51.\u001b[0m\n"
     ]
    },
    {
     "name": "stdout",
     "output_type": "stream",
     "text": [
      "Model: \"sequential_31\"\n",
      "_________________________________________________________________\n",
      "Layer (type)                 Output Shape              Param #   \n",
      "=================================================================\n",
      "lstm_31 (LSTM)               (None, 330)               438240    \n",
      "_________________________________________________________________\n",
      "dense_31 (Dense)             (None, 4)                 1324      \n",
      "=================================================================\n",
      "Total params: 439,564\n",
      "Trainable params: 439,564\n",
      "Non-trainable params: 0\n",
      "_________________________________________________________________\n",
      "PointredictScresSet0[-1] 14918.13\n"
     ]
    },
    {
     "name": "stderr",
     "output_type": "stream",
     "text": [
      "D:\\anaconda\\lib\\site-packages\\optuna\\distributions.py:427: UserWarning:\n",
      "\n",
      "Choices for a categorical distribution should be a tuple of None, bool, int, float and str for persistent storage but contains <class 'tensorflow.python.keras.optimizer_v2.adam.Adam'> which is of type ABCMeta.\n",
      "\n",
      "\u001b[32m[I 2022-11-09 10:50:42,151]\u001b[0m Trial 32 finished with value: 15193.52 and parameters: {'optimizer': <class 'tensorflow.python.keras.optimizer_v2.adam.Adam'>, 'units': 315, 'epochs': 90, 'batch_size': 32, 'learning_rate': 0.0017217700701216614}. Best is trial 12 with value: 14272.51.\u001b[0m\n"
     ]
    },
    {
     "name": "stdout",
     "output_type": "stream",
     "text": [
      "Model: \"sequential_32\"\n",
      "_________________________________________________________________\n",
      "Layer (type)                 Output Shape              Param #   \n",
      "=================================================================\n",
      "lstm_32 (LSTM)               (None, 315)               399420    \n",
      "_________________________________________________________________\n",
      "dense_32 (Dense)             (None, 4)                 1264      \n",
      "=================================================================\n",
      "Total params: 400,684\n",
      "Trainable params: 400,684\n",
      "Non-trainable params: 0\n",
      "_________________________________________________________________\n",
      "PointredictScresSet0[-1] 15193.52\n"
     ]
    },
    {
     "name": "stderr",
     "output_type": "stream",
     "text": [
      "D:\\anaconda\\lib\\site-packages\\optuna\\distributions.py:427: UserWarning:\n",
      "\n",
      "Choices for a categorical distribution should be a tuple of None, bool, int, float and str for persistent storage but contains <class 'tensorflow.python.keras.optimizer_v2.adam.Adam'> which is of type ABCMeta.\n",
      "\n",
      "\u001b[32m[I 2022-11-09 10:55:42,868]\u001b[0m Trial 33 finished with value: 15566.98 and parameters: {'optimizer': <class 'tensorflow.python.keras.optimizer_v2.adam.Adam'>, 'units': 385, 'epochs': 100, 'batch_size': 32, 'learning_rate': 0.003565111538928157}. Best is trial 12 with value: 14272.51.\u001b[0m\n"
     ]
    },
    {
     "name": "stdout",
     "output_type": "stream",
     "text": [
      "Model: \"sequential_33\"\n",
      "_________________________________________________________________\n",
      "Layer (type)                 Output Shape              Param #   \n",
      "=================================================================\n",
      "lstm_33 (LSTM)               (None, 385)               595980    \n",
      "_________________________________________________________________\n",
      "dense_33 (Dense)             (None, 4)                 1544      \n",
      "=================================================================\n",
      "Total params: 597,524\n",
      "Trainable params: 597,524\n",
      "Non-trainable params: 0\n",
      "_________________________________________________________________\n",
      "PointredictScresSet0[-1] 15566.98\n"
     ]
    },
    {
     "name": "stderr",
     "output_type": "stream",
     "text": [
      "D:\\anaconda\\lib\\site-packages\\optuna\\distributions.py:427: UserWarning:\n",
      "\n",
      "Choices for a categorical distribution should be a tuple of None, bool, int, float and str for persistent storage but contains <class 'tensorflow.python.keras.optimizer_v2.adam.Adam'> which is of type ABCMeta.\n",
      "\n",
      "\u001b[32m[I 2022-11-09 10:57:54,925]\u001b[0m Trial 34 finished with value: 14906.54 and parameters: {'optimizer': <class 'tensorflow.python.keras.optimizer_v2.adam.Adam'>, 'units': 350, 'epochs': 80, 'batch_size': 128, 'learning_rate': 0.009840738735453046}. Best is trial 12 with value: 14272.51.\u001b[0m\n"
     ]
    },
    {
     "name": "stdout",
     "output_type": "stream",
     "text": [
      "Model: \"sequential_34\"\n",
      "_________________________________________________________________\n",
      "Layer (type)                 Output Shape              Param #   \n",
      "=================================================================\n",
      "lstm_34 (LSTM)               (None, 350)               492800    \n",
      "_________________________________________________________________\n",
      "dense_34 (Dense)             (None, 4)                 1404      \n",
      "=================================================================\n",
      "Total params: 494,204\n",
      "Trainable params: 494,204\n",
      "Non-trainable params: 0\n",
      "_________________________________________________________________\n",
      "PointredictScresSet0[-1] 14906.54\n"
     ]
    },
    {
     "name": "stderr",
     "output_type": "stream",
     "text": [
      "D:\\anaconda\\lib\\site-packages\\optuna\\distributions.py:427: UserWarning:\n",
      "\n",
      "Choices for a categorical distribution should be a tuple of None, bool, int, float and str for persistent storage but contains <class 'tensorflow.python.keras.optimizer_v2.adam.Adam'> which is of type ABCMeta.\n",
      "\n",
      "\u001b[32m[I 2022-11-09 11:04:13,279]\u001b[0m Trial 35 finished with value: 15201.15 and parameters: {'optimizer': <class 'tensorflow.python.keras.optimizer_v2.adam.Adam'>, 'units': 280, 'epochs': 90, 'batch_size': 8, 'learning_rate': 0.002563767570383573}. Best is trial 12 with value: 14272.51.\u001b[0m\n"
     ]
    },
    {
     "name": "stdout",
     "output_type": "stream",
     "text": [
      "Model: \"sequential_35\"\n",
      "_________________________________________________________________\n",
      "Layer (type)                 Output Shape              Param #   \n",
      "=================================================================\n",
      "lstm_35 (LSTM)               (None, 280)               315840    \n",
      "_________________________________________________________________\n",
      "dense_35 (Dense)             (None, 4)                 1124      \n",
      "=================================================================\n",
      "Total params: 316,964\n",
      "Trainable params: 316,964\n",
      "Non-trainable params: 0\n",
      "_________________________________________________________________\n",
      "PointredictScresSet0[-1] 15201.15\n"
     ]
    },
    {
     "name": "stderr",
     "output_type": "stream",
     "text": [
      "D:\\anaconda\\lib\\site-packages\\optuna\\distributions.py:427: UserWarning:\n",
      "\n",
      "Choices for a categorical distribution should be a tuple of None, bool, int, float and str for persistent storage but contains <class 'tensorflow.python.keras.optimizer_v2.adam.Adam'> which is of type ABCMeta.\n",
      "\n",
      "\u001b[32m[I 2022-11-09 11:09:00,730]\u001b[0m Trial 36 finished with value: 14371.37 and parameters: {'optimizer': <class 'tensorflow.python.keras.optimizer_v2.adam.Adam'>, 'units': 305, 'epochs': 100, 'batch_size': 16, 'learning_rate': 0.009159837699312124}. Best is trial 12 with value: 14272.51.\u001b[0m\n"
     ]
    },
    {
     "name": "stdout",
     "output_type": "stream",
     "text": [
      "Model: \"sequential_36\"\n",
      "_________________________________________________________________\n",
      "Layer (type)                 Output Shape              Param #   \n",
      "=================================================================\n",
      "lstm_36 (LSTM)               (None, 305)               374540    \n",
      "_________________________________________________________________\n",
      "dense_36 (Dense)             (None, 4)                 1224      \n",
      "=================================================================\n",
      "Total params: 375,764\n",
      "Trainable params: 375,764\n",
      "Non-trainable params: 0\n",
      "_________________________________________________________________\n",
      "PointredictScresSet0[-1] 14371.37\n"
     ]
    },
    {
     "name": "stderr",
     "output_type": "stream",
     "text": [
      "D:\\anaconda\\lib\\site-packages\\optuna\\distributions.py:427: UserWarning:\n",
      "\n",
      "Choices for a categorical distribution should be a tuple of None, bool, int, float and str for persistent storage but contains <class 'tensorflow.python.keras.optimizer_v2.adam.Adam'> which is of type ABCMeta.\n",
      "\n",
      "\u001b[32m[I 2022-11-09 11:10:59,561]\u001b[0m Trial 37 finished with value: 15517.55 and parameters: {'optimizer': <class 'tensorflow.python.keras.optimizer_v2.adam.Adam'>, 'units': 265, 'epochs': 40, 'batch_size': 16, 'learning_rate': 0.010323217023274323}. Best is trial 12 with value: 14272.51.\u001b[0m\n"
     ]
    },
    {
     "name": "stdout",
     "output_type": "stream",
     "text": [
      "Model: \"sequential_37\"\n",
      "_________________________________________________________________\n",
      "Layer (type)                 Output Shape              Param #   \n",
      "=================================================================\n",
      "lstm_37 (LSTM)               (None, 265)               283020    \n",
      "_________________________________________________________________\n",
      "dense_37 (Dense)             (None, 4)                 1064      \n",
      "=================================================================\n",
      "Total params: 284,084\n",
      "Trainable params: 284,084\n",
      "Non-trainable params: 0\n",
      "_________________________________________________________________\n",
      "PointredictScresSet0[-1] 15517.55\n"
     ]
    },
    {
     "name": "stderr",
     "output_type": "stream",
     "text": [
      "D:\\anaconda\\lib\\site-packages\\optuna\\distributions.py:427: UserWarning:\n",
      "\n",
      "Choices for a categorical distribution should be a tuple of None, bool, int, float and str for persistent storage but contains <class 'tensorflow.python.keras.optimizer_v2.adam.Adam'> which is of type ABCMeta.\n",
      "\n",
      "\u001b[32m[I 2022-11-09 11:16:29,306]\u001b[0m Trial 38 finished with value: 17521.28 and parameters: {'optimizer': <class 'tensorflow.python.keras.optimizer_v2.adam.Adam'>, 'units': 365, 'epochs': 80, 'batch_size': 16, 'learning_rate': 0.019570153499165854}. Best is trial 12 with value: 14272.51.\u001b[0m\n"
     ]
    },
    {
     "name": "stdout",
     "output_type": "stream",
     "text": [
      "Model: \"sequential_38\"\n",
      "_________________________________________________________________\n",
      "Layer (type)                 Output Shape              Param #   \n",
      "=================================================================\n",
      "lstm_38 (LSTM)               (None, 365)               535820    \n",
      "_________________________________________________________________\n",
      "dense_38 (Dense)             (None, 4)                 1464      \n",
      "=================================================================\n",
      "Total params: 537,284\n",
      "Trainable params: 537,284\n",
      "Non-trainable params: 0\n",
      "_________________________________________________________________\n",
      "PointredictScresSet0[-1] 17521.28\n"
     ]
    },
    {
     "name": "stderr",
     "output_type": "stream",
     "text": [
      "D:\\anaconda\\lib\\site-packages\\optuna\\distributions.py:427: UserWarning:\n",
      "\n",
      "Choices for a categorical distribution should be a tuple of None, bool, int, float and str for persistent storage but contains <class 'tensorflow.python.keras.optimizer_v2.adam.Adam'> which is of type ABCMeta.\n",
      "\n",
      "\u001b[32m[I 2022-11-09 11:21:06,918]\u001b[0m Trial 39 finished with value: 16215.39 and parameters: {'optimizer': <class 'tensorflow.python.keras.optimizer_v2.adam.Adam'>, 'units': 290, 'epochs': 90, 'batch_size': 16, 'learning_rate': 0.035716814313339555}. Best is trial 12 with value: 14272.51.\u001b[0m\n"
     ]
    },
    {
     "name": "stdout",
     "output_type": "stream",
     "text": [
      "Model: \"sequential_39\"\n",
      "_________________________________________________________________\n",
      "Layer (type)                 Output Shape              Param #   \n",
      "=================================================================\n",
      "lstm_39 (LSTM)               (None, 290)               338720    \n",
      "_________________________________________________________________\n",
      "dense_39 (Dense)             (None, 4)                 1164      \n",
      "=================================================================\n",
      "Total params: 339,884\n",
      "Trainable params: 339,884\n",
      "Non-trainable params: 0\n",
      "_________________________________________________________________\n",
      "PointredictScresSet0[-1] 16215.39\n"
     ]
    },
    {
     "name": "stderr",
     "output_type": "stream",
     "text": [
      "D:\\anaconda\\lib\\site-packages\\optuna\\distributions.py:427: UserWarning:\n",
      "\n",
      "Choices for a categorical distribution should be a tuple of None, bool, int, float and str for persistent storage but contains <class 'tensorflow.python.keras.optimizer_v2.adam.Adam'> which is of type ABCMeta.\n",
      "\n",
      "\u001b[32m[I 2022-11-09 11:24:00,413]\u001b[0m Trial 40 finished with value: 14818.34 and parameters: {'optimizer': <class 'tensorflow.python.keras.optimizer_v2.adam.Adam'>, 'units': 245, 'epochs': 60, 'batch_size': 16, 'learning_rate': 0.017544689983503278}. Best is trial 12 with value: 14272.51.\u001b[0m\n"
     ]
    },
    {
     "name": "stdout",
     "output_type": "stream",
     "text": [
      "Model: \"sequential_40\"\n",
      "_________________________________________________________________\n",
      "Layer (type)                 Output Shape              Param #   \n",
      "=================================================================\n",
      "lstm_40 (LSTM)               (None, 245)               242060    \n",
      "_________________________________________________________________\n",
      "dense_40 (Dense)             (None, 4)                 984       \n",
      "=================================================================\n",
      "Total params: 243,044\n",
      "Trainable params: 243,044\n",
      "Non-trainable params: 0\n",
      "_________________________________________________________________\n",
      "PointredictScresSet0[-1] 14818.34\n"
     ]
    },
    {
     "name": "stderr",
     "output_type": "stream",
     "text": [
      "D:\\anaconda\\lib\\site-packages\\optuna\\distributions.py:427: UserWarning:\n",
      "\n",
      "Choices for a categorical distribution should be a tuple of None, bool, int, float and str for persistent storage but contains <class 'tensorflow.python.keras.optimizer_v2.adam.Adam'> which is of type ABCMeta.\n",
      "\n",
      "\u001b[32m[I 2022-11-09 11:28:09,215]\u001b[0m Trial 41 finished with value: 15945.78 and parameters: {'optimizer': <class 'tensorflow.python.keras.optimizer_v2.adam.Adam'>, 'units': 310, 'epochs': 100, 'batch_size': 32, 'learning_rate': 0.005013596379629412}. Best is trial 12 with value: 14272.51.\u001b[0m\n"
     ]
    },
    {
     "name": "stdout",
     "output_type": "stream",
     "text": [
      "Model: \"sequential_41\"\n",
      "_________________________________________________________________\n",
      "Layer (type)                 Output Shape              Param #   \n",
      "=================================================================\n",
      "lstm_41 (LSTM)               (None, 310)               386880    \n",
      "_________________________________________________________________\n",
      "dense_41 (Dense)             (None, 4)                 1244      \n",
      "=================================================================\n",
      "Total params: 388,124\n",
      "Trainable params: 388,124\n",
      "Non-trainable params: 0\n",
      "_________________________________________________________________\n",
      "PointredictScresSet0[-1] 15945.78\n"
     ]
    },
    {
     "name": "stderr",
     "output_type": "stream",
     "text": [
      "D:\\anaconda\\lib\\site-packages\\optuna\\distributions.py:427: UserWarning:\n",
      "\n",
      "Choices for a categorical distribution should be a tuple of None, bool, int, float and str for persistent storage but contains <class 'tensorflow.python.keras.optimizer_v2.adam.Adam'> which is of type ABCMeta.\n",
      "\n",
      "\u001b[32m[I 2022-11-09 11:31:43,817]\u001b[0m Trial 42 finished with value: 14825.6 and parameters: {'optimizer': <class 'tensorflow.python.keras.optimizer_v2.adam.Adam'>, 'units': 425, 'epochs': 100, 'batch_size': 256, 'learning_rate': 0.00676434672064275}. Best is trial 12 with value: 14272.51.\u001b[0m\n"
     ]
    },
    {
     "name": "stdout",
     "output_type": "stream",
     "text": [
      "Model: \"sequential_42\"\n",
      "_________________________________________________________________\n",
      "Layer (type)                 Output Shape              Param #   \n",
      "=================================================================\n",
      "lstm_42 (LSTM)               (None, 425)               725900    \n",
      "_________________________________________________________________\n",
      "dense_42 (Dense)             (None, 4)                 1704      \n",
      "=================================================================\n",
      "Total params: 727,604\n",
      "Trainable params: 727,604\n",
      "Non-trainable params: 0\n",
      "_________________________________________________________________\n",
      "PointredictScresSet0[-1] 14825.6\n"
     ]
    },
    {
     "name": "stderr",
     "output_type": "stream",
     "text": [
      "D:\\anaconda\\lib\\site-packages\\optuna\\distributions.py:427: UserWarning:\n",
      "\n",
      "Choices for a categorical distribution should be a tuple of None, bool, int, float and str for persistent storage but contains <class 'tensorflow.python.keras.optimizer_v2.adam.Adam'> which is of type ABCMeta.\n",
      "\n",
      "\u001b[32m[I 2022-11-09 11:34:23,242]\u001b[0m Trial 43 finished with value: 15346.81 and parameters: {'optimizer': <class 'tensorflow.python.keras.optimizer_v2.adam.Adam'>, 'units': 330, 'epochs': 100, 'batch_size': 128, 'learning_rate': 0.0014991021839053517}. Best is trial 12 with value: 14272.51.\u001b[0m\n"
     ]
    },
    {
     "name": "stdout",
     "output_type": "stream",
     "text": [
      "Model: \"sequential_43\"\n",
      "_________________________________________________________________\n",
      "Layer (type)                 Output Shape              Param #   \n",
      "=================================================================\n",
      "lstm_43 (LSTM)               (None, 330)               438240    \n",
      "_________________________________________________________________\n",
      "dense_43 (Dense)             (None, 4)                 1324      \n",
      "=================================================================\n",
      "Total params: 439,564\n",
      "Trainable params: 439,564\n",
      "Non-trainable params: 0\n",
      "_________________________________________________________________\n",
      "PointredictScresSet0[-1] 15346.81\n"
     ]
    },
    {
     "name": "stderr",
     "output_type": "stream",
     "text": [
      "D:\\anaconda\\lib\\site-packages\\optuna\\distributions.py:427: UserWarning:\n",
      "\n",
      "Choices for a categorical distribution should be a tuple of None, bool, int, float and str for persistent storage but contains <class 'tensorflow.python.keras.optimizer_v2.adam.Adam'> which is of type ABCMeta.\n",
      "\n",
      "\u001b[32m[I 2022-11-09 11:38:04,216]\u001b[0m Trial 44 finished with value: 18347.3 and parameters: {'optimizer': <class 'tensorflow.python.keras.optimizer_v2.adam.Adam'>, 'units': 385, 'epochs': 90, 'batch_size': 64, 'learning_rate': 0.009482199479122008}. Best is trial 12 with value: 14272.51.\u001b[0m\n"
     ]
    },
    {
     "name": "stdout",
     "output_type": "stream",
     "text": [
      "Model: \"sequential_44\"\n",
      "_________________________________________________________________\n",
      "Layer (type)                 Output Shape              Param #   \n",
      "=================================================================\n",
      "lstm_44 (LSTM)               (None, 385)               595980    \n",
      "_________________________________________________________________\n",
      "dense_44 (Dense)             (None, 4)                 1544      \n",
      "=================================================================\n",
      "Total params: 597,524\n",
      "Trainable params: 597,524\n",
      "Non-trainable params: 0\n",
      "_________________________________________________________________\n",
      "PointredictScresSet0[-1] 18347.3\n"
     ]
    },
    {
     "name": "stderr",
     "output_type": "stream",
     "text": [
      "D:\\anaconda\\lib\\site-packages\\optuna\\distributions.py:427: UserWarning:\n",
      "\n",
      "Choices for a categorical distribution should be a tuple of None, bool, int, float and str for persistent storage but contains <class 'tensorflow.python.keras.optimizer_v2.adam.Adam'> which is of type ABCMeta.\n",
      "\n",
      "\u001b[32m[I 2022-11-09 11:41:22,578]\u001b[0m Trial 45 finished with value: 15263.2 and parameters: {'optimizer': <class 'tensorflow.python.keras.optimizer_v2.adam.Adam'>, 'units': 270, 'epochs': 100, 'batch_size': 32, 'learning_rate': 0.00401850773151606}. Best is trial 12 with value: 14272.51.\u001b[0m\n"
     ]
    },
    {
     "name": "stdout",
     "output_type": "stream",
     "text": [
      "Model: \"sequential_45\"\n",
      "_________________________________________________________________\n",
      "Layer (type)                 Output Shape              Param #   \n",
      "=================================================================\n",
      "lstm_45 (LSTM)               (None, 270)               293760    \n",
      "_________________________________________________________________\n",
      "dense_45 (Dense)             (None, 4)                 1084      \n",
      "=================================================================\n",
      "Total params: 294,844\n",
      "Trainable params: 294,844\n",
      "Non-trainable params: 0\n",
      "_________________________________________________________________\n",
      "PointredictScresSet0[-1] 15263.2\n"
     ]
    },
    {
     "name": "stderr",
     "output_type": "stream",
     "text": [
      "D:\\anaconda\\lib\\site-packages\\optuna\\distributions.py:427: UserWarning:\n",
      "\n",
      "Choices for a categorical distribution should be a tuple of None, bool, int, float and str for persistent storage but contains <class 'tensorflow.python.keras.optimizer_v2.adam.Adam'> which is of type ABCMeta.\n",
      "\n",
      "\u001b[32m[I 2022-11-09 11:43:29,544]\u001b[0m Trial 46 finished with value: 14671.99 and parameters: {'optimizer': <class 'tensorflow.python.keras.optimizer_v2.adam.Adam'>, 'units': 305, 'epochs': 80, 'batch_size': 512, 'learning_rate': 0.0025162702254103355}. Best is trial 12 with value: 14272.51.\u001b[0m\n"
     ]
    },
    {
     "name": "stdout",
     "output_type": "stream",
     "text": [
      "Model: \"sequential_46\"\n",
      "_________________________________________________________________\n",
      "Layer (type)                 Output Shape              Param #   \n",
      "=================================================================\n",
      "lstm_46 (LSTM)               (None, 305)               374540    \n",
      "_________________________________________________________________\n",
      "dense_46 (Dense)             (None, 4)                 1224      \n",
      "=================================================================\n",
      "Total params: 375,764\n",
      "Trainable params: 375,764\n",
      "Non-trainable params: 0\n",
      "_________________________________________________________________\n",
      "PointredictScresSet0[-1] 14671.99\n"
     ]
    },
    {
     "name": "stderr",
     "output_type": "stream",
     "text": [
      "D:\\anaconda\\lib\\site-packages\\optuna\\distributions.py:427: UserWarning:\n",
      "\n",
      "Choices for a categorical distribution should be a tuple of None, bool, int, float and str for persistent storage but contains <class 'tensorflow.python.keras.optimizer_v2.adam.Adam'> which is of type ABCMeta.\n",
      "\n",
      "\u001b[32m[I 2022-11-09 11:46:55,768]\u001b[0m Trial 47 finished with value: 14804.43 and parameters: {'optimizer': <class 'tensorflow.python.keras.optimizer_v2.adam.Adam'>, 'units': 230, 'epochs': 90, 'batch_size': 16, 'learning_rate': 0.004630370918662645}. Best is trial 12 with value: 14272.51.\u001b[0m\n"
     ]
    },
    {
     "name": "stdout",
     "output_type": "stream",
     "text": [
      "Model: \"sequential_47\"\n",
      "_________________________________________________________________\n",
      "Layer (type)                 Output Shape              Param #   \n",
      "=================================================================\n",
      "lstm_47 (LSTM)               (None, 230)               213440    \n",
      "_________________________________________________________________\n",
      "dense_47 (Dense)             (None, 4)                 924       \n",
      "=================================================================\n",
      "Total params: 214,364\n",
      "Trainable params: 214,364\n",
      "Non-trainable params: 0\n",
      "_________________________________________________________________\n",
      "PointredictScresSet0[-1] 14804.43\n"
     ]
    },
    {
     "name": "stderr",
     "output_type": "stream",
     "text": [
      "D:\\anaconda\\lib\\site-packages\\optuna\\distributions.py:427: UserWarning:\n",
      "\n",
      "Choices for a categorical distribution should be a tuple of None, bool, int, float and str for persistent storage but contains <class 'tensorflow.python.keras.optimizer_v2.adam.Adam'> which is of type ABCMeta.\n",
      "\n",
      "\u001b[32m[I 2022-11-09 11:48:05,087]\u001b[0m Trial 48 finished with value: 17797.75 and parameters: {'optimizer': <class 'tensorflow.python.keras.optimizer_v2.adam.Adam'>, 'units': 190, 'epochs': 40, 'batch_size': 256, 'learning_rate': 0.008419500349125284}. Best is trial 12 with value: 14272.51.\u001b[0m\n"
     ]
    },
    {
     "name": "stdout",
     "output_type": "stream",
     "text": [
      "Model: \"sequential_48\"\n",
      "_________________________________________________________________\n",
      "Layer (type)                 Output Shape              Param #   \n",
      "=================================================================\n",
      "lstm_48 (LSTM)               (None, 190)               145920    \n",
      "_________________________________________________________________\n",
      "dense_48 (Dense)             (None, 4)                 764       \n",
      "=================================================================\n",
      "Total params: 146,684\n",
      "Trainable params: 146,684\n",
      "Non-trainable params: 0\n",
      "_________________________________________________________________\n",
      "PointredictScresSet0[-1] 17797.75\n"
     ]
    },
    {
     "name": "stderr",
     "output_type": "stream",
     "text": [
      "D:\\anaconda\\lib\\site-packages\\optuna\\distributions.py:427: UserWarning:\n",
      "\n",
      "Choices for a categorical distribution should be a tuple of None, bool, int, float and str for persistent storage but contains <class 'tensorflow.python.keras.optimizer_v2.adam.Adam'> which is of type ABCMeta.\n",
      "\n",
      "\u001b[32m[I 2022-11-09 11:52:45,922]\u001b[0m Trial 49 finished with value: 13937.98 and parameters: {'optimizer': <class 'tensorflow.python.keras.optimizer_v2.adam.Adam'>, 'units': 350, 'epochs': 100, 'batch_size': 32, 'learning_rate': 0.0014176198653707659}. Best is trial 49 with value: 13937.98.\u001b[0m\n"
     ]
    },
    {
     "name": "stdout",
     "output_type": "stream",
     "text": [
      "Model: \"sequential_49\"\n",
      "_________________________________________________________________\n",
      "Layer (type)                 Output Shape              Param #   \n",
      "=================================================================\n",
      "lstm_49 (LSTM)               (None, 350)               492800    \n",
      "_________________________________________________________________\n",
      "dense_49 (Dense)             (None, 4)                 1404      \n",
      "=================================================================\n",
      "Total params: 494,204\n",
      "Trainable params: 494,204\n",
      "Non-trainable params: 0\n",
      "_________________________________________________________________\n",
      "PointredictScresSet0[-1] 13937.98\n"
     ]
    },
    {
     "name": "stderr",
     "output_type": "stream",
     "text": [
      "D:\\anaconda\\lib\\site-packages\\optuna\\distributions.py:427: UserWarning:\n",
      "\n",
      "Choices for a categorical distribution should be a tuple of None, bool, int, float and str for persistent storage but contains <class 'tensorflow.python.keras.optimizer_v2.adam.Adam'> which is of type ABCMeta.\n",
      "\n",
      "\u001b[32m[I 2022-11-09 11:53:55,173]\u001b[0m Trial 50 finished with value: 16228.87 and parameters: {'optimizer': <class 'tensorflow.python.keras.optimizer_v2.adam.Adam'>, 'units': 65, 'epochs': 80, 'batch_size': 64, 'learning_rate': 0.0010643725760706626}. Best is trial 49 with value: 13937.98.\u001b[0m\n"
     ]
    },
    {
     "name": "stdout",
     "output_type": "stream",
     "text": [
      "Model: \"sequential_50\"\n",
      "_________________________________________________________________\n",
      "Layer (type)                 Output Shape              Param #   \n",
      "=================================================================\n",
      "lstm_50 (LSTM)               (None, 65)                17420     \n",
      "_________________________________________________________________\n",
      "dense_50 (Dense)             (None, 4)                 264       \n",
      "=================================================================\n",
      "Total params: 17,684\n",
      "Trainable params: 17,684\n",
      "Non-trainable params: 0\n",
      "_________________________________________________________________\n",
      "PointredictScresSet0[-1] 16228.87\n"
     ]
    },
    {
     "name": "stderr",
     "output_type": "stream",
     "text": [
      "D:\\anaconda\\lib\\site-packages\\optuna\\distributions.py:427: UserWarning:\n",
      "\n",
      "Choices for a categorical distribution should be a tuple of None, bool, int, float and str for persistent storage but contains <class 'tensorflow.python.keras.optimizer_v2.adam.Adam'> which is of type ABCMeta.\n",
      "\n",
      "\u001b[32m[I 2022-11-09 11:58:40,286]\u001b[0m Trial 51 finished with value: 15050.32 and parameters: {'optimizer': <class 'tensorflow.python.keras.optimizer_v2.adam.Adam'>, 'units': 350, 'epochs': 100, 'batch_size': 32, 'learning_rate': 0.001903298777117545}. Best is trial 49 with value: 13937.98.\u001b[0m\n"
     ]
    },
    {
     "name": "stdout",
     "output_type": "stream",
     "text": [
      "Model: \"sequential_51\"\n",
      "_________________________________________________________________\n",
      "Layer (type)                 Output Shape              Param #   \n",
      "=================================================================\n",
      "lstm_51 (LSTM)               (None, 350)               492800    \n",
      "_________________________________________________________________\n",
      "dense_51 (Dense)             (None, 4)                 1404      \n",
      "=================================================================\n",
      "Total params: 494,204\n",
      "Trainable params: 494,204\n",
      "Non-trainable params: 0\n",
      "_________________________________________________________________\n",
      "PointredictScresSet0[-1] 15050.32\n"
     ]
    },
    {
     "name": "stderr",
     "output_type": "stream",
     "text": [
      "D:\\anaconda\\lib\\site-packages\\optuna\\distributions.py:427: UserWarning:\n",
      "\n",
      "Choices for a categorical distribution should be a tuple of None, bool, int, float and str for persistent storage but contains <class 'tensorflow.python.keras.optimizer_v2.adam.Adam'> which is of type ABCMeta.\n",
      "\n",
      "\u001b[32m[I 2022-11-09 12:00:07,069]\u001b[0m Trial 52 finished with value: 15995.6 and parameters: {'optimizer': <class 'tensorflow.python.keras.optimizer_v2.adam.Adam'>, 'units': 5, 'epochs': 100, 'batch_size': 32, 'learning_rate': 0.0013779841470188607}. Best is trial 49 with value: 13937.98.\u001b[0m\n"
     ]
    },
    {
     "name": "stdout",
     "output_type": "stream",
     "text": [
      "Model: \"sequential_52\"\n",
      "_________________________________________________________________\n",
      "Layer (type)                 Output Shape              Param #   \n",
      "=================================================================\n",
      "lstm_52 (LSTM)               (None, 5)                 140       \n",
      "_________________________________________________________________\n",
      "dense_52 (Dense)             (None, 4)                 24        \n",
      "=================================================================\n",
      "Total params: 164\n",
      "Trainable params: 164\n",
      "Non-trainable params: 0\n",
      "_________________________________________________________________\n",
      "PointredictScresSet0[-1] 15995.6\n"
     ]
    },
    {
     "name": "stderr",
     "output_type": "stream",
     "text": [
      "D:\\anaconda\\lib\\site-packages\\optuna\\distributions.py:427: UserWarning:\n",
      "\n",
      "Choices for a categorical distribution should be a tuple of None, bool, int, float and str for persistent storage but contains <class 'tensorflow.python.keras.optimizer_v2.adam.Adam'> which is of type ABCMeta.\n",
      "\n",
      "\u001b[32m[I 2022-11-09 12:03:02,232]\u001b[0m Trial 53 finished with value: 15128.95 and parameters: {'optimizer': <class 'tensorflow.python.keras.optimizer_v2.adam.Adam'>, 'units': 260, 'epochs': 90, 'batch_size': 32, 'learning_rate': 0.0031903565314109587}. Best is trial 49 with value: 13937.98.\u001b[0m\n"
     ]
    },
    {
     "name": "stdout",
     "output_type": "stream",
     "text": [
      "Model: \"sequential_53\"\n",
      "_________________________________________________________________\n",
      "Layer (type)                 Output Shape              Param #   \n",
      "=================================================================\n",
      "lstm_53 (LSTM)               (None, 260)               272480    \n",
      "_________________________________________________________________\n",
      "dense_53 (Dense)             (None, 4)                 1044      \n",
      "=================================================================\n",
      "Total params: 273,524\n",
      "Trainable params: 273,524\n",
      "Non-trainable params: 0\n",
      "_________________________________________________________________\n",
      "PointredictScresSet0[-1] 15128.95\n"
     ]
    },
    {
     "name": "stderr",
     "output_type": "stream",
     "text": [
      "D:\\anaconda\\lib\\site-packages\\optuna\\distributions.py:427: UserWarning:\n",
      "\n",
      "Choices for a categorical distribution should be a tuple of None, bool, int, float and str for persistent storage but contains <class 'tensorflow.python.keras.optimizer_v2.adam.Adam'> which is of type ABCMeta.\n",
      "\n",
      "\u001b[32m[I 2022-11-09 12:06:33,642]\u001b[0m Trial 54 finished with value: 14607.65 and parameters: {'optimizer': <class 'tensorflow.python.keras.optimizer_v2.adam.Adam'>, 'units': 290, 'epochs': 100, 'batch_size': 32, 'learning_rate': 0.0029792552229331638}. Best is trial 49 with value: 13937.98.\u001b[0m\n"
     ]
    },
    {
     "name": "stdout",
     "output_type": "stream",
     "text": [
      "Model: \"sequential_54\"\n",
      "_________________________________________________________________\n",
      "Layer (type)                 Output Shape              Param #   \n",
      "=================================================================\n",
      "lstm_54 (LSTM)               (None, 290)               338720    \n",
      "_________________________________________________________________\n",
      "dense_54 (Dense)             (None, 4)                 1164      \n",
      "=================================================================\n",
      "Total params: 339,884\n",
      "Trainable params: 339,884\n",
      "Non-trainable params: 0\n",
      "_________________________________________________________________\n",
      "PointredictScresSet0[-1] 14607.65\n"
     ]
    },
    {
     "name": "stderr",
     "output_type": "stream",
     "text": [
      "D:\\anaconda\\lib\\site-packages\\optuna\\distributions.py:427: UserWarning:\n",
      "\n",
      "Choices for a categorical distribution should be a tuple of None, bool, int, float and str for persistent storage but contains <class 'tensorflow.python.keras.optimizer_v2.adam.Adam'> which is of type ABCMeta.\n",
      "\n",
      "\u001b[32m[I 2022-11-09 12:08:28,190]\u001b[0m Trial 55 finished with value: 15378.29 and parameters: {'optimizer': <class 'tensorflow.python.keras.optimizer_v2.adam.Adam'>, 'units': 155, 'epochs': 90, 'batch_size': 32, 'learning_rate': 0.0012842492883788268}. Best is trial 49 with value: 13937.98.\u001b[0m\n"
     ]
    },
    {
     "name": "stdout",
     "output_type": "stream",
     "text": [
      "Model: \"sequential_55\"\n",
      "_________________________________________________________________\n",
      "Layer (type)                 Output Shape              Param #   \n",
      "=================================================================\n",
      "lstm_55 (LSTM)               (None, 155)               97340     \n",
      "_________________________________________________________________\n",
      "dense_55 (Dense)             (None, 4)                 624       \n",
      "=================================================================\n",
      "Total params: 97,964\n",
      "Trainable params: 97,964\n",
      "Non-trainable params: 0\n",
      "_________________________________________________________________\n",
      "PointredictScresSet0[-1] 15378.29\n"
     ]
    },
    {
     "name": "stderr",
     "output_type": "stream",
     "text": [
      "D:\\anaconda\\lib\\site-packages\\optuna\\distributions.py:427: UserWarning:\n",
      "\n",
      "Choices for a categorical distribution should be a tuple of None, bool, int, float and str for persistent storage but contains <class 'tensorflow.python.keras.optimizer_v2.adam.Adam'> which is of type ABCMeta.\n",
      "\n",
      "\u001b[32m[I 2022-11-09 12:31:34,392]\u001b[0m Trial 56 finished with value: 14711.83 and parameters: {'optimizer': <class 'tensorflow.python.keras.optimizer_v2.adam.Adam'>, 'units': 465, 'epochs': 100, 'batch_size': 8, 'learning_rate': 0.0025033973352994324}. Best is trial 49 with value: 13937.98.\u001b[0m\n"
     ]
    },
    {
     "name": "stdout",
     "output_type": "stream",
     "text": [
      "Model: \"sequential_56\"\n",
      "_________________________________________________________________\n",
      "Layer (type)                 Output Shape              Param #   \n",
      "=================================================================\n",
      "lstm_56 (LSTM)               (None, 465)               868620    \n",
      "_________________________________________________________________\n",
      "dense_56 (Dense)             (None, 4)                 1864      \n",
      "=================================================================\n",
      "Total params: 870,484\n",
      "Trainable params: 870,484\n",
      "Non-trainable params: 0\n",
      "_________________________________________________________________\n",
      "PointredictScresSet0[-1] 14711.83\n"
     ]
    },
    {
     "name": "stderr",
     "output_type": "stream",
     "text": [
      "D:\\anaconda\\lib\\site-packages\\optuna\\distributions.py:427: UserWarning:\n",
      "\n",
      "Choices for a categorical distribution should be a tuple of None, bool, int, float and str for persistent storage but contains <class 'tensorflow.python.keras.optimizer_v2.adam.Adam'> which is of type ABCMeta.\n",
      "\n",
      "\u001b[32m[I 2022-11-09 12:35:38,554]\u001b[0m Trial 57 finished with value: 14853.94 and parameters: {'optimizer': <class 'tensorflow.python.keras.optimizer_v2.adam.Adam'>, 'units': 290, 'epochs': 100, 'batch_size': 32, 'learning_rate': 0.005927179676123667}. Best is trial 49 with value: 13937.98.\u001b[0m\n"
     ]
    },
    {
     "name": "stdout",
     "output_type": "stream",
     "text": [
      "Model: \"sequential_57\"\n",
      "_________________________________________________________________\n",
      "Layer (type)                 Output Shape              Param #   \n",
      "=================================================================\n",
      "lstm_57 (LSTM)               (None, 290)               338720    \n",
      "_________________________________________________________________\n",
      "dense_57 (Dense)             (None, 4)                 1164      \n",
      "=================================================================\n",
      "Total params: 339,884\n",
      "Trainable params: 339,884\n",
      "Non-trainable params: 0\n",
      "_________________________________________________________________\n",
      "PointredictScresSet0[-1] 14853.94\n"
     ]
    },
    {
     "name": "stderr",
     "output_type": "stream",
     "text": [
      "D:\\anaconda\\lib\\site-packages\\optuna\\distributions.py:427: UserWarning:\n",
      "\n",
      "Choices for a categorical distribution should be a tuple of None, bool, int, float and str for persistent storage but contains <class 'tensorflow.python.keras.optimizer_v2.adam.Adam'> which is of type ABCMeta.\n",
      "\n",
      "\u001b[32m[I 2022-11-09 12:38:01,133]\u001b[0m Trial 58 finished with value: 14122.73 and parameters: {'optimizer': <class 'tensorflow.python.keras.optimizer_v2.adam.Adam'>, 'units': 200, 'epochs': 90, 'batch_size': 32, 'learning_rate': 0.001803383479390909}. Best is trial 49 with value: 13937.98.\u001b[0m\n"
     ]
    },
    {
     "name": "stdout",
     "output_type": "stream",
     "text": [
      "Model: \"sequential_58\"\n",
      "_________________________________________________________________\n",
      "Layer (type)                 Output Shape              Param #   \n",
      "=================================================================\n",
      "lstm_58 (LSTM)               (None, 200)               161600    \n",
      "_________________________________________________________________\n",
      "dense_58 (Dense)             (None, 4)                 804       \n",
      "=================================================================\n",
      "Total params: 162,404\n",
      "Trainable params: 162,404\n",
      "Non-trainable params: 0\n",
      "_________________________________________________________________\n",
      "PointredictScresSet0[-1] 14122.73\n"
     ]
    },
    {
     "name": "stderr",
     "output_type": "stream",
     "text": [
      "D:\\anaconda\\lib\\site-packages\\optuna\\distributions.py:427: UserWarning:\n",
      "\n",
      "Choices for a categorical distribution should be a tuple of None, bool, int, float and str for persistent storage but contains <class 'tensorflow.python.keras.optimizer_v2.adam.Adam'> which is of type ABCMeta.\n",
      "\n",
      "\u001b[32m[I 2022-11-09 12:41:15,384]\u001b[0m Trial 59 finished with value: 15019.58 and parameters: {'optimizer': <class 'tensorflow.python.keras.optimizer_v2.adam.Adam'>, 'units': 205, 'epochs': 90, 'batch_size': 16, 'learning_rate': 0.0010197019589917253}. Best is trial 49 with value: 13937.98.\u001b[0m\n"
     ]
    },
    {
     "name": "stdout",
     "output_type": "stream",
     "text": [
      "Model: \"sequential_59\"\n",
      "_________________________________________________________________\n",
      "Layer (type)                 Output Shape              Param #   \n",
      "=================================================================\n",
      "lstm_59 (LSTM)               (None, 205)               169740    \n",
      "_________________________________________________________________\n",
      "dense_59 (Dense)             (None, 4)                 824       \n",
      "=================================================================\n",
      "Total params: 170,564\n",
      "Trainable params: 170,564\n",
      "Non-trainable params: 0\n",
      "_________________________________________________________________\n",
      "PointredictScresSet0[-1] 15019.58\n"
     ]
    },
    {
     "name": "stderr",
     "output_type": "stream",
     "text": [
      "D:\\anaconda\\lib\\site-packages\\optuna\\distributions.py:427: UserWarning:\n",
      "\n",
      "Choices for a categorical distribution should be a tuple of None, bool, int, float and str for persistent storage but contains <class 'tensorflow.python.keras.optimizer_v2.adam.Adam'> which is of type ABCMeta.\n",
      "\n",
      "\u001b[32m[I 2022-11-09 12:42:22,838]\u001b[0m Trial 60 finished with value: 15480.07 and parameters: {'optimizer': <class 'tensorflow.python.keras.optimizer_v2.adam.Adam'>, 'units': 125, 'epochs': 70, 'batch_size': 512, 'learning_rate': 0.0016458282497675992}. Best is trial 49 with value: 13937.98.\u001b[0m\n"
     ]
    },
    {
     "name": "stdout",
     "output_type": "stream",
     "text": [
      "Model: \"sequential_60\"\n",
      "_________________________________________________________________\n",
      "Layer (type)                 Output Shape              Param #   \n",
      "=================================================================\n",
      "lstm_60 (LSTM)               (None, 125)               63500     \n",
      "_________________________________________________________________\n",
      "dense_60 (Dense)             (None, 4)                 504       \n",
      "=================================================================\n",
      "Total params: 64,004\n",
      "Trainable params: 64,004\n",
      "Non-trainable params: 0\n",
      "_________________________________________________________________\n",
      "PointredictScresSet0[-1] 15480.07\n"
     ]
    },
    {
     "name": "stderr",
     "output_type": "stream",
     "text": [
      "D:\\anaconda\\lib\\site-packages\\optuna\\distributions.py:427: UserWarning:\n",
      "\n",
      "Choices for a categorical distribution should be a tuple of None, bool, int, float and str for persistent storage but contains <class 'tensorflow.python.keras.optimizer_v2.adam.Adam'> which is of type ABCMeta.\n",
      "\n",
      "\u001b[32m[I 2022-11-09 12:44:59,990]\u001b[0m Trial 61 finished with value: 14935.89 and parameters: {'optimizer': <class 'tensorflow.python.keras.optimizer_v2.adam.Adam'>, 'units': 230, 'epochs': 100, 'batch_size': 32, 'learning_rate': 0.002061991648066677}. Best is trial 49 with value: 13937.98.\u001b[0m\n"
     ]
    },
    {
     "name": "stdout",
     "output_type": "stream",
     "text": [
      "Model: \"sequential_61\"\n",
      "_________________________________________________________________\n",
      "Layer (type)                 Output Shape              Param #   \n",
      "=================================================================\n",
      "lstm_61 (LSTM)               (None, 230)               213440    \n",
      "_________________________________________________________________\n",
      "dense_61 (Dense)             (None, 4)                 924       \n",
      "=================================================================\n",
      "Total params: 214,364\n",
      "Trainable params: 214,364\n",
      "Non-trainable params: 0\n",
      "_________________________________________________________________\n",
      "PointredictScresSet0[-1] 14935.89\n"
     ]
    },
    {
     "name": "stderr",
     "output_type": "stream",
     "text": [
      "D:\\anaconda\\lib\\site-packages\\optuna\\distributions.py:427: UserWarning:\n",
      "\n",
      "Choices for a categorical distribution should be a tuple of None, bool, int, float and str for persistent storage but contains <class 'tensorflow.python.keras.optimizer_v2.adam.Adam'> which is of type ABCMeta.\n",
      "\n",
      "\u001b[32m[I 2022-11-09 12:48:11,658]\u001b[0m Trial 62 finished with value: 15151.67 and parameters: {'optimizer': <class 'tensorflow.python.keras.optimizer_v2.adam.Adam'>, 'units': 255, 'epochs': 100, 'batch_size': 32, 'learning_rate': 0.001332372730483595}. Best is trial 49 with value: 13937.98.\u001b[0m\n"
     ]
    },
    {
     "name": "stdout",
     "output_type": "stream",
     "text": [
      "Model: \"sequential_62\"\n",
      "_________________________________________________________________\n",
      "Layer (type)                 Output Shape              Param #   \n",
      "=================================================================\n",
      "lstm_62 (LSTM)               (None, 255)               262140    \n",
      "_________________________________________________________________\n",
      "dense_62 (Dense)             (None, 4)                 1024      \n",
      "=================================================================\n",
      "Total params: 263,164\n",
      "Trainable params: 263,164\n",
      "Non-trainable params: 0\n",
      "_________________________________________________________________\n",
      "PointredictScresSet0[-1] 15151.67\n"
     ]
    },
    {
     "name": "stderr",
     "output_type": "stream",
     "text": [
      "D:\\anaconda\\lib\\site-packages\\optuna\\distributions.py:427: UserWarning:\n",
      "\n",
      "Choices for a categorical distribution should be a tuple of None, bool, int, float and str for persistent storage but contains <class 'tensorflow.python.keras.optimizer_v2.adam.Adam'> which is of type ABCMeta.\n",
      "\n",
      "\u001b[32m[I 2022-11-09 12:50:15,546]\u001b[0m Trial 63 finished with value: 14426.95 and parameters: {'optimizer': <class 'tensorflow.python.keras.optimizer_v2.adam.Adam'>, 'units': 170, 'epochs': 90, 'batch_size': 32, 'learning_rate': 0.0029512280258874118}. Best is trial 49 with value: 13937.98.\u001b[0m\n"
     ]
    },
    {
     "name": "stdout",
     "output_type": "stream",
     "text": [
      "Model: \"sequential_63\"\n",
      "_________________________________________________________________\n",
      "Layer (type)                 Output Shape              Param #   \n",
      "=================================================================\n",
      "lstm_63 (LSTM)               (None, 170)               116960    \n",
      "_________________________________________________________________\n",
      "dense_63 (Dense)             (None, 4)                 684       \n",
      "=================================================================\n",
      "Total params: 117,644\n",
      "Trainable params: 117,644\n",
      "Non-trainable params: 0\n",
      "_________________________________________________________________\n",
      "PointredictScresSet0[-1] 14426.95\n"
     ]
    },
    {
     "name": "stderr",
     "output_type": "stream",
     "text": [
      "D:\\anaconda\\lib\\site-packages\\optuna\\distributions.py:427: UserWarning:\n",
      "\n",
      "Choices for a categorical distribution should be a tuple of None, bool, int, float and str for persistent storage but contains <class 'tensorflow.python.keras.optimizer_v2.adam.Adam'> which is of type ABCMeta.\n",
      "\n",
      "\u001b[32m[I 2022-11-09 12:52:26,739]\u001b[0m Trial 64 finished with value: 14881.55 and parameters: {'optimizer': <class 'tensorflow.python.keras.optimizer_v2.adam.Adam'>, 'units': 175, 'epochs': 90, 'batch_size': 32, 'learning_rate': 0.004193274727074523}. Best is trial 49 with value: 13937.98.\u001b[0m\n"
     ]
    },
    {
     "name": "stdout",
     "output_type": "stream",
     "text": [
      "Model: \"sequential_64\"\n",
      "_________________________________________________________________\n",
      "Layer (type)                 Output Shape              Param #   \n",
      "=================================================================\n",
      "lstm_64 (LSTM)               (None, 175)               123900    \n",
      "_________________________________________________________________\n",
      "dense_64 (Dense)             (None, 4)                 704       \n",
      "=================================================================\n",
      "Total params: 124,604\n",
      "Trainable params: 124,604\n",
      "Non-trainable params: 0\n",
      "_________________________________________________________________\n",
      "PointredictScresSet0[-1] 14881.55\n"
     ]
    },
    {
     "name": "stderr",
     "output_type": "stream",
     "text": [
      "D:\\anaconda\\lib\\site-packages\\optuna\\distributions.py:427: UserWarning:\n",
      "\n",
      "Choices for a categorical distribution should be a tuple of None, bool, int, float and str for persistent storage but contains <class 'tensorflow.python.keras.optimizer_v2.adam.Adam'> which is of type ABCMeta.\n",
      "\n",
      "\u001b[32m[I 2022-11-09 12:55:01,795]\u001b[0m Trial 65 finished with value: 15210.55 and parameters: {'optimizer': <class 'tensorflow.python.keras.optimizer_v2.adam.Adam'>, 'units': 205, 'epochs': 90, 'batch_size': 32, 'learning_rate': 0.014744189709464211}. Best is trial 49 with value: 13937.98.\u001b[0m\n"
     ]
    },
    {
     "name": "stdout",
     "output_type": "stream",
     "text": [
      "Model: \"sequential_65\"\n",
      "_________________________________________________________________\n",
      "Layer (type)                 Output Shape              Param #   \n",
      "=================================================================\n",
      "lstm_65 (LSTM)               (None, 205)               169740    \n",
      "_________________________________________________________________\n",
      "dense_65 (Dense)             (None, 4)                 824       \n",
      "=================================================================\n",
      "Total params: 170,564\n",
      "Trainable params: 170,564\n",
      "Non-trainable params: 0\n",
      "_________________________________________________________________\n",
      "PointredictScresSet0[-1] 15210.55\n"
     ]
    },
    {
     "name": "stderr",
     "output_type": "stream",
     "text": [
      "D:\\anaconda\\lib\\site-packages\\optuna\\distributions.py:427: UserWarning:\n",
      "\n",
      "Choices for a categorical distribution should be a tuple of None, bool, int, float and str for persistent storage but contains <class 'tensorflow.python.keras.optimizer_v2.adam.Adam'> which is of type ABCMeta.\n",
      "\n",
      "\u001b[32m[I 2022-11-09 12:56:20,165]\u001b[0m Trial 66 finished with value: 15938.39 and parameters: {'optimizer': <class 'tensorflow.python.keras.optimizer_v2.adam.Adam'>, 'units': 140, 'epochs': 80, 'batch_size': 128, 'learning_rate': 0.0021408681812231747}. Best is trial 49 with value: 13937.98.\u001b[0m\n"
     ]
    },
    {
     "name": "stdout",
     "output_type": "stream",
     "text": [
      "Model: \"sequential_66\"\n",
      "_________________________________________________________________\n",
      "Layer (type)                 Output Shape              Param #   \n",
      "=================================================================\n",
      "lstm_66 (LSTM)               (None, 140)               79520     \n",
      "_________________________________________________________________\n",
      "dense_66 (Dense)             (None, 4)                 564       \n",
      "=================================================================\n",
      "Total params: 80,084\n",
      "Trainable params: 80,084\n",
      "Non-trainable params: 0\n",
      "_________________________________________________________________\n",
      "PointredictScresSet0[-1] 15938.39\n"
     ]
    },
    {
     "name": "stderr",
     "output_type": "stream",
     "text": [
      "D:\\anaconda\\lib\\site-packages\\optuna\\distributions.py:427: UserWarning:\n",
      "\n",
      "Choices for a categorical distribution should be a tuple of None, bool, int, float and str for persistent storage but contains <class 'tensorflow.python.keras.optimizer_v2.adam.Adam'> which is of type ABCMeta.\n",
      "\n",
      "\u001b[32m[I 2022-11-09 12:58:49,312]\u001b[0m Trial 67 finished with value: 14574.78 and parameters: {'optimizer': <class 'tensorflow.python.keras.optimizer_v2.adam.Adam'>, 'units': 195, 'epochs': 100, 'batch_size': 32, 'learning_rate': 0.00563619400302179}. Best is trial 49 with value: 13937.98.\u001b[0m\n"
     ]
    },
    {
     "name": "stdout",
     "output_type": "stream",
     "text": [
      "Model: \"sequential_67\"\n",
      "_________________________________________________________________\n",
      "Layer (type)                 Output Shape              Param #   \n",
      "=================================================================\n",
      "lstm_67 (LSTM)               (None, 195)               153660    \n",
      "_________________________________________________________________\n",
      "dense_67 (Dense)             (None, 4)                 784       \n",
      "=================================================================\n",
      "Total params: 154,444\n",
      "Trainable params: 154,444\n",
      "Non-trainable params: 0\n",
      "_________________________________________________________________\n",
      "PointredictScresSet0[-1] 14574.78\n"
     ]
    },
    {
     "name": "stderr",
     "output_type": "stream",
     "text": [
      "D:\\anaconda\\lib\\site-packages\\optuna\\distributions.py:427: UserWarning:\n",
      "\n",
      "Choices for a categorical distribution should be a tuple of None, bool, int, float and str for persistent storage but contains <class 'tensorflow.python.keras.optimizer_v2.adam.Adam'> which is of type ABCMeta.\n",
      "\n",
      "\u001b[32m[I 2022-11-09 13:00:04,079]\u001b[0m Trial 68 finished with value: 15074.55 and parameters: {'optimizer': <class 'tensorflow.python.keras.optimizer_v2.adam.Adam'>, 'units': 105, 'epochs': 90, 'batch_size': 256, 'learning_rate': 0.0016495820675397142}. Best is trial 49 with value: 13937.98.\u001b[0m\n"
     ]
    },
    {
     "name": "stdout",
     "output_type": "stream",
     "text": [
      "Model: \"sequential_68\"\n",
      "_________________________________________________________________\n",
      "Layer (type)                 Output Shape              Param #   \n",
      "=================================================================\n",
      "lstm_68 (LSTM)               (None, 105)               44940     \n",
      "_________________________________________________________________\n",
      "dense_68 (Dense)             (None, 4)                 424       \n",
      "=================================================================\n",
      "Total params: 45,364\n",
      "Trainable params: 45,364\n",
      "Non-trainable params: 0\n",
      "_________________________________________________________________\n",
      "PointredictScresSet0[-1] 15074.55\n"
     ]
    },
    {
     "name": "stderr",
     "output_type": "stream",
     "text": [
      "D:\\anaconda\\lib\\site-packages\\optuna\\distributions.py:427: UserWarning:\n",
      "\n",
      "Choices for a categorical distribution should be a tuple of None, bool, int, float and str for persistent storage but contains <class 'tensorflow.python.keras.optimizer_v2.adam.Adam'> which is of type ABCMeta.\n",
      "\n",
      "\u001b[32m[I 2022-11-09 13:02:12,990]\u001b[0m Trial 69 finished with value: 15589.69 and parameters: {'optimizer': <class 'tensorflow.python.keras.optimizer_v2.adam.Adam'>, 'units': 170, 'epochs': 90, 'batch_size': 32, 'learning_rate': 0.002829694955919167}. Best is trial 49 with value: 13937.98.\u001b[0m\n"
     ]
    },
    {
     "name": "stdout",
     "output_type": "stream",
     "text": [
      "Model: \"sequential_69\"\n",
      "_________________________________________________________________\n",
      "Layer (type)                 Output Shape              Param #   \n",
      "=================================================================\n",
      "lstm_69 (LSTM)               (None, 170)               116960    \n",
      "_________________________________________________________________\n",
      "dense_69 (Dense)             (None, 4)                 684       \n",
      "=================================================================\n",
      "Total params: 117,644\n",
      "Trainable params: 117,644\n",
      "Non-trainable params: 0\n",
      "_________________________________________________________________\n",
      "PointredictScresSet0[-1] 15589.69\n"
     ]
    },
    {
     "name": "stderr",
     "output_type": "stream",
     "text": [
      "D:\\anaconda\\lib\\site-packages\\optuna\\distributions.py:427: UserWarning:\n",
      "\n",
      "Choices for a categorical distribution should be a tuple of None, bool, int, float and str for persistent storage but contains <class 'tensorflow.python.keras.optimizer_v2.adam.Adam'> which is of type ABCMeta.\n",
      "\n",
      "\u001b[32m[I 2022-11-09 13:07:59,761]\u001b[0m Trial 70 finished with value: 15055.87 and parameters: {'optimizer': <class 'tensorflow.python.keras.optimizer_v2.adam.Adam'>, 'units': 220, 'epochs': 100, 'batch_size': 8, 'learning_rate': 0.007385254488140562}. Best is trial 49 with value: 13937.98.\u001b[0m\n"
     ]
    },
    {
     "name": "stdout",
     "output_type": "stream",
     "text": [
      "Model: \"sequential_70\"\n",
      "_________________________________________________________________\n",
      "Layer (type)                 Output Shape              Param #   \n",
      "=================================================================\n",
      "lstm_70 (LSTM)               (None, 220)               195360    \n",
      "_________________________________________________________________\n",
      "dense_70 (Dense)             (None, 4)                 884       \n",
      "=================================================================\n",
      "Total params: 196,244\n",
      "Trainable params: 196,244\n",
      "Non-trainable params: 0\n",
      "_________________________________________________________________\n",
      "PointredictScresSet0[-1] 15055.87\n"
     ]
    },
    {
     "name": "stderr",
     "output_type": "stream",
     "text": [
      "D:\\anaconda\\lib\\site-packages\\optuna\\distributions.py:427: UserWarning:\n",
      "\n",
      "Choices for a categorical distribution should be a tuple of None, bool, int, float and str for persistent storage but contains <class 'tensorflow.python.keras.optimizer_v2.adam.Adam'> which is of type ABCMeta.\n",
      "\n",
      "\u001b[32m[I 2022-11-09 13:10:19,523]\u001b[0m Trial 71 finished with value: 14950.71 and parameters: {'optimizer': <class 'tensorflow.python.keras.optimizer_v2.adam.Adam'>, 'units': 190, 'epochs': 100, 'batch_size': 32, 'learning_rate': 0.005464989959781488}. Best is trial 49 with value: 13937.98.\u001b[0m\n"
     ]
    },
    {
     "name": "stdout",
     "output_type": "stream",
     "text": [
      "Model: \"sequential_71\"\n",
      "_________________________________________________________________\n",
      "Layer (type)                 Output Shape              Param #   \n",
      "=================================================================\n",
      "lstm_71 (LSTM)               (None, 190)               145920    \n",
      "_________________________________________________________________\n",
      "dense_71 (Dense)             (None, 4)                 764       \n",
      "=================================================================\n",
      "Total params: 146,684\n",
      "Trainable params: 146,684\n",
      "Non-trainable params: 0\n",
      "_________________________________________________________________\n",
      "PointredictScresSet0[-1] 14950.71\n"
     ]
    },
    {
     "name": "stderr",
     "output_type": "stream",
     "text": [
      "D:\\anaconda\\lib\\site-packages\\optuna\\distributions.py:427: UserWarning:\n",
      "\n",
      "Choices for a categorical distribution should be a tuple of None, bool, int, float and str for persistent storage but contains <class 'tensorflow.python.keras.optimizer_v2.adam.Adam'> which is of type ABCMeta.\n",
      "\n",
      "\u001b[32m[I 2022-11-09 13:13:25,768]\u001b[0m Trial 72 finished with value: 15364.04 and parameters: {'optimizer': <class 'tensorflow.python.keras.optimizer_v2.adam.Adam'>, 'units': 245, 'epochs': 100, 'batch_size': 32, 'learning_rate': 0.010828592603957354}. Best is trial 49 with value: 13937.98.\u001b[0m\n"
     ]
    },
    {
     "name": "stdout",
     "output_type": "stream",
     "text": [
      "Model: \"sequential_72\"\n",
      "_________________________________________________________________\n",
      "Layer (type)                 Output Shape              Param #   \n",
      "=================================================================\n",
      "lstm_72 (LSTM)               (None, 245)               242060    \n",
      "_________________________________________________________________\n",
      "dense_72 (Dense)             (None, 4)                 984       \n",
      "=================================================================\n",
      "Total params: 243,044\n",
      "Trainable params: 243,044\n",
      "Non-trainable params: 0\n",
      "_________________________________________________________________\n",
      "PointredictScresSet0[-1] 15364.04\n"
     ]
    },
    {
     "name": "stderr",
     "output_type": "stream",
     "text": [
      "D:\\anaconda\\lib\\site-packages\\optuna\\distributions.py:427: UserWarning:\n",
      "\n",
      "Choices for a categorical distribution should be a tuple of None, bool, int, float and str for persistent storage but contains <class 'tensorflow.python.keras.optimizer_v2.adam.Adam'> which is of type ABCMeta.\n",
      "\n",
      "\u001b[32m[I 2022-11-09 13:14:54,817]\u001b[0m Trial 73 finished with value: 14619.21 and parameters: {'optimizer': <class 'tensorflow.python.keras.optimizer_v2.adam.Adam'>, 'units': 25, 'epochs': 100, 'batch_size': 32, 'learning_rate': 0.0035888631589430695}. Best is trial 49 with value: 13937.98.\u001b[0m\n"
     ]
    },
    {
     "name": "stdout",
     "output_type": "stream",
     "text": [
      "Model: \"sequential_73\"\n",
      "_________________________________________________________________\n",
      "Layer (type)                 Output Shape              Param #   \n",
      "=================================================================\n",
      "lstm_73 (LSTM)               (None, 25)                2700      \n",
      "_________________________________________________________________\n",
      "dense_73 (Dense)             (None, 4)                 104       \n",
      "=================================================================\n",
      "Total params: 2,804\n",
      "Trainable params: 2,804\n",
      "Non-trainable params: 0\n",
      "_________________________________________________________________\n",
      "PointredictScresSet0[-1] 14619.21\n"
     ]
    },
    {
     "name": "stderr",
     "output_type": "stream",
     "text": [
      "D:\\anaconda\\lib\\site-packages\\optuna\\distributions.py:427: UserWarning:\n",
      "\n",
      "Choices for a categorical distribution should be a tuple of None, bool, int, float and str for persistent storage but contains <class 'tensorflow.python.keras.optimizer_v2.adam.Adam'> which is of type ABCMeta.\n",
      "\n",
      "\u001b[32m[I 2022-11-09 13:17:14,850]\u001b[0m Trial 74 finished with value: 15048.76 and parameters: {'optimizer': <class 'tensorflow.python.keras.optimizer_v2.adam.Adam'>, 'units': 200, 'epochs': 90, 'batch_size': 32, 'learning_rate': 0.006475958752682026}. Best is trial 49 with value: 13937.98.\u001b[0m\n"
     ]
    },
    {
     "name": "stdout",
     "output_type": "stream",
     "text": [
      "Model: \"sequential_74\"\n",
      "_________________________________________________________________\n",
      "Layer (type)                 Output Shape              Param #   \n",
      "=================================================================\n",
      "lstm_74 (LSTM)               (None, 200)               161600    \n",
      "_________________________________________________________________\n",
      "dense_74 (Dense)             (None, 4)                 804       \n",
      "=================================================================\n",
      "Total params: 162,404\n",
      "Trainable params: 162,404\n",
      "Non-trainable params: 0\n",
      "_________________________________________________________________\n",
      "PointredictScresSet0[-1] 15048.76\n"
     ]
    },
    {
     "name": "stderr",
     "output_type": "stream",
     "text": [
      "D:\\anaconda\\lib\\site-packages\\optuna\\distributions.py:427: UserWarning:\n",
      "\n",
      "Choices for a categorical distribution should be a tuple of None, bool, int, float and str for persistent storage but contains <class 'tensorflow.python.keras.optimizer_v2.adam.Adam'> which is of type ABCMeta.\n",
      "\n",
      "\u001b[32m[I 2022-11-09 13:19:19,195]\u001b[0m Trial 75 finished with value: 14315.56 and parameters: {'optimizer': <class 'tensorflow.python.keras.optimizer_v2.adam.Adam'>, 'units': 145, 'epochs': 100, 'batch_size': 32, 'learning_rate': 0.004933198773513598}. Best is trial 49 with value: 13937.98.\u001b[0m\n"
     ]
    },
    {
     "name": "stdout",
     "output_type": "stream",
     "text": [
      "Model: \"sequential_75\"\n",
      "_________________________________________________________________\n",
      "Layer (type)                 Output Shape              Param #   \n",
      "=================================================================\n",
      "lstm_75 (LSTM)               (None, 145)               85260     \n",
      "_________________________________________________________________\n",
      "dense_75 (Dense)             (None, 4)                 584       \n",
      "=================================================================\n",
      "Total params: 85,844\n",
      "Trainable params: 85,844\n",
      "Non-trainable params: 0\n",
      "_________________________________________________________________\n",
      "PointredictScresSet0[-1] 14315.56\n"
     ]
    },
    {
     "name": "stderr",
     "output_type": "stream",
     "text": [
      "D:\\anaconda\\lib\\site-packages\\optuna\\distributions.py:427: UserWarning:\n",
      "\n",
      "Choices for a categorical distribution should be a tuple of None, bool, int, float and str for persistent storage but contains <class 'tensorflow.python.keras.optimizer_v2.adam.Adam'> which is of type ABCMeta.\n",
      "\n",
      "\u001b[32m[I 2022-11-09 13:20:38,579]\u001b[0m Trial 76 finished with value: 21178.13 and parameters: {'optimizer': <class 'tensorflow.python.keras.optimizer_v2.adam.Adam'>, 'units': 80, 'epochs': 100, 'batch_size': 64, 'learning_rate': 0.02822555281810946}. Best is trial 49 with value: 13937.98.\u001b[0m\n"
     ]
    },
    {
     "name": "stdout",
     "output_type": "stream",
     "text": [
      "Model: \"sequential_76\"\n",
      "_________________________________________________________________\n",
      "Layer (type)                 Output Shape              Param #   \n",
      "=================================================================\n",
      "lstm_76 (LSTM)               (None, 80)                26240     \n",
      "_________________________________________________________________\n",
      "dense_76 (Dense)             (None, 4)                 324       \n",
      "=================================================================\n",
      "Total params: 26,564\n",
      "Trainable params: 26,564\n",
      "Non-trainable params: 0\n",
      "_________________________________________________________________\n",
      "PointredictScresSet0[-1] 21178.13\n"
     ]
    },
    {
     "name": "stderr",
     "output_type": "stream",
     "text": [
      "D:\\anaconda\\lib\\site-packages\\optuna\\distributions.py:427: UserWarning:\n",
      "\n",
      "Choices for a categorical distribution should be a tuple of None, bool, int, float and str for persistent storage but contains <class 'tensorflow.python.keras.optimizer_v2.adam.Adam'> which is of type ABCMeta.\n",
      "\n",
      "\u001b[32m[I 2022-11-09 13:21:50,784]\u001b[0m Trial 77 finished with value: 48375.48 and parameters: {'optimizer': <class 'tensorflow.python.keras.optimizer_v2.adam.Adam'>, 'units': 145, 'epochs': 10, 'batch_size': 16, 'learning_rate': 0.14440627033173647}. Best is trial 49 with value: 13937.98.\u001b[0m\n"
     ]
    },
    {
     "name": "stdout",
     "output_type": "stream",
     "text": [
      "Model: \"sequential_77\"\n",
      "_________________________________________________________________\n",
      "Layer (type)                 Output Shape              Param #   \n",
      "=================================================================\n",
      "lstm_77 (LSTM)               (None, 145)               85260     \n",
      "_________________________________________________________________\n",
      "dense_77 (Dense)             (None, 4)                 584       \n",
      "=================================================================\n",
      "Total params: 85,844\n",
      "Trainable params: 85,844\n",
      "Non-trainable params: 0\n",
      "_________________________________________________________________\n",
      "PointredictScresSet0[-1] 48375.48\n"
     ]
    },
    {
     "name": "stderr",
     "output_type": "stream",
     "text": [
      "D:\\anaconda\\lib\\site-packages\\optuna\\distributions.py:427: UserWarning:\n",
      "\n",
      "Choices for a categorical distribution should be a tuple of None, bool, int, float and str for persistent storage but contains <class 'tensorflow.python.keras.optimizer_v2.adam.Adam'> which is of type ABCMeta.\n",
      "\n",
      "\u001b[32m[I 2022-11-09 13:23:47,135]\u001b[0m Trial 78 finished with value: 116591.46 and parameters: {'optimizer': <class 'tensorflow.python.keras.optimizer_v2.adam.Adam'>, 'units': 120, 'epochs': 90, 'batch_size': 32, 'learning_rate': 0.2732502256564925}. Best is trial 49 with value: 13937.98.\u001b[0m\n"
     ]
    },
    {
     "name": "stdout",
     "output_type": "stream",
     "text": [
      "Model: \"sequential_78\"\n",
      "_________________________________________________________________\n",
      "Layer (type)                 Output Shape              Param #   \n",
      "=================================================================\n",
      "lstm_78 (LSTM)               (None, 120)               58560     \n",
      "_________________________________________________________________\n",
      "dense_78 (Dense)             (None, 4)                 484       \n",
      "=================================================================\n",
      "Total params: 59,044\n",
      "Trainable params: 59,044\n",
      "Non-trainable params: 0\n",
      "_________________________________________________________________\n",
      "PointredictScresSet0[-1] 116591.46\n"
     ]
    },
    {
     "name": "stderr",
     "output_type": "stream",
     "text": [
      "D:\\anaconda\\lib\\site-packages\\optuna\\distributions.py:427: UserWarning:\n",
      "\n",
      "Choices for a categorical distribution should be a tuple of None, bool, int, float and str for persistent storage but contains <class 'tensorflow.python.keras.optimizer_v2.adam.Adam'> which is of type ABCMeta.\n",
      "\n",
      "\u001b[32m[I 2022-11-09 13:26:03,279]\u001b[0m Trial 79 finished with value: 14849.5 and parameters: {'optimizer': <class 'tensorflow.python.keras.optimizer_v2.adam.Adam'>, 'units': 165, 'epochs': 100, 'batch_size': 32, 'learning_rate': 0.004646398941771895}. Best is trial 49 with value: 13937.98.\u001b[0m\n"
     ]
    },
    {
     "name": "stdout",
     "output_type": "stream",
     "text": [
      "Model: \"sequential_79\"\n",
      "_________________________________________________________________\n",
      "Layer (type)                 Output Shape              Param #   \n",
      "=================================================================\n",
      "lstm_79 (LSTM)               (None, 165)               110220    \n",
      "_________________________________________________________________\n",
      "dense_79 (Dense)             (None, 4)                 664       \n",
      "=================================================================\n",
      "Total params: 110,884\n",
      "Trainable params: 110,884\n",
      "Non-trainable params: 0\n",
      "_________________________________________________________________\n",
      "PointredictScresSet0[-1] 14849.5\n"
     ]
    },
    {
     "name": "stderr",
     "output_type": "stream",
     "text": [
      "D:\\anaconda\\lib\\site-packages\\optuna\\distributions.py:427: UserWarning:\n",
      "\n",
      "Choices for a categorical distribution should be a tuple of None, bool, int, float and str for persistent storage but contains <class 'tensorflow.python.keras.optimizer_v2.adam.Adam'> which is of type ABCMeta.\n",
      "\n",
      "\u001b[32m[I 2022-11-09 13:27:18,123]\u001b[0m Trial 80 finished with value: 15525.26 and parameters: {'optimizer': <class 'tensorflow.python.keras.optimizer_v2.adam.Adam'>, 'units': 220, 'epochs': 50, 'batch_size': 512, 'learning_rate': 0.0023765032439446985}. Best is trial 49 with value: 13937.98.\u001b[0m\n"
     ]
    },
    {
     "name": "stdout",
     "output_type": "stream",
     "text": [
      "Model: \"sequential_80\"\n",
      "_________________________________________________________________\n",
      "Layer (type)                 Output Shape              Param #   \n",
      "=================================================================\n",
      "lstm_80 (LSTM)               (None, 220)               195360    \n",
      "_________________________________________________________________\n",
      "dense_80 (Dense)             (None, 4)                 884       \n",
      "=================================================================\n",
      "Total params: 196,244\n",
      "Trainable params: 196,244\n",
      "Non-trainable params: 0\n",
      "_________________________________________________________________\n",
      "PointredictScresSet0[-1] 15525.26\n"
     ]
    },
    {
     "name": "stderr",
     "output_type": "stream",
     "text": [
      "D:\\anaconda\\lib\\site-packages\\optuna\\distributions.py:427: UserWarning:\n",
      "\n",
      "Choices for a categorical distribution should be a tuple of None, bool, int, float and str for persistent storage but contains <class 'tensorflow.python.keras.optimizer_v2.adam.Adam'> which is of type ABCMeta.\n",
      "\n",
      "\u001b[32m[I 2022-11-09 13:29:38,883]\u001b[0m Trial 81 finished with value: 15346.64 and parameters: {'optimizer': <class 'tensorflow.python.keras.optimizer_v2.adam.Adam'>, 'units': 190, 'epochs': 100, 'batch_size': 32, 'learning_rate': 0.008381360934932355}. Best is trial 49 with value: 13937.98.\u001b[0m\n"
     ]
    },
    {
     "name": "stdout",
     "output_type": "stream",
     "text": [
      "Model: \"sequential_81\"\n",
      "_________________________________________________________________\n",
      "Layer (type)                 Output Shape              Param #   \n",
      "=================================================================\n",
      "lstm_81 (LSTM)               (None, 190)               145920    \n",
      "_________________________________________________________________\n",
      "dense_81 (Dense)             (None, 4)                 764       \n",
      "=================================================================\n",
      "Total params: 146,684\n",
      "Trainable params: 146,684\n",
      "Non-trainable params: 0\n",
      "_________________________________________________________________\n",
      "PointredictScresSet0[-1] 15346.64\n"
     ]
    },
    {
     "name": "stderr",
     "output_type": "stream",
     "text": [
      "D:\\anaconda\\lib\\site-packages\\optuna\\distributions.py:427: UserWarning:\n",
      "\n",
      "Choices for a categorical distribution should be a tuple of None, bool, int, float and str for persistent storage but contains <class 'tensorflow.python.keras.optimizer_v2.adam.Adam'> which is of type ABCMeta.\n",
      "\n",
      "\u001b[32m[I 2022-11-09 13:31:46,484]\u001b[0m Trial 82 finished with value: 14904.71 and parameters: {'optimizer': <class 'tensorflow.python.keras.optimizer_v2.adam.Adam'>, 'units': 160, 'epochs': 100, 'batch_size': 32, 'learning_rate': 0.0012268080221392488}. Best is trial 49 with value: 13937.98.\u001b[0m\n"
     ]
    },
    {
     "name": "stdout",
     "output_type": "stream",
     "text": [
      "Model: \"sequential_82\"\n",
      "_________________________________________________________________\n",
      "Layer (type)                 Output Shape              Param #   \n",
      "=================================================================\n",
      "lstm_82 (LSTM)               (None, 160)               103680    \n",
      "_________________________________________________________________\n",
      "dense_82 (Dense)             (None, 4)                 644       \n",
      "=================================================================\n",
      "Total params: 104,324\n",
      "Trainable params: 104,324\n",
      "Non-trainable params: 0\n",
      "_________________________________________________________________\n",
      "PointredictScresSet0[-1] 14904.71\n"
     ]
    },
    {
     "name": "stderr",
     "output_type": "stream",
     "text": [
      "D:\\anaconda\\lib\\site-packages\\optuna\\distributions.py:427: UserWarning:\n",
      "\n",
      "Choices for a categorical distribution should be a tuple of None, bool, int, float and str for persistent storage but contains <class 'tensorflow.python.keras.optimizer_v2.adam.Adam'> which is of type ABCMeta.\n",
      "\n",
      "\u001b[32m[I 2022-11-09 13:34:34,081]\u001b[0m Trial 83 finished with value: 15154.29 and parameters: {'optimizer': <class 'tensorflow.python.keras.optimizer_v2.adam.Adam'>, 'units': 235, 'epochs': 90, 'batch_size': 32, 'learning_rate': 0.0054856450642942626}. Best is trial 49 with value: 13937.98.\u001b[0m\n"
     ]
    },
    {
     "name": "stdout",
     "output_type": "stream",
     "text": [
      "Model: \"sequential_83\"\n",
      "_________________________________________________________________\n",
      "Layer (type)                 Output Shape              Param #   \n",
      "=================================================================\n",
      "lstm_83 (LSTM)               (None, 235)               222780    \n",
      "_________________________________________________________________\n",
      "dense_83 (Dense)             (None, 4)                 944       \n",
      "=================================================================\n",
      "Total params: 223,724\n",
      "Trainable params: 223,724\n",
      "Non-trainable params: 0\n",
      "_________________________________________________________________\n",
      "PointredictScresSet0[-1] 15154.29\n"
     ]
    },
    {
     "name": "stderr",
     "output_type": "stream",
     "text": [
      "D:\\anaconda\\lib\\site-packages\\optuna\\distributions.py:427: UserWarning:\n",
      "\n",
      "Choices for a categorical distribution should be a tuple of None, bool, int, float and str for persistent storage but contains <class 'tensorflow.python.keras.optimizer_v2.adam.Adam'> which is of type ABCMeta.\n",
      "\n",
      "\u001b[32m[I 2022-11-09 13:37:02,763]\u001b[0m Trial 84 finished with value: 14706.41 and parameters: {'optimizer': <class 'tensorflow.python.keras.optimizer_v2.adam.Adam'>, 'units': 185, 'epochs': 100, 'batch_size': 32, 'learning_rate': 0.00414749175049736}. Best is trial 49 with value: 13937.98.\u001b[0m\n"
     ]
    },
    {
     "name": "stdout",
     "output_type": "stream",
     "text": [
      "Model: \"sequential_84\"\n",
      "_________________________________________________________________\n",
      "Layer (type)                 Output Shape              Param #   \n",
      "=================================================================\n",
      "lstm_84 (LSTM)               (None, 185)               138380    \n",
      "_________________________________________________________________\n",
      "dense_84 (Dense)             (None, 4)                 744       \n",
      "=================================================================\n",
      "Total params: 139,124\n",
      "Trainable params: 139,124\n",
      "Non-trainable params: 0\n",
      "_________________________________________________________________\n",
      "PointredictScresSet0[-1] 14706.41\n"
     ]
    },
    {
     "name": "stderr",
     "output_type": "stream",
     "text": [
      "D:\\anaconda\\lib\\site-packages\\optuna\\distributions.py:427: UserWarning:\n",
      "\n",
      "Choices for a categorical distribution should be a tuple of None, bool, int, float and str for persistent storage but contains <class 'tensorflow.python.keras.optimizer_v2.adam.Adam'> which is of type ABCMeta.\n",
      "\n",
      "\u001b[32m[I 2022-11-09 13:39:15,269]\u001b[0m Trial 85 finished with value: 14578.54 and parameters: {'optimizer': <class 'tensorflow.python.keras.optimizer_v2.adam.Adam'>, 'units': 275, 'epochs': 90, 'batch_size': 128, 'learning_rate': 0.011528925075362708}. Best is trial 49 with value: 13937.98.\u001b[0m\n"
     ]
    },
    {
     "name": "stdout",
     "output_type": "stream",
     "text": [
      "Model: \"sequential_85\"\n",
      "_________________________________________________________________\n",
      "Layer (type)                 Output Shape              Param #   \n",
      "=================================================================\n",
      "lstm_85 (LSTM)               (None, 275)               304700    \n",
      "_________________________________________________________________\n",
      "dense_85 (Dense)             (None, 4)                 1104      \n",
      "=================================================================\n",
      "Total params: 305,804\n",
      "Trainable params: 305,804\n",
      "Non-trainable params: 0\n",
      "_________________________________________________________________\n",
      "PointredictScresSet0[-1] 14578.54\n"
     ]
    },
    {
     "name": "stderr",
     "output_type": "stream",
     "text": [
      "D:\\anaconda\\lib\\site-packages\\optuna\\distributions.py:427: UserWarning:\n",
      "\n",
      "Choices for a categorical distribution should be a tuple of None, bool, int, float and str for persistent storage but contains <class 'tensorflow.python.keras.optimizer_v2.adam.Adam'> which is of type ABCMeta.\n",
      "\n",
      "\u001b[32m[I 2022-11-09 13:40:22,756]\u001b[0m Trial 86 finished with value: 16629.39 and parameters: {'optimizer': <class 'tensorflow.python.keras.optimizer_v2.adam.Adam'>, 'units': 50, 'epochs': 20, 'batch_size': 32, 'learning_rate': 0.0018475028288940983}. Best is trial 49 with value: 13937.98.\u001b[0m\n"
     ]
    },
    {
     "name": "stdout",
     "output_type": "stream",
     "text": [
      "Model: \"sequential_86\"\n",
      "_________________________________________________________________\n",
      "Layer (type)                 Output Shape              Param #   \n",
      "=================================================================\n",
      "lstm_86 (LSTM)               (None, 50)                10400     \n",
      "_________________________________________________________________\n",
      "dense_86 (Dense)             (None, 4)                 204       \n",
      "=================================================================\n",
      "Total params: 10,604\n",
      "Trainable params: 10,604\n",
      "Non-trainable params: 0\n",
      "_________________________________________________________________\n",
      "PointredictScresSet0[-1] 16629.39\n"
     ]
    },
    {
     "name": "stderr",
     "output_type": "stream",
     "text": [
      "D:\\anaconda\\lib\\site-packages\\optuna\\distributions.py:427: UserWarning:\n",
      "\n",
      "Choices for a categorical distribution should be a tuple of None, bool, int, float and str for persistent storage but contains <class 'tensorflow.python.keras.optimizer_v2.adam.Adam'> which is of type ABCMeta.\n",
      "\n",
      "\u001b[32m[I 2022-11-09 13:45:15,684]\u001b[0m Trial 87 finished with value: 14968.25 and parameters: {'optimizer': <class 'tensorflow.python.keras.optimizer_v2.adam.Adam'>, 'units': 335, 'epochs': 100, 'batch_size': 32, 'learning_rate': 0.0031518090522996574}. Best is trial 49 with value: 13937.98.\u001b[0m\n"
     ]
    },
    {
     "name": "stdout",
     "output_type": "stream",
     "text": [
      "Model: \"sequential_87\"\n",
      "_________________________________________________________________\n",
      "Layer (type)                 Output Shape              Param #   \n",
      "=================================================================\n",
      "lstm_87 (LSTM)               (None, 335)               451580    \n",
      "_________________________________________________________________\n",
      "dense_87 (Dense)             (None, 4)                 1344      \n",
      "=================================================================\n",
      "Total params: 452,924\n",
      "Trainable params: 452,924\n",
      "Non-trainable params: 0\n",
      "_________________________________________________________________\n",
      "PointredictScresSet0[-1] 14968.25\n"
     ]
    },
    {
     "name": "stderr",
     "output_type": "stream",
     "text": [
      "D:\\anaconda\\lib\\site-packages\\optuna\\distributions.py:427: UserWarning:\n",
      "\n",
      "Choices for a categorical distribution should be a tuple of None, bool, int, float and str for persistent storage but contains <class 'tensorflow.python.keras.optimizer_v2.adam.Adam'> which is of type ABCMeta.\n",
      "\n",
      "\u001b[32m[I 2022-11-09 13:49:48,498]\u001b[0m Trial 88 finished with value: 14880.44 and parameters: {'optimizer': <class 'tensorflow.python.keras.optimizer_v2.adam.Adam'>, 'units': 375, 'epochs': 80, 'batch_size': 32, 'learning_rate': 0.007252067984548942}. Best is trial 49 with value: 13937.98.\u001b[0m\n"
     ]
    },
    {
     "name": "stdout",
     "output_type": "stream",
     "text": [
      "Model: \"sequential_88\"\n",
      "_________________________________________________________________\n",
      "Layer (type)                 Output Shape              Param #   \n",
      "=================================================================\n",
      "lstm_88 (LSTM)               (None, 375)               565500    \n",
      "_________________________________________________________________\n",
      "dense_88 (Dense)             (None, 4)                 1504      \n",
      "=================================================================\n",
      "Total params: 567,004\n",
      "Trainable params: 567,004\n",
      "Non-trainable params: 0\n",
      "_________________________________________________________________\n",
      "PointredictScresSet0[-1] 14880.44\n"
     ]
    },
    {
     "name": "stderr",
     "output_type": "stream",
     "text": [
      "D:\\anaconda\\lib\\site-packages\\optuna\\distributions.py:427: UserWarning:\n",
      "\n",
      "Choices for a categorical distribution should be a tuple of None, bool, int, float and str for persistent storage but contains <class 'tensorflow.python.keras.optimizer_v2.adam.Adam'> which is of type ABCMeta.\n",
      "\n",
      "\u001b[32m[I 2022-11-09 13:51:37,600]\u001b[0m Trial 89 finished with value: 14687.98 and parameters: {'optimizer': <class 'tensorflow.python.keras.optimizer_v2.adam.Adam'>, 'units': 90, 'epochs': 60, 'batch_size': 16, 'learning_rate': 0.0014959881308937517}. Best is trial 49 with value: 13937.98.\u001b[0m\n"
     ]
    },
    {
     "name": "stdout",
     "output_type": "stream",
     "text": [
      "Model: \"sequential_89\"\n",
      "_________________________________________________________________\n",
      "Layer (type)                 Output Shape              Param #   \n",
      "=================================================================\n",
      "lstm_89 (LSTM)               (None, 90)                33120     \n",
      "_________________________________________________________________\n",
      "dense_89 (Dense)             (None, 4)                 364       \n",
      "=================================================================\n",
      "Total params: 33,484\n",
      "Trainable params: 33,484\n",
      "Non-trainable params: 0\n",
      "_________________________________________________________________\n",
      "PointredictScresSet0[-1] 14687.98\n"
     ]
    },
    {
     "name": "stderr",
     "output_type": "stream",
     "text": [
      "D:\\anaconda\\lib\\site-packages\\optuna\\distributions.py:427: UserWarning:\n",
      "\n",
      "Choices for a categorical distribution should be a tuple of None, bool, int, float and str for persistent storage but contains <class 'tensorflow.python.keras.optimizer_v2.adam.Adam'> which is of type ABCMeta.\n",
      "\n",
      "\u001b[32m[I 2022-11-09 13:52:52,013]\u001b[0m Trial 90 finished with value: 14662.43 and parameters: {'optimizer': <class 'tensorflow.python.keras.optimizer_v2.adam.Adam'>, 'units': 130, 'epochs': 100, 'batch_size': 256, 'learning_rate': 0.008632526385196487}. Best is trial 49 with value: 13937.98.\u001b[0m\n"
     ]
    },
    {
     "name": "stdout",
     "output_type": "stream",
     "text": [
      "Model: \"sequential_90\"\n",
      "_________________________________________________________________\n",
      "Layer (type)                 Output Shape              Param #   \n",
      "=================================================================\n",
      "lstm_90 (LSTM)               (None, 130)               68640     \n",
      "_________________________________________________________________\n",
      "dense_90 (Dense)             (None, 4)                 524       \n",
      "=================================================================\n",
      "Total params: 69,164\n",
      "Trainable params: 69,164\n",
      "Non-trainable params: 0\n",
      "_________________________________________________________________\n",
      "PointredictScresSet0[-1] 14662.43\n"
     ]
    },
    {
     "name": "stderr",
     "output_type": "stream",
     "text": [
      "D:\\anaconda\\lib\\site-packages\\optuna\\distributions.py:427: UserWarning:\n",
      "\n",
      "Choices for a categorical distribution should be a tuple of None, bool, int, float and str for persistent storage but contains <class 'tensorflow.python.keras.optimizer_v2.adam.Adam'> which is of type ABCMeta.\n",
      "\n",
      "\u001b[32m[I 2022-11-09 13:54:35,034]\u001b[0m Trial 91 finished with value: 16272.43 and parameters: {'optimizer': <class 'tensorflow.python.keras.optimizer_v2.adam.Adam'>, 'units': 245, 'epochs': 90, 'batch_size': 128, 'learning_rate': 0.01620248795306616}. Best is trial 49 with value: 13937.98.\u001b[0m\n"
     ]
    },
    {
     "name": "stdout",
     "output_type": "stream",
     "text": [
      "Model: \"sequential_91\"\n",
      "_________________________________________________________________\n",
      "Layer (type)                 Output Shape              Param #   \n",
      "=================================================================\n",
      "lstm_91 (LSTM)               (None, 245)               242060    \n",
      "_________________________________________________________________\n",
      "dense_91 (Dense)             (None, 4)                 984       \n",
      "=================================================================\n",
      "Total params: 243,044\n",
      "Trainable params: 243,044\n",
      "Non-trainable params: 0\n",
      "_________________________________________________________________\n",
      "PointredictScresSet0[-1] 16272.43\n"
     ]
    },
    {
     "name": "stderr",
     "output_type": "stream",
     "text": [
      "D:\\anaconda\\lib\\site-packages\\optuna\\distributions.py:427: UserWarning:\n",
      "\n",
      "Choices for a categorical distribution should be a tuple of None, bool, int, float and str for persistent storage but contains <class 'tensorflow.python.keras.optimizer_v2.adam.Adam'> which is of type ABCMeta.\n",
      "\n",
      "\u001b[32m[I 2022-11-09 13:56:32,187]\u001b[0m Trial 92 finished with value: 15137.49 and parameters: {'optimizer': <class 'tensorflow.python.keras.optimizer_v2.adam.Adam'>, 'units': 300, 'epochs': 90, 'batch_size': 128, 'learning_rate': 0.011906815686661541}. Best is trial 49 with value: 13937.98.\u001b[0m\n"
     ]
    },
    {
     "name": "stdout",
     "output_type": "stream",
     "text": [
      "Model: \"sequential_92\"\n",
      "_________________________________________________________________\n",
      "Layer (type)                 Output Shape              Param #   \n",
      "=================================================================\n",
      "lstm_92 (LSTM)               (None, 300)               362400    \n",
      "_________________________________________________________________\n",
      "dense_92 (Dense)             (None, 4)                 1204      \n",
      "=================================================================\n",
      "Total params: 363,604\n",
      "Trainable params: 363,604\n",
      "Non-trainable params: 0\n",
      "_________________________________________________________________\n",
      "PointredictScresSet0[-1] 15137.49\n"
     ]
    },
    {
     "name": "stderr",
     "output_type": "stream",
     "text": [
      "D:\\anaconda\\lib\\site-packages\\optuna\\distributions.py:427: UserWarning:\n",
      "\n",
      "Choices for a categorical distribution should be a tuple of None, bool, int, float and str for persistent storage but contains <class 'tensorflow.python.keras.optimizer_v2.adam.Adam'> which is of type ABCMeta.\n",
      "\n",
      "\u001b[32m[I 2022-11-09 13:58:26,910]\u001b[0m Trial 93 finished with value: 15419.73 and parameters: {'optimizer': <class 'tensorflow.python.keras.optimizer_v2.adam.Adam'>, 'units': 265, 'epochs': 100, 'batch_size': 128, 'learning_rate': 0.0064389165876669145}. Best is trial 49 with value: 13937.98.\u001b[0m\n"
     ]
    },
    {
     "name": "stdout",
     "output_type": "stream",
     "text": [
      "Model: \"sequential_93\"\n",
      "_________________________________________________________________\n",
      "Layer (type)                 Output Shape              Param #   \n",
      "=================================================================\n",
      "lstm_93 (LSTM)               (None, 265)               283020    \n",
      "_________________________________________________________________\n",
      "dense_93 (Dense)             (None, 4)                 1064      \n",
      "=================================================================\n",
      "Total params: 284,084\n",
      "Trainable params: 284,084\n",
      "Non-trainable params: 0\n",
      "_________________________________________________________________\n",
      "PointredictScresSet0[-1] 15419.73\n"
     ]
    },
    {
     "name": "stderr",
     "output_type": "stream",
     "text": [
      "D:\\anaconda\\lib\\site-packages\\optuna\\distributions.py:427: UserWarning:\n",
      "\n",
      "Choices for a categorical distribution should be a tuple of None, bool, int, float and str for persistent storage but contains <class 'tensorflow.python.keras.optimizer_v2.adam.Adam'> which is of type ABCMeta.\n",
      "\n",
      "\u001b[32m[I 2022-11-09 13:59:32,432]\u001b[0m Trial 94 finished with value: 15560.03 and parameters: {'optimizer': <class 'tensorflow.python.keras.optimizer_v2.adam.Adam'>, 'units': 110, 'epochs': 90, 'batch_size': 128, 'learning_rate': 0.004841521313823483}. Best is trial 49 with value: 13937.98.\u001b[0m\n"
     ]
    },
    {
     "name": "stdout",
     "output_type": "stream",
     "text": [
      "Model: \"sequential_94\"\n",
      "_________________________________________________________________\n",
      "Layer (type)                 Output Shape              Param #   \n",
      "=================================================================\n",
      "lstm_94 (LSTM)               (None, 110)               49280     \n",
      "_________________________________________________________________\n",
      "dense_94 (Dense)             (None, 4)                 444       \n",
      "=================================================================\n",
      "Total params: 49,724\n",
      "Trainable params: 49,724\n",
      "Non-trainable params: 0\n",
      "_________________________________________________________________\n",
      "PointredictScresSet0[-1] 15560.03\n"
     ]
    },
    {
     "name": "stderr",
     "output_type": "stream",
     "text": [
      "D:\\anaconda\\lib\\site-packages\\optuna\\distributions.py:427: UserWarning:\n",
      "\n",
      "Choices for a categorical distribution should be a tuple of None, bool, int, float and str for persistent storage but contains <class 'tensorflow.python.keras.optimizer_v2.adam.Adam'> which is of type ABCMeta.\n",
      "\n",
      "\u001b[32m[I 2022-11-09 14:02:43,846]\u001b[0m Trial 95 finished with value: 31755.88 and parameters: {'optimizer': <class 'tensorflow.python.keras.optimizer_v2.adam.Adam'>, 'units': 275, 'epochs': 100, 'batch_size': 32, 'learning_rate': 0.07449041456641478}. Best is trial 49 with value: 13937.98.\u001b[0m\n"
     ]
    },
    {
     "name": "stdout",
     "output_type": "stream",
     "text": [
      "Model: \"sequential_95\"\n",
      "_________________________________________________________________\n",
      "Layer (type)                 Output Shape              Param #   \n",
      "=================================================================\n",
      "lstm_95 (LSTM)               (None, 275)               304700    \n",
      "_________________________________________________________________\n",
      "dense_95 (Dense)             (None, 4)                 1104      \n",
      "=================================================================\n",
      "Total params: 305,804\n",
      "Trainable params: 305,804\n",
      "Non-trainable params: 0\n",
      "_________________________________________________________________\n",
      "PointredictScresSet0[-1] 31755.88\n"
     ]
    },
    {
     "name": "stderr",
     "output_type": "stream",
     "text": [
      "D:\\anaconda\\lib\\site-packages\\optuna\\distributions.py:427: UserWarning:\n",
      "\n",
      "Choices for a categorical distribution should be a tuple of None, bool, int, float and str for persistent storage but contains <class 'tensorflow.python.keras.optimizer_v2.adam.Adam'> which is of type ABCMeta.\n",
      "\n",
      "\u001b[32m[I 2022-11-09 14:04:19,500]\u001b[0m Trial 96 finished with value: 14332.98 and parameters: {'optimizer': <class 'tensorflow.python.keras.optimizer_v2.adam.Adam'>, 'units': 215, 'epochs': 80, 'batch_size': 64, 'learning_rate': 0.001142189992881255}. Best is trial 49 with value: 13937.98.\u001b[0m\n"
     ]
    },
    {
     "name": "stdout",
     "output_type": "stream",
     "text": [
      "Model: \"sequential_96\"\n",
      "_________________________________________________________________\n",
      "Layer (type)                 Output Shape              Param #   \n",
      "=================================================================\n",
      "lstm_96 (LSTM)               (None, 215)               186620    \n",
      "_________________________________________________________________\n",
      "dense_96 (Dense)             (None, 4)                 864       \n",
      "=================================================================\n",
      "Total params: 187,484\n",
      "Trainable params: 187,484\n",
      "Non-trainable params: 0\n",
      "_________________________________________________________________\n",
      "PointredictScresSet0[-1] 14332.98\n"
     ]
    },
    {
     "name": "stderr",
     "output_type": "stream",
     "text": [
      "D:\\anaconda\\lib\\site-packages\\optuna\\distributions.py:427: UserWarning:\n",
      "\n",
      "Choices for a categorical distribution should be a tuple of None, bool, int, float and str for persistent storage but contains <class 'tensorflow.python.keras.optimizer_v2.adam.Adam'> which is of type ABCMeta.\n",
      "\n",
      "\u001b[32m[I 2022-11-09 14:05:53,919]\u001b[0m Trial 97 finished with value: 14834.75 and parameters: {'optimizer': <class 'tensorflow.python.keras.optimizer_v2.adam.Adam'>, 'units': 210, 'epochs': 80, 'batch_size': 64, 'learning_rate': 0.001173043702225362}. Best is trial 49 with value: 13937.98.\u001b[0m\n"
     ]
    },
    {
     "name": "stdout",
     "output_type": "stream",
     "text": [
      "Model: \"sequential_97\"\n",
      "_________________________________________________________________\n",
      "Layer (type)                 Output Shape              Param #   \n",
      "=================================================================\n",
      "lstm_97 (LSTM)               (None, 210)               178080    \n",
      "_________________________________________________________________\n",
      "dense_97 (Dense)             (None, 4)                 844       \n",
      "=================================================================\n",
      "Total params: 178,924\n",
      "Trainable params: 178,924\n",
      "Non-trainable params: 0\n",
      "_________________________________________________________________\n",
      "PointredictScresSet0[-1] 14834.75\n"
     ]
    },
    {
     "name": "stderr",
     "output_type": "stream",
     "text": [
      "D:\\anaconda\\lib\\site-packages\\optuna\\distributions.py:427: UserWarning:\n",
      "\n",
      "Choices for a categorical distribution should be a tuple of None, bool, int, float and str for persistent storage but contains <class 'tensorflow.python.keras.optimizer_v2.adam.Adam'> which is of type ABCMeta.\n",
      "\n",
      "\u001b[32m[I 2022-11-09 14:07:24,441]\u001b[0m Trial 98 finished with value: 15456.81 and parameters: {'optimizer': <class 'tensorflow.python.keras.optimizer_v2.adam.Adam'>, 'units': 195, 'epochs': 70, 'batch_size': 64, 'learning_rate': 0.002135916985375149}. Best is trial 49 with value: 13937.98.\u001b[0m\n"
     ]
    },
    {
     "name": "stdout",
     "output_type": "stream",
     "text": [
      "Model: \"sequential_98\"\n",
      "_________________________________________________________________\n",
      "Layer (type)                 Output Shape              Param #   \n",
      "=================================================================\n",
      "lstm_98 (LSTM)               (None, 195)               153660    \n",
      "_________________________________________________________________\n",
      "dense_98 (Dense)             (None, 4)                 784       \n",
      "=================================================================\n",
      "Total params: 154,444\n",
      "Trainable params: 154,444\n",
      "Non-trainable params: 0\n",
      "_________________________________________________________________\n",
      "PointredictScresSet0[-1] 15456.81\n"
     ]
    },
    {
     "name": "stderr",
     "output_type": "stream",
     "text": [
      "D:\\anaconda\\lib\\site-packages\\optuna\\distributions.py:427: UserWarning:\n",
      "\n",
      "Choices for a categorical distribution should be a tuple of None, bool, int, float and str for persistent storage but contains <class 'tensorflow.python.keras.optimizer_v2.adam.Adam'> which is of type ABCMeta.\n",
      "\n",
      "\u001b[32m[I 2022-11-09 14:08:52,930]\u001b[0m Trial 99 finished with value: 14057.96 and parameters: {'optimizer': <class 'tensorflow.python.keras.optimizer_v2.adam.Adam'>, 'units': 145, 'epochs': 100, 'batch_size': 64, 'learning_rate': 0.00154003986901835}. Best is trial 49 with value: 13937.98.\u001b[0m\n"
     ]
    },
    {
     "name": "stdout",
     "output_type": "stream",
     "text": [
      "Model: \"sequential_99\"\n",
      "_________________________________________________________________\n",
      "Layer (type)                 Output Shape              Param #   \n",
      "=================================================================\n",
      "lstm_99 (LSTM)               (None, 145)               85260     \n",
      "_________________________________________________________________\n",
      "dense_99 (Dense)             (None, 4)                 584       \n",
      "=================================================================\n",
      "Total params: 85,844\n",
      "Trainable params: 85,844\n",
      "Non-trainable params: 0\n",
      "_________________________________________________________________\n",
      "PointredictScresSet0[-1] 14057.96\n",
      "Wall time: 4h 35min 38s\n"
     ]
    },
    {
     "data": {
      "image/png": "[encoded data removed]",
      "text/plain": [
       "<Figure size 432x288 with 1 Axes>"
      ]
     },
     "metadata": {
      "needs_background": "light"
     },
     "output_type": "display_data"
    }
   ],
   "source": [
    "%%time\n",
    "study = optuna.create_study(direction='minimize')\n",
    "study.optimize(run, n_trials=100)"
   ]
  },
  {
   "cell_type": "code",
   "execution_count": 26,
   "metadata": {},
   "outputs": [
    {
     "data": {
      "text/plain": [
       "{'batch_size': 32,\n",
       " 'epochs': 100,\n",
       " 'learning_rate': 0.0014176198653707659,\n",
       " 'optimizer': tensorflow.python.keras.optimizer_v2.adam.Adam,\n",
       " 'units': 350}"
      ]
     },
     "execution_count": 26,
     "metadata": {},
     "output_type": "execute_result"
    }
   ],
   "source": [
    "best_params = study.best_params\n",
    "best_params"
   ]
  },
  {
   "cell_type": "code",
   "execution_count": 27,
   "metadata": {},
   "outputs": [
    {
     "data": {
      "text/plain": [
       "13937.98"
      ]
     },
     "execution_count": 27,
     "metadata": {},
     "output_type": "execute_result"
    }
   ],
   "source": [
    "best_value=study.best_value\n",
    "best_value"
   ]
  },
  {
   "cell_type": "code",
   "execution_count": 35,
   "metadata": {},
   "outputs": [
    {
     "data": {
      "text/html": [
       "<div>\n",
       "<style scoped>\n",
       "    .dataframe tbody tr th:only-of-type {\n",
       "        vertical-align: middle;\n",
       "    }\n",
       "\n",
       "    .dataframe tbody tr th {\n",
       "        vertical-align: top;\n",
       "    }\n",
       "\n",
       "    .dataframe thead th {\n",
       "        text-align: right;\n",
       "    }\n",
       "</style>\n",
       "<table border=\"1\" class=\"dataframe\">\n",
       "  <thead>\n",
       "    <tr style=\"text-align: right;\">\n",
       "      <th></th>\n",
       "      <th>number</th>\n",
       "      <th>value</th>\n",
       "      <th>params_batch_size</th>\n",
       "      <th>params_epochs</th>\n",
       "      <th>params_learning_rate</th>\n",
       "      <th>params_optimizer</th>\n",
       "      <th>params_units</th>\n",
       "      <th>state</th>\n",
       "    </tr>\n",
       "  </thead>\n",
       "  <tbody>\n",
       "    <tr>\n",
       "      <th>0</th>\n",
       "      <td>0</td>\n",
       "      <td>34790.86</td>\n",
       "      <td>8</td>\n",
       "      <td>60</td>\n",
       "      <td>0.173350</td>\n",
       "      <td>&lt;class 'tensorflow.python.keras.optimizer_v2.a...</td>\n",
       "      <td>335</td>\n",
       "      <td>COMPLETE</td>\n",
       "    </tr>\n",
       "    <tr>\n",
       "      <th>1</th>\n",
       "      <td>1</td>\n",
       "      <td>14692.84</td>\n",
       "      <td>64</td>\n",
       "      <td>80</td>\n",
       "      <td>0.007490</td>\n",
       "      <td>&lt;class 'tensorflow.python.keras.optimizer_v2.a...</td>\n",
       "      <td>370</td>\n",
       "      <td>COMPLETE</td>\n",
       "    </tr>\n",
       "    <tr>\n",
       "      <th>2</th>\n",
       "      <td>2</td>\n",
       "      <td>17243.68</td>\n",
       "      <td>64</td>\n",
       "      <td>50</td>\n",
       "      <td>0.012425</td>\n",
       "      <td>&lt;class 'tensorflow.python.keras.optimizer_v2.a...</td>\n",
       "      <td>350</td>\n",
       "      <td>COMPLETE</td>\n",
       "    </tr>\n",
       "    <tr>\n",
       "      <th>3</th>\n",
       "      <td>3</td>\n",
       "      <td>15203.82</td>\n",
       "      <td>128</td>\n",
       "      <td>60</td>\n",
       "      <td>0.022501</td>\n",
       "      <td>&lt;class 'tensorflow.python.keras.optimizer_v2.a...</td>\n",
       "      <td>260</td>\n",
       "      <td>COMPLETE</td>\n",
       "    </tr>\n",
       "    <tr>\n",
       "      <th>4</th>\n",
       "      <td>4</td>\n",
       "      <td>41131.56</td>\n",
       "      <td>16</td>\n",
       "      <td>50</td>\n",
       "      <td>0.128361</td>\n",
       "      <td>&lt;class 'tensorflow.python.keras.optimizer_v2.a...</td>\n",
       "      <td>480</td>\n",
       "      <td>COMPLETE</td>\n",
       "    </tr>\n",
       "    <tr>\n",
       "      <th>...</th>\n",
       "      <td>...</td>\n",
       "      <td>...</td>\n",
       "      <td>...</td>\n",
       "      <td>...</td>\n",
       "      <td>...</td>\n",
       "      <td>...</td>\n",
       "      <td>...</td>\n",
       "      <td>...</td>\n",
       "    </tr>\n",
       "    <tr>\n",
       "      <th>95</th>\n",
       "      <td>95</td>\n",
       "      <td>31755.88</td>\n",
       "      <td>32</td>\n",
       "      <td>100</td>\n",
       "      <td>0.074490</td>\n",
       "      <td>&lt;class 'tensorflow.python.keras.optimizer_v2.a...</td>\n",
       "      <td>275</td>\n",
       "      <td>COMPLETE</td>\n",
       "    </tr>\n",
       "    <tr>\n",
       "      <th>96</th>\n",
       "      <td>96</td>\n",
       "      <td>14332.98</td>\n",
       "      <td>64</td>\n",
       "      <td>80</td>\n",
       "      <td>0.001142</td>\n",
       "      <td>&lt;class 'tensorflow.python.keras.optimizer_v2.a...</td>\n",
       "      <td>215</td>\n",
       "      <td>COMPLETE</td>\n",
       "    </tr>\n",
       "    <tr>\n",
       "      <th>97</th>\n",
       "      <td>97</td>\n",
       "      <td>14834.75</td>\n",
       "      <td>64</td>\n",
       "      <td>80</td>\n",
       "      <td>0.001173</td>\n",
       "      <td>&lt;class 'tensorflow.python.keras.optimizer_v2.a...</td>\n",
       "      <td>210</td>\n",
       "      <td>COMPLETE</td>\n",
       "    </tr>\n",
       "    <tr>\n",
       "      <th>98</th>\n",
       "      <td>98</td>\n",
       "      <td>15456.81</td>\n",
       "      <td>64</td>\n",
       "      <td>70</td>\n",
       "      <td>0.002136</td>\n",
       "      <td>&lt;class 'tensorflow.python.keras.optimizer_v2.a...</td>\n",
       "      <td>195</td>\n",
       "      <td>COMPLETE</td>\n",
       "    </tr>\n",
       "    <tr>\n",
       "      <th>99</th>\n",
       "      <td>99</td>\n",
       "      <td>14057.96</td>\n",
       "      <td>64</td>\n",
       "      <td>100</td>\n",
       "      <td>0.001540</td>\n",
       "      <td>&lt;class 'tensorflow.python.keras.optimizer_v2.a...</td>\n",
       "      <td>145</td>\n",
       "      <td>COMPLETE</td>\n",
       "    </tr>\n",
       "  </tbody>\n",
       "</table>\n",
       "<p>100 rows × 8 columns</p>\n",
       "</div>"
      ],
      "text/plain": [
       "    number     value  params_batch_size  params_epochs  params_learning_rate  \\\n",
       "0        0  34790.86                  8             60              0.173350   \n",
       "1        1  14692.84                 64             80              0.007490   \n",
       "2        2  17243.68                 64             50              0.012425   \n",
       "3        3  15203.82                128             60              0.022501   \n",
       "4        4  41131.56                 16             50              0.128361   \n",
       "..     ...       ...                ...            ...                   ...   \n",
       "95      95  31755.88                 32            100              0.074490   \n",
       "96      96  14332.98                 64             80              0.001142   \n",
       "97      97  14834.75                 64             80              0.001173   \n",
       "98      98  15456.81                 64             70              0.002136   \n",
       "99      99  14057.96                 64            100              0.001540   \n",
       "\n",
       "                                     params_optimizer  params_units     state  \n",
       "0   <class 'tensorflow.python.keras.optimizer_v2.a...           335  COMPLETE  \n",
       "1   <class 'tensorflow.python.keras.optimizer_v2.a...           370  COMPLETE  \n",
       "2   <class 'tensorflow.python.keras.optimizer_v2.a...           350  COMPLETE  \n",
       "3   <class 'tensorflow.python.keras.optimizer_v2.a...           260  COMPLETE  \n",
       "4   <class 'tensorflow.python.keras.optimizer_v2.a...           480  COMPLETE  \n",
       "..                                                ...           ...       ...  \n",
       "95  <class 'tensorflow.python.keras.optimizer_v2.a...           275  COMPLETE  \n",
       "96  <class 'tensorflow.python.keras.optimizer_v2.a...           215  COMPLETE  \n",
       "97  <class 'tensorflow.python.keras.optimizer_v2.a...           210  COMPLETE  \n",
       "98  <class 'tensorflow.python.keras.optimizer_v2.a...           195  COMPLETE  \n",
       "99  <class 'tensorflow.python.keras.optimizer_v2.a...           145  COMPLETE  \n",
       "\n",
       "[100 rows x 8 columns]"
      ]
     },
     "metadata": {},
     "output_type": "display_data"
    }
   ],
   "source": [
    "df = study.trials_dataframe(attrs=('number', 'value', 'params', 'state'))\n",
    "display(df)\n",
    "df.to_csv('350_LSTM_q=0.999_100次tail_无Dropout层的超参数确定实验结果.csv')"
   ]
  },
  {
   "cell_type": "code",
   "execution_count": 37,
   "metadata": {},
   "outputs": [
    {
     "name": "stderr",
     "output_type": "stream",
     "text": [
      "D:\\anaconda\\lib\\site-packages\\ipykernel_launcher.py:1: ExperimentalWarning:\n",
      "\n",
      "plot_optimization_history is experimental (supported from v2.2.0). The interface can change in the future.\n",
      "\n"
     ]
    },
    {
     "data": {
      "image/png": "[encoded data removed]",
      "text/plain": [
       "<Figure size 432x288 with 1 Axes>"
      ]
     },
     "metadata": {},
     "output_type": "display_data"
    }
   ],
   "source": [
    "plot_optimization_history(study);"
   ]
  }
 ],
 "metadata": {
  "kernelspec": {
   "display_name": "Python 3",
   "language": "python",
   "name": "python3"
  },
  "language_info": {
   "codemirror_mode": {
    "name": "ipython",
    "version": 3
   },
   "file_extension": ".py",
   "mimetype": "text/x-python",
   "name": "python",
   "nbconvert_exporter": "python",
   "pygments_lexer": "ipython3",
   "version": "3.6.4"
  },
  "toc": {
   "base_numbering": 1,
   "nav_menu": {},
   "number_sections": true,
   "sideBar": true,
   "skip_h1_title": false,
   "title_cell": "Table of Contents",
   "title_sidebar": "Contents",
   "toc_cell": false,
   "toc_position": {
    "height": "399px",
    "left": "29px",
    "top": "110.363px",
    "width": "166px"
   },
   "toc_section_display": true,
   "toc_window_display": true
  }
 },
 "nbformat": 4,
 "nbformat_minor": 2
}
