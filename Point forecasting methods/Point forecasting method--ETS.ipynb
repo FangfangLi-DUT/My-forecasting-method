{
 "cells": [
  {
   "cell_type": "markdown",
   "metadata": {},
   "source": [
    "# Import Package"
   ]
  },
  {
   "cell_type": "code",
   "execution_count": 1,
   "metadata": {},
   "outputs": [
    {
     "name": "stderr",
     "output_type": "stream",
     "text": [
      "\n",
      "Bad key \"nbagg.transparent\" on line 426 in\n",
      "D:\\anaconda\\lib\\site-packages\\matplotlib\\mpl-data\\stylelib\\_classic_test.mplstyle.\n",
      "You probably need to get an updated matplotlibrc file from\n",
      "https://github.com/matplotlib/matplotlib/blob/v3.2.2/matplotlibrc.template\n",
      "or from the matplotlib source distribution\n",
      "\n",
      "Bad key \"animation.mencoder_path\" on line 509 in\n",
      "D:\\anaconda\\lib\\site-packages\\matplotlib\\mpl-data\\stylelib\\_classic_test.mplstyle.\n",
      "You probably need to get an updated matplotlibrc file from\n",
      "https://github.com/matplotlib/matplotlib/blob/v3.2.2/matplotlibrc.template\n",
      "or from the matplotlib source distribution\n",
      "\n",
      "Bad key \"animation.mencoder_args\" on line 512 in\n",
      "D:\\anaconda\\lib\\site-packages\\matplotlib\\mpl-data\\stylelib\\_classic_test.mplstyle.\n",
      "You probably need to get an updated matplotlibrc file from\n",
      "https://github.com/matplotlib/matplotlib/blob/v3.2.2/matplotlibrc.template\n",
      "or from the matplotlib source distribution\n",
      "In D:\\anaconda\\lib\\site-packages\\matplotlib\\mpl-data\\stylelib\\_classic_test.mplstyle: \n",
      "The text.latex.unicode rcparam was deprecated in Matplotlib 3.0 and will be removed in 3.2.\n",
      "In D:\\anaconda\\lib\\site-packages\\matplotlib\\mpl-data\\stylelib\\_classic_test.mplstyle: \n",
      "The savefig.frameon rcparam was deprecated in Matplotlib 3.1 and will be removed in 3.3.\n",
      "In D:\\anaconda\\lib\\site-packages\\matplotlib\\mpl-data\\stylelib\\_classic_test.mplstyle: \n",
      "The pgf.debug rcparam was deprecated in Matplotlib 3.0 and will be removed in 3.2.\n",
      "In D:\\anaconda\\lib\\site-packages\\matplotlib\\mpl-data\\stylelib\\_classic_test.mplstyle: \n",
      "The verbose.level rcparam was deprecated in Matplotlib 3.1 and will be removed in 3.3.\n",
      "In D:\\anaconda\\lib\\site-packages\\matplotlib\\mpl-data\\stylelib\\_classic_test.mplstyle: \n",
      "The verbose.fileo rcparam was deprecated in Matplotlib 3.1 and will be removed in 3.3.\n"
     ]
    }
   ],
   "source": [
    "import numpy as np\n",
    "import pandas as pd\n",
    "import matplotlib.pyplot as plt\n",
    "import re\n",
    "import tqdm\n",
    "import random\n",
    "import datetime\n",
    "from sklearn.metrics import mean_squared_log_error\n",
    "from datetime import datetime\n",
    "import calendar\n",
    "import itertools\n",
    "from sklearn.metrics import mean_squared_error\n",
    "from math import sqrt\n",
    "import matplotlib.pyplot as plt\n",
    "import seaborn as sns\n",
    "import statsmodels.api as sm\n",
    "from statsmodels.tsa.api import ExponentialSmoothing\n",
    "#from statsmodels.tsa.holtwinters import ExponentialSmoothing, SimpleExpSmoothing, Holt\n",
    "from statsmodels.tsa.stattools import adfuller\n",
    "from pandas import read_csv\n",
    "from numpy import nan\n",
    "from numpy import isnan\n",
    "from numpy import split\n",
    "from numpy import array\n",
    "from matplotlib import pyplot\n",
    "import xlrd\n",
    "from collections import defaultdict\n",
    "from datetime import date,datetime\n",
    "import math\n",
    "from sklearn.cluster import KMeans\n",
    "from sklearn import datasets\n",
    "import copy\n",
    "from scipy import stats\n",
    "import time\n",
    "from pylab import *\n",
    "plt.rcParams['font.sans-serif'] = ['SimHei']\n",
    "import argparse\n",
    "from scipy.special import softmax\n",
    "\n",
    "from sklearn.preprocessing import LabelEncoder\n",
    "\n",
    "import os\n",
    "from math import sqrt\n",
    "from numpy import concatenate\n",
    "from pandas import DataFrame\n",
    "from pandas import concat\n",
    "#导入scipy模块\n",
    "import joblib\n",
    "#%matplotlib inline\n",
    "from IPython.core.interactiveshell import InteractiveShell\n",
    "InteractiveShell.ast_node_interactivity = \"all\"\n",
    "from matplotlib.pylab import style #自定义图表风格\n",
    "style.use('ggplot')\n",
    "# 解决中文乱码问题\n",
    "plt.rcParams['font.sans-serif'] = ['Simhei']\n",
    "# 解决坐标轴刻度负号乱码\n",
    "plt.rcParams['axes.unicode_minus'] = False"
   ]
  },
  {
   "cell_type": "code",
   "execution_count": 2,
   "metadata": {},
   "outputs": [],
   "source": [
    "from sklearn.svm import SVR\n",
    "from sklearn.model_selection import train_test_split\n",
    "from sklearn.model_selection import TimeSeriesSplit\n",
    "from sklearn.model_selection import RandomizedSearchCV\n",
    "from sklearn.ensemble import RandomForestRegressor, AdaBoostRegressor\n",
    "from sklearn.metrics import mean_absolute_error, mean_squared_error\n",
    "from sklearn.feature_selection import SelectKBest, mutual_info_regression\n",
    "from sklearn.pipeline import Pipeline\n",
    "from sklearn.preprocessing import StandardScaler\n",
    "from sklearn.multioutput import MultiOutputRegressor,RegressorChain\n",
    "from sklearn.tree import DecisionTreeRegressor\n",
    "from sklearn.decomposition import PCA\n",
    "from statsmodels.tsa.holtwinters import ExponentialSmoothing"
   ]
  },
  {
   "cell_type": "markdown",
   "metadata": {},
   "source": [
    "# Load Data"
   ]
  },
  {
   "cell_type": "code",
   "execution_count": 3,
   "metadata": {},
   "outputs": [
    {
     "name": "stdout",
     "output_type": "stream",
     "text": [
      "00df0.shape[0] 209937\n",
      "11df0.shape[0] 207441\n"
     ]
    }
   ],
   "source": [
    "abc=30#表示30min为一段\n",
    "#df0=pd.read_csv(r'F:\\博士科研资料\\博士开题及其素材\\内容1：新零售预测文献以及相关数据集\\数据6--sales_detail.csv\\tyzx3month.csv',encoding ='GB2312')\n",
    "gdf0=pd.read_csv(open(r'F:\\博士科研资料\\博士开题及其素材\\加油站数据\\export11.csv'))#,encoding='gb18030')\n",
    "#gdf0=pd.read_csv(r'F:\\博士科研资料\\博士开题及其素材\\加油站数据\\export11.csv',encoding='gb18030')\n",
    "gdf0['Time1'] = pd.to_datetime(gdf0['Time'],errors='coerce') \n",
    "gdf0['Hour'] = gdf0['Time1'].dt.hour.fillna(0).astype(\"int\")    #转化提取小时\n",
    "gdf0['Minute'] = gdf0['Time1'].dt.minute.fillna(0).astype(\"int\") #转化提取分钟\n",
    "gdf0['Hour']=gdf0['Hour'].astype(str)\n",
    "gdf0['Date'] = pd.to_datetime(gdf0['Date'])\n",
    "gdf0['T'] = gdf0['Hour'].apply(lambda x : int(x))+gdf0['Minute'].apply (lambda x :round(x/60,2))\n",
    "gdf0['volume'] = gdf0['volume']\n",
    "gdf0['MinuteLabel']=gdf0['Hour'].apply(lambda x : math.floor((int(x)*60)/abc))+gdf0['Minute'].apply (lambda x :math.floor(x/abc))#表示该时刻点属于哪个区间,因为有0，所以向下取整数\n",
    "#gdf0=gdf0.sort_values(by=['Date','Time'],ascending=[True,True]) #df3是没有的，用0不足的dataframe\n",
    "day_name00=gdf0.groupby([\"NAME\"])         #\n",
    "for name,group in day_name00:#group是星期数一样的类目\n",
    "    if name=='92H':\n",
    "        df0=group\n",
    "df0=df0[df0['Date'] >= \"2020-06-01\"] \n",
    "print('00df0.shape[0]',df0.shape[0])\n",
    "df0= df0[~( df0['Date'].isin([\"2020-06-11\",\"2020-08-11\", \"2020-08-25\", \"2020-09-11\"]) )]###删除这些行，因为很多0\n",
    "print('11df0.shape[0]',df0.shape[0])"
   ]
  },
  {
   "cell_type": "markdown",
   "metadata": {},
   "source": [
    "# Data Preprocessing"
   ]
  },
  {
   "cell_type": "code",
   "execution_count": 4,
   "metadata": {},
   "outputs": [
    {
     "data": {
      "text/html": [
       "<div>\n",
       "<style scoped>\n",
       "    .dataframe tbody tr th:only-of-type {\n",
       "        vertical-align: middle;\n",
       "    }\n",
       "\n",
       "    .dataframe tbody tr th {\n",
       "        vertical-align: top;\n",
       "    }\n",
       "\n",
       "    .dataframe thead th {\n",
       "        text-align: right;\n",
       "    }\n",
       "</style>\n",
       "<table border=\"1\" class=\"dataframe\">\n",
       "  <thead>\n",
       "    <tr style=\"text-align: right;\">\n",
       "      <th></th>\n",
       "      <th>Date</th>\n",
       "      <th>UnitSales</th>\n",
       "      <th>MinuteLabel</th>\n",
       "    </tr>\n",
       "  </thead>\n",
       "  <tbody>\n",
       "    <tr>\n",
       "      <th>0</th>\n",
       "      <td>2020-06-01</td>\n",
       "      <td>18.46</td>\n",
       "      <td>0</td>\n",
       "    </tr>\n",
       "    <tr>\n",
       "      <th>1</th>\n",
       "      <td>2020-06-01</td>\n",
       "      <td>105.28</td>\n",
       "      <td>1</td>\n",
       "    </tr>\n",
       "    <tr>\n",
       "      <th>2</th>\n",
       "      <td>2020-06-01</td>\n",
       "      <td>0.00</td>\n",
       "      <td>2</td>\n",
       "    </tr>\n",
       "  </tbody>\n",
       "</table>\n",
       "</div>"
      ],
      "text/plain": [
       "        Date  UnitSales  MinuteLabel\n",
       "0 2020-06-01      18.46            0\n",
       "1 2020-06-01     105.28            1\n",
       "2 2020-06-01       0.00            2"
      ]
     },
     "metadata": {},
     "output_type": "display_data"
    },
    {
     "data": {
      "text/html": [
       "<div>\n",
       "<style scoped>\n",
       "    .dataframe tbody tr th:only-of-type {\n",
       "        vertical-align: middle;\n",
       "    }\n",
       "\n",
       "    .dataframe tbody tr th {\n",
       "        vertical-align: top;\n",
       "    }\n",
       "\n",
       "    .dataframe thead th {\n",
       "        text-align: right;\n",
       "    }\n",
       "</style>\n",
       "<table border=\"1\" class=\"dataframe\">\n",
       "  <thead>\n",
       "    <tr style=\"text-align: right;\">\n",
       "      <th></th>\n",
       "      <th>timestamp</th>\n",
       "      <th>value</th>\n",
       "      <th>Date</th>\n",
       "      <th>MinuteLabel</th>\n",
       "    </tr>\n",
       "  </thead>\n",
       "  <tbody>\n",
       "    <tr>\n",
       "      <th>0</th>\n",
       "      <td>2020-06-01 00:30:00</td>\n",
       "      <td>18.46</td>\n",
       "      <td>2020-06-01</td>\n",
       "      <td>0</td>\n",
       "    </tr>\n",
       "    <tr>\n",
       "      <th>1</th>\n",
       "      <td>2020-06-01 01:00:00</td>\n",
       "      <td>105.28</td>\n",
       "      <td>2020-06-01</td>\n",
       "      <td>1</td>\n",
       "    </tr>\n",
       "    <tr>\n",
       "      <th>2</th>\n",
       "      <td>2020-06-01 01:30:00</td>\n",
       "      <td>0.00</td>\n",
       "      <td>2020-06-01</td>\n",
       "      <td>2</td>\n",
       "    </tr>\n",
       "  </tbody>\n",
       "</table>\n",
       "</div>"
      ],
      "text/plain": [
       "            timestamp   value        Date  MinuteLabel\n",
       "0 2020-06-01 00:30:00   18.46  2020-06-01            0\n",
       "1 2020-06-01 01:00:00  105.28  2020-06-01            1\n",
       "2 2020-06-01 01:30:00    0.00  2020-06-01            2"
      ]
     },
     "metadata": {},
     "output_type": "display_data"
    }
   ],
   "source": [
    "df2 = df0.groupby([\"Date\",\"MinuteLabel\"])['volume'].sum().reset_index(name ='UnitSales')#只留下小时销量数据\n",
    "df2['Date'] = pd.to_datetime(df2['Date']) \n",
    "df2['MinuteLabel']=df2['MinuteLabel'].astype(str)\n",
    "#dfghu=df2.sort_values(by=['UnitSales'],ascending=[True]) \n",
    "#print('dfghu.loc[0,UnitSales]',dfghu.iloc[0,2])#最小值\n",
    "#print('dfghu.loc[0,UnitSales]',dfghu.iloc[dfghu.shape[0]-1,2])#最大值\n",
    "#df2['UnitSales']=df2['UnitSales'].apply(lambda x: (x-dfghu.iloc[0,2])/(dfghu.iloc[dfghu.shape[0]-1,2]-dfghu.iloc[0,2]))\n",
    "df2['MinuteLabel']=df2['MinuteLabel'].astype(int)#\n",
    "idx=list(range(int(24*60/abc)))                                                         \n",
    "###3###3####用0铺满\n",
    "group1=df2.groupby([\"Date\"])\n",
    "j=0\n",
    "for name,group2 in group1:#group2是星期数、日期数一样的类目，即一天  \n",
    "     group2=group2.sort_values(by=['MinuteLabel'],ascending=True,na_position='first')  # 按时间排序                  \n",
    "     group2 = group2.set_index('MinuteLabel')#group2设置索引为Hour         \n",
    "     group2 = group2.reindex(idx, fill_value=0)\n",
    "     group2['MinuteLabel'] = group2.index          \n",
    "     group2['Date']=name\n",
    "     if j==0:\n",
    "        df3=group2\n",
    "     else:      \n",
    "        df3=pd.concat([df3,group2], axis=0, ignore_index=True)#axis:合并方式，默认0表示按列合并，1表示按行合并;ignore_index:是否忽略索引                   \n",
    "     j=j+1\n",
    "df3=df3.sort_values(by=['Date','MinuteLabel'],ascending=[True,True]) #df3是没有的，用0不足的dataframe\n",
    "display(df3.head(3))#df3是没有的全部填充为0的\n",
    "df = pd.DataFrame(columns=['timestamp', 'value'])###初始化\n",
    "df3['AllMinutes']=df3['MinuteLabel'].apply(lambda x: time.strftime(\"%H:%M:%S\", time.gmtime( float((x+1)*abc*60))))\n",
    "for i in range(df3.shape[0]):\n",
    "    if df3.loc[i,'AllMinutes']==\"00:00:00\": \n",
    "        df3.loc[i,'AllMinutes']=\"23:59:00\"  ###1月20日0:00:00表示的是1月20日24:00:00,而无法取24h，所以设为23.59\n",
    "#将秒转换为时分秒的形式\n",
    "df['timestamp']=df3['Date'].astype('str')+ ' ' + df3['AllMinutes'].astype('str')\n",
    "df['timestamp'] = pd.to_datetime(df['timestamp'])#为什么成了选取偶数\n",
    "#df['value']=df5['UnitSales']+100#将小时销量转换为value值，且为了0不可用，所有的值增加100.\n",
    "df['value']=df3['UnitSales']\n",
    "df=df.sort_values(by=['timestamp'],ascending=[True]) \n",
    "df['Date']=df['timestamp'].apply(lambda x: x.strftime(\"%Y-%m-%d\"))#提取时间戳中的日期\n",
    "### READ DATA AND CREATE FEATURES FOR year, month, day, hour ###\n",
    "df['MinuteLabel']=df3['MinuteLabel']\n",
    "df=df.sort_values(by=['timestamp','MinuteLabel'],ascending=[True,True]) #df3是没有的，用0不足的dataframe\n",
    "display(df.head(3))\n",
    "##df=df.iloc[152*(int(24*60/abc)):,:]\n",
    "d1_sale=pd.DataFrame()\n",
    "d1_sale=df"
   ]
  },
  {
   "cell_type": "code",
   "execution_count": 5,
   "metadata": {},
   "outputs": [
    {
     "name": "stderr",
     "output_type": "stream",
     "text": [
      "D:\\anaconda\\lib\\site-packages\\ipykernel_launcher.py:6: SettingWithCopyWarning: \n",
      "A value is trying to be set on a copy of a slice from a DataFrame.\n",
      "Try using .loc[row_indexer,col_indexer] = value instead\n",
      "\n",
      "See the caveats in the documentation: https://pandas.pydata.org/pandas-docs/stable/user_guide/indexing.html#returning-a-view-versus-a-copy\n",
      "  \n",
      "D:\\anaconda\\lib\\site-packages\\ipykernel_launcher.py:7: SettingWithCopyWarning: \n",
      "A value is trying to be set on a copy of a slice from a DataFrame.\n",
      "Try using .loc[row_indexer,col_indexer] = value instead\n",
      "\n",
      "See the caveats in the documentation: https://pandas.pydata.org/pandas-docs/stable/user_guide/indexing.html#returning-a-view-versus-a-copy\n",
      "  import sys\n",
      "D:\\anaconda\\lib\\site-packages\\ipykernel_launcher.py:9: SettingWithCopyWarning: \n",
      "A value is trying to be set on a copy of a slice from a DataFrame.\n",
      "Try using .loc[row_indexer,col_indexer] = value instead\n",
      "\n",
      "See the caveats in the documentation: https://pandas.pydata.org/pandas-docs/stable/user_guide/indexing.html#returning-a-view-versus-a-copy\n",
      "  if __name__ == '__main__':\n",
      "D:\\anaconda\\lib\\site-packages\\ipykernel_launcher.py:17: SettingWithCopyWarning: \n",
      "A value is trying to be set on a copy of a slice from a DataFrame.\n",
      "Try using .loc[row_indexer,col_indexer] = value instead\n",
      "\n",
      "See the caveats in the documentation: https://pandas.pydata.org/pandas-docs/stable/user_guide/indexing.html#returning-a-view-versus-a-copy\n",
      "D:\\anaconda\\lib\\site-packages\\pandas\\core\\indexing.py:1763: SettingWithCopyWarning: \n",
      "A value is trying to be set on a copy of a slice from a DataFrame.\n",
      "Try using .loc[row_indexer,col_indexer] = value instead\n",
      "\n",
      "See the caveats in the documentation: https://pandas.pydata.org/pandas-docs/stable/user_guide/indexing.html#returning-a-view-versus-a-copy\n",
      "  isetter(loc, value)\n",
      "D:\\anaconda\\lib\\site-packages\\ipykernel_launcher.py:26: SettingWithCopyWarning: \n",
      "A value is trying to be set on a copy of a slice from a DataFrame.\n",
      "Try using .loc[row_indexer,col_indexer] = value instead\n",
      "\n",
      "See the caveats in the documentation: https://pandas.pydata.org/pandas-docs/stable/user_guide/indexing.html#returning-a-view-versus-a-copy\n",
      "D:\\anaconda\\lib\\site-packages\\ipykernel_launcher.py:28: SettingWithCopyWarning: \n",
      "A value is trying to be set on a copy of a slice from a DataFrame.\n",
      "Try using .loc[row_indexer,col_indexer] = value instead\n",
      "\n",
      "See the caveats in the documentation: https://pandas.pydata.org/pandas-docs/stable/user_guide/indexing.html#returning-a-view-versus-a-copy\n"
     ]
    },
    {
     "data": {
      "text/html": [
       "<div>\n",
       "<style scoped>\n",
       "    .dataframe tbody tr th:only-of-type {\n",
       "        vertical-align: middle;\n",
       "    }\n",
       "\n",
       "    .dataframe tbody tr th {\n",
       "        vertical-align: top;\n",
       "    }\n",
       "\n",
       "    .dataframe thead th {\n",
       "        text-align: right;\n",
       "    }\n",
       "</style>\n",
       "<table border=\"1\" class=\"dataframe\">\n",
       "  <thead>\n",
       "    <tr style=\"text-align: right;\">\n",
       "      <th></th>\n",
       "      <th>Date</th>\n",
       "      <th>Time</th>\n",
       "      <th>T</th>\n",
       "      <th>volume</th>\n",
       "      <th>Minute</th>\n",
       "      <th>MinuteLabel</th>\n",
       "      <th>OurLeaveStock</th>\n",
       "      <th>OurBuHuoStart</th>\n",
       "      <th>AllMinutes</th>\n",
       "      <th>timestamp</th>\n",
       "    </tr>\n",
       "  </thead>\n",
       "  <tbody>\n",
       "    <tr>\n",
       "      <th>183286</th>\n",
       "      <td>2020-06-01</td>\n",
       "      <td>0:09:00</td>\n",
       "      <td>0.15</td>\n",
       "      <td>18.46</td>\n",
       "      <td>9</td>\n",
       "      <td>0</td>\n",
       "      <td>13790</td>\n",
       "      <td>0</td>\n",
       "      <td>00:30:00</td>\n",
       "      <td>2020-06-01 00:30:00</td>\n",
       "    </tr>\n",
       "    <tr>\n",
       "      <th>183287</th>\n",
       "      <td>2020-06-01</td>\n",
       "      <td>0:40:00</td>\n",
       "      <td>0.67</td>\n",
       "      <td>32.85</td>\n",
       "      <td>40</td>\n",
       "      <td>1</td>\n",
       "      <td>13790</td>\n",
       "      <td>0</td>\n",
       "      <td>01:00:00</td>\n",
       "      <td>2020-06-01 01:00:00</td>\n",
       "    </tr>\n",
       "    <tr>\n",
       "      <th>183288</th>\n",
       "      <td>2020-06-01</td>\n",
       "      <td>0:43:00</td>\n",
       "      <td>0.72</td>\n",
       "      <td>44.75</td>\n",
       "      <td>43</td>\n",
       "      <td>1</td>\n",
       "      <td>13790</td>\n",
       "      <td>0</td>\n",
       "      <td>01:00:00</td>\n",
       "      <td>2020-06-01 01:00:00</td>\n",
       "    </tr>\n",
       "  </tbody>\n",
       "</table>\n",
       "</div>"
      ],
      "text/plain": [
       "             Date     Time     T  volume  Minute  MinuteLabel  OurLeaveStock  \\\n",
       "183286 2020-06-01  0:09:00  0.15   18.46       9            0          13790   \n",
       "183287 2020-06-01  0:40:00  0.67   32.85      40            1          13790   \n",
       "183288 2020-06-01  0:43:00  0.72   44.75      43            1          13790   \n",
       "\n",
       "        OurBuHuoStart AllMinutes           timestamp  \n",
       "183286              0   00:30:00 2020-06-01 00:30:00  \n",
       "183287              0   01:00:00 2020-06-01 01:00:00  \n",
       "183288              0   01:00:00 2020-06-01 01:00:00  "
      ]
     },
     "metadata": {},
     "output_type": "display_data"
    },
    {
     "data": {
      "text/html": [
       "<div>\n",
       "<style scoped>\n",
       "    .dataframe tbody tr th:only-of-type {\n",
       "        vertical-align: middle;\n",
       "    }\n",
       "\n",
       "    .dataframe tbody tr th {\n",
       "        vertical-align: top;\n",
       "    }\n",
       "\n",
       "    .dataframe thead th {\n",
       "        text-align: right;\n",
       "    }\n",
       "</style>\n",
       "<table border=\"1\" class=\"dataframe\">\n",
       "  <thead>\n",
       "    <tr style=\"text-align: right;\">\n",
       "      <th></th>\n",
       "      <th>Date</th>\n",
       "      <th>Time</th>\n",
       "      <th>T</th>\n",
       "      <th>volume</th>\n",
       "      <th>Minute</th>\n",
       "      <th>MinuteLabel</th>\n",
       "      <th>OurLeaveStock</th>\n",
       "      <th>OurBuHuoStart</th>\n",
       "      <th>AllMinutes</th>\n",
       "      <th>timestamp</th>\n",
       "    </tr>\n",
       "  </thead>\n",
       "  <tbody>\n",
       "    <tr>\n",
       "      <th>551856</th>\n",
       "      <td>2020-12-31</td>\n",
       "      <td>23:30:00</td>\n",
       "      <td>23.50</td>\n",
       "      <td>17.28</td>\n",
       "      <td>30</td>\n",
       "      <td>47</td>\n",
       "      <td>13790</td>\n",
       "      <td>0</td>\n",
       "      <td>23:59:00</td>\n",
       "      <td>2020-12-31 23:59:00</td>\n",
       "    </tr>\n",
       "    <tr>\n",
       "      <th>551857</th>\n",
       "      <td>2020-12-31</td>\n",
       "      <td>23:31:00</td>\n",
       "      <td>23.52</td>\n",
       "      <td>41.63</td>\n",
       "      <td>31</td>\n",
       "      <td>47</td>\n",
       "      <td>13790</td>\n",
       "      <td>0</td>\n",
       "      <td>23:59:00</td>\n",
       "      <td>2020-12-31 23:59:00</td>\n",
       "    </tr>\n",
       "    <tr>\n",
       "      <th>551858</th>\n",
       "      <td>2020-12-31</td>\n",
       "      <td>23:40:00</td>\n",
       "      <td>23.67</td>\n",
       "      <td>17.28</td>\n",
       "      <td>40</td>\n",
       "      <td>47</td>\n",
       "      <td>13790</td>\n",
       "      <td>0</td>\n",
       "      <td>23:59:00</td>\n",
       "      <td>2020-12-31 23:59:00</td>\n",
       "    </tr>\n",
       "  </tbody>\n",
       "</table>\n",
       "</div>"
      ],
      "text/plain": [
       "             Date      Time      T  volume  Minute  MinuteLabel  \\\n",
       "551856 2020-12-31  23:30:00  23.50   17.28      30           47   \n",
       "551857 2020-12-31  23:31:00  23.52   41.63      31           47   \n",
       "551858 2020-12-31  23:40:00  23.67   17.28      40           47   \n",
       "\n",
       "        OurLeaveStock  OurBuHuoStart AllMinutes           timestamp  \n",
       "551856          13790              0   23:59:00 2020-12-31 23:59:00  \n",
       "551857          13790              0   23:59:00 2020-12-31 23:59:00  \n",
       "551858          13790              0   23:59:00 2020-12-31 23:59:00  "
      ]
     },
     "metadata": {},
     "output_type": "display_data"
    },
    {
     "name": "stdout",
     "output_type": "stream",
     "text": [
      "(207441, 10)\n"
     ]
    }
   ],
   "source": [
    "#DFStockOut=df0.iloc[:,[1,2,3,7,14,15]]\n",
    "DFStockOut=df0.iloc[:,[6,7,11,3,10,12]]\n",
    "c=3\n",
    "a=DFStockOut.shape[1]\n",
    "ReStartStock=13790#10000#该变量表示补货到达后的初始库存\n",
    "DFStockOut['OurLeaveStock']=DFStockOut['Date'].apply(lambda x : ReStartStock)#6\n",
    "DFStockOut['OurBuHuoStart']=DFStockOut['Date'].apply(lambda x : 0)#补货触发时刻7\n",
    "b=a+1\n",
    "DFStockOut['Date']=pd.to_datetime(DFStockOut['Date'])\n",
    "#from datetime import timedelta\n",
    "#display(DFStockOut.head(2))\n",
    "\n",
    "StockOutTime=[]\n",
    "DHCS1=0#表示订货次数\n",
    "#display(DFStockOut.head(5))\n",
    "\n",
    "DFStockOut['AllMinutes']=DFStockOut['MinuteLabel'].apply(lambda x: time.strftime(\"%H:%M:%S\", time.gmtime( float((x+1)*abc*60))))\n",
    "#将秒转换为时分秒的形式\n",
    "\n",
    "for i in range(DFStockOut.shape[0]):\n",
    "    if DFStockOut.iloc[i,-1]==\"00:00:00\":\n",
    "        #print('i is',i)\n",
    "        #print(DFStockOut.iloc[i,-1])   \n",
    "        DFStockOut.iloc[i,-1]=\"23:59:00\"  ###1月20日0:00:00表示的是1月20日24:00:00,而无法取24h，所以设为23.59\n",
    "    \n",
    "DFStockOut['timestamp']=DFStockOut['Date'].astype('str')+ ' ' + DFStockOut['AllMinutes'].astype('str')\n",
    "\n",
    "DFStockOut['timestamp'] = pd.to_datetime(DFStockOut['timestamp'])#pd.to_datetime它无法转换\n",
    "display(DFStockOut.head(3))\n",
    "display(DFStockOut.tail(3))\n",
    "print(DFStockOut.shape)#(321121, 9)"
   ]
  },
  {
   "cell_type": "markdown",
   "metadata": {},
   "source": [
    "# ETS multi-step-ahead forecasting"
   ]
  },
  {
   "cell_type": "code",
   "execution_count": 6,
   "metadata": {},
   "outputs": [
    {
     "name": "stderr",
     "output_type": "stream",
     "text": [
      "D:\\anaconda\\lib\\site-packages\\statsmodels\\tsa\\base\\tsa_model.py:221: ValueWarning: An unsupported index was provided and will be ignored when e.g. forecasting.\n",
      "  ' ignored when e.g. forecasting.', ValueWarning)\n"
     ]
    },
    {
     "name": "stdout",
     "output_type": "stream",
     "text": [
      "SplitNum 6960\n",
      "1SplitNum0 6960\n"
     ]
    },
    {
     "name": "stderr",
     "output_type": "stream",
     "text": [
      "D:\\anaconda\\lib\\site-packages\\statsmodels\\tsa\\base\\tsa_model.py:293: FutureWarning: RangeIndex._start is deprecated and will be removed in a future version. Use RangeIndex.start instead\n",
      "  stop = base_index._start + (key + 1) * base_index._step\n",
      "D:\\anaconda\\lib\\site-packages\\statsmodels\\tsa\\base\\tsa_model.py:293: FutureWarning: RangeIndex._step is deprecated and will be removed in a future version. Use RangeIndex.step instead\n",
      "  stop = base_index._start + (key + 1) * base_index._step\n",
      "D:\\anaconda\\lib\\site-packages\\statsmodels\\tsa\\base\\tsa_model.py:294: FutureWarning: RangeIndex._start is deprecated and will be removed in a future version. Use RangeIndex.start instead\n",
      "  index = RangeIndex(start=base_index._start,\n",
      "D:\\anaconda\\lib\\site-packages\\statsmodels\\tsa\\base\\tsa_model.py:296: FutureWarning: RangeIndex._step is deprecated and will be removed in a future version. Use RangeIndex.step instead\n",
      "  step=base_index._step)\n",
      "D:\\anaconda\\lib\\site-packages\\statsmodels\\tsa\\base\\tsa_model.py:531: ValueWarning: No supported index is available. Prediction results will be given with an integer index beginning at `start`.\n",
      "  ValueWarning)\n",
      "D:\\anaconda\\lib\\site-packages\\statsmodels\\tsa\\base\\tsa_model.py:221: ValueWarning: An unsupported index was provided and will be ignored when e.g. forecasting.\n",
      "  ' ignored when e.g. forecasting.', ValueWarning)\n"
     ]
    },
    {
     "name": "stdout",
     "output_type": "stream",
     "text": [
      "1SplitNum0 7008\n"
     ]
    },
    {
     "name": "stderr",
     "output_type": "stream",
     "text": [
      "D:\\anaconda\\lib\\site-packages\\statsmodels\\tsa\\base\\tsa_model.py:531: ValueWarning: No supported index is available. Prediction results will be given with an integer index beginning at `start`.\n",
      "  ValueWarning)\n",
      "D:\\anaconda\\lib\\site-packages\\statsmodels\\tsa\\base\\tsa_model.py:221: ValueWarning: An unsupported index was provided and will be ignored when e.g. forecasting.\n",
      "  ' ignored when e.g. forecasting.', ValueWarning)\n"
     ]
    },
    {
     "name": "stdout",
     "output_type": "stream",
     "text": [
      "1SplitNum0 7056\n"
     ]
    },
    {
     "name": "stderr",
     "output_type": "stream",
     "text": [
      "D:\\anaconda\\lib\\site-packages\\statsmodels\\tsa\\base\\tsa_model.py:531: ValueWarning: No supported index is available. Prediction results will be given with an integer index beginning at `start`.\n",
      "  ValueWarning)\n",
      "D:\\anaconda\\lib\\site-packages\\statsmodels\\tsa\\base\\tsa_model.py:221: ValueWarning: An unsupported index was provided and will be ignored when e.g. forecasting.\n",
      "  ' ignored when e.g. forecasting.', ValueWarning)\n"
     ]
    },
    {
     "name": "stdout",
     "output_type": "stream",
     "text": [
      "1SplitNum0 7104\n"
     ]
    },
    {
     "name": "stderr",
     "output_type": "stream",
     "text": [
      "D:\\anaconda\\lib\\site-packages\\statsmodels\\tsa\\base\\tsa_model.py:531: ValueWarning: No supported index is available. Prediction results will be given with an integer index beginning at `start`.\n",
      "  ValueWarning)\n",
      "D:\\anaconda\\lib\\site-packages\\statsmodels\\tsa\\base\\tsa_model.py:221: ValueWarning: An unsupported index was provided and will be ignored when e.g. forecasting.\n",
      "  ' ignored when e.g. forecasting.', ValueWarning)\n"
     ]
    },
    {
     "name": "stdout",
     "output_type": "stream",
     "text": [
      "1SplitNum0 7152\n"
     ]
    },
    {
     "name": "stderr",
     "output_type": "stream",
     "text": [
      "D:\\anaconda\\lib\\site-packages\\statsmodels\\tsa\\base\\tsa_model.py:531: ValueWarning: No supported index is available. Prediction results will be given with an integer index beginning at `start`.\n",
      "  ValueWarning)\n",
      "D:\\anaconda\\lib\\site-packages\\statsmodels\\tsa\\base\\tsa_model.py:221: ValueWarning: An unsupported index was provided and will be ignored when e.g. forecasting.\n",
      "  ' ignored when e.g. forecasting.', ValueWarning)\n"
     ]
    },
    {
     "name": "stdout",
     "output_type": "stream",
     "text": [
      "1SplitNum0 7200\n"
     ]
    },
    {
     "name": "stderr",
     "output_type": "stream",
     "text": [
      "D:\\anaconda\\lib\\site-packages\\statsmodels\\tsa\\base\\tsa_model.py:531: ValueWarning: No supported index is available. Prediction results will be given with an integer index beginning at `start`.\n",
      "  ValueWarning)\n",
      "D:\\anaconda\\lib\\site-packages\\statsmodels\\tsa\\base\\tsa_model.py:221: ValueWarning: An unsupported index was provided and will be ignored when e.g. forecasting.\n",
      "  ' ignored when e.g. forecasting.', ValueWarning)\n"
     ]
    },
    {
     "name": "stdout",
     "output_type": "stream",
     "text": [
      "1SplitNum0 7248\n"
     ]
    },
    {
     "name": "stderr",
     "output_type": "stream",
     "text": [
      "D:\\anaconda\\lib\\site-packages\\statsmodels\\tsa\\base\\tsa_model.py:531: ValueWarning: No supported index is available. Prediction results will be given with an integer index beginning at `start`.\n",
      "  ValueWarning)\n",
      "D:\\anaconda\\lib\\site-packages\\statsmodels\\tsa\\base\\tsa_model.py:221: ValueWarning: An unsupported index was provided and will be ignored when e.g. forecasting.\n",
      "  ' ignored when e.g. forecasting.', ValueWarning)\n"
     ]
    },
    {
     "name": "stdout",
     "output_type": "stream",
     "text": [
      "1SplitNum0 7296\n"
     ]
    },
    {
     "name": "stderr",
     "output_type": "stream",
     "text": [
      "D:\\anaconda\\lib\\site-packages\\statsmodels\\tsa\\base\\tsa_model.py:531: ValueWarning: No supported index is available. Prediction results will be given with an integer index beginning at `start`.\n",
      "  ValueWarning)\n",
      "D:\\anaconda\\lib\\site-packages\\statsmodels\\tsa\\base\\tsa_model.py:221: ValueWarning: An unsupported index was provided and will be ignored when e.g. forecasting.\n",
      "  ' ignored when e.g. forecasting.', ValueWarning)\n"
     ]
    },
    {
     "name": "stdout",
     "output_type": "stream",
     "text": [
      "1SplitNum0 7344\n"
     ]
    },
    {
     "name": "stderr",
     "output_type": "stream",
     "text": [
      "D:\\anaconda\\lib\\site-packages\\statsmodels\\tsa\\base\\tsa_model.py:531: ValueWarning: No supported index is available. Prediction results will be given with an integer index beginning at `start`.\n",
      "  ValueWarning)\n",
      "D:\\anaconda\\lib\\site-packages\\statsmodels\\tsa\\base\\tsa_model.py:221: ValueWarning: An unsupported index was provided and will be ignored when e.g. forecasting.\n",
      "  ' ignored when e.g. forecasting.', ValueWarning)\n"
     ]
    },
    {
     "name": "stdout",
     "output_type": "stream",
     "text": [
      "1SplitNum0 7392\n"
     ]
    },
    {
     "name": "stderr",
     "output_type": "stream",
     "text": [
      "D:\\anaconda\\lib\\site-packages\\statsmodels\\tsa\\base\\tsa_model.py:531: ValueWarning: No supported index is available. Prediction results will be given with an integer index beginning at `start`.\n",
      "  ValueWarning)\n",
      "D:\\anaconda\\lib\\site-packages\\statsmodels\\tsa\\base\\tsa_model.py:221: ValueWarning: An unsupported index was provided and will be ignored when e.g. forecasting.\n",
      "  ' ignored when e.g. forecasting.', ValueWarning)\n"
     ]
    },
    {
     "name": "stdout",
     "output_type": "stream",
     "text": [
      "1SplitNum0 7440\n"
     ]
    },
    {
     "name": "stderr",
     "output_type": "stream",
     "text": [
      "D:\\anaconda\\lib\\site-packages\\statsmodels\\tsa\\base\\tsa_model.py:531: ValueWarning: No supported index is available. Prediction results will be given with an integer index beginning at `start`.\n",
      "  ValueWarning)\n",
      "D:\\anaconda\\lib\\site-packages\\statsmodels\\tsa\\base\\tsa_model.py:221: ValueWarning: An unsupported index was provided and will be ignored when e.g. forecasting.\n",
      "  ' ignored when e.g. forecasting.', ValueWarning)\n"
     ]
    },
    {
     "name": "stdout",
     "output_type": "stream",
     "text": [
      "1SplitNum0 7488\n"
     ]
    },
    {
     "name": "stderr",
     "output_type": "stream",
     "text": [
      "D:\\anaconda\\lib\\site-packages\\statsmodels\\tsa\\base\\tsa_model.py:531: ValueWarning: No supported index is available. Prediction results will be given with an integer index beginning at `start`.\n",
      "  ValueWarning)\n",
      "D:\\anaconda\\lib\\site-packages\\statsmodels\\tsa\\base\\tsa_model.py:221: ValueWarning: An unsupported index was provided and will be ignored when e.g. forecasting.\n",
      "  ' ignored when e.g. forecasting.', ValueWarning)\n"
     ]
    },
    {
     "name": "stdout",
     "output_type": "stream",
     "text": [
      "1SplitNum0 7536\n"
     ]
    },
    {
     "name": "stderr",
     "output_type": "stream",
     "text": [
      "D:\\anaconda\\lib\\site-packages\\statsmodels\\tsa\\base\\tsa_model.py:531: ValueWarning: No supported index is available. Prediction results will be given with an integer index beginning at `start`.\n",
      "  ValueWarning)\n",
      "D:\\anaconda\\lib\\site-packages\\statsmodels\\tsa\\base\\tsa_model.py:221: ValueWarning: An unsupported index was provided and will be ignored when e.g. forecasting.\n",
      "  ' ignored when e.g. forecasting.', ValueWarning)\n"
     ]
    },
    {
     "name": "stdout",
     "output_type": "stream",
     "text": [
      "1SplitNum0 7584\n"
     ]
    },
    {
     "name": "stderr",
     "output_type": "stream",
     "text": [
      "D:\\anaconda\\lib\\site-packages\\statsmodels\\tsa\\base\\tsa_model.py:531: ValueWarning: No supported index is available. Prediction results will be given with an integer index beginning at `start`.\n",
      "  ValueWarning)\n",
      "D:\\anaconda\\lib\\site-packages\\statsmodels\\tsa\\base\\tsa_model.py:221: ValueWarning: An unsupported index was provided and will be ignored when e.g. forecasting.\n",
      "  ' ignored when e.g. forecasting.', ValueWarning)\n"
     ]
    },
    {
     "name": "stdout",
     "output_type": "stream",
     "text": [
      "1SplitNum0 7632\n"
     ]
    },
    {
     "name": "stderr",
     "output_type": "stream",
     "text": [
      "D:\\anaconda\\lib\\site-packages\\statsmodels\\tsa\\base\\tsa_model.py:531: ValueWarning: No supported index is available. Prediction results will be given with an integer index beginning at `start`.\n",
      "  ValueWarning)\n",
      "D:\\anaconda\\lib\\site-packages\\statsmodels\\tsa\\base\\tsa_model.py:221: ValueWarning: An unsupported index was provided and will be ignored when e.g. forecasting.\n",
      "  ' ignored when e.g. forecasting.', ValueWarning)\n"
     ]
    },
    {
     "name": "stdout",
     "output_type": "stream",
     "text": [
      "1SplitNum0 7680\n"
     ]
    },
    {
     "name": "stderr",
     "output_type": "stream",
     "text": [
      "D:\\anaconda\\lib\\site-packages\\statsmodels\\tsa\\base\\tsa_model.py:531: ValueWarning: No supported index is available. Prediction results will be given with an integer index beginning at `start`.\n",
      "  ValueWarning)\n",
      "D:\\anaconda\\lib\\site-packages\\statsmodels\\tsa\\base\\tsa_model.py:221: ValueWarning: An unsupported index was provided and will be ignored when e.g. forecasting.\n",
      "  ' ignored when e.g. forecasting.', ValueWarning)\n"
     ]
    },
    {
     "name": "stdout",
     "output_type": "stream",
     "text": [
      "1SplitNum0 7728\n"
     ]
    },
    {
     "name": "stderr",
     "output_type": "stream",
     "text": [
      "D:\\anaconda\\lib\\site-packages\\statsmodels\\tsa\\base\\tsa_model.py:531: ValueWarning: No supported index is available. Prediction results will be given with an integer index beginning at `start`.\n",
      "  ValueWarning)\n",
      "D:\\anaconda\\lib\\site-packages\\statsmodels\\tsa\\base\\tsa_model.py:221: ValueWarning: An unsupported index was provided and will be ignored when e.g. forecasting.\n",
      "  ' ignored when e.g. forecasting.', ValueWarning)\n"
     ]
    },
    {
     "name": "stdout",
     "output_type": "stream",
     "text": [
      "1SplitNum0 7776\n"
     ]
    },
    {
     "name": "stderr",
     "output_type": "stream",
     "text": [
      "D:\\anaconda\\lib\\site-packages\\statsmodels\\tsa\\base\\tsa_model.py:531: ValueWarning: No supported index is available. Prediction results will be given with an integer index beginning at `start`.\n",
      "  ValueWarning)\n",
      "D:\\anaconda\\lib\\site-packages\\statsmodels\\tsa\\base\\tsa_model.py:221: ValueWarning: An unsupported index was provided and will be ignored when e.g. forecasting.\n",
      "  ' ignored when e.g. forecasting.', ValueWarning)\n"
     ]
    },
    {
     "name": "stdout",
     "output_type": "stream",
     "text": [
      "1SplitNum0 7824\n"
     ]
    },
    {
     "name": "stderr",
     "output_type": "stream",
     "text": [
      "D:\\anaconda\\lib\\site-packages\\statsmodels\\tsa\\base\\tsa_model.py:531: ValueWarning: No supported index is available. Prediction results will be given with an integer index beginning at `start`.\n",
      "  ValueWarning)\n",
      "D:\\anaconda\\lib\\site-packages\\statsmodels\\tsa\\base\\tsa_model.py:221: ValueWarning: An unsupported index was provided and will be ignored when e.g. forecasting.\n",
      "  ' ignored when e.g. forecasting.', ValueWarning)\n"
     ]
    },
    {
     "name": "stdout",
     "output_type": "stream",
     "text": [
      "1SplitNum0 7872\n"
     ]
    },
    {
     "name": "stderr",
     "output_type": "stream",
     "text": [
      "D:\\anaconda\\lib\\site-packages\\statsmodels\\tsa\\base\\tsa_model.py:531: ValueWarning: No supported index is available. Prediction results will be given with an integer index beginning at `start`.\n",
      "  ValueWarning)\n",
      "D:\\anaconda\\lib\\site-packages\\statsmodels\\tsa\\base\\tsa_model.py:221: ValueWarning: An unsupported index was provided and will be ignored when e.g. forecasting.\n",
      "  ' ignored when e.g. forecasting.', ValueWarning)\n"
     ]
    },
    {
     "name": "stdout",
     "output_type": "stream",
     "text": [
      "1SplitNum0 7920\n"
     ]
    },
    {
     "name": "stderr",
     "output_type": "stream",
     "text": [
      "D:\\anaconda\\lib\\site-packages\\statsmodels\\tsa\\base\\tsa_model.py:531: ValueWarning: No supported index is available. Prediction results will be given with an integer index beginning at `start`.\n",
      "  ValueWarning)\n",
      "D:\\anaconda\\lib\\site-packages\\statsmodels\\tsa\\base\\tsa_model.py:221: ValueWarning: An unsupported index was provided and will be ignored when e.g. forecasting.\n",
      "  ' ignored when e.g. forecasting.', ValueWarning)\n"
     ]
    },
    {
     "name": "stdout",
     "output_type": "stream",
     "text": [
      "1SplitNum0 7968\n"
     ]
    },
    {
     "name": "stderr",
     "output_type": "stream",
     "text": [
      "D:\\anaconda\\lib\\site-packages\\statsmodels\\tsa\\base\\tsa_model.py:531: ValueWarning: No supported index is available. Prediction results will be given with an integer index beginning at `start`.\n",
      "  ValueWarning)\n",
      "D:\\anaconda\\lib\\site-packages\\statsmodels\\tsa\\base\\tsa_model.py:221: ValueWarning: An unsupported index was provided and will be ignored when e.g. forecasting.\n",
      "  ' ignored when e.g. forecasting.', ValueWarning)\n"
     ]
    },
    {
     "name": "stdout",
     "output_type": "stream",
     "text": [
      "1SplitNum0 8016\n"
     ]
    },
    {
     "name": "stderr",
     "output_type": "stream",
     "text": [
      "D:\\anaconda\\lib\\site-packages\\statsmodels\\tsa\\base\\tsa_model.py:531: ValueWarning: No supported index is available. Prediction results will be given with an integer index beginning at `start`.\n",
      "  ValueWarning)\n",
      "D:\\anaconda\\lib\\site-packages\\statsmodels\\tsa\\base\\tsa_model.py:221: ValueWarning: An unsupported index was provided and will be ignored when e.g. forecasting.\n",
      "  ' ignored when e.g. forecasting.', ValueWarning)\n"
     ]
    },
    {
     "name": "stdout",
     "output_type": "stream",
     "text": [
      "1SplitNum0 8064\n"
     ]
    },
    {
     "name": "stderr",
     "output_type": "stream",
     "text": [
      "D:\\anaconda\\lib\\site-packages\\statsmodels\\tsa\\base\\tsa_model.py:531: ValueWarning: No supported index is available. Prediction results will be given with an integer index beginning at `start`.\n",
      "  ValueWarning)\n",
      "D:\\anaconda\\lib\\site-packages\\statsmodels\\tsa\\base\\tsa_model.py:221: ValueWarning: An unsupported index was provided and will be ignored when e.g. forecasting.\n",
      "  ' ignored when e.g. forecasting.', ValueWarning)\n"
     ]
    },
    {
     "name": "stdout",
     "output_type": "stream",
     "text": [
      "1SplitNum0 8112\n"
     ]
    },
    {
     "name": "stderr",
     "output_type": "stream",
     "text": [
      "D:\\anaconda\\lib\\site-packages\\statsmodels\\tsa\\base\\tsa_model.py:531: ValueWarning: No supported index is available. Prediction results will be given with an integer index beginning at `start`.\n",
      "  ValueWarning)\n",
      "D:\\anaconda\\lib\\site-packages\\statsmodels\\tsa\\base\\tsa_model.py:221: ValueWarning: An unsupported index was provided and will be ignored when e.g. forecasting.\n",
      "  ' ignored when e.g. forecasting.', ValueWarning)\n"
     ]
    },
    {
     "name": "stdout",
     "output_type": "stream",
     "text": [
      "1SplitNum0 8160\n"
     ]
    },
    {
     "name": "stderr",
     "output_type": "stream",
     "text": [
      "D:\\anaconda\\lib\\site-packages\\statsmodels\\tsa\\base\\tsa_model.py:531: ValueWarning: No supported index is available. Prediction results will be given with an integer index beginning at `start`.\n",
      "  ValueWarning)\n",
      "D:\\anaconda\\lib\\site-packages\\statsmodels\\tsa\\base\\tsa_model.py:221: ValueWarning: An unsupported index was provided and will be ignored when e.g. forecasting.\n",
      "  ' ignored when e.g. forecasting.', ValueWarning)\n"
     ]
    },
    {
     "name": "stdout",
     "output_type": "stream",
     "text": [
      "1SplitNum0 8208\n"
     ]
    },
    {
     "name": "stderr",
     "output_type": "stream",
     "text": [
      "D:\\anaconda\\lib\\site-packages\\statsmodels\\tsa\\base\\tsa_model.py:531: ValueWarning: No supported index is available. Prediction results will be given with an integer index beginning at `start`.\n",
      "  ValueWarning)\n",
      "D:\\anaconda\\lib\\site-packages\\statsmodels\\tsa\\base\\tsa_model.py:221: ValueWarning: An unsupported index was provided and will be ignored when e.g. forecasting.\n",
      "  ' ignored when e.g. forecasting.', ValueWarning)\n"
     ]
    },
    {
     "name": "stdout",
     "output_type": "stream",
     "text": [
      "1SplitNum0 8256\n"
     ]
    },
    {
     "name": "stderr",
     "output_type": "stream",
     "text": [
      "D:\\anaconda\\lib\\site-packages\\statsmodels\\tsa\\base\\tsa_model.py:531: ValueWarning: No supported index is available. Prediction results will be given with an integer index beginning at `start`.\n",
      "  ValueWarning)\n",
      "D:\\anaconda\\lib\\site-packages\\statsmodels\\tsa\\base\\tsa_model.py:221: ValueWarning: An unsupported index was provided and will be ignored when e.g. forecasting.\n",
      "  ' ignored when e.g. forecasting.', ValueWarning)\n"
     ]
    },
    {
     "name": "stdout",
     "output_type": "stream",
     "text": [
      "1SplitNum0 8304\n"
     ]
    },
    {
     "name": "stderr",
     "output_type": "stream",
     "text": [
      "D:\\anaconda\\lib\\site-packages\\statsmodels\\tsa\\base\\tsa_model.py:531: ValueWarning: No supported index is available. Prediction results will be given with an integer index beginning at `start`.\n",
      "  ValueWarning)\n",
      "D:\\anaconda\\lib\\site-packages\\statsmodels\\tsa\\base\\tsa_model.py:221: ValueWarning: An unsupported index was provided and will be ignored when e.g. forecasting.\n",
      "  ' ignored when e.g. forecasting.', ValueWarning)\n"
     ]
    },
    {
     "name": "stdout",
     "output_type": "stream",
     "text": [
      "1SplitNum0 8352\n"
     ]
    },
    {
     "name": "stderr",
     "output_type": "stream",
     "text": [
      "D:\\anaconda\\lib\\site-packages\\statsmodels\\tsa\\base\\tsa_model.py:531: ValueWarning: No supported index is available. Prediction results will be given with an integer index beginning at `start`.\n",
      "  ValueWarning)\n",
      "D:\\anaconda\\lib\\site-packages\\statsmodels\\tsa\\base\\tsa_model.py:221: ValueWarning: An unsupported index was provided and will be ignored when e.g. forecasting.\n",
      "  ' ignored when e.g. forecasting.', ValueWarning)\n"
     ]
    },
    {
     "name": "stdout",
     "output_type": "stream",
     "text": [
      "1SplitNum0 8400\n"
     ]
    },
    {
     "name": "stderr",
     "output_type": "stream",
     "text": [
      "D:\\anaconda\\lib\\site-packages\\statsmodels\\tsa\\base\\tsa_model.py:531: ValueWarning: No supported index is available. Prediction results will be given with an integer index beginning at `start`.\n",
      "  ValueWarning)\n",
      "D:\\anaconda\\lib\\site-packages\\statsmodels\\tsa\\base\\tsa_model.py:221: ValueWarning: An unsupported index was provided and will be ignored when e.g. forecasting.\n",
      "  ' ignored when e.g. forecasting.', ValueWarning)\n"
     ]
    },
    {
     "name": "stdout",
     "output_type": "stream",
     "text": [
      "1SplitNum0 8448\n"
     ]
    },
    {
     "name": "stderr",
     "output_type": "stream",
     "text": [
      "D:\\anaconda\\lib\\site-packages\\statsmodels\\tsa\\base\\tsa_model.py:531: ValueWarning: No supported index is available. Prediction results will be given with an integer index beginning at `start`.\n",
      "  ValueWarning)\n",
      "D:\\anaconda\\lib\\site-packages\\statsmodels\\tsa\\base\\tsa_model.py:221: ValueWarning: An unsupported index was provided and will be ignored when e.g. forecasting.\n",
      "  ' ignored when e.g. forecasting.', ValueWarning)\n"
     ]
    },
    {
     "name": "stdout",
     "output_type": "stream",
     "text": [
      "1SplitNum0 8496\n"
     ]
    },
    {
     "name": "stderr",
     "output_type": "stream",
     "text": [
      "D:\\anaconda\\lib\\site-packages\\statsmodels\\tsa\\base\\tsa_model.py:531: ValueWarning: No supported index is available. Prediction results will be given with an integer index beginning at `start`.\n",
      "  ValueWarning)\n",
      "D:\\anaconda\\lib\\site-packages\\statsmodels\\tsa\\base\\tsa_model.py:221: ValueWarning: An unsupported index was provided and will be ignored when e.g. forecasting.\n",
      "  ' ignored when e.g. forecasting.', ValueWarning)\n"
     ]
    },
    {
     "name": "stdout",
     "output_type": "stream",
     "text": [
      "1SplitNum0 8544\n"
     ]
    },
    {
     "name": "stderr",
     "output_type": "stream",
     "text": [
      "D:\\anaconda\\lib\\site-packages\\statsmodels\\tsa\\base\\tsa_model.py:531: ValueWarning: No supported index is available. Prediction results will be given with an integer index beginning at `start`.\n",
      "  ValueWarning)\n",
      "D:\\anaconda\\lib\\site-packages\\statsmodels\\tsa\\base\\tsa_model.py:221: ValueWarning: An unsupported index was provided and will be ignored when e.g. forecasting.\n",
      "  ' ignored when e.g. forecasting.', ValueWarning)\n"
     ]
    },
    {
     "name": "stdout",
     "output_type": "stream",
     "text": [
      "1SplitNum0 8592\n"
     ]
    },
    {
     "name": "stderr",
     "output_type": "stream",
     "text": [
      "D:\\anaconda\\lib\\site-packages\\statsmodels\\tsa\\base\\tsa_model.py:531: ValueWarning: No supported index is available. Prediction results will be given with an integer index beginning at `start`.\n",
      "  ValueWarning)\n",
      "D:\\anaconda\\lib\\site-packages\\statsmodels\\tsa\\base\\tsa_model.py:221: ValueWarning: An unsupported index was provided and will be ignored when e.g. forecasting.\n",
      "  ' ignored when e.g. forecasting.', ValueWarning)\n"
     ]
    },
    {
     "name": "stdout",
     "output_type": "stream",
     "text": [
      "1SplitNum0 8640\n"
     ]
    },
    {
     "name": "stderr",
     "output_type": "stream",
     "text": [
      "D:\\anaconda\\lib\\site-packages\\statsmodels\\tsa\\base\\tsa_model.py:531: ValueWarning: No supported index is available. Prediction results will be given with an integer index beginning at `start`.\n",
      "  ValueWarning)\n",
      "D:\\anaconda\\lib\\site-packages\\statsmodels\\tsa\\base\\tsa_model.py:221: ValueWarning: An unsupported index was provided and will be ignored when e.g. forecasting.\n",
      "  ' ignored when e.g. forecasting.', ValueWarning)\n"
     ]
    },
    {
     "name": "stdout",
     "output_type": "stream",
     "text": [
      "1SplitNum0 8688\n"
     ]
    },
    {
     "name": "stderr",
     "output_type": "stream",
     "text": [
      "D:\\anaconda\\lib\\site-packages\\statsmodels\\tsa\\base\\tsa_model.py:531: ValueWarning: No supported index is available. Prediction results will be given with an integer index beginning at `start`.\n",
      "  ValueWarning)\n",
      "D:\\anaconda\\lib\\site-packages\\statsmodels\\tsa\\base\\tsa_model.py:221: ValueWarning: An unsupported index was provided and will be ignored when e.g. forecasting.\n",
      "  ' ignored when e.g. forecasting.', ValueWarning)\n"
     ]
    },
    {
     "name": "stdout",
     "output_type": "stream",
     "text": [
      "1SplitNum0 8736\n"
     ]
    },
    {
     "name": "stderr",
     "output_type": "stream",
     "text": [
      "D:\\anaconda\\lib\\site-packages\\statsmodels\\tsa\\base\\tsa_model.py:531: ValueWarning: No supported index is available. Prediction results will be given with an integer index beginning at `start`.\n",
      "  ValueWarning)\n",
      "D:\\anaconda\\lib\\site-packages\\statsmodels\\tsa\\base\\tsa_model.py:221: ValueWarning: An unsupported index was provided and will be ignored when e.g. forecasting.\n",
      "  ' ignored when e.g. forecasting.', ValueWarning)\n"
     ]
    },
    {
     "name": "stdout",
     "output_type": "stream",
     "text": [
      "1SplitNum0 8784\n"
     ]
    },
    {
     "name": "stderr",
     "output_type": "stream",
     "text": [
      "D:\\anaconda\\lib\\site-packages\\statsmodels\\tsa\\base\\tsa_model.py:531: ValueWarning: No supported index is available. Prediction results will be given with an integer index beginning at `start`.\n",
      "  ValueWarning)\n",
      "D:\\anaconda\\lib\\site-packages\\statsmodels\\tsa\\base\\tsa_model.py:221: ValueWarning: An unsupported index was provided and will be ignored when e.g. forecasting.\n",
      "  ' ignored when e.g. forecasting.', ValueWarning)\n"
     ]
    },
    {
     "name": "stdout",
     "output_type": "stream",
     "text": [
      "1SplitNum0 8832\n"
     ]
    },
    {
     "name": "stderr",
     "output_type": "stream",
     "text": [
      "D:\\anaconda\\lib\\site-packages\\statsmodels\\tsa\\base\\tsa_model.py:531: ValueWarning: No supported index is available. Prediction results will be given with an integer index beginning at `start`.\n",
      "  ValueWarning)\n",
      "D:\\anaconda\\lib\\site-packages\\statsmodels\\tsa\\base\\tsa_model.py:221: ValueWarning: An unsupported index was provided and will be ignored when e.g. forecasting.\n",
      "  ' ignored when e.g. forecasting.', ValueWarning)\n"
     ]
    },
    {
     "name": "stdout",
     "output_type": "stream",
     "text": [
      "1SplitNum0 8880\n"
     ]
    },
    {
     "name": "stderr",
     "output_type": "stream",
     "text": [
      "D:\\anaconda\\lib\\site-packages\\statsmodels\\tsa\\base\\tsa_model.py:531: ValueWarning: No supported index is available. Prediction results will be given with an integer index beginning at `start`.\n",
      "  ValueWarning)\n",
      "D:\\anaconda\\lib\\site-packages\\statsmodels\\tsa\\base\\tsa_model.py:221: ValueWarning: An unsupported index was provided and will be ignored when e.g. forecasting.\n",
      "  ' ignored when e.g. forecasting.', ValueWarning)\n"
     ]
    },
    {
     "name": "stdout",
     "output_type": "stream",
     "text": [
      "1SplitNum0 8928\n"
     ]
    },
    {
     "name": "stderr",
     "output_type": "stream",
     "text": [
      "D:\\anaconda\\lib\\site-packages\\statsmodels\\tsa\\base\\tsa_model.py:531: ValueWarning: No supported index is available. Prediction results will be given with an integer index beginning at `start`.\n",
      "  ValueWarning)\n",
      "D:\\anaconda\\lib\\site-packages\\statsmodels\\tsa\\base\\tsa_model.py:221: ValueWarning: An unsupported index was provided and will be ignored when e.g. forecasting.\n",
      "  ' ignored when e.g. forecasting.', ValueWarning)\n"
     ]
    },
    {
     "name": "stdout",
     "output_type": "stream",
     "text": [
      "1SplitNum0 8976\n"
     ]
    },
    {
     "name": "stderr",
     "output_type": "stream",
     "text": [
      "D:\\anaconda\\lib\\site-packages\\statsmodels\\tsa\\base\\tsa_model.py:531: ValueWarning: No supported index is available. Prediction results will be given with an integer index beginning at `start`.\n",
      "  ValueWarning)\n",
      "D:\\anaconda\\lib\\site-packages\\statsmodels\\tsa\\base\\tsa_model.py:221: ValueWarning: An unsupported index was provided and will be ignored when e.g. forecasting.\n",
      "  ' ignored when e.g. forecasting.', ValueWarning)\n"
     ]
    },
    {
     "name": "stdout",
     "output_type": "stream",
     "text": [
      "1SplitNum0 9024\n"
     ]
    },
    {
     "name": "stderr",
     "output_type": "stream",
     "text": [
      "D:\\anaconda\\lib\\site-packages\\statsmodels\\tsa\\base\\tsa_model.py:531: ValueWarning: No supported index is available. Prediction results will be given with an integer index beginning at `start`.\n",
      "  ValueWarning)\n",
      "D:\\anaconda\\lib\\site-packages\\statsmodels\\tsa\\base\\tsa_model.py:221: ValueWarning: An unsupported index was provided and will be ignored when e.g. forecasting.\n",
      "  ' ignored when e.g. forecasting.', ValueWarning)\n"
     ]
    },
    {
     "name": "stdout",
     "output_type": "stream",
     "text": [
      "1SplitNum0 9072\n"
     ]
    },
    {
     "name": "stderr",
     "output_type": "stream",
     "text": [
      "D:\\anaconda\\lib\\site-packages\\statsmodels\\tsa\\base\\tsa_model.py:531: ValueWarning: No supported index is available. Prediction results will be given with an integer index beginning at `start`.\n",
      "  ValueWarning)\n",
      "D:\\anaconda\\lib\\site-packages\\statsmodels\\tsa\\base\\tsa_model.py:221: ValueWarning: An unsupported index was provided and will be ignored when e.g. forecasting.\n",
      "  ' ignored when e.g. forecasting.', ValueWarning)\n"
     ]
    },
    {
     "name": "stdout",
     "output_type": "stream",
     "text": [
      "1SplitNum0 9120\n"
     ]
    },
    {
     "name": "stderr",
     "output_type": "stream",
     "text": [
      "D:\\anaconda\\lib\\site-packages\\statsmodels\\tsa\\base\\tsa_model.py:531: ValueWarning: No supported index is available. Prediction results will be given with an integer index beginning at `start`.\n",
      "  ValueWarning)\n",
      "D:\\anaconda\\lib\\site-packages\\statsmodels\\tsa\\base\\tsa_model.py:221: ValueWarning: An unsupported index was provided and will be ignored when e.g. forecasting.\n",
      "  ' ignored when e.g. forecasting.', ValueWarning)\n"
     ]
    },
    {
     "name": "stdout",
     "output_type": "stream",
     "text": [
      "1SplitNum0 9168\n"
     ]
    },
    {
     "name": "stderr",
     "output_type": "stream",
     "text": [
      "D:\\anaconda\\lib\\site-packages\\statsmodels\\tsa\\base\\tsa_model.py:531: ValueWarning: No supported index is available. Prediction results will be given with an integer index beginning at `start`.\n",
      "  ValueWarning)\n",
      "D:\\anaconda\\lib\\site-packages\\statsmodels\\tsa\\base\\tsa_model.py:221: ValueWarning: An unsupported index was provided and will be ignored when e.g. forecasting.\n",
      "  ' ignored when e.g. forecasting.', ValueWarning)\n"
     ]
    },
    {
     "name": "stdout",
     "output_type": "stream",
     "text": [
      "1SplitNum0 9216\n"
     ]
    },
    {
     "name": "stderr",
     "output_type": "stream",
     "text": [
      "D:\\anaconda\\lib\\site-packages\\statsmodels\\tsa\\base\\tsa_model.py:531: ValueWarning: No supported index is available. Prediction results will be given with an integer index beginning at `start`.\n",
      "  ValueWarning)\n",
      "D:\\anaconda\\lib\\site-packages\\statsmodels\\tsa\\base\\tsa_model.py:221: ValueWarning: An unsupported index was provided and will be ignored when e.g. forecasting.\n",
      "  ' ignored when e.g. forecasting.', ValueWarning)\n"
     ]
    },
    {
     "name": "stdout",
     "output_type": "stream",
     "text": [
      "1SplitNum0 9264\n"
     ]
    },
    {
     "name": "stderr",
     "output_type": "stream",
     "text": [
      "D:\\anaconda\\lib\\site-packages\\statsmodels\\tsa\\base\\tsa_model.py:531: ValueWarning: No supported index is available. Prediction results will be given with an integer index beginning at `start`.\n",
      "  ValueWarning)\n",
      "D:\\anaconda\\lib\\site-packages\\statsmodels\\tsa\\base\\tsa_model.py:221: ValueWarning: An unsupported index was provided and will be ignored when e.g. forecasting.\n",
      "  ' ignored when e.g. forecasting.', ValueWarning)\n"
     ]
    },
    {
     "name": "stdout",
     "output_type": "stream",
     "text": [
      "1SplitNum0 9312\n"
     ]
    },
    {
     "name": "stderr",
     "output_type": "stream",
     "text": [
      "D:\\anaconda\\lib\\site-packages\\statsmodels\\tsa\\base\\tsa_model.py:531: ValueWarning: No supported index is available. Prediction results will be given with an integer index beginning at `start`.\n",
      "  ValueWarning)\n",
      "D:\\anaconda\\lib\\site-packages\\statsmodels\\tsa\\base\\tsa_model.py:221: ValueWarning: An unsupported index was provided and will be ignored when e.g. forecasting.\n",
      "  ' ignored when e.g. forecasting.', ValueWarning)\n"
     ]
    },
    {
     "name": "stdout",
     "output_type": "stream",
     "text": [
      "1SplitNum0 9360\n"
     ]
    },
    {
     "name": "stderr",
     "output_type": "stream",
     "text": [
      "D:\\anaconda\\lib\\site-packages\\statsmodels\\tsa\\base\\tsa_model.py:531: ValueWarning: No supported index is available. Prediction results will be given with an integer index beginning at `start`.\n",
      "  ValueWarning)\n",
      "D:\\anaconda\\lib\\site-packages\\statsmodels\\tsa\\base\\tsa_model.py:221: ValueWarning: An unsupported index was provided and will be ignored when e.g. forecasting.\n",
      "  ' ignored when e.g. forecasting.', ValueWarning)\n"
     ]
    },
    {
     "name": "stdout",
     "output_type": "stream",
     "text": [
      "1SplitNum0 9408\n"
     ]
    },
    {
     "name": "stderr",
     "output_type": "stream",
     "text": [
      "D:\\anaconda\\lib\\site-packages\\statsmodels\\tsa\\base\\tsa_model.py:531: ValueWarning: No supported index is available. Prediction results will be given with an integer index beginning at `start`.\n",
      "  ValueWarning)\n",
      "D:\\anaconda\\lib\\site-packages\\statsmodels\\tsa\\base\\tsa_model.py:221: ValueWarning: An unsupported index was provided and will be ignored when e.g. forecasting.\n",
      "  ' ignored when e.g. forecasting.', ValueWarning)\n"
     ]
    },
    {
     "name": "stdout",
     "output_type": "stream",
     "text": [
      "1SplitNum0 9456\n"
     ]
    },
    {
     "name": "stderr",
     "output_type": "stream",
     "text": [
      "D:\\anaconda\\lib\\site-packages\\statsmodels\\tsa\\base\\tsa_model.py:531: ValueWarning: No supported index is available. Prediction results will be given with an integer index beginning at `start`.\n",
      "  ValueWarning)\n",
      "D:\\anaconda\\lib\\site-packages\\statsmodels\\tsa\\base\\tsa_model.py:221: ValueWarning: An unsupported index was provided and will be ignored when e.g. forecasting.\n",
      "  ' ignored when e.g. forecasting.', ValueWarning)\n"
     ]
    },
    {
     "name": "stdout",
     "output_type": "stream",
     "text": [
      "1SplitNum0 9504\n"
     ]
    },
    {
     "name": "stderr",
     "output_type": "stream",
     "text": [
      "D:\\anaconda\\lib\\site-packages\\statsmodels\\tsa\\base\\tsa_model.py:531: ValueWarning: No supported index is available. Prediction results will be given with an integer index beginning at `start`.\n",
      "  ValueWarning)\n",
      "D:\\anaconda\\lib\\site-packages\\statsmodels\\tsa\\base\\tsa_model.py:221: ValueWarning: An unsupported index was provided and will be ignored when e.g. forecasting.\n",
      "  ' ignored when e.g. forecasting.', ValueWarning)\n"
     ]
    },
    {
     "name": "stdout",
     "output_type": "stream",
     "text": [
      "1SplitNum0 9552\n"
     ]
    },
    {
     "name": "stderr",
     "output_type": "stream",
     "text": [
      "D:\\anaconda\\lib\\site-packages\\statsmodels\\tsa\\base\\tsa_model.py:531: ValueWarning: No supported index is available. Prediction results will be given with an integer index beginning at `start`.\n",
      "  ValueWarning)\n",
      "D:\\anaconda\\lib\\site-packages\\statsmodels\\tsa\\base\\tsa_model.py:221: ValueWarning: An unsupported index was provided and will be ignored when e.g. forecasting.\n",
      "  ' ignored when e.g. forecasting.', ValueWarning)\n"
     ]
    },
    {
     "name": "stdout",
     "output_type": "stream",
     "text": [
      "1SplitNum0 9600\n"
     ]
    },
    {
     "name": "stderr",
     "output_type": "stream",
     "text": [
      "D:\\anaconda\\lib\\site-packages\\statsmodels\\tsa\\base\\tsa_model.py:531: ValueWarning: No supported index is available. Prediction results will be given with an integer index beginning at `start`.\n",
      "  ValueWarning)\n",
      "D:\\anaconda\\lib\\site-packages\\statsmodels\\tsa\\base\\tsa_model.py:221: ValueWarning: An unsupported index was provided and will be ignored when e.g. forecasting.\n",
      "  ' ignored when e.g. forecasting.', ValueWarning)\n"
     ]
    },
    {
     "name": "stdout",
     "output_type": "stream",
     "text": [
      "1SplitNum0 9648\n"
     ]
    },
    {
     "name": "stderr",
     "output_type": "stream",
     "text": [
      "D:\\anaconda\\lib\\site-packages\\statsmodels\\tsa\\base\\tsa_model.py:531: ValueWarning: No supported index is available. Prediction results will be given with an integer index beginning at `start`.\n",
      "  ValueWarning)\n",
      "D:\\anaconda\\lib\\site-packages\\statsmodels\\tsa\\base\\tsa_model.py:221: ValueWarning: An unsupported index was provided and will be ignored when e.g. forecasting.\n",
      "  ' ignored when e.g. forecasting.', ValueWarning)\n"
     ]
    },
    {
     "name": "stdout",
     "output_type": "stream",
     "text": [
      "1SplitNum0 9696\n"
     ]
    },
    {
     "name": "stderr",
     "output_type": "stream",
     "text": [
      "D:\\anaconda\\lib\\site-packages\\statsmodels\\tsa\\base\\tsa_model.py:531: ValueWarning: No supported index is available. Prediction results will be given with an integer index beginning at `start`.\n",
      "  ValueWarning)\n",
      "D:\\anaconda\\lib\\site-packages\\statsmodels\\tsa\\base\\tsa_model.py:221: ValueWarning: An unsupported index was provided and will be ignored when e.g. forecasting.\n",
      "  ' ignored when e.g. forecasting.', ValueWarning)\n"
     ]
    },
    {
     "name": "stdout",
     "output_type": "stream",
     "text": [
      "1SplitNum0 9744\n"
     ]
    },
    {
     "name": "stderr",
     "output_type": "stream",
     "text": [
      "D:\\anaconda\\lib\\site-packages\\statsmodels\\tsa\\base\\tsa_model.py:531: ValueWarning: No supported index is available. Prediction results will be given with an integer index beginning at `start`.\n",
      "  ValueWarning)\n",
      "D:\\anaconda\\lib\\site-packages\\statsmodels\\tsa\\base\\tsa_model.py:221: ValueWarning: An unsupported index was provided and will be ignored when e.g. forecasting.\n",
      "  ' ignored when e.g. forecasting.', ValueWarning)\n"
     ]
    },
    {
     "name": "stdout",
     "output_type": "stream",
     "text": [
      "1SplitNum0 9792\n"
     ]
    },
    {
     "name": "stderr",
     "output_type": "stream",
     "text": [
      "D:\\anaconda\\lib\\site-packages\\statsmodels\\tsa\\base\\tsa_model.py:531: ValueWarning: No supported index is available. Prediction results will be given with an integer index beginning at `start`.\n",
      "  ValueWarning)\n",
      "D:\\anaconda\\lib\\site-packages\\statsmodels\\tsa\\base\\tsa_model.py:221: ValueWarning: An unsupported index was provided and will be ignored when e.g. forecasting.\n",
      "  ' ignored when e.g. forecasting.', ValueWarning)\n"
     ]
    },
    {
     "name": "stdout",
     "output_type": "stream",
     "text": [
      "1SplitNum0 9840\n"
     ]
    },
    {
     "name": "stderr",
     "output_type": "stream",
     "text": [
      "D:\\anaconda\\lib\\site-packages\\statsmodels\\tsa\\base\\tsa_model.py:531: ValueWarning: No supported index is available. Prediction results will be given with an integer index beginning at `start`.\n",
      "  ValueWarning)\n",
      "D:\\anaconda\\lib\\site-packages\\statsmodels\\tsa\\base\\tsa_model.py:221: ValueWarning: An unsupported index was provided and will be ignored when e.g. forecasting.\n",
      "  ' ignored when e.g. forecasting.', ValueWarning)\n"
     ]
    },
    {
     "name": "stdout",
     "output_type": "stream",
     "text": [
      "1SplitNum0 9888\n"
     ]
    },
    {
     "name": "stderr",
     "output_type": "stream",
     "text": [
      "D:\\anaconda\\lib\\site-packages\\statsmodels\\tsa\\base\\tsa_model.py:531: ValueWarning: No supported index is available. Prediction results will be given with an integer index beginning at `start`.\n",
      "  ValueWarning)\n",
      "D:\\anaconda\\lib\\site-packages\\statsmodels\\tsa\\base\\tsa_model.py:221: ValueWarning: An unsupported index was provided and will be ignored when e.g. forecasting.\n",
      "  ' ignored when e.g. forecasting.', ValueWarning)\n"
     ]
    },
    {
     "name": "stdout",
     "output_type": "stream",
     "text": [
      "1SplitNum0 9936\n"
     ]
    },
    {
     "name": "stderr",
     "output_type": "stream",
     "text": [
      "D:\\anaconda\\lib\\site-packages\\statsmodels\\tsa\\base\\tsa_model.py:531: ValueWarning: No supported index is available. Prediction results will be given with an integer index beginning at `start`.\n",
      "  ValueWarning)\n",
      "D:\\anaconda\\lib\\site-packages\\statsmodels\\tsa\\base\\tsa_model.py:221: ValueWarning: An unsupported index was provided and will be ignored when e.g. forecasting.\n",
      "  ' ignored when e.g. forecasting.', ValueWarning)\n"
     ]
    },
    {
     "name": "stdout",
     "output_type": "stream",
     "text": [
      "1SplitNum0 9984\n"
     ]
    },
    {
     "name": "stderr",
     "output_type": "stream",
     "text": [
      "D:\\anaconda\\lib\\site-packages\\statsmodels\\tsa\\base\\tsa_model.py:531: ValueWarning: No supported index is available. Prediction results will be given with an integer index beginning at `start`.\n",
      "  ValueWarning)\n",
      "D:\\anaconda\\lib\\site-packages\\statsmodels\\tsa\\base\\tsa_model.py:221: ValueWarning: An unsupported index was provided and will be ignored when e.g. forecasting.\n",
      "  ' ignored when e.g. forecasting.', ValueWarning)\n"
     ]
    },
    {
     "name": "stdout",
     "output_type": "stream",
     "text": [
      "1SplitNum0 10032\n",
      "TrainT,TestT 33130.291646800004 0.3424494000004791\n"
     ]
    },
    {
     "name": "stderr",
     "output_type": "stream",
     "text": [
      "D:\\anaconda\\lib\\site-packages\\statsmodels\\tsa\\base\\tsa_model.py:531: ValueWarning: No supported index is available. Prediction results will be given with an integer index beginning at `start`.\n",
      "  ValueWarning)\n"
     ]
    }
   ],
   "source": [
    "UPS=1###表示多久更新一次\n",
    "n_input =4\n",
    "n_out = 4#96\n",
    "step=1#向前移动步数\n",
    "abc=30\n",
    "TrainT=0\n",
    "TestT=0\n",
    "ForecastSet31=[]\n",
    "TestSet31=[]\n",
    "\n",
    "Datetest_y31=[]\n",
    "abc=30\n",
    "MiLth=int(24*60/abc)\n",
    "##数据拆分\n",
    "##数据拆分\n",
    "SplitNum=int((d1_sale.shape[0]/int(24*60/abc))*0.7)*int(24*60/abc)-48*2##天数的百分之0.7,再乘以48,测试集的初始值\n",
    "print('SplitNum',SplitNum)\n",
    "SplitNum0=SplitNum#-n_input\n",
    "########################原始序列SplitNum处，对应y的SplitNum0########################\n",
    "\n",
    "for SplitNum0 in range(SplitNum0,d1_sale.shape[0],MiLth):     ###96表示1天更新一次  \n",
    "    print('1SplitNum0',SplitNum0)\n",
    "    T0=0\n",
    "    #train_x, test_x = Xx[SplitNum0-10*XLT:SplitNum0], Xx[SplitNum0:SplitNum0+XLT]\n",
    "    #train_y, test_y = Yy[SplitNum0-10*XLT:SplitNum0], Yy[SplitNum0:SplitNum0+XLT]\n",
    "    #Date1test_x,Date1test_y = Date1Xx[SplitNum0:SplitNum0+XLT], Date1Yy[SplitNum0:SplitNum0+XLT]#Date1Xx, Date1Yy\n",
    "    \n",
    "    sale_train = d1_sale.iloc[(SplitNum0-10*MiLth):SplitNum0,1]###去掉差分集合中的0\n",
    "    #display(sale_train.head(3))\n",
    "    test_y  = list(d1_sale.iloc[SplitNum0:(SplitNum0+MiLth),1])\n",
    "    Date1test_y0=list(d1_sale.iloc[SplitNum0:(SplitNum0+MiLth),0])\n",
    "    ets3 = ExponentialSmoothing(sale_train, trend='add', seasonal='add', seasonal_periods=48)\n",
    "    r3 = ets3.fit()\n",
    "    \n",
    "    TrainT+=time.clock()-T0\n",
    "    #print('test_y',test_y)\n",
    "    #print('Date1test_y0',Date1test_y0)\n",
    "    T1=time.clock()\n",
    "    y_predict = list(r3.predict(start=sale_train.shape[0], end=sale_train.shape[0] + len(test_y)-1))\n",
    "    #y_predict = list(r3.predict(start=sale_train.shape[0]+1, end=sale_train.shape[0] + len(test_y)))\n",
    "    #print('len(y_predict)',len(y_predict))\n",
    "    #print('len(test_y)',len(test_y))\n",
    "    for j in range(len(y_predict)):\n",
    "        ForecastSet31.append(y_predict[j])#*(MaxValue-MinValue)+MinValue)\n",
    "        TestSet31.append(test_y[j])#*(MaxValue-MinValue)+MinValue)\n",
    "        Datetest_y31.append(Date1test_y0[j])\n",
    "    #print('Datetest_y',Datetest_y)\n",
    "    #for l in range(len(Date1test_x)):\n",
    "        #Datetest_x.append(Date1test_x[l])\n",
    "    TestT+=time.clock()-T1    \n",
    "print('TrainT,TestT',TrainT,TestT)\n",
    "#print('TestSet3, ForecastSet3',TestSet3, ForecastSet3)\n",
    "#AllRMSE,scores,AllMSE,AllMAE,AllMAPE,AllNum=evaluate_forecasts1(np.array(TestSet3), np.array(ForecastSet3))"
   ]
  },
  {
   "cell_type": "markdown",
   "metadata": {},
   "source": [
    "# Forecasting Test"
   ]
  },
  {
   "cell_type": "markdown",
   "metadata": {},
   "source": [
    "## Define Function"
   ]
  },
  {
   "cell_type": "code",
   "execution_count": 7,
   "metadata": {},
   "outputs": [],
   "source": [
    "def evaluate_forecasts1(actual, predicted):\n",
    "    scores = list() \n",
    "    for i in range(actual.shape[1]):\n",
    "        mse = mean_squared_error(actual[:, i], predicted[:, i])#计算MSE\n",
    "        rmse = sqrt(mse)#计算RMSE\n",
    "        scores.append(rmse)#计算每个预测值的RMSE,存放在列表#这个现在来看没有多大意义，因为不是同一个时刻,表示向前1步、2步、几步的预测效果\n",
    "    s = 0\n",
    "    sMAE = 0\n",
    "    sMAPE = 0\n",
    "    RMSE1=list()\n",
    "    for row in range(actual.shape[0]):\n",
    "        ss=0\n",
    "        for col in range(actual.shape[1]):\n",
    "            s += (actual[row, col] - predicted[row, col]) ** 2\n",
    "            ss+= (actual[row, col] - predicted[row, col]) ** 2\n",
    "            sMAE+= np.abs(actual[row, col] - predicted[row, col])\n",
    "            sMAPE+= np.abs((actual[row, col] - predicted[row, col])/actual[row, col])\n",
    "        RMSE1.append(sqrt(ss/actual.shape[1]))##每一组的RMSE\n",
    "    #print('RMSE1',RMSE1)\n",
    "    AllNum=actual.shape[0] * actual.shape[1]\n",
    "    AllRMSE = sqrt(s / AllNum)#计算所有值的RMSE\n",
    "    AllMSE = s / AllNum#计算所有值的RMSE\n",
    "    AllMAE =sMAE/AllNum\n",
    "    AllMAPE =sMAPE/AllNum  \n",
    "    name='[Num]/RMSE/MSE/MAE/MAPE'\n",
    "    SingPredictscores = list() \n",
    "    SingPredictscores.append(AllRMSE)\n",
    "    SingPredictscores.append(AllMSE)\n",
    "    SingPredictscores.append(AllMAE)\n",
    "    SingPredictscores.append(AllMAPE)\n",
    "    SingPredictscores = ', '.join(['%.1f' % s for s in SingPredictscores])\n",
    "    print('AllNum,AllRMSE,AllMSE,AllMAPE,AllMAE',AllNum,AllRMSE,AllMSE,AllMAPE,AllMAE)\n",
    "    #print('%s: [%d] %s' % (name,AllNum,SingPredictscores))\n",
    "    return AllRMSE,scores,AllMSE,AllMAE,AllMAPE,AllNum\n",
    "\n",
    "###04 测试部分，预测结果的传统评价\n",
    "def  ValueTestArima(test_y,predictionspredList):\n",
    "    ###得到测试y值的原始值\n",
    "    test_y1=test_y.copy()## 对原始的array1的复制\n",
    "    for i in range(test_y1.shape[0]):\n",
    "        test_y1[i, :]=test_y1[i, :]#*(dfghu.iloc[dfghu.shape[0]-1,2]-dfghu.iloc[0,2])+dfghu.iloc[0,2]\n",
    "        #*(MaxValue-MinValue)+MinValue#不用求exp啦\n",
    "    PredictScresSet=list()\n",
    "    for preddd in predictionspredList:\n",
    "        for predictionspredI in preddd:\n",
    "            PredictScresSet.append([])\n",
    "            #score, scores = evaluate_forecasts1(test_y1[:, :], predictionspredI)\n",
    "            AllRMSE,scores,AllMSE,AllMAE,AllMAPE,AllNum=evaluate_forecasts1(test_y1[:, :], predictionspredI)\n",
    "            PredictScresSet[-1].append(AllRMSE)\n",
    "            PredictScresSet[-1].append(AllMSE)\n",
    "            PredictScresSet[-1].append(AllMAE)\n",
    "            PredictScresSet[-1].append(AllMAPE)\n",
    "            PredictScresSet[-1].append(AllNum)\n",
    "            #print('所有值的RMSE',score)\n",
    "            #summarize_scores('lstm', AllRMSE, scores)#总结分数\n",
    "            days = range(n_out) \n",
    "    return PredictScresSet\n",
    "#分成输入一天，输出一天\n",
    "def to_supervised2(data,  n_out):#数据裂变划分\n",
    "    #将所有数据转换为输入(X[..,len(x_input),1])、y[..,len(data[in_end:out_end, 0])]\n",
    "    X = list()\n",
    "    in_start = 0\n",
    "    for _ in range(len(data)):# 逐步遍历整个历史数据\n",
    "        in_end = in_start + n_out## 定义输入序列的结束点\n",
    "        if in_end < (len(data)+1):# 确保有足够的数据\n",
    "            x_input = data[in_start:in_end, 0]\n",
    "            #x_input = x_input.reshape((len(x_input), 1))\n",
    "            X.append(x_input)\n",
    "        #in_start += step    # 依次推进时间\n",
    "        in_start += 1    # 依次推进时间\n",
    "    return array(X)\n",
    "\n",
    "###00前期数据准备\n",
    "def DataPreprogress(label1):\n",
    "    #label1 = df.value[:].values #- init1#没必要取对数吧\n",
    "    label1=np.array(label1).reshape(len(label1),1)#1维变2维\n",
    "    Xx = to_supervised2(label1, n_out)#准备数据#00\n",
    "    return Xx"
   ]
  },
  {
   "cell_type": "markdown",
   "metadata": {},
   "source": [
    "## Determine the forecasted value"
   ]
  },
  {
   "cell_type": "code",
   "execution_count": 8,
   "metadata": {},
   "outputs": [
    {
     "name": "stdout",
     "output_type": "stream",
     "text": [
      "SplitNum 6960\n"
     ]
    }
   ],
   "source": [
    "SplitNum=int((d1_sale.shape[0]/int(24*60/abc))*0.7)*int(24*60/abc)-48*2##天数的百分之0.7,再乘以48,测试集的初始值\n",
    "print('SplitNum',SplitNum)\n",
    "SplitNum0=SplitNum#-n_input\n",
    "Datetest_x=d1_sale.iloc[(SplitNum0-3):(d1_sale.shape[0]-3),0]\n",
    "Datetest_x=DataPreprogress(Datetest_x)\n",
    "ForecastSet3=DataPreprogress(ForecastSet31)\n",
    "TestSet3=DataPreprogress(TestSet31)\n",
    "Datetest_y=DataPreprogress(Datetest_y31)\n",
    "yhat_sequence1=TestSet3\n",
    "NewForecastSet11=ForecastSet3#每天更新参数\n",
    "#NewForecastSet11=y_predict[:len(yhat_sequence1)]#不更新参数\n",
    "#print('00NewForecastSet11',NewForecastSet11)#测试值\n",
    "###预测值格式化\n",
    "predictionspredList=[]#得到多个分位数预测模型、不同重复次数下的预测值集合（predictionspredList）\n",
    "predictionspredList.append([])\n",
    "predictionspredList[-1].append([])\n",
    "for ij in range(len(NewForecastSet11)):\n",
    "    for h in range(len(NewForecastSet11[ij])):\n",
    "        NewForecastSet11[ij][h]=NewForecastSet11[ij][h]#*(dfghu.iloc[dfghu.shape[0]-1,2]-dfghu.iloc[0,2])+dfghu.iloc[0,2]\n",
    "        #*(MaxValue-MinValue)+MinValue\n",
    "    #print('原值',NewForecastSet1[ij]*(MaxValue-MinValue)+MinValue)\n",
    "    predictionspredList[-1][-1].append(NewForecastSet11[ij])               \n",
    "predictionspredList[-1][-1] = array(predictionspredList[-1][-1])#list转换为数组\n"
   ]
  },
  {
   "cell_type": "markdown",
   "metadata": {},
   "source": [
    "##   Evaluation Metrics"
   ]
  },
  {
   "cell_type": "code",
   "execution_count": 9,
   "metadata": {},
   "outputs": [
    {
     "name": "stdout",
     "output_type": "stream",
     "text": [
      "AllNum,AllRMSE,AllMSE,AllMAPE,AllMAE 12468 298.16987247536485 88905.27285197534 inf 220.30101810911265\n"
     ]
    },
    {
     "name": "stderr",
     "output_type": "stream",
     "text": [
      "D:\\anaconda\\lib\\site-packages\\ipykernel_launcher.py:17: RuntimeWarning: divide by zero encountered in double_scalars\n"
     ]
    },
    {
     "data": {
      "text/html": [
       "<div>\n",
       "<style scoped>\n",
       "    .dataframe tbody tr th:only-of-type {\n",
       "        vertical-align: middle;\n",
       "    }\n",
       "\n",
       "    .dataframe tbody tr th {\n",
       "        vertical-align: top;\n",
       "    }\n",
       "\n",
       "    .dataframe thead th {\n",
       "        text-align: right;\n",
       "    }\n",
       "</style>\n",
       "<table border=\"1\" class=\"dataframe\">\n",
       "  <thead>\n",
       "    <tr style=\"text-align: right;\">\n",
       "      <th></th>\n",
       "      <th>Name</th>\n",
       "      <th>RMSE</th>\n",
       "      <th>MAE</th>\n",
       "    </tr>\n",
       "  </thead>\n",
       "  <tbody>\n",
       "    <tr>\n",
       "      <th>0</th>\n",
       "      <td>Arima Model</td>\n",
       "      <td>298.17</td>\n",
       "      <td>220.3</td>\n",
       "    </tr>\n",
       "  </tbody>\n",
       "</table>\n",
       "</div>"
      ],
      "text/plain": [
       "          Name    RMSE    MAE\n",
       "0  Arima Model  298.17  220.3"
      ]
     },
     "metadata": {},
     "output_type": "display_data"
    }
   ],
   "source": [
    "###04 测试部分，预测结果的传统评价\n",
    "ArimaPredictScresSet0=ValueTestArima(np.array(yhat_sequence1),np.array(predictionspredList))\n",
    "################准确度评价指标################（这是仅仅基于一个个的预测值的）\n",
    "#print('ArimaPredictScresSet0',ArimaPredictScresSet0)\n",
    "ForecastResult = pd.DataFrame(columns = ['Name','RMSE','MAE']) \n",
    "ForecastResult0 = pd.DataFrame(columns = ['Name','RMSE','MAE'])\n",
    "ForecastResult0.loc[0,'Name']='Arima Model'\n",
    "ForecastResult0.loc[0,'RMSE']=round(ArimaPredictScresSet0[0][0],2)\n",
    "ForecastResult0.loc[0,'MAE']=round(ArimaPredictScresSet0[0][2],2)\n",
    "#ForecastResult0.loc[0,'MAPE']=round(ArimaPredictScresSet0[0][3],2)\n",
    "ForecastResult=ForecastResult0\n",
    "display(ForecastResult.tail(8))\n",
    "################覆盖率################\n",
    "def trimData(test_y1,predictionspred):### 定义分位数损失函数\n",
    "    test_y=[]\n",
    "    predictions=[]\n",
    "    SumSW=0\n",
    "    for i in range(len(test_y1)):\n",
    "        sumtest=0\n",
    "        sumpred=0\n",
    "        for j in range(len(test_y1[i])):\n",
    "            sumtest+=test_y1[i][j]            \n",
    "            sumpred+=predictionspred[i][j]\n",
    "        test_y.append(sumtest)\n",
    "        predictions.append(sumpred)\n",
    "    return np.array(test_y),np.array(predictions)\n",
    "test_y1=np.array(yhat_sequence1).copy()## 对原始的array1的复制\n",
    "for i in range(test_y1.shape[0]):\n",
    "    test_y1[i, :]=test_y1[i, :]#*(MaxValue-MinValue)+MinValue#不用求exp啦\n"
   ]
  },
  {
   "cell_type": "markdown",
   "metadata": {},
   "source": [
    "#  Determine total cost  and service level"
   ]
  },
  {
   "cell_type": "code",
   "execution_count": 10,
   "metadata": {},
   "outputs": [
    {
     "data": {
      "text/html": [
       "<div>\n",
       "<style scoped>\n",
       "    .dataframe tbody tr th:only-of-type {\n",
       "        vertical-align: middle;\n",
       "    }\n",
       "\n",
       "    .dataframe tbody tr th {\n",
       "        vertical-align: top;\n",
       "    }\n",
       "\n",
       "    .dataframe thead th {\n",
       "        text-align: right;\n",
       "    }\n",
       "</style>\n",
       "<table border=\"1\" class=\"dataframe\">\n",
       "  <thead>\n",
       "    <tr style=\"text-align: right;\">\n",
       "      <th></th>\n",
       "      <th>timestamp</th>\n",
       "      <th>value</th>\n",
       "      <th>Date</th>\n",
       "      <th>Hour</th>\n",
       "      <th>Minute</th>\n",
       "      <th>OurLeaveStock</th>\n",
       "      <th>OurBuHuoStart</th>\n",
       "    </tr>\n",
       "    <tr>\n",
       "      <th>timestamp</th>\n",
       "      <th></th>\n",
       "      <th></th>\n",
       "      <th></th>\n",
       "      <th></th>\n",
       "      <th></th>\n",
       "      <th></th>\n",
       "      <th></th>\n",
       "    </tr>\n",
       "  </thead>\n",
       "  <tbody>\n",
       "    <tr>\n",
       "      <th>2020-12-31 23:30:00</th>\n",
       "      <td>2020-12-31 23:30:00</td>\n",
       "      <td>288.83</td>\n",
       "      <td>2020-12-31</td>\n",
       "      <td>23</td>\n",
       "      <td>30</td>\n",
       "      <td>60000</td>\n",
       "      <td>0</td>\n",
       "    </tr>\n",
       "    <tr>\n",
       "      <th>2020-12-31 23:59:00</th>\n",
       "      <td>2020-12-31 23:59:00</td>\n",
       "      <td>76.19</td>\n",
       "      <td>2020-12-31</td>\n",
       "      <td>23</td>\n",
       "      <td>59</td>\n",
       "      <td>60000</td>\n",
       "      <td>0</td>\n",
       "    </tr>\n",
       "  </tbody>\n",
       "</table>\n",
       "</div>"
      ],
      "text/plain": [
       "                              timestamp   value        Date  Hour  Minute  \\\n",
       "timestamp                                                                   \n",
       "2020-12-31 23:30:00 2020-12-31 23:30:00  288.83  2020-12-31    23      30   \n",
       "2020-12-31 23:59:00 2020-12-31 23:59:00   76.19  2020-12-31    23      59   \n",
       "\n",
       "                     OurLeaveStock  OurBuHuoStart  \n",
       "timestamp                                          \n",
       "2020-12-31 23:30:00          60000              0  \n",
       "2020-12-31 23:59:00          60000              0  "
      ]
     },
     "metadata": {},
     "output_type": "display_data"
    }
   ],
   "source": [
    "ReStartStock=60000#44128#34475#13790#该变量表示补货到达后的初始库存，1吨92#汽油=1379L\n",
    "IntervalT=n_input/2\n",
    "#print('MeanList',MeanList)\n",
    "#先把真实的数据中的test之后的搞过来\n",
    "#print(Datetest_y[0])\n",
    "#print(Datetest_y[-1])\n",
    "#display(d1_sale.head(2))\n",
    "SplitNum=int((d1_sale.shape[0]/int(24*60/abc))*0.7)*int(24*60/abc)##天数的百分之0.7,再乘以48,测试集的初始值\n",
    "#print('SplitNum',SplitNum)\n",
    "SplitNum0=SplitNum#-n_input\n",
    "#print(d1_sale.iloc[SplitNum0-3,0])\n",
    "#print('pd.to_datetime(Datetest_y[0][0][0])',pd.to_datetime(Datetest_y[0][0]))\n",
    "df_test1  = d1_sale[(pd.to_datetime(d1_sale.timestamp)>=pd.to_datetime(Datetest_x[0][0]))]#df是按照单位时间（abc）聚合后的所有数据\n",
    "#df_test1  = d1_sale[(pd.to_datetime(d1_sale.timestamp)>=pd.to_datetime(d1_sale.iloc[SplitNum0-3,0]))]#df是按照单位时间（abc）聚合后的所有数据\n",
    "\n",
    "df_test1.index = pd.DatetimeIndex(df_test1['timestamp'])\n",
    "#print('df_test1')\n",
    "TestDFStockOut1=DFStockOut[(DFStockOut.timestamp>=pd.to_datetime(Datetest_y[0][0]))]\n",
    "TestDFStockOut1.index = pd.DatetimeIndex(TestDFStockOut1['timestamp'])\n",
    "#print('TestDFStockOut1')\n",
    "#display(DFStockOut.tail(5))\n",
    "###预测值减100\n",
    "predictionspredList11=[]\n",
    "for i in range(len(predictionspredList)):\n",
    "    predictionspredList11.append([])\n",
    "    for j in range(len(predictionspredList[i])):\n",
    "        predictionspredList11[-1].append([])\n",
    "        for k in range(len(predictionspredList[i][j])):\n",
    "            predictionspredList11[-1][-1].append([])\n",
    "            #print('predictionspredList[i][j][k]',predictionspredList[i][j][k])\n",
    "            for ij in range(len(predictionspredList[i][j][k])):\n",
    "                predictionspredList11[-1][-1][-1].append(0)\n",
    "                predictionspredList11[i][j][k][ij]=predictionspredList[i][j][k][ij]#-100#前面减了100，得减一下\n",
    "                #predictionspredList11[i][j][k][ij]=predictionspredList[i][j][k][ij]-100#销量的预测值\"\"\"\n",
    "\n",
    "df_testXX=df_test1.iloc[:,0:3]#Date列、以及UnitSales列\n",
    "#df_testXX['value']=df_testXX['value'].apply(lambda x: x-100)#减去加的那100\n",
    "df_testXX['value']=df_testXX['value'].apply(lambda x: x)#减去加的那100\n",
    "df_testXX['timestamp'] = pd.to_datetime(df_testXX['timestamp'])#为什么成了选取偶数\n",
    "df_testXX['Hour'] = df_testXX['timestamp'].dt.hour.astype(\"int\") #转化提取分钟\n",
    "df_testXX['Minute'] = df_testXX['timestamp'].dt.minute.astype(\"int\") #转化提取分钟\n",
    "##固定参数，取值不会发生变化\n",
    "ReStartStock=60000#44128#34475#13790#该变量表示补货到达后的初始库存，1吨92#汽油=1379L\n",
    "IntervalT=1.5#表示补货到达所需时间\n",
    "\n",
    "c1=1#c1表示消耗量所在列\n",
    "a1=df_testXX.shape[1]\n",
    "df_testXX['OurLeaveStock']=df_testXX['timestamp'].apply(lambda x : ReStartStock)#5\n",
    "b1=a1+1\n",
    "df_testXX['OurBuHuoStart']=df_testXX['timestamp'].apply(lambda x : 0)#补货触发时刻7\n",
    "display(df_testXX.tail(2))#按照单位时间聚合"
   ]
  },
  {
   "cell_type": "code",
   "execution_count": 11,
   "metadata": {},
   "outputs": [
    {
     "name": "stdout",
     "output_type": "stream",
     "text": [
      "df_testXX.iloc[mm,a1] 59692.38\n"
     ]
    }
   ],
   "source": [
    "###参数更新\n",
    "def updateCanShu(DHCS1,df_testXX,mm,IntervalT,ReStartStock,a1,NewTC0,NoOS):#更新参数的自定义函数\n",
    "    NoOS+=1#\n",
    "    ActualTimeOS=0\n",
    "    PredictTimeOS=df_testXX.iloc[mm+3,0]#预测的缺货时刻\n",
    "    ActualDate=0\n",
    "    DHCS1=DHCS1+1\n",
    "    #tt=df_testXX.iloc[mm,3]+df_testXX.iloc[mm,4]/60+IntervalT##tt表示补货到达时刻\n",
    "    if df_testXX.iloc[mm,3]+df_testXX.iloc[mm,4]/60==23+(59/60):       \n",
    "        tt=0+IntervalT##tt表示补货到达时刻\n",
    "        ###11##print('00中tt',tt)\n",
    "    else:\n",
    "        tt= df_testXX.iloc[mm,3]+df_testXX.iloc[mm,4]/60+IntervalT##tt表示补货到达时刻\n",
    "        ###11##print('11中tt',tt)\n",
    "    dd=1\n",
    "    BHVolume=ReStartStock-df_testXX.iloc[mm,a1]#补货量10000-当前库存水平\n",
    "    NewTC0=NewTC0+Dcc0#订购一次1500元\n",
    "    return DHCS1,tt,dd,BHVolume,NewTC0,NoOS,PredictTimeOS,ActualTimeOS, ActualDate\n",
    "###变动的参数\n",
    "hh=1100/(365*24*1378)# 1吨≈1378L，持有成本1100元/吨/年\n",
    "tt=0#表示补货时间\n",
    "DHCS1=0#表示订货次数\n",
    "NoOfStockout0=0\n",
    "dd=0\n",
    "###计算库存成本相关的参数\n",
    "tt1=df_testXX.iloc[0,0]#表示上一次补货到达时刻\n",
    "ReStartStock00=ReStartStock##初始化周期初，库存水平\n",
    "NewTC0=0\n",
    "global Dcc0\n",
    "Dcc0=150#一次订购成本\n",
    "##生成缺货情况表\n",
    "dfTimeOutOfStock= pd.DataFrame(columns=('No', 'PredictTime','ActualDate', 'ActualTime','InventoryLevel'))\n",
    "NoOS=-1#\n",
    "InventoryLevel=0#补货到达时，库存水平\n",
    "PredictTimeOS=0#预测的缺货时刻\n",
    "ActualDate=0\n",
    "ActualTimeOS=0#实际缺货时刻\n",
    "####第一组,重新计算剩余库存以初始化\n",
    "for i in range(len(Datetest_x[0])):\n",
    "    if i==0:\n",
    "        df_testXX.iloc[i,a1]=df_testXX.iloc[i,a1]-df_testXX.iloc[i,c1]\n",
    "    else:             \n",
    "        df_testXX.iloc[i,a1]=df_testXX.iloc[i-1,a1]-df_testXX.iloc[i,c1]#表示剩余库存水平#\n",
    "print('df_testXX.iloc[mm,a1]',df_testXX.iloc[0,a1])\n",
    "mm=i#初始化mm.注，预测的是Datetest_y，其对应的第一组值为 [['2017-03-11T01:30:00.000000000' '2017-03-11T02:00:00.000000000' '2017-03-11T02:30:00.000000000']\n",
    "###我的预测方法下预测的缺货时间\n",
    "###11##print('我的预测方法下预测的缺货时间')\n",
    "for k in range(1,len(predictionspredList[-1][0]),1): ##除了第一组，后面只取预测的第一个值\n",
    "\n",
    "##00未来需求的求和，对应step3                \n",
    "    SumDemand=0##SumDemand表示未来1个时段内的总需求\n",
    "    for h in range(len(predictionspredList11[-1][0][k])):\n",
    "        SumDemand=SumDemand+predictionspredList11[-1][0][k][h]       \n",
    "    SumDemandPus1=SumDemand#SumDemandPus1表示未来2个时段内的总需求\n",
    "    if k==len(predictionspredList[-1][0])-1:\n",
    "        SumDemandPus1= SumDemandPus1+0#如果是最后一个则+0\n",
    "    else:\n",
    "        #print('predictionspredList11[-1][0]',len(predictionspredList11[-1][0]))\n",
    "        #print('predictionspredList[-1][0]',len(predictionspredList[-1][0]))\n",
    "        SumDemandPus1= SumDemandPus1+predictionspredList11[-1][0][k+1][-1]#只需向前多滚动一个单位时间即可\n",
    "###01对应缺货时间判断        \n",
    "    if SumDemand>=df_testXX.iloc[mm,a1] and tt==0:#tt=0表示首次补货\n",
    "         ###11##print('\\033[0;36m前期没做好，来不及实施应急补货，\\033[0m')\n",
    "         ###11##display(df_testXX.iloc[mm,0])\n",
    "         DHCS1,tt,dd,BHVolume,NewTC0,NoOS,PredictTimeOS,ActualTimeOS,ActualDate=updateCanShu(DHCS1,df_testXX,mm,IntervalT,ReStartStock,a1,NewTC0,NoOS)\n",
    "    else:\n",
    "            if SumDemandPus1>df_testXX.iloc[mm,a1] and tt==0:#（2）去掉了=\n",
    "                     ###11##print('\\033[0;32m不能满足SumDemandPus1导致的缺货时间00为\\033[0m',df_testXX.iloc[mm,0])                 \n",
    "\n",
    "                     DHCS1,tt,dd,BHVolume,NewTC0,NoOS,PredictTimeOS,ActualTimeOS,ActualDate=updateCanShu(DHCS1,df_testXX,mm,IntervalT,ReStartStock,a1,NewTC0,NoOS)\n",
    "            else:\n",
    "\n",
    "                TestDFStockOut2 = DFStockOut[(DFStockOut.timestamp==pd.to_datetime(df_testXX.iloc[mm+1,0]))]#mm确实应该加1###TestDFStockOut2表示未来第一个时段内的所有真实需求\n",
    "                ###TestDFStockOut2表示未来第一个时段内的所有真实需求\n",
    "                TestDFStockOut2 = TestDFStockOut2.sort_values(by=['timestamp'],ascending=[True])#排序\n",
    "                singleSumDemand=0\n",
    "                for ii in range(TestDFStockOut2.shape[0]):\n",
    "                    singleSumDemand=singleSumDemand+TestDFStockOut2.iloc[ii,3]\n",
    "                    if singleSumDemand>=predictionspredList11[-1][0][k][0]:#未未来第一个时段内的预测需求\n",
    "                        if df_testXX.iloc[mm,a1]-singleSumDemand <= (SumDemandPus1-singleSumDemand )and tt==0:                            \n",
    "                        ##现在是按照阶段更新的，如何把实时和时段结合，把该时段的剩余部分忽略\n",
    "                            ##如果现在的库存水平支撑不了未来（当前库存水平<剩余未来时段预测总量），则此刻抓紧(当前库存水平-已经发生的库存消耗量<=剩下两端的库存消耗量)\n",
    "                             ###11##print('事件驱动下的缺货时间11为',TestDFStockOut2.iloc[ii,0], TestDFStockOut2.iloc[ii,1])\n",
    "                             NoOS+=1\n",
    "                             PredictTimeOS=TestDFStockOut2.iloc[ii+3,-1]\n",
    "                             DHCS1=DHCS1+1\n",
    "                             NewTC0=NewTC0+Dcc0\n",
    "                             tt=TestDFStockOut2.iloc[ii,2]+IntervalT#补货到达时间\n",
    "                             ActualTimeOS=0\n",
    "                             ActualDate=0\n",
    "                             dd=1\n",
    "                             BHVolume=ReStartStock-(df_testXX.iloc[mm,a1]-singleSumDemand)#补货量\n",
    "                             continue#出现了缺货时间后，这部分就可以不用继续拉                       \n",
    "##02获得实际缺货的时间（主要是防止真实需求的波动性，可能会导致缺货时间发生在补货到达前）\n",
    "    if tt!=0 and dd==1:##dd==0 or 1用来调节 缺货时间只有一个，库存水平后面不能继续为负\n",
    "        #if tt>=24.0:#补货到达时间24和0的问题\n",
    "            #tt=tt-24-0.0001#对于24、24.5等情况的处理\n",
    "        TestDFStockOut3 = DFStockOut[(DFStockOut.timestamp==pd.to_datetime(df_testXX.iloc[mm+1,0]))]###TestDFStockOut2表示未来第一个时段内的所有真实需求\n",
    "        TestDFStockOut3 = TestDFStockOut3.sort_values(by=['timestamp'],ascending=[True])#排序\n",
    "        singleSumDemand1=0\n",
    "        for ii in range(TestDFStockOut3.shape[0]):\n",
    "            singleSumDemand1=singleSumDemand1+TestDFStockOut3.iloc[ii,3]\n",
    "            if df_testXX.iloc[mm,a1]-singleSumDemand1 <= 0 and dd==1:\n",
    "                NoOfStockout0=NoOfStockout0+1#该参数表示实际缺货次数\n",
    "                ###11##print('\\033[0;35m实际缺货时间是\\033[0m',TestDFStockOut3.iloc[ii,0], TestDFStockOut3.iloc[ii,1])\n",
    "                ActualTimeOS= TestDFStockOut3.iloc[ii,1]\n",
    "                ActualDate= TestDFStockOut3.iloc[ii,0]\n",
    "                ###11##print('此时的库存水平',df_testXX.iloc[mm,a1]-singleSumDemand1) \n",
    "                dd=2#用来调节库存最小为0，不能为负\n",
    "\n",
    "###03 该部分类似于更新，补货到达事件和库存消耗事件  \n",
    "    mm=mm+1#向前滚动一个时间单位, 应该放到最后\n",
    "    BJtt = df_testXX.iloc[mm,3]+ df_testXX.iloc[mm,4]/60   #转化为实数版本的小时  \n",
    "    if tt!=0: ###补货到达 （BJtt为大于tt的最小时间）\n",
    "        if tt>=24.0:###对于补货到达时间是24.5、25等情况怎么处理\n",
    "            if BJtt==23+(59/60):\n",
    "                tt=tt-24\n",
    "                BJtt=0\n",
    "                ###11##print('补货到达时刻为',df_testXX.iloc[mm,0], BJtt)##tt才是补货到达时刻\n",
    "                ###11##print('tt',tt)##tt才是补货到达时刻\n",
    "        if tt<=BJtt: ###补货到达 （BJtt为大于tt的最小时间）\n",
    "        #if tt!=0 and tt<=BJtt: ###补货到达 （BJtt为大于tt的最小时间）\n",
    "            ###11##print('补货到达时刻为',df_testXX.iloc[mm,0], BJtt)\n",
    "            if dd==2:\n",
    "                 ###11##print('\\033[5;35m之前出现了缺货，但货物在该时间戳内到达\\033[0m')#说明前面就出现了缺货,即(df_testXX.iloc[mm-1,a1]-df_testXX.iloc[mm,c1]<0)，而库存水平≥0，所以令其为0\n",
    "                 df_testXX.iloc[mm-1,a1]=0\n",
    "                 #df_testXX.iloc[mm,a1]=0+BHVolume\n",
    "                 df_testXX.iloc[mm,a1]=ReStartStock\n",
    "                 InventoryLevel=0\n",
    "                 TimeOfDiff=(((df_testXX.iloc[mm,0]-tt1).days)*24+(((df_testXX.iloc[mm,0]-tt1).seconds)/60)/60)#两次补货之间的时间差\n",
    "                 CYC00=hh*TimeOfDiff*((ReStartStock00+(df_testXX.iloc[mm-1,a1]))/2)#持有成本\n",
    "            else:#补货到达后的库存水平变化\n",
    "                #df_testXX.iloc[mm,a1]=df_testXX.iloc[mm-1,a1]-df_testXX.iloc[mm,c1]+BHVolume\n",
    "                df_testXX.iloc[mm,a1]=ReStartStock\n",
    "                InventoryLevel=df_testXX.iloc[mm-1,a1]-df_testXX.iloc[mm,c1]\n",
    "                TimeOfDiff=(((df_testXX.iloc[mm,0]-tt1).days)*24+(((df_testXX.iloc[mm,0]-tt1).seconds)/60)/60)#两次补货之间的时间差\n",
    "                CYC00=hh* TimeOfDiff*((ReStartStock00+(df_testXX.iloc[mm-1,a1]-df_testXX.iloc[mm,c1]))/2)#持有成本\n",
    "\n",
    "            ###11##print('No\\PredictTim\\\\ActualDate\\ActualTime\\InventoryLevel',NoOS, PredictTimeOS,ActualDate,ActualTimeOS,InventoryLevel)\n",
    "            new=pd.DataFrame({'No':NoOS, 'PredictTime':PredictTimeOS,'ActualDate':ActualDate,'ActualTime':ActualTimeOS,'InventoryLevel':InventoryLevel},index=[1]) \n",
    "            dfTimeOutOfStock=dfTimeOutOfStock.append(new,ignore_index=True) \n",
    "\n",
    "            ReStartStock00=df_testXX.iloc[mm,a1]#变量ReStartStock00表示新周期的初始库存\n",
    "            tt1=df_testXX.iloc[mm,0]#代表上一次补货时+\n",
    "            NewTC0=NewTC0+CYC00\n",
    "            tt=0   \n",
    "            dd=0#用以表示    \n",
    "        else: ###没发出补货或者补货没有到达\n",
    "            if dd==2:###库存水平降为0\n",
    "                ###11##print('\\033[1;35m出现了缺货，但货物还没到达\\033[0m')\n",
    "                df_testXX.iloc[mm,a1]=0##说明前面就出现了缺货，系统停止，库存水平为0\n",
    "                continue#说明实际到了缺货时间，系统停止，下面循环不用走\n",
    "            else:##事件驱动库存消耗\n",
    "                df_testXX.iloc[mm,a1]=df_testXX.iloc[mm-1,a1]-df_testXX.iloc[mm,c1]#因为是滚动一个单位向前的，所以要这样 \n",
    "    else: ###没发出补货或者补货没有到达\n",
    "            if dd==2:###库存水平降为0\n",
    "                ###11##print('\\033[1;35m出现了缺货，但货物还没到达\\033[0m')\n",
    "                df_testXX.iloc[mm,a1]=0##说明前面就出现了缺货，系统停止，库存水平为0\n",
    "                continue#说明实际到了缺货时间，系统停止，下面循环不用走\n",
    "            else:##事件驱动库存消耗\n",
    "                df_testXX.iloc[mm,a1]=df_testXX.iloc[mm-1,a1]-df_testXX.iloc[mm,c1]#因为是滚动一个单位向前的，所以要这样\n",
    "    if k==len(predictionspredList[-1][0])-1:\n",
    "            InventoryLevel=max(df_testXX.iloc[mm-1,a1]-df_testXX.iloc[mm,c1],0)\n",
    "            TimeOfDiff=(((df_testXX.iloc[mm,0]-tt1).days)*24+(((df_testXX.iloc[mm,0]-tt1).seconds)/60)/60)#两次补货之间的时间差\n",
    "            CYC00=hh* TimeOfDiff*((ReStartStock00+InventoryLevel)/2)#持有成本\n",
    "            NewTC0=NewTC0+CYC00\n",
    "#display(dfTimeOutOfStock.head(10))\n",
    "dfTimeOutOfStock.to_csv('92H+ETS.csv')"
   ]
  },
  {
   "cell_type": "code",
   "execution_count": 13,
   "metadata": {},
   "outputs": [
    {
     "data": {
      "text/html": [
       "<div>\n",
       "<style scoped>\n",
       "    .dataframe tbody tr th:only-of-type {\n",
       "        vertical-align: middle;\n",
       "    }\n",
       "\n",
       "    .dataframe tbody tr th {\n",
       "        vertical-align: top;\n",
       "    }\n",
       "\n",
       "    .dataframe thead th {\n",
       "        text-align: right;\n",
       "    }\n",
       "</style>\n",
       "<table border=\"1\" class=\"dataframe\">\n",
       "  <thead>\n",
       "    <tr style=\"text-align: right;\">\n",
       "      <th></th>\n",
       "      <th>name</th>\n",
       "      <th>Number of replenishment</th>\n",
       "      <th>Inventory Cost</th>\n",
       "      <th>Delivery Cost</th>\n",
       "      <th>Total Cost</th>\n",
       "      <th>Number of Stock-out</th>\n",
       "      <th>SL</th>\n",
       "    </tr>\n",
       "  </thead>\n",
       "  <tbody>\n",
       "    <tr>\n",
       "      <th>0</th>\n",
       "      <td>SVM Method</td>\n",
       "      <td>38</td>\n",
       "      <td>10109</td>\n",
       "      <td>11571</td>\n",
       "      <td>21680</td>\n",
       "      <td>4</td>\n",
       "      <td>93.85</td>\n",
       "    </tr>\n",
       "  </tbody>\n",
       "</table>\n",
       "</div>"
      ],
      "text/plain": [
       "         name Number of replenishment Inventory Cost Delivery Cost Total Cost  \\\n",
       "0  SVM Method                      38          10109         11571      21680   \n",
       "\n",
       "  Number of Stock-out     SL  \n",
       "0                   4  93.85  "
      ]
     },
     "metadata": {},
     "output_type": "display_data"
    }
   ],
   "source": [
    "ComparResultdf = pd.DataFrame(columns = ['Number of replenishment','Inventory Cost','Delivery Cost','Total Cost','Number of Stock-out']) \n",
    "ComparResultdf1 = pd.DataFrame(columns=['name','Number of replenishment','Inventory Cost','Delivery Cost','Total Cost','Number of Stock-out'])\n",
    "ComparResultdf1.loc[0,'name']='SVM Method'\n",
    "ComparResultdf1.loc[0,'Number of replenishment']=DHCS1\n",
    "ComparResultdf1.loc[0,'Inventory Cost']=round(NewTC0,2)\n",
    "ComparResultdf1.loc[0,'Delivery Cost']=round(DHCS1*(213+1.83*50),2)\n",
    "ComparResultdf1.loc[0,'Total Cost']=round(NewTC0+DHCS1*(213+1.83*50),2)\n",
    "ComparResultdf1.loc[0,'Number of Stock-out']=NoOfStockout0\n",
    "ComparResultdf1.loc[0,'SL']=round(100*((65-NoOfStockout0)/65),2)\n",
    "ComparResultdf=ComparResultdf1\n",
    "display(ComparResultdf.head(9))"
   ]
  },
  {
   "cell_type": "code",
   "execution_count": null,
   "metadata": {},
   "outputs": [],
   "source": []
  }
 ],
 "metadata": {
  "kernelspec": {
   "display_name": "Python 3",
   "language": "python",
   "name": "python3"
  },
  "language_info": {
   "codemirror_mode": {
    "name": "ipython",
    "version": 3
   },
   "file_extension": ".py",
   "mimetype": "text/x-python",
   "name": "python",
   "nbconvert_exporter": "python",
   "pygments_lexer": "ipython3",
   "version": "3.6.4"
  },
  "toc": {
   "base_numbering": 1,
   "nav_menu": {},
   "number_sections": true,
   "sideBar": true,
   "skip_h1_title": false,
   "title_cell": "Table of Contents",
   "title_sidebar": "Contents",
   "toc_cell": false,
   "toc_position": {
    "height": "calc(100% - 180px)",
    "left": "10px",
    "top": "150px",
    "width": "278px"
   },
   "toc_section_display": true,
   "toc_window_display": true
  }
 },
 "nbformat": 4,
 "nbformat_minor": 2
}
