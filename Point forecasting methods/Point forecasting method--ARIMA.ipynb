{
 "cells": [
  {
   "cell_type": "markdown",
   "metadata": {},
   "source": [
    "#  Import Package"
   ]
  },
  {
   "cell_type": "code",
   "execution_count": 1,
   "metadata": {},
   "outputs": [
    {
     "name": "stderr",
     "output_type": "stream",
     "text": [
      "\n",
      "Bad key \"nbagg.transparent\" on line 426 in\n",
      "D:\\anaconda\\lib\\site-packages\\matplotlib\\mpl-data\\stylelib\\_classic_test.mplstyle.\n",
      "You probably need to get an updated matplotlibrc file from\n",
      "https://github.com/matplotlib/matplotlib/blob/v3.2.2/matplotlibrc.template\n",
      "or from the matplotlib source distribution\n",
      "\n",
      "Bad key \"animation.mencoder_path\" on line 509 in\n",
      "D:\\anaconda\\lib\\site-packages\\matplotlib\\mpl-data\\stylelib\\_classic_test.mplstyle.\n",
      "You probably need to get an updated matplotlibrc file from\n",
      "https://github.com/matplotlib/matplotlib/blob/v3.2.2/matplotlibrc.template\n",
      "or from the matplotlib source distribution\n",
      "\n",
      "Bad key \"animation.mencoder_args\" on line 512 in\n",
      "D:\\anaconda\\lib\\site-packages\\matplotlib\\mpl-data\\stylelib\\_classic_test.mplstyle.\n",
      "You probably need to get an updated matplotlibrc file from\n",
      "https://github.com/matplotlib/matplotlib/blob/v3.2.2/matplotlibrc.template\n",
      "or from the matplotlib source distribution\n",
      "In D:\\anaconda\\lib\\site-packages\\matplotlib\\mpl-data\\stylelib\\_classic_test.mplstyle: \n",
      "The text.latex.unicode rcparam was deprecated in Matplotlib 3.0 and will be removed in 3.2.\n",
      "In D:\\anaconda\\lib\\site-packages\\matplotlib\\mpl-data\\stylelib\\_classic_test.mplstyle: \n",
      "The savefig.frameon rcparam was deprecated in Matplotlib 3.1 and will be removed in 3.3.\n",
      "In D:\\anaconda\\lib\\site-packages\\matplotlib\\mpl-data\\stylelib\\_classic_test.mplstyle: \n",
      "The pgf.debug rcparam was deprecated in Matplotlib 3.0 and will be removed in 3.2.\n",
      "In D:\\anaconda\\lib\\site-packages\\matplotlib\\mpl-data\\stylelib\\_classic_test.mplstyle: \n",
      "The verbose.level rcparam was deprecated in Matplotlib 3.1 and will be removed in 3.3.\n",
      "In D:\\anaconda\\lib\\site-packages\\matplotlib\\mpl-data\\stylelib\\_classic_test.mplstyle: \n",
      "The verbose.fileo rcparam was deprecated in Matplotlib 3.1 and will be removed in 3.3.\n"
     ]
    }
   ],
   "source": [
    "import numpy as np\n",
    "import pandas as pd\n",
    "import matplotlib.pyplot as plt\n",
    "import re\n",
    "import tqdm\n",
    "import random\n",
    "import datetime\n",
    "from sklearn.metrics import mean_squared_log_error\n",
    "from datetime import datetime\n",
    "import calendar\n",
    "import itertools\n",
    "from sklearn.metrics import mean_squared_error\n",
    "from math import sqrt\n",
    "import matplotlib.pyplot as plt\n",
    "import seaborn as sns\n",
    "import statsmodels.api as sm\n",
    "from statsmodels.tsa.api import ExponentialSmoothing\n",
    "#from statsmodels.tsa.holtwinters import ExponentialSmoothing, SimpleExpSmoothing, Holt\n",
    "from statsmodels.tsa.stattools import adfuller\n",
    "from pandas import read_csv\n",
    "from numpy import nan\n",
    "from numpy import isnan\n",
    "from numpy import split\n",
    "from numpy import array\n",
    "from matplotlib import pyplot\n",
    "import xlrd\n",
    "from collections import defaultdict\n",
    "from datetime import date,datetime\n",
    "import math\n",
    "from sklearn.cluster import KMeans\n",
    "from sklearn import datasets\n",
    "import copy\n",
    "from scipy import stats\n",
    "import time\n",
    "from pylab import *\n",
    "plt.rcParams['font.sans-serif'] = ['SimHei']\n",
    "import argparse\n",
    "from scipy.special import softmax\n",
    "\n",
    "from sklearn.preprocessing import LabelEncoder\n",
    "\n",
    "import os\n",
    "from math import sqrt\n",
    "from numpy import concatenate\n",
    "from pandas import DataFrame\n",
    "from pandas import concat\n",
    "#导入scipy模块\n",
    "import joblib\n",
    "#%matplotlib inline\n",
    "from IPython.core.interactiveshell import InteractiveShell\n",
    "InteractiveShell.ast_node_interactivity = \"all\"\n",
    "from matplotlib.pylab import style #自定义图表风格\n",
    "style.use('ggplot')\n",
    "# 解决中文乱码问题\n",
    "plt.rcParams['font.sans-serif'] = ['Simhei']\n",
    "# 解决坐标轴刻度负号乱码\n",
    "plt.rcParams['axes.unicode_minus'] = False"
   ]
  },
  {
   "cell_type": "code",
   "execution_count": 2,
   "metadata": {},
   "outputs": [],
   "source": [
    "import warnings                                  # do not disturbe mode\n",
    "warnings.filterwarnings('ignore')\n",
    "# Load packages\n",
    "import matplotlib.pyplot as plt                  # plots\n",
    "import seaborn as sns                            # more plots\n",
    "\n",
    "from dateutil.relativedelta import relativedelta # working with dates with style\n",
    "from scipy.optimize import minimize              # for function minimization\n",
    "\n",
    "import statsmodels.formula.api as smf            # statistics and econometrics\n",
    "import statsmodels.tsa.api as smt\n",
    "import statsmodels.api as sm\n",
    "import scipy.stats as scs\n",
    "\n",
    "from itertools import product                    # some useful functions\n",
    "from tqdm import tqdm_notebook\n",
    "\n",
    "# Importing everything from forecasting quality metrics\n",
    "from sklearn.metrics import r2_score, median_absolute_error, mean_absolute_error\n",
    "from sklearn.metrics import median_absolute_error, mean_squared_error, mean_squared_log_error"
   ]
  },
  {
   "cell_type": "markdown",
   "metadata": {},
   "source": [
    "# Load Data"
   ]
  },
  {
   "cell_type": "code",
   "execution_count": 3,
   "metadata": {},
   "outputs": [
    {
     "name": "stdout",
     "output_type": "stream",
     "text": [
      "00df0.shape[0] 209937\n",
      "11df0.shape[0] 207441\n"
     ]
    }
   ],
   "source": [
    "abc=30#表示30min为一段\n",
    "#df0=pd.read_csv(r'F:\\博士科研资料\\博士开题及其素材\\内容1：新零售预测文献以及相关数据集\\数据6--sales_detail.csv\\tyzx3month.csv',encoding ='GB2312')\n",
    "gdf0=pd.read_csv(open(r'F:\\博士科研资料\\博士开题及其素材\\加油站数据\\export11.csv'))#,encoding='gb18030')\n",
    "#gdf0=pd.read_csv(r'F:\\博士科研资料\\博士开题及其素材\\加油站数据\\export11.csv',encoding='gb18030')\n",
    "gdf0['Time1'] = pd.to_datetime(gdf0['Time'],errors='coerce') \n",
    "gdf0['Hour'] = gdf0['Time1'].dt.hour.fillna(0).astype(\"int\")    #转化提取小时\n",
    "gdf0['Minute'] = gdf0['Time1'].dt.minute.fillna(0).astype(\"int\") #转化提取分钟\n",
    "gdf0['Hour']=gdf0['Hour'].astype(str)\n",
    "gdf0['Date'] = pd.to_datetime(gdf0['Date'])\n",
    "gdf0['T'] = gdf0['Hour'].apply(lambda x : int(x))+gdf0['Minute'].apply (lambda x :round(x/60,2))\n",
    "gdf0['volume'] = gdf0['volume']\n",
    "gdf0['MinuteLabel']=gdf0['Hour'].apply(lambda x : math.floor((int(x)*60)/abc))+gdf0['Minute'].apply (lambda x :math.floor(x/abc))#表示该时刻点属于哪个区间,因为有0，所以向下取整数\n",
    "#gdf0=gdf0.sort_values(by=['Date','Time'],ascending=[True,True]) #df3是没有的，用0不足的dataframe\n",
    "day_name00=gdf0.groupby([\"NAME\"])         #\n",
    "for name,group in day_name00:#group是星期数一样的类目\n",
    "    if name=='92H':\n",
    "        df0=group\n",
    "df0=df0[df0['Date'] >= \"2020-06-01\"] \n",
    "print('00df0.shape[0]',df0.shape[0])\n",
    "df0= df0[~( df0['Date'].isin([\"2020-06-11\",\"2020-08-11\", \"2020-08-25\", \"2020-09-11\"]) )]###删除这些行，因为很多0\n",
    "print('11df0.shape[0]',df0.shape[0])"
   ]
  },
  {
   "cell_type": "markdown",
   "metadata": {},
   "source": [
    "# Data Preprocessing"
   ]
  },
  {
   "cell_type": "code",
   "execution_count": 4,
   "metadata": {},
   "outputs": [
    {
     "data": {
      "text/html": [
       "<div>\n",
       "<style scoped>\n",
       "    .dataframe tbody tr th:only-of-type {\n",
       "        vertical-align: middle;\n",
       "    }\n",
       "\n",
       "    .dataframe tbody tr th {\n",
       "        vertical-align: top;\n",
       "    }\n",
       "\n",
       "    .dataframe thead th {\n",
       "        text-align: right;\n",
       "    }\n",
       "</style>\n",
       "<table border=\"1\" class=\"dataframe\">\n",
       "  <thead>\n",
       "    <tr style=\"text-align: right;\">\n",
       "      <th></th>\n",
       "      <th>Date</th>\n",
       "      <th>UnitSales</th>\n",
       "      <th>MinuteLabel</th>\n",
       "    </tr>\n",
       "  </thead>\n",
       "  <tbody>\n",
       "    <tr>\n",
       "      <th>0</th>\n",
       "      <td>2020-06-01</td>\n",
       "      <td>18.46</td>\n",
       "      <td>0</td>\n",
       "    </tr>\n",
       "    <tr>\n",
       "      <th>1</th>\n",
       "      <td>2020-06-01</td>\n",
       "      <td>105.28</td>\n",
       "      <td>1</td>\n",
       "    </tr>\n",
       "    <tr>\n",
       "      <th>2</th>\n",
       "      <td>2020-06-01</td>\n",
       "      <td>0.00</td>\n",
       "      <td>2</td>\n",
       "    </tr>\n",
       "  </tbody>\n",
       "</table>\n",
       "</div>"
      ],
      "text/plain": [
       "        Date  UnitSales  MinuteLabel\n",
       "0 2020-06-01      18.46            0\n",
       "1 2020-06-01     105.28            1\n",
       "2 2020-06-01       0.00            2"
      ]
     },
     "metadata": {},
     "output_type": "display_data"
    }
   ],
   "source": [
    "df2 = df0.groupby([\"Date\",\"MinuteLabel\"])['volume'].sum().reset_index(name ='UnitSales')#只留下小时销量数据\n",
    "df2['Date'] = pd.to_datetime(df2['Date']) \n",
    "df2['MinuteLabel']=df2['MinuteLabel'].astype(str)\n",
    "#dfghu=df2.sort_values(by=['UnitSales'],ascending=[True]) \n",
    "#print('dfghu.loc[0,UnitSales]',dfghu.iloc[0,2])#最小值\n",
    "#print('dfghu.loc[0,UnitSales]',dfghu.iloc[dfghu.shape[0]-1,2])#最大值\n",
    "#df2['UnitSales']=df2['UnitSales'].apply(lambda x: (x-dfghu.iloc[0,2])/(dfghu.iloc[dfghu.shape[0]-1,2]-dfghu.iloc[0,2]))\n",
    "df2['MinuteLabel']=df2['MinuteLabel'].astype(int)#\n",
    "idx=list(range(int(24*60/abc)))                                                         \n",
    "###3###3####用0铺满\n",
    "group1=df2.groupby([\"Date\"])\n",
    "j=0\n",
    "for name,group2 in group1:#group2是星期数、日期数一样的类目，即一天  \n",
    "     group2=group2.sort_values(by=['MinuteLabel'],ascending=True,na_position='first')  # 按时间排序                  \n",
    "     group2 = group2.set_index('MinuteLabel')#group2设置索引为Hour         \n",
    "     group2 = group2.reindex(idx, fill_value=0)\n",
    "     group2['MinuteLabel'] = group2.index          \n",
    "     group2['Date']=name\n",
    "     if j==0:\n",
    "        df3=group2\n",
    "     else:      \n",
    "        df3=pd.concat([df3,group2], axis=0, ignore_index=True)#axis:合并方式，默认0表示按列合并，1表示按行合并;ignore_index:是否忽略索引                   \n",
    "     j=j+1\n",
    "df3=df3.sort_values(by=['Date','MinuteLabel'],ascending=[True,True]) #df3是没有的，用0不足的dataframe\n",
    "display(df3.head(3))#df3是没有的全部填充为0的\n",
    "df = pd.DataFrame(columns=['timestamp', 'value'])###初始化\n",
    "df3['AllMinutes']=df3['MinuteLabel'].apply(lambda x: time.strftime(\"%H:%M:%S\", time.gmtime( float((x+1)*abc*60))))\n",
    "for i in range(df3.shape[0]):\n",
    "    if df3.loc[i,'AllMinutes']==\"00:00:00\": \n",
    "        df3.loc[i,'AllMinutes']=\"23:59:00\"  ###1月20日0:00:00表示的是1月20日24:00:00,而无法取24h，所以设为23.59\n",
    "#将秒转换为时分秒的形式\n",
    "df['timestamp']=df3['Date'].astype('str')+ ' ' + df3['AllMinutes'].astype('str')\n",
    "df['timestamp'] = pd.to_datetime(df['timestamp'])#为什么成了选取偶数\n",
    "#df['value']=df5['UnitSales']+100#将小时销量转换为value值，且为了0不可用，所有的值增加100.\n",
    "df['value']=df3['UnitSales']\n",
    "df=df.sort_values(by=['timestamp'],ascending=[True]) \n",
    "df['Date']=df['timestamp'].apply(lambda x: x.strftime(\"%Y-%m-%d\"))#提取时间戳中的日期\n",
    "### READ DATA AND CREATE FEATURES FOR year, month, day, hour ###\n",
    "df['MinuteLabel']=df3['MinuteLabel']\n",
    "df=df.sort_values(by=['timestamp','MinuteLabel'],ascending=[True,True]) #df3是没有的，用0不足的dataframe\n",
    "#display(df.head(3))\n",
    "##df=df.iloc[152*(int(24*60/abc)):,:]\n",
    "d1_sale=pd.DataFrame()\n",
    "d1_sale=df"
   ]
  },
  {
   "cell_type": "code",
   "execution_count": 5,
   "metadata": {},
   "outputs": [],
   "source": [
    "#DFStockOut=df0.iloc[:,[1,2,3,7,14,15]]\n",
    "DFStockOut=df0.iloc[:,[6,7,11,3,10,12]]\n",
    "c=3\n",
    "a=DFStockOut.shape[1]\n",
    "ReStartStock=13790#10000#该变量表示补货到达后的初始库存\n",
    "DFStockOut['OurLeaveStock']=DFStockOut['Date'].apply(lambda x : ReStartStock)#6\n",
    "DFStockOut['OurBuHuoStart']=DFStockOut['Date'].apply(lambda x : 0)#补货触发时刻7\n",
    "b=a+1\n",
    "DFStockOut['Date']=pd.to_datetime(DFStockOut['Date'])\n",
    "#from datetime import timedelta\n",
    "#display(DFStockOut.head(2))\n",
    "\n",
    "StockOutTime=[]\n",
    "DHCS1=0#表示订货次数\n",
    "#display(DFStockOut.head(5))\n",
    "\n",
    "DFStockOut['AllMinutes']=DFStockOut['MinuteLabel'].apply(lambda x: time.strftime(\"%H:%M:%S\", time.gmtime( float((x+1)*abc*60))))\n",
    "#将秒转换为时分秒的形式\n",
    "\n",
    "for i in range(DFStockOut.shape[0]):\n",
    "    if DFStockOut.iloc[i,-1]==\"00:00:00\":\n",
    "        #print('i is',i)\n",
    "        #print(DFStockOut.iloc[i,-1])   \n",
    "        DFStockOut.iloc[i,-1]=\"23:59:00\"  ###1月20日0:00:00表示的是1月20日24:00:00,而无法取24h，所以设为23.59\n",
    "    \n",
    "DFStockOut['timestamp']=DFStockOut['Date'].astype('str')+ ' ' + DFStockOut['AllMinutes'].astype('str')\n",
    "\n",
    "DFStockOut['timestamp'] = pd.to_datetime(DFStockOut['timestamp'])#pd.to_datetime它无法转换\n",
    "#display(DFStockOut.head(3))\n",
    "#display(DFStockOut.tail(3))\n",
    "#print(DFStockOut.shape)#(321121, 9)"
   ]
  },
  {
   "cell_type": "markdown",
   "metadata": {},
   "source": [
    "# Arima multi-step-ahead forecasting "
   ]
  },
  {
   "cell_type": "markdown",
   "metadata": {},
   "source": [
    "## Define functions"
   ]
  },
  {
   "cell_type": "code",
   "execution_count": 7,
   "metadata": {},
   "outputs": [],
   "source": [
    "def optimizeSARIMA(parameters_list, d, D, s):\n",
    "    results = []\n",
    "    best_aic = float(\"inf\")\n",
    "    for param in tqdm_notebook(parameters_list):     \n",
    "        model=sm.tsa.statespace.SARIMAX(ads_train, order=(param[0], d, param[1]), seasonal_order=(param[2], D, param[3], s)).fit(disp=-1)\n",
    "        aic = model.aic\n",
    "        # saving best model, AIC and parameters\n",
    "        if aic < best_aic:\n",
    "            best_model = model\n",
    "            best_aic = aic\n",
    "            best_param = param\n",
    "        \n",
    "        results.append([param, model.aic])\n",
    "    print('param',param)\n",
    "    print('model.aic',model.aic)\n",
    "    result_table = pd.DataFrame(results)\n",
    "    print('result_table',result_table)\n",
    "    result_table.columns = ['parameters', 'aic']\n",
    "    # sorting in ascending order, the lower AIC is - the better\n",
    "    result_table = result_table.sort_values(by='aic', ascending=True).reset_index(drop=True)   \n",
    "    return result_table\n",
    "def plotSARIMA(series, model, n_steps):\n",
    "    # adding model values\n",
    "    data = series.copy()\n",
    "    data.columns = ['actual']\n",
    "    data['sarima_model'] = model.fittedvalues\n",
    "    # making a shift on s+d steps, because these values were unobserved by the model\n",
    "    # due to the differentiating\n",
    "    data['sarima_model'][:s+d] = np.NaN\n",
    "    # forecasting on n_steps forward \n",
    "    forecast = model.predict(start = data.shape[0], end = data.shape[0]+n_steps)\n",
    "    #print('0forecast',forecast)\n",
    "    forecast = data.sarima_model.append(forecast)\n",
    "    forecast=pd.DataFrame(forecast)\n",
    "    Nforecast=pd.DataFrame()\n",
    "    Nforecast=forecast.iloc[(-1-n_steps):-1,-1]\n",
    "    return Nforecast\n",
    "# MAPE\n",
    "def mean_absolute_percentage_error(y_true, y_pred): \n",
    "    return np.mean(np.abs((y_true - y_pred) / y_true)) * 100\n",
    "def tsplot(y, lags=None, figsize=(12, 7), style='bmh'):\n",
    "    if not isinstance(y, pd.Series):\n",
    "        y = pd.Series(y)\n",
    "        \n",
    "    with plt.style.context(style):    \n",
    "        fig = plt.figure(figsize=figsize)\n",
    "        layout = (2, 2)\n",
    "        ts_ax = plt.subplot2grid(layout, (0, 0), colspan=2)\n",
    "        acf_ax = plt.subplot2grid(layout, (1, 0))\n",
    "        pacf_ax = plt.subplot2grid(layout, (1, 1))\n",
    "        \n",
    "        y.plot(ax=ts_ax)\n",
    "        p_value = sm.tsa.stattools.adfuller(y)[1]\n",
    "        ts_ax.set_title('Time Series Analysis Plots\\n Dickey-Fuller: p={0:.5f}'.format(p_value))\n",
    "        smt.graphics.plot_acf(y, lags=lags, ax=acf_ax)#, alpha=0.1)\n",
    "        smt.graphics.plot_pacf(y, lags=lags, ax=pacf_ax)#, alpha=0.1)\n",
    "        plt.tight_layout()"
   ]
  },
  {
   "cell_type": "markdown",
   "metadata": {},
   "source": [
    "## Forecasting Model "
   ]
  },
  {
   "cell_type": "code",
   "execution_count": 10,
   "metadata": {},
   "outputs": [],
   "source": [
    "# setting initial values and some bounds for them\n",
    "ps = range(1, 2)\n",
    "d=1 \n",
    "qs = range(1, 2)\n",
    "Ps = range(0, 2)\n",
    "D=1 \n",
    "Qs = range(0, 2)\n",
    "s = 48 # season length is still 24\n",
    "\n",
    "# creating list with all the possible combinations of parameters\n",
    "parameters = product(ps, qs, Ps, Qs)\n",
    "parameters_list = list(parameters)\n",
    "#len(parameters_list)  # 36"
   ]
  },
  {
   "cell_type": "code",
   "execution_count": 11,
   "metadata": {},
   "outputs": [
    {
     "name": "stdout",
     "output_type": "stream",
     "text": [
      "SplitNum 6960\n",
      "1SplitNum0 6960\n"
     ]
    },
    {
     "data": {
      "application/vnd.jupyter.widget-view+json": {
       "model_id": "d66df197b6bd4a52bc86b56007d567ff",
       "version_major": 2,
       "version_minor": 0
      },
      "text/html": [
       "<p>Failed to display Jupyter Widget of type <code>TqdmHBox</code>.</p>\n",
       "<p>\n",
       "  If you're reading this message in the Jupyter Notebook or JupyterLab Notebook, it may mean\n",
       "  that the widgets JavaScript is still loading. If this message persists, it\n",
       "  likely means that the widgets JavaScript library is either not installed or\n",
       "  not enabled. See the <a href=\"https://ipywidgets.readthedocs.io/en/stable/user_install.html\">Jupyter\n",
       "  Widgets Documentation</a> for setup instructions.\n",
       "</p>\n",
       "<p>\n",
       "  If you're reading this message in another frontend (for example, a static\n",
       "  rendering on GitHub or <a href=\"https://nbviewer.jupyter.org/\">NBViewer</a>),\n",
       "  it may mean that your frontend doesn't currently support widgets.\n",
       "</p>\n"
      ],
      "text/plain": [
       "  0%|          | 0/4 [00:00<?, ?it/s]"
      ]
     },
     "metadata": {},
     "output_type": "display_data"
    },
    {
     "name": "stdout",
     "output_type": "stream",
     "text": [
      "00param (1, 1, 0, 0)\n",
      "00param (1, 1, 0, 1)\n",
      "00param (1, 1, 1, 0)\n",
      "00param (1, 1, 1, 1)\n",
      "param (1, 1, 1, 1)\n",
      "model.aic 8529.712355750855\n",
      "result_table               0            1\n",
      "0  (1, 1, 0, 0)  8796.986132\n",
      "1  (1, 1, 0, 1)  8528.758837\n",
      "2  (1, 1, 1, 0)  8698.310647\n",
      "3  (1, 1, 1, 1)  8529.712356\n"
     ]
    },
    {
     "data": {
      "text/plain": [
       "\"\\n    y_predict=plotSARIMA(ads_train, best_model, UPS)\\n    #display(forecast.head(3))\\n    ArimaFS=pd.concat([ArimaFS,y_predict], axis=0, ignore_index=True)#axis:合并方式，默认0表示按列合并，1表示按行合并;ignore_index:是否忽略索引                   \\n    print('len(y_predict)',len(y_predict))\\n    print('len(test_y)',len(test_y))\\n    print('test_y',test_y)\\n    for j in range(y_predict.shape[0]):\\n        print('j',j)\\n        #ForecastSet31.append(y_predict.iloc[j,0])#*(MaxValue-MinValue)+MinValue)\\n        TestSet31.append(test_y[j])#*(MaxValue-MinValue)+MinValue)\\n        Datetest_y31.append(Date1test_y0[j])\\n    print('Datetest_y21',Datetest_y31)\\n    \""
      ]
     },
     "execution_count": 11,
     "metadata": {},
     "output_type": "execute_result"
    },
    {
     "name": "stdout",
     "output_type": "stream",
     "text": [
      "1SplitNum0 7008\n"
     ]
    },
    {
     "data": {
      "application/vnd.jupyter.widget-view+json": {
       "model_id": "9f4f43731f1648c697b9b3ae8c5cc691",
       "version_major": 2,
       "version_minor": 0
      },
      "text/html": [
       "<p>Failed to display Jupyter Widget of type <code>TqdmHBox</code>.</p>\n",
       "<p>\n",
       "  If you're reading this message in the Jupyter Notebook or JupyterLab Notebook, it may mean\n",
       "  that the widgets JavaScript is still loading. If this message persists, it\n",
       "  likely means that the widgets JavaScript library is either not installed or\n",
       "  not enabled. See the <a href=\"https://ipywidgets.readthedocs.io/en/stable/user_install.html\">Jupyter\n",
       "  Widgets Documentation</a> for setup instructions.\n",
       "</p>\n",
       "<p>\n",
       "  If you're reading this message in another frontend (for example, a static\n",
       "  rendering on GitHub or <a href=\"https://nbviewer.jupyter.org/\">NBViewer</a>),\n",
       "  it may mean that your frontend doesn't currently support widgets.\n",
       "</p>\n"
      ],
      "text/plain": [
       "  0%|          | 0/4 [00:00<?, ?it/s]"
      ]
     },
     "metadata": {},
     "output_type": "display_data"
    },
    {
     "name": "stdout",
     "output_type": "stream",
     "text": [
      "00param (1, 1, 0, 0)\n",
      "00param (1, 1, 0, 1)\n",
      "00param (1, 1, 1, 0)\n",
      "00param (1, 1, 1, 1)\n",
      "param (1, 1, 1, 1)\n",
      "model.aic 8503.185346166361\n",
      "result_table               0            1\n",
      "0  (1, 1, 0, 0)  8774.800667\n",
      "1  (1, 1, 0, 1)  8502.251720\n",
      "2  (1, 1, 1, 0)  8669.715924\n",
      "3  (1, 1, 1, 1)  8503.185346\n"
     ]
    },
    {
     "data": {
      "text/plain": [
       "\"\\n    y_predict=plotSARIMA(ads_train, best_model, UPS)\\n    #display(forecast.head(3))\\n    ArimaFS=pd.concat([ArimaFS,y_predict], axis=0, ignore_index=True)#axis:合并方式，默认0表示按列合并，1表示按行合并;ignore_index:是否忽略索引                   \\n    print('len(y_predict)',len(y_predict))\\n    print('len(test_y)',len(test_y))\\n    print('test_y',test_y)\\n    for j in range(y_predict.shape[0]):\\n        print('j',j)\\n        #ForecastSet31.append(y_predict.iloc[j,0])#*(MaxValue-MinValue)+MinValue)\\n        TestSet31.append(test_y[j])#*(MaxValue-MinValue)+MinValue)\\n        Datetest_y31.append(Date1test_y0[j])\\n    print('Datetest_y21',Datetest_y31)\\n    \""
      ]
     },
     "execution_count": 11,
     "metadata": {},
     "output_type": "execute_result"
    },
    {
     "name": "stdout",
     "output_type": "stream",
     "text": [
      "1SplitNum0 7056\n"
     ]
    },
    {
     "data": {
      "application/vnd.jupyter.widget-view+json": {
       "model_id": "ae6b43f9e6e6402995cb56d58654d03a",
       "version_major": 2,
       "version_minor": 0
      },
      "text/html": [
       "<p>Failed to display Jupyter Widget of type <code>TqdmHBox</code>.</p>\n",
       "<p>\n",
       "  If you're reading this message in the Jupyter Notebook or JupyterLab Notebook, it may mean\n",
       "  that the widgets JavaScript is still loading. If this message persists, it\n",
       "  likely means that the widgets JavaScript library is either not installed or\n",
       "  not enabled. See the <a href=\"https://ipywidgets.readthedocs.io/en/stable/user_install.html\">Jupyter\n",
       "  Widgets Documentation</a> for setup instructions.\n",
       "</p>\n",
       "<p>\n",
       "  If you're reading this message in another frontend (for example, a static\n",
       "  rendering on GitHub or <a href=\"https://nbviewer.jupyter.org/\">NBViewer</a>),\n",
       "  it may mean that your frontend doesn't currently support widgets.\n",
       "</p>\n"
      ],
      "text/plain": [
       "  0%|          | 0/4 [00:00<?, ?it/s]"
      ]
     },
     "metadata": {},
     "output_type": "display_data"
    },
    {
     "name": "stdout",
     "output_type": "stream",
     "text": [
      "00param (1, 1, 0, 0)\n",
      "00param (1, 1, 0, 1)\n",
      "00param (1, 1, 1, 0)\n",
      "00param (1, 1, 1, 1)\n",
      "param (1, 1, 1, 1)\n",
      "model.aic 8502.936275780141\n",
      "result_table               0            1\n",
      "0  (1, 1, 0, 0)  8796.949389\n",
      "1  (1, 1, 0, 1)  8501.188502\n",
      "2  (1, 1, 1, 0)  8664.971524\n",
      "3  (1, 1, 1, 1)  8502.936276\n"
     ]
    },
    {
     "data": {
      "text/plain": [
       "\"\\n    y_predict=plotSARIMA(ads_train, best_model, UPS)\\n    #display(forecast.head(3))\\n    ArimaFS=pd.concat([ArimaFS,y_predict], axis=0, ignore_index=True)#axis:合并方式，默认0表示按列合并，1表示按行合并;ignore_index:是否忽略索引                   \\n    print('len(y_predict)',len(y_predict))\\n    print('len(test_y)',len(test_y))\\n    print('test_y',test_y)\\n    for j in range(y_predict.shape[0]):\\n        print('j',j)\\n        #ForecastSet31.append(y_predict.iloc[j,0])#*(MaxValue-MinValue)+MinValue)\\n        TestSet31.append(test_y[j])#*(MaxValue-MinValue)+MinValue)\\n        Datetest_y31.append(Date1test_y0[j])\\n    print('Datetest_y21',Datetest_y31)\\n    \""
      ]
     },
     "execution_count": 11,
     "metadata": {},
     "output_type": "execute_result"
    },
    {
     "name": "stdout",
     "output_type": "stream",
     "text": [
      "1SplitNum0 7104\n"
     ]
    },
    {
     "data": {
      "application/vnd.jupyter.widget-view+json": {
       "model_id": "14c77082c35a456e850018bdca717db8",
       "version_major": 2,
       "version_minor": 0
      },
      "text/html": [
       "<p>Failed to display Jupyter Widget of type <code>TqdmHBox</code>.</p>\n",
       "<p>\n",
       "  If you're reading this message in the Jupyter Notebook or JupyterLab Notebook, it may mean\n",
       "  that the widgets JavaScript is still loading. If this message persists, it\n",
       "  likely means that the widgets JavaScript library is either not installed or\n",
       "  not enabled. See the <a href=\"https://ipywidgets.readthedocs.io/en/stable/user_install.html\">Jupyter\n",
       "  Widgets Documentation</a> for setup instructions.\n",
       "</p>\n",
       "<p>\n",
       "  If you're reading this message in another frontend (for example, a static\n",
       "  rendering on GitHub or <a href=\"https://nbviewer.jupyter.org/\">NBViewer</a>),\n",
       "  it may mean that your frontend doesn't currently support widgets.\n",
       "</p>\n"
      ],
      "text/plain": [
       "  0%|          | 0/4 [00:00<?, ?it/s]"
      ]
     },
     "metadata": {},
     "output_type": "display_data"
    },
    {
     "name": "stdout",
     "output_type": "stream",
     "text": [
      "00param (1, 1, 0, 0)\n",
      "00param (1, 1, 0, 1)\n",
      "00param (1, 1, 1, 0)\n",
      "00param (1, 1, 1, 1)\n",
      "param (1, 1, 1, 1)\n",
      "model.aic 8502.11144121075\n",
      "result_table               0            1\n",
      "0  (1, 1, 0, 0)  8792.571891\n",
      "1  (1, 1, 0, 1)  8500.194238\n",
      "2  (1, 1, 1, 0)  8669.805948\n",
      "3  (1, 1, 1, 1)  8502.111441\n"
     ]
    },
    {
     "data": {
      "text/plain": [
       "\"\\n    y_predict=plotSARIMA(ads_train, best_model, UPS)\\n    #display(forecast.head(3))\\n    ArimaFS=pd.concat([ArimaFS,y_predict], axis=0, ignore_index=True)#axis:合并方式，默认0表示按列合并，1表示按行合并;ignore_index:是否忽略索引                   \\n    print('len(y_predict)',len(y_predict))\\n    print('len(test_y)',len(test_y))\\n    print('test_y',test_y)\\n    for j in range(y_predict.shape[0]):\\n        print('j',j)\\n        #ForecastSet31.append(y_predict.iloc[j,0])#*(MaxValue-MinValue)+MinValue)\\n        TestSet31.append(test_y[j])#*(MaxValue-MinValue)+MinValue)\\n        Datetest_y31.append(Date1test_y0[j])\\n    print('Datetest_y21',Datetest_y31)\\n    \""
      ]
     },
     "execution_count": 11,
     "metadata": {},
     "output_type": "execute_result"
    },
    {
     "name": "stdout",
     "output_type": "stream",
     "text": [
      "1SplitNum0 7152\n"
     ]
    },
    {
     "data": {
      "application/vnd.jupyter.widget-view+json": {
       "model_id": "9db18c55cb4f4a55b2d4fa71f57b1cc1",
       "version_major": 2,
       "version_minor": 0
      },
      "text/html": [
       "<p>Failed to display Jupyter Widget of type <code>TqdmHBox</code>.</p>\n",
       "<p>\n",
       "  If you're reading this message in the Jupyter Notebook or JupyterLab Notebook, it may mean\n",
       "  that the widgets JavaScript is still loading. If this message persists, it\n",
       "  likely means that the widgets JavaScript library is either not installed or\n",
       "  not enabled. See the <a href=\"https://ipywidgets.readthedocs.io/en/stable/user_install.html\">Jupyter\n",
       "  Widgets Documentation</a> for setup instructions.\n",
       "</p>\n",
       "<p>\n",
       "  If you're reading this message in another frontend (for example, a static\n",
       "  rendering on GitHub or <a href=\"https://nbviewer.jupyter.org/\">NBViewer</a>),\n",
       "  it may mean that your frontend doesn't currently support widgets.\n",
       "</p>\n"
      ],
      "text/plain": [
       "  0%|          | 0/4 [00:00<?, ?it/s]"
      ]
     },
     "metadata": {},
     "output_type": "display_data"
    },
    {
     "name": "stdout",
     "output_type": "stream",
     "text": [
      "00param (1, 1, 0, 0)\n",
      "00param (1, 1, 0, 1)\n",
      "00param (1, 1, 1, 0)\n",
      "00param (1, 1, 1, 1)\n",
      "param (1, 1, 1, 1)\n",
      "model.aic 8463.075167565881\n",
      "result_table               0            1\n",
      "0  (1, 1, 0, 0)  8776.662220\n",
      "1  (1, 1, 0, 1)  8461.134457\n",
      "2  (1, 1, 1, 0)  8633.151655\n",
      "3  (1, 1, 1, 1)  8463.075168\n"
     ]
    },
    {
     "data": {
      "text/plain": [
       "\"\\n    y_predict=plotSARIMA(ads_train, best_model, UPS)\\n    #display(forecast.head(3))\\n    ArimaFS=pd.concat([ArimaFS,y_predict], axis=0, ignore_index=True)#axis:合并方式，默认0表示按列合并，1表示按行合并;ignore_index:是否忽略索引                   \\n    print('len(y_predict)',len(y_predict))\\n    print('len(test_y)',len(test_y))\\n    print('test_y',test_y)\\n    for j in range(y_predict.shape[0]):\\n        print('j',j)\\n        #ForecastSet31.append(y_predict.iloc[j,0])#*(MaxValue-MinValue)+MinValue)\\n        TestSet31.append(test_y[j])#*(MaxValue-MinValue)+MinValue)\\n        Datetest_y31.append(Date1test_y0[j])\\n    print('Datetest_y21',Datetest_y31)\\n    \""
      ]
     },
     "execution_count": 11,
     "metadata": {},
     "output_type": "execute_result"
    },
    {
     "name": "stdout",
     "output_type": "stream",
     "text": [
      "1SplitNum0 7200\n"
     ]
    },
    {
     "data": {
      "application/vnd.jupyter.widget-view+json": {
       "model_id": "14338adfa7d14b129d3f96d553fc9a41",
       "version_major": 2,
       "version_minor": 0
      },
      "text/html": [
       "<p>Failed to display Jupyter Widget of type <code>TqdmHBox</code>.</p>\n",
       "<p>\n",
       "  If you're reading this message in the Jupyter Notebook or JupyterLab Notebook, it may mean\n",
       "  that the widgets JavaScript is still loading. If this message persists, it\n",
       "  likely means that the widgets JavaScript library is either not installed or\n",
       "  not enabled. See the <a href=\"https://ipywidgets.readthedocs.io/en/stable/user_install.html\">Jupyter\n",
       "  Widgets Documentation</a> for setup instructions.\n",
       "</p>\n",
       "<p>\n",
       "  If you're reading this message in another frontend (for example, a static\n",
       "  rendering on GitHub or <a href=\"https://nbviewer.jupyter.org/\">NBViewer</a>),\n",
       "  it may mean that your frontend doesn't currently support widgets.\n",
       "</p>\n"
      ],
      "text/plain": [
       "  0%|          | 0/4 [00:00<?, ?it/s]"
      ]
     },
     "metadata": {},
     "output_type": "display_data"
    },
    {
     "name": "stdout",
     "output_type": "stream",
     "text": [
      "00param (1, 1, 0, 0)\n",
      "00param (1, 1, 0, 1)\n",
      "00param (1, 1, 1, 0)\n",
      "00param (1, 1, 1, 1)\n",
      "param (1, 1, 1, 1)\n",
      "model.aic 8445.943410907996\n",
      "result_table               0            1\n",
      "0  (1, 1, 0, 0)  8777.156622\n",
      "1  (1, 1, 0, 1)  8445.382918\n",
      "2  (1, 1, 1, 0)  8619.654179\n",
      "3  (1, 1, 1, 1)  8445.943411\n"
     ]
    },
    {
     "data": {
      "text/plain": [
       "\"\\n    y_predict=plotSARIMA(ads_train, best_model, UPS)\\n    #display(forecast.head(3))\\n    ArimaFS=pd.concat([ArimaFS,y_predict], axis=0, ignore_index=True)#axis:合并方式，默认0表示按列合并，1表示按行合并;ignore_index:是否忽略索引                   \\n    print('len(y_predict)',len(y_predict))\\n    print('len(test_y)',len(test_y))\\n    print('test_y',test_y)\\n    for j in range(y_predict.shape[0]):\\n        print('j',j)\\n        #ForecastSet31.append(y_predict.iloc[j,0])#*(MaxValue-MinValue)+MinValue)\\n        TestSet31.append(test_y[j])#*(MaxValue-MinValue)+MinValue)\\n        Datetest_y31.append(Date1test_y0[j])\\n    print('Datetest_y21',Datetest_y31)\\n    \""
      ]
     },
     "execution_count": 11,
     "metadata": {},
     "output_type": "execute_result"
    },
    {
     "name": "stdout",
     "output_type": "stream",
     "text": [
      "1SplitNum0 7248\n"
     ]
    },
    {
     "data": {
      "application/vnd.jupyter.widget-view+json": {
       "model_id": "e1d3a5d358d94125a035a4561a459e9c",
       "version_major": 2,
       "version_minor": 0
      },
      "text/html": [
       "<p>Failed to display Jupyter Widget of type <code>TqdmHBox</code>.</p>\n",
       "<p>\n",
       "  If you're reading this message in the Jupyter Notebook or JupyterLab Notebook, it may mean\n",
       "  that the widgets JavaScript is still loading. If this message persists, it\n",
       "  likely means that the widgets JavaScript library is either not installed or\n",
       "  not enabled. See the <a href=\"https://ipywidgets.readthedocs.io/en/stable/user_install.html\">Jupyter\n",
       "  Widgets Documentation</a> for setup instructions.\n",
       "</p>\n",
       "<p>\n",
       "  If you're reading this message in another frontend (for example, a static\n",
       "  rendering on GitHub or <a href=\"https://nbviewer.jupyter.org/\">NBViewer</a>),\n",
       "  it may mean that your frontend doesn't currently support widgets.\n",
       "</p>\n"
      ],
      "text/plain": [
       "  0%|          | 0/4 [00:00<?, ?it/s]"
      ]
     },
     "metadata": {},
     "output_type": "display_data"
    },
    {
     "name": "stdout",
     "output_type": "stream",
     "text": [
      "00param (1, 1, 0, 0)\n",
      "00param (1, 1, 0, 1)\n",
      "00param (1, 1, 1, 0)\n",
      "00param (1, 1, 1, 1)\n",
      "param (1, 1, 1, 1)\n",
      "model.aic 8419.022095611246\n",
      "result_table               0            1\n",
      "0  (1, 1, 0, 0)  8758.117176\n",
      "1  (1, 1, 0, 1)  8418.999942\n",
      "2  (1, 1, 1, 0)  8582.482535\n",
      "3  (1, 1, 1, 1)  8419.022096\n"
     ]
    },
    {
     "data": {
      "text/plain": [
       "\"\\n    y_predict=plotSARIMA(ads_train, best_model, UPS)\\n    #display(forecast.head(3))\\n    ArimaFS=pd.concat([ArimaFS,y_predict], axis=0, ignore_index=True)#axis:合并方式，默认0表示按列合并，1表示按行合并;ignore_index:是否忽略索引                   \\n    print('len(y_predict)',len(y_predict))\\n    print('len(test_y)',len(test_y))\\n    print('test_y',test_y)\\n    for j in range(y_predict.shape[0]):\\n        print('j',j)\\n        #ForecastSet31.append(y_predict.iloc[j,0])#*(MaxValue-MinValue)+MinValue)\\n        TestSet31.append(test_y[j])#*(MaxValue-MinValue)+MinValue)\\n        Datetest_y31.append(Date1test_y0[j])\\n    print('Datetest_y21',Datetest_y31)\\n    \""
      ]
     },
     "execution_count": 11,
     "metadata": {},
     "output_type": "execute_result"
    },
    {
     "name": "stdout",
     "output_type": "stream",
     "text": [
      "1SplitNum0 7296\n"
     ]
    },
    {
     "data": {
      "application/vnd.jupyter.widget-view+json": {
       "model_id": "3027657fbdab4911b415eee4a5715f58",
       "version_major": 2,
       "version_minor": 0
      },
      "text/html": [
       "<p>Failed to display Jupyter Widget of type <code>TqdmHBox</code>.</p>\n",
       "<p>\n",
       "  If you're reading this message in the Jupyter Notebook or JupyterLab Notebook, it may mean\n",
       "  that the widgets JavaScript is still loading. If this message persists, it\n",
       "  likely means that the widgets JavaScript library is either not installed or\n",
       "  not enabled. See the <a href=\"https://ipywidgets.readthedocs.io/en/stable/user_install.html\">Jupyter\n",
       "  Widgets Documentation</a> for setup instructions.\n",
       "</p>\n",
       "<p>\n",
       "  If you're reading this message in another frontend (for example, a static\n",
       "  rendering on GitHub or <a href=\"https://nbviewer.jupyter.org/\">NBViewer</a>),\n",
       "  it may mean that your frontend doesn't currently support widgets.\n",
       "</p>\n"
      ],
      "text/plain": [
       "  0%|          | 0/4 [00:00<?, ?it/s]"
      ]
     },
     "metadata": {},
     "output_type": "display_data"
    },
    {
     "name": "stdout",
     "output_type": "stream",
     "text": [
      "00param (1, 1, 0, 0)\n",
      "00param (1, 1, 0, 1)\n",
      "00param (1, 1, 1, 0)\n",
      "00param (1, 1, 1, 1)\n",
      "param (1, 1, 1, 1)\n",
      "model.aic 8437.362756791881\n",
      "result_table               0            1\n",
      "0  (1, 1, 0, 0)  8724.991002\n",
      "1  (1, 1, 0, 1)  8435.763885\n",
      "2  (1, 1, 1, 0)  8577.049575\n",
      "3  (1, 1, 1, 1)  8437.362757\n"
     ]
    },
    {
     "data": {
      "text/plain": [
       "\"\\n    y_predict=plotSARIMA(ads_train, best_model, UPS)\\n    #display(forecast.head(3))\\n    ArimaFS=pd.concat([ArimaFS,y_predict], axis=0, ignore_index=True)#axis:合并方式，默认0表示按列合并，1表示按行合并;ignore_index:是否忽略索引                   \\n    print('len(y_predict)',len(y_predict))\\n    print('len(test_y)',len(test_y))\\n    print('test_y',test_y)\\n    for j in range(y_predict.shape[0]):\\n        print('j',j)\\n        #ForecastSet31.append(y_predict.iloc[j,0])#*(MaxValue-MinValue)+MinValue)\\n        TestSet31.append(test_y[j])#*(MaxValue-MinValue)+MinValue)\\n        Datetest_y31.append(Date1test_y0[j])\\n    print('Datetest_y21',Datetest_y31)\\n    \""
      ]
     },
     "execution_count": 11,
     "metadata": {},
     "output_type": "execute_result"
    },
    {
     "name": "stdout",
     "output_type": "stream",
     "text": [
      "1SplitNum0 7344\n"
     ]
    },
    {
     "data": {
      "application/vnd.jupyter.widget-view+json": {
       "model_id": "9962092d86614b8ab17b3cc916ec7857",
       "version_major": 2,
       "version_minor": 0
      },
      "text/html": [
       "<p>Failed to display Jupyter Widget of type <code>TqdmHBox</code>.</p>\n",
       "<p>\n",
       "  If you're reading this message in the Jupyter Notebook or JupyterLab Notebook, it may mean\n",
       "  that the widgets JavaScript is still loading. If this message persists, it\n",
       "  likely means that the widgets JavaScript library is either not installed or\n",
       "  not enabled. See the <a href=\"https://ipywidgets.readthedocs.io/en/stable/user_install.html\">Jupyter\n",
       "  Widgets Documentation</a> for setup instructions.\n",
       "</p>\n",
       "<p>\n",
       "  If you're reading this message in another frontend (for example, a static\n",
       "  rendering on GitHub or <a href=\"https://nbviewer.jupyter.org/\">NBViewer</a>),\n",
       "  it may mean that your frontend doesn't currently support widgets.\n",
       "</p>\n"
      ],
      "text/plain": [
       "  0%|          | 0/4 [00:00<?, ?it/s]"
      ]
     },
     "metadata": {},
     "output_type": "display_data"
    },
    {
     "name": "stdout",
     "output_type": "stream",
     "text": [
      "00param (1, 1, 0, 0)\n",
      "00param (1, 1, 0, 1)\n",
      "00param (1, 1, 1, 0)\n",
      "00param (1, 1, 1, 1)\n",
      "param (1, 1, 1, 1)\n",
      "model.aic 8431.357999365482\n",
      "result_table               0            1\n",
      "0  (1, 1, 0, 0)  8734.216418\n",
      "1  (1, 1, 0, 1)  8429.675133\n",
      "2  (1, 1, 1, 0)  8574.479861\n",
      "3  (1, 1, 1, 1)  8431.357999\n"
     ]
    },
    {
     "data": {
      "text/plain": [
       "\"\\n    y_predict=plotSARIMA(ads_train, best_model, UPS)\\n    #display(forecast.head(3))\\n    ArimaFS=pd.concat([ArimaFS,y_predict], axis=0, ignore_index=True)#axis:合并方式，默认0表示按列合并，1表示按行合并;ignore_index:是否忽略索引                   \\n    print('len(y_predict)',len(y_predict))\\n    print('len(test_y)',len(test_y))\\n    print('test_y',test_y)\\n    for j in range(y_predict.shape[0]):\\n        print('j',j)\\n        #ForecastSet31.append(y_predict.iloc[j,0])#*(MaxValue-MinValue)+MinValue)\\n        TestSet31.append(test_y[j])#*(MaxValue-MinValue)+MinValue)\\n        Datetest_y31.append(Date1test_y0[j])\\n    print('Datetest_y21',Datetest_y31)\\n    \""
      ]
     },
     "execution_count": 11,
     "metadata": {},
     "output_type": "execute_result"
    },
    {
     "name": "stdout",
     "output_type": "stream",
     "text": [
      "1SplitNum0 7392\n"
     ]
    },
    {
     "data": {
      "application/vnd.jupyter.widget-view+json": {
       "model_id": "0d4548206d67444eb86cad06816239ae",
       "version_major": 2,
       "version_minor": 0
      },
      "text/html": [
       "<p>Failed to display Jupyter Widget of type <code>TqdmHBox</code>.</p>\n",
       "<p>\n",
       "  If you're reading this message in the Jupyter Notebook or JupyterLab Notebook, it may mean\n",
       "  that the widgets JavaScript is still loading. If this message persists, it\n",
       "  likely means that the widgets JavaScript library is either not installed or\n",
       "  not enabled. See the <a href=\"https://ipywidgets.readthedocs.io/en/stable/user_install.html\">Jupyter\n",
       "  Widgets Documentation</a> for setup instructions.\n",
       "</p>\n",
       "<p>\n",
       "  If you're reading this message in another frontend (for example, a static\n",
       "  rendering on GitHub or <a href=\"https://nbviewer.jupyter.org/\">NBViewer</a>),\n",
       "  it may mean that your frontend doesn't currently support widgets.\n",
       "</p>\n"
      ],
      "text/plain": [
       "  0%|          | 0/4 [00:00<?, ?it/s]"
      ]
     },
     "metadata": {},
     "output_type": "display_data"
    },
    {
     "name": "stdout",
     "output_type": "stream",
     "text": [
      "00param (1, 1, 0, 0)\n",
      "00param (1, 1, 0, 1)\n",
      "00param (1, 1, 1, 0)\n",
      "00param (1, 1, 1, 1)\n",
      "param (1, 1, 1, 1)\n",
      "model.aic 8461.030655613074\n",
      "result_table               0            1\n",
      "0  (1, 1, 0, 0)  8767.965491\n",
      "1  (1, 1, 0, 1)  8459.519474\n",
      "2  (1, 1, 1, 0)  8601.762503\n",
      "3  (1, 1, 1, 1)  8461.030656\n"
     ]
    },
    {
     "data": {
      "text/plain": [
       "\"\\n    y_predict=plotSARIMA(ads_train, best_model, UPS)\\n    #display(forecast.head(3))\\n    ArimaFS=pd.concat([ArimaFS,y_predict], axis=0, ignore_index=True)#axis:合并方式，默认0表示按列合并，1表示按行合并;ignore_index:是否忽略索引                   \\n    print('len(y_predict)',len(y_predict))\\n    print('len(test_y)',len(test_y))\\n    print('test_y',test_y)\\n    for j in range(y_predict.shape[0]):\\n        print('j',j)\\n        #ForecastSet31.append(y_predict.iloc[j,0])#*(MaxValue-MinValue)+MinValue)\\n        TestSet31.append(test_y[j])#*(MaxValue-MinValue)+MinValue)\\n        Datetest_y31.append(Date1test_y0[j])\\n    print('Datetest_y21',Datetest_y31)\\n    \""
      ]
     },
     "execution_count": 11,
     "metadata": {},
     "output_type": "execute_result"
    },
    {
     "name": "stdout",
     "output_type": "stream",
     "text": [
      "1SplitNum0 7440\n"
     ]
    },
    {
     "data": {
      "application/vnd.jupyter.widget-view+json": {
       "model_id": "4f0545c068194f7d86149085ff1eeaba",
       "version_major": 2,
       "version_minor": 0
      },
      "text/html": [
       "<p>Failed to display Jupyter Widget of type <code>TqdmHBox</code>.</p>\n",
       "<p>\n",
       "  If you're reading this message in the Jupyter Notebook or JupyterLab Notebook, it may mean\n",
       "  that the widgets JavaScript is still loading. If this message persists, it\n",
       "  likely means that the widgets JavaScript library is either not installed or\n",
       "  not enabled. See the <a href=\"https://ipywidgets.readthedocs.io/en/stable/user_install.html\">Jupyter\n",
       "  Widgets Documentation</a> for setup instructions.\n",
       "</p>\n",
       "<p>\n",
       "  If you're reading this message in another frontend (for example, a static\n",
       "  rendering on GitHub or <a href=\"https://nbviewer.jupyter.org/\">NBViewer</a>),\n",
       "  it may mean that your frontend doesn't currently support widgets.\n",
       "</p>\n"
      ],
      "text/plain": [
       "  0%|          | 0/4 [00:00<?, ?it/s]"
      ]
     },
     "metadata": {},
     "output_type": "display_data"
    },
    {
     "name": "stdout",
     "output_type": "stream",
     "text": [
      "00param (1, 1, 0, 0)\n",
      "00param (1, 1, 0, 1)\n",
      "00param (1, 1, 1, 0)\n",
      "00param (1, 1, 1, 1)\n",
      "param (1, 1, 1, 1)\n",
      "model.aic 8452.32865494645\n",
      "result_table               0            1\n",
      "0  (1, 1, 0, 0)  8787.047665\n",
      "1  (1, 1, 0, 1)  8454.706900\n",
      "2  (1, 1, 1, 0)  8598.998736\n",
      "3  (1, 1, 1, 1)  8452.328655\n"
     ]
    },
    {
     "data": {
      "text/plain": [
       "\"\\n    y_predict=plotSARIMA(ads_train, best_model, UPS)\\n    #display(forecast.head(3))\\n    ArimaFS=pd.concat([ArimaFS,y_predict], axis=0, ignore_index=True)#axis:合并方式，默认0表示按列合并，1表示按行合并;ignore_index:是否忽略索引                   \\n    print('len(y_predict)',len(y_predict))\\n    print('len(test_y)',len(test_y))\\n    print('test_y',test_y)\\n    for j in range(y_predict.shape[0]):\\n        print('j',j)\\n        #ForecastSet31.append(y_predict.iloc[j,0])#*(MaxValue-MinValue)+MinValue)\\n        TestSet31.append(test_y[j])#*(MaxValue-MinValue)+MinValue)\\n        Datetest_y31.append(Date1test_y0[j])\\n    print('Datetest_y21',Datetest_y31)\\n    \""
      ]
     },
     "execution_count": 11,
     "metadata": {},
     "output_type": "execute_result"
    },
    {
     "name": "stdout",
     "output_type": "stream",
     "text": [
      "1SplitNum0 7488\n"
     ]
    },
    {
     "data": {
      "application/vnd.jupyter.widget-view+json": {
       "model_id": "9c5bc1cde40b4463858586a037a196ec",
       "version_major": 2,
       "version_minor": 0
      },
      "text/html": [
       "<p>Failed to display Jupyter Widget of type <code>TqdmHBox</code>.</p>\n",
       "<p>\n",
       "  If you're reading this message in the Jupyter Notebook or JupyterLab Notebook, it may mean\n",
       "  that the widgets JavaScript is still loading. If this message persists, it\n",
       "  likely means that the widgets JavaScript library is either not installed or\n",
       "  not enabled. See the <a href=\"https://ipywidgets.readthedocs.io/en/stable/user_install.html\">Jupyter\n",
       "  Widgets Documentation</a> for setup instructions.\n",
       "</p>\n",
       "<p>\n",
       "  If you're reading this message in another frontend (for example, a static\n",
       "  rendering on GitHub or <a href=\"https://nbviewer.jupyter.org/\">NBViewer</a>),\n",
       "  it may mean that your frontend doesn't currently support widgets.\n",
       "</p>\n"
      ],
      "text/plain": [
       "  0%|          | 0/4 [00:00<?, ?it/s]"
      ]
     },
     "metadata": {},
     "output_type": "display_data"
    },
    {
     "name": "stdout",
     "output_type": "stream",
     "text": [
      "00param (1, 1, 0, 0)\n",
      "00param (1, 1, 0, 1)\n",
      "00param (1, 1, 1, 0)\n",
      "00param (1, 1, 1, 1)\n",
      "param (1, 1, 1, 1)\n",
      "model.aic 8460.867478864348\n",
      "result_table               0            1\n",
      "0  (1, 1, 0, 0)  8804.591428\n",
      "1  (1, 1, 0, 1)  8464.573819\n",
      "2  (1, 1, 1, 0)  8621.418753\n",
      "3  (1, 1, 1, 1)  8460.867479\n"
     ]
    },
    {
     "data": {
      "text/plain": [
       "\"\\n    y_predict=plotSARIMA(ads_train, best_model, UPS)\\n    #display(forecast.head(3))\\n    ArimaFS=pd.concat([ArimaFS,y_predict], axis=0, ignore_index=True)#axis:合并方式，默认0表示按列合并，1表示按行合并;ignore_index:是否忽略索引                   \\n    print('len(y_predict)',len(y_predict))\\n    print('len(test_y)',len(test_y))\\n    print('test_y',test_y)\\n    for j in range(y_predict.shape[0]):\\n        print('j',j)\\n        #ForecastSet31.append(y_predict.iloc[j,0])#*(MaxValue-MinValue)+MinValue)\\n        TestSet31.append(test_y[j])#*(MaxValue-MinValue)+MinValue)\\n        Datetest_y31.append(Date1test_y0[j])\\n    print('Datetest_y21',Datetest_y31)\\n    \""
      ]
     },
     "execution_count": 11,
     "metadata": {},
     "output_type": "execute_result"
    },
    {
     "name": "stdout",
     "output_type": "stream",
     "text": [
      "1SplitNum0 7536\n"
     ]
    },
    {
     "data": {
      "application/vnd.jupyter.widget-view+json": {
       "model_id": "012e9c48bf244f10830d4dcc584749fe",
       "version_major": 2,
       "version_minor": 0
      },
      "text/html": [
       "<p>Failed to display Jupyter Widget of type <code>TqdmHBox</code>.</p>\n",
       "<p>\n",
       "  If you're reading this message in the Jupyter Notebook or JupyterLab Notebook, it may mean\n",
       "  that the widgets JavaScript is still loading. If this message persists, it\n",
       "  likely means that the widgets JavaScript library is either not installed or\n",
       "  not enabled. See the <a href=\"https://ipywidgets.readthedocs.io/en/stable/user_install.html\">Jupyter\n",
       "  Widgets Documentation</a> for setup instructions.\n",
       "</p>\n",
       "<p>\n",
       "  If you're reading this message in another frontend (for example, a static\n",
       "  rendering on GitHub or <a href=\"https://nbviewer.jupyter.org/\">NBViewer</a>),\n",
       "  it may mean that your frontend doesn't currently support widgets.\n",
       "</p>\n"
      ],
      "text/plain": [
       "  0%|          | 0/4 [00:00<?, ?it/s]"
      ]
     },
     "metadata": {},
     "output_type": "display_data"
    },
    {
     "name": "stdout",
     "output_type": "stream",
     "text": [
      "00param (1, 1, 0, 0)\n",
      "00param (1, 1, 0, 1)\n",
      "00param (1, 1, 1, 0)\n",
      "00param (1, 1, 1, 1)\n",
      "param (1, 1, 1, 1)\n",
      "model.aic 8458.213799993337\n",
      "result_table               0            1\n",
      "0  (1, 1, 0, 0)  8800.853997\n",
      "1  (1, 1, 0, 1)  8459.524306\n",
      "2  (1, 1, 1, 0)  8608.569330\n",
      "3  (1, 1, 1, 1)  8458.213800\n"
     ]
    },
    {
     "data": {
      "text/plain": [
       "\"\\n    y_predict=plotSARIMA(ads_train, best_model, UPS)\\n    #display(forecast.head(3))\\n    ArimaFS=pd.concat([ArimaFS,y_predict], axis=0, ignore_index=True)#axis:合并方式，默认0表示按列合并，1表示按行合并;ignore_index:是否忽略索引                   \\n    print('len(y_predict)',len(y_predict))\\n    print('len(test_y)',len(test_y))\\n    print('test_y',test_y)\\n    for j in range(y_predict.shape[0]):\\n        print('j',j)\\n        #ForecastSet31.append(y_predict.iloc[j,0])#*(MaxValue-MinValue)+MinValue)\\n        TestSet31.append(test_y[j])#*(MaxValue-MinValue)+MinValue)\\n        Datetest_y31.append(Date1test_y0[j])\\n    print('Datetest_y21',Datetest_y31)\\n    \""
      ]
     },
     "execution_count": 11,
     "metadata": {},
     "output_type": "execute_result"
    },
    {
     "name": "stdout",
     "output_type": "stream",
     "text": [
      "1SplitNum0 7584\n"
     ]
    },
    {
     "data": {
      "application/vnd.jupyter.widget-view+json": {
       "model_id": "c19d5af6c9944985a36b174d4b3d4c82",
       "version_major": 2,
       "version_minor": 0
      },
      "text/html": [
       "<p>Failed to display Jupyter Widget of type <code>TqdmHBox</code>.</p>\n",
       "<p>\n",
       "  If you're reading this message in the Jupyter Notebook or JupyterLab Notebook, it may mean\n",
       "  that the widgets JavaScript is still loading. If this message persists, it\n",
       "  likely means that the widgets JavaScript library is either not installed or\n",
       "  not enabled. See the <a href=\"https://ipywidgets.readthedocs.io/en/stable/user_install.html\">Jupyter\n",
       "  Widgets Documentation</a> for setup instructions.\n",
       "</p>\n",
       "<p>\n",
       "  If you're reading this message in another frontend (for example, a static\n",
       "  rendering on GitHub or <a href=\"https://nbviewer.jupyter.org/\">NBViewer</a>),\n",
       "  it may mean that your frontend doesn't currently support widgets.\n",
       "</p>\n"
      ],
      "text/plain": [
       "  0%|          | 0/4 [00:00<?, ?it/s]"
      ]
     },
     "metadata": {},
     "output_type": "display_data"
    },
    {
     "name": "stdout",
     "output_type": "stream",
     "text": [
      "00param (1, 1, 0, 0)\n",
      "00param (1, 1, 0, 1)\n",
      "00param (1, 1, 1, 0)\n",
      "00param (1, 1, 1, 1)\n",
      "param (1, 1, 1, 1)\n",
      "model.aic 8442.97767470403\n",
      "result_table               0            1\n",
      "0  (1, 1, 0, 0)  8796.551956\n",
      "1  (1, 1, 0, 1)  8443.909879\n",
      "2  (1, 1, 1, 0)  8612.442960\n",
      "3  (1, 1, 1, 1)  8442.977675\n"
     ]
    },
    {
     "data": {
      "text/plain": [
       "\"\\n    y_predict=plotSARIMA(ads_train, best_model, UPS)\\n    #display(forecast.head(3))\\n    ArimaFS=pd.concat([ArimaFS,y_predict], axis=0, ignore_index=True)#axis:合并方式，默认0表示按列合并，1表示按行合并;ignore_index:是否忽略索引                   \\n    print('len(y_predict)',len(y_predict))\\n    print('len(test_y)',len(test_y))\\n    print('test_y',test_y)\\n    for j in range(y_predict.shape[0]):\\n        print('j',j)\\n        #ForecastSet31.append(y_predict.iloc[j,0])#*(MaxValue-MinValue)+MinValue)\\n        TestSet31.append(test_y[j])#*(MaxValue-MinValue)+MinValue)\\n        Datetest_y31.append(Date1test_y0[j])\\n    print('Datetest_y21',Datetest_y31)\\n    \""
      ]
     },
     "execution_count": 11,
     "metadata": {},
     "output_type": "execute_result"
    },
    {
     "name": "stdout",
     "output_type": "stream",
     "text": [
      "1SplitNum0 7632\n"
     ]
    },
    {
     "data": {
      "application/vnd.jupyter.widget-view+json": {
       "model_id": "cc29e0232bd3459495cbe1069ac47149",
       "version_major": 2,
       "version_minor": 0
      },
      "text/html": [
       "<p>Failed to display Jupyter Widget of type <code>TqdmHBox</code>.</p>\n",
       "<p>\n",
       "  If you're reading this message in the Jupyter Notebook or JupyterLab Notebook, it may mean\n",
       "  that the widgets JavaScript is still loading. If this message persists, it\n",
       "  likely means that the widgets JavaScript library is either not installed or\n",
       "  not enabled. See the <a href=\"https://ipywidgets.readthedocs.io/en/stable/user_install.html\">Jupyter\n",
       "  Widgets Documentation</a> for setup instructions.\n",
       "</p>\n",
       "<p>\n",
       "  If you're reading this message in another frontend (for example, a static\n",
       "  rendering on GitHub or <a href=\"https://nbviewer.jupyter.org/\">NBViewer</a>),\n",
       "  it may mean that your frontend doesn't currently support widgets.\n",
       "</p>\n"
      ],
      "text/plain": [
       "  0%|          | 0/4 [00:00<?, ?it/s]"
      ]
     },
     "metadata": {},
     "output_type": "display_data"
    },
    {
     "name": "stdout",
     "output_type": "stream",
     "text": [
      "00param (1, 1, 0, 0)\n",
      "00param (1, 1, 0, 1)\n",
      "00param (1, 1, 1, 0)\n",
      "00param (1, 1, 1, 1)\n",
      "param (1, 1, 1, 1)\n",
      "model.aic 8438.512523374297\n",
      "result_table               0            1\n",
      "0  (1, 1, 0, 0)  8752.044916\n",
      "1  (1, 1, 0, 1)  8437.098576\n",
      "2  (1, 1, 1, 0)  8603.433060\n",
      "3  (1, 1, 1, 1)  8438.512523\n"
     ]
    },
    {
     "data": {
      "text/plain": [
       "\"\\n    y_predict=plotSARIMA(ads_train, best_model, UPS)\\n    #display(forecast.head(3))\\n    ArimaFS=pd.concat([ArimaFS,y_predict], axis=0, ignore_index=True)#axis:合并方式，默认0表示按列合并，1表示按行合并;ignore_index:是否忽略索引                   \\n    print('len(y_predict)',len(y_predict))\\n    print('len(test_y)',len(test_y))\\n    print('test_y',test_y)\\n    for j in range(y_predict.shape[0]):\\n        print('j',j)\\n        #ForecastSet31.append(y_predict.iloc[j,0])#*(MaxValue-MinValue)+MinValue)\\n        TestSet31.append(test_y[j])#*(MaxValue-MinValue)+MinValue)\\n        Datetest_y31.append(Date1test_y0[j])\\n    print('Datetest_y21',Datetest_y31)\\n    \""
      ]
     },
     "execution_count": 11,
     "metadata": {},
     "output_type": "execute_result"
    },
    {
     "name": "stdout",
     "output_type": "stream",
     "text": [
      "1SplitNum0 7680\n"
     ]
    },
    {
     "data": {
      "application/vnd.jupyter.widget-view+json": {
       "model_id": "ef63f3d1dbc8462aaa73b7c02cf57ddf",
       "version_major": 2,
       "version_minor": 0
      },
      "text/html": [
       "<p>Failed to display Jupyter Widget of type <code>TqdmHBox</code>.</p>\n",
       "<p>\n",
       "  If you're reading this message in the Jupyter Notebook or JupyterLab Notebook, it may mean\n",
       "  that the widgets JavaScript is still loading. If this message persists, it\n",
       "  likely means that the widgets JavaScript library is either not installed or\n",
       "  not enabled. See the <a href=\"https://ipywidgets.readthedocs.io/en/stable/user_install.html\">Jupyter\n",
       "  Widgets Documentation</a> for setup instructions.\n",
       "</p>\n",
       "<p>\n",
       "  If you're reading this message in another frontend (for example, a static\n",
       "  rendering on GitHub or <a href=\"https://nbviewer.jupyter.org/\">NBViewer</a>),\n",
       "  it may mean that your frontend doesn't currently support widgets.\n",
       "</p>\n"
      ],
      "text/plain": [
       "  0%|          | 0/4 [00:00<?, ?it/s]"
      ]
     },
     "metadata": {},
     "output_type": "display_data"
    },
    {
     "name": "stdout",
     "output_type": "stream",
     "text": [
      "00param (1, 1, 0, 0)\n",
      "00param (1, 1, 0, 1)\n",
      "00param (1, 1, 1, 0)\n",
      "00param (1, 1, 1, 1)\n",
      "param (1, 1, 1, 1)\n",
      "model.aic 8488.790345992635\n",
      "result_table               0            1\n",
      "0  (1, 1, 0, 0)  8760.652634\n",
      "1  (1, 1, 0, 1)  8486.790134\n",
      "2  (1, 1, 1, 0)  8624.862922\n",
      "3  (1, 1, 1, 1)  8488.790346\n"
     ]
    },
    {
     "data": {
      "text/plain": [
       "\"\\n    y_predict=plotSARIMA(ads_train, best_model, UPS)\\n    #display(forecast.head(3))\\n    ArimaFS=pd.concat([ArimaFS,y_predict], axis=0, ignore_index=True)#axis:合并方式，默认0表示按列合并，1表示按行合并;ignore_index:是否忽略索引                   \\n    print('len(y_predict)',len(y_predict))\\n    print('len(test_y)',len(test_y))\\n    print('test_y',test_y)\\n    for j in range(y_predict.shape[0]):\\n        print('j',j)\\n        #ForecastSet31.append(y_predict.iloc[j,0])#*(MaxValue-MinValue)+MinValue)\\n        TestSet31.append(test_y[j])#*(MaxValue-MinValue)+MinValue)\\n        Datetest_y31.append(Date1test_y0[j])\\n    print('Datetest_y21',Datetest_y31)\\n    \""
      ]
     },
     "execution_count": 11,
     "metadata": {},
     "output_type": "execute_result"
    },
    {
     "name": "stdout",
     "output_type": "stream",
     "text": [
      "1SplitNum0 7728\n"
     ]
    },
    {
     "data": {
      "application/vnd.jupyter.widget-view+json": {
       "model_id": "80c20cec36864a9cbef9225807cf79e2",
       "version_major": 2,
       "version_minor": 0
      },
      "text/html": [
       "<p>Failed to display Jupyter Widget of type <code>TqdmHBox</code>.</p>\n",
       "<p>\n",
       "  If you're reading this message in the Jupyter Notebook or JupyterLab Notebook, it may mean\n",
       "  that the widgets JavaScript is still loading. If this message persists, it\n",
       "  likely means that the widgets JavaScript library is either not installed or\n",
       "  not enabled. See the <a href=\"https://ipywidgets.readthedocs.io/en/stable/user_install.html\">Jupyter\n",
       "  Widgets Documentation</a> for setup instructions.\n",
       "</p>\n",
       "<p>\n",
       "  If you're reading this message in another frontend (for example, a static\n",
       "  rendering on GitHub or <a href=\"https://nbviewer.jupyter.org/\">NBViewer</a>),\n",
       "  it may mean that your frontend doesn't currently support widgets.\n",
       "</p>\n"
      ],
      "text/plain": [
       "  0%|          | 0/4 [00:00<?, ?it/s]"
      ]
     },
     "metadata": {},
     "output_type": "display_data"
    },
    {
     "name": "stdout",
     "output_type": "stream",
     "text": [
      "00param (1, 1, 0, 0)\n",
      "00param (1, 1, 0, 1)\n",
      "00param (1, 1, 1, 0)\n",
      "00param (1, 1, 1, 1)\n",
      "param (1, 1, 1, 1)\n",
      "model.aic 8487.891784016907\n",
      "result_table               0            1\n",
      "0  (1, 1, 0, 0)  8794.361814\n",
      "1  (1, 1, 0, 1)  8485.906588\n",
      "2  (1, 1, 1, 0)  8648.149458\n",
      "3  (1, 1, 1, 1)  8487.891784\n"
     ]
    },
    {
     "data": {
      "text/plain": [
       "\"\\n    y_predict=plotSARIMA(ads_train, best_model, UPS)\\n    #display(forecast.head(3))\\n    ArimaFS=pd.concat([ArimaFS,y_predict], axis=0, ignore_index=True)#axis:合并方式，默认0表示按列合并，1表示按行合并;ignore_index:是否忽略索引                   \\n    print('len(y_predict)',len(y_predict))\\n    print('len(test_y)',len(test_y))\\n    print('test_y',test_y)\\n    for j in range(y_predict.shape[0]):\\n        print('j',j)\\n        #ForecastSet31.append(y_predict.iloc[j,0])#*(MaxValue-MinValue)+MinValue)\\n        TestSet31.append(test_y[j])#*(MaxValue-MinValue)+MinValue)\\n        Datetest_y31.append(Date1test_y0[j])\\n    print('Datetest_y21',Datetest_y31)\\n    \""
      ]
     },
     "execution_count": 11,
     "metadata": {},
     "output_type": "execute_result"
    },
    {
     "name": "stdout",
     "output_type": "stream",
     "text": [
      "1SplitNum0 7776\n"
     ]
    },
    {
     "data": {
      "application/vnd.jupyter.widget-view+json": {
       "model_id": "47c397c4e7d54c0ab2561e28fcb36f4c",
       "version_major": 2,
       "version_minor": 0
      },
      "text/html": [
       "<p>Failed to display Jupyter Widget of type <code>TqdmHBox</code>.</p>\n",
       "<p>\n",
       "  If you're reading this message in the Jupyter Notebook or JupyterLab Notebook, it may mean\n",
       "  that the widgets JavaScript is still loading. If this message persists, it\n",
       "  likely means that the widgets JavaScript library is either not installed or\n",
       "  not enabled. See the <a href=\"https://ipywidgets.readthedocs.io/en/stable/user_install.html\">Jupyter\n",
       "  Widgets Documentation</a> for setup instructions.\n",
       "</p>\n",
       "<p>\n",
       "  If you're reading this message in another frontend (for example, a static\n",
       "  rendering on GitHub or <a href=\"https://nbviewer.jupyter.org/\">NBViewer</a>),\n",
       "  it may mean that your frontend doesn't currently support widgets.\n",
       "</p>\n"
      ],
      "text/plain": [
       "  0%|          | 0/4 [00:00<?, ?it/s]"
      ]
     },
     "metadata": {},
     "output_type": "display_data"
    },
    {
     "name": "stdout",
     "output_type": "stream",
     "text": [
      "00param (1, 1, 0, 0)\n",
      "00param (1, 1, 0, 1)\n",
      "00param (1, 1, 1, 0)\n",
      "00param (1, 1, 1, 1)\n",
      "param (1, 1, 1, 1)\n",
      "model.aic 8493.373935580154\n",
      "result_table               0            1\n",
      "0  (1, 1, 0, 0)  8802.534830\n",
      "1  (1, 1, 0, 1)  8491.385618\n",
      "2  (1, 1, 1, 0)  8670.925498\n",
      "3  (1, 1, 1, 1)  8493.373936\n"
     ]
    },
    {
     "data": {
      "text/plain": [
       "\"\\n    y_predict=plotSARIMA(ads_train, best_model, UPS)\\n    #display(forecast.head(3))\\n    ArimaFS=pd.concat([ArimaFS,y_predict], axis=0, ignore_index=True)#axis:合并方式，默认0表示按列合并，1表示按行合并;ignore_index:是否忽略索引                   \\n    print('len(y_predict)',len(y_predict))\\n    print('len(test_y)',len(test_y))\\n    print('test_y',test_y)\\n    for j in range(y_predict.shape[0]):\\n        print('j',j)\\n        #ForecastSet31.append(y_predict.iloc[j,0])#*(MaxValue-MinValue)+MinValue)\\n        TestSet31.append(test_y[j])#*(MaxValue-MinValue)+MinValue)\\n        Datetest_y31.append(Date1test_y0[j])\\n    print('Datetest_y21',Datetest_y31)\\n    \""
      ]
     },
     "execution_count": 11,
     "metadata": {},
     "output_type": "execute_result"
    },
    {
     "name": "stdout",
     "output_type": "stream",
     "text": [
      "1SplitNum0 7824\n"
     ]
    },
    {
     "data": {
      "application/vnd.jupyter.widget-view+json": {
       "model_id": "03fbce247d6e4144ab46f7c390c99a2b",
       "version_major": 2,
       "version_minor": 0
      },
      "text/html": [
       "<p>Failed to display Jupyter Widget of type <code>TqdmHBox</code>.</p>\n",
       "<p>\n",
       "  If you're reading this message in the Jupyter Notebook or JupyterLab Notebook, it may mean\n",
       "  that the widgets JavaScript is still loading. If this message persists, it\n",
       "  likely means that the widgets JavaScript library is either not installed or\n",
       "  not enabled. See the <a href=\"https://ipywidgets.readthedocs.io/en/stable/user_install.html\">Jupyter\n",
       "  Widgets Documentation</a> for setup instructions.\n",
       "</p>\n",
       "<p>\n",
       "  If you're reading this message in another frontend (for example, a static\n",
       "  rendering on GitHub or <a href=\"https://nbviewer.jupyter.org/\">NBViewer</a>),\n",
       "  it may mean that your frontend doesn't currently support widgets.\n",
       "</p>\n"
      ],
      "text/plain": [
       "  0%|          | 0/4 [00:00<?, ?it/s]"
      ]
     },
     "metadata": {},
     "output_type": "display_data"
    },
    {
     "name": "stdout",
     "output_type": "stream",
     "text": [
      "00param (1, 1, 0, 0)\n",
      "00param (1, 1, 0, 1)\n",
      "00param (1, 1, 1, 0)\n",
      "00param (1, 1, 1, 1)\n",
      "param (1, 1, 1, 1)\n",
      "model.aic 8492.347400637706\n",
      "result_table               0            1\n",
      "0  (1, 1, 0, 0)  8803.925881\n",
      "1  (1, 1, 0, 1)  8490.349452\n",
      "2  (1, 1, 1, 0)  8673.590809\n",
      "3  (1, 1, 1, 1)  8492.347401\n"
     ]
    },
    {
     "data": {
      "text/plain": [
       "\"\\n    y_predict=plotSARIMA(ads_train, best_model, UPS)\\n    #display(forecast.head(3))\\n    ArimaFS=pd.concat([ArimaFS,y_predict], axis=0, ignore_index=True)#axis:合并方式，默认0表示按列合并，1表示按行合并;ignore_index:是否忽略索引                   \\n    print('len(y_predict)',len(y_predict))\\n    print('len(test_y)',len(test_y))\\n    print('test_y',test_y)\\n    for j in range(y_predict.shape[0]):\\n        print('j',j)\\n        #ForecastSet31.append(y_predict.iloc[j,0])#*(MaxValue-MinValue)+MinValue)\\n        TestSet31.append(test_y[j])#*(MaxValue-MinValue)+MinValue)\\n        Datetest_y31.append(Date1test_y0[j])\\n    print('Datetest_y21',Datetest_y31)\\n    \""
      ]
     },
     "execution_count": 11,
     "metadata": {},
     "output_type": "execute_result"
    },
    {
     "name": "stdout",
     "output_type": "stream",
     "text": [
      "1SplitNum0 7872\n"
     ]
    },
    {
     "data": {
      "application/vnd.jupyter.widget-view+json": {
       "model_id": "016c1951d3804a42870093449796852a",
       "version_major": 2,
       "version_minor": 0
      },
      "text/html": [
       "<p>Failed to display Jupyter Widget of type <code>TqdmHBox</code>.</p>\n",
       "<p>\n",
       "  If you're reading this message in the Jupyter Notebook or JupyterLab Notebook, it may mean\n",
       "  that the widgets JavaScript is still loading. If this message persists, it\n",
       "  likely means that the widgets JavaScript library is either not installed or\n",
       "  not enabled. See the <a href=\"https://ipywidgets.readthedocs.io/en/stable/user_install.html\">Jupyter\n",
       "  Widgets Documentation</a> for setup instructions.\n",
       "</p>\n",
       "<p>\n",
       "  If you're reading this message in another frontend (for example, a static\n",
       "  rendering on GitHub or <a href=\"https://nbviewer.jupyter.org/\">NBViewer</a>),\n",
       "  it may mean that your frontend doesn't currently support widgets.\n",
       "</p>\n"
      ],
      "text/plain": [
       "  0%|          | 0/4 [00:00<?, ?it/s]"
      ]
     },
     "metadata": {},
     "output_type": "display_data"
    },
    {
     "name": "stdout",
     "output_type": "stream",
     "text": [
      "00param (1, 1, 0, 0)\n",
      "00param (1, 1, 0, 1)\n",
      "00param (1, 1, 1, 0)\n",
      "00param (1, 1, 1, 1)\n",
      "param (1, 1, 1, 1)\n",
      "model.aic 8493.74479946433\n",
      "result_table               0            1\n",
      "0  (1, 1, 0, 0)  8812.933283\n",
      "1  (1, 1, 0, 1)  8491.798542\n",
      "2  (1, 1, 1, 0)  8664.295226\n",
      "3  (1, 1, 1, 1)  8493.744799\n"
     ]
    },
    {
     "data": {
      "text/plain": [
       "\"\\n    y_predict=plotSARIMA(ads_train, best_model, UPS)\\n    #display(forecast.head(3))\\n    ArimaFS=pd.concat([ArimaFS,y_predict], axis=0, ignore_index=True)#axis:合并方式，默认0表示按列合并，1表示按行合并;ignore_index:是否忽略索引                   \\n    print('len(y_predict)',len(y_predict))\\n    print('len(test_y)',len(test_y))\\n    print('test_y',test_y)\\n    for j in range(y_predict.shape[0]):\\n        print('j',j)\\n        #ForecastSet31.append(y_predict.iloc[j,0])#*(MaxValue-MinValue)+MinValue)\\n        TestSet31.append(test_y[j])#*(MaxValue-MinValue)+MinValue)\\n        Datetest_y31.append(Date1test_y0[j])\\n    print('Datetest_y21',Datetest_y31)\\n    \""
      ]
     },
     "execution_count": 11,
     "metadata": {},
     "output_type": "execute_result"
    },
    {
     "name": "stdout",
     "output_type": "stream",
     "text": [
      "1SplitNum0 7920\n"
     ]
    },
    {
     "data": {
      "application/vnd.jupyter.widget-view+json": {
       "model_id": "66cc4ab63c014f46b3cff93c11dcf575",
       "version_major": 2,
       "version_minor": 0
      },
      "text/html": [
       "<p>Failed to display Jupyter Widget of type <code>TqdmHBox</code>.</p>\n",
       "<p>\n",
       "  If you're reading this message in the Jupyter Notebook or JupyterLab Notebook, it may mean\n",
       "  that the widgets JavaScript is still loading. If this message persists, it\n",
       "  likely means that the widgets JavaScript library is either not installed or\n",
       "  not enabled. See the <a href=\"https://ipywidgets.readthedocs.io/en/stable/user_install.html\">Jupyter\n",
       "  Widgets Documentation</a> for setup instructions.\n",
       "</p>\n",
       "<p>\n",
       "  If you're reading this message in another frontend (for example, a static\n",
       "  rendering on GitHub or <a href=\"https://nbviewer.jupyter.org/\">NBViewer</a>),\n",
       "  it may mean that your frontend doesn't currently support widgets.\n",
       "</p>\n"
      ],
      "text/plain": [
       "  0%|          | 0/4 [00:00<?, ?it/s]"
      ]
     },
     "metadata": {},
     "output_type": "display_data"
    },
    {
     "name": "stdout",
     "output_type": "stream",
     "text": [
      "00param (1, 1, 0, 0)\n",
      "00param (1, 1, 0, 1)\n",
      "00param (1, 1, 1, 0)\n",
      "00param (1, 1, 1, 1)\n",
      "param (1, 1, 1, 1)\n",
      "model.aic 8514.517311313075\n",
      "result_table               0            1\n",
      "0  (1, 1, 0, 0)  8826.851709\n",
      "1  (1, 1, 0, 1)  8513.020868\n",
      "2  (1, 1, 1, 0)  8662.072619\n",
      "3  (1, 1, 1, 1)  8514.517311\n"
     ]
    },
    {
     "data": {
      "text/plain": [
       "\"\\n    y_predict=plotSARIMA(ads_train, best_model, UPS)\\n    #display(forecast.head(3))\\n    ArimaFS=pd.concat([ArimaFS,y_predict], axis=0, ignore_index=True)#axis:合并方式，默认0表示按列合并，1表示按行合并;ignore_index:是否忽略索引                   \\n    print('len(y_predict)',len(y_predict))\\n    print('len(test_y)',len(test_y))\\n    print('test_y',test_y)\\n    for j in range(y_predict.shape[0]):\\n        print('j',j)\\n        #ForecastSet31.append(y_predict.iloc[j,0])#*(MaxValue-MinValue)+MinValue)\\n        TestSet31.append(test_y[j])#*(MaxValue-MinValue)+MinValue)\\n        Datetest_y31.append(Date1test_y0[j])\\n    print('Datetest_y21',Datetest_y31)\\n    \""
      ]
     },
     "execution_count": 11,
     "metadata": {},
     "output_type": "execute_result"
    },
    {
     "name": "stdout",
     "output_type": "stream",
     "text": [
      "1SplitNum0 7968\n"
     ]
    },
    {
     "data": {
      "application/vnd.jupyter.widget-view+json": {
       "model_id": "b879309caf934387ac084419b3c9c5a2",
       "version_major": 2,
       "version_minor": 0
      },
      "text/html": [
       "<p>Failed to display Jupyter Widget of type <code>TqdmHBox</code>.</p>\n",
       "<p>\n",
       "  If you're reading this message in the Jupyter Notebook or JupyterLab Notebook, it may mean\n",
       "  that the widgets JavaScript is still loading. If this message persists, it\n",
       "  likely means that the widgets JavaScript library is either not installed or\n",
       "  not enabled. See the <a href=\"https://ipywidgets.readthedocs.io/en/stable/user_install.html\">Jupyter\n",
       "  Widgets Documentation</a> for setup instructions.\n",
       "</p>\n",
       "<p>\n",
       "  If you're reading this message in another frontend (for example, a static\n",
       "  rendering on GitHub or <a href=\"https://nbviewer.jupyter.org/\">NBViewer</a>),\n",
       "  it may mean that your frontend doesn't currently support widgets.\n",
       "</p>\n"
      ],
      "text/plain": [
       "  0%|          | 0/4 [00:00<?, ?it/s]"
      ]
     },
     "metadata": {},
     "output_type": "display_data"
    },
    {
     "name": "stdout",
     "output_type": "stream",
     "text": [
      "00param (1, 1, 0, 0)\n",
      "00param (1, 1, 0, 1)\n",
      "00param (1, 1, 1, 0)\n",
      "00param (1, 1, 1, 1)\n",
      "param (1, 1, 1, 1)\n",
      "model.aic 8512.669102960543\n",
      "result_table               0            1\n",
      "0  (1, 1, 0, 0)  8788.165190\n",
      "1  (1, 1, 0, 1)  8510.864981\n",
      "2  (1, 1, 1, 0)  8641.348896\n",
      "3  (1, 1, 1, 1)  8512.669103\n"
     ]
    },
    {
     "data": {
      "text/plain": [
       "\"\\n    y_predict=plotSARIMA(ads_train, best_model, UPS)\\n    #display(forecast.head(3))\\n    ArimaFS=pd.concat([ArimaFS,y_predict], axis=0, ignore_index=True)#axis:合并方式，默认0表示按列合并，1表示按行合并;ignore_index:是否忽略索引                   \\n    print('len(y_predict)',len(y_predict))\\n    print('len(test_y)',len(test_y))\\n    print('test_y',test_y)\\n    for j in range(y_predict.shape[0]):\\n        print('j',j)\\n        #ForecastSet31.append(y_predict.iloc[j,0])#*(MaxValue-MinValue)+MinValue)\\n        TestSet31.append(test_y[j])#*(MaxValue-MinValue)+MinValue)\\n        Datetest_y31.append(Date1test_y0[j])\\n    print('Datetest_y21',Datetest_y31)\\n    \""
      ]
     },
     "execution_count": 11,
     "metadata": {},
     "output_type": "execute_result"
    },
    {
     "name": "stdout",
     "output_type": "stream",
     "text": [
      "1SplitNum0 8016\n"
     ]
    },
    {
     "data": {
      "application/vnd.jupyter.widget-view+json": {
       "model_id": "2120a936db5e45a7af748a71514f21e1",
       "version_major": 2,
       "version_minor": 0
      },
      "text/html": [
       "<p>Failed to display Jupyter Widget of type <code>TqdmHBox</code>.</p>\n",
       "<p>\n",
       "  If you're reading this message in the Jupyter Notebook or JupyterLab Notebook, it may mean\n",
       "  that the widgets JavaScript is still loading. If this message persists, it\n",
       "  likely means that the widgets JavaScript library is either not installed or\n",
       "  not enabled. See the <a href=\"https://ipywidgets.readthedocs.io/en/stable/user_install.html\">Jupyter\n",
       "  Widgets Documentation</a> for setup instructions.\n",
       "</p>\n",
       "<p>\n",
       "  If you're reading this message in another frontend (for example, a static\n",
       "  rendering on GitHub or <a href=\"https://nbviewer.jupyter.org/\">NBViewer</a>),\n",
       "  it may mean that your frontend doesn't currently support widgets.\n",
       "</p>\n"
      ],
      "text/plain": [
       "  0%|          | 0/4 [00:00<?, ?it/s]"
      ]
     },
     "metadata": {},
     "output_type": "display_data"
    },
    {
     "name": "stdout",
     "output_type": "stream",
     "text": [
      "00param (1, 1, 0, 0)\n",
      "00param (1, 1, 0, 1)\n",
      "00param (1, 1, 1, 0)\n",
      "00param (1, 1, 1, 1)\n",
      "param (1, 1, 1, 1)\n",
      "model.aic 8501.678494633492\n",
      "result_table               0            1\n",
      "0  (1, 1, 0, 0)  8779.718750\n",
      "1  (1, 1, 0, 1)  8499.680727\n",
      "2  (1, 1, 1, 0)  8637.580061\n",
      "3  (1, 1, 1, 1)  8501.678495\n"
     ]
    },
    {
     "data": {
      "text/plain": [
       "\"\\n    y_predict=plotSARIMA(ads_train, best_model, UPS)\\n    #display(forecast.head(3))\\n    ArimaFS=pd.concat([ArimaFS,y_predict], axis=0, ignore_index=True)#axis:合并方式，默认0表示按列合并，1表示按行合并;ignore_index:是否忽略索引                   \\n    print('len(y_predict)',len(y_predict))\\n    print('len(test_y)',len(test_y))\\n    print('test_y',test_y)\\n    for j in range(y_predict.shape[0]):\\n        print('j',j)\\n        #ForecastSet31.append(y_predict.iloc[j,0])#*(MaxValue-MinValue)+MinValue)\\n        TestSet31.append(test_y[j])#*(MaxValue-MinValue)+MinValue)\\n        Datetest_y31.append(Date1test_y0[j])\\n    print('Datetest_y21',Datetest_y31)\\n    \""
      ]
     },
     "execution_count": 11,
     "metadata": {},
     "output_type": "execute_result"
    },
    {
     "name": "stdout",
     "output_type": "stream",
     "text": [
      "1SplitNum0 8064\n"
     ]
    },
    {
     "data": {
      "application/vnd.jupyter.widget-view+json": {
       "model_id": "400722706569457ba6291789f937bb0c",
       "version_major": 2,
       "version_minor": 0
      },
      "text/html": [
       "<p>Failed to display Jupyter Widget of type <code>TqdmHBox</code>.</p>\n",
       "<p>\n",
       "  If you're reading this message in the Jupyter Notebook or JupyterLab Notebook, it may mean\n",
       "  that the widgets JavaScript is still loading. If this message persists, it\n",
       "  likely means that the widgets JavaScript library is either not installed or\n",
       "  not enabled. See the <a href=\"https://ipywidgets.readthedocs.io/en/stable/user_install.html\">Jupyter\n",
       "  Widgets Documentation</a> for setup instructions.\n",
       "</p>\n",
       "<p>\n",
       "  If you're reading this message in another frontend (for example, a static\n",
       "  rendering on GitHub or <a href=\"https://nbviewer.jupyter.org/\">NBViewer</a>),\n",
       "  it may mean that your frontend doesn't currently support widgets.\n",
       "</p>\n"
      ],
      "text/plain": [
       "  0%|          | 0/4 [00:00<?, ?it/s]"
      ]
     },
     "metadata": {},
     "output_type": "display_data"
    },
    {
     "name": "stdout",
     "output_type": "stream",
     "text": [
      "00param (1, 1, 0, 0)\n",
      "00param (1, 1, 0, 1)\n",
      "00param (1, 1, 1, 0)\n",
      "00param (1, 1, 1, 1)\n",
      "param (1, 1, 1, 1)\n",
      "model.aic 8485.98751682722\n",
      "result_table               0            1\n",
      "0  (1, 1, 0, 0)  8776.051941\n",
      "1  (1, 1, 0, 1)  8484.048636\n",
      "2  (1, 1, 1, 0)  8622.215059\n",
      "3  (1, 1, 1, 1)  8485.987517\n"
     ]
    },
    {
     "data": {
      "text/plain": [
       "\"\\n    y_predict=plotSARIMA(ads_train, best_model, UPS)\\n    #display(forecast.head(3))\\n    ArimaFS=pd.concat([ArimaFS,y_predict], axis=0, ignore_index=True)#axis:合并方式，默认0表示按列合并，1表示按行合并;ignore_index:是否忽略索引                   \\n    print('len(y_predict)',len(y_predict))\\n    print('len(test_y)',len(test_y))\\n    print('test_y',test_y)\\n    for j in range(y_predict.shape[0]):\\n        print('j',j)\\n        #ForecastSet31.append(y_predict.iloc[j,0])#*(MaxValue-MinValue)+MinValue)\\n        TestSet31.append(test_y[j])#*(MaxValue-MinValue)+MinValue)\\n        Datetest_y31.append(Date1test_y0[j])\\n    print('Datetest_y21',Datetest_y31)\\n    \""
      ]
     },
     "execution_count": 11,
     "metadata": {},
     "output_type": "execute_result"
    },
    {
     "name": "stdout",
     "output_type": "stream",
     "text": [
      "1SplitNum0 8112\n"
     ]
    },
    {
     "data": {
      "application/vnd.jupyter.widget-view+json": {
       "model_id": "429a8b3d84b04cf2a32c0b7f078c205c",
       "version_major": 2,
       "version_minor": 0
      },
      "text/html": [
       "<p>Failed to display Jupyter Widget of type <code>TqdmHBox</code>.</p>\n",
       "<p>\n",
       "  If you're reading this message in the Jupyter Notebook or JupyterLab Notebook, it may mean\n",
       "  that the widgets JavaScript is still loading. If this message persists, it\n",
       "  likely means that the widgets JavaScript library is either not installed or\n",
       "  not enabled. See the <a href=\"https://ipywidgets.readthedocs.io/en/stable/user_install.html\">Jupyter\n",
       "  Widgets Documentation</a> for setup instructions.\n",
       "</p>\n",
       "<p>\n",
       "  If you're reading this message in another frontend (for example, a static\n",
       "  rendering on GitHub or <a href=\"https://nbviewer.jupyter.org/\">NBViewer</a>),\n",
       "  it may mean that your frontend doesn't currently support widgets.\n",
       "</p>\n"
      ],
      "text/plain": [
       "  0%|          | 0/4 [00:00<?, ?it/s]"
      ]
     },
     "metadata": {},
     "output_type": "display_data"
    },
    {
     "name": "stdout",
     "output_type": "stream",
     "text": [
      "00param (1, 1, 0, 0)\n",
      "00param (1, 1, 0, 1)\n",
      "00param (1, 1, 1, 0)\n",
      "00param (1, 1, 1, 1)\n",
      "param (1, 1, 1, 1)\n",
      "model.aic 8488.767826509189\n",
      "result_table               0            1\n",
      "0  (1, 1, 0, 0)  8776.498828\n",
      "1  (1, 1, 0, 1)  8487.303618\n",
      "2  (1, 1, 1, 0)  8638.197418\n",
      "3  (1, 1, 1, 1)  8488.767827\n"
     ]
    },
    {
     "data": {
      "text/plain": [
       "\"\\n    y_predict=plotSARIMA(ads_train, best_model, UPS)\\n    #display(forecast.head(3))\\n    ArimaFS=pd.concat([ArimaFS,y_predict], axis=0, ignore_index=True)#axis:合并方式，默认0表示按列合并，1表示按行合并;ignore_index:是否忽略索引                   \\n    print('len(y_predict)',len(y_predict))\\n    print('len(test_y)',len(test_y))\\n    print('test_y',test_y)\\n    for j in range(y_predict.shape[0]):\\n        print('j',j)\\n        #ForecastSet31.append(y_predict.iloc[j,0])#*(MaxValue-MinValue)+MinValue)\\n        TestSet31.append(test_y[j])#*(MaxValue-MinValue)+MinValue)\\n        Datetest_y31.append(Date1test_y0[j])\\n    print('Datetest_y21',Datetest_y31)\\n    \""
      ]
     },
     "execution_count": 11,
     "metadata": {},
     "output_type": "execute_result"
    },
    {
     "name": "stdout",
     "output_type": "stream",
     "text": [
      "1SplitNum0 8160\n"
     ]
    },
    {
     "data": {
      "application/vnd.jupyter.widget-view+json": {
       "model_id": "dc2649a120704819a91265e9a62a72da",
       "version_major": 2,
       "version_minor": 0
      },
      "text/html": [
       "<p>Failed to display Jupyter Widget of type <code>TqdmHBox</code>.</p>\n",
       "<p>\n",
       "  If you're reading this message in the Jupyter Notebook or JupyterLab Notebook, it may mean\n",
       "  that the widgets JavaScript is still loading. If this message persists, it\n",
       "  likely means that the widgets JavaScript library is either not installed or\n",
       "  not enabled. See the <a href=\"https://ipywidgets.readthedocs.io/en/stable/user_install.html\">Jupyter\n",
       "  Widgets Documentation</a> for setup instructions.\n",
       "</p>\n",
       "<p>\n",
       "  If you're reading this message in another frontend (for example, a static\n",
       "  rendering on GitHub or <a href=\"https://nbviewer.jupyter.org/\">NBViewer</a>),\n",
       "  it may mean that your frontend doesn't currently support widgets.\n",
       "</p>\n"
      ],
      "text/plain": [
       "  0%|          | 0/4 [00:00<?, ?it/s]"
      ]
     },
     "metadata": {},
     "output_type": "display_data"
    },
    {
     "name": "stdout",
     "output_type": "stream",
     "text": [
      "00param (1, 1, 0, 0)\n",
      "00param (1, 1, 0, 1)\n",
      "00param (1, 1, 1, 0)\n",
      "00param (1, 1, 1, 1)\n",
      "param (1, 1, 1, 1)\n",
      "model.aic 8478.365051722994\n",
      "result_table               0            1\n",
      "0  (1, 1, 0, 0)  8780.926036\n",
      "1  (1, 1, 0, 1)  8476.548511\n",
      "2  (1, 1, 1, 0)  8636.128691\n",
      "3  (1, 1, 1, 1)  8478.365052\n"
     ]
    },
    {
     "data": {
      "text/plain": [
       "\"\\n    y_predict=plotSARIMA(ads_train, best_model, UPS)\\n    #display(forecast.head(3))\\n    ArimaFS=pd.concat([ArimaFS,y_predict], axis=0, ignore_index=True)#axis:合并方式，默认0表示按列合并，1表示按行合并;ignore_index:是否忽略索引                   \\n    print('len(y_predict)',len(y_predict))\\n    print('len(test_y)',len(test_y))\\n    print('test_y',test_y)\\n    for j in range(y_predict.shape[0]):\\n        print('j',j)\\n        #ForecastSet31.append(y_predict.iloc[j,0])#*(MaxValue-MinValue)+MinValue)\\n        TestSet31.append(test_y[j])#*(MaxValue-MinValue)+MinValue)\\n        Datetest_y31.append(Date1test_y0[j])\\n    print('Datetest_y21',Datetest_y31)\\n    \""
      ]
     },
     "execution_count": 11,
     "metadata": {},
     "output_type": "execute_result"
    },
    {
     "name": "stdout",
     "output_type": "stream",
     "text": [
      "1SplitNum0 8208\n"
     ]
    },
    {
     "data": {
      "application/vnd.jupyter.widget-view+json": {
       "model_id": "e512669635584eaaa84461cc35beee53",
       "version_major": 2,
       "version_minor": 0
      },
      "text/html": [
       "<p>Failed to display Jupyter Widget of type <code>TqdmHBox</code>.</p>\n",
       "<p>\n",
       "  If you're reading this message in the Jupyter Notebook or JupyterLab Notebook, it may mean\n",
       "  that the widgets JavaScript is still loading. If this message persists, it\n",
       "  likely means that the widgets JavaScript library is either not installed or\n",
       "  not enabled. See the <a href=\"https://ipywidgets.readthedocs.io/en/stable/user_install.html\">Jupyter\n",
       "  Widgets Documentation</a> for setup instructions.\n",
       "</p>\n",
       "<p>\n",
       "  If you're reading this message in another frontend (for example, a static\n",
       "  rendering on GitHub or <a href=\"https://nbviewer.jupyter.org/\">NBViewer</a>),\n",
       "  it may mean that your frontend doesn't currently support widgets.\n",
       "</p>\n"
      ],
      "text/plain": [
       "  0%|          | 0/4 [00:00<?, ?it/s]"
      ]
     },
     "metadata": {},
     "output_type": "display_data"
    },
    {
     "name": "stdout",
     "output_type": "stream",
     "text": [
      "00param (1, 1, 0, 0)\n",
      "00param (1, 1, 0, 1)\n",
      "00param (1, 1, 1, 0)\n",
      "00param (1, 1, 1, 1)\n",
      "param (1, 1, 1, 1)\n",
      "model.aic 8486.326954590808\n",
      "result_table               0            1\n",
      "0  (1, 1, 0, 0)  8794.471383\n",
      "1  (1, 1, 0, 1)  8484.351020\n",
      "2  (1, 1, 1, 0)  8643.688734\n",
      "3  (1, 1, 1, 1)  8486.326955\n"
     ]
    },
    {
     "data": {
      "text/plain": [
       "\"\\n    y_predict=plotSARIMA(ads_train, best_model, UPS)\\n    #display(forecast.head(3))\\n    ArimaFS=pd.concat([ArimaFS,y_predict], axis=0, ignore_index=True)#axis:合并方式，默认0表示按列合并，1表示按行合并;ignore_index:是否忽略索引                   \\n    print('len(y_predict)',len(y_predict))\\n    print('len(test_y)',len(test_y))\\n    print('test_y',test_y)\\n    for j in range(y_predict.shape[0]):\\n        print('j',j)\\n        #ForecastSet31.append(y_predict.iloc[j,0])#*(MaxValue-MinValue)+MinValue)\\n        TestSet31.append(test_y[j])#*(MaxValue-MinValue)+MinValue)\\n        Datetest_y31.append(Date1test_y0[j])\\n    print('Datetest_y21',Datetest_y31)\\n    \""
      ]
     },
     "execution_count": 11,
     "metadata": {},
     "output_type": "execute_result"
    },
    {
     "name": "stdout",
     "output_type": "stream",
     "text": [
      "1SplitNum0 8256\n"
     ]
    },
    {
     "data": {
      "application/vnd.jupyter.widget-view+json": {
       "model_id": "0f0cd5ab81124dc58c627c9e8f916577",
       "version_major": 2,
       "version_minor": 0
      },
      "text/html": [
       "<p>Failed to display Jupyter Widget of type <code>TqdmHBox</code>.</p>\n",
       "<p>\n",
       "  If you're reading this message in the Jupyter Notebook or JupyterLab Notebook, it may mean\n",
       "  that the widgets JavaScript is still loading. If this message persists, it\n",
       "  likely means that the widgets JavaScript library is either not installed or\n",
       "  not enabled. See the <a href=\"https://ipywidgets.readthedocs.io/en/stable/user_install.html\">Jupyter\n",
       "  Widgets Documentation</a> for setup instructions.\n",
       "</p>\n",
       "<p>\n",
       "  If you're reading this message in another frontend (for example, a static\n",
       "  rendering on GitHub or <a href=\"https://nbviewer.jupyter.org/\">NBViewer</a>),\n",
       "  it may mean that your frontend doesn't currently support widgets.\n",
       "</p>\n"
      ],
      "text/plain": [
       "  0%|          | 0/4 [00:00<?, ?it/s]"
      ]
     },
     "metadata": {},
     "output_type": "display_data"
    },
    {
     "name": "stdout",
     "output_type": "stream",
     "text": [
      "00param (1, 1, 0, 0)\n",
      "00param (1, 1, 0, 1)\n",
      "00param (1, 1, 1, 0)\n",
      "00param (1, 1, 1, 1)\n",
      "param (1, 1, 1, 1)\n",
      "model.aic 8491.592272770918\n",
      "result_table               0            1\n",
      "0  (1, 1, 0, 0)  8795.454874\n",
      "1  (1, 1, 0, 1)  8491.872999\n",
      "2  (1, 1, 1, 0)  8618.722912\n",
      "3  (1, 1, 1, 1)  8491.592273\n"
     ]
    },
    {
     "data": {
      "text/plain": [
       "\"\\n    y_predict=plotSARIMA(ads_train, best_model, UPS)\\n    #display(forecast.head(3))\\n    ArimaFS=pd.concat([ArimaFS,y_predict], axis=0, ignore_index=True)#axis:合并方式，默认0表示按列合并，1表示按行合并;ignore_index:是否忽略索引                   \\n    print('len(y_predict)',len(y_predict))\\n    print('len(test_y)',len(test_y))\\n    print('test_y',test_y)\\n    for j in range(y_predict.shape[0]):\\n        print('j',j)\\n        #ForecastSet31.append(y_predict.iloc[j,0])#*(MaxValue-MinValue)+MinValue)\\n        TestSet31.append(test_y[j])#*(MaxValue-MinValue)+MinValue)\\n        Datetest_y31.append(Date1test_y0[j])\\n    print('Datetest_y21',Datetest_y31)\\n    \""
      ]
     },
     "execution_count": 11,
     "metadata": {},
     "output_type": "execute_result"
    },
    {
     "name": "stdout",
     "output_type": "stream",
     "text": [
      "1SplitNum0 8304\n"
     ]
    },
    {
     "data": {
      "application/vnd.jupyter.widget-view+json": {
       "model_id": "6bef321cb875444892b39f2b2eb7539e",
       "version_major": 2,
       "version_minor": 0
      },
      "text/html": [
       "<p>Failed to display Jupyter Widget of type <code>TqdmHBox</code>.</p>\n",
       "<p>\n",
       "  If you're reading this message in the Jupyter Notebook or JupyterLab Notebook, it may mean\n",
       "  that the widgets JavaScript is still loading. If this message persists, it\n",
       "  likely means that the widgets JavaScript library is either not installed or\n",
       "  not enabled. See the <a href=\"https://ipywidgets.readthedocs.io/en/stable/user_install.html\">Jupyter\n",
       "  Widgets Documentation</a> for setup instructions.\n",
       "</p>\n",
       "<p>\n",
       "  If you're reading this message in another frontend (for example, a static\n",
       "  rendering on GitHub or <a href=\"https://nbviewer.jupyter.org/\">NBViewer</a>),\n",
       "  it may mean that your frontend doesn't currently support widgets.\n",
       "</p>\n"
      ],
      "text/plain": [
       "  0%|          | 0/4 [00:00<?, ?it/s]"
      ]
     },
     "metadata": {},
     "output_type": "display_data"
    },
    {
     "name": "stdout",
     "output_type": "stream",
     "text": [
      "00param (1, 1, 0, 0)\n",
      "00param (1, 1, 0, 1)\n",
      "00param (1, 1, 1, 0)\n",
      "00param (1, 1, 1, 1)\n",
      "param (1, 1, 1, 1)\n",
      "model.aic 8513.54922202028\n",
      "result_table               0            1\n",
      "0  (1, 1, 0, 0)  8762.649109\n",
      "1  (1, 1, 0, 1)  8511.887989\n",
      "2  (1, 1, 1, 0)  8613.099707\n",
      "3  (1, 1, 1, 1)  8513.549222\n"
     ]
    },
    {
     "data": {
      "text/plain": [
       "\"\\n    y_predict=plotSARIMA(ads_train, best_model, UPS)\\n    #display(forecast.head(3))\\n    ArimaFS=pd.concat([ArimaFS,y_predict], axis=0, ignore_index=True)#axis:合并方式，默认0表示按列合并，1表示按行合并;ignore_index:是否忽略索引                   \\n    print('len(y_predict)',len(y_predict))\\n    print('len(test_y)',len(test_y))\\n    print('test_y',test_y)\\n    for j in range(y_predict.shape[0]):\\n        print('j',j)\\n        #ForecastSet31.append(y_predict.iloc[j,0])#*(MaxValue-MinValue)+MinValue)\\n        TestSet31.append(test_y[j])#*(MaxValue-MinValue)+MinValue)\\n        Datetest_y31.append(Date1test_y0[j])\\n    print('Datetest_y21',Datetest_y31)\\n    \""
      ]
     },
     "execution_count": 11,
     "metadata": {},
     "output_type": "execute_result"
    },
    {
     "name": "stdout",
     "output_type": "stream",
     "text": [
      "1SplitNum0 8352\n"
     ]
    },
    {
     "data": {
      "application/vnd.jupyter.widget-view+json": {
       "model_id": "d44b8ee613fa4e4d9f393f7cd61b1f87",
       "version_major": 2,
       "version_minor": 0
      },
      "text/html": [
       "<p>Failed to display Jupyter Widget of type <code>TqdmHBox</code>.</p>\n",
       "<p>\n",
       "  If you're reading this message in the Jupyter Notebook or JupyterLab Notebook, it may mean\n",
       "  that the widgets JavaScript is still loading. If this message persists, it\n",
       "  likely means that the widgets JavaScript library is either not installed or\n",
       "  not enabled. See the <a href=\"https://ipywidgets.readthedocs.io/en/stable/user_install.html\">Jupyter\n",
       "  Widgets Documentation</a> for setup instructions.\n",
       "</p>\n",
       "<p>\n",
       "  If you're reading this message in another frontend (for example, a static\n",
       "  rendering on GitHub or <a href=\"https://nbviewer.jupyter.org/\">NBViewer</a>),\n",
       "  it may mean that your frontend doesn't currently support widgets.\n",
       "</p>\n"
      ],
      "text/plain": [
       "  0%|          | 0/4 [00:00<?, ?it/s]"
      ]
     },
     "metadata": {},
     "output_type": "display_data"
    },
    {
     "name": "stdout",
     "output_type": "stream",
     "text": [
      "00param (1, 1, 0, 0)\n",
      "00param (1, 1, 0, 1)\n",
      "00param (1, 1, 1, 0)\n",
      "00param (1, 1, 1, 1)\n",
      "param (1, 1, 1, 1)\n",
      "model.aic 8490.175549936179\n",
      "result_table               0            1\n",
      "0  (1, 1, 0, 0)  8754.607882\n",
      "1  (1, 1, 0, 1)  8488.430462\n",
      "2  (1, 1, 1, 0)  8600.731899\n",
      "3  (1, 1, 1, 1)  8490.175550\n"
     ]
    },
    {
     "data": {
      "text/plain": [
       "\"\\n    y_predict=plotSARIMA(ads_train, best_model, UPS)\\n    #display(forecast.head(3))\\n    ArimaFS=pd.concat([ArimaFS,y_predict], axis=0, ignore_index=True)#axis:合并方式，默认0表示按列合并，1表示按行合并;ignore_index:是否忽略索引                   \\n    print('len(y_predict)',len(y_predict))\\n    print('len(test_y)',len(test_y))\\n    print('test_y',test_y)\\n    for j in range(y_predict.shape[0]):\\n        print('j',j)\\n        #ForecastSet31.append(y_predict.iloc[j,0])#*(MaxValue-MinValue)+MinValue)\\n        TestSet31.append(test_y[j])#*(MaxValue-MinValue)+MinValue)\\n        Datetest_y31.append(Date1test_y0[j])\\n    print('Datetest_y21',Datetest_y31)\\n    \""
      ]
     },
     "execution_count": 11,
     "metadata": {},
     "output_type": "execute_result"
    },
    {
     "name": "stdout",
     "output_type": "stream",
     "text": [
      "1SplitNum0 8400\n"
     ]
    },
    {
     "data": {
      "application/vnd.jupyter.widget-view+json": {
       "model_id": "7995f94560cb4713bc2acc3c0871fa7e",
       "version_major": 2,
       "version_minor": 0
      },
      "text/html": [
       "<p>Failed to display Jupyter Widget of type <code>TqdmHBox</code>.</p>\n",
       "<p>\n",
       "  If you're reading this message in the Jupyter Notebook or JupyterLab Notebook, it may mean\n",
       "  that the widgets JavaScript is still loading. If this message persists, it\n",
       "  likely means that the widgets JavaScript library is either not installed or\n",
       "  not enabled. See the <a href=\"https://ipywidgets.readthedocs.io/en/stable/user_install.html\">Jupyter\n",
       "  Widgets Documentation</a> for setup instructions.\n",
       "</p>\n",
       "<p>\n",
       "  If you're reading this message in another frontend (for example, a static\n",
       "  rendering on GitHub or <a href=\"https://nbviewer.jupyter.org/\">NBViewer</a>),\n",
       "  it may mean that your frontend doesn't currently support widgets.\n",
       "</p>\n"
      ],
      "text/plain": [
       "  0%|          | 0/4 [00:00<?, ?it/s]"
      ]
     },
     "metadata": {},
     "output_type": "display_data"
    },
    {
     "name": "stdout",
     "output_type": "stream",
     "text": [
      "00param (1, 1, 0, 0)\n",
      "00param (1, 1, 0, 1)\n",
      "00param (1, 1, 1, 0)\n",
      "00param (1, 1, 1, 1)\n",
      "param (1, 1, 1, 1)\n",
      "model.aic 8518.775256922105\n",
      "result_table               0            1\n",
      "0  (1, 1, 0, 0)  8791.486446\n",
      "1  (1, 1, 0, 1)  8517.025654\n",
      "2  (1, 1, 1, 0)  8636.534384\n",
      "3  (1, 1, 1, 1)  8518.775257\n"
     ]
    },
    {
     "data": {
      "text/plain": [
       "\"\\n    y_predict=plotSARIMA(ads_train, best_model, UPS)\\n    #display(forecast.head(3))\\n    ArimaFS=pd.concat([ArimaFS,y_predict], axis=0, ignore_index=True)#axis:合并方式，默认0表示按列合并，1表示按行合并;ignore_index:是否忽略索引                   \\n    print('len(y_predict)',len(y_predict))\\n    print('len(test_y)',len(test_y))\\n    print('test_y',test_y)\\n    for j in range(y_predict.shape[0]):\\n        print('j',j)\\n        #ForecastSet31.append(y_predict.iloc[j,0])#*(MaxValue-MinValue)+MinValue)\\n        TestSet31.append(test_y[j])#*(MaxValue-MinValue)+MinValue)\\n        Datetest_y31.append(Date1test_y0[j])\\n    print('Datetest_y21',Datetest_y31)\\n    \""
      ]
     },
     "execution_count": 11,
     "metadata": {},
     "output_type": "execute_result"
    },
    {
     "name": "stdout",
     "output_type": "stream",
     "text": [
      "1SplitNum0 8448\n"
     ]
    },
    {
     "data": {
      "application/vnd.jupyter.widget-view+json": {
       "model_id": "1e171163c876455d960e275df88550c1",
       "version_major": 2,
       "version_minor": 0
      },
      "text/html": [
       "<p>Failed to display Jupyter Widget of type <code>TqdmHBox</code>.</p>\n",
       "<p>\n",
       "  If you're reading this message in the Jupyter Notebook or JupyterLab Notebook, it may mean\n",
       "  that the widgets JavaScript is still loading. If this message persists, it\n",
       "  likely means that the widgets JavaScript library is either not installed or\n",
       "  not enabled. See the <a href=\"https://ipywidgets.readthedocs.io/en/stable/user_install.html\">Jupyter\n",
       "  Widgets Documentation</a> for setup instructions.\n",
       "</p>\n",
       "<p>\n",
       "  If you're reading this message in another frontend (for example, a static\n",
       "  rendering on GitHub or <a href=\"https://nbviewer.jupyter.org/\">NBViewer</a>),\n",
       "  it may mean that your frontend doesn't currently support widgets.\n",
       "</p>\n"
      ],
      "text/plain": [
       "  0%|          | 0/4 [00:00<?, ?it/s]"
      ]
     },
     "metadata": {},
     "output_type": "display_data"
    },
    {
     "name": "stdout",
     "output_type": "stream",
     "text": [
      "00param (1, 1, 0, 0)\n",
      "00param (1, 1, 0, 1)\n",
      "00param (1, 1, 1, 0)\n",
      "00param (1, 1, 1, 1)\n",
      "param (1, 1, 1, 1)\n",
      "model.aic 8509.245329203935\n",
      "result_table               0            1\n",
      "0  (1, 1, 0, 0)  8806.810140\n",
      "1  (1, 1, 0, 1)  8507.314953\n",
      "2  (1, 1, 1, 0)  8650.369292\n",
      "3  (1, 1, 1, 1)  8509.245329\n"
     ]
    },
    {
     "data": {
      "text/plain": [
       "\"\\n    y_predict=plotSARIMA(ads_train, best_model, UPS)\\n    #display(forecast.head(3))\\n    ArimaFS=pd.concat([ArimaFS,y_predict], axis=0, ignore_index=True)#axis:合并方式，默认0表示按列合并，1表示按行合并;ignore_index:是否忽略索引                   \\n    print('len(y_predict)',len(y_predict))\\n    print('len(test_y)',len(test_y))\\n    print('test_y',test_y)\\n    for j in range(y_predict.shape[0]):\\n        print('j',j)\\n        #ForecastSet31.append(y_predict.iloc[j,0])#*(MaxValue-MinValue)+MinValue)\\n        TestSet31.append(test_y[j])#*(MaxValue-MinValue)+MinValue)\\n        Datetest_y31.append(Date1test_y0[j])\\n    print('Datetest_y21',Datetest_y31)\\n    \""
      ]
     },
     "execution_count": 11,
     "metadata": {},
     "output_type": "execute_result"
    },
    {
     "name": "stdout",
     "output_type": "stream",
     "text": [
      "1SplitNum0 8496\n"
     ]
    },
    {
     "data": {
      "application/vnd.jupyter.widget-view+json": {
       "model_id": "fd09a48a2173485badc6a21b467dea82",
       "version_major": 2,
       "version_minor": 0
      },
      "text/html": [
       "<p>Failed to display Jupyter Widget of type <code>TqdmHBox</code>.</p>\n",
       "<p>\n",
       "  If you're reading this message in the Jupyter Notebook or JupyterLab Notebook, it may mean\n",
       "  that the widgets JavaScript is still loading. If this message persists, it\n",
       "  likely means that the widgets JavaScript library is either not installed or\n",
       "  not enabled. See the <a href=\"https://ipywidgets.readthedocs.io/en/stable/user_install.html\">Jupyter\n",
       "  Widgets Documentation</a> for setup instructions.\n",
       "</p>\n",
       "<p>\n",
       "  If you're reading this message in another frontend (for example, a static\n",
       "  rendering on GitHub or <a href=\"https://nbviewer.jupyter.org/\">NBViewer</a>),\n",
       "  it may mean that your frontend doesn't currently support widgets.\n",
       "</p>\n"
      ],
      "text/plain": [
       "  0%|          | 0/4 [00:00<?, ?it/s]"
      ]
     },
     "metadata": {},
     "output_type": "display_data"
    },
    {
     "name": "stdout",
     "output_type": "stream",
     "text": [
      "00param (1, 1, 0, 0)\n",
      "00param (1, 1, 0, 1)\n",
      "00param (1, 1, 1, 0)\n",
      "00param (1, 1, 1, 1)\n",
      "param (1, 1, 1, 1)\n",
      "model.aic 8521.75945024381\n",
      "result_table               0            1\n",
      "0  (1, 1, 0, 0)  8813.929249\n",
      "1  (1, 1, 0, 1)  8519.885298\n",
      "2  (1, 1, 1, 0)  8664.025025\n",
      "3  (1, 1, 1, 1)  8521.759450\n"
     ]
    },
    {
     "data": {
      "text/plain": [
       "\"\\n    y_predict=plotSARIMA(ads_train, best_model, UPS)\\n    #display(forecast.head(3))\\n    ArimaFS=pd.concat([ArimaFS,y_predict], axis=0, ignore_index=True)#axis:合并方式，默认0表示按列合并，1表示按行合并;ignore_index:是否忽略索引                   \\n    print('len(y_predict)',len(y_predict))\\n    print('len(test_y)',len(test_y))\\n    print('test_y',test_y)\\n    for j in range(y_predict.shape[0]):\\n        print('j',j)\\n        #ForecastSet31.append(y_predict.iloc[j,0])#*(MaxValue-MinValue)+MinValue)\\n        TestSet31.append(test_y[j])#*(MaxValue-MinValue)+MinValue)\\n        Datetest_y31.append(Date1test_y0[j])\\n    print('Datetest_y21',Datetest_y31)\\n    \""
      ]
     },
     "execution_count": 11,
     "metadata": {},
     "output_type": "execute_result"
    },
    {
     "name": "stdout",
     "output_type": "stream",
     "text": [
      "1SplitNum0 8544\n"
     ]
    },
    {
     "data": {
      "application/vnd.jupyter.widget-view+json": {
       "model_id": "a966d169acd34ce8af4122da3c63b4c3",
       "version_major": 2,
       "version_minor": 0
      },
      "text/html": [
       "<p>Failed to display Jupyter Widget of type <code>TqdmHBox</code>.</p>\n",
       "<p>\n",
       "  If you're reading this message in the Jupyter Notebook or JupyterLab Notebook, it may mean\n",
       "  that the widgets JavaScript is still loading. If this message persists, it\n",
       "  likely means that the widgets JavaScript library is either not installed or\n",
       "  not enabled. See the <a href=\"https://ipywidgets.readthedocs.io/en/stable/user_install.html\">Jupyter\n",
       "  Widgets Documentation</a> for setup instructions.\n",
       "</p>\n",
       "<p>\n",
       "  If you're reading this message in another frontend (for example, a static\n",
       "  rendering on GitHub or <a href=\"https://nbviewer.jupyter.org/\">NBViewer</a>),\n",
       "  it may mean that your frontend doesn't currently support widgets.\n",
       "</p>\n"
      ],
      "text/plain": [
       "  0%|          | 0/4 [00:00<?, ?it/s]"
      ]
     },
     "metadata": {},
     "output_type": "display_data"
    },
    {
     "name": "stdout",
     "output_type": "stream",
     "text": [
      "00param (1, 1, 0, 0)\n",
      "00param (1, 1, 0, 1)\n",
      "00param (1, 1, 1, 0)\n",
      "00param (1, 1, 1, 1)\n",
      "param (1, 1, 1, 1)\n",
      "model.aic 8527.583403583641\n",
      "result_table               0            1\n",
      "0  (1, 1, 0, 0)  8806.389838\n",
      "1  (1, 1, 0, 1)  8525.586110\n",
      "2  (1, 1, 1, 0)  8658.498578\n",
      "3  (1, 1, 1, 1)  8527.583404\n"
     ]
    },
    {
     "data": {
      "text/plain": [
       "\"\\n    y_predict=plotSARIMA(ads_train, best_model, UPS)\\n    #display(forecast.head(3))\\n    ArimaFS=pd.concat([ArimaFS,y_predict], axis=0, ignore_index=True)#axis:合并方式，默认0表示按列合并，1表示按行合并;ignore_index:是否忽略索引                   \\n    print('len(y_predict)',len(y_predict))\\n    print('len(test_y)',len(test_y))\\n    print('test_y',test_y)\\n    for j in range(y_predict.shape[0]):\\n        print('j',j)\\n        #ForecastSet31.append(y_predict.iloc[j,0])#*(MaxValue-MinValue)+MinValue)\\n        TestSet31.append(test_y[j])#*(MaxValue-MinValue)+MinValue)\\n        Datetest_y31.append(Date1test_y0[j])\\n    print('Datetest_y21',Datetest_y31)\\n    \""
      ]
     },
     "execution_count": 11,
     "metadata": {},
     "output_type": "execute_result"
    },
    {
     "name": "stdout",
     "output_type": "stream",
     "text": [
      "1SplitNum0 8592\n"
     ]
    },
    {
     "data": {
      "application/vnd.jupyter.widget-view+json": {
       "model_id": "a85c396f6743487285cbca9d949dd219",
       "version_major": 2,
       "version_minor": 0
      },
      "text/html": [
       "<p>Failed to display Jupyter Widget of type <code>TqdmHBox</code>.</p>\n",
       "<p>\n",
       "  If you're reading this message in the Jupyter Notebook or JupyterLab Notebook, it may mean\n",
       "  that the widgets JavaScript is still loading. If this message persists, it\n",
       "  likely means that the widgets JavaScript library is either not installed or\n",
       "  not enabled. See the <a href=\"https://ipywidgets.readthedocs.io/en/stable/user_install.html\">Jupyter\n",
       "  Widgets Documentation</a> for setup instructions.\n",
       "</p>\n",
       "<p>\n",
       "  If you're reading this message in another frontend (for example, a static\n",
       "  rendering on GitHub or <a href=\"https://nbviewer.jupyter.org/\">NBViewer</a>),\n",
       "  it may mean that your frontend doesn't currently support widgets.\n",
       "</p>\n"
      ],
      "text/plain": [
       "  0%|          | 0/4 [00:00<?, ?it/s]"
      ]
     },
     "metadata": {},
     "output_type": "display_data"
    },
    {
     "name": "stdout",
     "output_type": "stream",
     "text": [
      "00param (1, 1, 0, 0)\n",
      "00param (1, 1, 0, 1)\n",
      "00param (1, 1, 1, 0)\n",
      "00param (1, 1, 1, 1)\n",
      "param (1, 1, 1, 1)\n",
      "model.aic 8532.713802196475\n",
      "result_table               0            1\n",
      "0  (1, 1, 0, 0)  8808.793717\n",
      "1  (1, 1, 0, 1)  8530.749333\n",
      "2  (1, 1, 1, 0)  8674.494481\n",
      "3  (1, 1, 1, 1)  8532.713802\n"
     ]
    },
    {
     "data": {
      "text/plain": [
       "\"\\n    y_predict=plotSARIMA(ads_train, best_model, UPS)\\n    #display(forecast.head(3))\\n    ArimaFS=pd.concat([ArimaFS,y_predict], axis=0, ignore_index=True)#axis:合并方式，默认0表示按列合并，1表示按行合并;ignore_index:是否忽略索引                   \\n    print('len(y_predict)',len(y_predict))\\n    print('len(test_y)',len(test_y))\\n    print('test_y',test_y)\\n    for j in range(y_predict.shape[0]):\\n        print('j',j)\\n        #ForecastSet31.append(y_predict.iloc[j,0])#*(MaxValue-MinValue)+MinValue)\\n        TestSet31.append(test_y[j])#*(MaxValue-MinValue)+MinValue)\\n        Datetest_y31.append(Date1test_y0[j])\\n    print('Datetest_y21',Datetest_y31)\\n    \""
      ]
     },
     "execution_count": 11,
     "metadata": {},
     "output_type": "execute_result"
    },
    {
     "name": "stdout",
     "output_type": "stream",
     "text": [
      "1SplitNum0 8640\n"
     ]
    },
    {
     "data": {
      "application/vnd.jupyter.widget-view+json": {
       "model_id": "72920be8bb914b5cbcf8d84bfb793d18",
       "version_major": 2,
       "version_minor": 0
      },
      "text/html": [
       "<p>Failed to display Jupyter Widget of type <code>TqdmHBox</code>.</p>\n",
       "<p>\n",
       "  If you're reading this message in the Jupyter Notebook or JupyterLab Notebook, it may mean\n",
       "  that the widgets JavaScript is still loading. If this message persists, it\n",
       "  likely means that the widgets JavaScript library is either not installed or\n",
       "  not enabled. See the <a href=\"https://ipywidgets.readthedocs.io/en/stable/user_install.html\">Jupyter\n",
       "  Widgets Documentation</a> for setup instructions.\n",
       "</p>\n",
       "<p>\n",
       "  If you're reading this message in another frontend (for example, a static\n",
       "  rendering on GitHub or <a href=\"https://nbviewer.jupyter.org/\">NBViewer</a>),\n",
       "  it may mean that your frontend doesn't currently support widgets.\n",
       "</p>\n"
      ],
      "text/plain": [
       "  0%|          | 0/4 [00:00<?, ?it/s]"
      ]
     },
     "metadata": {},
     "output_type": "display_data"
    },
    {
     "name": "stdout",
     "output_type": "stream",
     "text": [
      "00param (1, 1, 0, 0)\n",
      "00param (1, 1, 0, 1)\n",
      "00param (1, 1, 1, 0)\n",
      "00param (1, 1, 1, 1)\n",
      "param (1, 1, 1, 1)\n",
      "model.aic 8523.611626964845\n",
      "result_table               0            1\n",
      "0  (1, 1, 0, 0)  8790.887892\n",
      "1  (1, 1, 0, 1)  8523.156721\n",
      "2  (1, 1, 1, 0)  8671.788141\n",
      "3  (1, 1, 1, 1)  8523.611627\n"
     ]
    },
    {
     "data": {
      "text/plain": [
       "\"\\n    y_predict=plotSARIMA(ads_train, best_model, UPS)\\n    #display(forecast.head(3))\\n    ArimaFS=pd.concat([ArimaFS,y_predict], axis=0, ignore_index=True)#axis:合并方式，默认0表示按列合并，1表示按行合并;ignore_index:是否忽略索引                   \\n    print('len(y_predict)',len(y_predict))\\n    print('len(test_y)',len(test_y))\\n    print('test_y',test_y)\\n    for j in range(y_predict.shape[0]):\\n        print('j',j)\\n        #ForecastSet31.append(y_predict.iloc[j,0])#*(MaxValue-MinValue)+MinValue)\\n        TestSet31.append(test_y[j])#*(MaxValue-MinValue)+MinValue)\\n        Datetest_y31.append(Date1test_y0[j])\\n    print('Datetest_y21',Datetest_y31)\\n    \""
      ]
     },
     "execution_count": 11,
     "metadata": {},
     "output_type": "execute_result"
    },
    {
     "name": "stdout",
     "output_type": "stream",
     "text": [
      "1SplitNum0 8688\n"
     ]
    },
    {
     "data": {
      "application/vnd.jupyter.widget-view+json": {
       "model_id": "6c7ad33a8d65443da17631be4c798879",
       "version_major": 2,
       "version_minor": 0
      },
      "text/html": [
       "<p>Failed to display Jupyter Widget of type <code>TqdmHBox</code>.</p>\n",
       "<p>\n",
       "  If you're reading this message in the Jupyter Notebook or JupyterLab Notebook, it may mean\n",
       "  that the widgets JavaScript is still loading. If this message persists, it\n",
       "  likely means that the widgets JavaScript library is either not installed or\n",
       "  not enabled. See the <a href=\"https://ipywidgets.readthedocs.io/en/stable/user_install.html\">Jupyter\n",
       "  Widgets Documentation</a> for setup instructions.\n",
       "</p>\n",
       "<p>\n",
       "  If you're reading this message in another frontend (for example, a static\n",
       "  rendering on GitHub or <a href=\"https://nbviewer.jupyter.org/\">NBViewer</a>),\n",
       "  it may mean that your frontend doesn't currently support widgets.\n",
       "</p>\n"
      ],
      "text/plain": [
       "  0%|          | 0/4 [00:00<?, ?it/s]"
      ]
     },
     "metadata": {},
     "output_type": "display_data"
    },
    {
     "name": "stdout",
     "output_type": "stream",
     "text": [
      "00param (1, 1, 0, 0)\n",
      "00param (1, 1, 0, 1)\n",
      "00param (1, 1, 1, 0)\n",
      "00param (1, 1, 1, 1)\n",
      "param (1, 1, 1, 1)\n",
      "model.aic 8550.829169457844\n",
      "result_table               0            1\n",
      "0  (1, 1, 0, 0)  8824.449527\n",
      "1  (1, 1, 0, 1)  8549.293613\n",
      "2  (1, 1, 1, 0)  8700.389217\n",
      "3  (1, 1, 1, 1)  8550.829169\n"
     ]
    },
    {
     "data": {
      "text/plain": [
       "\"\\n    y_predict=plotSARIMA(ads_train, best_model, UPS)\\n    #display(forecast.head(3))\\n    ArimaFS=pd.concat([ArimaFS,y_predict], axis=0, ignore_index=True)#axis:合并方式，默认0表示按列合并，1表示按行合并;ignore_index:是否忽略索引                   \\n    print('len(y_predict)',len(y_predict))\\n    print('len(test_y)',len(test_y))\\n    print('test_y',test_y)\\n    for j in range(y_predict.shape[0]):\\n        print('j',j)\\n        #ForecastSet31.append(y_predict.iloc[j,0])#*(MaxValue-MinValue)+MinValue)\\n        TestSet31.append(test_y[j])#*(MaxValue-MinValue)+MinValue)\\n        Datetest_y31.append(Date1test_y0[j])\\n    print('Datetest_y21',Datetest_y31)\\n    \""
      ]
     },
     "execution_count": 11,
     "metadata": {},
     "output_type": "execute_result"
    },
    {
     "name": "stdout",
     "output_type": "stream",
     "text": [
      "1SplitNum0 8736\n"
     ]
    },
    {
     "data": {
      "application/vnd.jupyter.widget-view+json": {
       "model_id": "18fe60c6c799469a9132341b14161200",
       "version_major": 2,
       "version_minor": 0
      },
      "text/html": [
       "<p>Failed to display Jupyter Widget of type <code>TqdmHBox</code>.</p>\n",
       "<p>\n",
       "  If you're reading this message in the Jupyter Notebook or JupyterLab Notebook, it may mean\n",
       "  that the widgets JavaScript is still loading. If this message persists, it\n",
       "  likely means that the widgets JavaScript library is either not installed or\n",
       "  not enabled. See the <a href=\"https://ipywidgets.readthedocs.io/en/stable/user_install.html\">Jupyter\n",
       "  Widgets Documentation</a> for setup instructions.\n",
       "</p>\n",
       "<p>\n",
       "  If you're reading this message in another frontend (for example, a static\n",
       "  rendering on GitHub or <a href=\"https://nbviewer.jupyter.org/\">NBViewer</a>),\n",
       "  it may mean that your frontend doesn't currently support widgets.\n",
       "</p>\n"
      ],
      "text/plain": [
       "  0%|          | 0/4 [00:00<?, ?it/s]"
      ]
     },
     "metadata": {},
     "output_type": "display_data"
    },
    {
     "name": "stdout",
     "output_type": "stream",
     "text": [
      "00param (1, 1, 0, 0)\n",
      "00param (1, 1, 0, 1)\n",
      "00param (1, 1, 1, 0)\n",
      "00param (1, 1, 1, 1)\n",
      "param (1, 1, 1, 1)\n",
      "model.aic 8546.871739751885\n",
      "result_table               0            1\n",
      "0  (1, 1, 0, 0)  8852.418817\n",
      "1  (1, 1, 0, 1)  8544.922811\n",
      "2  (1, 1, 1, 0)  8708.510781\n",
      "3  (1, 1, 1, 1)  8546.871740\n"
     ]
    },
    {
     "data": {
      "text/plain": [
       "\"\\n    y_predict=plotSARIMA(ads_train, best_model, UPS)\\n    #display(forecast.head(3))\\n    ArimaFS=pd.concat([ArimaFS,y_predict], axis=0, ignore_index=True)#axis:合并方式，默认0表示按列合并，1表示按行合并;ignore_index:是否忽略索引                   \\n    print('len(y_predict)',len(y_predict))\\n    print('len(test_y)',len(test_y))\\n    print('test_y',test_y)\\n    for j in range(y_predict.shape[0]):\\n        print('j',j)\\n        #ForecastSet31.append(y_predict.iloc[j,0])#*(MaxValue-MinValue)+MinValue)\\n        TestSet31.append(test_y[j])#*(MaxValue-MinValue)+MinValue)\\n        Datetest_y31.append(Date1test_y0[j])\\n    print('Datetest_y21',Datetest_y31)\\n    \""
      ]
     },
     "execution_count": 11,
     "metadata": {},
     "output_type": "execute_result"
    },
    {
     "name": "stdout",
     "output_type": "stream",
     "text": [
      "1SplitNum0 8784\n"
     ]
    },
    {
     "data": {
      "application/vnd.jupyter.widget-view+json": {
       "model_id": "29aea238d5944788b38d51caa490bd11",
       "version_major": 2,
       "version_minor": 0
      },
      "text/html": [
       "<p>Failed to display Jupyter Widget of type <code>TqdmHBox</code>.</p>\n",
       "<p>\n",
       "  If you're reading this message in the Jupyter Notebook or JupyterLab Notebook, it may mean\n",
       "  that the widgets JavaScript is still loading. If this message persists, it\n",
       "  likely means that the widgets JavaScript library is either not installed or\n",
       "  not enabled. See the <a href=\"https://ipywidgets.readthedocs.io/en/stable/user_install.html\">Jupyter\n",
       "  Widgets Documentation</a> for setup instructions.\n",
       "</p>\n",
       "<p>\n",
       "  If you're reading this message in another frontend (for example, a static\n",
       "  rendering on GitHub or <a href=\"https://nbviewer.jupyter.org/\">NBViewer</a>),\n",
       "  it may mean that your frontend doesn't currently support widgets.\n",
       "</p>\n"
      ],
      "text/plain": [
       "  0%|          | 0/4 [00:00<?, ?it/s]"
      ]
     },
     "metadata": {},
     "output_type": "display_data"
    },
    {
     "name": "stdout",
     "output_type": "stream",
     "text": [
      "00param (1, 1, 0, 0)\n",
      "00param (1, 1, 0, 1)\n",
      "00param (1, 1, 1, 0)\n",
      "00param (1, 1, 1, 1)\n",
      "param (1, 1, 1, 1)\n",
      "model.aic 8548.0675424681\n",
      "result_table               0            1\n",
      "0  (1, 1, 0, 0)  8861.250747\n",
      "1  (1, 1, 0, 1)  8546.072277\n",
      "2  (1, 1, 1, 0)  8728.924488\n",
      "3  (1, 1, 1, 1)  8548.067542\n"
     ]
    },
    {
     "data": {
      "text/plain": [
       "\"\\n    y_predict=plotSARIMA(ads_train, best_model, UPS)\\n    #display(forecast.head(3))\\n    ArimaFS=pd.concat([ArimaFS,y_predict], axis=0, ignore_index=True)#axis:合并方式，默认0表示按列合并，1表示按行合并;ignore_index:是否忽略索引                   \\n    print('len(y_predict)',len(y_predict))\\n    print('len(test_y)',len(test_y))\\n    print('test_y',test_y)\\n    for j in range(y_predict.shape[0]):\\n        print('j',j)\\n        #ForecastSet31.append(y_predict.iloc[j,0])#*(MaxValue-MinValue)+MinValue)\\n        TestSet31.append(test_y[j])#*(MaxValue-MinValue)+MinValue)\\n        Datetest_y31.append(Date1test_y0[j])\\n    print('Datetest_y21',Datetest_y31)\\n    \""
      ]
     },
     "execution_count": 11,
     "metadata": {},
     "output_type": "execute_result"
    },
    {
     "name": "stdout",
     "output_type": "stream",
     "text": [
      "1SplitNum0 8832\n"
     ]
    },
    {
     "data": {
      "application/vnd.jupyter.widget-view+json": {
       "model_id": "921c755a711944af8a03c1d0575eaa9f",
       "version_major": 2,
       "version_minor": 0
      },
      "text/html": [
       "<p>Failed to display Jupyter Widget of type <code>TqdmHBox</code>.</p>\n",
       "<p>\n",
       "  If you're reading this message in the Jupyter Notebook or JupyterLab Notebook, it may mean\n",
       "  that the widgets JavaScript is still loading. If this message persists, it\n",
       "  likely means that the widgets JavaScript library is either not installed or\n",
       "  not enabled. See the <a href=\"https://ipywidgets.readthedocs.io/en/stable/user_install.html\">Jupyter\n",
       "  Widgets Documentation</a> for setup instructions.\n",
       "</p>\n",
       "<p>\n",
       "  If you're reading this message in another frontend (for example, a static\n",
       "  rendering on GitHub or <a href=\"https://nbviewer.jupyter.org/\">NBViewer</a>),\n",
       "  it may mean that your frontend doesn't currently support widgets.\n",
       "</p>\n"
      ],
      "text/plain": [
       "  0%|          | 0/4 [00:00<?, ?it/s]"
      ]
     },
     "metadata": {},
     "output_type": "display_data"
    },
    {
     "name": "stdout",
     "output_type": "stream",
     "text": [
      "00param (1, 1, 0, 0)\n",
      "00param (1, 1, 0, 1)\n",
      "00param (1, 1, 1, 0)\n",
      "00param (1, 1, 1, 1)\n",
      "param (1, 1, 1, 1)\n",
      "model.aic 8540.123453432121\n",
      "result_table               0            1\n",
      "0  (1, 1, 0, 0)  8854.275306\n",
      "1  (1, 1, 0, 1)  8538.123643\n",
      "2  (1, 1, 1, 0)  8724.248464\n",
      "3  (1, 1, 1, 1)  8540.123453\n"
     ]
    },
    {
     "data": {
      "text/plain": [
       "\"\\n    y_predict=plotSARIMA(ads_train, best_model, UPS)\\n    #display(forecast.head(3))\\n    ArimaFS=pd.concat([ArimaFS,y_predict], axis=0, ignore_index=True)#axis:合并方式，默认0表示按列合并，1表示按行合并;ignore_index:是否忽略索引                   \\n    print('len(y_predict)',len(y_predict))\\n    print('len(test_y)',len(test_y))\\n    print('test_y',test_y)\\n    for j in range(y_predict.shape[0]):\\n        print('j',j)\\n        #ForecastSet31.append(y_predict.iloc[j,0])#*(MaxValue-MinValue)+MinValue)\\n        TestSet31.append(test_y[j])#*(MaxValue-MinValue)+MinValue)\\n        Datetest_y31.append(Date1test_y0[j])\\n    print('Datetest_y21',Datetest_y31)\\n    \""
      ]
     },
     "execution_count": 11,
     "metadata": {},
     "output_type": "execute_result"
    },
    {
     "name": "stdout",
     "output_type": "stream",
     "text": [
      "1SplitNum0 8880\n"
     ]
    },
    {
     "data": {
      "application/vnd.jupyter.widget-view+json": {
       "model_id": "78e6fb31d61d4ec4959f630593d151df",
       "version_major": 2,
       "version_minor": 0
      },
      "text/html": [
       "<p>Failed to display Jupyter Widget of type <code>TqdmHBox</code>.</p>\n",
       "<p>\n",
       "  If you're reading this message in the Jupyter Notebook or JupyterLab Notebook, it may mean\n",
       "  that the widgets JavaScript is still loading. If this message persists, it\n",
       "  likely means that the widgets JavaScript library is either not installed or\n",
       "  not enabled. See the <a href=\"https://ipywidgets.readthedocs.io/en/stable/user_install.html\">Jupyter\n",
       "  Widgets Documentation</a> for setup instructions.\n",
       "</p>\n",
       "<p>\n",
       "  If you're reading this message in another frontend (for example, a static\n",
       "  rendering on GitHub or <a href=\"https://nbviewer.jupyter.org/\">NBViewer</a>),\n",
       "  it may mean that your frontend doesn't currently support widgets.\n",
       "</p>\n"
      ],
      "text/plain": [
       "  0%|          | 0/4 [00:00<?, ?it/s]"
      ]
     },
     "metadata": {},
     "output_type": "display_data"
    },
    {
     "name": "stdout",
     "output_type": "stream",
     "text": [
      "00param (1, 1, 0, 0)\n",
      "00param (1, 1, 0, 1)\n",
      "00param (1, 1, 1, 0)\n",
      "00param (1, 1, 1, 1)\n",
      "param (1, 1, 1, 1)\n",
      "model.aic 8542.642612744134\n",
      "result_table               0            1\n",
      "0  (1, 1, 0, 0)  8857.242944\n",
      "1  (1, 1, 0, 1)  8540.645416\n",
      "2  (1, 1, 1, 0)  8726.730228\n",
      "3  (1, 1, 1, 1)  8542.642613\n"
     ]
    },
    {
     "data": {
      "text/plain": [
       "\"\\n    y_predict=plotSARIMA(ads_train, best_model, UPS)\\n    #display(forecast.head(3))\\n    ArimaFS=pd.concat([ArimaFS,y_predict], axis=0, ignore_index=True)#axis:合并方式，默认0表示按列合并，1表示按行合并;ignore_index:是否忽略索引                   \\n    print('len(y_predict)',len(y_predict))\\n    print('len(test_y)',len(test_y))\\n    print('test_y',test_y)\\n    for j in range(y_predict.shape[0]):\\n        print('j',j)\\n        #ForecastSet31.append(y_predict.iloc[j,0])#*(MaxValue-MinValue)+MinValue)\\n        TestSet31.append(test_y[j])#*(MaxValue-MinValue)+MinValue)\\n        Datetest_y31.append(Date1test_y0[j])\\n    print('Datetest_y21',Datetest_y31)\\n    \""
      ]
     },
     "execution_count": 11,
     "metadata": {},
     "output_type": "execute_result"
    },
    {
     "name": "stdout",
     "output_type": "stream",
     "text": [
      "1SplitNum0 8928\n"
     ]
    },
    {
     "data": {
      "application/vnd.jupyter.widget-view+json": {
       "model_id": "da88d6c0a6b94ce7a2f5b548c469fcc7",
       "version_major": 2,
       "version_minor": 0
      },
      "text/html": [
       "<p>Failed to display Jupyter Widget of type <code>TqdmHBox</code>.</p>\n",
       "<p>\n",
       "  If you're reading this message in the Jupyter Notebook or JupyterLab Notebook, it may mean\n",
       "  that the widgets JavaScript is still loading. If this message persists, it\n",
       "  likely means that the widgets JavaScript library is either not installed or\n",
       "  not enabled. See the <a href=\"https://ipywidgets.readthedocs.io/en/stable/user_install.html\">Jupyter\n",
       "  Widgets Documentation</a> for setup instructions.\n",
       "</p>\n",
       "<p>\n",
       "  If you're reading this message in another frontend (for example, a static\n",
       "  rendering on GitHub or <a href=\"https://nbviewer.jupyter.org/\">NBViewer</a>),\n",
       "  it may mean that your frontend doesn't currently support widgets.\n",
       "</p>\n"
      ],
      "text/plain": [
       "  0%|          | 0/4 [00:00<?, ?it/s]"
      ]
     },
     "metadata": {},
     "output_type": "display_data"
    },
    {
     "name": "stdout",
     "output_type": "stream",
     "text": [
      "00param (1, 1, 0, 0)\n",
      "00param (1, 1, 0, 1)\n",
      "00param (1, 1, 1, 0)\n",
      "00param (1, 1, 1, 1)\n",
      "param (1, 1, 1, 1)\n",
      "model.aic 8552.220933590257\n",
      "result_table               0            1\n",
      "0  (1, 1, 0, 0)  8846.208533\n",
      "1  (1, 1, 0, 1)  8550.382767\n",
      "2  (1, 1, 1, 0)  8708.366874\n",
      "3  (1, 1, 1, 1)  8552.220934\n"
     ]
    },
    {
     "data": {
      "text/plain": [
       "\"\\n    y_predict=plotSARIMA(ads_train, best_model, UPS)\\n    #display(forecast.head(3))\\n    ArimaFS=pd.concat([ArimaFS,y_predict], axis=0, ignore_index=True)#axis:合并方式，默认0表示按列合并，1表示按行合并;ignore_index:是否忽略索引                   \\n    print('len(y_predict)',len(y_predict))\\n    print('len(test_y)',len(test_y))\\n    print('test_y',test_y)\\n    for j in range(y_predict.shape[0]):\\n        print('j',j)\\n        #ForecastSet31.append(y_predict.iloc[j,0])#*(MaxValue-MinValue)+MinValue)\\n        TestSet31.append(test_y[j])#*(MaxValue-MinValue)+MinValue)\\n        Datetest_y31.append(Date1test_y0[j])\\n    print('Datetest_y21',Datetest_y31)\\n    \""
      ]
     },
     "execution_count": 11,
     "metadata": {},
     "output_type": "execute_result"
    },
    {
     "name": "stdout",
     "output_type": "stream",
     "text": [
      "1SplitNum0 8976\n"
     ]
    },
    {
     "data": {
      "application/vnd.jupyter.widget-view+json": {
       "model_id": "15a136c5428048eaa25282b7e730de14",
       "version_major": 2,
       "version_minor": 0
      },
      "text/html": [
       "<p>Failed to display Jupyter Widget of type <code>TqdmHBox</code>.</p>\n",
       "<p>\n",
       "  If you're reading this message in the Jupyter Notebook or JupyterLab Notebook, it may mean\n",
       "  that the widgets JavaScript is still loading. If this message persists, it\n",
       "  likely means that the widgets JavaScript library is either not installed or\n",
       "  not enabled. See the <a href=\"https://ipywidgets.readthedocs.io/en/stable/user_install.html\">Jupyter\n",
       "  Widgets Documentation</a> for setup instructions.\n",
       "</p>\n",
       "<p>\n",
       "  If you're reading this message in another frontend (for example, a static\n",
       "  rendering on GitHub or <a href=\"https://nbviewer.jupyter.org/\">NBViewer</a>),\n",
       "  it may mean that your frontend doesn't currently support widgets.\n",
       "</p>\n"
      ],
      "text/plain": [
       "  0%|          | 0/4 [00:00<?, ?it/s]"
      ]
     },
     "metadata": {},
     "output_type": "display_data"
    },
    {
     "name": "stdout",
     "output_type": "stream",
     "text": [
      "00param (1, 1, 0, 0)\n",
      "00param (1, 1, 0, 1)\n",
      "00param (1, 1, 1, 0)\n",
      "00param (1, 1, 1, 1)\n",
      "param (1, 1, 1, 1)\n",
      "model.aic 8524.295329587047\n",
      "result_table               0            1\n",
      "0  (1, 1, 0, 0)  8814.992772\n",
      "1  (1, 1, 0, 1)  8522.315496\n",
      "2  (1, 1, 1, 0)  8681.650222\n",
      "3  (1, 1, 1, 1)  8524.295330\n"
     ]
    },
    {
     "data": {
      "text/plain": [
       "\"\\n    y_predict=plotSARIMA(ads_train, best_model, UPS)\\n    #display(forecast.head(3))\\n    ArimaFS=pd.concat([ArimaFS,y_predict], axis=0, ignore_index=True)#axis:合并方式，默认0表示按列合并，1表示按行合并;ignore_index:是否忽略索引                   \\n    print('len(y_predict)',len(y_predict))\\n    print('len(test_y)',len(test_y))\\n    print('test_y',test_y)\\n    for j in range(y_predict.shape[0]):\\n        print('j',j)\\n        #ForecastSet31.append(y_predict.iloc[j,0])#*(MaxValue-MinValue)+MinValue)\\n        TestSet31.append(test_y[j])#*(MaxValue-MinValue)+MinValue)\\n        Datetest_y31.append(Date1test_y0[j])\\n    print('Datetest_y21',Datetest_y31)\\n    \""
      ]
     },
     "execution_count": 11,
     "metadata": {},
     "output_type": "execute_result"
    },
    {
     "name": "stdout",
     "output_type": "stream",
     "text": [
      "1SplitNum0 9024\n"
     ]
    },
    {
     "data": {
      "application/vnd.jupyter.widget-view+json": {
       "model_id": "13ffeabc42bd4c38815ef0a1138085c8",
       "version_major": 2,
       "version_minor": 0
      },
      "text/html": [
       "<p>Failed to display Jupyter Widget of type <code>TqdmHBox</code>.</p>\n",
       "<p>\n",
       "  If you're reading this message in the Jupyter Notebook or JupyterLab Notebook, it may mean\n",
       "  that the widgets JavaScript is still loading. If this message persists, it\n",
       "  likely means that the widgets JavaScript library is either not installed or\n",
       "  not enabled. See the <a href=\"https://ipywidgets.readthedocs.io/en/stable/user_install.html\">Jupyter\n",
       "  Widgets Documentation</a> for setup instructions.\n",
       "</p>\n",
       "<p>\n",
       "  If you're reading this message in another frontend (for example, a static\n",
       "  rendering on GitHub or <a href=\"https://nbviewer.jupyter.org/\">NBViewer</a>),\n",
       "  it may mean that your frontend doesn't currently support widgets.\n",
       "</p>\n"
      ],
      "text/plain": [
       "  0%|          | 0/4 [00:00<?, ?it/s]"
      ]
     },
     "metadata": {},
     "output_type": "display_data"
    },
    {
     "name": "stdout",
     "output_type": "stream",
     "text": [
      "00param (1, 1, 0, 0)\n",
      "00param (1, 1, 0, 1)\n",
      "00param (1, 1, 1, 0)\n",
      "00param (1, 1, 1, 1)\n",
      "param (1, 1, 1, 1)\n",
      "model.aic 8513.455694956312\n",
      "result_table               0            1\n",
      "0  (1, 1, 0, 0)  8808.583359\n",
      "1  (1, 1, 0, 1)  8511.551314\n",
      "2  (1, 1, 1, 0)  8674.059299\n",
      "3  (1, 1, 1, 1)  8513.455695\n"
     ]
    },
    {
     "data": {
      "text/plain": [
       "\"\\n    y_predict=plotSARIMA(ads_train, best_model, UPS)\\n    #display(forecast.head(3))\\n    ArimaFS=pd.concat([ArimaFS,y_predict], axis=0, ignore_index=True)#axis:合并方式，默认0表示按列合并，1表示按行合并;ignore_index:是否忽略索引                   \\n    print('len(y_predict)',len(y_predict))\\n    print('len(test_y)',len(test_y))\\n    print('test_y',test_y)\\n    for j in range(y_predict.shape[0]):\\n        print('j',j)\\n        #ForecastSet31.append(y_predict.iloc[j,0])#*(MaxValue-MinValue)+MinValue)\\n        TestSet31.append(test_y[j])#*(MaxValue-MinValue)+MinValue)\\n        Datetest_y31.append(Date1test_y0[j])\\n    print('Datetest_y21',Datetest_y31)\\n    \""
      ]
     },
     "execution_count": 11,
     "metadata": {},
     "output_type": "execute_result"
    },
    {
     "name": "stdout",
     "output_type": "stream",
     "text": [
      "1SplitNum0 9072\n"
     ]
    },
    {
     "data": {
      "application/vnd.jupyter.widget-view+json": {
       "model_id": "a45a6997234d44c9a20251eec3d01682",
       "version_major": 2,
       "version_minor": 0
      },
      "text/html": [
       "<p>Failed to display Jupyter Widget of type <code>TqdmHBox</code>.</p>\n",
       "<p>\n",
       "  If you're reading this message in the Jupyter Notebook or JupyterLab Notebook, it may mean\n",
       "  that the widgets JavaScript is still loading. If this message persists, it\n",
       "  likely means that the widgets JavaScript library is either not installed or\n",
       "  not enabled. See the <a href=\"https://ipywidgets.readthedocs.io/en/stable/user_install.html\">Jupyter\n",
       "  Widgets Documentation</a> for setup instructions.\n",
       "</p>\n",
       "<p>\n",
       "  If you're reading this message in another frontend (for example, a static\n",
       "  rendering on GitHub or <a href=\"https://nbviewer.jupyter.org/\">NBViewer</a>),\n",
       "  it may mean that your frontend doesn't currently support widgets.\n",
       "</p>\n"
      ],
      "text/plain": [
       "  0%|          | 0/4 [00:00<?, ?it/s]"
      ]
     },
     "metadata": {},
     "output_type": "display_data"
    },
    {
     "name": "stdout",
     "output_type": "stream",
     "text": [
      "00param (1, 1, 0, 0)\n",
      "00param (1, 1, 0, 1)\n",
      "00param (1, 1, 1, 0)\n",
      "00param (1, 1, 1, 1)\n",
      "param (1, 1, 1, 1)\n",
      "model.aic 8487.976217844005\n",
      "result_table               0            1\n",
      "0  (1, 1, 0, 0)  8832.831390\n",
      "1  (1, 1, 0, 1)  8487.316698\n",
      "2  (1, 1, 1, 0)  8673.782234\n",
      "3  (1, 1, 1, 1)  8487.976218\n"
     ]
    },
    {
     "data": {
      "text/plain": [
       "\"\\n    y_predict=plotSARIMA(ads_train, best_model, UPS)\\n    #display(forecast.head(3))\\n    ArimaFS=pd.concat([ArimaFS,y_predict], axis=0, ignore_index=True)#axis:合并方式，默认0表示按列合并，1表示按行合并;ignore_index:是否忽略索引                   \\n    print('len(y_predict)',len(y_predict))\\n    print('len(test_y)',len(test_y))\\n    print('test_y',test_y)\\n    for j in range(y_predict.shape[0]):\\n        print('j',j)\\n        #ForecastSet31.append(y_predict.iloc[j,0])#*(MaxValue-MinValue)+MinValue)\\n        TestSet31.append(test_y[j])#*(MaxValue-MinValue)+MinValue)\\n        Datetest_y31.append(Date1test_y0[j])\\n    print('Datetest_y21',Datetest_y31)\\n    \""
      ]
     },
     "execution_count": 11,
     "metadata": {},
     "output_type": "execute_result"
    },
    {
     "name": "stdout",
     "output_type": "stream",
     "text": [
      "1SplitNum0 9120\n"
     ]
    },
    {
     "data": {
      "application/vnd.jupyter.widget-view+json": {
       "model_id": "8b21cd5f6d9b4460ba280a20d08078f3",
       "version_major": 2,
       "version_minor": 0
      },
      "text/html": [
       "<p>Failed to display Jupyter Widget of type <code>TqdmHBox</code>.</p>\n",
       "<p>\n",
       "  If you're reading this message in the Jupyter Notebook or JupyterLab Notebook, it may mean\n",
       "  that the widgets JavaScript is still loading. If this message persists, it\n",
       "  likely means that the widgets JavaScript library is either not installed or\n",
       "  not enabled. See the <a href=\"https://ipywidgets.readthedocs.io/en/stable/user_install.html\">Jupyter\n",
       "  Widgets Documentation</a> for setup instructions.\n",
       "</p>\n",
       "<p>\n",
       "  If you're reading this message in another frontend (for example, a static\n",
       "  rendering on GitHub or <a href=\"https://nbviewer.jupyter.org/\">NBViewer</a>),\n",
       "  it may mean that your frontend doesn't currently support widgets.\n",
       "</p>\n"
      ],
      "text/plain": [
       "  0%|          | 0/4 [00:00<?, ?it/s]"
      ]
     },
     "metadata": {},
     "output_type": "display_data"
    },
    {
     "name": "stdout",
     "output_type": "stream",
     "text": [
      "00param (1, 1, 0, 0)\n",
      "00param (1, 1, 0, 1)\n",
      "00param (1, 1, 1, 0)\n",
      "00param (1, 1, 1, 1)\n",
      "param (1, 1, 1, 1)\n",
      "model.aic 8507.830874777857\n",
      "result_table               0            1\n",
      "0  (1, 1, 0, 0)  8831.273333\n",
      "1  (1, 1, 0, 1)  8506.521033\n",
      "2  (1, 1, 1, 0)  8676.260175\n",
      "3  (1, 1, 1, 1)  8507.830875\n"
     ]
    },
    {
     "data": {
      "text/plain": [
       "\"\\n    y_predict=plotSARIMA(ads_train, best_model, UPS)\\n    #display(forecast.head(3))\\n    ArimaFS=pd.concat([ArimaFS,y_predict], axis=0, ignore_index=True)#axis:合并方式，默认0表示按列合并，1表示按行合并;ignore_index:是否忽略索引                   \\n    print('len(y_predict)',len(y_predict))\\n    print('len(test_y)',len(test_y))\\n    print('test_y',test_y)\\n    for j in range(y_predict.shape[0]):\\n        print('j',j)\\n        #ForecastSet31.append(y_predict.iloc[j,0])#*(MaxValue-MinValue)+MinValue)\\n        TestSet31.append(test_y[j])#*(MaxValue-MinValue)+MinValue)\\n        Datetest_y31.append(Date1test_y0[j])\\n    print('Datetest_y21',Datetest_y31)\\n    \""
      ]
     },
     "execution_count": 11,
     "metadata": {},
     "output_type": "execute_result"
    },
    {
     "name": "stdout",
     "output_type": "stream",
     "text": [
      "1SplitNum0 9168\n"
     ]
    },
    {
     "data": {
      "application/vnd.jupyter.widget-view+json": {
       "model_id": "5288dd5d3f584e908651a7fb9780e5ed",
       "version_major": 2,
       "version_minor": 0
      },
      "text/html": [
       "<p>Failed to display Jupyter Widget of type <code>TqdmHBox</code>.</p>\n",
       "<p>\n",
       "  If you're reading this message in the Jupyter Notebook or JupyterLab Notebook, it may mean\n",
       "  that the widgets JavaScript is still loading. If this message persists, it\n",
       "  likely means that the widgets JavaScript library is either not installed or\n",
       "  not enabled. See the <a href=\"https://ipywidgets.readthedocs.io/en/stable/user_install.html\">Jupyter\n",
       "  Widgets Documentation</a> for setup instructions.\n",
       "</p>\n",
       "<p>\n",
       "  If you're reading this message in another frontend (for example, a static\n",
       "  rendering on GitHub or <a href=\"https://nbviewer.jupyter.org/\">NBViewer</a>),\n",
       "  it may mean that your frontend doesn't currently support widgets.\n",
       "</p>\n"
      ],
      "text/plain": [
       "  0%|          | 0/4 [00:00<?, ?it/s]"
      ]
     },
     "metadata": {},
     "output_type": "display_data"
    },
    {
     "name": "stdout",
     "output_type": "stream",
     "text": [
      "00param (1, 1, 0, 0)\n",
      "00param (1, 1, 0, 1)\n",
      "00param (1, 1, 1, 0)\n",
      "00param (1, 1, 1, 1)\n",
      "param (1, 1, 1, 1)\n",
      "model.aic 8501.345087343285\n",
      "result_table               0            1\n",
      "0  (1, 1, 0, 0)  8846.519741\n",
      "1  (1, 1, 0, 1)  8501.709834\n",
      "2  (1, 1, 1, 0)  8677.380469\n",
      "3  (1, 1, 1, 1)  8501.345087\n"
     ]
    },
    {
     "data": {
      "text/plain": [
       "\"\\n    y_predict=plotSARIMA(ads_train, best_model, UPS)\\n    #display(forecast.head(3))\\n    ArimaFS=pd.concat([ArimaFS,y_predict], axis=0, ignore_index=True)#axis:合并方式，默认0表示按列合并，1表示按行合并;ignore_index:是否忽略索引                   \\n    print('len(y_predict)',len(y_predict))\\n    print('len(test_y)',len(test_y))\\n    print('test_y',test_y)\\n    for j in range(y_predict.shape[0]):\\n        print('j',j)\\n        #ForecastSet31.append(y_predict.iloc[j,0])#*(MaxValue-MinValue)+MinValue)\\n        TestSet31.append(test_y[j])#*(MaxValue-MinValue)+MinValue)\\n        Datetest_y31.append(Date1test_y0[j])\\n    print('Datetest_y21',Datetest_y31)\\n    \""
      ]
     },
     "execution_count": 11,
     "metadata": {},
     "output_type": "execute_result"
    },
    {
     "name": "stdout",
     "output_type": "stream",
     "text": [
      "1SplitNum0 9216\n"
     ]
    },
    {
     "data": {
      "application/vnd.jupyter.widget-view+json": {
       "model_id": "2f5c9efb6aa04eaa9f9433389f229a7f",
       "version_major": 2,
       "version_minor": 0
      },
      "text/html": [
       "<p>Failed to display Jupyter Widget of type <code>TqdmHBox</code>.</p>\n",
       "<p>\n",
       "  If you're reading this message in the Jupyter Notebook or JupyterLab Notebook, it may mean\n",
       "  that the widgets JavaScript is still loading. If this message persists, it\n",
       "  likely means that the widgets JavaScript library is either not installed or\n",
       "  not enabled. See the <a href=\"https://ipywidgets.readthedocs.io/en/stable/user_install.html\">Jupyter\n",
       "  Widgets Documentation</a> for setup instructions.\n",
       "</p>\n",
       "<p>\n",
       "  If you're reading this message in another frontend (for example, a static\n",
       "  rendering on GitHub or <a href=\"https://nbviewer.jupyter.org/\">NBViewer</a>),\n",
       "  it may mean that your frontend doesn't currently support widgets.\n",
       "</p>\n"
      ],
      "text/plain": [
       "  0%|          | 0/4 [00:00<?, ?it/s]"
      ]
     },
     "metadata": {},
     "output_type": "display_data"
    },
    {
     "name": "stdout",
     "output_type": "stream",
     "text": [
      "00param (1, 1, 0, 0)\n",
      "00param (1, 1, 0, 1)\n",
      "00param (1, 1, 1, 0)\n",
      "00param (1, 1, 1, 1)\n",
      "param (1, 1, 1, 1)\n",
      "model.aic 8496.811128480831\n",
      "result_table               0            1\n",
      "0  (1, 1, 0, 0)  8848.021925\n",
      "1  (1, 1, 0, 1)  8497.821959\n",
      "2  (1, 1, 1, 0)  8666.513065\n",
      "3  (1, 1, 1, 1)  8496.811128\n"
     ]
    },
    {
     "data": {
      "text/plain": [
       "\"\\n    y_predict=plotSARIMA(ads_train, best_model, UPS)\\n    #display(forecast.head(3))\\n    ArimaFS=pd.concat([ArimaFS,y_predict], axis=0, ignore_index=True)#axis:合并方式，默认0表示按列合并，1表示按行合并;ignore_index:是否忽略索引                   \\n    print('len(y_predict)',len(y_predict))\\n    print('len(test_y)',len(test_y))\\n    print('test_y',test_y)\\n    for j in range(y_predict.shape[0]):\\n        print('j',j)\\n        #ForecastSet31.append(y_predict.iloc[j,0])#*(MaxValue-MinValue)+MinValue)\\n        TestSet31.append(test_y[j])#*(MaxValue-MinValue)+MinValue)\\n        Datetest_y31.append(Date1test_y0[j])\\n    print('Datetest_y21',Datetest_y31)\\n    \""
      ]
     },
     "execution_count": 11,
     "metadata": {},
     "output_type": "execute_result"
    },
    {
     "name": "stdout",
     "output_type": "stream",
     "text": [
      "1SplitNum0 9264\n"
     ]
    },
    {
     "data": {
      "application/vnd.jupyter.widget-view+json": {
       "model_id": "292d5ff0aa4649d59a271fd34152322a",
       "version_major": 2,
       "version_minor": 0
      },
      "text/html": [
       "<p>Failed to display Jupyter Widget of type <code>TqdmHBox</code>.</p>\n",
       "<p>\n",
       "  If you're reading this message in the Jupyter Notebook or JupyterLab Notebook, it may mean\n",
       "  that the widgets JavaScript is still loading. If this message persists, it\n",
       "  likely means that the widgets JavaScript library is either not installed or\n",
       "  not enabled. See the <a href=\"https://ipywidgets.readthedocs.io/en/stable/user_install.html\">Jupyter\n",
       "  Widgets Documentation</a> for setup instructions.\n",
       "</p>\n",
       "<p>\n",
       "  If you're reading this message in another frontend (for example, a static\n",
       "  rendering on GitHub or <a href=\"https://nbviewer.jupyter.org/\">NBViewer</a>),\n",
       "  it may mean that your frontend doesn't currently support widgets.\n",
       "</p>\n"
      ],
      "text/plain": [
       "  0%|          | 0/4 [00:00<?, ?it/s]"
      ]
     },
     "metadata": {},
     "output_type": "display_data"
    },
    {
     "name": "stdout",
     "output_type": "stream",
     "text": [
      "00param (1, 1, 0, 0)\n",
      "00param (1, 1, 0, 1)\n",
      "00param (1, 1, 1, 0)\n",
      "00param (1, 1, 1, 1)\n",
      "param (1, 1, 1, 1)\n",
      "model.aic 8497.220154619194\n",
      "result_table               0            1\n",
      "0  (1, 1, 0, 0)  8832.217667\n",
      "1  (1, 1, 0, 1)  8496.683324\n",
      "2  (1, 1, 1, 0)  8641.410821\n",
      "3  (1, 1, 1, 1)  8497.220155\n"
     ]
    },
    {
     "data": {
      "text/plain": [
       "\"\\n    y_predict=plotSARIMA(ads_train, best_model, UPS)\\n    #display(forecast.head(3))\\n    ArimaFS=pd.concat([ArimaFS,y_predict], axis=0, ignore_index=True)#axis:合并方式，默认0表示按列合并，1表示按行合并;ignore_index:是否忽略索引                   \\n    print('len(y_predict)',len(y_predict))\\n    print('len(test_y)',len(test_y))\\n    print('test_y',test_y)\\n    for j in range(y_predict.shape[0]):\\n        print('j',j)\\n        #ForecastSet31.append(y_predict.iloc[j,0])#*(MaxValue-MinValue)+MinValue)\\n        TestSet31.append(test_y[j])#*(MaxValue-MinValue)+MinValue)\\n        Datetest_y31.append(Date1test_y0[j])\\n    print('Datetest_y21',Datetest_y31)\\n    \""
      ]
     },
     "execution_count": 11,
     "metadata": {},
     "output_type": "execute_result"
    },
    {
     "name": "stdout",
     "output_type": "stream",
     "text": [
      "1SplitNum0 9312\n"
     ]
    },
    {
     "data": {
      "application/vnd.jupyter.widget-view+json": {
       "model_id": "e3ec565cbea5493d984fa1eea7f1c8d9",
       "version_major": 2,
       "version_minor": 0
      },
      "text/html": [
       "<p>Failed to display Jupyter Widget of type <code>TqdmHBox</code>.</p>\n",
       "<p>\n",
       "  If you're reading this message in the Jupyter Notebook or JupyterLab Notebook, it may mean\n",
       "  that the widgets JavaScript is still loading. If this message persists, it\n",
       "  likely means that the widgets JavaScript library is either not installed or\n",
       "  not enabled. See the <a href=\"https://ipywidgets.readthedocs.io/en/stable/user_install.html\">Jupyter\n",
       "  Widgets Documentation</a> for setup instructions.\n",
       "</p>\n",
       "<p>\n",
       "  If you're reading this message in another frontend (for example, a static\n",
       "  rendering on GitHub or <a href=\"https://nbviewer.jupyter.org/\">NBViewer</a>),\n",
       "  it may mean that your frontend doesn't currently support widgets.\n",
       "</p>\n"
      ],
      "text/plain": [
       "  0%|          | 0/4 [00:00<?, ?it/s]"
      ]
     },
     "metadata": {},
     "output_type": "display_data"
    },
    {
     "name": "stdout",
     "output_type": "stream",
     "text": [
      "00param (1, 1, 0, 0)\n",
      "00param (1, 1, 0, 1)\n",
      "00param (1, 1, 1, 0)\n",
      "00param (1, 1, 1, 1)\n",
      "param (1, 1, 1, 1)\n",
      "model.aic 8489.111590663826\n",
      "result_table               0            1\n",
      "0  (1, 1, 0, 0)  8800.005362\n",
      "1  (1, 1, 0, 1)  8488.878335\n",
      "2  (1, 1, 1, 0)  8628.888309\n",
      "3  (1, 1, 1, 1)  8489.111591\n"
     ]
    },
    {
     "data": {
      "text/plain": [
       "\"\\n    y_predict=plotSARIMA(ads_train, best_model, UPS)\\n    #display(forecast.head(3))\\n    ArimaFS=pd.concat([ArimaFS,y_predict], axis=0, ignore_index=True)#axis:合并方式，默认0表示按列合并，1表示按行合并;ignore_index:是否忽略索引                   \\n    print('len(y_predict)',len(y_predict))\\n    print('len(test_y)',len(test_y))\\n    print('test_y',test_y)\\n    for j in range(y_predict.shape[0]):\\n        print('j',j)\\n        #ForecastSet31.append(y_predict.iloc[j,0])#*(MaxValue-MinValue)+MinValue)\\n        TestSet31.append(test_y[j])#*(MaxValue-MinValue)+MinValue)\\n        Datetest_y31.append(Date1test_y0[j])\\n    print('Datetest_y21',Datetest_y31)\\n    \""
      ]
     },
     "execution_count": 11,
     "metadata": {},
     "output_type": "execute_result"
    },
    {
     "name": "stdout",
     "output_type": "stream",
     "text": [
      "1SplitNum0 9360\n"
     ]
    },
    {
     "data": {
      "application/vnd.jupyter.widget-view+json": {
       "model_id": "574d1420649142509cce815409fb527e",
       "version_major": 2,
       "version_minor": 0
      },
      "text/html": [
       "<p>Failed to display Jupyter Widget of type <code>TqdmHBox</code>.</p>\n",
       "<p>\n",
       "  If you're reading this message in the Jupyter Notebook or JupyterLab Notebook, it may mean\n",
       "  that the widgets JavaScript is still loading. If this message persists, it\n",
       "  likely means that the widgets JavaScript library is either not installed or\n",
       "  not enabled. See the <a href=\"https://ipywidgets.readthedocs.io/en/stable/user_install.html\">Jupyter\n",
       "  Widgets Documentation</a> for setup instructions.\n",
       "</p>\n",
       "<p>\n",
       "  If you're reading this message in another frontend (for example, a static\n",
       "  rendering on GitHub or <a href=\"https://nbviewer.jupyter.org/\">NBViewer</a>),\n",
       "  it may mean that your frontend doesn't currently support widgets.\n",
       "</p>\n"
      ],
      "text/plain": [
       "  0%|          | 0/4 [00:00<?, ?it/s]"
      ]
     },
     "metadata": {},
     "output_type": "display_data"
    },
    {
     "name": "stdout",
     "output_type": "stream",
     "text": [
      "00param (1, 1, 0, 0)\n",
      "00param (1, 1, 0, 1)\n",
      "00param (1, 1, 1, 0)\n",
      "00param (1, 1, 1, 1)\n",
      "param (1, 1, 1, 1)\n",
      "model.aic 8465.32302925748\n",
      "result_table               0            1\n",
      "0  (1, 1, 0, 0)  8791.837068\n",
      "1  (1, 1, 0, 1)  8465.958372\n",
      "2  (1, 1, 1, 0)  8608.031271\n",
      "3  (1, 1, 1, 1)  8465.323029\n"
     ]
    },
    {
     "data": {
      "text/plain": [
       "\"\\n    y_predict=plotSARIMA(ads_train, best_model, UPS)\\n    #display(forecast.head(3))\\n    ArimaFS=pd.concat([ArimaFS,y_predict], axis=0, ignore_index=True)#axis:合并方式，默认0表示按列合并，1表示按行合并;ignore_index:是否忽略索引                   \\n    print('len(y_predict)',len(y_predict))\\n    print('len(test_y)',len(test_y))\\n    print('test_y',test_y)\\n    for j in range(y_predict.shape[0]):\\n        print('j',j)\\n        #ForecastSet31.append(y_predict.iloc[j,0])#*(MaxValue-MinValue)+MinValue)\\n        TestSet31.append(test_y[j])#*(MaxValue-MinValue)+MinValue)\\n        Datetest_y31.append(Date1test_y0[j])\\n    print('Datetest_y21',Datetest_y31)\\n    \""
      ]
     },
     "execution_count": 11,
     "metadata": {},
     "output_type": "execute_result"
    },
    {
     "name": "stdout",
     "output_type": "stream",
     "text": [
      "1SplitNum0 9408\n"
     ]
    },
    {
     "data": {
      "application/vnd.jupyter.widget-view+json": {
       "model_id": "6017118d0d714dd58644573330c688c4",
       "version_major": 2,
       "version_minor": 0
      },
      "text/html": [
       "<p>Failed to display Jupyter Widget of type <code>TqdmHBox</code>.</p>\n",
       "<p>\n",
       "  If you're reading this message in the Jupyter Notebook or JupyterLab Notebook, it may mean\n",
       "  that the widgets JavaScript is still loading. If this message persists, it\n",
       "  likely means that the widgets JavaScript library is either not installed or\n",
       "  not enabled. See the <a href=\"https://ipywidgets.readthedocs.io/en/stable/user_install.html\">Jupyter\n",
       "  Widgets Documentation</a> for setup instructions.\n",
       "</p>\n",
       "<p>\n",
       "  If you're reading this message in another frontend (for example, a static\n",
       "  rendering on GitHub or <a href=\"https://nbviewer.jupyter.org/\">NBViewer</a>),\n",
       "  it may mean that your frontend doesn't currently support widgets.\n",
       "</p>\n"
      ],
      "text/plain": [
       "  0%|          | 0/4 [00:00<?, ?it/s]"
      ]
     },
     "metadata": {},
     "output_type": "display_data"
    },
    {
     "name": "stdout",
     "output_type": "stream",
     "text": [
      "00param (1, 1, 0, 0)\n",
      "00param (1, 1, 0, 1)\n",
      "00param (1, 1, 1, 0)\n",
      "00param (1, 1, 1, 1)\n",
      "param (1, 1, 1, 1)\n",
      "model.aic 8448.483408157648\n",
      "result_table               0            1\n",
      "0  (1, 1, 0, 0)  8795.734359\n",
      "1  (1, 1, 0, 1)  8448.413630\n",
      "2  (1, 1, 1, 0)  8590.602591\n",
      "3  (1, 1, 1, 1)  8448.483408\n"
     ]
    },
    {
     "data": {
      "text/plain": [
       "\"\\n    y_predict=plotSARIMA(ads_train, best_model, UPS)\\n    #display(forecast.head(3))\\n    ArimaFS=pd.concat([ArimaFS,y_predict], axis=0, ignore_index=True)#axis:合并方式，默认0表示按列合并，1表示按行合并;ignore_index:是否忽略索引                   \\n    print('len(y_predict)',len(y_predict))\\n    print('len(test_y)',len(test_y))\\n    print('test_y',test_y)\\n    for j in range(y_predict.shape[0]):\\n        print('j',j)\\n        #ForecastSet31.append(y_predict.iloc[j,0])#*(MaxValue-MinValue)+MinValue)\\n        TestSet31.append(test_y[j])#*(MaxValue-MinValue)+MinValue)\\n        Datetest_y31.append(Date1test_y0[j])\\n    print('Datetest_y21',Datetest_y31)\\n    \""
      ]
     },
     "execution_count": 11,
     "metadata": {},
     "output_type": "execute_result"
    },
    {
     "name": "stdout",
     "output_type": "stream",
     "text": [
      "1SplitNum0 9456\n"
     ]
    },
    {
     "data": {
      "application/vnd.jupyter.widget-view+json": {
       "model_id": "4dc3894fc69640a5955922a6d03dae5b",
       "version_major": 2,
       "version_minor": 0
      },
      "text/html": [
       "<p>Failed to display Jupyter Widget of type <code>TqdmHBox</code>.</p>\n",
       "<p>\n",
       "  If you're reading this message in the Jupyter Notebook or JupyterLab Notebook, it may mean\n",
       "  that the widgets JavaScript is still loading. If this message persists, it\n",
       "  likely means that the widgets JavaScript library is either not installed or\n",
       "  not enabled. See the <a href=\"https://ipywidgets.readthedocs.io/en/stable/user_install.html\">Jupyter\n",
       "  Widgets Documentation</a> for setup instructions.\n",
       "</p>\n",
       "<p>\n",
       "  If you're reading this message in another frontend (for example, a static\n",
       "  rendering on GitHub or <a href=\"https://nbviewer.jupyter.org/\">NBViewer</a>),\n",
       "  it may mean that your frontend doesn't currently support widgets.\n",
       "</p>\n"
      ],
      "text/plain": [
       "  0%|          | 0/4 [00:00<?, ?it/s]"
      ]
     },
     "metadata": {},
     "output_type": "display_data"
    },
    {
     "name": "stdout",
     "output_type": "stream",
     "text": [
      "00param (1, 1, 0, 0)\n",
      "00param (1, 1, 0, 1)\n",
      "00param (1, 1, 1, 0)\n",
      "00param (1, 1, 1, 1)\n",
      "param (1, 1, 1, 1)\n",
      "model.aic 8440.370982631986\n",
      "result_table               0            1\n",
      "0  (1, 1, 0, 0)  8785.930828\n",
      "1  (1, 1, 0, 1)  8439.785490\n",
      "2  (1, 1, 1, 0)  8591.139805\n",
      "3  (1, 1, 1, 1)  8440.370983\n"
     ]
    },
    {
     "data": {
      "text/plain": [
       "\"\\n    y_predict=plotSARIMA(ads_train, best_model, UPS)\\n    #display(forecast.head(3))\\n    ArimaFS=pd.concat([ArimaFS,y_predict], axis=0, ignore_index=True)#axis:合并方式，默认0表示按列合并，1表示按行合并;ignore_index:是否忽略索引                   \\n    print('len(y_predict)',len(y_predict))\\n    print('len(test_y)',len(test_y))\\n    print('test_y',test_y)\\n    for j in range(y_predict.shape[0]):\\n        print('j',j)\\n        #ForecastSet31.append(y_predict.iloc[j,0])#*(MaxValue-MinValue)+MinValue)\\n        TestSet31.append(test_y[j])#*(MaxValue-MinValue)+MinValue)\\n        Datetest_y31.append(Date1test_y0[j])\\n    print('Datetest_y21',Datetest_y31)\\n    \""
      ]
     },
     "execution_count": 11,
     "metadata": {},
     "output_type": "execute_result"
    },
    {
     "name": "stdout",
     "output_type": "stream",
     "text": [
      "1SplitNum0 9504\n"
     ]
    },
    {
     "data": {
      "application/vnd.jupyter.widget-view+json": {
       "model_id": "815fcd36763c412c965258457fa02370",
       "version_major": 2,
       "version_minor": 0
      },
      "text/html": [
       "<p>Failed to display Jupyter Widget of type <code>TqdmHBox</code>.</p>\n",
       "<p>\n",
       "  If you're reading this message in the Jupyter Notebook or JupyterLab Notebook, it may mean\n",
       "  that the widgets JavaScript is still loading. If this message persists, it\n",
       "  likely means that the widgets JavaScript library is either not installed or\n",
       "  not enabled. See the <a href=\"https://ipywidgets.readthedocs.io/en/stable/user_install.html\">Jupyter\n",
       "  Widgets Documentation</a> for setup instructions.\n",
       "</p>\n",
       "<p>\n",
       "  If you're reading this message in another frontend (for example, a static\n",
       "  rendering on GitHub or <a href=\"https://nbviewer.jupyter.org/\">NBViewer</a>),\n",
       "  it may mean that your frontend doesn't currently support widgets.\n",
       "</p>\n"
      ],
      "text/plain": [
       "  0%|          | 0/4 [00:00<?, ?it/s]"
      ]
     },
     "metadata": {},
     "output_type": "display_data"
    },
    {
     "name": "stdout",
     "output_type": "stream",
     "text": [
      "00param (1, 1, 0, 0)\n",
      "00param (1, 1, 0, 1)\n",
      "00param (1, 1, 1, 0)\n",
      "00param (1, 1, 1, 1)\n",
      "param (1, 1, 1, 1)\n",
      "model.aic 8458.517153279241\n",
      "result_table               0            1\n",
      "0  (1, 1, 0, 0)  8780.085085\n",
      "1  (1, 1, 0, 1)  8457.117935\n",
      "2  (1, 1, 1, 0)  8597.440225\n",
      "3  (1, 1, 1, 1)  8458.517153\n"
     ]
    },
    {
     "data": {
      "text/plain": [
       "\"\\n    y_predict=plotSARIMA(ads_train, best_model, UPS)\\n    #display(forecast.head(3))\\n    ArimaFS=pd.concat([ArimaFS,y_predict], axis=0, ignore_index=True)#axis:合并方式，默认0表示按列合并，1表示按行合并;ignore_index:是否忽略索引                   \\n    print('len(y_predict)',len(y_predict))\\n    print('len(test_y)',len(test_y))\\n    print('test_y',test_y)\\n    for j in range(y_predict.shape[0]):\\n        print('j',j)\\n        #ForecastSet31.append(y_predict.iloc[j,0])#*(MaxValue-MinValue)+MinValue)\\n        TestSet31.append(test_y[j])#*(MaxValue-MinValue)+MinValue)\\n        Datetest_y31.append(Date1test_y0[j])\\n    print('Datetest_y21',Datetest_y31)\\n    \""
      ]
     },
     "execution_count": 11,
     "metadata": {},
     "output_type": "execute_result"
    },
    {
     "name": "stdout",
     "output_type": "stream",
     "text": [
      "1SplitNum0 9552\n"
     ]
    },
    {
     "data": {
      "application/vnd.jupyter.widget-view+json": {
       "model_id": "f8d0953db6294b9bbdaa7c190179a701",
       "version_major": 2,
       "version_minor": 0
      },
      "text/html": [
       "<p>Failed to display Jupyter Widget of type <code>TqdmHBox</code>.</p>\n",
       "<p>\n",
       "  If you're reading this message in the Jupyter Notebook or JupyterLab Notebook, it may mean\n",
       "  that the widgets JavaScript is still loading. If this message persists, it\n",
       "  likely means that the widgets JavaScript library is either not installed or\n",
       "  not enabled. See the <a href=\"https://ipywidgets.readthedocs.io/en/stable/user_install.html\">Jupyter\n",
       "  Widgets Documentation</a> for setup instructions.\n",
       "</p>\n",
       "<p>\n",
       "  If you're reading this message in another frontend (for example, a static\n",
       "  rendering on GitHub or <a href=\"https://nbviewer.jupyter.org/\">NBViewer</a>),\n",
       "  it may mean that your frontend doesn't currently support widgets.\n",
       "</p>\n"
      ],
      "text/plain": [
       "  0%|          | 0/4 [00:00<?, ?it/s]"
      ]
     },
     "metadata": {},
     "output_type": "display_data"
    },
    {
     "name": "stdout",
     "output_type": "stream",
     "text": [
      "00param (1, 1, 0, 0)\n",
      "00param (1, 1, 0, 1)\n",
      "00param (1, 1, 1, 0)\n",
      "00param (1, 1, 1, 1)\n",
      "param (1, 1, 1, 1)\n",
      "model.aic 8447.693163925152\n",
      "result_table               0            1\n",
      "0  (1, 1, 0, 0)  8794.863409\n",
      "1  (1, 1, 0, 1)  8448.311540\n",
      "2  (1, 1, 1, 0)  8602.105805\n",
      "3  (1, 1, 1, 1)  8447.693164\n"
     ]
    },
    {
     "data": {
      "text/plain": [
       "\"\\n    y_predict=plotSARIMA(ads_train, best_model, UPS)\\n    #display(forecast.head(3))\\n    ArimaFS=pd.concat([ArimaFS,y_predict], axis=0, ignore_index=True)#axis:合并方式，默认0表示按列合并，1表示按行合并;ignore_index:是否忽略索引                   \\n    print('len(y_predict)',len(y_predict))\\n    print('len(test_y)',len(test_y))\\n    print('test_y',test_y)\\n    for j in range(y_predict.shape[0]):\\n        print('j',j)\\n        #ForecastSet31.append(y_predict.iloc[j,0])#*(MaxValue-MinValue)+MinValue)\\n        TestSet31.append(test_y[j])#*(MaxValue-MinValue)+MinValue)\\n        Datetest_y31.append(Date1test_y0[j])\\n    print('Datetest_y21',Datetest_y31)\\n    \""
      ]
     },
     "execution_count": 11,
     "metadata": {},
     "output_type": "execute_result"
    },
    {
     "name": "stdout",
     "output_type": "stream",
     "text": [
      "1SplitNum0 9600\n"
     ]
    },
    {
     "data": {
      "application/vnd.jupyter.widget-view+json": {
       "model_id": "5a63e72a07dd4056a8d7ba9c18c50128",
       "version_major": 2,
       "version_minor": 0
      },
      "text/html": [
       "<p>Failed to display Jupyter Widget of type <code>TqdmHBox</code>.</p>\n",
       "<p>\n",
       "  If you're reading this message in the Jupyter Notebook or JupyterLab Notebook, it may mean\n",
       "  that the widgets JavaScript is still loading. If this message persists, it\n",
       "  likely means that the widgets JavaScript library is either not installed or\n",
       "  not enabled. See the <a href=\"https://ipywidgets.readthedocs.io/en/stable/user_install.html\">Jupyter\n",
       "  Widgets Documentation</a> for setup instructions.\n",
       "</p>\n",
       "<p>\n",
       "  If you're reading this message in another frontend (for example, a static\n",
       "  rendering on GitHub or <a href=\"https://nbviewer.jupyter.org/\">NBViewer</a>),\n",
       "  it may mean that your frontend doesn't currently support widgets.\n",
       "</p>\n"
      ],
      "text/plain": [
       "  0%|          | 0/4 [00:00<?, ?it/s]"
      ]
     },
     "metadata": {},
     "output_type": "display_data"
    },
    {
     "name": "stdout",
     "output_type": "stream",
     "text": [
      "00param (1, 1, 0, 0)\n",
      "00param (1, 1, 0, 1)\n",
      "00param (1, 1, 1, 0)\n",
      "00param (1, 1, 1, 1)\n",
      "param (1, 1, 1, 1)\n",
      "model.aic 8441.522646261801\n",
      "result_table               0            1\n",
      "0  (1, 1, 0, 0)  8777.927251\n",
      "1  (1, 1, 0, 1)  8440.861610\n",
      "2  (1, 1, 1, 0)  8595.459205\n",
      "3  (1, 1, 1, 1)  8441.522646\n"
     ]
    },
    {
     "data": {
      "text/plain": [
       "\"\\n    y_predict=plotSARIMA(ads_train, best_model, UPS)\\n    #display(forecast.head(3))\\n    ArimaFS=pd.concat([ArimaFS,y_predict], axis=0, ignore_index=True)#axis:合并方式，默认0表示按列合并，1表示按行合并;ignore_index:是否忽略索引                   \\n    print('len(y_predict)',len(y_predict))\\n    print('len(test_y)',len(test_y))\\n    print('test_y',test_y)\\n    for j in range(y_predict.shape[0]):\\n        print('j',j)\\n        #ForecastSet31.append(y_predict.iloc[j,0])#*(MaxValue-MinValue)+MinValue)\\n        TestSet31.append(test_y[j])#*(MaxValue-MinValue)+MinValue)\\n        Datetest_y31.append(Date1test_y0[j])\\n    print('Datetest_y21',Datetest_y31)\\n    \""
      ]
     },
     "execution_count": 11,
     "metadata": {},
     "output_type": "execute_result"
    },
    {
     "name": "stdout",
     "output_type": "stream",
     "text": [
      "1SplitNum0 9648\n"
     ]
    },
    {
     "data": {
      "application/vnd.jupyter.widget-view+json": {
       "model_id": "1eb10689197d4629a44ccdf339d1b9e7",
       "version_major": 2,
       "version_minor": 0
      },
      "text/html": [
       "<p>Failed to display Jupyter Widget of type <code>TqdmHBox</code>.</p>\n",
       "<p>\n",
       "  If you're reading this message in the Jupyter Notebook or JupyterLab Notebook, it may mean\n",
       "  that the widgets JavaScript is still loading. If this message persists, it\n",
       "  likely means that the widgets JavaScript library is either not installed or\n",
       "  not enabled. See the <a href=\"https://ipywidgets.readthedocs.io/en/stable/user_install.html\">Jupyter\n",
       "  Widgets Documentation</a> for setup instructions.\n",
       "</p>\n",
       "<p>\n",
       "  If you're reading this message in another frontend (for example, a static\n",
       "  rendering on GitHub or <a href=\"https://nbviewer.jupyter.org/\">NBViewer</a>),\n",
       "  it may mean that your frontend doesn't currently support widgets.\n",
       "</p>\n"
      ],
      "text/plain": [
       "  0%|          | 0/4 [00:00<?, ?it/s]"
      ]
     },
     "metadata": {},
     "output_type": "display_data"
    },
    {
     "name": "stdout",
     "output_type": "stream",
     "text": [
      "00param (1, 1, 0, 0)\n",
      "00param (1, 1, 0, 1)\n",
      "00param (1, 1, 1, 0)\n",
      "00param (1, 1, 1, 1)\n",
      "param (1, 1, 1, 1)\n",
      "model.aic 8451.47107352889\n",
      "result_table               0            1\n",
      "0  (1, 1, 0, 0)  8741.462608\n",
      "1  (1, 1, 0, 1)  8449.503743\n",
      "2  (1, 1, 1, 0)  8590.678359\n",
      "3  (1, 1, 1, 1)  8451.471074\n"
     ]
    },
    {
     "data": {
      "text/plain": [
       "\"\\n    y_predict=plotSARIMA(ads_train, best_model, UPS)\\n    #display(forecast.head(3))\\n    ArimaFS=pd.concat([ArimaFS,y_predict], axis=0, ignore_index=True)#axis:合并方式，默认0表示按列合并，1表示按行合并;ignore_index:是否忽略索引                   \\n    print('len(y_predict)',len(y_predict))\\n    print('len(test_y)',len(test_y))\\n    print('test_y',test_y)\\n    for j in range(y_predict.shape[0]):\\n        print('j',j)\\n        #ForecastSet31.append(y_predict.iloc[j,0])#*(MaxValue-MinValue)+MinValue)\\n        TestSet31.append(test_y[j])#*(MaxValue-MinValue)+MinValue)\\n        Datetest_y31.append(Date1test_y0[j])\\n    print('Datetest_y21',Datetest_y31)\\n    \""
      ]
     },
     "execution_count": 11,
     "metadata": {},
     "output_type": "execute_result"
    },
    {
     "name": "stdout",
     "output_type": "stream",
     "text": [
      "1SplitNum0 9696\n"
     ]
    },
    {
     "data": {
      "application/vnd.jupyter.widget-view+json": {
       "model_id": "a758508f186b4af78d3584c68954c624",
       "version_major": 2,
       "version_minor": 0
      },
      "text/html": [
       "<p>Failed to display Jupyter Widget of type <code>TqdmHBox</code>.</p>\n",
       "<p>\n",
       "  If you're reading this message in the Jupyter Notebook or JupyterLab Notebook, it may mean\n",
       "  that the widgets JavaScript is still loading. If this message persists, it\n",
       "  likely means that the widgets JavaScript library is either not installed or\n",
       "  not enabled. See the <a href=\"https://ipywidgets.readthedocs.io/en/stable/user_install.html\">Jupyter\n",
       "  Widgets Documentation</a> for setup instructions.\n",
       "</p>\n",
       "<p>\n",
       "  If you're reading this message in another frontend (for example, a static\n",
       "  rendering on GitHub or <a href=\"https://nbviewer.jupyter.org/\">NBViewer</a>),\n",
       "  it may mean that your frontend doesn't currently support widgets.\n",
       "</p>\n"
      ],
      "text/plain": [
       "  0%|          | 0/4 [00:00<?, ?it/s]"
      ]
     },
     "metadata": {},
     "output_type": "display_data"
    },
    {
     "name": "stdout",
     "output_type": "stream",
     "text": [
      "00param (1, 1, 0, 0)\n",
      "00param (1, 1, 0, 1)\n",
      "00param (1, 1, 1, 0)\n",
      "00param (1, 1, 1, 1)\n",
      "param (1, 1, 1, 1)\n",
      "model.aic 8430.460146518348\n",
      "result_table               0            1\n",
      "0  (1, 1, 0, 0)  8742.644027\n",
      "1  (1, 1, 0, 1)  8428.592757\n",
      "2  (1, 1, 1, 0)  8578.226555\n",
      "3  (1, 1, 1, 1)  8430.460147\n"
     ]
    },
    {
     "data": {
      "text/plain": [
       "\"\\n    y_predict=plotSARIMA(ads_train, best_model, UPS)\\n    #display(forecast.head(3))\\n    ArimaFS=pd.concat([ArimaFS,y_predict], axis=0, ignore_index=True)#axis:合并方式，默认0表示按列合并，1表示按行合并;ignore_index:是否忽略索引                   \\n    print('len(y_predict)',len(y_predict))\\n    print('len(test_y)',len(test_y))\\n    print('test_y',test_y)\\n    for j in range(y_predict.shape[0]):\\n        print('j',j)\\n        #ForecastSet31.append(y_predict.iloc[j,0])#*(MaxValue-MinValue)+MinValue)\\n        TestSet31.append(test_y[j])#*(MaxValue-MinValue)+MinValue)\\n        Datetest_y31.append(Date1test_y0[j])\\n    print('Datetest_y21',Datetest_y31)\\n    \""
      ]
     },
     "execution_count": 11,
     "metadata": {},
     "output_type": "execute_result"
    },
    {
     "name": "stdout",
     "output_type": "stream",
     "text": [
      "1SplitNum0 9744\n"
     ]
    },
    {
     "data": {
      "application/vnd.jupyter.widget-view+json": {
       "model_id": "0d25177dd0bf4850a0e0bb4a1ae010eb",
       "version_major": 2,
       "version_minor": 0
      },
      "text/html": [
       "<p>Failed to display Jupyter Widget of type <code>TqdmHBox</code>.</p>\n",
       "<p>\n",
       "  If you're reading this message in the Jupyter Notebook or JupyterLab Notebook, it may mean\n",
       "  that the widgets JavaScript is still loading. If this message persists, it\n",
       "  likely means that the widgets JavaScript library is either not installed or\n",
       "  not enabled. See the <a href=\"https://ipywidgets.readthedocs.io/en/stable/user_install.html\">Jupyter\n",
       "  Widgets Documentation</a> for setup instructions.\n",
       "</p>\n",
       "<p>\n",
       "  If you're reading this message in another frontend (for example, a static\n",
       "  rendering on GitHub or <a href=\"https://nbviewer.jupyter.org/\">NBViewer</a>),\n",
       "  it may mean that your frontend doesn't currently support widgets.\n",
       "</p>\n"
      ],
      "text/plain": [
       "  0%|          | 0/4 [00:00<?, ?it/s]"
      ]
     },
     "metadata": {},
     "output_type": "display_data"
    },
    {
     "name": "stdout",
     "output_type": "stream",
     "text": [
      "00param (1, 1, 0, 0)\n",
      "00param (1, 1, 0, 1)\n",
      "00param (1, 1, 1, 0)\n",
      "00param (1, 1, 1, 1)\n",
      "param (1, 1, 1, 1)\n",
      "model.aic 8428.94002654473\n",
      "result_table               0            1\n",
      "0  (1, 1, 0, 0)  8751.783598\n",
      "1  (1, 1, 0, 1)  8427.414068\n",
      "2  (1, 1, 1, 0)  8579.347289\n",
      "3  (1, 1, 1, 1)  8428.940027\n"
     ]
    },
    {
     "data": {
      "text/plain": [
       "\"\\n    y_predict=plotSARIMA(ads_train, best_model, UPS)\\n    #display(forecast.head(3))\\n    ArimaFS=pd.concat([ArimaFS,y_predict], axis=0, ignore_index=True)#axis:合并方式，默认0表示按列合并，1表示按行合并;ignore_index:是否忽略索引                   \\n    print('len(y_predict)',len(y_predict))\\n    print('len(test_y)',len(test_y))\\n    print('test_y',test_y)\\n    for j in range(y_predict.shape[0]):\\n        print('j',j)\\n        #ForecastSet31.append(y_predict.iloc[j,0])#*(MaxValue-MinValue)+MinValue)\\n        TestSet31.append(test_y[j])#*(MaxValue-MinValue)+MinValue)\\n        Datetest_y31.append(Date1test_y0[j])\\n    print('Datetest_y21',Datetest_y31)\\n    \""
      ]
     },
     "execution_count": 11,
     "metadata": {},
     "output_type": "execute_result"
    },
    {
     "name": "stdout",
     "output_type": "stream",
     "text": [
      "1SplitNum0 9792\n"
     ]
    },
    {
     "data": {
      "application/vnd.jupyter.widget-view+json": {
       "model_id": "f35f83b66d984faba282f45ad46b56f0",
       "version_major": 2,
       "version_minor": 0
      },
      "text/html": [
       "<p>Failed to display Jupyter Widget of type <code>TqdmHBox</code>.</p>\n",
       "<p>\n",
       "  If you're reading this message in the Jupyter Notebook or JupyterLab Notebook, it may mean\n",
       "  that the widgets JavaScript is still loading. If this message persists, it\n",
       "  likely means that the widgets JavaScript library is either not installed or\n",
       "  not enabled. See the <a href=\"https://ipywidgets.readthedocs.io/en/stable/user_install.html\">Jupyter\n",
       "  Widgets Documentation</a> for setup instructions.\n",
       "</p>\n",
       "<p>\n",
       "  If you're reading this message in another frontend (for example, a static\n",
       "  rendering on GitHub or <a href=\"https://nbviewer.jupyter.org/\">NBViewer</a>),\n",
       "  it may mean that your frontend doesn't currently support widgets.\n",
       "</p>\n"
      ],
      "text/plain": [
       "  0%|          | 0/4 [00:00<?, ?it/s]"
      ]
     },
     "metadata": {},
     "output_type": "display_data"
    },
    {
     "name": "stdout",
     "output_type": "stream",
     "text": [
      "00param (1, 1, 0, 0)\n",
      "00param (1, 1, 0, 1)\n",
      "00param (1, 1, 1, 0)\n",
      "00param (1, 1, 1, 1)\n",
      "param (1, 1, 1, 1)\n",
      "model.aic 8426.645657728366\n",
      "result_table               0            1\n",
      "0  (1, 1, 0, 0)  8743.264866\n",
      "1  (1, 1, 0, 1)  8425.020859\n",
      "2  (1, 1, 1, 0)  8582.227445\n",
      "3  (1, 1, 1, 1)  8426.645658\n"
     ]
    },
    {
     "data": {
      "text/plain": [
       "\"\\n    y_predict=plotSARIMA(ads_train, best_model, UPS)\\n    #display(forecast.head(3))\\n    ArimaFS=pd.concat([ArimaFS,y_predict], axis=0, ignore_index=True)#axis:合并方式，默认0表示按列合并，1表示按行合并;ignore_index:是否忽略索引                   \\n    print('len(y_predict)',len(y_predict))\\n    print('len(test_y)',len(test_y))\\n    print('test_y',test_y)\\n    for j in range(y_predict.shape[0]):\\n        print('j',j)\\n        #ForecastSet31.append(y_predict.iloc[j,0])#*(MaxValue-MinValue)+MinValue)\\n        TestSet31.append(test_y[j])#*(MaxValue-MinValue)+MinValue)\\n        Datetest_y31.append(Date1test_y0[j])\\n    print('Datetest_y21',Datetest_y31)\\n    \""
      ]
     },
     "execution_count": 11,
     "metadata": {},
     "output_type": "execute_result"
    },
    {
     "name": "stdout",
     "output_type": "stream",
     "text": [
      "1SplitNum0 9840\n"
     ]
    },
    {
     "data": {
      "application/vnd.jupyter.widget-view+json": {
       "model_id": "b363a801485745a6ae2b235cd7f8e9cd",
       "version_major": 2,
       "version_minor": 0
      },
      "text/html": [
       "<p>Failed to display Jupyter Widget of type <code>TqdmHBox</code>.</p>\n",
       "<p>\n",
       "  If you're reading this message in the Jupyter Notebook or JupyterLab Notebook, it may mean\n",
       "  that the widgets JavaScript is still loading. If this message persists, it\n",
       "  likely means that the widgets JavaScript library is either not installed or\n",
       "  not enabled. See the <a href=\"https://ipywidgets.readthedocs.io/en/stable/user_install.html\">Jupyter\n",
       "  Widgets Documentation</a> for setup instructions.\n",
       "</p>\n",
       "<p>\n",
       "  If you're reading this message in another frontend (for example, a static\n",
       "  rendering on GitHub or <a href=\"https://nbviewer.jupyter.org/\">NBViewer</a>),\n",
       "  it may mean that your frontend doesn't currently support widgets.\n",
       "</p>\n"
      ],
      "text/plain": [
       "  0%|          | 0/4 [00:00<?, ?it/s]"
      ]
     },
     "metadata": {},
     "output_type": "display_data"
    },
    {
     "name": "stdout",
     "output_type": "stream",
     "text": [
      "00param (1, 1, 0, 0)\n",
      "00param (1, 1, 0, 1)\n",
      "00param (1, 1, 1, 0)\n",
      "00param (1, 1, 1, 1)\n",
      "param (1, 1, 1, 1)\n",
      "model.aic 8424.990257478927\n",
      "result_table               0            1\n",
      "0  (1, 1, 0, 0)  8773.339206\n",
      "1  (1, 1, 0, 1)  8426.221278\n",
      "2  (1, 1, 1, 0)  8601.927516\n",
      "3  (1, 1, 1, 1)  8424.990257\n"
     ]
    },
    {
     "data": {
      "text/plain": [
       "\"\\n    y_predict=plotSARIMA(ads_train, best_model, UPS)\\n    #display(forecast.head(3))\\n    ArimaFS=pd.concat([ArimaFS,y_predict], axis=0, ignore_index=True)#axis:合并方式，默认0表示按列合并，1表示按行合并;ignore_index:是否忽略索引                   \\n    print('len(y_predict)',len(y_predict))\\n    print('len(test_y)',len(test_y))\\n    print('test_y',test_y)\\n    for j in range(y_predict.shape[0]):\\n        print('j',j)\\n        #ForecastSet31.append(y_predict.iloc[j,0])#*(MaxValue-MinValue)+MinValue)\\n        TestSet31.append(test_y[j])#*(MaxValue-MinValue)+MinValue)\\n        Datetest_y31.append(Date1test_y0[j])\\n    print('Datetest_y21',Datetest_y31)\\n    \""
      ]
     },
     "execution_count": 11,
     "metadata": {},
     "output_type": "execute_result"
    },
    {
     "name": "stdout",
     "output_type": "stream",
     "text": [
      "1SplitNum0 9888\n"
     ]
    },
    {
     "data": {
      "application/vnd.jupyter.widget-view+json": {
       "model_id": "7f9fc005ac5d4efd8db9e12ec41c7c3e",
       "version_major": 2,
       "version_minor": 0
      },
      "text/html": [
       "<p>Failed to display Jupyter Widget of type <code>TqdmHBox</code>.</p>\n",
       "<p>\n",
       "  If you're reading this message in the Jupyter Notebook or JupyterLab Notebook, it may mean\n",
       "  that the widgets JavaScript is still loading. If this message persists, it\n",
       "  likely means that the widgets JavaScript library is either not installed or\n",
       "  not enabled. See the <a href=\"https://ipywidgets.readthedocs.io/en/stable/user_install.html\">Jupyter\n",
       "  Widgets Documentation</a> for setup instructions.\n",
       "</p>\n",
       "<p>\n",
       "  If you're reading this message in another frontend (for example, a static\n",
       "  rendering on GitHub or <a href=\"https://nbviewer.jupyter.org/\">NBViewer</a>),\n",
       "  it may mean that your frontend doesn't currently support widgets.\n",
       "</p>\n"
      ],
      "text/plain": [
       "  0%|          | 0/4 [00:00<?, ?it/s]"
      ]
     },
     "metadata": {},
     "output_type": "display_data"
    },
    {
     "name": "stdout",
     "output_type": "stream",
     "text": [
      "00param (1, 1, 0, 0)\n",
      "00param (1, 1, 0, 1)\n",
      "00param (1, 1, 1, 0)\n",
      "00param (1, 1, 1, 1)\n",
      "param (1, 1, 1, 1)\n",
      "model.aic 8421.793716912263\n",
      "result_table               0            1\n",
      "0  (1, 1, 0, 0)  8772.515503\n",
      "1  (1, 1, 0, 1)  8422.787113\n",
      "2  (1, 1, 1, 0)  8595.763446\n",
      "3  (1, 1, 1, 1)  8421.793717\n"
     ]
    },
    {
     "data": {
      "text/plain": [
       "\"\\n    y_predict=plotSARIMA(ads_train, best_model, UPS)\\n    #display(forecast.head(3))\\n    ArimaFS=pd.concat([ArimaFS,y_predict], axis=0, ignore_index=True)#axis:合并方式，默认0表示按列合并，1表示按行合并;ignore_index:是否忽略索引                   \\n    print('len(y_predict)',len(y_predict))\\n    print('len(test_y)',len(test_y))\\n    print('test_y',test_y)\\n    for j in range(y_predict.shape[0]):\\n        print('j',j)\\n        #ForecastSet31.append(y_predict.iloc[j,0])#*(MaxValue-MinValue)+MinValue)\\n        TestSet31.append(test_y[j])#*(MaxValue-MinValue)+MinValue)\\n        Datetest_y31.append(Date1test_y0[j])\\n    print('Datetest_y21',Datetest_y31)\\n    \""
      ]
     },
     "execution_count": 11,
     "metadata": {},
     "output_type": "execute_result"
    },
    {
     "name": "stdout",
     "output_type": "stream",
     "text": [
      "1SplitNum0 9936\n"
     ]
    },
    {
     "data": {
      "application/vnd.jupyter.widget-view+json": {
       "model_id": "95833d660946402ca7d0550cd1cc0011",
       "version_major": 2,
       "version_minor": 0
      },
      "text/html": [
       "<p>Failed to display Jupyter Widget of type <code>TqdmHBox</code>.</p>\n",
       "<p>\n",
       "  If you're reading this message in the Jupyter Notebook or JupyterLab Notebook, it may mean\n",
       "  that the widgets JavaScript is still loading. If this message persists, it\n",
       "  likely means that the widgets JavaScript library is either not installed or\n",
       "  not enabled. See the <a href=\"https://ipywidgets.readthedocs.io/en/stable/user_install.html\">Jupyter\n",
       "  Widgets Documentation</a> for setup instructions.\n",
       "</p>\n",
       "<p>\n",
       "  If you're reading this message in another frontend (for example, a static\n",
       "  rendering on GitHub or <a href=\"https://nbviewer.jupyter.org/\">NBViewer</a>),\n",
       "  it may mean that your frontend doesn't currently support widgets.\n",
       "</p>\n"
      ],
      "text/plain": [
       "  0%|          | 0/4 [00:00<?, ?it/s]"
      ]
     },
     "metadata": {},
     "output_type": "display_data"
    },
    {
     "name": "stdout",
     "output_type": "stream",
     "text": [
      "00param (1, 1, 0, 0)\n",
      "00param (1, 1, 0, 1)\n",
      "00param (1, 1, 1, 0)\n",
      "00param (1, 1, 1, 1)\n",
      "param (1, 1, 1, 1)\n",
      "model.aic 8414.433390455202\n",
      "result_table               0            1\n",
      "0  (1, 1, 0, 0)  8748.716864\n",
      "1  (1, 1, 0, 1)  8413.298257\n",
      "2  (1, 1, 1, 0)  8574.515094\n",
      "3  (1, 1, 1, 1)  8414.433390\n"
     ]
    },
    {
     "data": {
      "text/plain": [
       "\"\\n    y_predict=plotSARIMA(ads_train, best_model, UPS)\\n    #display(forecast.head(3))\\n    ArimaFS=pd.concat([ArimaFS,y_predict], axis=0, ignore_index=True)#axis:合并方式，默认0表示按列合并，1表示按行合并;ignore_index:是否忽略索引                   \\n    print('len(y_predict)',len(y_predict))\\n    print('len(test_y)',len(test_y))\\n    print('test_y',test_y)\\n    for j in range(y_predict.shape[0]):\\n        print('j',j)\\n        #ForecastSet31.append(y_predict.iloc[j,0])#*(MaxValue-MinValue)+MinValue)\\n        TestSet31.append(test_y[j])#*(MaxValue-MinValue)+MinValue)\\n        Datetest_y31.append(Date1test_y0[j])\\n    print('Datetest_y21',Datetest_y31)\\n    \""
      ]
     },
     "execution_count": 11,
     "metadata": {},
     "output_type": "execute_result"
    },
    {
     "name": "stdout",
     "output_type": "stream",
     "text": [
      "1SplitNum0 9984\n"
     ]
    },
    {
     "data": {
      "application/vnd.jupyter.widget-view+json": {
       "model_id": "f52816119d0242c4ab279578c39d3faa",
       "version_major": 2,
       "version_minor": 0
      },
      "text/html": [
       "<p>Failed to display Jupyter Widget of type <code>TqdmHBox</code>.</p>\n",
       "<p>\n",
       "  If you're reading this message in the Jupyter Notebook or JupyterLab Notebook, it may mean\n",
       "  that the widgets JavaScript is still loading. If this message persists, it\n",
       "  likely means that the widgets JavaScript library is either not installed or\n",
       "  not enabled. See the <a href=\"https://ipywidgets.readthedocs.io/en/stable/user_install.html\">Jupyter\n",
       "  Widgets Documentation</a> for setup instructions.\n",
       "</p>\n",
       "<p>\n",
       "  If you're reading this message in another frontend (for example, a static\n",
       "  rendering on GitHub or <a href=\"https://nbviewer.jupyter.org/\">NBViewer</a>),\n",
       "  it may mean that your frontend doesn't currently support widgets.\n",
       "</p>\n"
      ],
      "text/plain": [
       "  0%|          | 0/4 [00:00<?, ?it/s]"
      ]
     },
     "metadata": {},
     "output_type": "display_data"
    },
    {
     "name": "stdout",
     "output_type": "stream",
     "text": [
      "00param (1, 1, 0, 0)\n",
      "00param (1, 1, 0, 1)\n",
      "00param (1, 1, 1, 0)\n",
      "00param (1, 1, 1, 1)\n",
      "param (1, 1, 1, 1)\n",
      "model.aic 8403.48389369162\n",
      "result_table               0            1\n",
      "0  (1, 1, 0, 0)  8704.870437\n",
      "1  (1, 1, 0, 1)  8401.786943\n",
      "2  (1, 1, 1, 0)  8551.409262\n",
      "3  (1, 1, 1, 1)  8403.483894\n"
     ]
    },
    {
     "data": {
      "text/plain": [
       "\"\\n    y_predict=plotSARIMA(ads_train, best_model, UPS)\\n    #display(forecast.head(3))\\n    ArimaFS=pd.concat([ArimaFS,y_predict], axis=0, ignore_index=True)#axis:合并方式，默认0表示按列合并，1表示按行合并;ignore_index:是否忽略索引                   \\n    print('len(y_predict)',len(y_predict))\\n    print('len(test_y)',len(test_y))\\n    print('test_y',test_y)\\n    for j in range(y_predict.shape[0]):\\n        print('j',j)\\n        #ForecastSet31.append(y_predict.iloc[j,0])#*(MaxValue-MinValue)+MinValue)\\n        TestSet31.append(test_y[j])#*(MaxValue-MinValue)+MinValue)\\n        Datetest_y31.append(Date1test_y0[j])\\n    print('Datetest_y21',Datetest_y31)\\n    \""
      ]
     },
     "execution_count": 11,
     "metadata": {},
     "output_type": "execute_result"
    },
    {
     "name": "stdout",
     "output_type": "stream",
     "text": [
      "1SplitNum0 10032\n"
     ]
    },
    {
     "data": {
      "application/vnd.jupyter.widget-view+json": {
       "model_id": "3ebe312b33ad4e6b9c111ae198483ce1",
       "version_major": 2,
       "version_minor": 0
      },
      "text/html": [
       "<p>Failed to display Jupyter Widget of type <code>TqdmHBox</code>.</p>\n",
       "<p>\n",
       "  If you're reading this message in the Jupyter Notebook or JupyterLab Notebook, it may mean\n",
       "  that the widgets JavaScript is still loading. If this message persists, it\n",
       "  likely means that the widgets JavaScript library is either not installed or\n",
       "  not enabled. See the <a href=\"https://ipywidgets.readthedocs.io/en/stable/user_install.html\">Jupyter\n",
       "  Widgets Documentation</a> for setup instructions.\n",
       "</p>\n",
       "<p>\n",
       "  If you're reading this message in another frontend (for example, a static\n",
       "  rendering on GitHub or <a href=\"https://nbviewer.jupyter.org/\">NBViewer</a>),\n",
       "  it may mean that your frontend doesn't currently support widgets.\n",
       "</p>\n"
      ],
      "text/plain": [
       "  0%|          | 0/4 [00:00<?, ?it/s]"
      ]
     },
     "metadata": {},
     "output_type": "display_data"
    },
    {
     "name": "stdout",
     "output_type": "stream",
     "text": [
      "00param (1, 1, 0, 0)\n",
      "00param (1, 1, 0, 1)\n",
      "00param (1, 1, 1, 0)\n",
      "00param (1, 1, 1, 1)\n",
      "param (1, 1, 1, 1)\n",
      "model.aic 8363.005324067792\n",
      "result_table               0            1\n",
      "0  (1, 1, 0, 0)  8687.506813\n",
      "1  (1, 1, 0, 1)  8361.561444\n",
      "2  (1, 1, 1, 0)  8512.899562\n",
      "3  (1, 1, 1, 1)  8363.005324\n"
     ]
    },
    {
     "data": {
      "text/plain": [
       "\"\\n    y_predict=plotSARIMA(ads_train, best_model, UPS)\\n    #display(forecast.head(3))\\n    ArimaFS=pd.concat([ArimaFS,y_predict], axis=0, ignore_index=True)#axis:合并方式，默认0表示按列合并，1表示按行合并;ignore_index:是否忽略索引                   \\n    print('len(y_predict)',len(y_predict))\\n    print('len(test_y)',len(test_y))\\n    print('test_y',test_y)\\n    for j in range(y_predict.shape[0]):\\n        print('j',j)\\n        #ForecastSet31.append(y_predict.iloc[j,0])#*(MaxValue-MinValue)+MinValue)\\n        TestSet31.append(test_y[j])#*(MaxValue-MinValue)+MinValue)\\n        Datetest_y31.append(Date1test_y0[j])\\n    print('Datetest_y21',Datetest_y31)\\n    \""
      ]
     },
     "execution_count": 11,
     "metadata": {},
     "output_type": "execute_result"
    },
    {
     "name": "stdout",
     "output_type": "stream",
     "text": [
      "TrainT,TestT 576212.8982398001 26.2752376000023\n"
     ]
    }
   ],
   "source": [
    "ads =d1_sale[['timestamp','value']]\n",
    "ads .rename(columns={'value':'Ads'}, inplace = True)\n",
    "UPS=1###表示多久更新一次\n",
    "n_input =4\n",
    "n_out = 4#96\n",
    "step=1#向前移动步数\n",
    "abc=30\n",
    "ArimaFS=pd.DataFrame()\n",
    "ForecastSet31=[]\n",
    "TestSet31=[]\n",
    "Datetest_y31=[]\n",
    "TrainT=0\n",
    "TestT=0\n",
    "MiLth=int(24*60/abc)#*2\n",
    "UPS=MiLth#48*2#多久滚动一次\n",
    "#UPS=n_out\n",
    "##数据拆分\n",
    "##数据拆分\n",
    "SplitNum=int((d1_sale.shape[0]/int(24*60/abc))*0.7)*int(24*60/abc)-48*2##天数的百分之0.7,再乘以48,测试集的初始值\n",
    "print('SplitNum',SplitNum)\n",
    "SplitNum0=SplitNum#-n_input\n",
    "#SplitNum0=10076#-n_input\n",
    "ads_test  = ads.iloc[SplitNum0:,:]\n",
    "########################原始序列SplitNum处，对应y的SplitNum0########################\n",
    "for SplitNum0 in range(SplitNum0,d1_sale.shape[0],MiLth):     ###96表示1天更新一次  \n",
    "#for SplitNum0 in range(SplitNum0,SplitNum0+2*MiLth,MiLth):     ###96表示1天更新一次  \n",
    "#for SplitNum0 in range(SplitNum0+10*MiLth,d1_sale.shape[0],MiLth): \n",
    "    print('1SplitNum0',SplitNum0)\n",
    "    T0=0\n",
    "    #ads_train = d1_sale.iloc[(SplitNum0-10*MiLth):SplitNum0,1]###去掉差分集合中的0\n",
    "    ads_train = d1_sale.iloc[(SplitNum0-int(14*MiLth)):SplitNum0,1]###去掉差分集合中的0\n",
    "    test_y  = list(d1_sale.iloc[SplitNum0:(SplitNum0+MiLth),1])\n",
    "    Date1test_y0=list(d1_sale.iloc[SplitNum0:(SplitNum0+MiLth),0]) \n",
    "    #print('Date1test_y0',Date1test_y0)\n",
    "    ##定阶\n",
    "    result_table = optimizeSARIMA(parameters_list, d, D, s)\n",
    "    p, q, P, Q = result_table.parameters[0]\n",
    "    \n",
    "    TrainT+=time.clock()-T0\n",
    "    #print('test_y',test_y)\n",
    "    \n",
    "    ###基于最优阶数，确定最优模型\n",
    "    best_model=sm.tsa.statespace.SARIMAX(ads_train, order=(p, d, q),seasonal_order=(P, D, Q, s)).fit(disp=-1)\n",
    "    #display(sale_train.head(3))\n",
    "    \n",
    "    T1=time.clock()\n",
    "    \"\"\"\n",
    "    y_predict=plotSARIMA(ads_train, best_model, UPS)\n",
    "    #display(forecast.head(3))\n",
    "    ArimaFS=pd.concat([ArimaFS,y_predict], axis=0, ignore_index=True)#axis:合并方式，默认0表示按列合并，1表示按行合并;ignore_index:是否忽略索引                   \n",
    "    print('len(y_predict)',len(y_predict))\n",
    "    print('len(test_y)',len(test_y))\n",
    "    print('test_y',test_y)\n",
    "    for j in range(y_predict.shape[0]):\n",
    "        print('j',j)\n",
    "        #ForecastSet31.append(y_predict.iloc[j,0])#*(MaxValue-MinValue)+MinValue)\n",
    "        TestSet31.append(test_y[j])#*(MaxValue-MinValue)+MinValue)\n",
    "        Datetest_y31.append(Date1test_y0[j])\n",
    "    print('Datetest_y21',Datetest_y31)\n",
    "    \"\"\"\n",
    "    y_predict=plotSARIMA(ads_train, best_model, UPS)\n",
    "    #display(forecast.head(3))\n",
    "    #print('len(y_predict)',len(y_predict))\n",
    "    #print('len(test_y)',len(test_y))\n",
    "    #print('test_y',test_y)\n",
    "    y_predictNew=pd.DataFrame()\n",
    "    for j in range(len(test_y)):\n",
    "        #print('j',j)\n",
    "        #ForecastSet31.append(y_predict.iloc[j,0])#*(MaxValue-MinValue)+MinValue)\n",
    "        TestSet31.append(test_y[j])#*(MaxValue-MinValue)+MinValue)\n",
    "        Datetest_y31.append(Date1test_y0[j])\n",
    "    y_predictNew=y_predict.iloc[:len(test_y)]\n",
    "    ArimaFS=pd.concat([ArimaFS,y_predictNew], axis=0, ignore_index=True)#axis:合并方式，默认0表示按列合并，1表示按行合并;ignore_index:是否忽略索引                   \n",
    "    #print('Datetest_y21',Datetest_y31)\n",
    "    #print('y_predictNew',y_predictNew)\n",
    "    TestT+=time.clock()-T1    \n",
    "print('TrainT,TestT',TrainT,TestT)\n",
    "#print('TestSet3, ForecastSet3',TestSet3, ForecastSet3)\n",
    "#AllRMSE,scores,AllMSE,AllMAE,AllMAPE,AllNum=evaluate_forecasts1(np.array(TestSet3), np.array(ForecastSet3))"
   ]
  },
  {
   "cell_type": "code",
   "execution_count": 24,
   "metadata": {},
   "outputs": [],
   "source": [
    "#display(ArimaFS.head(20))\n",
    "#print('TestSet31',TestSet31)\n",
    "#print('Datetest_y21',Datetest_y31)\n",
    "ArimaFS.to_csv('ArimaFS.csv')\n",
    "ArimaFSYCSet=list(ArimaFS.iloc[:,0])\n",
    "#print('ArimaFSYCSet',ArimaFSYCSet)"
   ]
  },
  {
   "cell_type": "markdown",
   "metadata": {},
   "source": [
    "# Forecasting Test "
   ]
  },
  {
   "cell_type": "markdown",
   "metadata": {},
   "source": [
    "## Define function"
   ]
  },
  {
   "cell_type": "code",
   "execution_count": 25,
   "metadata": {},
   "outputs": [],
   "source": [
    "#03评估预测误差\n",
    "def evaluate_forecasts1(actual, predicted):#返回预测值的总RMSE以及每天RMSE的列表\n",
    "    scores = list() \n",
    "    for i in range(actual.shape[1]):\n",
    "        mse = mean_squared_error(actual[:, i], predicted[:, i])#计算MSE\n",
    "        rmse = sqrt(mse)#计算RMSE\n",
    "        scores.append(rmse)#计算每个预测值的RMSE,存放在列表#这个现在来看没有多大意义，因为不是同一个时刻,表示向前1步、2步、几步的预测效果\n",
    "    s = 0\n",
    "    sMAE = 0\n",
    "    sMAPE = 0\n",
    "    RMSE1=list()\n",
    "    for row in range(actual.shape[0]):\n",
    "        ss=0\n",
    "        for col in range(actual.shape[1]):\n",
    "            s += (actual[row, col] - predicted[row, col]) ** 2\n",
    "            ss+= (actual[row, col] - predicted[row, col]) ** 2\n",
    "            sMAE+= np.abs(actual[row, col] - predicted[row, col])\n",
    "            sMAPE+= np.abs((actual[row, col] - predicted[row, col])/actual[row, col])\n",
    "        RMSE1.append(sqrt(ss/actual.shape[1]))##每一组的RMSE\n",
    "    #print('RMSE1',RMSE1)\n",
    "    AllNum=actual.shape[0] * actual.shape[1]\n",
    "    AllRMSE = sqrt(s / AllNum)#计算所有值的RMSE\n",
    "    AllMSE = s / AllNum#计算所有值的RMSE\n",
    "    AllMAE =sMAE/AllNum\n",
    "    AllMAPE =sMAPE/AllNum  \n",
    "    name='[Num]/RMSE/MSE/MAE/MAPE'\n",
    "    SingPredictscores = list() \n",
    "    SingPredictscores.append(AllRMSE)\n",
    "    SingPredictscores.append(AllMSE)\n",
    "    SingPredictscores.append(AllMAE)\n",
    "    SingPredictscores.append(AllMAPE)\n",
    "    SingPredictscores = ', '.join(['%.1f' % s for s in SingPredictscores])\n",
    "    #print('AllNum,AllRMSE,AllMSE,AllMAPE,AllMAE',AllNum,AllRMSE,AllMSE,AllMAPE,AllMAE)\n",
    "    #print('%s: [%d] %s' % (name,AllNum,SingPredictscores))\n",
    "    return AllRMSE,scores,AllMSE,AllMAE,AllMAPE,AllNum\n",
    "\n",
    "###04 测试部分，预测结果的传统评价\n",
    "def  ValueTestArima(test_y,predictionspredList):\n",
    "    ###得到测试y值的原始值\n",
    "    test_y1=test_y.copy()## 对原始的array1的复制\n",
    "    for i in range(test_y1.shape[0]):\n",
    "        test_y1[i, :]=test_y1[i, :]#*(dfghu.iloc[dfghu.shape[0]-1,2]-dfghu.iloc[0,2])+dfghu.iloc[0,2]\n",
    "        #*(MaxValue-MinValue)+MinValue#不用求exp啦\n",
    "    PredictScresSet=list()\n",
    "    for preddd in predictionspredList:\n",
    "        for predictionspredI in preddd:\n",
    "            PredictScresSet.append([])\n",
    "            #score, scores = evaluate_forecasts1(test_y1[:, :], predictionspredI)\n",
    "            AllRMSE,scores,AllMSE,AllMAE,AllMAPE,AllNum=evaluate_forecasts1(test_y1[:, :], predictionspredI)\n",
    "            PredictScresSet[-1].append(AllRMSE)\n",
    "            PredictScresSet[-1].append(AllMSE)\n",
    "            PredictScresSet[-1].append(AllMAE)\n",
    "            PredictScresSet[-1].append(AllMAPE)\n",
    "            PredictScresSet[-1].append(AllNum)\n",
    "            #print('所有值的RMSE',score)\n",
    "            #summarize_scores('lstm', AllRMSE, scores)#总结分数\n",
    "            days = range(n_out) \n",
    "    return PredictScresSet"
   ]
  },
  {
   "cell_type": "markdown",
   "metadata": {},
   "source": [
    "## Convert to multi-step-ahead forecasted values"
   ]
  },
  {
   "cell_type": "code",
   "execution_count": 26,
   "metadata": {},
   "outputs": [],
   "source": [
    "#分成输入一天，输出一天\n",
    "def to_supervised2(data,  n_out):#数据裂变划分\n",
    "    #将所有数据转换为输入(X[..,len(x_input),1])、y[..,len(data[in_end:out_end, 0])]\n",
    "    X = list()\n",
    "    in_start = 0\n",
    "    for _ in range(len(data)):# 逐步遍历整个历史数据\n",
    "        in_end = in_start + n_out## 定义输入序列的结束点\n",
    "        if in_end < (len(data)+1):# 确保有足够的数据\n",
    "            x_input = data[in_start:in_end, 0]\n",
    "            #x_input = x_input.reshape((len(x_input), 1))\n",
    "            X.append(x_input)\n",
    "        #in_start += step    # 依次推进时间\n",
    "        in_start += 1    # 依次推进时间\n",
    "    return array(X)\n",
    "\n",
    "###00前期数据准备\n",
    "def DataPreprogress(label1):\n",
    "    #label1 = df.value[:].values #- init1#没必要取对数吧\n",
    "    label1=np.array(label1).reshape(len(label1),1)#1维变2维\n",
    "    Xx = to_supervised2(label1, n_out)#准备数据#00\n",
    "    return Xx"
   ]
  },
  {
   "cell_type": "code",
   "execution_count": 27,
   "metadata": {},
   "outputs": [
    {
     "name": "stdout",
     "output_type": "stream",
     "text": [
      "SplitNum 6960\n"
     ]
    }
   ],
   "source": [
    "SplitNum=int((d1_sale.shape[0]/int(24*60/abc))*0.7)*int(24*60/abc)-48*2##天数的百分之0.7,再乘以48,测试集的初始值\n",
    "print('SplitNum',SplitNum)\n",
    "SplitNum0=SplitNum#-n_input\n",
    "Datetest_x=d1_sale.iloc[(SplitNum0-3):(d1_sale.shape[0]-3),0]\n",
    "Datetest_x=DataPreprogress(Datetest_x)\n",
    "ForecastSet3=DataPreprogress(ArimaFSYCSet)\n",
    "TestSet3=DataPreprogress(TestSet31)\n",
    "Datetest_y=DataPreprogress(Datetest_y31)"
   ]
  },
  {
   "cell_type": "markdown",
   "metadata": {},
   "source": [
    "## Evaluation Metrics"
   ]
  },
  {
   "cell_type": "code",
   "execution_count": 28,
   "metadata": {},
   "outputs": [],
   "source": [
    "import numpy as np\n",
    "from sklearn import metrics\n",
    "# MAPE和SMAPE需要自己实现\n",
    "def mape(y_true, y_pred):\n",
    "    return np.mean(np.abs((y_pred - y_true) / y_true)) * 100\n",
    "def smape(y_true, y_pred):\n",
    "    return 2.0 * np.mean(np.abs(y_pred - y_true) / (np.abs(y_pred) + np.abs(y_true))) * 100\n",
    "def trimData(test_y1,predictionspred):### 求和\n",
    "    test_y=[]\n",
    "    predictions=[]\n",
    "    SumSW=0\n",
    "    for i in range(len(test_y1)):\n",
    "        sumtest=0\n",
    "        sumpred=0\n",
    "        for j in range(len(test_y1[i])):\n",
    "            sumtest+=test_y1[i][j]\n",
    "            sumpred+=predictionspred[i][j]\n",
    "        test_y.append(sumtest)\n",
    "        predictions.append(sumpred)\n",
    "    return np.array(test_y),np.array(predictions)\n",
    "\n",
    "def NewNewMSE0(test_y1,predictionspred):\n",
    "    predictionspred0=np.array(predictionspred) \n",
    "    RMSE,scores,MSE,MAE,MAPE,AllNum=evaluate_forecasts1(test_y1[:, :],predictionspred0)###这些没求和\n",
    "    a=5\n",
    "    MSE=round(MSE,2)\n",
    "    MAE=round(MAE,2)\n",
    "    return MSE,RMSE,MAE  \n",
    "\n",
    "def AccuracyResult_Single(LimitForecastResultLatest,NameStr,test_y1,SetData):\n",
    "    MSE,RMSE,MAE=NewNewMSE0(test_y1,SetData)\n",
    "    LimitForecastResultLatest0 = pd.DataFrame(columns = ['Name','RMSE','MAE'])\n",
    "    LimitForecastResultLatest0.loc[0,'Name']=NameStr\n",
    "    LimitForecastResultLatest0.loc[0,'RMSE']=RMSE\n",
    "    LimitForecastResultLatest0.loc[0,'MAE']=MAE\n",
    "  \n",
    "    LimitForecastResultLatest=pd.concat([LimitForecastResultLatest,LimitForecastResultLatest0], axis=0, ignore_index=True)#axis:合并方式，默认0表示按列合并，1表示按行合并;ignore_index:是否忽略索引                   \n",
    "    #display(LimitForecastResultLatest.tail(1))\n",
    "    return LimitForecastResultLatest"
   ]
  },
  {
   "cell_type": "code",
   "execution_count": 29,
   "metadata": {},
   "outputs": [
    {
     "data": {
      "text/html": [
       "<div>\n",
       "<style scoped>\n",
       "    .dataframe tbody tr th:only-of-type {\n",
       "        vertical-align: middle;\n",
       "    }\n",
       "\n",
       "    .dataframe tbody tr th {\n",
       "        vertical-align: top;\n",
       "    }\n",
       "\n",
       "    .dataframe thead th {\n",
       "        text-align: right;\n",
       "    }\n",
       "</style>\n",
       "<table border=\"1\" class=\"dataframe\">\n",
       "  <thead>\n",
       "    <tr style=\"text-align: right;\">\n",
       "      <th></th>\n",
       "      <th>Name</th>\n",
       "      <th>RMSE</th>\n",
       "      <th>MAE</th>\n",
       "    </tr>\n",
       "  </thead>\n",
       "  <tbody>\n",
       "    <tr>\n",
       "      <th>0</th>\n",
       "      <td>Arima</td>\n",
       "      <td>321.172</td>\n",
       "      <td>240.27</td>\n",
       "    </tr>\n",
       "  </tbody>\n",
       "</table>\n",
       "</div>"
      ],
      "text/plain": [
       "    Name     RMSE     MAE\n",
       "0  Arima  321.172  240.27"
      ]
     },
     "metadata": {},
     "output_type": "display_data"
    }
   ],
   "source": [
    "LimitForecastResultLatest = pd.DataFrame(columns = ['Name','RMSE','MAE'])\n",
    "NameStr='Arima'\n",
    "yhat_sequence1=TestSet3\n",
    "NewForecastSet11=ForecastSet3#每天更新参数\n",
    "#NewForecastSet11=y_predict[:len(yhat_sequence1)]#不更新参数\n",
    "#print('00NewForecastSet11',NewForecastSet11)#测试值\n",
    "###预测值格式化\n",
    "predictionspredList=[]#得到多个分位数预测模型、不同重复次数下的预测值集合（predictionspredList）\n",
    "predictionspredList.append([])\n",
    "predictionspredList[-1].append([])\n",
    "for ij in range(len(NewForecastSet11)):\n",
    "    for h in range(len(NewForecastSet11[ij])):\n",
    "        NewForecastSet11[ij][h]=NewForecastSet11[ij][h]#*(dfghu.iloc[dfghu.shape[0]-1,2]-dfghu.iloc[0,2])+dfghu.iloc[0,2]\n",
    "        #*(MaxValue-MinValue)+MinValue\n",
    "    #print('原值',NewForecastSet1[ij]*(MaxValue-MinValue)+MinValue)\n",
    "    predictionspredList[-1][-1].append(NewForecastSet11[ij])               \n",
    "predictionspredList[-1][-1] = array(predictionspredList[-1][-1])#list转换为数组\n",
    "###04 测试部分，预测结果的传统评价\n",
    "ArimaPredictScresSet0=ValueTestArima(np.array(yhat_sequence1),np.array(predictionspredList))\n",
    "\n",
    "test_y1=np.array(yhat_sequence1).copy()## 对原始的array1的复制\n",
    "for i in range(test_y1.shape[0]):\n",
    "    test_y1[i, :]=test_y1[i, :]#*(MaxValue-MinValue)+MinValue#不用求exp啦\n",
    "\n",
    "LimitForecastResultLatest=AccuracyResult_Single(LimitForecastResultLatest,NameStr,test_y1,predictionspredList[-1][0])\n",
    "display(LimitForecastResultLatest.head(10))"
   ]
  },
  {
   "cell_type": "markdown",
   "metadata": {},
   "source": [
    "# Determine total cost and service level"
   ]
  },
  {
   "cell_type": "code",
   "execution_count": 30,
   "metadata": {},
   "outputs": [
    {
     "data": {
      "text/html": [
       "<div>\n",
       "<style scoped>\n",
       "    .dataframe tbody tr th:only-of-type {\n",
       "        vertical-align: middle;\n",
       "    }\n",
       "\n",
       "    .dataframe tbody tr th {\n",
       "        vertical-align: top;\n",
       "    }\n",
       "\n",
       "    .dataframe thead th {\n",
       "        text-align: right;\n",
       "    }\n",
       "</style>\n",
       "<table border=\"1\" class=\"dataframe\">\n",
       "  <thead>\n",
       "    <tr style=\"text-align: right;\">\n",
       "      <th></th>\n",
       "      <th>timestamp</th>\n",
       "      <th>value</th>\n",
       "      <th>Date</th>\n",
       "      <th>MinuteLabel</th>\n",
       "    </tr>\n",
       "  </thead>\n",
       "  <tbody>\n",
       "    <tr>\n",
       "      <th>0</th>\n",
       "      <td>2020-06-01 00:30:00</td>\n",
       "      <td>18.46</td>\n",
       "      <td>2020-06-01</td>\n",
       "      <td>0</td>\n",
       "    </tr>\n",
       "    <tr>\n",
       "      <th>1</th>\n",
       "      <td>2020-06-01 01:00:00</td>\n",
       "      <td>105.28</td>\n",
       "      <td>2020-06-01</td>\n",
       "      <td>1</td>\n",
       "    </tr>\n",
       "  </tbody>\n",
       "</table>\n",
       "</div>"
      ],
      "text/plain": [
       "            timestamp   value        Date  MinuteLabel\n",
       "0 2020-06-01 00:30:00   18.46  2020-06-01            0\n",
       "1 2020-06-01 01:00:00  105.28  2020-06-01            1"
      ]
     },
     "metadata": {},
     "output_type": "display_data"
    }
   ],
   "source": [
    "ReStartStock=60000#44128#34475#13790#该变量表示补货到达后的初始库存，1吨92#汽油=1379L\n",
    "IntervalT=n_input/2\n",
    "#print('IntervalT',IntervalT)\n",
    "#print('ReStartStock',ReStartStock)\n",
    "#print('Datetest_y[0]',Datetest_y[0])\n",
    "#先把真实的数据中的test之后的搞过来\n",
    "#print(Datetest_y[0])\n",
    "#print(Datetest_y[-1])\n",
    "display(d1_sale.head(2))\n",
    "SplitNum=int((d1_sale.shape[0]/int(24*60/abc))*0.7)*int(24*60/abc-n_input-48*2)##天数的百分之0.7,再乘以48,测试集的初始值\n",
    "#print('SplitNum',SplitNum)\n",
    "SplitNum0=SplitNum#-n_input\n",
    "#print(d1_sale.iloc[SplitNum0-3,0])\n",
    "#print('pd.to_datetime(Datetest_y[0][0][0])',pd.to_datetime(Datetest_y[0][0]))\n",
    "df_test1  = d1_sale[(pd.to_datetime(d1_sale.timestamp)>=pd.to_datetime(Datetest_x[0][0]))]#df是按照单位时间（abc）聚合后的所有数据\n",
    "#df_test1  = d1_sale[(pd.to_datetime(d1_sale.timestamp)>=pd.to_datetime(d1_sale.iloc[SplitNum0-3,0]))]#df是按照单位时间（abc）聚合后的所有数据\n",
    "\n",
    "df_test1.index = pd.DatetimeIndex(df_test1['timestamp'])\n",
    "#print('df_test1')\n",
    "TestDFStockOut1=DFStockOut[(DFStockOut.timestamp>=pd.to_datetime(Datetest_y[0][0]))]\n",
    "TestDFStockOut1.index = pd.DatetimeIndex(TestDFStockOut1['timestamp'])\n",
    "#print('TestDFStockOut1')\n",
    "#display(DFStockOut.tail(5))"
   ]
  },
  {
   "cell_type": "code",
   "execution_count": 31,
   "metadata": {},
   "outputs": [
    {
     "data": {
      "text/html": [
       "<div>\n",
       "<style scoped>\n",
       "    .dataframe tbody tr th:only-of-type {\n",
       "        vertical-align: middle;\n",
       "    }\n",
       "\n",
       "    .dataframe tbody tr th {\n",
       "        vertical-align: top;\n",
       "    }\n",
       "\n",
       "    .dataframe thead th {\n",
       "        text-align: right;\n",
       "    }\n",
       "</style>\n",
       "<table border=\"1\" class=\"dataframe\">\n",
       "  <thead>\n",
       "    <tr style=\"text-align: right;\">\n",
       "      <th></th>\n",
       "      <th>timestamp</th>\n",
       "      <th>value</th>\n",
       "      <th>Date</th>\n",
       "      <th>Hour</th>\n",
       "      <th>Minute</th>\n",
       "      <th>OurLeaveStock</th>\n",
       "      <th>OurBuHuoStart</th>\n",
       "    </tr>\n",
       "    <tr>\n",
       "      <th>timestamp</th>\n",
       "      <th></th>\n",
       "      <th></th>\n",
       "      <th></th>\n",
       "      <th></th>\n",
       "      <th></th>\n",
       "      <th></th>\n",
       "      <th></th>\n",
       "    </tr>\n",
       "  </thead>\n",
       "  <tbody>\n",
       "    <tr>\n",
       "      <th>2020-12-31 23:30:00</th>\n",
       "      <td>2020-12-31 23:30:00</td>\n",
       "      <td>288.83</td>\n",
       "      <td>2020-12-31</td>\n",
       "      <td>23</td>\n",
       "      <td>30</td>\n",
       "      <td>60000</td>\n",
       "      <td>0</td>\n",
       "    </tr>\n",
       "    <tr>\n",
       "      <th>2020-12-31 23:59:00</th>\n",
       "      <td>2020-12-31 23:59:00</td>\n",
       "      <td>76.19</td>\n",
       "      <td>2020-12-31</td>\n",
       "      <td>23</td>\n",
       "      <td>59</td>\n",
       "      <td>60000</td>\n",
       "      <td>0</td>\n",
       "    </tr>\n",
       "  </tbody>\n",
       "</table>\n",
       "</div>"
      ],
      "text/plain": [
       "                              timestamp   value        Date  Hour  Minute  \\\n",
       "timestamp                                                                   \n",
       "2020-12-31 23:30:00 2020-12-31 23:30:00  288.83  2020-12-31    23      30   \n",
       "2020-12-31 23:59:00 2020-12-31 23:59:00   76.19  2020-12-31    23      59   \n",
       "\n",
       "                     OurLeaveStock  OurBuHuoStart  \n",
       "timestamp                                          \n",
       "2020-12-31 23:30:00          60000              0  \n",
       "2020-12-31 23:59:00          60000              0  "
      ]
     },
     "metadata": {},
     "output_type": "display_data"
    }
   ],
   "source": [
    "###预测值减100\n",
    "predictionspredList11=[]\n",
    "for i in range(len(predictionspredList)):\n",
    "    predictionspredList11.append([])\n",
    "    for j in range(len(predictionspredList[i])):\n",
    "        predictionspredList11[-1].append([])\n",
    "        for k in range(len(predictionspredList[i][j])):\n",
    "            predictionspredList11[-1][-1].append([])\n",
    "            #print('predictionspredList[i][j][k]',predictionspredList[i][j][k])\n",
    "            for ij in range(len(predictionspredList[i][j][k])):\n",
    "                predictionspredList11[-1][-1][-1].append(0)\n",
    "                predictionspredList11[i][j][k][ij]=predictionspredList[i][j][k][ij]#-100#前面减了100，得减一下\n",
    "                #predictionspredList11[i][j][k][ij]=predictionspredList[i][j][k][ij]-100#销量的预测值\"\"\"\n",
    "\n",
    "df_testXX=df_test1.iloc[:,0:3]#Date列、以及UnitSales列\n",
    "#df_testXX['value']=df_testXX['value'].apply(lambda x: x-100)#减去加的那100\n",
    "df_testXX['value']=df_testXX['value'].apply(lambda x: x)#减去加的那100\n",
    "df_testXX['timestamp'] = pd.to_datetime(df_testXX['timestamp'])#为什么成了选取偶数\n",
    "df_testXX['Hour'] = df_testXX['timestamp'].dt.hour.astype(\"int\") #转化提取分钟\n",
    "df_testXX['Minute'] = df_testXX['timestamp'].dt.minute.astype(\"int\") #转化提取分钟\n",
    "##固定参数，取值不会发生变化\n",
    "ReStartStock=60000#44128#34475#13790#该变量表示补货到达后的初始库存，1吨92#汽油=1379L\n",
    "IntervalT=1.5#表示补货到达所需时间\n",
    "\n",
    "c1=1#c1表示消耗量所在列\n",
    "a1=df_testXX.shape[1]\n",
    "df_testXX['OurLeaveStock']=df_testXX['timestamp'].apply(lambda x : ReStartStock)#5\n",
    "b1=a1+1\n",
    "df_testXX['OurBuHuoStart']=df_testXX['timestamp'].apply(lambda x : 0)#补货触发时刻7\n",
    "display(df_testXX.tail(2))#按照单位时间聚合"
   ]
  },
  {
   "cell_type": "code",
   "execution_count": 32,
   "metadata": {},
   "outputs": [],
   "source": [
    "###参数更新\n",
    "def updateCanShu(DHCS1,df_testXX,mm,IntervalT,ReStartStock,a1,NewTC0,NoOS):#更新参数的自定义函数\n",
    "    NoOS+=1#\n",
    "    ActualTimeOS=0\n",
    "    PredictTimeOS=df_testXX.iloc[mm+3,0]#预测的缺货时刻\n",
    "    ActualDate=0\n",
    "    DHCS1=DHCS1+1\n",
    "    #tt=df_testXX.iloc[mm,3]+df_testXX.iloc[mm,4]/60+IntervalT##tt表示补货到达时刻\n",
    "    if df_testXX.iloc[mm,3]+df_testXX.iloc[mm,4]/60==23+(59/60):       \n",
    "        tt=0+IntervalT##tt表示补货到达时刻\n",
    "        ###11###print('00中tt',tt)\n",
    "    else:\n",
    "        tt= df_testXX.iloc[mm,3]+df_testXX.iloc[mm,4]/60+IntervalT##tt表示补货到达时刻\n",
    "        ###11###print('11中tt',tt)\n",
    "    dd=1\n",
    "    BHVolume=ReStartStock-df_testXX.iloc[mm,a1]#补货量10000-当前库存水平\n",
    "    NewTC0=NewTC0+Dcc0#订购一次1500元\n",
    "    return DHCS1,tt,dd,BHVolume,NewTC0,NoOS,PredictTimeOS,ActualTimeOS, ActualDate\n",
    "###变动的参数\n",
    "hh=1100/(365*24*1378)# 1吨≈1378L，持有成本1100元/吨/年\n",
    "tt=0#表示补货时间\n",
    "DHCS1=0#表示订货次数\n",
    "NoOfStockout0=0\n",
    "dd=0\n",
    "###计算库存成本相关的参数\n",
    "tt1=df_testXX.iloc[0,0]#表示上一次补货到达时刻\n",
    "ReStartStock00=ReStartStock##初始化周期初，库存水平\n",
    "NewTC0=0\n",
    "global Dcc0\n",
    "Dcc0=150#一次订购成本\n",
    "##生成缺货情况表\n",
    "dfTimeOutOfStock= pd.DataFrame(columns=('No', 'PredictTime','ActualDate', 'ActualTime','InventoryLevel'))\n",
    "NoOS=-1#\n",
    "InventoryLevel=0#补货到达时，库存水平\n",
    "PredictTimeOS=0#预测的缺货时刻\n",
    "ActualDate=0\n",
    "ActualTimeOS=0#实际缺货时刻\n",
    "####第一组,重新计算剩余库存以初始化\n",
    "for i in range(len(Datetest_x[0])):\n",
    "    if i==0:\n",
    "        df_testXX.iloc[i,a1]=df_testXX.iloc[i,a1]-df_testXX.iloc[i,c1]\n",
    "    else:             \n",
    "        df_testXX.iloc[i,a1]=df_testXX.iloc[i-1,a1]-df_testXX.iloc[i,c1]#表示剩余库存水平#\n",
    "###11###print('df_testXX.iloc[mm,a1]',df_testXX.iloc[0,a1])\n",
    "mm=i#初始化mm.注，预测的是Datetest_y，其对应的第一组值为 [['2017-03-11T01:30:00.000000000' '2017-03-11T02:00:00.000000000' '2017-03-11T02:30:00.000000000']\n",
    "###我的预测方法下预测的缺货时间\n",
    "###11###print('我的预测方法下预测的缺货时间')\n",
    "for k in range(1,len(predictionspredList[-1][0]),1): ##除了第一组，后面只取预测的第一个值\n",
    "\n",
    "##00未来需求的求和，对应step3                \n",
    "    SumDemand=0##SumDemand表示未来1个时段内的总需求\n",
    "    for h in range(len(predictionspredList11[-1][0][k])):\n",
    "        SumDemand=SumDemand+predictionspredList11[-1][0][k][h]       \n",
    "    SumDemandPus1=SumDemand#SumDemandPus1表示未来2个时段内的总需求\n",
    "    if k==len(predictionspredList[-1][0])-1:\n",
    "        SumDemandPus1= SumDemandPus1+0#如果是最后一个则+0\n",
    "    else:\n",
    "        #print('predictionspredList11[-1][0]',len(predictionspredList11[-1][0]))\n",
    "        #print('predictionspredList[-1][0]',len(predictionspredList[-1][0]))\n",
    "        SumDemandPus1= SumDemandPus1+predictionspredList11[-1][0][k+1][-1]#只需向前多滚动一个单位时间即可\n",
    "###01对应缺货时间判断        \n",
    "    if SumDemand>=df_testXX.iloc[mm,a1] and tt==0:#tt=0表示首次补货\n",
    "         ###11###print('\\033[0;36m前期没做好，来不及实施应急补货，\\033[0m')\n",
    "         ###11###display(df_testXX.iloc[mm,0])\n",
    "         DHCS1,tt,dd,BHVolume,NewTC0,NoOS,PredictTimeOS,ActualTimeOS,ActualDate=updateCanShu(DHCS1,df_testXX,mm,IntervalT,ReStartStock,a1,NewTC0,NoOS)\n",
    "    else:\n",
    "            if SumDemandPus1>df_testXX.iloc[mm,a1] and tt==0:#（2）去掉了=\n",
    "                     ###11###print('\\033[0;32m不能满足SumDemandPus1导致的缺货时间00为\\033[0m',df_testXX.iloc[mm,0])                 \n",
    "\n",
    "                     DHCS1,tt,dd,BHVolume,NewTC0,NoOS,PredictTimeOS,ActualTimeOS,ActualDate=updateCanShu(DHCS1,df_testXX,mm,IntervalT,ReStartStock,a1,NewTC0,NoOS)\n",
    "            else:\n",
    "\n",
    "                TestDFStockOut2 = DFStockOut[(DFStockOut.timestamp==pd.to_datetime(df_testXX.iloc[mm+1,0]))]#mm确实应该加1###TestDFStockOut2表示未来第一个时段内的所有真实需求\n",
    "                ###TestDFStockOut2表示未来第一个时段内的所有真实需求\n",
    "                TestDFStockOut2 = TestDFStockOut2.sort_values(by=['timestamp'],ascending=[True])#排序\n",
    "                singleSumDemand=0\n",
    "                for ii in range(TestDFStockOut2.shape[0]):\n",
    "                    singleSumDemand=singleSumDemand+TestDFStockOut2.iloc[ii,3]\n",
    "                    if singleSumDemand>=predictionspredList11[-1][0][k][0]:#未未来第一个时段内的预测需求\n",
    "                        if df_testXX.iloc[mm,a1]-singleSumDemand <= (SumDemandPus1-singleSumDemand )and tt==0:                            \n",
    "                        ##现在是按照阶段更新的，如何把实时和时段结合，把该时段的剩余部分忽略\n",
    "                            ##如果现在的库存水平支撑不了未来（当前库存水平<剩余未来时段预测总量），则此刻抓紧(当前库存水平-已经发生的库存消耗量<=剩下两端的库存消耗量)\n",
    "                             ###11###print('事件驱动下的缺货时间11为',TestDFStockOut2.iloc[ii,0], TestDFStockOut2.iloc[ii,1])\n",
    "                             NoOS+=1\n",
    "                             PredictTimeOS=TestDFStockOut2.iloc[ii+3,-1]\n",
    "                             DHCS1=DHCS1+1\n",
    "                             NewTC0=NewTC0+Dcc0\n",
    "                             tt=TestDFStockOut2.iloc[ii,2]+IntervalT#补货到达时间\n",
    "                             ActualTimeOS=0\n",
    "                             ActualDate=0\n",
    "                             dd=1\n",
    "                             BHVolume=ReStartStock-(df_testXX.iloc[mm,a1]-singleSumDemand)#补货量\n",
    "                             continue#出现了缺货时间后，这部分就可以不用继续拉                       \n",
    "##02获得实际缺货的时间（主要是防止真实需求的波动性，可能会导致缺货时间发生在补货到达前）\n",
    "    if tt!=0 and dd==1:##dd==0 or 1用来调节 缺货时间只有一个，库存水平后面不能继续为负\n",
    "        #if tt>=24.0:#补货到达时间24和0的问题\n",
    "            #tt=tt-24-0.0001#对于24、24.5等情况的处理\n",
    "        TestDFStockOut3 = DFStockOut[(DFStockOut.timestamp==pd.to_datetime(df_testXX.iloc[mm+1,0]))]###TestDFStockOut2表示未来第一个时段内的所有真实需求\n",
    "        TestDFStockOut3 = TestDFStockOut3.sort_values(by=['timestamp'],ascending=[True])#排序\n",
    "        singleSumDemand1=0\n",
    "        for ii in range(TestDFStockOut3.shape[0]):\n",
    "            singleSumDemand1=singleSumDemand1+TestDFStockOut3.iloc[ii,3]\n",
    "            if df_testXX.iloc[mm,a1]-singleSumDemand1 <= 0 and dd==1:\n",
    "                NoOfStockout0=NoOfStockout0+1#该参数表示实际缺货次数\n",
    "                ###11###print('\\033[0;35m实际缺货时间是\\033[0m',TestDFStockOut3.iloc[ii,0], TestDFStockOut3.iloc[ii,1])\n",
    "                ActualTimeOS= TestDFStockOut3.iloc[ii,1]\n",
    "                ActualDate= TestDFStockOut3.iloc[ii,0]\n",
    "                ###11###print('此时的库存水平',df_testXX.iloc[mm,a1]-singleSumDemand1) \n",
    "                dd=2#用来调节库存最小为0，不能为负\n",
    "\n",
    "###03 该部分类似于更新，补货到达事件和库存消耗事件  \n",
    "    mm=mm+1#向前滚动一个时间单位, 应该放到最后\n",
    "    BJtt = df_testXX.iloc[mm,3]+ df_testXX.iloc[mm,4]/60   #转化为实数版本的小时  \n",
    "    if tt!=0: ###补货到达 （BJtt为大于tt的最小时间）\n",
    "        if tt>=24.0:###对于补货到达时间是24.5、25等情况怎么处理\n",
    "            if BJtt==23+(59/60):\n",
    "                tt=tt-24\n",
    "                BJtt=0\n",
    "                ###11###print('补货到达时刻为',df_testXX.iloc[mm,0], BJtt)##tt才是补货到达时刻\n",
    "                ###11###print('tt',tt)##tt才是补货到达时刻\n",
    "        if tt<=BJtt: ###补货到达 （BJtt为大于tt的最小时间）\n",
    "        #if tt!=0 and tt<=BJtt: ###补货到达 （BJtt为大于tt的最小时间）\n",
    "            ###11###print('补货到达时刻为',df_testXX.iloc[mm,0], BJtt)\n",
    "            if dd==2:\n",
    "                 ###11###print('\\033[5;35m之前出现了缺货，但货物在该时间戳内到达\\033[0m')#说明前面就出现了缺货,即(df_testXX.iloc[mm-1,a1]-df_testXX.iloc[mm,c1]<0)，而库存水平≥0，所以令其为0\n",
    "                 df_testXX.iloc[mm-1,a1]=0\n",
    "                 #df_testXX.iloc[mm,a1]=0+BHVolume\n",
    "                 df_testXX.iloc[mm,a1]=ReStartStock\n",
    "                 InventoryLevel=0\n",
    "                 TimeOfDiff=(((df_testXX.iloc[mm,0]-tt1).days)*24+(((df_testXX.iloc[mm,0]-tt1).seconds)/60)/60)#两次补货之间的时间差\n",
    "                 CYC00=hh*TimeOfDiff*((ReStartStock00+(df_testXX.iloc[mm-1,a1]))/2)#持有成本\n",
    "            else:#补货到达后的库存水平变化\n",
    "                #df_testXX.iloc[mm,a1]=df_testXX.iloc[mm-1,a1]-df_testXX.iloc[mm,c1]+BHVolume\n",
    "                df_testXX.iloc[mm,a1]=ReStartStock\n",
    "                InventoryLevel=df_testXX.iloc[mm-1,a1]-df_testXX.iloc[mm,c1]\n",
    "                TimeOfDiff=(((df_testXX.iloc[mm,0]-tt1).days)*24+(((df_testXX.iloc[mm,0]-tt1).seconds)/60)/60)#两次补货之间的时间差\n",
    "                CYC00=hh* TimeOfDiff*((ReStartStock00+(df_testXX.iloc[mm-1,a1]-df_testXX.iloc[mm,c1]))/2)#持有成本\n",
    "\n",
    "            ###11###print('No\\PredictTim\\\\ActualDate\\ActualTime\\InventoryLevel',NoOS, PredictTimeOS,ActualDate,ActualTimeOS,InventoryLevel)\n",
    "            new=pd.DataFrame({'No':NoOS, 'PredictTime':PredictTimeOS,'ActualDate':ActualDate,'ActualTime':ActualTimeOS,'InventoryLevel':InventoryLevel},index=[1]) \n",
    "            dfTimeOutOfStock=dfTimeOutOfStock.append(new,ignore_index=True) \n",
    "\n",
    "            ReStartStock00=df_testXX.iloc[mm,a1]#变量ReStartStock00表示新周期的初始库存\n",
    "            tt1=df_testXX.iloc[mm,0]#代表上一次补货时+\n",
    "            NewTC0=NewTC0+CYC00\n",
    "            tt=0   \n",
    "            dd=0#用以表示    \n",
    "        else: ###没发出补货或者补货没有到达\n",
    "            if dd==2:###库存水平降为0\n",
    "                ###11###print('\\033[1;35m出现了缺货，但货物还没到达\\033[0m')\n",
    "                df_testXX.iloc[mm,a1]=0##说明前面就出现了缺货，系统停止，库存水平为0\n",
    "                continue#说明实际到了缺货时间，系统停止，下面循环不用走\n",
    "            else:##事件驱动库存消耗\n",
    "                df_testXX.iloc[mm,a1]=df_testXX.iloc[mm-1,a1]-df_testXX.iloc[mm,c1]#因为是滚动一个单位向前的，所以要这样 \n",
    "    else: ###没发出补货或者补货没有到达\n",
    "            if dd==2:###库存水平降为0\n",
    "                ###11###print('\\033[1;35m出现了缺货，但货物还没到达\\033[0m')\n",
    "                df_testXX.iloc[mm,a1]=0##说明前面就出现了缺货，系统停止，库存水平为0\n",
    "                continue#说明实际到了缺货时间，系统停止，下面循环不用走\n",
    "            else:##事件驱动库存消耗\n",
    "                df_testXX.iloc[mm,a1]=df_testXX.iloc[mm-1,a1]-df_testXX.iloc[mm,c1]#因为是滚动一个单位向前的，所以要这样 \n",
    "    if k==len(predictionspredList[-1][0])-1:\n",
    "            InventoryLevel=max(df_testXX.iloc[mm-1,a1]-df_testXX.iloc[mm,c1],0)\n",
    "            TimeOfDiff=(((df_testXX.iloc[mm,0]-tt1).days)*24+(((df_testXX.iloc[mm,0]-tt1).seconds)/60)/60)#两次补货之间的时间差\n",
    "            CYC00=hh* TimeOfDiff*((ReStartStock00+InventoryLevel)/2)#持有成本\n",
    "            NewTC0=NewTC0+CYC00\n",
    "#display(dfTimeOutOfStock.head(10))\n",
    "dfTimeOutOfStock.to_csv('Arima--92H+0.99OurMethoddfTimeOutOfStock.csv')"
   ]
  },
  {
   "cell_type": "code",
   "execution_count": 33,
   "metadata": {},
   "outputs": [
    {
     "data": {
      "text/html": [
       "<div>\n",
       "<style scoped>\n",
       "    .dataframe tbody tr th:only-of-type {\n",
       "        vertical-align: middle;\n",
       "    }\n",
       "\n",
       "    .dataframe tbody tr th {\n",
       "        vertical-align: top;\n",
       "    }\n",
       "\n",
       "    .dataframe thead th {\n",
       "        text-align: right;\n",
       "    }\n",
       "</style>\n",
       "<table border=\"1\" class=\"dataframe\">\n",
       "  <thead>\n",
       "    <tr style=\"text-align: right;\">\n",
       "      <th></th>\n",
       "      <th>name</th>\n",
       "      <th>Number of replenishment</th>\n",
       "      <th>Inventory Cost</th>\n",
       "      <th>Delivery Cost</th>\n",
       "      <th>Total Cost</th>\n",
       "      <th>Number of Stock-out</th>\n",
       "      <th>SL</th>\n",
       "    </tr>\n",
       "  </thead>\n",
       "  <tbody>\n",
       "    <tr>\n",
       "      <th>0</th>\n",
       "      <td>Arima Method</td>\n",
       "      <td>38</td>\n",
       "      <td>10085</td>\n",
       "      <td>11571</td>\n",
       "      <td>21656</td>\n",
       "      <td>4</td>\n",
       "      <td>93.85</td>\n",
       "    </tr>\n",
       "  </tbody>\n",
       "</table>\n",
       "</div>"
      ],
      "text/plain": [
       "           name Number of replenishment Inventory Cost Delivery Cost  \\\n",
       "0  Arima Method                      38          10085         11571   \n",
       "\n",
       "  Total Cost Number of Stock-out     SL  \n",
       "0      21656                   4  93.85  "
      ]
     },
     "metadata": {},
     "output_type": "display_data"
    }
   ],
   "source": [
    "ComparResultdf = pd.DataFrame(columns = ['Number of replenishment','Inventory Cost','Delivery Cost','Total Cost','Number of Stock-out']) \n",
    "ComparResultdf1 = pd.DataFrame(columns=['name','Number of replenishment','Inventory Cost','Delivery Cost','Total Cost','Number of Stock-out'])\n",
    "ComparResultdf1.loc[0,'name']='Arima Method'\n",
    "ComparResultdf1.loc[0,'Number of replenishment']=DHCS1\n",
    "ComparResultdf1.loc[0,'Inventory Cost']=round(NewTC0,2)\n",
    "ComparResultdf1.loc[0,'Delivery Cost']=round(DHCS1*(213+1.83*50),2)\n",
    "ComparResultdf1.loc[0,'Total Cost']=round(NewTC0+DHCS1*(213+1.83*50),2)\n",
    "ComparResultdf1.loc[0,'Number of Stock-out']=NoOfStockout0\n",
    "ComparResultdf1.loc[0,'SL']=round(100*((65-NoOfStockout0)/65),2)\n",
    "ComparResultdf=ComparResultdf1\n",
    "display(ComparResultdf.head(9))"
   ]
  },
  {
   "cell_type": "code",
   "execution_count": null,
   "metadata": {},
   "outputs": [],
   "source": []
  }
 ],
 "metadata": {
  "kernelspec": {
   "display_name": "Python 3",
   "language": "python",
   "name": "python3"
  },
  "language_info": {
   "codemirror_mode": {
    "name": "ipython",
    "version": 3
   },
   "file_extension": ".py",
   "mimetype": "text/x-python",
   "name": "python",
   "nbconvert_exporter": "python",
   "pygments_lexer": "ipython3",
   "version": "3.6.4"
  },
  "toc": {
   "base_numbering": 1,
   "nav_menu": {},
   "number_sections": true,
   "sideBar": true,
   "skip_h1_title": false,
   "title_cell": "Table of Contents",
   "title_sidebar": "Contents",
   "toc_cell": false,
   "toc_position": {
    "height": "calc(100% - 180px)",
    "left": "10px",
    "top": "150px",
    "width": "164px"
   },
   "toc_section_display": true,
   "toc_window_display": true
  }
 },
 "nbformat": 4,
 "nbformat_minor": 2
}
